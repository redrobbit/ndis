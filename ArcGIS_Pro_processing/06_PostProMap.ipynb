{
 "cells": [
  {
   "cell_type": "code",
   "execution_count": 1,
   "metadata": {},
   "outputs": [],
   "source": [
    "from arcgis.gis import GIS\n",
    "gis = GIS(\"home\")"
   ]
  },
  {
   "cell_type": "code",
   "execution_count": 2,
   "metadata": {},
   "outputs": [],
   "source": [
    "%matplotlib inline\n",
    "#ArcGIS packages\n",
    "import arcpy\n",
    "#from arcgis.mapping import WebScene\n",
    "from arcgis.gis import GIS\n",
    "from arcgis.features import FeatureLayer\n",
    "from IPython.display import display\n",
    "\n",
    "from arcgis.features import GeoAccessor\n",
    "from arcgis import *\n",
    "from arcpy.sa import Raster, Int  # Raster float to integer\n",
    "# Raster processing for dataframe\n",
    "from rasterstats import zonal_stats\n",
    "\n",
    "# basic packages\n",
    "import csv\n",
    "import numpy as np\n",
    "import os\n",
    "import timeit\n",
    "import random\n",
    "import string\n",
    "from pprint import pprint\n",
    "import math\n",
    "\n",
    "# Data management\n",
    "import pandas as pd\n",
    "import geopandas as gpd\n",
    "from shapely.geometry import Point  # to get points from long lat\n",
    "import gc\n",
    "import shutil\n",
    "import tempfile\n",
    "import ast\n",
    "from collections import Counter\n",
    "from typing import Optional, List\n",
    "\n",
    "# Request service\n",
    "#from requests import Request\n",
    "import json\n",
    "import re\n",
    "from functools import reduce\n",
    "#from owslib.wfs import WebFeatureService\n",
    "\n",
    "# Plotting packages\n",
    "import matplotlib.pyplot as plt\n",
    "import seaborn as sns\n",
    "\n",
    "# Machine learning packages\n",
    "from sklearn.tree import DecisionTreeClassifier\n",
    "from sklearn.model_selection import train_test_split\n",
    "from sklearn.metrics import classification_report, accuracy_score\n",
    "from sklearn.preprocessing import LabelEncoder\n",
    "from sklearn.metrics import confusion_matrix\n",
    "from sklearn.metrics import ConfusionMatrixDisplay\n",
    "from sklearn.tree import export_text\n",
    "from sklearn.model_selection import cross_val_score\n",
    "from sklearn.preprocessing import MinMaxScaler\n",
    "import warnings\n",
    "import multiprocessing\n",
    "from collections import Counter\n",
    "from sklearn.ensemble import RandomForestClassifier, HistGradientBoostingClassifier\n",
    "\n",
    "# To save the model and everything else to be API ready\n",
    "import joblib\n",
    "import pickle"
   ]
  },
  {
   "cell_type": "code",
   "execution_count": 3,
   "metadata": {},
   "outputs": [
    {
     "name": "stdout",
     "output_type": "stream",
     "text": [
      "<class 'pandas.core.frame.DataFrame'>\n",
      "RangeIndex: 71 entries, 0 to 70\n",
      "Data columns (total 29 columns):\n",
      " #   Column              Non-Null Count  Dtype  \n",
      "---  ------              --------------  -----  \n",
      " 0   rpas_id             71 non-null     int64  \n",
      " 1   country             71 non-null     object \n",
      " 2   manufacturer        71 non-null     object \n",
      " 3   mfc_model           71 non-null     object \n",
      " 4   mtow                70 non-null     float64\n",
      " 5   length              65 non-null     float64\n",
      " 6   width               66 non-null     float64\n",
      " 7   height              60 non-null     float64\n",
      " 8   max_speed           69 non-null     float64\n",
      " 9   distance_range      71 non-null     int64  \n",
      " 10  flight_time         70 non-null     float64\n",
      " 11  max_payload_weight  70 non-null     float64\n",
      " 12  max_alt             47 non-null     float64\n",
      " 13  comm_range          62 non-null     float64\n",
      " 14  power_source        69 non-null     object \n",
      " 15  power               59 non-null     object \n",
      " 16  gps_accuracy        46 non-null     object \n",
      " 17  engine              62 non-null     object \n",
      " 18  configuration       71 non-null     object \n",
      " 19  flight_cont         53 non-null     object \n",
      " 20  materials           50 non-null     object \n",
      " 21  min_op_temp         56 non-null     float64\n",
      " 22  max_op_temp         55 non-null     float64\n",
      " 23  oas                 54 non-null     object \n",
      " 24  price               44 non-null     float64\n",
      " 25  reg                 63 non-null     object \n",
      " 26  def_payload         70 non-null     object \n",
      " 27  purpose             69 non-null     object \n",
      " 28  source              42 non-null     object \n",
      "dtypes: float64(12), int64(2), object(15)\n",
      "memory usage: 16.2+ KB\n",
      "<class 'pandas.core.frame.DataFrame'>\n",
      "RangeIndex: 12 entries, 0 to 11\n",
      "Data columns (total 5 columns):\n",
      " #   Column         Non-Null Count  Dtype \n",
      "---  ------         --------------  ----- \n",
      " 0   sensor_id      12 non-null     int64 \n",
      " 1   parameters     12 non-null     object\n",
      " 2   sensor_name    12 non-null     object\n",
      " 3   s_encoded      12 non-null     int64 \n",
      " 4   sensor_weight  12 non-null     int64 \n",
      "dtypes: int64(3), object(2)\n",
      "memory usage: 612.0+ bytes\n"
     ]
    }
   ],
   "source": [
    "# Load Drone and Sensor data\n",
    "drone_df = pd.read_csv(\"D:/NDIS_Database/rpas_nonan.csv\") # Shortlisted verison of RPAS gdb with no NaN data on distance\n",
    "sensor_df = pd.read_csv(\"D:/NDIS_Database/sensor.csv\") # Geophysical sensor list\n",
    "\n",
    "# Display the first few rows to verify\n",
    "drone_df.info()\n",
    "sensor_df.info()"
   ]
  },
  {
   "cell_type": "code",
   "execution_count": 6,
   "metadata": {},
   "outputs": [
    {
     "name": "stdout",
     "output_type": "stream",
     "text": [
      "<class 'pandas.core.frame.DataFrame'>\n",
      "RangeIndex: 1816240 entries, 0 to 1816239\n",
      "Data columns (total 18 columns):\n",
      " #   Column                 Dtype  \n",
      "---  ------                 -----  \n",
      " 0   HazardID               int64  \n",
      " 1   latitude               float64\n",
      " 2   longitude              float64\n",
      " 3   HazardType             object \n",
      " 4   distance               float64\n",
      " 5   pop                    float64\n",
      " 6   intensity              float64\n",
      " 7   economic_loss_million  float64\n",
      " 8   duration_minutes       float64\n",
      " 9   HazardStage            object \n",
      " 10  haz_stage_key          object \n",
      " 11  SurveyOptions          object \n",
      " 12  sensor_weight          int64  \n",
      " 13  PrimarySensor          object \n",
      " 14  PrimarySensorWeight    int64  \n",
      " 15  travel_time            float64\n",
      " 16  monitor_time           float64\n",
      " 17  cpm_total_time         float64\n",
      "dtypes: float64(10), int64(3), object(5)\n",
      "memory usage: 249.4+ MB\n"
     ]
    }
   ],
   "source": [
    "# Load geohazard dataset\n",
    "full_ghz_df = pd.read_csv(r\"D:\\NDIS_Database\\ghz_nuke.csv\")\n",
    "full_ghz_df.info()"
   ]
  },
  {
   "cell_type": "code",
   "execution_count": 4,
   "metadata": {},
   "outputs": [
    {
     "name": "stdout",
     "output_type": "stream",
     "text": [
      "<class 'pandas.core.frame.DataFrame'>\n",
      "RangeIndex: 71 entries, 0 to 70\n",
      "Data columns (total 16 columns):\n",
      " #   Column              Non-Null Count  Dtype  \n",
      "---  ------              --------------  -----  \n",
      " 0   rpas_id             71 non-null     int64  \n",
      " 1   manufacturer        71 non-null     object \n",
      " 2   mfc_model           71 non-null     object \n",
      " 3   distance_range      71 non-null     int64  \n",
      " 4   max_payload_weight  70 non-null     float64\n",
      " 5   flight_time         70 non-null     float64\n",
      " 6   comm_range          62 non-null     float64\n",
      " 7   max_speed           69 non-null     float64\n",
      " 8   mtow                70 non-null     float64\n",
      " 9   length              65 non-null     float64\n",
      " 10  width               66 non-null     float64\n",
      " 11  height              60 non-null     float64\n",
      " 12  min_op_temp         56 non-null     float64\n",
      " 13  max_op_temp         55 non-null     float64\n",
      " 14  def_payload         70 non-null     object \n",
      " 15  power_source        69 non-null     object \n",
      "dtypes: float64(10), int64(2), object(4)\n",
      "memory usage: 9.0+ KB\n"
     ]
    }
   ],
   "source": [
    "# Clean data\n",
    "# Clean drone_df to only include relevant columns\n",
    "drone_df = drone_df[[\n",
    "    'rpas_id', 'manufacturer', 'mfc_model',\n",
    "    'distance_range', 'max_payload_weight', 'flight_time', 'comm_range',\n",
    "    'max_speed', 'mtow', 'length', 'width', 'height',\n",
    "    'min_op_temp', 'max_op_temp', 'def_payload', 'power_source'\n",
    "]].dropna(subset=['mfc_model', 'distance_range'])\n",
    "drone_df.info()"
   ]
  },
  {
   "cell_type": "code",
   "execution_count": 48,
   "metadata": {},
   "outputs": [
    {
     "name": "stdout",
     "output_type": "stream",
     "text": [
      "<class 'pandas.core.frame.DataFrame'>\n",
      "RangeIndex: 1816240 entries, 0 to 1816239\n",
      "Data columns (total 14 columns):\n",
      " #   Column                 Dtype  \n",
      "---  ------                 -----  \n",
      " 0   HazardID               int64  \n",
      " 1   latitude               float64\n",
      " 2   longitude              float64\n",
      " 3   HazardType             object \n",
      " 4   distance               float64\n",
      " 5   pop                    float64\n",
      " 6   intensity              float64\n",
      " 7   economic_loss_million  float64\n",
      " 8   duration_minutes       float64\n",
      " 9   HazardStage            object \n",
      " 10  haz_stage_key          object \n",
      " 11  travel_time            float64\n",
      " 12  monitor_time           float64\n",
      " 13  cpm_total_time         float64\n",
      "dtypes: float64(10), int64(1), object(3)\n",
      "memory usage: 194.0+ MB\n"
     ]
    }
   ],
   "source": [
    "# Drop unnecessary fields to optimize memory usage\n",
    "ghz_df = full_ghz_df[[\n",
    "    'HazardID', 'latitude', 'longitude',\n",
    "    'HazardType', 'distance', 'pop', 'intensity', 'economic_loss_million', 'duration_minutes',\n",
    "    'HazardStage', 'haz_stage_key',\n",
    "    'travel_time', 'monitor_time', 'cpm_total_time'\n",
    "]].dropna(subset=['HazardID', 'HazardType', 'HazardStage', 'distance'])\n",
    "ghz_df.info()"
   ]
  },
  {
   "cell_type": "code",
   "execution_count": 20,
   "metadata": {},
   "outputs": [],
   "source": [
    "ghz_df.to_csv(r\"D:\\NDIS_Database\\ghz_nuke.csv\", index=False)"
   ]
  },
  {
   "cell_type": "code",
   "execution_count": 6,
   "metadata": {},
   "outputs": [
    {
     "name": "stdout",
     "output_type": "stream",
     "text": [
      "<class 'pandas.core.frame.DataFrame'>\n",
      "RangeIndex: 1816240 entries, 0 to 1816239\n",
      "Data columns (total 18 columns):\n",
      " #   Column                 Dtype  \n",
      "---  ------                 -----  \n",
      " 0   HazardID               int64  \n",
      " 1   latitude               float64\n",
      " 2   longitude              float64\n",
      " 3   HazardType             object \n",
      " 4   distance               float64\n",
      " 5   pop                    float64\n",
      " 6   intensity              float64\n",
      " 7   economic_loss_million  float64\n",
      " 8   duration_minutes       float64\n",
      " 9   HazardStage            object \n",
      " 10  haz_stage_key          object \n",
      " 11  SurveyOptions          object \n",
      " 12  sensor_weight          int64  \n",
      " 13  PrimarySensor          object \n",
      " 14  PrimarySensorWeight    int64  \n",
      " 15  travel_time            float64\n",
      " 16  monitor_time           float64\n",
      " 17  cpm_total_time         float64\n",
      "dtypes: float64(10), int64(3), object(5)\n",
      "memory usage: 249.4+ MB\n"
     ]
    }
   ],
   "source": [
    "ghz_df = pd.read_csv(r\"D:\\NDIS_Database\\ghz_nuke.csv\")\n",
    "ghz_df.info()"
   ]
  },
  {
   "cell_type": "markdown",
   "metadata": {},
   "source": [
    "## Check Data"
   ]
  },
  {
   "cell_type": "code",
   "execution_count": 12,
   "metadata": {},
   "outputs": [
    {
     "data": {
      "text/plain": [
       "22"
      ]
     },
     "execution_count": 12,
     "metadata": {},
     "output_type": "execute_result"
    }
   ],
   "source": [
    "len(drone_df.comm_range.unique())"
   ]
  },
  {
   "cell_type": "code",
   "execution_count": 16,
   "metadata": {},
   "outputs": [
    {
     "data": {
      "text/plain": [
       "array([ 15000.,    300.,    500.,   1000.,   2000.,   3000.,  22500.,\n",
       "         5000.,  16000., 100000.,  10000.,   8000.,   7000.,     nan,\n",
       "        45000.,   4000.,  20000.,  12000.,  35000.,  40000.,  50000.,\n",
       "       200000.])"
      ]
     },
     "execution_count": 16,
     "metadata": {},
     "output_type": "execute_result"
    }
   ],
   "source": [
    "drone_df.comm_range.unique()"
   ]
  },
  {
   "cell_type": "code",
   "execution_count": 14,
   "metadata": {},
   "outputs": [
    {
     "data": {
      "text/plain": [
       "33"
      ]
     },
     "execution_count": 14,
     "metadata": {},
     "output_type": "execute_result"
    }
   ],
   "source": [
    "len(drone_df.distance_range.unique())"
   ]
  },
  {
   "cell_type": "code",
   "execution_count": 15,
   "metadata": {},
   "outputs": [
    {
     "data": {
      "text/html": [
       "<div>\n",
       "<style scoped>\n",
       "    .dataframe tbody tr th:only-of-type {\n",
       "        vertical-align: middle;\n",
       "    }\n",
       "\n",
       "    .dataframe tbody tr th {\n",
       "        vertical-align: top;\n",
       "    }\n",
       "\n",
       "    .dataframe thead th {\n",
       "        text-align: right;\n",
       "    }\n",
       "</style>\n",
       "<table border=\"1\" class=\"dataframe\">\n",
       "  <thead>\n",
       "    <tr style=\"text-align: right;\">\n",
       "      <th></th>\n",
       "      <th>sensor_id</th>\n",
       "      <th>parameters_measured</th>\n",
       "      <th>s_encoded</th>\n",
       "      <th>sensor_name</th>\n",
       "      <th>sensor_weight</th>\n",
       "      <th>geophysical_method</th>\n",
       "    </tr>\n",
       "  </thead>\n",
       "  <tbody>\n",
       "    <tr>\n",
       "      <th>0</th>\n",
       "      <td>1</td>\n",
       "      <td>velocity</td>\n",
       "      <td>1</td>\n",
       "      <td>Seismic_Sensor</td>\n",
       "      <td>1000</td>\n",
       "      <td>Passive_Seismic</td>\n",
       "    </tr>\n",
       "    <tr>\n",
       "      <th>1</th>\n",
       "      <td>2</td>\n",
       "      <td>susceptibility</td>\n",
       "      <td>2</td>\n",
       "      <td>Magnetometers</td>\n",
       "      <td>1500</td>\n",
       "      <td>Magnetic</td>\n",
       "    </tr>\n",
       "    <tr>\n",
       "      <th>2</th>\n",
       "      <td>3</td>\n",
       "      <td>conductivity</td>\n",
       "      <td>3</td>\n",
       "      <td>EM_Sensor</td>\n",
       "      <td>3700</td>\n",
       "      <td>Electromagnetic</td>\n",
       "    </tr>\n",
       "    <tr>\n",
       "      <th>3</th>\n",
       "      <td>4</td>\n",
       "      <td>density</td>\n",
       "      <td>4</td>\n",
       "      <td>Gravimeter</td>\n",
       "      <td>50000</td>\n",
       "      <td>Gravity</td>\n",
       "    </tr>\n",
       "    <tr>\n",
       "      <th>4</th>\n",
       "      <td>5</td>\n",
       "      <td>conductivity</td>\n",
       "      <td>5</td>\n",
       "      <td>GPR_Sensor</td>\n",
       "      <td>3500</td>\n",
       "      <td>GPR</td>\n",
       "    </tr>\n",
       "    <tr>\n",
       "      <th>5</th>\n",
       "      <td>6</td>\n",
       "      <td>distance</td>\n",
       "      <td>6</td>\n",
       "      <td>Lidar</td>\n",
       "      <td>900</td>\n",
       "      <td>LiDAR</td>\n",
       "    </tr>\n",
       "    <tr>\n",
       "      <th>6</th>\n",
       "      <td>7</td>\n",
       "      <td>spectral</td>\n",
       "      <td>7</td>\n",
       "      <td>Camera</td>\n",
       "      <td>100</td>\n",
       "      <td>Aerial_Imaging</td>\n",
       "    </tr>\n",
       "    <tr>\n",
       "      <th>7</th>\n",
       "      <td>8</td>\n",
       "      <td>spectral</td>\n",
       "      <td>8</td>\n",
       "      <td>Hyperspectral_sensors</td>\n",
       "      <td>1900</td>\n",
       "      <td>Hyperspectral</td>\n",
       "    </tr>\n",
       "    <tr>\n",
       "      <th>8</th>\n",
       "      <td>9</td>\n",
       "      <td>spectral</td>\n",
       "      <td>9</td>\n",
       "      <td>Multispectral_sensors</td>\n",
       "      <td>350</td>\n",
       "      <td>Multispectral</td>\n",
       "    </tr>\n",
       "    <tr>\n",
       "      <th>9</th>\n",
       "      <td>10</td>\n",
       "      <td>temperature</td>\n",
       "      <td>10</td>\n",
       "      <td>Thermal_Camera</td>\n",
       "      <td>830</td>\n",
       "      <td>ThermalIR</td>\n",
       "    </tr>\n",
       "    <tr>\n",
       "      <th>10</th>\n",
       "      <td>11</td>\n",
       "      <td>spectral</td>\n",
       "      <td>11</td>\n",
       "      <td>Radarpod</td>\n",
       "      <td>230000</td>\n",
       "      <td>RemoteSensingSAR</td>\n",
       "    </tr>\n",
       "    <tr>\n",
       "      <th>11</th>\n",
       "      <td>12</td>\n",
       "      <td>pressure</td>\n",
       "      <td>12</td>\n",
       "      <td>BPR</td>\n",
       "      <td>450000</td>\n",
       "      <td>BottomPressureRecorder</td>\n",
       "    </tr>\n",
       "  </tbody>\n",
       "</table>\n",
       "</div>"
      ],
      "text/plain": [
       "    sensor_id parameters_measured  s_encoded            sensor_name  \\\n",
       "0           1            velocity          1         Seismic_Sensor   \n",
       "1           2      susceptibility          2          Magnetometers   \n",
       "2           3        conductivity          3              EM_Sensor   \n",
       "3           4             density          4             Gravimeter   \n",
       "4           5        conductivity          5             GPR_Sensor   \n",
       "5           6            distance          6                  Lidar   \n",
       "6           7            spectral          7                 Camera   \n",
       "7           8            spectral          8  Hyperspectral_sensors   \n",
       "8           9            spectral          9  Multispectral_sensors   \n",
       "9          10         temperature         10         Thermal_Camera   \n",
       "10         11            spectral         11               Radarpod   \n",
       "11         12            pressure         12                    BPR   \n",
       "\n",
       "    sensor_weight      geophysical_method  \n",
       "0            1000         Passive_Seismic  \n",
       "1            1500                Magnetic  \n",
       "2            3700         Electromagnetic  \n",
       "3           50000                 Gravity  \n",
       "4            3500                     GPR  \n",
       "5             900                   LiDAR  \n",
       "6             100          Aerial_Imaging  \n",
       "7            1900           Hyperspectral  \n",
       "8             350           Multispectral  \n",
       "9             830               ThermalIR  \n",
       "10         230000        RemoteSensingSAR  \n",
       "11         450000  BottomPressureRecorder  "
      ]
     },
     "execution_count": 15,
     "metadata": {},
     "output_type": "execute_result"
    }
   ],
   "source": [
    "sensor_df"
   ]
  },
  {
   "cell_type": "code",
   "execution_count": 32,
   "metadata": {},
   "outputs": [
    {
     "data": {
      "text/plain": [
       "ACSL SOTEN                                                1502386\n",
       "DJI Matrice100                                             989008\n",
       "MMC Griflion M8                                            376620\n",
       "AeroSense Aerobo Wing (AS-VT01)                            293157\n",
       "Aerosonde Ltd AAI Aerosonde Mk 4.3                         269122\n",
       "Autel Robotics EVO Lite                                     97029\n",
       "Zhuoyi Droneeye TS-A12                                      59946\n",
       "DJI Mavic2Pro                                               38169\n",
       "AgEagle eBee Geo                                            19660\n",
       "DJI AgrasT16                                                 1840\n",
       "DJI S900                                                      675\n",
       "ACSL Fi4                                                      663\n",
       "ACSL PF2-AE Delivery/Disaster-Relief/Patrol/Inspection        377\n",
       "Dragandfly Innovations Inc Starling X.2                       122\n",
       "DJI FlyCart 30                                                112\n",
       "Dragandfly Innovations Inc Heavy Lift Drone                    98\n",
       "Name: count, dtype: int64"
      ]
     },
     "execution_count": 32,
     "metadata": {},
     "output_type": "execute_result"
    }
   ],
   "source": [
    "drone_usage_counts = count_drone_usage(top3_stat)\n",
    "drone_usage_counts"
   ]
  },
  {
   "cell_type": "code",
   "execution_count": 11,
   "metadata": {},
   "outputs": [
    {
     "data": {
      "image/png": "[encoded data removed]",
      "text/plain": [
       "<Figure size 1400x700 with 1 Axes>"
      ]
     },
     "metadata": {},
     "output_type": "display_data"
    }
   ],
   "source": [
    "# Categorize distance\n",
    "def categorize_distance(dist):\n",
    "    if dist <= 100:\n",
    "        return \"< 100m\"\n",
    "    elif dist <= 500:\n",
    "        return \"100m–500m\"\n",
    "    elif dist <= 5000:\n",
    "        return \"500m–5km\"\n",
    "    elif dist <= 50000:\n",
    "        return \"5km–50km\"\n",
    "    else:\n",
    "        return \"> 50km\"\n",
    "\n",
    "# Apply categorization\n",
    "ghz_df[\"distance_cat\"] = ghz_df[\"distance\"].apply(categorize_distance)\n",
    "\n",
    "# Plot\n",
    "plt.figure(figsize=(14, 7))\n",
    "ax = sns.countplot(\n",
    "    data=ghz_df,\n",
    "    y=\"distance_cat\",\n",
    "    hue=\"HazardType\",\n",
    "    order=[\"< 100m\", \"100m–500m\", \"500m–5km\", \"5km–50km\", \"> 50km\"]\n",
    ")\n",
    "\n",
    "# Annotate each bar with the count\n",
    "for container in ax.containers:\n",
    "    ax.bar_label(container, fmt='%.0f', label_type='edge', fontsize=9)\n",
    "    \n",
    "plt.title(\"Geohazard Distance Distribution by Hazard Type\")\n",
    "plt.xlabel(\"Count\")\n",
    "plt.ylabel(\"Distance Category\")\n",
    "plt.xscale(\"log\")\n",
    "plt.legend(title=\"Hazard Type\")\n",
    "plt.tight_layout()\n",
    "\n",
    "#plt.savefig(r'D:\\NDIS_Database\\13_NDIS_Display\\ghz_cat_dist.png', dpi=300, transparent=True)\n",
    "plt.show()"
   ]
  },
  {
   "cell_type": "code",
   "execution_count": 12,
   "metadata": {},
   "outputs": [
    {
     "data": {
      "text/html": [
       "<div>\n",
       "<style scoped>\n",
       "    .dataframe tbody tr th:only-of-type {\n",
       "        vertical-align: middle;\n",
       "    }\n",
       "\n",
       "    .dataframe tbody tr th {\n",
       "        vertical-align: top;\n",
       "    }\n",
       "\n",
       "    .dataframe thead th {\n",
       "        text-align: right;\n",
       "    }\n",
       "</style>\n",
       "<table border=\"1\" class=\"dataframe\">\n",
       "  <thead>\n",
       "    <tr style=\"text-align: right;\">\n",
       "      <th>HazardType</th>\n",
       "      <th>Earthquake</th>\n",
       "      <th>Fault</th>\n",
       "      <th>Landslide</th>\n",
       "      <th>Nuclear</th>\n",
       "      <th>Tsunami</th>\n",
       "      <th>Volcano</th>\n",
       "    </tr>\n",
       "    <tr>\n",
       "      <th>distance_cat</th>\n",
       "      <th></th>\n",
       "      <th></th>\n",
       "      <th></th>\n",
       "      <th></th>\n",
       "      <th></th>\n",
       "      <th></th>\n",
       "    </tr>\n",
       "  </thead>\n",
       "  <tbody>\n",
       "    <tr>\n",
       "      <th>&lt; 100m</th>\n",
       "      <td>44097</td>\n",
       "      <td>6296</td>\n",
       "      <td>5551</td>\n",
       "      <td>155</td>\n",
       "      <td>136</td>\n",
       "      <td>24</td>\n",
       "    </tr>\n",
       "    <tr>\n",
       "      <th>100m–500m</th>\n",
       "      <td>99369</td>\n",
       "      <td>14531</td>\n",
       "      <td>3476</td>\n",
       "      <td>421</td>\n",
       "      <td>111</td>\n",
       "      <td>73</td>\n",
       "    </tr>\n",
       "    <tr>\n",
       "      <th>500m–5km</th>\n",
       "      <td>342954</td>\n",
       "      <td>45321</td>\n",
       "      <td>3791</td>\n",
       "      <td>832</td>\n",
       "      <td>97</td>\n",
       "      <td>379</td>\n",
       "    </tr>\n",
       "    <tr>\n",
       "      <th>5km–50km</th>\n",
       "      <td>528110</td>\n",
       "      <td>42995</td>\n",
       "      <td>1198</td>\n",
       "      <td>133</td>\n",
       "      <td>23</td>\n",
       "      <td>403</td>\n",
       "    </tr>\n",
       "    <tr>\n",
       "      <th>&gt; 50km</th>\n",
       "      <td>641173</td>\n",
       "      <td>34376</td>\n",
       "      <td>48</td>\n",
       "      <td>0</td>\n",
       "      <td>2</td>\n",
       "      <td>165</td>\n",
       "    </tr>\n",
       "  </tbody>\n",
       "</table>\n",
       "</div>"
      ],
      "text/plain": [
       "HazardType    Earthquake  Fault  Landslide  Nuclear  Tsunami  Volcano\n",
       "distance_cat                                                         \n",
       "< 100m             44097   6296       5551      155      136       24\n",
       "100m–500m          99369  14531       3476      421      111       73\n",
       "500m–5km          342954  45321       3791      832       97      379\n",
       "5km–50km          528110  42995       1198      133       23      403\n",
       "> 50km            641173  34376         48        0        2      165"
      ]
     },
     "execution_count": 12,
     "metadata": {},
     "output_type": "execute_result"
    }
   ],
   "source": [
    "# Count geohazard occurrences per distance category and hazard type\n",
    "distance_hazard_counts = (\n",
    "    ghz_df.groupby([\"distance_cat\", \"HazardType\"])\n",
    "    .size()\n",
    "    .unstack(fill_value=0)\n",
    "    .loc[[\"< 100m\", \"100m–500m\", \"500m–5km\", \"5km–50km\", \"> 50km\"]]\n",
    ")\n",
    "\n",
    "distance_hazard_counts"
   ]
  },
  {
   "cell_type": "code",
   "execution_count": 17,
   "metadata": {},
   "outputs": [],
   "source": [
    "# Find cat for drone and apply categorization\n",
    "drone_df[\"distance_cat\"] = drone_df[\"distance_range\"].apply(categorize_distance)"
   ]
  },
  {
   "cell_type": "code",
   "execution_count": 18,
   "metadata": {},
   "outputs": [
    {
     "name": "stderr",
     "output_type": "stream",
     "text": [
      "C:/Users/Dell/AppData/Local/Temp/ArcGISProTemp9356/xpython_9356/3137411953.py:8: FutureWarning: \n",
      "\n",
      "Passing `palette` without assigning `hue` is deprecated and will be removed in v0.14.0. Assign the `y` variable to `hue` and set `legend=False` for the same effect.\n",
      "\n",
      "  ax = sns.barplot(\n"
     ]
    },
    {
     "data": {
      "image/png": "[encoded data removed]",
      "text/plain": [
       "<Figure size 1000x600 with 1 Axes>"
      ]
     },
     "metadata": {},
     "output_type": "display_data"
    }
   ],
   "source": [
    "# Count drones in each category\n",
    "drone_counts = drone_df[\"distance_cat\"].value_counts().reindex(\n",
    "    [\"< 100m\", \"100m–500m\", \"500m–5km\", \"5km–50km\", \"> 50km\"]\n",
    ")\n",
    "\n",
    "# Plot\n",
    "plt.figure(figsize=(10, 6))\n",
    "ax = sns.barplot(\n",
    "    x=drone_counts.values,\n",
    "    y=drone_counts.index,\n",
    "    palette=\"viridis\"\n",
    ")\n",
    "\n",
    "# Add count labels\n",
    "for i, val in enumerate(drone_counts.values):\n",
    "    ax.text(val + 0.5, i, str(val), va='center', fontweight=\"bold\")\n",
    "\n",
    "plt.title(\"Drone Distribution by Maximum Distance Range\")\n",
    "plt.xlabel(\"Number of Drone Models\")\n",
    "plt.ylabel(\"Distance Category\")\n",
    "plt.tight_layout()\n",
    "plt.show()"
   ]
  },
  {
   "cell_type": "code",
   "execution_count": 23,
   "metadata": {},
   "outputs": [
    {
     "data": {
      "text/plain": [
       "distance_cat\n",
       "< 100m        1\n",
       "100m–500m     1\n",
       "500m–5km     16\n",
       "5km–50km     44\n",
       "> 50km        9\n",
       "Name: count, dtype: int64"
      ]
     },
     "execution_count": 23,
     "metadata": {},
     "output_type": "execute_result"
    }
   ],
   "source": [
    "# Categorize each drone by its distance range\n",
    "def categorize_drone_range(dist):\n",
    "    if dist <= 100:\n",
    "        return \"< 100m\"\n",
    "    elif dist <= 500:\n",
    "        return \"100m–500m\"\n",
    "    elif dist <= 5000:\n",
    "        return \"500m–5km\"\n",
    "    elif dist <= 50000:\n",
    "        return \"5km–50km\"\n",
    "    else:\n",
    "        return \"> 50km\"\n",
    "\n",
    "drone_df[\"distance_cat\"] = drone_df[\"distance_range\"].apply(categorize_drone_range)\n",
    "\n",
    "# Count how many drones fall into each category\n",
    "distance_drone_counts = (\n",
    "    drone_df[\"distance_cat\"]\n",
    "    .value_counts()\n",
    "    .reindex([\"< 100m\", \"100m–500m\", \"500m–5km\", \"5km–50km\", \"> 50km\"], fill_value=0)\n",
    ")\n",
    "\n",
    "distance_drone_counts\n"
   ]
  },
  {
   "cell_type": "code",
   "execution_count": 14,
   "metadata": {},
   "outputs": [
    {
     "name": "stdout",
     "output_type": "stream",
     "text": [
      "<class 'pandas.core.frame.DataFrame'>\n",
      "RangeIndex: 1816240 entries, 0 to 1816239\n",
      "Data columns (total 14 columns):\n",
      " #   Column                 Dtype  \n",
      "---  ------                 -----  \n",
      " 0   HazardID               int64  \n",
      " 1   latitude               float64\n",
      " 2   longitude              float64\n",
      " 3   HazardType             object \n",
      " 4   distance               float64\n",
      " 5   pop                    float64\n",
      " 6   intensity              float64\n",
      " 7   economic_loss_million  float64\n",
      " 8   duration_minutes       float64\n",
      " 9   HazardStage            object \n",
      " 10  haz_stage_key          object \n",
      " 11  travel_time            float64\n",
      " 12  monitor_time           float64\n",
      " 13  cpm_total_time         float64\n",
      "dtypes: float64(10), int64(1), object(3)\n",
      "memory usage: 194.0+ MB\n"
     ]
    }
   ],
   "source": [
    "ghz_df.info()"
   ]
  },
  {
   "cell_type": "markdown",
   "metadata": {},
   "source": [
    "## Map Hazard Stages with the Sensors"
   ]
  },
  {
   "cell_type": "markdown",
   "metadata": {},
   "source": [
    "## Stage 2&3: Disaster Stage Event Mapping Function"
   ]
  },
  {
   "cell_type": "code",
   "execution_count": 78,
   "metadata": {},
   "outputs": [],
   "source": [
    "hazard_stage_survey_map = {\n",
    "    (\"Volcano\", \"pre_event\"): [\"Magnetometers\", \"Seismic\", \"Camera\"],\n",
    "    (\"Volcano\", \"during\"): [\"Thermal_Camera\", \"Camera\", \"Lidar\"],\n",
    "    (\"Volcano\", \"post_event\"): [\"Lidar\", \"Camera\", \"Seismic\"],\n",
    "    (\"Volcano\", \"clean_up\"): [\"Lidar\", \"Camera\", \"Seismic\"],\n",
    "\n",
    "    (\"Earthquake\", \"pre_event\"): [\"Seismic\", \"Magnetometers\", \"Camera\"],\n",
    "    (\"Earthquake\", \"during\"): [\"Seismic\", \"Camera\", \"Lidar\"],\n",
    "    (\"Earthquake\", \"post_event\"): [\"Lidar\", \"Camera\", \"Seismic\"],\n",
    "\n",
    "    (\"Fault\", \"pre_event\"): [\"Seismic\", \"Magnetometers\", \"Camera\"],\n",
    "    (\"Fault\", \"post_event\"): [\"Seismic\", \"Camera\", \"Lidar\"],\n",
    "\n",
    "    (\"Landslide\", \"pre_event\"): [\"Lidar\", \"GPR\", \"Camera\"],\n",
    "    (\"Landslide\", \"during\"): [\"Camera\", \"Thermal_Camera\", \"Lidar\"],\n",
    "    (\"Landslide\", \"post_event\"): [\"Lidar\", \"Seismic\", \"Camera\"],\n",
    "    (\"Landslide\", \"clean_up\"): [\"Camera\", \"Lidar\", \"Seismic\"],\n",
    "\n",
    "    (\"Tsunami\", \"during\"): [\"Camera\", \"Thermal_Camera\", \"Lidar\"],\n",
    "    (\"Tsunami\", \"post_event\"): [\"Camera\", \"Lidar\", \"Seismic\"],\n",
    "    (\"Tsunami\", \"clean_up\"): [\"Camera\", \"Lidar\", \"Seismic\"],\n",
    "\n",
    "    (\"Nuclear\", \"pre_event\"): [\"Thermal_Camera\", \"Camera\", \"Lidar\"],\n",
    "    (\"Nuclear\", \"during\"): [\"Thermal_Camera\", \"Camera\", \"Lidar\"],\n",
    "    (\"Nuclear\", \"post_event\"): [\"Camera\", \"Lidar\", \"Seismic\"],\n",
    "    (\"Nuclear\", \"clean_up\"): [\"Camera\", \"Lidar\", \"Seismic\"]\n",
    "}\n"
   ]
  },
  {
   "cell_type": "code",
   "execution_count": 15,
   "metadata": {},
   "outputs": [
    {
     "name": "stdout",
     "output_type": "stream",
     "text": [
      "Camera in every mapping: True\n"
     ]
    }
   ],
   "source": [
    "camera_included = all(\"Camera\" in sensors for sensors in hazard_stage_survey_map.values())\n",
    "print(\"Camera in every mapping:\", camera_included)\n"
   ]
  },
  {
   "cell_type": "markdown",
   "metadata": {},
   "source": [
    "## Stage 4: Drone Selection"
   ]
  },
  {
   "cell_type": "code",
   "execution_count": 7,
   "metadata": {},
   "outputs": [],
   "source": [
    "# ------------------- v3.6.3 ENGINEERING FLIGHT PATH BASED ON AREA -------------------\n",
    "\n",
    "# Line spacing rules per sensor type (in meters)\n",
    "sensor_spacing = {\n",
    "    \"Seismic\": None,\n",
    "    \"Magnetometers\": 5,\n",
    "    \"Lidar\": 10,\n",
    "    \"GPR\": None,\n",
    "    \"Camera\": 20,\n",
    "    \"Thermal_Camera\": 20,\n",
    "    \"Hyperspectral\": 20,\n",
    "    \"Multispectral\": 20,\n",
    "    \"EM\": 10,\n",
    "    \"Gravimeter\": 20\n",
    "}\n",
    "\n",
    "def compute_mission_flight_distance(sensor_name, hazard_distance, area_length=None, area_width=None):\n",
    "    \"\"\"\n",
    "    Calculates total flight distance based on user area input or hazard_distance fallback.\n",
    "    \"\"\"\n",
    "    # Seismic & GPR remain delivery profile\n",
    "    if sensor_name == \"Seismic\":\n",
    "        return hazard_distance\n",
    "    elif sensor_name == \"GPR\":\n",
    "        return 1000\n",
    "\n",
    "    # If area input provided, calculate using lawnmower pattern\n",
    "    if area_length and area_width:\n",
    "        spacing = sensor_spacing.get(sensor_name, 10)  # default spacing if sensor not found\n",
    "        if spacing and spacing > 0:\n",
    "            num_lines = math.ceil(area_width / spacing)\n",
    "            total_distance = num_lines * area_length\n",
    "            return total_distance\n",
    "        else:\n",
    "            return hazard_distance  # fallback for point sensors\n",
    "    else:\n",
    "        # If no area provided → fallback to previous rules\n",
    "        if sensor_name == \"Magnetometers\":\n",
    "            return 20000\n",
    "        elif sensor_name == \"Lidar\":\n",
    "            return math.pi * hazard_distance\n",
    "        elif sensor_name in [\"Camera\", \"Thermal_Camera\"]:\n",
    "            return hazard_distance\n",
    "        elif sensor_name in [\"Hyperspectral\", \"Multispectral\"]:\n",
    "            return hazard_distance * 3\n",
    "        else:\n",
    "            return hazard_distance\n"
   ]
  },
  {
   "cell_type": "code",
   "execution_count": 8,
   "metadata": {},
   "outputs": [],
   "source": [
    "# ------------------- Optional: Apply to batch processing -------------------\n",
    "\n",
    "for snum in [1, 2, 3]:\n",
    "    ghz_df370[f\"sensor{snum}_flight_path\"] = ghz_df370.apply(\n",
    "        lambda row: compute_mission_flight_distance(\n",
    "            row[f\"sensor{snum}\"],\n",
    "            row[\"distance\"],\n",
    "            area_length=None,   # <-- leave None for now, or pass user-defined area if available\n",
    "            area_width=None\n",
    "        ),\n",
    "        axis=1\n",
    "    )\n"
   ]
  },
  {
   "cell_type": "markdown",
   "metadata": {},
   "source": [
    "## Functions for API starts HERE!!"
   ]
  },
  {
   "cell_type": "code",
   "execution_count": 9,
   "metadata": {},
   "outputs": [],
   "source": [
    "# ------------- v3.7.0 Unified Auto-Default Flight Path Calculation for Both API & Batch ---------------\n",
    "\n",
    "# Default area templates for batch mode (length x width in meters)\n",
    "sensor_default_area = {\n",
    "    \"Seismic\": (None, None),\n",
    "    \"Magnetometers\": (500, 200),\n",
    "    \"Lidar\": (400, 400),\n",
    "    \"GPR\": (None, None),\n",
    "    \"Camera\": (300, 300),\n",
    "    \"Thermal_Camera\": (300, 300),\n",
    "    \"Hyperspectral\": (1000, 200),\n",
    "    \"Multispectral\": (1000, 200),\n",
    "    \"EM\": (400, 400),\n",
    "    \"Gravimeter\": (500, 500)\n",
    "}\n",
    "\n",
    "# Line spacing rules per sensor type\n",
    "sensor_spacing = {\n",
    "    \"Seismic\": None,\n",
    "    \"Magnetometers\": 5,\n",
    "    \"Lidar\": 10,\n",
    "    \"GPR\": None,\n",
    "    \"Camera\": 20,\n",
    "    \"Thermal_Camera\": 20,\n",
    "    \"Hyperspectral\": 20,\n",
    "    \"Multispectral\": 20,\n",
    "    \"EM\": 10,\n",
    "    \"Gravimeter\": 20\n",
    "}\n",
    "\n",
    "# Unified flight path function for both API & Batch\n",
    "def compute_mission_flight_distance(sensor_name, hazard_distance, area_length=None, area_width=None):\n",
    "    if sensor_name == \"Seismic\":\n",
    "        return hazard_distance\n",
    "    elif sensor_name == \"GPR\":\n",
    "        return 1000\n",
    "    \n",
    "    # If no user input area given → use sensor default template\n",
    "    if not area_length or not area_width:\n",
    "        default_area = sensor_default_area.get(sensor_name, (None, None))\n",
    "        area_length, area_width = default_area\n",
    "\n",
    "    if area_length and area_width:\n",
    "        spacing = sensor_spacing.get(sensor_name, 10)\n",
    "        if spacing and spacing > 0:\n",
    "            num_lines = math.ceil(area_width / spacing)\n",
    "            total_distance = num_lines * area_length\n",
    "            return total_distance\n",
    "        else:\n",
    "            return hazard_distance\n",
    "    else:\n",
    "        # If still no area defined (non-scanning sensors), fallback to previous simple models\n",
    "        if sensor_name == \"Magnetometers\":\n",
    "            return 20000\n",
    "        elif sensor_name == \"Lidar\":\n",
    "            return math.pi * hazard_distance\n",
    "        elif sensor_name in [\"Camera\", \"Thermal_Camera\"]:\n",
    "            return hazard_distance\n",
    "        elif sensor_name in [\"Hyperspectral\", \"Multispectral\"]:\n",
    "            return hazard_distance * 3\n",
    "        else:\n",
    "            return hazard_distance\n"
   ]
  },
  {
   "cell_type": "markdown",
   "metadata": {},
   "source": [
    "### Batch Processing"
   ]
  },
  {
   "cell_type": "markdown",
   "metadata": {},
   "source": [
    "# Version 3.7.2 - Adaptive Staggered Decision Engine"
   ]
  },
  {
   "cell_type": "code",
   "execution_count": 14,
   "metadata": {},
   "outputs": [],
   "source": [
    "# Define bin edges for comm_range and distance_range\n",
    "comm_range_bins = np.array([300., 500., 1000., 2000., 3000., 4000., 5000., 7000., 8000., 10000.,\n",
    "  12000., 15000., 16000., 20000., 22500., 35000., 40000., 45000., 50000., 100000., 200000., np.inf])\n",
    "\n",
    "distance_range_bins = np.array([21, 300, 700, 1000, 2000, 3000, 4000, 5000, 7000, 8000, 10000, 12000,\n",
    "  15000, 16000, 18000, 20000, 24000, 27000, 30000, 30240, 35000, 40000, 45000, 50000, 52500, 86000,\n",
    "  104607, 135000, 150000, 190000, 450000, 563000, 1046000, np.inf])\n",
    "\n",
    "payload_weight_bins = np.array([0.0, 10.0, 230.0, 315.0, 400.0, 450.0, 800.0, 1000.0, 1200.0, 1500.0,\n",
    "  2000.0, 2200.0, 2340.0, 2700.0, 3000.0, 3100.0, 4000.0, 4700.0, 5000.0, 6000.0, 7500.0, 8000.0,\n",
    "  8100.0, 9000.0, 10000.0, 16000.0, 20000.0, 25000.0, 30000.0, 158757.0, 226796.0, np.inf])\n"
   ]
  },
  {
   "cell_type": "code",
   "execution_count": 7,
   "metadata": {},
   "outputs": [],
   "source": [
    "# ---------------- Default area templates for each sensor - to get Flight Path ------------------\n",
    "\n",
    "sensor_default_area = {\n",
    "    \"Seismic\": (None, None),\n",
    "    \"Magnetometers\": (500, 200),\n",
    "    \"Lidar\": (400, 400),\n",
    "    \"GPR\": (None, None),\n",
    "    \"Camera\": (300, 300),\n",
    "    \"Thermal_Camera\": (300, 300),\n",
    "    \"Hyperspectral\": (1000, 200),\n",
    "    \"Multispectral\": (1000, 200),\n",
    "    \"EM\": (400, 400),\n",
    "    \"Gravimeter\": (500, 500)\n",
    "}\n",
    "\n",
    "# Line spacing for flight path estimation\n",
    "sensor_spacing = {\n",
    "    \"Seismic\": None,\n",
    "    \"Magnetometers\": 5,\n",
    "    \"Lidar\": 10,\n",
    "    \"GPR\": None,\n",
    "    \"Camera\": 20,\n",
    "    \"Thermal_Camera\": 20,\n",
    "    \"Hyperspectral\": 20,\n",
    "    \"Multispectral\": 20,\n",
    "    \"EM\": 10,\n",
    "    \"Gravimeter\": 20\n",
    "}\n",
    "\n",
    "# Hazard stage\n",
    "hazard_stage_survey_map = {\n",
    "    (\"Volcano\", \"pre_event\"): [\"Magnetometers\", \"Seismic\", \"Camera\"],\n",
    "    (\"Volcano\", \"during\"): [\"Thermal_Camera\", \"Camera\", \"Lidar\"],\n",
    "    (\"Volcano\", \"post_event\"): [\"Lidar\", \"Camera\", \"Seismic\"],\n",
    "    (\"Volcano\", \"clean_up\"): [\"Lidar\", \"Camera\", \"Seismic\"],\n",
    "\n",
    "    (\"Earthquake\", \"pre_event\"): [\"Seismic\", \"Magnetometers\", \"Camera\"],\n",
    "    (\"Earthquake\", \"during\"): [\"Seismic\", \"Camera\", \"Lidar\"],\n",
    "    (\"Earthquake\", \"post_event\"): [\"Lidar\", \"Camera\", \"Seismic\"],\n",
    "\n",
    "    (\"Fault\", \"pre_event\"): [\"Seismic\", \"Magnetometers\", \"Camera\"],\n",
    "    (\"Fault\", \"post_event\"): [\"Seismic\", \"Camera\", \"Lidar\"],\n",
    "\n",
    "    (\"Landslide\", \"pre_event\"): [\"Lidar\", \"GPR\", \"Camera\"],\n",
    "    (\"Landslide\", \"during\"): [\"Camera\", \"Thermal_Camera\", \"Lidar\"],\n",
    "    (\"Landslide\", \"post_event\"): [\"Lidar\", \"Seismic\", \"Camera\"],\n",
    "    (\"Landslide\", \"clean_up\"): [\"Camera\", \"Lidar\", \"Seismic\"],\n",
    "\n",
    "    (\"Tsunami\", \"during\"): [\"Camera\", \"Thermal_Camera\", \"Lidar\"],\n",
    "    (\"Tsunami\", \"post_event\"): [\"Camera\", \"Lidar\", \"Seismic\"],\n",
    "    (\"Tsunami\", \"clean_up\"): [\"Camera\", \"Lidar\", \"Seismic\"],\n",
    "\n",
    "    (\"Nuclear\", \"pre_event\"): [\"Thermal_Camera\", \"Camera\", \"Lidar\"],\n",
    "    (\"Nuclear\", \"during\"): [\"Thermal_Camera\", \"Camera\", \"Lidar\"],\n",
    "    (\"Nuclear\", \"post_event\"): [\"Camera\", \"Lidar\", \"Seismic\"],\n",
    "    (\"Nuclear\", \"clean_up\"): [\"Camera\", \"Lidar\", \"Seismic\"]\n",
    "}\n"
   ]
  },
  {
   "cell_type": "code",
   "execution_count": 16,
   "metadata": {},
   "outputs": [],
   "source": [
    "# ------------------ Core Helper Functions ----------------------\n",
    "\n",
    "def get_bin(value, bins):\n",
    "    return np.digitize(value, bins)\n",
    "\n",
    "def compute_mission_flight_distance(sensor_name, hazard_distance, area_length=None, area_width=None):\n",
    "    if sensor_name == \"Seismic\":\n",
    "        return hazard_distance\n",
    "    elif sensor_name == \"GPR\":\n",
    "        return 1000\n",
    "\n",
    "    if area_length and area_width:\n",
    "        spacing = sensor_spacing.get(sensor_name, 10)\n",
    "        if spacing and spacing > 0:\n",
    "            num_lines = math.ceil(area_width / spacing)\n",
    "            return num_lines * area_length\n",
    "        else:\n",
    "            return hazard_distance\n",
    "    else:\n",
    "        area_length, area_width = sensor_default_area.get(sensor_name, (None, None))\n",
    "        if area_length and area_width:\n",
    "            spacing = sensor_spacing.get(sensor_name, 10)\n",
    "            num_lines = math.ceil(area_width / spacing)\n",
    "            return num_lines * area_length\n",
    "        else:\n",
    "            if sensor_name == \"Magnetometers\":\n",
    "                return 20000\n",
    "            elif sensor_name == \"Lidar\":\n",
    "                return math.pi * hazard_distance\n",
    "            elif sensor_name in [\"Camera\", \"Thermal_Camera\"]:\n",
    "                return hazard_distance\n",
    "            elif sensor_name in [\"Hyperspectral\", \"Multispectral\"]:\n",
    "                return hazard_distance * 3\n",
    "            else:\n",
    "                return hazard_distance\n"
   ]
  },
  {
   "cell_type": "code",
   "execution_count": 20,
   "metadata": {},
   "outputs": [
    {
     "name": "stdout",
     "output_type": "stream",
     "text": [
      "🍳 Processing rows 0 to 50000...\n",
      "🍳 Processing rows 50000 to 100000...\n",
      "🍳 Processing rows 100000 to 150000...\n",
      "🍳 Processing rows 150000 to 200000...\n",
      "🍳 Processing rows 200000 to 250000...\n",
      "🍳 Processing rows 250000 to 300000...\n",
      "🍳 Processing rows 300000 to 350000...\n",
      "🍳 Processing rows 350000 to 400000...\n",
      "🍳 Processing rows 400000 to 450000...\n",
      "🍳 Processing rows 450000 to 500000...\n",
      "🍳 Processing rows 500000 to 550000...\n",
      "🍳 Processing rows 550000 to 600000...\n",
      "🍳 Processing rows 600000 to 650000...\n",
      "🍳 Processing rows 650000 to 700000...\n",
      "🍳 Processing rows 700000 to 750000...\n",
      "🍳 Processing rows 750000 to 800000...\n",
      "🍳 Processing rows 800000 to 850000...\n",
      "🍳 Processing rows 850000 to 900000...\n",
      "🍳 Processing rows 900000 to 950000...\n",
      "🍳 Processing rows 950000 to 1000000...\n",
      "🍳 Processing rows 1000000 to 1050000...\n",
      "🍳 Processing rows 1050000 to 1100000...\n",
      "🍳 Processing rows 1100000 to 1150000...\n",
      "🍳 Processing rows 1150000 to 1200000...\n",
      "🍳 Processing rows 1200000 to 1250000...\n",
      "🍳 Processing rows 1250000 to 1300000...\n",
      "🍳 Processing rows 1300000 to 1350000...\n",
      "🍳 Processing rows 1350000 to 1400000...\n",
      "🍳 Processing rows 1400000 to 1450000...\n",
      "🍳 Processing rows 1450000 to 1500000...\n",
      "🍳 Processing rows 1500000 to 1550000...\n",
      "🍳 Processing rows 1550000 to 1600000...\n",
      "🍳 Processing rows 1600000 to 1650000...\n",
      "🍳 Processing rows 1650000 to 1700000...\n",
      "🍳 Processing rows 1700000 to 1750000...\n",
      "🍳 Processing rows 1750000 to 1800000...\n",
      "🍳 Processing rows 1800000 to 1816240...\n",
      "✅ Batch Processing Done! Time: 497.32 minutes\n"
     ]
    }
   ],
   "source": [
    "# ghz_df = full geohazard dataframe (+-1.9M rows)\n",
    "# sensor_df = sensor weight table\n",
    "# drone_df = drone specifications table\n",
    "start = timeit.default_timer()\n",
    "\n",
    "results372_df = full_mission_recommender_batch_chunked(ghz_df370, sensor_df, drone_df, chunk_size=50000)\n",
    "\n",
    "# Export result if needed\n",
    "#results_df.to_csv(\"v3.8.0_geohazard_drone_results.csv\", index=False)\n",
    "\n",
    "elapsed = timeit.default_timer() - start\n",
    "print(f\"\\u2705 Batch Processing Done! Time: {elapsed / 60:.2f} minutes\")"
   ]
  },
  {
   "cell_type": "code",
   "execution_count": 22,
   "metadata": {},
   "outputs": [],
   "source": [
    "results372_df.to_csv(r\"D:\\NDIS_Database\\NDIS372_geohazard_drone_results.csv\", index=False)"
   ]
  },
  {
   "cell_type": "code",
   "execution_count": 11,
   "metadata": {},
   "outputs": [
    {
     "data": {
      "text/html": [
       "<div>\n",
       "<style scoped>\n",
       "    .dataframe tbody tr th:only-of-type {\n",
       "        vertical-align: middle;\n",
       "    }\n",
       "\n",
       "    .dataframe tbody tr th {\n",
       "        vertical-align: top;\n",
       "    }\n",
       "\n",
       "    .dataframe thead th {\n",
       "        text-align: right;\n",
       "    }\n",
       "</style>\n",
       "<table border=\"1\" class=\"dataframe\">\n",
       "  <thead>\n",
       "    <tr style=\"text-align: right;\">\n",
       "      <th></th>\n",
       "      <th>HazardID</th>\n",
       "      <th>HazardType</th>\n",
       "      <th>Stage</th>\n",
       "      <th>Sensor</th>\n",
       "      <th>FlightPath_m</th>\n",
       "      <th>DroneRank</th>\n",
       "      <th>DroneModel</th>\n",
       "      <th>PayloadOverkill</th>\n",
       "      <th>DistanceOverkill</th>\n",
       "      <th>PayloadWeight</th>\n",
       "      <th>DistanceRange</th>\n",
       "      <th>CommRange</th>\n",
       "      <th>FlightTime</th>\n",
       "    </tr>\n",
       "  </thead>\n",
       "  <tbody>\n",
       "    <tr>\n",
       "      <th>0</th>\n",
       "      <td>210010</td>\n",
       "      <td>Volcano</td>\n",
       "      <td>during</td>\n",
       "      <td>Thermal_Camera</td>\n",
       "      <td>4500.0</td>\n",
       "      <td>1</td>\n",
       "      <td>DJI Matrice100</td>\n",
       "      <td>170.0</td>\n",
       "      <td>500.0</td>\n",
       "      <td>1000.0</td>\n",
       "      <td>5000</td>\n",
       "      <td>5000.0</td>\n",
       "      <td>40.0</td>\n",
       "    </tr>\n",
       "    <tr>\n",
       "      <th>1</th>\n",
       "      <td>210010</td>\n",
       "      <td>Volcano</td>\n",
       "      <td>during</td>\n",
       "      <td>Thermal_Camera</td>\n",
       "      <td>4500.0</td>\n",
       "      <td>2</td>\n",
       "      <td>EAMS E484MP</td>\n",
       "      <td>2170.0</td>\n",
       "      <td>500.0</td>\n",
       "      <td>3000.0</td>\n",
       "      <td>4000</td>\n",
       "      <td>1000.0</td>\n",
       "      <td>20.0</td>\n",
       "    </tr>\n",
       "    <tr>\n",
       "      <th>2</th>\n",
       "      <td>210010</td>\n",
       "      <td>Volcano</td>\n",
       "      <td>during</td>\n",
       "      <td>Thermal_Camera</td>\n",
       "      <td>4500.0</td>\n",
       "      <td>3</td>\n",
       "      <td>JTT Spider C85</td>\n",
       "      <td>1170.0</td>\n",
       "      <td>2500.0</td>\n",
       "      <td>2000.0</td>\n",
       "      <td>7000</td>\n",
       "      <td>7000.0</td>\n",
       "      <td>40.0</td>\n",
       "    </tr>\n",
       "    <tr>\n",
       "      <th>3</th>\n",
       "      <td>210010</td>\n",
       "      <td>Volcano</td>\n",
       "      <td>during</td>\n",
       "      <td>Camera</td>\n",
       "      <td>4500.0</td>\n",
       "      <td>1</td>\n",
       "      <td>DJI Mavic Mini</td>\n",
       "      <td>100.0</td>\n",
       "      <td>500.0</td>\n",
       "      <td>0.0</td>\n",
       "      <td>4000</td>\n",
       "      <td>2000.0</td>\n",
       "      <td>30.0</td>\n",
       "    </tr>\n",
       "    <tr>\n",
       "      <th>4</th>\n",
       "      <td>210010</td>\n",
       "      <td>Volcano</td>\n",
       "      <td>during</td>\n",
       "      <td>Camera</td>\n",
       "      <td>4500.0</td>\n",
       "      <td>2</td>\n",
       "      <td>Parrot ANAFIAi</td>\n",
       "      <td>100.0</td>\n",
       "      <td>500.0</td>\n",
       "      <td>0.0</td>\n",
       "      <td>4000</td>\n",
       "      <td>22500.0</td>\n",
       "      <td>32.0</td>\n",
       "    </tr>\n",
       "    <tr>\n",
       "      <th>...</th>\n",
       "      <td>...</td>\n",
       "      <td>...</td>\n",
       "      <td>...</td>\n",
       "      <td>...</td>\n",
       "      <td>...</td>\n",
       "      <td>...</td>\n",
       "      <td>...</td>\n",
       "      <td>...</td>\n",
       "      <td>...</td>\n",
       "      <td>...</td>\n",
       "      <td>...</td>\n",
       "      <td>...</td>\n",
       "      <td>...</td>\n",
       "    </tr>\n",
       "    <tr>\n",
       "      <th>16346155</th>\n",
       "      <td>111100000501496</td>\n",
       "      <td>Nuclear</td>\n",
       "      <td>pre_event</td>\n",
       "      <td>Camera</td>\n",
       "      <td>4500.0</td>\n",
       "      <td>2</td>\n",
       "      <td>Parrot ANAFIAi</td>\n",
       "      <td>100.0</td>\n",
       "      <td>500.0</td>\n",
       "      <td>0.0</td>\n",
       "      <td>4000</td>\n",
       "      <td>22500.0</td>\n",
       "      <td>32.0</td>\n",
       "    </tr>\n",
       "    <tr>\n",
       "      <th>16346156</th>\n",
       "      <td>111100000501496</td>\n",
       "      <td>Nuclear</td>\n",
       "      <td>pre_event</td>\n",
       "      <td>Camera</td>\n",
       "      <td>4500.0</td>\n",
       "      <td>3</td>\n",
       "      <td>AEE Aviation Technology MACH4-5G</td>\n",
       "      <td>300.0</td>\n",
       "      <td>500.0</td>\n",
       "      <td>400.0</td>\n",
       "      <td>5000</td>\n",
       "      <td>100000.0</td>\n",
       "      <td>30.0</td>\n",
       "    </tr>\n",
       "    <tr>\n",
       "      <th>16346157</th>\n",
       "      <td>111100000501496</td>\n",
       "      <td>Nuclear</td>\n",
       "      <td>pre_event</td>\n",
       "      <td>Lidar</td>\n",
       "      <td>16000.0</td>\n",
       "      <td>1</td>\n",
       "      <td>Acecore Zetona 8</td>\n",
       "      <td>1300.0</td>\n",
       "      <td>0.0</td>\n",
       "      <td>2200.0</td>\n",
       "      <td>16000</td>\n",
       "      <td>16000.0</td>\n",
       "      <td>26.0</td>\n",
       "    </tr>\n",
       "    <tr>\n",
       "      <th>16346158</th>\n",
       "      <td>111100000501496</td>\n",
       "      <td>Nuclear</td>\n",
       "      <td>pre_event</td>\n",
       "      <td>Lidar</td>\n",
       "      <td>16000.0</td>\n",
       "      <td>2</td>\n",
       "      <td>Aerialtronics Altura Zenith ATX8</td>\n",
       "      <td>2100.0</td>\n",
       "      <td>2000.0</td>\n",
       "      <td>3000.0</td>\n",
       "      <td>18000</td>\n",
       "      <td>1000.0</td>\n",
       "      <td>40.0</td>\n",
       "    </tr>\n",
       "    <tr>\n",
       "      <th>16346159</th>\n",
       "      <td>111100000501496</td>\n",
       "      <td>Nuclear</td>\n",
       "      <td>pre_event</td>\n",
       "      <td>Lidar</td>\n",
       "      <td>16000.0</td>\n",
       "      <td>3</td>\n",
       "      <td>Acecore Noa H6 Hybrid</td>\n",
       "      <td>5100.0</td>\n",
       "      <td>0.0</td>\n",
       "      <td>6000.0</td>\n",
       "      <td>16000</td>\n",
       "      <td>16000.0</td>\n",
       "      <td>175.0</td>\n",
       "    </tr>\n",
       "  </tbody>\n",
       "</table>\n",
       "<p>16346160 rows × 13 columns</p>\n",
       "</div>"
      ],
      "text/plain": [
       "                 HazardID HazardType      Stage          Sensor  FlightPath_m  \\\n",
       "0                  210010    Volcano     during  Thermal_Camera        4500.0   \n",
       "1                  210010    Volcano     during  Thermal_Camera        4500.0   \n",
       "2                  210010    Volcano     during  Thermal_Camera        4500.0   \n",
       "3                  210010    Volcano     during          Camera        4500.0   \n",
       "4                  210010    Volcano     during          Camera        4500.0   \n",
       "...                   ...        ...        ...             ...           ...   \n",
       "16346155  111100000501496    Nuclear  pre_event          Camera        4500.0   \n",
       "16346156  111100000501496    Nuclear  pre_event          Camera        4500.0   \n",
       "16346157  111100000501496    Nuclear  pre_event           Lidar       16000.0   \n",
       "16346158  111100000501496    Nuclear  pre_event           Lidar       16000.0   \n",
       "16346159  111100000501496    Nuclear  pre_event           Lidar       16000.0   \n",
       "\n",
       "          DroneRank                        DroneModel  PayloadOverkill  \\\n",
       "0                 1                    DJI Matrice100            170.0   \n",
       "1                 2                       EAMS E484MP           2170.0   \n",
       "2                 3                    JTT Spider C85           1170.0   \n",
       "3                 1                    DJI Mavic Mini            100.0   \n",
       "4                 2                    Parrot ANAFIAi            100.0   \n",
       "...             ...                               ...              ...   \n",
       "16346155          2                    Parrot ANAFIAi            100.0   \n",
       "16346156          3  AEE Aviation Technology MACH4-5G            300.0   \n",
       "16346157          1                  Acecore Zetona 8           1300.0   \n",
       "16346158          2  Aerialtronics Altura Zenith ATX8           2100.0   \n",
       "16346159          3             Acecore Noa H6 Hybrid           5100.0   \n",
       "\n",
       "          DistanceOverkill  PayloadWeight  DistanceRange  CommRange  \\\n",
       "0                    500.0         1000.0           5000     5000.0   \n",
       "1                    500.0         3000.0           4000     1000.0   \n",
       "2                   2500.0         2000.0           7000     7000.0   \n",
       "3                    500.0            0.0           4000     2000.0   \n",
       "4                    500.0            0.0           4000    22500.0   \n",
       "...                    ...            ...            ...        ...   \n",
       "16346155             500.0            0.0           4000    22500.0   \n",
       "16346156             500.0          400.0           5000   100000.0   \n",
       "16346157               0.0         2200.0          16000    16000.0   \n",
       "16346158            2000.0         3000.0          18000     1000.0   \n",
       "16346159               0.0         6000.0          16000    16000.0   \n",
       "\n",
       "          FlightTime  \n",
       "0               40.0  \n",
       "1               20.0  \n",
       "2               40.0  \n",
       "3               30.0  \n",
       "4               32.0  \n",
       "...              ...  \n",
       "16346155        32.0  \n",
       "16346156        30.0  \n",
       "16346157        26.0  \n",
       "16346158        40.0  \n",
       "16346159       175.0  \n",
       "\n",
       "[16346160 rows x 13 columns]"
      ]
     },
     "execution_count": 11,
     "metadata": {},
     "output_type": "execute_result"
    }
   ],
   "source": [
    "results372_df"
   ]
  },
  {
   "cell_type": "code",
   "execution_count": 8,
   "metadata": {},
   "outputs": [
    {
     "data": {
      "text/plain": [
       "array(['DJI Matrice100', 'EAMS E484MP', 'JTT Spider C85',\n",
       "       'DJI Mavic Mini', 'Parrot ANAFIAi',\n",
       "       'AEE Aviation Technology MACH4-5G', 'Acecore Zetona 8',\n",
       "       'Aerialtronics Altura Zenith ATX8', 'Acecore Noa H6 Hybrid',\n",
       "       'ACSL AirTruck', 'Dragandfly Innovations Inc Starling X.2',\n",
       "       'DJI S900', 'IDEAFLY Poseidon-480 Pro II', 'IDEAFLY Thor-850',\n",
       "       'AEE Aviation Technology G10',\n",
       "       'Aerosonde Ltd AAI Aerosonde Mk 4.3', 'JOUAV CW-15',\n",
       "       'DJI Matrice200SeriesV2', 'AeroSense Aerobo Wing (AS-VT01)',\n",
       "       'ACSL PF2-AE Delivery/Disaster-Relief/Patrol/Inspection',\n",
       "       'Freespace Operation Callisto 50 Multirotor', 'DJI Matrice200V2',\n",
       "       'Garuda Robotics Cerana ONE Pro', 'MMC Griflion M8',\n",
       "       'DJI Matrice300RTK', 'Acecore Zoe X4', 'DJI Matrice210V2',\n",
       "       'DJI FlyCart 30', 'Dragandfly Innovations Inc Heavy Lift Drone'],\n",
       "      dtype=object)"
      ]
     },
     "execution_count": 8,
     "metadata": {},
     "output_type": "execute_result"
    }
   ],
   "source": [
    "results372_df.DroneModel.unique()"
   ]
  },
  {
   "cell_type": "code",
   "execution_count": 9,
   "metadata": {},
   "outputs": [
    {
     "name": "stdout",
     "output_type": "stream",
     "text": [
      "<class 'pandas.core.frame.DataFrame'>\n",
      "RangeIndex: 16346160 entries, 0 to 16346159\n",
      "Data columns (total 13 columns):\n",
      " #   Column            Dtype  \n",
      "---  ------            -----  \n",
      " 0   HazardID          int64  \n",
      " 1   HazardType        object \n",
      " 2   Stage             object \n",
      " 3   Sensor            object \n",
      " 4   FlightPath_m      float64\n",
      " 5   DroneRank         int64  \n",
      " 6   DroneModel        object \n",
      " 7   PayloadOverkill   float64\n",
      " 8   DistanceOverkill  float64\n",
      " 9   PayloadWeight     float64\n",
      " 10  DistanceRange     int64  \n",
      " 11  CommRange         float64\n",
      " 12  FlightTime        float64\n",
      "dtypes: float64(6), int64(3), object(4)\n",
      "memory usage: 1.6+ GB\n"
     ]
    }
   ],
   "source": [
    "results372_df = pd.read_csv(r\"D:\\NDIS_Database\\NDIS372_geohazard_drone_results.csv\")\n",
    "results372_df.info()"
   ]
  },
  {
   "cell_type": "markdown",
   "metadata": {},
   "source": [
    "# DATA CLEANING"
   ]
  },
  {
   "cell_type": "code",
   "execution_count": 9,
   "metadata": {},
   "outputs": [
    {
     "name": "stdout",
     "output_type": "stream",
     "text": [
      "<class 'pandas.core.frame.DataFrame'>\n",
      "RangeIndex: 1816240 entries, 0 to 1816239\n",
      "Data columns (total 18 columns):\n",
      " #   Column                 Dtype  \n",
      "---  ------                 -----  \n",
      " 0   HazardID               int64  \n",
      " 1   latitude               float64\n",
      " 2   longitude              float64\n",
      " 3   HazardType             object \n",
      " 4   distance               float64\n",
      " 5   pop                    float64\n",
      " 6   intensity              float64\n",
      " 7   economic_loss_million  float64\n",
      " 8   duration_minutes       float64\n",
      " 9   HazardStage            object \n",
      " 10  haz_stage_key          object \n",
      " 11  SurveyOptions          object \n",
      " 12  sensor_weight          int64  \n",
      " 13  PrimarySensor          object \n",
      " 14  PrimarySensorWeight    int64  \n",
      " 15  travel_time            float64\n",
      " 16  monitor_time           float64\n",
      " 17  cpm_total_time         float64\n",
      "dtypes: float64(10), int64(3), object(5)\n",
      "memory usage: 249.4+ MB\n"
     ]
    }
   ],
   "source": [
    "ghz_df.info()"
   ]
  },
  {
   "cell_type": "code",
   "execution_count": 10,
   "metadata": {},
   "outputs": [],
   "source": [
    "# Drop unwanted columns from ghz_df\n",
    "ghz_df.drop(columns=[\n",
    "    \"HazardStage\", \"haz_stage_key\",\n",
    "    \"SurveyOptions\", \"sensor_weight\", \"PrimarySensor\",\n",
    "    \"PrimarySensorWeight\", \"travel_time\", \"monitor_time\",\n",
    "    \"cpm_total_time\"\n",
    "], inplace=True)\n",
    "\n",
    "# Reduce memory usage in results372_df by selecting only needed columns early\n",
    "results372_df.drop(columns=[\n",
    "    \"PayloadOverkill\", \"DistanceOverkill\"\n",
    "], inplace=True)"
   ]
  },
  {
   "cell_type": "code",
   "execution_count": 11,
   "metadata": {},
   "outputs": [
    {
     "name": "stdout",
     "output_type": "stream",
     "text": [
      "<class 'pandas.core.frame.DataFrame'>\n",
      "RangeIndex: 1816240 entries, 0 to 1816239\n",
      "Data columns (total 9 columns):\n",
      " #   Column                 Dtype  \n",
      "---  ------                 -----  \n",
      " 0   HazardID               int64  \n",
      " 1   latitude               float64\n",
      " 2   longitude              float64\n",
      " 3   HazardType             object \n",
      " 4   distance               float64\n",
      " 5   pop                    float64\n",
      " 6   intensity              float64\n",
      " 7   economic_loss_million  float64\n",
      " 8   duration_minutes       float64\n",
      "dtypes: float64(7), int64(1), object(1)\n",
      "memory usage: 124.7+ MB\n",
      "<class 'pandas.core.frame.DataFrame'>\n",
      "RangeIndex: 16346160 entries, 0 to 16346159\n",
      "Data columns (total 11 columns):\n",
      " #   Column         Dtype  \n",
      "---  ------         -----  \n",
      " 0   HazardID       int64  \n",
      " 1   HazardType     object \n",
      " 2   Stage          object \n",
      " 3   Sensor         object \n",
      " 4   FlightPath_m   float64\n",
      " 5   DroneRank      int64  \n",
      " 6   DroneModel     object \n",
      " 7   PayloadWeight  float64\n",
      " 8   DistanceRange  int64  \n",
      " 9   CommRange      float64\n",
      " 10  FlightTime     float64\n",
      "dtypes: float64(4), int64(3), object(4)\n",
      "memory usage: 1.3+ GB\n"
     ]
    }
   ],
   "source": [
    "ghz_df.info()\n",
    "results372_df.info()"
   ]
  },
  {
   "cell_type": "code",
   "execution_count": 16,
   "metadata": {},
   "outputs": [],
   "source": [
    "# Set the path to this geodatabase\n",
    "gdb_path = r\"D:\\ArcGISProjects\\GeohazardDB\\GeohazardDB.gdb\"  # This gdb path"
   ]
  },
  {
   "cell_type": "code",
   "execution_count": 5,
   "metadata": {},
   "outputs": [
    {
     "name": "stdout",
     "output_type": "stream",
     "text": [
      "<class 'pandas.core.frame.DataFrame'>\n",
      "RangeIndex: 16346160 entries, 0 to 16346159\n",
      "Data columns (total 13 columns):\n",
      " #   Column            Dtype  \n",
      "---  ------            -----  \n",
      " 0   HazardID          int64  \n",
      " 1   HazardType        object \n",
      " 2   Stage             object \n",
      " 3   Sensor            object \n",
      " 4   FlightPath_m      float64\n",
      " 5   DroneRank         int64  \n",
      " 6   DroneModel        object \n",
      " 7   PayloadOverkill   float64\n",
      " 8   DistanceOverkill  float64\n",
      " 9   PayloadWeight     float64\n",
      " 10  DistanceRange     int64  \n",
      " 11  CommRange         float64\n",
      " 12  FlightTime        float64\n",
      "dtypes: float64(6), int64(3), object(4)\n",
      "memory usage: 1.6+ GB\n"
     ]
    }
   ],
   "source": [
    "results372_df = pd.read_csv(r\"D:\\NDIS_Database\\NDIS372_geohazard_drone_results.csv\")\n",
    "results372_df.info()"
   ]
  },
  {
   "cell_type": "code",
   "execution_count": 5,
   "metadata": {},
   "outputs": [
    {
     "name": "stderr",
     "output_type": "stream",
     "text": [
      "C:/Users/Dell/AppData/Local/Temp/ArcGISProTemp7848/xpython_7848/3707028055.py:1: DtypeWarning: Columns (12,13,14,18,19,20,21) have mixed types. Specify dtype option on import or set low_memory=False.\n",
      "  merged_df_final = pd.read_csv(r\"D:\\NDIS_Database\\13_NDIS_Display\\Page2Layers\\NDIS380_displayonly.csv\")\n"
     ]
    },
    {
     "name": "stdout",
     "output_type": "stream",
     "text": [
      "<class 'pandas.core.frame.DataFrame'>\n",
      "RangeIndex: 1931885 entries, 0 to 1931884\n",
      "Data columns (total 22 columns):\n",
      " #   Column                 Dtype  \n",
      "---  ------                 -----  \n",
      " 0   HazardID               int64  \n",
      " 1   latitude               float64\n",
      " 2   longitude              float64\n",
      " 3   HazardType             object \n",
      " 4   distance               float64\n",
      " 5   pop                    float64\n",
      " 6   intensity              float64\n",
      " 7   economic_loss_million  float64\n",
      " 8   duration_minutes       float64\n",
      " 9   travel_time            float64\n",
      " 10  monitor_time           float64\n",
      " 11  cpm_total_time         float64\n",
      " 12  DroneModel1            object \n",
      " 13  DroneModel2            object \n",
      " 14  DroneModel3            object \n",
      " 15  FlightPath_m1          float64\n",
      " 16  FlightPath_m2          float64\n",
      " 17  FlightPath_m3          float64\n",
      " 18  Sensor1                object \n",
      " 19  Sensor2                object \n",
      " 20  Sensor3                object \n",
      " 21  Stage_1                object \n",
      "dtypes: float64(13), int64(1), object(8)\n",
      "memory usage: 324.3+ MB\n"
     ]
    }
   ],
   "source": [
    "merged_df_final = pd.read_csv(r\"D:\\NDIS_Database\\13_NDIS_Display\\Page2Layers\\NDIS380_displayonly.csv\")\n",
    "merged_df_final.info()"
   ]
  },
  {
   "cell_type": "code",
   "execution_count": 33,
   "metadata": {},
   "outputs": [
    {
     "ename": "<class 'AttributeError'>",
     "evalue": "'NoneType' object has no attribute 'copy'",
     "output_type": "error",
     "traceback": [
      "\u001b[1;31m---------------------------------------------------------------------------\u001b[0m",
      "\u001b[1;31mAttributeError\u001b[0m                            Traceback (most recent call last)",
      "Cell \u001b[1;32mIn[33], line 3\u001b[0m\n\u001b[0;32m      1\u001b[0m \u001b[38;5;66;03m# Reduce memory usage in results372_df by selecting only needed columns early\u001b[39;00m\n\u001b[0;32m      2\u001b[0m \u001b[38;5;66;03m#ghz_qry = merged_df_final.drop(columns=[\"DroneModel1\", \"DroneModel2\", \"DroneModel3\", \"FlightPath_m1\", \"FlightPath_m2\", \"FlightPath_m3\",\"Stage_1\"], inplace=True).copy()\u001b[39;00m\n\u001b[1;32m----> 3\u001b[0m ghz_qry \u001b[38;5;241m=\u001b[39m merged_df_final\u001b[38;5;241m.\u001b[39mdrop(columns\u001b[38;5;241m=\u001b[39m[\u001b[38;5;124m\"\u001b[39m\u001b[38;5;124mSensor1\u001b[39m\u001b[38;5;124m\"\u001b[39m, \u001b[38;5;124m\"\u001b[39m\u001b[38;5;124mSensor2\u001b[39m\u001b[38;5;124m\"\u001b[39m, \u001b[38;5;124m\"\u001b[39m\u001b[38;5;124mSensor3\u001b[39m\u001b[38;5;124m\"\u001b[39m], inplace\u001b[38;5;241m=\u001b[39m\u001b[38;5;28;01mTrue\u001b[39;00m)\u001b[38;5;241m.\u001b[39mcopy()\n\u001b[0;32m      4\u001b[0m ghz_qry\u001b[38;5;241m.\u001b[39minfo()\n",
      "\u001b[1;31mAttributeError\u001b[0m: 'NoneType' object has no attribute 'copy'"
     ]
    }
   ],
   "source": [
    "# Reduce memory usage in results372_df by selecting only needed columns early\n",
    "#ghz_qry = merged_df_final.drop(columns=[\"DroneModel1\", \"DroneModel2\", \"DroneModel3\", \"FlightPath_m1\", \"FlightPath_m2\", \"FlightPath_m3\",\"Stage_1\"], inplace=True).copy()\n",
    "ghz_qry = merged_df_final.drop(columns=[\"Sensor1\", \"Sensor2\", \"Sensor3\"], inplace=True).copy()\n",
    "ghz_qry.info()"
   ]
  },
  {
   "cell_type": "code",
   "execution_count": 36,
   "metadata": {},
   "outputs": [],
   "source": [
    "merged_df_final.to_csv(r\"D:\\NDIS_Database\\13_NDIS_Display\\Page2Layers\\result_query.csv\", index=False)"
   ]
  },
  {
   "cell_type": "markdown",
   "metadata": {},
   "source": [
    "# Dashboard Page 3"
   ]
  },
  {
   "cell_type": "code",
   "execution_count": 6,
   "metadata": {},
   "outputs": [
    {
     "name": "stdout",
     "output_type": "stream",
     "text": [
      "<class 'pandas.core.frame.DataFrame'>\n",
      "RangeIndex: 1931885 entries, 0 to 1931884\n",
      "Data columns (total 6 columns):\n",
      " #   Column      Dtype  \n",
      "---  ------      -----  \n",
      " 0   HazardID    int64  \n",
      " 1   latitude    float64\n",
      " 2   longitude   float64\n",
      " 3   HazardType  object \n",
      " 4   distance    float64\n",
      " 5   pop         float64\n",
      "dtypes: float64(4), int64(1), object(1)\n",
      "memory usage: 88.4+ MB\n"
     ]
    }
   ],
   "source": [
    "page3chart = merged_df_final[[\n",
    "    \"HazardID\",\n",
    "    \"latitude\",\n",
    "    \"longitude\",\n",
    "    \"HazardType\",\n",
    "    \"distance\",\n",
    "    \"pop\"\n",
    "]].copy()\n",
    "page3chart.info()"
   ]
  },
  {
   "cell_type": "code",
   "execution_count": 14,
   "metadata": {},
   "outputs": [
    {
     "name": "stdout",
     "output_type": "stream",
     "text": [
      "<class 'pandas.core.frame.DataFrame'>\n",
      "RangeIndex: 1931885 entries, 0 to 1931884\n",
      "Data columns (total 7 columns):\n",
      " #   Column          Dtype  \n",
      "---  ------          -----  \n",
      " 0   HazardID        int64  \n",
      " 1   latitude        float64\n",
      " 2   longitude       float64\n",
      " 3   HazardType      object \n",
      " 4   distance        float64\n",
      " 5   pop             float64\n",
      " 6   distance_class  object \n",
      "dtypes: float64(4), int64(1), object(2)\n",
      "memory usage: 103.2+ MB\n"
     ]
    }
   ],
   "source": [
    "# Categorize distance (in meters)\n",
    "def classify_distance(m):\n",
    "    if m < 1000:\n",
    "        return \"<1km\"\n",
    "    elif m < 5000:\n",
    "        return \"1-5km\"\n",
    "    elif m < 20000:\n",
    "        return \"5-20km\"\n",
    "    elif m < 50000:\n",
    "        return \"20-50km\"\n",
    "    else:\n",
    "        return \"> 50km\"\n",
    "\n",
    "page3chart[\"distance_class\"] = page3chart[\"distance\"].apply(classify_distance)\n",
    "page3chart.info()"
   ]
  },
  {
   "cell_type": "code",
   "execution_count": null,
   "metadata": {},
   "outputs": [],
   "source": [
    "# Reduce memory usage in results372_df by selecting only needed columns early\n",
    "page3chart = page3chart.drop(columns=[\n",
    "    \"distance_class\", \"DistanceOverkill\"], inplace=True)"
   ]
  },
  {
   "cell_type": "code",
   "execution_count": null,
   "metadata": {},
   "outputs": [],
   "source": [
    "results372_df.to_csv(r\"D:\\NDIS_Database\\13_NDIS_Display\\Page2Layers\\result_query.csv\", index=False)"
   ]
  },
  {
   "cell_type": "code",
   "execution_count": 16,
   "metadata": {},
   "outputs": [
    {
     "name": "stdout",
     "output_type": "stream",
     "text": [
      "<class 'pandas.core.frame.DataFrame'>\n",
      "RangeIndex: 6 entries, 0 to 5\n",
      "Data columns (total 2 columns):\n",
      " #   Column      Non-Null Count  Dtype \n",
      "---  ------      --------------  ----- \n",
      " 0   HazardType  6 non-null      object\n",
      " 1   count       6 non-null      int64 \n",
      "dtypes: int64(1), object(1)\n",
      "memory usage: 228.0+ bytes\n"
     ]
    }
   ],
   "source": [
    "hazard_summary = page3chart.groupby(\"HazardType\").size().reset_index(name=\"count\")\n",
    "hazard_summary.info()"
   ]
  },
  {
   "cell_type": "code",
   "execution_count": 18,
   "metadata": {},
   "outputs": [
    {
     "name": "stdout",
     "output_type": "stream",
     "text": [
      "<class 'pandas.core.frame.DataFrame'>\n",
      "RangeIndex: 5 entries, 0 to 4\n",
      "Data columns (total 2 columns):\n",
      " #   Column          Non-Null Count  Dtype \n",
      "---  ------          --------------  ----- \n",
      " 0   distance_class  5 non-null      object\n",
      " 1   count           5 non-null      int64 \n",
      "dtypes: int64(1), object(1)\n",
      "memory usage: 212.0+ bytes\n"
     ]
    }
   ],
   "source": [
    "distance_summary = page3chart.groupby(\"distance_class\").size().reset_index(name=\"count\")\n",
    "distance_summary.info()"
   ]
  },
  {
   "cell_type": "code",
   "execution_count": 39,
   "metadata": {},
   "outputs": [
    {
     "data": {
      "image/png": "[encoded data removed]",
      "text/plain": [
       "<Figure size 800x600 with 1 Axes>"
      ]
     },
     "metadata": {},
     "output_type": "display_data"
    }
   ],
   "source": [
    "# Categorize distance (in meters)\n",
    "def classify_distance(m):\n",
    "    if m < 1000:\n",
    "        return \"<1km\"\n",
    "    elif m < 5000:\n",
    "        return \"1-5km\"\n",
    "    elif m < 20000:\n",
    "        return \"5-20km\"\n",
    "    elif m < 50000:\n",
    "        return \"20-50km\"\n",
    "    else:\n",
    "        return \"> 50km\"\n",
    "# Apply categorization\n",
    "page3chart[\"distance_category\"] = page3chart[\"distance\"].apply(classify_distance)\n",
    "\n",
    "# Count each category\n",
    "distance_counts = page3chart[\"distance_category\"].value_counts().sort_index()\n",
    "\n",
    "# Plot donut chart\n",
    "fig, ax = plt.subplots(figsize=(8, 6))\n",
    "wedges, texts, autotexts = ax.pie(\n",
    "    distance_counts, \n",
    "    labels=distance_counts.index, \n",
    "    autopct='%1.1f%%', \n",
    "    startangle=90,\n",
    "    pctdistance=0.85,\n",
    "    wedgeprops=dict(width=0.4)\n",
    ")\n",
    "\n",
    "# Draw circle for donut hole\n",
    "centre_circle = plt.Circle((0,0),0.65,fc='white')\n",
    "fig.gca().add_artist(centre_circle)\n",
    "\n",
    "ax.axis('equal')  # Equal aspect ratio ensures that pie is drawn as a circle.\n",
    "plt.title(\"Hazard Distance to Road Categories\")\n",
    "\n",
    "# Save the doughnut chart as a PNG image with high resolution\n",
    "#plt.savefig(r'D:\\NDIS_Database\\distance_distribution.png', dpi=300, transparent=True)\n",
    "plt.show()"
   ]
  },
  {
   "cell_type": "code",
   "execution_count": 8,
   "metadata": {},
   "outputs": [],
   "source": [
    "import matplotlib.colors as mcolors"
   ]
  },
  {
   "cell_type": "code",
   "execution_count": 39,
   "metadata": {},
   "outputs": [
    {
     "data": {
      "image/png": "[encoded data removed]",
      "text/plain": [
       "<Figure size 800x600 with 1 Axes>"
      ]
     },
     "metadata": {},
     "output_type": "display_data"
    }
   ],
   "source": [
    "# Categorize distance (in meters)\n",
    "def classify_distance(m):\n",
    "    if m < 1000:\n",
    "        return \"<1km\"\n",
    "    elif m < 5000:\n",
    "        return \"1–5km\"\n",
    "    elif m < 20000:\n",
    "        return \"5–20km\"\n",
    "    elif m < 50000:\n",
    "        return \"20–50km\"\n",
    "    else:\n",
    "        return \">50km\"\n",
    "\n",
    "# Apply categorization\n",
    "page3chart[\"distance_category\"] = page3chart[\"distance\"].apply(classify_distance)\n",
    "\n",
    "# Count each category\n",
    "distance_counts = page3chart[\"distance_category\"].value_counts().sort_index()\n",
    "\n",
    "# Colorblind-safe palette (Okabe & Ito)\n",
    "colors = [\"#E69F00\", \"#56B4E9\", \"#009E73\", \"#F0E442\", \"#0072B2\"]\n",
    "\n",
    "# Normalize for brightness check\n",
    "def get_text_color(hex_color):\n",
    "    rgb = mcolors.hex2color(hex_color)\n",
    "    brightness = np.dot(rgb, [0.299, 0.587, 0.114])  # luminance\n",
    "    return 'black' if brightness > 0.6 else 'white'\n",
    "\n",
    "# Plot donut chart\n",
    "fig, ax = plt.subplots(figsize=(8, 6))\n",
    "fig.subplots_adjust(top=0.9, bottom=0.2)  # Adjust bottom margin\n",
    "wedges, texts, autotexts = ax.pie(\n",
    "    distance_counts,\n",
    "    labels=distance_counts.index,\n",
    "    autopct='%1.1f%%',\n",
    "    startangle=40,\n",
    "    pctdistance=0.85,\n",
    "    wedgeprops=dict(width=0.4),\n",
    "    colors=colors\n",
    ")\n",
    "\n",
    "# Adjust text color based on wedge background\n",
    "for i, autotext in enumerate(autotexts):\n",
    "    #autotext.set_color(get_text_color(colors[i]))\n",
    "    autotext.set_fontsize(19)\n",
    "for t in texts:\n",
    "    t.set_fontsize(19)\n",
    "\n",
    "# Donut hole\n",
    "centre_circle = plt.Circle((0, 0), 0.65, fc='white')\n",
    "ax.add_artist(centre_circle)\n",
    "\n",
    "# Add center title\n",
    "ax.text(0, 0, \"Geohazard\\nDistance to\\nNearest Road\", ha='center', va='center', fontsize=24, weight='bold', color='black')\n",
    "\n",
    "# Caption below\n",
    "plt.figtext(0.5, 0.025,\n",
    "    \"Distribution of geohazard events by proximity to road network.\",\n",
    "    wrap=True, horizontalalignment='center', fontsize=18)\n",
    "\n",
    "ax.axis('equal')\n",
    "plt.tight_layout()\n",
    "\n",
    "# Save if needed\n",
    "plt.savefig(r'D:\\NDIS_Database\\13_NDIS_Display\\Page3\\pictures\\distance_distribution.png', dpi=300, transparent=True)\n",
    "\n",
    "plt.show()\n"
   ]
  },
  {
   "cell_type": "code",
   "execution_count": 59,
   "metadata": {},
   "outputs": [
    {
     "data": {
      "image/png": "[encoded data removed]",
      "text/plain": [
       "<Figure size 800x600 with 1 Axes>"
      ]
     },
     "metadata": {},
     "output_type": "display_data"
    }
   ],
   "source": [
    "# Categorize distance (in meters)\n",
    "def classify_comm(m):\n",
    "    if m < 1000:\n",
    "        return \"<1km\"\n",
    "    elif m < 5000:\n",
    "        return \"1–5km\"\n",
    "    elif m < 20000:\n",
    "        return \"5–20km\"\n",
    "    elif m < 50000:\n",
    "        return \"20–50km\"\n",
    "    else:\n",
    "        return \">50km\"\n",
    "\n",
    "# Apply categorization\n",
    "rpas_db0524[\"comm_category\"] = rpas_db0524[\"comm_range\"].apply(classify_comm)\n",
    "\n",
    "# Count each category\n",
    "comm_countsr = rpas_db0524[\"comm_category\"].value_counts().sort_index()\n",
    "\n",
    "# Colorblind-safe palette (Okabe & Ito)\n",
    "colors = [\"#E69F00\", \"#56B4E9\", \"#009E73\", \"#F0E442\", \"#0072B2\"]\n",
    "\n",
    "# Normalize for brightness check\n",
    "def get_text_color(hex_color):\n",
    "    rgb = mcolors.hex2color(hex_color)\n",
    "    brightness = np.dot(rgb, [0.299, 0.587, 0.114])  # luminance\n",
    "    return 'black' if brightness > 0.6 else 'white'\n",
    "\n",
    "# Plot donut chart\n",
    "fig, ax = plt.subplots(figsize=(8, 6))\n",
    "fig.subplots_adjust(top=0.9, bottom=0.2)  # Adjust bottom margin\n",
    "wedges, texts, autotexts = ax.pie(\n",
    "    comm_countsr,\n",
    "    labels=comm_countsr.index,\n",
    "    autopct='%1.1f%%',\n",
    "    startangle=30,\n",
    "    pctdistance=0.85,\n",
    "    wedgeprops=dict(width=0.4),\n",
    "    colors=colors\n",
    ")\n",
    "\n",
    "# Adjust text color based on wedge background\n",
    "for i, autotext in enumerate(autotexts):\n",
    "    #autotext.set_color(get_text_color(colors[i]))\n",
    "    autotext.set_fontsize(19)\n",
    "for t in texts:\n",
    "    t.set_fontsize(19)\n",
    "\n",
    "# Donut hole\n",
    "centre_circle = plt.Circle((0, 0), 0.65, fc='white')\n",
    "ax.add_artist(centre_circle)\n",
    "\n",
    "# Add center title\n",
    "ax.text(0, 0, \"Drone\\nCommunication\\nRange\", ha='center', va='center', fontsize=24, weight='bold', color='black')\n",
    "\n",
    "# Caption below\n",
    "plt.figtext(0.5, 0.025,\n",
    "    \"Distribution of drone communication range.\",\n",
    "    wrap=True, horizontalalignment='center', fontsize=18)\n",
    "\n",
    "ax.axis('equal')\n",
    "plt.tight_layout()\n",
    "\n",
    "# Save if needed\n",
    "plt.savefig(r'D:\\NDIS_Database\\13_NDIS_Display\\Page3\\pictures\\drone_comm.png', dpi=300, transparent=True)\n",
    "\n",
    "plt.show()\n"
   ]
  },
  {
   "cell_type": "code",
   "execution_count": 58,
   "metadata": {},
   "outputs": [
    {
     "data": {
      "text/plain": [
       "comm_category\n",
       "1–5km      37\n",
       "20–50km    16\n",
       "5–20km     47\n",
       "<1km        3\n",
       ">50km      76\n",
       "Name: count, dtype: int64"
      ]
     },
     "execution_count": 58,
     "metadata": {},
     "output_type": "execute_result"
    }
   ],
   "source": [
    "comm_countsr"
   ]
  },
  {
   "cell_type": "code",
   "execution_count": 51,
   "metadata": {},
   "outputs": [
    {
     "name": "stdout",
     "output_type": "stream",
     "text": [
      "<class 'pandas.core.frame.DataFrame'>\n",
      "RangeIndex: 179 entries, 0 to 178\n",
      "Data columns (total 29 columns):\n",
      " #   Column              Non-Null Count  Dtype  \n",
      "---  ------              --------------  -----  \n",
      " 0   rpas_id             179 non-null    int64  \n",
      " 1   country             179 non-null    object \n",
      " 2   manufacturer        179 non-null    object \n",
      " 3   mfc_model           179 non-null    object \n",
      " 4   mtow                157 non-null    float64\n",
      " 5   length              153 non-null    float64\n",
      " 6   width               160 non-null    float64\n",
      " 7   height              135 non-null    float64\n",
      " 8   max_speed           154 non-null    float64\n",
      " 9   distance_range      71 non-null     float64\n",
      " 10  flight_time         165 non-null    float64\n",
      " 11  max_payload_weight  161 non-null    float64\n",
      " 12  max_alt             102 non-null    float64\n",
      " 13  comm_range          118 non-null    float64\n",
      " 14  power_source        163 non-null    object \n",
      " 15  power               111 non-null    object \n",
      " 16  gps_accuracy        64 non-null     object \n",
      " 17  engine              135 non-null    object \n",
      " 18  configuration       176 non-null    object \n",
      " 19  flight_cont         87 non-null     object \n",
      " 20  materials           87 non-null     object \n",
      " 21  min_op_temp         110 non-null    float64\n",
      " 22  max_op_temp         109 non-null    float64\n",
      " 23  oas                 89 non-null     object \n",
      " 24  price               59 non-null     float64\n",
      " 25  reg                 115 non-null    object \n",
      " 26  def_payload         142 non-null    object \n",
      " 27  purpose             154 non-null    object \n",
      " 28  source              141 non-null    object \n",
      "dtypes: float64(13), int64(1), object(15)\n",
      "memory usage: 40.7+ KB\n"
     ]
    }
   ],
   "source": [
    "rpas_db0524 = pd.read_csv(\"D:/NDIS_Database/rpas_db0524.csv\") # Completed version of RPAS gdb with NaN data on distance\n",
    "rpas_db0524.info()"
   ]
  },
  {
   "cell_type": "code",
   "execution_count": 52,
   "metadata": {},
   "outputs": [
    {
     "data": {
      "text/plain": [
       "array([2.000e+05, 2.000e+03, 4.000e+03, 8.000e+03, 7.000e+03, 1.500e+04,\n",
       "       5.000e+03, 1.000e+04, 1.000e+03, 2.000e+04, 3.500e+04, 1.600e+04,\n",
       "       5.000e+02, 1.000e+05, 5.000e+04,       nan, 3.000e+03, 8.000e+04,\n",
       "       1.200e+04, 3.000e+02, 1.500e+03, 6.000e+01, 5.000e+05, 3.200e+03,\n",
       "       4.000e+04, 4.000e+05, 4.500e+04, 3.500e+03, 7.500e+03, 2.250e+04,\n",
       "       5.954e+03])"
      ]
     },
     "execution_count": 52,
     "metadata": {},
     "output_type": "execute_result"
    }
   ],
   "source": [
    "rpas_db0524.comm_range.unique()"
   ]
  },
  {
   "cell_type": "code",
   "execution_count": 53,
   "metadata": {},
   "outputs": [
    {
     "data": {
      "text/plain": [
       "comm_category\n",
       "1–5km      37\n",
       "20–50km    16\n",
       "5–20km     47\n",
       "<1km        3\n",
       ">50km      76\n",
       "Name: count, dtype: int64"
      ]
     },
     "execution_count": 53,
     "metadata": {},
     "output_type": "execute_result"
    }
   ],
   "source": [
    "# Apply categorization\n",
    "rpas_db0524[\"comm_category\"] = rpas_db0524[\"comm_range\"].apply(classify_comm)\n",
    "\n",
    "# Count each category\n",
    "comm_countsr = rpas_db0524[\"comm_category\"].value_counts().sort_index()\n",
    "comm_countsr"
   ]
  },
  {
   "cell_type": "code",
   "execution_count": 18,
   "metadata": {},
   "outputs": [
    {
     "name": "stdout",
     "output_type": "stream",
     "text": [
      "Total geohazard points: 1,931,885\n"
     ]
    }
   ],
   "source": [
    "total_points = len(page3chart)\n",
    "print(f\"Total geohazard points: {total_points:,}\")\n"
   ]
  },
  {
   "cell_type": "code",
   "execution_count": 60,
   "metadata": {},
   "outputs": [
    {
     "data": {
      "text/plain": [
       "payloadweight_cat\n",
       "1–2kg           7\n",
       "2–5kg          39\n",
       "500gr – 1kg    16\n",
       "< 500gr        45\n",
       "> 5kg          72\n",
       "Name: count, dtype: int64"
      ]
     },
     "execution_count": 60,
     "metadata": {},
     "output_type": "execute_result"
    }
   ],
   "source": [
    "# Categorize drones by max distance\n",
    "def categorize_drone_weight(weight):\n",
    "    if weight <= 500:\n",
    "        return \"< 500gr\"\n",
    "    elif weight <= 1000:\n",
    "        return \"500gr – 1kg\"\n",
    "    elif weight <= 2000:\n",
    "        return \"1–2kg\"\n",
    "    elif weight <= 5000:\n",
    "        return \"2–5kg\"\n",
    "    else:\n",
    "        return \"> 5kg\"\n",
    "\n",
    "rpas_db0524[\"payloadweight_cat\"] = rpas_db0524[\"max_payload_weight\"].apply(categorize_drone_weight)\n",
    "\n",
    "# Count per category\n",
    "drone_weight_counts = rpas_db0524[\"payloadweight_cat\"].value_counts().sort_index()\n",
    "drone_weight_counts"
   ]
  },
  {
   "cell_type": "code",
   "execution_count": null,
   "metadata": {},
   "outputs": [],
   "source": [
    "\n",
    "# Plot donut chart\n",
    "fig, ax = plt.subplots(figsize=(8, 6))\n",
    "fig.subplots_adjust(top=0.9, bottom=0.2)  # Adjust bottom margin\n",
    "wedges, texts, autotexts = ax.pie(\n",
    "    comm_countsr,\n",
    "    labels=comm_countsr.index,\n",
    "    autopct='%1.1f%%',\n",
    "    startangle=30,\n",
    "    pctdistance=0.85,\n",
    "    wedgeprops=dict(width=0.4),\n",
    "    colors=colors\n",
    ")\n",
    "\n",
    "# Adjust text color based on wedge background\n",
    "for i, autotext in enumerate(autotexts):\n",
    "    #autotext.set_color(get_text_color(colors[i]))\n",
    "    autotext.set_fontsize(19)\n",
    "for t in texts:\n",
    "    t.set_fontsize(19)\n",
    "\n",
    "# Donut hole\n",
    "centre_circle = plt.Circle((0, 0), 0.65, fc='white')\n",
    "ax.add_artist(centre_circle)\n",
    "\n",
    "# Add center title\n",
    "ax.text(0, 0, \"Drone\\nCommunication\\nRange\", ha='center', va='center', fontsize=24, weight='bold', color='black')\n",
    "\n",
    "# Caption below\n",
    "plt.figtext(0.5, 0.025,\n",
    "    \"Distribution of drone communication range.\",\n",
    "    wrap=True, horizontalalignment='center', fontsize=18)\n",
    "\n",
    "ax.axis('equal')\n",
    "plt.tight_layout()"
   ]
  },
  {
   "cell_type": "code",
   "execution_count": 67,
   "metadata": {},
   "outputs": [
    {
     "data": {
      "image/png": "[encoded data removed]",
      "text/plain": [
       "<Figure size 800x600 with 1 Axes>"
      ]
     },
     "metadata": {},
     "output_type": "display_data"
    }
   ],
   "source": [
    "# Colorblind-safe palette (Okabe & Ito)\n",
    "colors = [\"#E69F00\", \"#56B4E9\", \"#009E73\", \"#F0E442\", \"#0072B2\"]\n",
    "\n",
    "# Normalize for brightness check\n",
    "def get_text_color(hex_color):\n",
    "    rgb = mcolors.hex2color(hex_color)\n",
    "    brightness = np.dot(rgb, [0.299, 0.587, 0.114])  # luminance\n",
    "    return 'black' if brightness > 0.6 else 'white'\n",
    "\n",
    "# Plot donut\n",
    "fig, ax = plt.subplots(figsize=(8, 6))\n",
    "fig.subplots_adjust(top=0.9, bottom=0.2)  # Adjust bottom margin\n",
    "wedges, texts, autotexts = ax.pie(\n",
    "    drone_weight_counts,\n",
    "    labels=drone_weight_counts.index,\n",
    "    autopct='%1.1f%%',\n",
    "    startangle=40,\n",
    "    pctdistance=0.85,\n",
    "    wedgeprops=dict(width=0.4),\n",
    "    colors=colors\n",
    ")\n",
    "\n",
    "# Adjust text color based on wedge background\n",
    "for i, autotext in enumerate(autotexts):\n",
    "    #autotext.set_color(get_text_color(colors[i]))\n",
    "    autotext.set_fontsize(19)\n",
    "for t in texts:\n",
    "    t.set_fontsize(19)\n",
    "\n",
    "# Donut hole\n",
    "centre_circle = plt.Circle((0, 0), 0.65, fc='white')\n",
    "ax.add_artist(centre_circle)\n",
    "\n",
    "# Add center title\n",
    "ax.text(0, 0, \"Drone\\nMax Payload\\nWeight\", ha='center', va='center', fontsize=24, weight='bold', color='black')\n",
    "\n",
    "# Caption below\n",
    "plt.figtext(0.5, 0.025,\n",
    "    \"Distribution of drone maximum payload weight.\",\n",
    "    wrap=True, horizontalalignment='center', fontsize=18)\n",
    "\n",
    "ax.axis('equal')\n",
    "plt.tight_layout()\n",
    "\n",
    "plt.savefig(r'D:\\NDIS_Database\\13_NDIS_Display\\Page3\\pictures\\drone_weight.png', dpi=300, transparent=True)\n",
    "\n",
    "plt.show()"
   ]
  },
  {
   "cell_type": "code",
   "execution_count": 76,
   "metadata": {},
   "outputs": [
    {
     "data": {
      "text/plain": [
       "['Earthquake',\n",
       " 'Fault',\n",
       " 'Landslide',\n",
       " 'Nuclear Power Plant',\n",
       " 'Volcano',\n",
       " 'Tsunami']"
      ]
     },
     "execution_count": 76,
     "metadata": {},
     "output_type": "execute_result"
    }
   ],
   "source": [
    "labels"
   ]
  },
  {
   "cell_type": "code",
   "execution_count": 105,
   "metadata": {},
   "outputs": [],
   "source": [
    "page3chart['HazardType'] = page3chart['HazardType'].replace({'Nuclear': 'Nuclear Power Plant'})"
   ]
  },
  {
   "cell_type": "code",
   "execution_count": 138,
   "metadata": {},
   "outputs": [
    {
     "data": {
      "image/png": "[encoded data removed]",
      "text/plain": [
       "<Figure size 1000x600 with 1 Axes>"
      ]
     },
     "metadata": {},
     "output_type": "display_data"
    }
   ],
   "source": [
    "# Define color mapping based on hazard type\n",
    "hazard_color_map = {\n",
    "    \"Volcano\": \"#d95f02\",             # Orange\n",
    "    \"Earthquake\": \"#1b9e77\",          # Green\n",
    "    \"Landslide\": \"#7570b3\",           # Purple\n",
    "    \"Tsunami\": \"#56B4E9\",             # Sky Blue\n",
    "    \"Fault\": \"#999999\",               # Gray\n",
    "    \"Nuclear Power Plant\": \"#f7f056\"  # Yellow\n",
    "}\n",
    "# Count values\n",
    "hazard_counts = page3chart['HazardType'].value_counts()\n",
    "\n",
    "# Desired custom order\n",
    "custom_order = ['Volcano', 'Landslide', 'Tsunami', 'Fault', 'Nuclear Power Plant', 'Earthquake']\n",
    "# Reindex with custom order\n",
    "hazard_counts = hazard_counts.reindex(custom_order).fillna(0)\n",
    "\n",
    "# Color map based on your accessible palette\n",
    "color_map = {\n",
    "    'Volcano': '#d95f02',\n",
    "    'Earthquake': '#1b9e77',\n",
    "    'Landslide': '#7570b3',\n",
    "    'Tsunami': '#56B4E9',\n",
    "    'Fault': '#999999',\n",
    "    'Nuclear Power Plant': '#f7f056'\n",
    "}\n",
    "colors = [color_map.get(h, '#333333') for h in hazard_counts.index]\n",
    "\n",
    "# Plot\n",
    "fig, ax = plt.subplots(figsize=(10, 6))\n",
    "bars = ax.barh(hazard_counts.index, hazard_counts.values, color=colors)\n",
    "ax.set_xscale('log')\n",
    "ax.set_xlabel(\"Log-scaled count of geohazard sites and events\", fontsize=18)\n",
    "ax.set_title(\"Global Geohazard Type Distribution (Log Scale)\", fontsize=20)\n",
    "ax.tick_params(axis='y', labelsize=16)\n",
    "\n",
    "# Add value labels\n",
    "#for bar, val in zip(bars, hazard_counts.values):\n",
    "#    ax.text(val, bar.get_y() + bar.get_height()/2,\n",
    "#            f'{int(val):,}', va='center', ha='left', fontsize=10)\n",
    "    \n",
    "for i, (label, v) in enumerate(zip(hazard_counts.index, hazard_counts.values)):\n",
    "    if label == 'Tsunami':\n",
    "        ax.text(v * 1.05, i, f\"{v:,}\", va='center', ha='left', fontsize=14, color='black')\n",
    "    else:\n",
    "        ax.text(v * 0.95, i, f\"{v:,}\", va='center', ha='right', fontsize=14, color='black')\n",
    "\n",
    "\n",
    "plt.tight_layout()\n",
    "plt.savefig(r'D:\\NDIS_Database\\13_NDIS_Display\\Page3\\pictures\\ghz_type.png', dpi=300, transparent=True)\n",
    "plt.show()"
   ]
  },
  {
   "cell_type": "code",
   "execution_count": 116,
   "metadata": {},
   "outputs": [
    {
     "data": {
      "text/plain": [
       "['Volcano',\n",
       " 'Earthquake',\n",
       " 'Landslide',\n",
       " 'Tsunami',\n",
       " 'Fault',\n",
       " 'Nuclear Power Plant']"
      ]
     },
     "execution_count": 116,
     "metadata": {},
     "output_type": "execute_result"
    }
   ],
   "source": [
    "ordered_labels"
   ]
  },
  {
   "cell_type": "code",
   "execution_count": 19,
   "metadata": {},
   "outputs": [],
   "source": [
    "hazard_summary.to_csv(r\"D:\\NDIS_Database\\13_NDIS_Display\\Page3\\hazard_type_summary.csv\", index=False)\n",
    "distance_summary.to_csv(r\"D:\\NDIS_Database\\13_NDIS_Display\\Page3\\distance_category_summary.csv\", index=False)"
   ]
  },
  {
   "cell_type": "code",
   "execution_count": 20,
   "metadata": {},
   "outputs": [
    {
     "name": "stdout",
     "output_type": "stream",
     "text": [
      "<class 'pandas.core.frame.DataFrame'>\n",
      "RangeIndex: 6 entries, 0 to 5\n",
      "Data columns (total 2 columns):\n",
      " #   Column              Non-Null Count  Dtype  \n",
      "---  ------              --------------  -----  \n",
      " 0   HazardType          6 non-null      object \n",
      " 1   population_at_risk  6 non-null      float64\n",
      "dtypes: float64(1), object(1)\n",
      "memory usage: 228.0+ bytes\n"
     ]
    }
   ],
   "source": [
    "pop_by_hazard = page3chart.groupby(\"HazardType\")[\"pop\"].sum().reset_index(name=\"population_at_risk\")\n",
    "pop_by_hazard.info()"
   ]
  },
  {
   "cell_type": "code",
   "execution_count": 21,
   "metadata": {},
   "outputs": [
    {
     "data": {
      "text/plain": [
       "234014939932"
      ]
     },
     "execution_count": 21,
     "metadata": {},
     "output_type": "execute_result"
    }
   ],
   "source": [
    "total_pop = int(page3chart[\"pop\"].sum())\n",
    "total_pop"
   ]
  },
  {
   "cell_type": "code",
   "execution_count": 141,
   "metadata": {},
   "outputs": [],
   "source": [
    "# \"% of Hazards Near >10,000 People\""
   ]
  },
  {
   "cell_type": "code",
   "execution_count": 142,
   "metadata": {},
   "outputs": [
    {
     "data": {
      "text/html": [
       "<div>\n",
       "<style scoped>\n",
       "    .dataframe tbody tr th:only-of-type {\n",
       "        vertical-align: middle;\n",
       "    }\n",
       "\n",
       "    .dataframe tbody tr th {\n",
       "        vertical-align: top;\n",
       "    }\n",
       "\n",
       "    .dataframe thead th {\n",
       "        text-align: right;\n",
       "    }\n",
       "</style>\n",
       "<table border=\"1\" class=\"dataframe\">\n",
       "  <thead>\n",
       "    <tr style=\"text-align: right;\">\n",
       "      <th></th>\n",
       "      <th>HazardType</th>\n",
       "      <th>pct_high_exposure</th>\n",
       "    </tr>\n",
       "  </thead>\n",
       "  <tbody>\n",
       "    <tr>\n",
       "      <th>0</th>\n",
       "      <td>Earthquake</td>\n",
       "      <td>36.562410</td>\n",
       "    </tr>\n",
       "    <tr>\n",
       "      <th>1</th>\n",
       "      <td>Fault</td>\n",
       "      <td>41.733450</td>\n",
       "    </tr>\n",
       "    <tr>\n",
       "      <th>2</th>\n",
       "      <td>Landslide</td>\n",
       "      <td>89.633174</td>\n",
       "    </tr>\n",
       "    <tr>\n",
       "      <th>3</th>\n",
       "      <td>Nuclear Power Plant</td>\n",
       "      <td>96.171317</td>\n",
       "    </tr>\n",
       "    <tr>\n",
       "      <th>4</th>\n",
       "      <td>Tsunami</td>\n",
       "      <td>43.360434</td>\n",
       "    </tr>\n",
       "    <tr>\n",
       "      <th>5</th>\n",
       "      <td>Volcano</td>\n",
       "      <td>52.660550</td>\n",
       "    </tr>\n",
       "  </tbody>\n",
       "</table>\n",
       "</div>"
      ],
      "text/plain": [
       "            HazardType  pct_high_exposure\n",
       "0           Earthquake          36.562410\n",
       "1                Fault          41.733450\n",
       "2            Landslide          89.633174\n",
       "3  Nuclear Power Plant          96.171317\n",
       "4              Tsunami          43.360434\n",
       "5              Volcano          52.660550"
      ]
     },
     "execution_count": 142,
     "metadata": {},
     "output_type": "execute_result"
    }
   ],
   "source": [
    "threshold = 10000  # or 1e6 for major urban\n",
    "pop_flag = page3chart.copy()\n",
    "pop_flag[\"high_pop\"] = pop_flag[\"pop\"] > threshold\n",
    "\n",
    "hazard_high_pct = (\n",
    "    pop_flag.groupby(\"HazardType\")[\"high_pop\"]\n",
    "    .mean()\n",
    "    .reset_index(name=\"pct_high_exposure\")\n",
    ")\n",
    "hazard_high_pct[\"pct_high_exposure\"] *= 100  # convert to percentage\n",
    "\n",
    "hazard_high_pct"
   ]
  },
  {
   "cell_type": "code",
   "execution_count": 148,
   "metadata": {},
   "outputs": [
    {
     "data": {
      "image/png": "[encoded data removed]",
      "text/plain": [
       "<Figure size 1000x600 with 1 Axes>"
      ]
     },
     "metadata": {},
     "output_type": "display_data"
    }
   ],
   "source": [
    "# Hazard Events Within 30 km of Populated Areas (Over 10,000 People)\n",
    "# Reorder the data to match custom order\n",
    "custom_order = ['Volcano', 'Landslide', 'Tsunami', 'Fault', 'Nuclear Power Plant', 'Earthquake']\n",
    "hazard_high_pct = hazard_high_pct.set_index(\"HazardType\").reindex(custom_order).reset_index()\n",
    "\n",
    "# Color mapping\n",
    "color_map = {\n",
    "    \"Volcano\": \"#d95f02\",\n",
    "    \"Earthquake\": \"#1b9e77\",\n",
    "    \"Landslide\": \"#7570b3\",\n",
    "    \"Tsunami\": \"#56B4E9\",\n",
    "    \"Fault\": \"#999999\",\n",
    "    \"Nuclear Power Plant\": \"#f7f056\"\n",
    "}\n",
    "colors = [color_map[h] for h in hazard_high_pct[\"HazardType\"]]\n",
    "\n",
    "# Plot horizontal bar chart\n",
    "fig, ax = plt.subplots(figsize=(10, 6))\n",
    "bars = ax.barh(hazard_high_pct[\"HazardType\"], hazard_high_pct[\"pct_high_exposure\"], color=colors)\n",
    "ax.set_xlabel(\"% of Events Near Populated Areas (>10,000 People)\", fontsize=16)\n",
    "ax.set_title(\"Population (Within 30 km) Exposure Near Geohazard Sites\", fontsize=18)\n",
    "ax.tick_params(axis='y', labelsize=14)\n",
    "ax.set_xlim(0, 100)\n",
    "\n",
    "# Add labels\n",
    "for i, (label, v) in enumerate(zip(hazard_high_pct[\"HazardType\"], hazard_high_pct[\"pct_high_exposure\"])):\n",
    "    ax.text(v + 1, i, f\"{v:.1f}%\", va='center', ha='right', fontsize=14, color='black')\n",
    "\n",
    "plt.tight_layout()\n",
    "plt.savefig(r\"D:\\NDIS_Database\\13_NDIS_Display\\Page3\\pictures\\pop_exposure.png\", dpi=300, transparent=True)\n",
    "plt.show()"
   ]
  },
  {
   "cell_type": "code",
   "execution_count": 24,
   "metadata": {},
   "outputs": [],
   "source": [
    "hazard_high_pct.to_csv(r\"D:\\NDIS_Database\\13_NDIS_Display\\Page3\\hazard_high_pct.csv\", index=False)"
   ]
  },
  {
   "cell_type": "markdown",
   "metadata": {},
   "source": [
    "# Page 2 Standard version"
   ]
  },
  {
   "cell_type": "code",
   "execution_count": 27,
   "metadata": {},
   "outputs": [
    {
     "name": "stdout",
     "output_type": "stream",
     "text": [
      "<class 'pandas.core.frame.DataFrame'>\n",
      "RangeIndex: 16346160 entries, 0 to 16346159\n",
      "Data columns (total 11 columns):\n",
      " #   Column         Dtype  \n",
      "---  ------         -----  \n",
      " 0   HazardID       int64  \n",
      " 1   HazardType     object \n",
      " 2   Stage          object \n",
      " 3   Sensor         object \n",
      " 4   FlightPath_m   float64\n",
      " 5   DroneRank      int64  \n",
      " 6   DroneModel     object \n",
      " 7   PayloadWeight  float64\n",
      " 8   DistanceRange  int64  \n",
      " 9   CommRange      float64\n",
      " 10  FlightTime     float64\n",
      "dtypes: float64(4), int64(3), object(4)\n",
      "memory usage: 1.3+ GB\n"
     ]
    }
   ],
   "source": [
    "results372_df.info()"
   ]
  },
  {
   "cell_type": "code",
   "execution_count": null,
   "metadata": {},
   "outputs": [],
   "source": [
    "results372_df.to_csv(r\"D:\\NDIS_Database\\13_NDIS_Display\\Page2Layers\\result_query.csv\", index=False)"
   ]
  },
  {
   "cell_type": "code",
   "execution_count": null,
   "metadata": {},
   "outputs": [],
   "source": [
    "page3chart = results372_df[[\n",
    "    \"HazardID\",\n",
    "    \"latitude\",\n",
    "    \"longitude\",\n",
    "    \"HazardType\",\n",
    "    \"distance\",\n",
    "    \"pop\"\n",
    "]].copy()\n",
    "page3chart.info()"
   ]
  },
  {
   "cell_type": "code",
   "execution_count": 40,
   "metadata": {},
   "outputs": [
    {
     "name": "stdout",
     "output_type": "stream",
     "text": [
      "<class 'pandas.core.frame.DataFrame'>\n",
      "Index: 1741272 entries, 15477 to 1902580\n",
      "Data columns (total 12 columns):\n",
      " #   Column                 Dtype  \n",
      "---  ------                 -----  \n",
      " 0   HazardID               int64  \n",
      " 1   latitude               float64\n",
      " 2   longitude              float64\n",
      " 3   HazardType             object \n",
      " 4   distance               float64\n",
      " 5   pop                    float64\n",
      " 6   intensity              float64\n",
      " 7   economic_loss_million  float64\n",
      " 8   duration_minutes       float64\n",
      " 9   travel_time            float64\n",
      " 10  monitor_time           float64\n",
      " 11  cpm_total_time         float64\n",
      "dtypes: float64(10), int64(1), object(1)\n",
      "memory usage: 172.7+ MB\n"
     ]
    }
   ],
   "source": [
    "ed_only = merged_df_final[(merged_df_final[\"HazardType\"] == \"Earthquake\")]\n",
    "ed_only.info()"
   ]
  },
  {
   "cell_type": "code",
   "execution_count": 41,
   "metadata": {},
   "outputs": [],
   "source": [
    "ed_only.to_csv(r\"D:\\NDIS_Database\\13_NDIS_Display\\Page2Layers\\ed_only.csv\", index=False)"
   ]
  },
  {
   "cell_type": "markdown",
   "metadata": {},
   "source": [
    "# Fault"
   ]
  },
  {
   "cell_type": "code",
   "execution_count": 150,
   "metadata": {},
   "outputs": [
    {
     "name": "stdout",
     "output_type": "stream",
     "text": [
      "<class 'pandas.core.frame.DataFrame'>\n",
      "Index: 172823 entries, 1671180 to 1931884\n",
      "Data columns (total 22 columns):\n",
      " #   Column                 Non-Null Count   Dtype  \n",
      "---  ------                 --------------   -----  \n",
      " 0   HazardID               172823 non-null  int64  \n",
      " 1   latitude               172823 non-null  float64\n",
      " 2   longitude              172823 non-null  float64\n",
      " 3   HazardType             172823 non-null  object \n",
      " 4   distance               143519 non-null  float64\n",
      " 5   pop                    143519 non-null  float64\n",
      " 6   intensity              143519 non-null  float64\n",
      " 7   economic_loss_million  143519 non-null  float64\n",
      " 8   duration_minutes       143519 non-null  float64\n",
      " 9   travel_time            142980 non-null  float64\n",
      " 10  monitor_time           143519 non-null  float64\n",
      " 11  cpm_total_time         142980 non-null  float64\n",
      " 12  DroneModel1            143519 non-null  object \n",
      " 13  DroneModel2            143519 non-null  object \n",
      " 14  DroneModel3            143519 non-null  object \n",
      " 15  FlightPath_m1          143519 non-null  float64\n",
      " 16  FlightPath_m2          143519 non-null  float64\n",
      " 17  FlightPath_m3          143519 non-null  float64\n",
      " 18  Sensor1                143519 non-null  object \n",
      " 19  Sensor2                143519 non-null  object \n",
      " 20  Sensor3                143519 non-null  object \n",
      " 21  Stage_1                143519 non-null  object \n",
      "dtypes: float64(13), int64(1), object(8)\n",
      "memory usage: 30.3+ MB\n"
     ]
    }
   ],
   "source": [
    "fault_df = merged_df_final[(merged_df_final[\"HazardType\"] == \"Fault\")]\n",
    "fault_df.info()"
   ]
  },
  {
   "cell_type": "code",
   "execution_count": 152,
   "metadata": {},
   "outputs": [
    {
     "ename": "<class 'KeyError'>",
     "evalue": "\"['DroneModel1', 'DroneModel2', 'DroneModel3', 'FlightPath_m1', 'FlightPath_m2', 'FlightPath_m3', 'Sensor1', 'Sensor2', 'Sensor3', 'Stage_1'] not found in axis\"",
     "output_type": "error",
     "traceback": [
      "\u001b[1;31m---------------------------------------------------------------------------\u001b[0m",
      "\u001b[1;31mKeyError\u001b[0m                                  Traceback (most recent call last)",
      "Cell \u001b[1;32mIn[152], line 2\u001b[0m\n\u001b[0;32m      1\u001b[0m \u001b[38;5;66;03m# Drop unwanted columns from ghz_df\u001b[39;00m\n\u001b[1;32m----> 2\u001b[0m fault_df\u001b[38;5;241m.\u001b[39mdrop(columns\u001b[38;5;241m=\u001b[39m[\n\u001b[0;32m      3\u001b[0m     \u001b[38;5;124m\"\u001b[39m\u001b[38;5;124mDroneModel1\u001b[39m\u001b[38;5;124m\"\u001b[39m, \u001b[38;5;124m\"\u001b[39m\u001b[38;5;124mDroneModel2\u001b[39m\u001b[38;5;124m\"\u001b[39m,\n\u001b[0;32m      4\u001b[0m     \u001b[38;5;124m\"\u001b[39m\u001b[38;5;124mDroneModel3\u001b[39m\u001b[38;5;124m\"\u001b[39m, \u001b[38;5;124m\"\u001b[39m\u001b[38;5;124mFlightPath_m1\u001b[39m\u001b[38;5;124m\"\u001b[39m,\n\u001b[0;32m      5\u001b[0m     \u001b[38;5;124m\"\u001b[39m\u001b[38;5;124mFlightPath_m2\u001b[39m\u001b[38;5;124m\"\u001b[39m, \u001b[38;5;124m\"\u001b[39m\u001b[38;5;124mFlightPath_m3\u001b[39m\u001b[38;5;124m\"\u001b[39m, \u001b[38;5;124m\"\u001b[39m\u001b[38;5;124mSensor1\u001b[39m\u001b[38;5;124m\"\u001b[39m,\n\u001b[0;32m      6\u001b[0m     \u001b[38;5;124m\"\u001b[39m\u001b[38;5;124mSensor2\u001b[39m\u001b[38;5;124m\"\u001b[39m, \u001b[38;5;124m\"\u001b[39m\u001b[38;5;124mSensor3\u001b[39m\u001b[38;5;124m\"\u001b[39m, \u001b[38;5;124m\"\u001b[39m\u001b[38;5;124mStage_1\u001b[39m\u001b[38;5;124m\"\u001b[39m\n\u001b[0;32m      7\u001b[0m ], inplace\u001b[38;5;241m=\u001b[39m\u001b[38;5;28;01mTrue\u001b[39;00m)\u001b[38;5;241m.\u001b[39mcopy()\n\u001b[0;32m      8\u001b[0m fault_df\u001b[38;5;241m.\u001b[39minfo()\n",
      "File \u001b[1;32mC:\\Program Files\\ArcGIS\\Pro\\bin\\Python\\envs\\arcgisclone\\Lib\\site-packages\\pandas\\core\\frame.py:5258\u001b[0m, in \u001b[0;36mDataFrame.drop\u001b[1;34m(self, labels, axis, index, columns, level, inplace, errors)\u001b[0m\n\u001b[0;32m   5110\u001b[0m \u001b[38;5;28;01mdef\u001b[39;00m \u001b[38;5;21mdrop\u001b[39m(\n\u001b[0;32m   5111\u001b[0m     \u001b[38;5;28mself\u001b[39m,\n\u001b[0;32m   5112\u001b[0m     labels: IndexLabel \u001b[38;5;241m=\u001b[39m \u001b[38;5;28;01mNone\u001b[39;00m,\n\u001b[1;32m   (...)\u001b[0m\n\u001b[0;32m   5119\u001b[0m     errors: IgnoreRaise \u001b[38;5;241m=\u001b[39m \u001b[38;5;124m\"\u001b[39m\u001b[38;5;124mraise\u001b[39m\u001b[38;5;124m\"\u001b[39m,\n\u001b[0;32m   5120\u001b[0m ) \u001b[38;5;241m-\u001b[39m\u001b[38;5;241m>\u001b[39m DataFrame \u001b[38;5;241m|\u001b[39m \u001b[38;5;28;01mNone\u001b[39;00m:\n\u001b[0;32m   5121\u001b[0m \u001b[38;5;250m    \u001b[39m\u001b[38;5;124;03m\"\"\"\u001b[39;00m\n\u001b[0;32m   5122\u001b[0m \u001b[38;5;124;03m    Drop specified labels from rows or columns.\u001b[39;00m\n\u001b[0;32m   5123\u001b[0m \n\u001b[1;32m   (...)\u001b[0m\n\u001b[0;32m   5256\u001b[0m \u001b[38;5;124;03m            weight  1.0     0.8\u001b[39;00m\n\u001b[0;32m   5257\u001b[0m \u001b[38;5;124;03m    \"\"\"\u001b[39;00m\n\u001b[1;32m-> 5258\u001b[0m     \u001b[38;5;28;01mreturn\u001b[39;00m \u001b[38;5;28msuper\u001b[39m()\u001b[38;5;241m.\u001b[39mdrop(\n\u001b[0;32m   5259\u001b[0m         labels\u001b[38;5;241m=\u001b[39mlabels,\n\u001b[0;32m   5260\u001b[0m         axis\u001b[38;5;241m=\u001b[39maxis,\n\u001b[0;32m   5261\u001b[0m         index\u001b[38;5;241m=\u001b[39mindex,\n\u001b[0;32m   5262\u001b[0m         columns\u001b[38;5;241m=\u001b[39mcolumns,\n\u001b[0;32m   5263\u001b[0m         level\u001b[38;5;241m=\u001b[39mlevel,\n\u001b[0;32m   5264\u001b[0m         inplace\u001b[38;5;241m=\u001b[39minplace,\n\u001b[0;32m   5265\u001b[0m         errors\u001b[38;5;241m=\u001b[39merrors,\n\u001b[0;32m   5266\u001b[0m     )\n",
      "File \u001b[1;32mC:\\Program Files\\ArcGIS\\Pro\\bin\\Python\\envs\\arcgisclone\\Lib\\site-packages\\pandas\\core\\generic.py:4549\u001b[0m, in \u001b[0;36mNDFrame.drop\u001b[1;34m(self, labels, axis, index, columns, level, inplace, errors)\u001b[0m\n\u001b[0;32m   4547\u001b[0m \u001b[38;5;28;01mfor\u001b[39;00m axis, labels \u001b[38;5;129;01min\u001b[39;00m axes\u001b[38;5;241m.\u001b[39mitems():\n\u001b[0;32m   4548\u001b[0m     \u001b[38;5;28;01mif\u001b[39;00m labels \u001b[38;5;129;01mis\u001b[39;00m \u001b[38;5;129;01mnot\u001b[39;00m \u001b[38;5;28;01mNone\u001b[39;00m:\n\u001b[1;32m-> 4549\u001b[0m         obj \u001b[38;5;241m=\u001b[39m obj\u001b[38;5;241m.\u001b[39m_drop_axis(labels, axis, level\u001b[38;5;241m=\u001b[39mlevel, errors\u001b[38;5;241m=\u001b[39merrors)\n\u001b[0;32m   4551\u001b[0m \u001b[38;5;28;01mif\u001b[39;00m inplace:\n\u001b[0;32m   4552\u001b[0m     \u001b[38;5;28mself\u001b[39m\u001b[38;5;241m.\u001b[39m_update_inplace(obj)\n",
      "File \u001b[1;32mC:\\Program Files\\ArcGIS\\Pro\\bin\\Python\\envs\\arcgisclone\\Lib\\site-packages\\pandas\\core\\generic.py:4591\u001b[0m, in \u001b[0;36mNDFrame._drop_axis\u001b[1;34m(self, labels, axis, level, errors, only_slice)\u001b[0m\n\u001b[0;32m   4589\u001b[0m         new_axis \u001b[38;5;241m=\u001b[39m axis\u001b[38;5;241m.\u001b[39mdrop(labels, level\u001b[38;5;241m=\u001b[39mlevel, errors\u001b[38;5;241m=\u001b[39merrors)\n\u001b[0;32m   4590\u001b[0m     \u001b[38;5;28;01melse\u001b[39;00m:\n\u001b[1;32m-> 4591\u001b[0m         new_axis \u001b[38;5;241m=\u001b[39m axis\u001b[38;5;241m.\u001b[39mdrop(labels, errors\u001b[38;5;241m=\u001b[39merrors)\n\u001b[0;32m   4592\u001b[0m     indexer \u001b[38;5;241m=\u001b[39m axis\u001b[38;5;241m.\u001b[39mget_indexer(new_axis)\n\u001b[0;32m   4594\u001b[0m \u001b[38;5;66;03m# Case for non-unique axis\u001b[39;00m\n\u001b[0;32m   4595\u001b[0m \u001b[38;5;28;01melse\u001b[39;00m:\n",
      "File \u001b[1;32mC:\\Program Files\\ArcGIS\\Pro\\bin\\Python\\envs\\arcgisclone\\Lib\\site-packages\\pandas\\core\\indexes\\base.py:6696\u001b[0m, in \u001b[0;36mIndex.drop\u001b[1;34m(self, labels, errors)\u001b[0m\n\u001b[0;32m   6694\u001b[0m \u001b[38;5;28;01mif\u001b[39;00m mask\u001b[38;5;241m.\u001b[39many():\n\u001b[0;32m   6695\u001b[0m     \u001b[38;5;28;01mif\u001b[39;00m errors \u001b[38;5;241m!=\u001b[39m \u001b[38;5;124m\"\u001b[39m\u001b[38;5;124mignore\u001b[39m\u001b[38;5;124m\"\u001b[39m:\n\u001b[1;32m-> 6696\u001b[0m         \u001b[38;5;28;01mraise\u001b[39;00m \u001b[38;5;167;01mKeyError\u001b[39;00m(\u001b[38;5;124mf\u001b[39m\u001b[38;5;124m\"\u001b[39m\u001b[38;5;132;01m{\u001b[39;00m\u001b[38;5;28mlist\u001b[39m(labels[mask])\u001b[38;5;132;01m}\u001b[39;00m\u001b[38;5;124m not found in axis\u001b[39m\u001b[38;5;124m\"\u001b[39m)\n\u001b[0;32m   6697\u001b[0m     indexer \u001b[38;5;241m=\u001b[39m indexer[\u001b[38;5;241m~\u001b[39mmask]\n\u001b[0;32m   6698\u001b[0m \u001b[38;5;28;01mreturn\u001b[39;00m \u001b[38;5;28mself\u001b[39m\u001b[38;5;241m.\u001b[39mdelete(indexer)\n",
      "\u001b[1;31mKeyError\u001b[0m: \"['DroneModel1', 'DroneModel2', 'DroneModel3', 'FlightPath_m1', 'FlightPath_m2', 'FlightPath_m3', 'Sensor1', 'Sensor2', 'Sensor3', 'Stage_1'] not found in axis\""
     ]
    }
   ],
   "source": [
    "# Drop unwanted columns from ghz_df\n",
    "fault_df.drop(columns=[\n",
    "    \"DroneModel1\", \"DroneModel2\",\n",
    "    \"DroneModel3\", \"FlightPath_m1\",\n",
    "    \"FlightPath_m2\", \"FlightPath_m3\", \"Sensor1\",\n",
    "    \"Sensor2\", \"Sensor3\", \"Stage_1\"\n",
    "], inplace=True).copy()\n",
    "fault_df.info()"
   ]
  },
  {
   "cell_type": "code",
   "execution_count": 154,
   "metadata": {},
   "outputs": [
    {
     "name": "stdout",
     "output_type": "stream",
     "text": [
      "<class 'pandas.core.frame.DataFrame'>\n",
      "Index: 172823 entries, 1671180 to 1931884\n",
      "Data columns (total 12 columns):\n",
      " #   Column                 Non-Null Count   Dtype  \n",
      "---  ------                 --------------   -----  \n",
      " 0   HazardID               172823 non-null  int64  \n",
      " 1   latitude               172823 non-null  float64\n",
      " 2   longitude              172823 non-null  float64\n",
      " 3   HazardType             172823 non-null  object \n",
      " 4   distance               143519 non-null  float64\n",
      " 5   pop                    143519 non-null  float64\n",
      " 6   intensity              143519 non-null  float64\n",
      " 7   economic_loss_million  143519 non-null  float64\n",
      " 8   duration_minutes       143519 non-null  float64\n",
      " 9   travel_time            142980 non-null  float64\n",
      " 10  monitor_time           143519 non-null  float64\n",
      " 11  cpm_total_time         142980 non-null  float64\n",
      "dtypes: float64(10), int64(1), object(1)\n",
      "memory usage: 17.1+ MB\n"
     ]
    }
   ],
   "source": [
    "fault_df.info()"
   ]
  },
  {
   "cell_type": "code",
   "execution_count": 155,
   "metadata": {},
   "outputs": [],
   "source": [
    "fault_df.to_csv(r\"D:\\NDIS_Database\\13_NDIS_Display\\Page2Layers\\fault_only.csv\", index=False)"
   ]
  },
  {
   "cell_type": "code",
   "execution_count": null,
   "metadata": {},
   "outputs": [],
   "source": []
  }
 ],
 "metadata": {
  "kernelspec": {
   "display_name": "ArcGISPro",
   "language": "python",
   "name": "python3"
  },
  "language_info": {
   "file_extension": ".py",
   "mimetype": "text/x-python",
   "name": "python",
   "version": "3.11.10"
  }
 },
 "nbformat": 4,
 "nbformat_minor": 4
}
