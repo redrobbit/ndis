{
 "cells": [
  {
   "cell_type": "code",
   "execution_count": 3,
   "metadata": {},
   "outputs": [],
   "source": [
    "from arcgis.gis import GIS\n",
    "gis = GIS(\"home\")"
   ]
  },
  {
   "cell_type": "code",
   "execution_count": 4,
   "metadata": {},
   "outputs": [],
   "source": [
    "%matplotlib inline\n",
    "#ArcGIS packages\n",
    "import arcpy\n",
    "#from arcgis.mapping import WebScene\n",
    "from arcgis.gis import GIS\n",
    "from arcgis.features import FeatureLayer\n",
    "from IPython.display import display\n",
    "from arcgis.features import GeoAccessor\n",
    "from arcgis import *\n",
    "from arcpy.sa import Int\n",
    "# Raster processing for dataframe\n",
    "from rasterstats import zonal_stats\n",
    "import rasterio\n",
    "\n",
    "# basic packages\n",
    "import csv\n",
    "import numpy as np\n",
    "import os\n",
    "import timeit\n",
    "import random\n",
    "import string\n",
    "from playsound import playsound\n",
    "import gc # Force Garbage Collection. This helps reduce memory leaks in long loops.\n",
    "import warnings\n",
    "from pathlib import Path\n",
    "import time\n",
    "import threading\n",
    "from collections import defaultdict\n",
    "from tqdm import tqdm #Bar status \n",
    "\n",
    "# Data management\n",
    "import pandas as pd\n",
    "import geopandas as gpd\n",
    "from shapely.geometry import Point  # to get points from long lat\n",
    "\n",
    "# Request service\n",
    "#from requests import Request\n",
    "import json\n",
    "import re\n",
    "from functools import reduce\n",
    "#from owslib.wfs import WebFeatureService\n",
    "import sqlite3\n",
    "\n",
    "# Plotting packages\n",
    "import matplotlib.pyplot as plt\n",
    "import matplotlib.colors as mcolors\n",
    "import seaborn as sns"
   ]
  },
  {
   "cell_type": "code",
   "execution_count": 3,
   "metadata": {},
   "outputs": [
    {
     "name": "stderr",
     "output_type": "stream",
     "text": [
      "C:/Users/Dell/AppData/Local/Temp/ArcGISProTemp23768/xpython_23768/1754752216.py:1: DtypeWarning: Columns (9) have mixed types. Specify dtype option on import or set low_memory=False.\n",
      "  final_df = pd.read_csv(r\"D:\\NDIS_Database\\zonal_chunks\\all_chunks_combined.csv\")\n"
     ]
    },
    {
     "name": "stdout",
     "output_type": "stream",
     "text": [
      "<class 'pandas.core.frame.DataFrame'>\n",
      "RangeIndex: 1938335 entries, 0 to 1938334\n",
      "Data columns (total 10 columns):\n",
      " #   Column                 Dtype  \n",
      "---  ------                 -----  \n",
      " 0   HazardID               int64  \n",
      " 1   latitude               float64\n",
      " 2   longitude              float64\n",
      " 3   HazardType             object \n",
      " 4   distance               float64\n",
      " 5   intensity              float64\n",
      " 6   economic_loss_million  float64\n",
      " 7   duration_minutes       float64\n",
      " 8   pop                    float64\n",
      " 9   pop_flagged            object \n",
      "dtypes: float64(7), int64(1), object(2)\n",
      "memory usage: 147.9+ MB\n"
     ]
    }
   ],
   "source": [
    "final_df = pd.read_csv(r\"D:\\NDIS_Database\\zonal_chunks\\all_chunks_combined.csv\")\n",
    "final_df.info()"
   ]
  },
  {
   "cell_type": "code",
   "execution_count": 4,
   "metadata": {},
   "outputs": [
    {
     "name": "stdout",
     "output_type": "stream",
     "text": [
      "<class 'pandas.core.frame.DataFrame'>\n",
      "RangeIndex: 1938335 entries, 0 to 1938334\n",
      "Data columns (total 9 columns):\n",
      " #   Column                 Dtype  \n",
      "---  ------                 -----  \n",
      " 0   HazardID               int64  \n",
      " 1   latitude               float64\n",
      " 2   longitude              float64\n",
      " 3   HazardType             object \n",
      " 4   distance               float64\n",
      " 5   intensity              float64\n",
      " 6   economic_loss_million  float64\n",
      " 7   duration_minutes       float64\n",
      " 8   pop                    float64\n",
      "dtypes: float64(7), int64(1), object(1)\n",
      "memory usage: 133.1+ MB\n"
     ]
    }
   ],
   "source": [
    "# Select only the desired columns from merged_df_final\n",
    "ghz_df  = final_df[[\n",
    "    \"HazardID\",\n",
    "    \"latitude\",\n",
    "    \"longitude\",\n",
    "    \"HazardType\",\n",
    "    \"distance\",\n",
    "    \"intensity\",\n",
    "    \"economic_loss_million\",\n",
    "    \"duration_minutes\",\n",
    "    \"pop\"\n",
    "]].copy()\n",
    "ghz_df.info()"
   ]
  },
  {
   "cell_type": "code",
   "execution_count": 21,
   "metadata": {},
   "outputs": [
    {
     "name": "stdout",
     "output_type": "stream",
     "text": [
      "Filtered invalid distances: 115325\n",
      "        HazardID  latitude  longitude HazardType  distance  intensity  \\\n",
      "920449    234001   -37.830     77.520    Volcano       NaN        NaN   \n",
      "920450    234002   -38.720     77.530    Volcano       NaN        NaN   \n",
      "920451    234010   -53.106     73.513    Volcano       NaN        NaN   \n",
      "920452    234030   -46.430     52.200    Volcano       NaN        NaN   \n",
      "920453    234040   -46.420     51.750    Volcano       NaN        NaN   \n",
      "\n",
      "        economic_loss_million  duration_minutes  pop  \n",
      "920449                    NaN               NaN  0.0  \n",
      "920450                    NaN               NaN  0.0  \n",
      "920451                    NaN               NaN  0.0  \n",
      "920452                    NaN               NaN  0.0  \n",
      "920453                    NaN               NaN  0.0  \n"
     ]
    }
   ],
   "source": [
    "# Mask for all invalid distance values (NaN or <= 0)\n",
    "invalid_mask = ghz_df['distance'].isna() | (ghz_df['distance'] <= 0)\n",
    "\n",
    "# Exclude Earthquakes and distance == 0\n",
    "excluded_mask = (ghz_df['distance'] == 0)\n",
    "\n",
    "# Final filtered DataFrame\n",
    "invalid_distance_df = ghz_df[invalid_mask & ~excluded_mask].copy()\n",
    "\n",
    "print(\"Filtered invalid distances:\", len(invalid_distance_df))\n",
    "print(invalid_distance_df.head())"
   ]
  },
  {
   "cell_type": "code",
   "execution_count": 22,
   "metadata": {},
   "outputs": [
    {
     "data": {
      "text/html": [
       "<div>\n",
       "<style scoped>\n",
       "    .dataframe tbody tr th:only-of-type {\n",
       "        vertical-align: middle;\n",
       "    }\n",
       "\n",
       "    .dataframe tbody tr th {\n",
       "        vertical-align: top;\n",
       "    }\n",
       "\n",
       "    .dataframe thead th {\n",
       "        text-align: right;\n",
       "    }\n",
       "</style>\n",
       "<table border=\"1\" class=\"dataframe\">\n",
       "  <thead>\n",
       "    <tr style=\"text-align: right;\">\n",
       "      <th></th>\n",
       "      <th>HazardID</th>\n",
       "      <th>latitude</th>\n",
       "      <th>longitude</th>\n",
       "      <th>HazardType</th>\n",
       "      <th>distance</th>\n",
       "      <th>intensity</th>\n",
       "      <th>economic_loss_million</th>\n",
       "      <th>duration_minutes</th>\n",
       "      <th>pop</th>\n",
       "    </tr>\n",
       "  </thead>\n",
       "  <tbody>\n",
       "    <tr>\n",
       "      <th>920449</th>\n",
       "      <td>234001</td>\n",
       "      <td>-37.830</td>\n",
       "      <td>77.520</td>\n",
       "      <td>Volcano</td>\n",
       "      <td>NaN</td>\n",
       "      <td>NaN</td>\n",
       "      <td>NaN</td>\n",
       "      <td>NaN</td>\n",
       "      <td>0.0</td>\n",
       "    </tr>\n",
       "    <tr>\n",
       "      <th>920450</th>\n",
       "      <td>234002</td>\n",
       "      <td>-38.720</td>\n",
       "      <td>77.530</td>\n",
       "      <td>Volcano</td>\n",
       "      <td>NaN</td>\n",
       "      <td>NaN</td>\n",
       "      <td>NaN</td>\n",
       "      <td>NaN</td>\n",
       "      <td>0.0</td>\n",
       "    </tr>\n",
       "    <tr>\n",
       "      <th>920451</th>\n",
       "      <td>234010</td>\n",
       "      <td>-53.106</td>\n",
       "      <td>73.513</td>\n",
       "      <td>Volcano</td>\n",
       "      <td>NaN</td>\n",
       "      <td>NaN</td>\n",
       "      <td>NaN</td>\n",
       "      <td>NaN</td>\n",
       "      <td>0.0</td>\n",
       "    </tr>\n",
       "    <tr>\n",
       "      <th>920452</th>\n",
       "      <td>234030</td>\n",
       "      <td>-46.430</td>\n",
       "      <td>52.200</td>\n",
       "      <td>Volcano</td>\n",
       "      <td>NaN</td>\n",
       "      <td>NaN</td>\n",
       "      <td>NaN</td>\n",
       "      <td>NaN</td>\n",
       "      <td>0.0</td>\n",
       "    </tr>\n",
       "    <tr>\n",
       "      <th>920453</th>\n",
       "      <td>234040</td>\n",
       "      <td>-46.420</td>\n",
       "      <td>51.750</td>\n",
       "      <td>Volcano</td>\n",
       "      <td>NaN</td>\n",
       "      <td>NaN</td>\n",
       "      <td>NaN</td>\n",
       "      <td>NaN</td>\n",
       "      <td>0.0</td>\n",
       "    </tr>\n",
       "    <tr>\n",
       "      <th>...</th>\n",
       "      <td>...</td>\n",
       "      <td>...</td>\n",
       "      <td>...</td>\n",
       "      <td>...</td>\n",
       "      <td>...</td>\n",
       "      <td>...</td>\n",
       "      <td>...</td>\n",
       "      <td>...</td>\n",
       "      <td>...</td>\n",
       "    </tr>\n",
       "    <tr>\n",
       "      <th>1048297</th>\n",
       "      <td>764561</td>\n",
       "      <td>-58.416</td>\n",
       "      <td>-25.321</td>\n",
       "      <td>Tsunami</td>\n",
       "      <td>NaN</td>\n",
       "      <td>1.0</td>\n",
       "      <td>2.55</td>\n",
       "      <td>20.0</td>\n",
       "      <td>0.0</td>\n",
       "    </tr>\n",
       "    <tr>\n",
       "      <th>1048303</th>\n",
       "      <td>763500</td>\n",
       "      <td>-6.852</td>\n",
       "      <td>72.110</td>\n",
       "      <td>Tsunami</td>\n",
       "      <td>NaN</td>\n",
       "      <td>1.0</td>\n",
       "      <td>0.50</td>\n",
       "      <td>20.0</td>\n",
       "      <td>0.0</td>\n",
       "    </tr>\n",
       "    <tr>\n",
       "      <th>1048320</th>\n",
       "      <td>763283</td>\n",
       "      <td>1.500</td>\n",
       "      <td>-79.500</td>\n",
       "      <td>Tsunami</td>\n",
       "      <td>NaN</td>\n",
       "      <td>2.0</td>\n",
       "      <td>3.00</td>\n",
       "      <td>73.0</td>\n",
       "      <td>0.0</td>\n",
       "    </tr>\n",
       "    <tr>\n",
       "      <th>1048321</th>\n",
       "      <td>763476</td>\n",
       "      <td>1.555</td>\n",
       "      <td>-79.276</td>\n",
       "      <td>Tsunami</td>\n",
       "      <td>NaN</td>\n",
       "      <td>2.0</td>\n",
       "      <td>8.00</td>\n",
       "      <td>86.0</td>\n",
       "      <td>0.0</td>\n",
       "    </tr>\n",
       "    <tr>\n",
       "      <th>1048323</th>\n",
       "      <td>764381</td>\n",
       "      <td>31.001</td>\n",
       "      <td>128.873</td>\n",
       "      <td>Tsunami</td>\n",
       "      <td>NaN</td>\n",
       "      <td>1.0</td>\n",
       "      <td>4.56</td>\n",
       "      <td>18.0</td>\n",
       "      <td>0.0</td>\n",
       "    </tr>\n",
       "  </tbody>\n",
       "</table>\n",
       "<p>115325 rows × 9 columns</p>\n",
       "</div>"
      ],
      "text/plain": [
       "         HazardID  latitude  longitude HazardType  distance  intensity  \\\n",
       "920449     234001   -37.830     77.520    Volcano       NaN        NaN   \n",
       "920450     234002   -38.720     77.530    Volcano       NaN        NaN   \n",
       "920451     234010   -53.106     73.513    Volcano       NaN        NaN   \n",
       "920452     234030   -46.430     52.200    Volcano       NaN        NaN   \n",
       "920453     234040   -46.420     51.750    Volcano       NaN        NaN   \n",
       "...           ...       ...        ...        ...       ...        ...   \n",
       "1048297    764561   -58.416    -25.321    Tsunami       NaN        1.0   \n",
       "1048303    763500    -6.852     72.110    Tsunami       NaN        1.0   \n",
       "1048320    763283     1.500    -79.500    Tsunami       NaN        2.0   \n",
       "1048321    763476     1.555    -79.276    Tsunami       NaN        2.0   \n",
       "1048323    764381    31.001    128.873    Tsunami       NaN        1.0   \n",
       "\n",
       "         economic_loss_million  duration_minutes  pop  \n",
       "920449                     NaN               NaN  0.0  \n",
       "920450                     NaN               NaN  0.0  \n",
       "920451                     NaN               NaN  0.0  \n",
       "920452                     NaN               NaN  0.0  \n",
       "920453                     NaN               NaN  0.0  \n",
       "...                        ...               ...  ...  \n",
       "1048297                   2.55              20.0  0.0  \n",
       "1048303                   0.50              20.0  0.0  \n",
       "1048320                   3.00              73.0  0.0  \n",
       "1048321                   8.00              86.0  0.0  \n",
       "1048323                   4.56              18.0  0.0  \n",
       "\n",
       "[115325 rows x 9 columns]"
      ]
     },
     "execution_count": 22,
     "metadata": {},
     "output_type": "execute_result"
    }
   ],
   "source": [
    "invalid_distance_df"
   ]
  },
  {
   "cell_type": "code",
   "execution_count": 14,
   "metadata": {},
   "outputs": [],
   "source": [
    "invalid_distance_df.to_csv(r\"D:\\NDIS_Database\\06_Infrastructureinvalid_distance_df.csv\", index=False)"
   ]
  },
  {
   "cell_type": "code",
   "execution_count": 20,
   "metadata": {},
   "outputs": [
    {
     "name": "stdout",
     "output_type": "stream",
     "text": [
      "HazardType\n",
      "Earthquake    85569\n",
      "Fault         29304\n",
      "Landslide       357\n",
      "Tsunami          49\n",
      "Volcano          46\n",
      "Name: count, dtype: int64\n"
     ]
    }
   ],
   "source": [
    "# Count invalid distances per HazardType (excluding Earthquake and distance == 0)\n",
    "invalid_counts = invalid_distance_df['HazardType'].value_counts()\n",
    "\n",
    "print(invalid_counts)"
   ]
  },
  {
   "cell_type": "code",
   "execution_count": 4,
   "metadata": {},
   "outputs": [
    {
     "name": "stdout",
     "output_type": "stream",
     "text": [
      "<class 'pandas.core.frame.DataFrame'>\n",
      "RangeIndex: 179 entries, 0 to 178\n",
      "Data columns (total 30 columns):\n",
      " #   Column              Non-Null Count  Dtype  \n",
      "---  ------              --------------  -----  \n",
      " 0   rpas_id             179 non-null    int64  \n",
      " 1   country             179 non-null    object \n",
      " 2   manufacturer        179 non-null    object \n",
      " 3   mfc_model           179 non-null    object \n",
      " 4   mtow                157 non-null    float64\n",
      " 5   length              153 non-null    float64\n",
      " 6   width               160 non-null    float64\n",
      " 7   height              135 non-null    float64\n",
      " 8   max_speed           153 non-null    float64\n",
      " 9   distance_range      70 non-null     float64\n",
      " 10  flight_time         165 non-null    float64\n",
      " 11  max_payload_weight  161 non-null    float64\n",
      " 12  max_alt             101 non-null    float64\n",
      " 13  comm_range          118 non-null    float64\n",
      " 14  power_source        163 non-null    object \n",
      " 15  power               110 non-null    object \n",
      " 16  gps_accuracy        62 non-null     object \n",
      " 17  engine              134 non-null    object \n",
      " 18  configuration       176 non-null    object \n",
      " 19  flight_cont         86 non-null     object \n",
      " 20  materials           85 non-null     object \n",
      " 21  min_op_temp         109 non-null    float64\n",
      " 22  max_op_temp         108 non-null    float64\n",
      " 23  oas                 87 non-null     object \n",
      " 24  price               65 non-null     float64\n",
      " 25  reg                 115 non-null    object \n",
      " 26  def_payload         141 non-null    object \n",
      " 27  purpose             153 non-null    object \n",
      " 28  image               179 non-null    object \n",
      " 29  source              179 non-null    object \n",
      "dtypes: float64(13), int64(1), object(16)\n",
      "memory usage: 42.1+ KB\n",
      "<class 'pandas.core.frame.DataFrame'>\n",
      "RangeIndex: 13 entries, 0 to 12\n",
      "Data columns (total 7 columns):\n",
      " #   Column               Non-Null Count  Dtype \n",
      "---  ------               --------------  ----- \n",
      " 0   sensor_id            13 non-null     int64 \n",
      " 1   parameters_measured  13 non-null     object\n",
      " 2   sensor_name          13 non-null     object\n",
      " 3   sensor_weight        13 non-null     int64 \n",
      " 4   method               13 non-null     object\n",
      " 5   model                13 non-null     object\n",
      " 6   source               13 non-null     object\n",
      "dtypes: int64(2), object(5)\n",
      "memory usage: 860.0+ bytes\n"
     ]
    }
   ],
   "source": [
    "# Load Drone and Sensor data\n",
    "drone_df = pd.read_csv(r\"D:\\NDIS_Database\\rpas_db0524.csv\") # Shortlisted verison of RPAS gdb with no NaN data on distance\n",
    "sensor_df = pd.read_csv(r\"D:\\NDIS_Database\\sensors.csv\") # Geophysical sensor list\n",
    "\n",
    "# Display the first few rows to verify\n",
    "drone_df.info()\n",
    "sensor_df.info()"
   ]
  },
  {
   "cell_type": "code",
   "execution_count": 29,
   "metadata": {
    "scrolled": true
   },
   "outputs": [
    {
     "name": "stdout",
     "output_type": "stream",
     "text": [
      "⏳ Processing JOR (1/328)...\n",
      "  ✅ Near table created: D:\\ArcGISProjects\\GeohazardDB\\ghzgdb_Legacy.gdb\\near_invdist_JOR\n",
      "⏳ Processing BDI (2/328)...\n",
      "  ✅ Near table created: D:\\ArcGISProjects\\GeohazardDB\\ghzgdb_Legacy.gdb\\near_invdist_BDI\n",
      "⏳ Processing URJ (3/328)...\n",
      "  ✅ Near table created: D:\\ArcGISProjects\\GeohazardDB\\ghzgdb_Legacy.gdb\\near_invdist_URJ\n",
      "⏳ Processing LVA (4/328)...\n",
      "  ✅ Near table created: D:\\ArcGISProjects\\GeohazardDB\\ghzgdb_Legacy.gdb\\near_invdist_LVA\n",
      "⏳ Processing BDZ (5/328)...\n",
      "  ✅ Near table created: D:\\ArcGISProjects\\GeohazardDB\\ghzgdb_Legacy.gdb\\near_invdist_BDZ\n",
      "⏳ Processing BLR (6/328)...\n",
      "  ✅ Near table created: D:\\ArcGISProjects\\GeohazardDB\\ghzgdb_Legacy.gdb\\near_invdist_BLR\n",
      "⏳ Processing HUN (7/328)...\n",
      "  ✅ Near table created: D:\\ArcGISProjects\\GeohazardDB\\ghzgdb_Legacy.gdb\\near_invdist_HUN\n",
      "⏳ Processing TJK (8/328)...\n",
      "  ✅ Near table created: D:\\ArcGISProjects\\GeohazardDB\\ghzgdb_Legacy.gdb\\near_invdist_TJK\n",
      "⏳ Processing SOD (9/328)...\n",
      "  ✅ Near table created: D:\\ArcGISProjects\\GeohazardDB\\ghzgdb_Legacy.gdb\\near_invdist_SOD\n",
      "⏳ Processing BHS (10/328)...\n",
      "  ✅ Near table created: D:\\ArcGISProjects\\GeohazardDB\\ghzgdb_Legacy.gdb\\near_invdist_BHS\n",
      "⏳ Processing COK (11/328)...\n",
      "  ✅ Near table created: D:\\ArcGISProjects\\GeohazardDB\\ghzgdb_Legacy.gdb\\near_invdist_COK\n",
      "⏳ Processing ICH (12/328)...\n",
      "  ✅ Near table created: D:\\ArcGISProjects\\GeohazardDB\\ghzgdb_Legacy.gdb\\near_invdist_ICH\n",
      "⏳ Processing RUS (13/328)...\n",
      "  ✅ Near table created: D:\\ArcGISProjects\\GeohazardDB\\ghzgdb_Legacy.gdb\\near_invdist_RUS\n",
      "⏳ Processing LTU (14/328)...\n",
      "  ✅ Near table created: D:\\ArcGISProjects\\GeohazardDB\\ghzgdb_Legacy.gdb\\near_invdist_LTU\n",
      "⏳ Processing ISR (15/328)...\n",
      "  ✅ Near table created: D:\\ArcGISProjects\\GeohazardDB\\ghzgdb_Legacy.gdb\\near_invdist_ISR\n",
      "⏳ Processing WLF (16/328)...\n",
      "  ✅ Near table created: D:\\ArcGISProjects\\GeohazardDB\\ghzgdb_Legacy.gdb\\near_invdist_WLF\n",
      "⏳ Processing BRA (17/328)...\n",
      "  ✅ Near table created: D:\\ArcGISProjects\\GeohazardDB\\ghzgdb_Legacy.gdb\\near_invdist_BRA\n",
      "⏳ Processing KEN (18/328)...\n",
      "  ✅ Near table created: D:\\ArcGISProjects\\GeohazardDB\\ghzgdb_Legacy.gdb\\near_invdist_KEN\n",
      "⏳ Processing SOM (19/328)...\n",
      "  ✅ Near table created: D:\\ArcGISProjects\\GeohazardDB\\ghzgdb_Legacy.gdb\\near_invdist_SOM\n",
      "⏳ Processing COM (20/328)...\n",
      "  ✅ Near table created: D:\\ArcGISProjects\\GeohazardDB\\ghzgdb_Legacy.gdb\\near_invdist_COM\n",
      "⏳ Processing BGD (21/328)...\n",
      "  ✅ Near table created: D:\\ArcGISProjects\\GeohazardDB\\ghzgdb_Legacy.gdb\\near_invdist_BGD\n",
      "⏳ Processing IRL (22/328)...\n",
      "  ✅ Near table created: D:\\ArcGISProjects\\GeohazardDB\\ghzgdb_Legacy.gdb\\near_invdist_IRL\n",
      "⏳ Processing MHL (23/328)...\n",
      "  ✅ Near table created: D:\\ArcGISProjects\\GeohazardDB\\ghzgdb_Legacy.gdb\\near_invdist_MHL\n",
      "⏳ Processing MNE (24/328)...\n",
      "  ✅ Near table created: D:\\ArcGISProjects\\GeohazardDB\\ghzgdb_Legacy.gdb\\near_invdist_MNE\n",
      "⏳ Processing NZL (25/328)...\n",
      "  ✅ Near table created: D:\\ArcGISProjects\\GeohazardDB\\ghzgdb_Legacy.gdb\\near_invdist_NZL\n",
      "⏳ Processing SPM (26/328)...\n",
      "  ✅ Near table created: D:\\ArcGISProjects\\GeohazardDB\\ghzgdb_Legacy.gdb\\near_invdist_SPM\n",
      "⏳ Processing PRY (27/328)...\n",
      "  ✅ Near table created: D:\\ArcGISProjects\\GeohazardDB\\ghzgdb_Legacy.gdb\\near_invdist_PRY\n",
      "⏳ Processing SVK (28/328)...\n",
      "  ✅ Near table created: D:\\ArcGISProjects\\GeohazardDB\\ghzgdb_Legacy.gdb\\near_invdist_SVK\n",
      "⏳ Processing MKD (29/328)...\n",
      "  ✅ Near table created: D:\\ArcGISProjects\\GeohazardDB\\ghzgdb_Legacy.gdb\\near_invdist_MKD\n",
      "⏳ Processing PSE (30/328)...\n",
      "  ✅ Near table created: D:\\ArcGISProjects\\GeohazardDB\\ghzgdb_Legacy.gdb\\near_invdist_PSE\n",
      "⏳ Processing CMR (31/328)...\n",
      "  ✅ Near table created: D:\\ArcGISProjects\\GeohazardDB\\ghzgdb_Legacy.gdb\\near_invdist_CMR\n",
      "⏳ Processing ASK (32/328)...\n",
      "  ✅ Near table created: D:\\ArcGISProjects\\GeohazardDB\\ghzgdb_Legacy.gdb\\near_invdist_ASK\n",
      "⏳ Processing BIH (33/328)...\n",
      "  ✅ Near table created: D:\\ArcGISProjects\\GeohazardDB\\ghzgdb_Legacy.gdb\\near_invdist_BIH\n",
      "⏳ Processing ARG (34/328)...\n",
      "  ✅ Near table created: D:\\ArcGISProjects\\GeohazardDB\\ghzgdb_Legacy.gdb\\near_invdist_ARG\n",
      "⏳ Processing BEL (35/328)...\n",
      "  ✅ Near table created: D:\\ArcGISProjects\\GeohazardDB\\ghzgdb_Legacy.gdb\\near_invdist_BEL\n",
      "⏳ Processing RDA (36/328)...\n",
      "  ✅ Near table created: D:\\ArcGISProjects\\GeohazardDB\\ghzgdb_Legacy.gdb\\near_invdist_RDA\n",
      "⏳ Processing OVN (37/328)...\n",
      "  ✅ Near table created: D:\\ArcGISProjects\\GeohazardDB\\ghzgdb_Legacy.gdb\\near_invdist_OVN\n",
      "⏳ Processing TKM (38/328)...\n",
      "  ✅ Near table created: D:\\ArcGISProjects\\GeohazardDB\\ghzgdb_Legacy.gdb\\near_invdist_TKM\n",
      "⏳ Processing KEK (39/328)...\n",
      "  ✅ Near table created: D:\\ArcGISProjects\\GeohazardDB\\ghzgdb_Legacy.gdb\\near_invdist_KEK\n",
      "⏳ Processing BGR (40/328)...\n",
      "  ✅ Near table created: D:\\ArcGISProjects\\GeohazardDB\\ghzgdb_Legacy.gdb\\near_invdist_BGR\n",
      "⏳ Processing CUW (41/328)...\n",
      "  ✅ Near table created: D:\\ArcGISProjects\\GeohazardDB\\ghzgdb_Legacy.gdb\\near_invdist_CUW\n",
      "⏳ Processing POL (42/328)...\n",
      "  ✅ Near table created: D:\\ArcGISProjects\\GeohazardDB\\ghzgdb_Legacy.gdb\\near_invdist_POL\n",
      "⏳ Processing MEX (43/328)...\n",
      "  ✅ Near table created: D:\\ArcGISProjects\\GeohazardDB\\ghzgdb_Legacy.gdb\\near_invdist_MEX\n",
      "⏳ Processing JEY (44/328)...\n",
      "  ✅ Near table created: D:\\ArcGISProjects\\GeohazardDB\\ghzgdb_Legacy.gdb\\near_invdist_JEY\n",
      "⏳ Processing NIU (45/328)...\n",
      "  ✅ Near table created: D:\\ArcGISProjects\\GeohazardDB\\ghzgdb_Legacy.gdb\\near_invdist_NIU\n",
      "⏳ Processing VGB (46/328)...\n",
      "  ✅ Near table created: D:\\ArcGISProjects\\GeohazardDB\\ghzgdb_Legacy.gdb\\near_invdist_VGB\n",
      "⏳ Processing MLI (47/328)...\n",
      "  ✅ Near table created: D:\\ArcGISProjects\\GeohazardDB\\ghzgdb_Legacy.gdb\\near_invdist_MLI\n",
      "⏳ Processing LBY (48/328)...\n",
      "  ✅ Near table created: D:\\ArcGISProjects\\GeohazardDB\\ghzgdb_Legacy.gdb\\near_invdist_LBY\n",
      "⏳ Processing THA (49/328)...\n",
      "  ✅ Near table created: D:\\ArcGISProjects\\GeohazardDB\\ghzgdb_Legacy.gdb\\near_invdist_THA\n",
      "⏳ Processing FJI (50/328)...\n",
      "  ✅ Near table created: D:\\ArcGISProjects\\GeohazardDB\\ghzgdb_Legacy.gdb\\near_invdist_FJI\n",
      "⏳ Processing NER (51/328)...\n",
      "  ✅ Near table created: D:\\ArcGISProjects\\GeohazardDB\\ghzgdb_Legacy.gdb\\near_invdist_NER\n",
      "⏳ Processing JOE (52/328)...\n",
      "  ✅ Near table created: D:\\ArcGISProjects\\GeohazardDB\\ghzgdb_Legacy.gdb\\near_invdist_JOE\n",
      "⏳ Processing LSO (53/328)...\n",
      "  ✅ Near table created: D:\\ArcGISProjects\\GeohazardDB\\ghzgdb_Legacy.gdb\\near_invdist_LSO\n",
      "⏳ Processing PYF (54/328)...\n",
      "  ✅ Near table created: D:\\ArcGISProjects\\GeohazardDB\\ghzgdb_Legacy.gdb\\near_invdist_PYF\n",
      "⏳ Processing LBR (55/328)...\n",
      "  ✅ Near table created: D:\\ArcGISProjects\\GeohazardDB\\ghzgdb_Legacy.gdb\\near_invdist_LBR\n",
      "⏳ Processing DMA (56/328)...\n",
      "  ✅ Near table created: D:\\ArcGISProjects\\GeohazardDB\\ghzgdb_Legacy.gdb\\near_invdist_DMA\n",
      "⏳ Processing MOZ (57/328)...\n",
      "  ✅ Near table created: D:\\ArcGISProjects\\GeohazardDB\\ghzgdb_Legacy.gdb\\near_invdist_MOZ\n",
      "⏳ Processing ETH (58/328)...\n",
      "  ✅ Near table created: D:\\ArcGISProjects\\GeohazardDB\\ghzgdb_Legacy.gdb\\near_invdist_ETH\n",
      "⏳ Processing UGA (59/328)...\n",
      "  ✅ Near table created: D:\\ArcGISProjects\\GeohazardDB\\ghzgdb_Legacy.gdb\\near_invdist_UGA\n",
      "⏳ Processing BVT (60/328)...\n",
      "  ✅ Near table created: D:\\ArcGISProjects\\GeohazardDB\\ghzgdb_Legacy.gdb\\near_invdist_BVT\n",
      "⏳ Processing JOF (61/328)...\n",
      "  ✅ Near table created: D:\\ArcGISProjects\\GeohazardDB\\ghzgdb_Legacy.gdb\\near_invdist_JOF\n",
      "⏳ Processing UBM (62/328)...\n",
      "  ✅ Near table created: D:\\ArcGISProjects\\GeohazardDB\\ghzgdb_Legacy.gdb\\near_invdist_UBM\n",
      "⏳ Processing PAJ (63/328)...\n",
      "  ✅ Near table created: D:\\ArcGISProjects\\GeohazardDB\\ghzgdb_Legacy.gdb\\near_invdist_PAJ\n",
      "⏳ Processing DNK (64/328)...\n",
      "  ✅ Near table created: D:\\ArcGISProjects\\GeohazardDB\\ghzgdb_Legacy.gdb\\near_invdist_DNK\n",
      "⏳ Processing RÉQ (65/328)...\n",
      "  ✅ Near table created: D:\\ArcGISProjects\\GeohazardDB\\ghzgdb_Legacy.gdb\\near_invdist_RÉQ\n",
      "⏳ Processing CRI (66/328)...\n",
      "  ✅ Near table created: D:\\ArcGISProjects\\GeohazardDB\\ghzgdb_Legacy.gdb\\near_invdist_CRI\n",
      "⏳ Processing OMN (67/328)...\n",
      "  ✅ Near table created: D:\\ArcGISProjects\\GeohazardDB\\ghzgdb_Legacy.gdb\\near_invdist_OMN\n",
      "⏳ Processing CAW (68/328)...\n",
      "  ✅ Near table created: D:\\ArcGISProjects\\GeohazardDB\\ghzgdb_Legacy.gdb\\near_invdist_CAW\n",
      "⏳ Processing SAB (69/328)...\n",
      "  ✅ Near table created: D:\\ArcGISProjects\\GeohazardDB\\ghzgdb_Legacy.gdb\\near_invdist_SAB\n",
      "⏳ Processing SUR (70/328)...\n",
      "  ✅ Near table created: D:\\ArcGISProjects\\GeohazardDB\\ghzgdb_Legacy.gdb\\near_invdist_SUR\n",
      "⏳ Processing JAN (71/328)...\n",
      "  ✅ Near table created: D:\\ArcGISProjects\\GeohazardDB\\ghzgdb_Legacy.gdb\\near_invdist_JAN\n",
      "⏳ Processing PAK (72/328)...\n",
      "  ✅ Near table created: D:\\ArcGISProjects\\GeohazardDB\\ghzgdb_Legacy.gdb\\near_invdist_PAK\n",
      "⏳ Processing GIN (73/328)...\n",
      "  ✅ Near table created: D:\\ArcGISProjects\\GeohazardDB\\ghzgdb_Legacy.gdb\\near_invdist_GIN\n",
      "⏳ Processing SAU (74/328)...\n",
      "  ✅ Near table created: D:\\ArcGISProjects\\GeohazardDB\\ghzgdb_Legacy.gdb\\near_invdist_SAU\n",
      "⏳ Processing VEZ (75/328)...\n",
      "  ✅ Near table created: D:\\ArcGISProjects\\GeohazardDB\\ghzgdb_Legacy.gdb\\near_invdist_VEZ\n",
      "⏳ Processing GEO (76/328)...\n",
      "  ✅ Near table created: D:\\ArcGISProjects\\GeohazardDB\\ghzgdb_Legacy.gdb\\near_invdist_GEO\n",
      "⏳ Processing JAC (77/328)...\n",
      "  ✅ Near table created: D:\\ArcGISProjects\\GeohazardDB\\ghzgdb_Legacy.gdb\\near_invdist_JAC\n",
      "⏳ Processing SXM (78/328)...\n",
      "  ✅ Near table created: D:\\ArcGISProjects\\GeohazardDB\\ghzgdb_Legacy.gdb\\near_invdist_SXM\n",
      "⏳ Processing CUB (79/328)...\n",
      "  ✅ Near table created: D:\\ArcGISProjects\\GeohazardDB\\ghzgdb_Legacy.gdb\\near_invdist_CUB\n",
      "⏳ Processing VUT (80/328)...\n",
      "  ✅ Near table created: D:\\ArcGISProjects\\GeohazardDB\\ghzgdb_Legacy.gdb\\near_invdist_VUT\n",
      "⏳ Processing CHE (81/328)...\n",
      "  ✅ Near table created: D:\\ArcGISProjects\\GeohazardDB\\ghzgdb_Legacy.gdb\\near_invdist_CHE\n",
      "⏳ Processing QAE (82/328)...\n",
      "  ✅ Near table created: D:\\ArcGISProjects\\GeohazardDB\\ghzgdb_Legacy.gdb\\near_invdist_QAE\n",
      "⏳ Processing ERI (83/328)...\n",
      "  ✅ Near table created: D:\\ArcGISProjects\\GeohazardDB\\ghzgdb_Legacy.gdb\\near_invdist_ERI\n",
      "⏳ Processing AMO (84/328)...\n",
      "  ✅ Near table created: D:\\ArcGISProjects\\GeohazardDB\\ghzgdb_Legacy.gdb\\near_invdist_AMO\n",
      "⏳ Processing SWE (85/328)...\n",
      "  ✅ Near table created: D:\\ArcGISProjects\\GeohazardDB\\ghzgdb_Legacy.gdb\\near_invdist_SWE\n",
      "⏳ Processing CHP (86/328)...\n",
      "  ✅ Near table created: D:\\ArcGISProjects\\GeohazardDB\\ghzgdb_Legacy.gdb\\near_invdist_CHP\n",
      "⏳ Processing SRZ (87/328)...\n",
      "  ✅ Near table created: D:\\ArcGISProjects\\GeohazardDB\\ghzgdb_Legacy.gdb\\near_invdist_SRZ\n",
      "⏳ Processing CHB (88/328)...\n",
      "  ✅ Near table created: D:\\ArcGISProjects\\GeohazardDB\\ghzgdb_Legacy.gdb\\near_invdist_CHB\n",
      "⏳ Processing GNQ (89/328)...\n",
      "  ✅ Near table created: D:\\ArcGISProjects\\GeohazardDB\\ghzgdb_Legacy.gdb\\near_invdist_GNQ\n",
      "⏳ Processing GRC (90/328)...\n",
      "  ✅ Near table created: D:\\ArcGISProjects\\GeohazardDB\\ghzgdb_Legacy.gdb\\near_invdist_GRC\n",
      "⏳ Processing ZMB (91/328)...\n",
      "  ✅ Near table created: D:\\ArcGISProjects\\GeohazardDB\\ghzgdb_Legacy.gdb\\near_invdist_ZMB\n",
      "⏳ Processing QAJ (92/328)...\n",
      "  ✅ Near table created: D:\\ArcGISProjects\\GeohazardDB\\ghzgdb_Legacy.gdb\\near_invdist_QAJ\n",
      "⏳ Processing MDG (93/328)...\n",
      "  ✅ Near table created: D:\\ArcGISProjects\\GeohazardDB\\ghzgdb_Legacy.gdb\\near_invdist_MDG\n",
      "⏳ Processing SYC (94/328)...\n",
      "  ✅ Near table created: D:\\ArcGISProjects\\GeohazardDB\\ghzgdb_Legacy.gdb\\near_invdist_SYC\n",
      "⏳ Processing AUS (95/328)...\n",
      "  ✅ Near table created: D:\\ArcGISProjects\\GeohazardDB\\ghzgdb_Legacy.gdb\\near_invdist_AUS\n",
      "⏳ Processing ABW (96/328)...\n",
      "  ✅ Near table created: D:\\ArcGISProjects\\GeohazardDB\\ghzgdb_Legacy.gdb\\near_invdist_ABW\n",
      "⏳ Processing TON (97/328)...\n",
      "  ✅ Near table created: D:\\ArcGISProjects\\GeohazardDB\\ghzgdb_Legacy.gdb\\near_invdist_TON\n",
      "⏳ Processing SAH (98/328)...\n",
      "  ✅ Near table created: D:\\ArcGISProjects\\GeohazardDB\\ghzgdb_Legacy.gdb\\near_invdist_SAH\n",
      "⏳ Processing KHM (99/328)...\n",
      "  ✅ Near table created: D:\\ArcGISProjects\\GeohazardDB\\ghzgdb_Legacy.gdb\\near_invdist_KHM\n",
      "⏳ Processing NLD (100/328)...\n",
      "  ✅ Near table created: D:\\ArcGISProjects\\GeohazardDB\\ghzgdb_Legacy.gdb\\near_invdist_NLD\n",
      "⏳ Processing BAV (101/328)...\n",
      "  ✅ Near table created: D:\\ArcGISProjects\\GeohazardDB\\ghzgdb_Legacy.gdb\\near_invdist_BAV\n",
      "⏳ Processing FSM (102/328)...\n",
      "  ✅ Near table created: D:\\ArcGISProjects\\GeohazardDB\\ghzgdb_Legacy.gdb\\near_invdist_FSM\n",
      "⏳ Processing SMR (103/328)...\n",
      "  ✅ Near table created: D:\\ArcGISProjects\\GeohazardDB\\ghzgdb_Legacy.gdb\\near_invdist_SMR\n",
      "⏳ Processing SJK (104/328)...\n",
      "  ✅ Near table created: D:\\ArcGISProjects\\GeohazardDB\\ghzgdb_Legacy.gdb\\near_invdist_SJK\n",
      "⏳ Processing ZGK (105/328)...\n",
      "  ✅ Near table created: D:\\ArcGISProjects\\GeohazardDB\\ghzgdb_Legacy.gdb\\near_invdist_ZGK\n",
      "⏳ Processing MRT (106/328)...\n",
      "  ✅ Near table created: D:\\ArcGISProjects\\GeohazardDB\\ghzgdb_Legacy.gdb\\near_invdist_MRT\n",
      "⏳ Processing BEN (107/328)...\n",
      "  ✅ Near table created: D:\\ArcGISProjects\\GeohazardDB\\ghzgdb_Legacy.gdb\\near_invdist_BEN\n",
      "⏳ Processing BMU (108/328)...\n",
      "  ✅ Near table created: D:\\ArcGISProjects\\GeohazardDB\\ghzgdb_Legacy.gdb\\near_invdist_BMU\n",
      "⏳ Processing MVF (109/328)...\n",
      "  ✅ Near table created: D:\\ArcGISProjects\\GeohazardDB\\ghzgdb_Legacy.gdb\\near_invdist_MVF\n",
      "⏳ Processing LCA (110/328)...\n",
      "  ✅ Near table created: D:\\ArcGISProjects\\GeohazardDB\\ghzgdb_Legacy.gdb\\near_invdist_LCA\n",
      "⏳ Processing PHL (111/328)...\n",
      "  ✅ Near table created: D:\\ArcGISProjects\\GeohazardDB\\ghzgdb_Legacy.gdb\\near_invdist_PHL\n",
      "⏳ Processing PAR (112/328)...\n",
      "  ✅ Near table created: D:\\ArcGISProjects\\GeohazardDB\\ghzgdb_Legacy.gdb\\near_invdist_PAR\n",
      "⏳ Processing OVB (113/328)...\n",
      "  ✅ Near table created: D:\\ArcGISProjects\\GeohazardDB\\ghzgdb_Legacy.gdb\\near_invdist_OVB\n",
      "⏳ Processing NFK (114/328)...\n",
      "  ✅ Near table created: D:\\ArcGISProjects\\GeohazardDB\\ghzgdb_Legacy.gdb\\near_invdist_NFK\n",
      "⏳ Processing IND (115/328)...\n",
      "  ✅ Near table created: D:\\ArcGISProjects\\GeohazardDB\\ghzgdb_Legacy.gdb\\near_invdist_IND\n",
      "⏳ Processing COD (116/328)...\n",
      "  ✅ Near table created: D:\\ArcGISProjects\\GeohazardDB\\ghzgdb_Legacy.gdb\\near_invdist_COD\n",
      "⏳ Processing ZWE (117/328)...\n",
      "  ✅ Near table created: D:\\ArcGISProjects\\GeohazardDB\\ghzgdb_Legacy.gdb\\near_invdist_ZWE\n",
      "⏳ Processing SRB (118/328)...\n",
      "  ✅ Near table created: D:\\ArcGISProjects\\GeohazardDB\\ghzgdb_Legacy.gdb\\near_invdist_SRB\n",
      "⏳ Processing ASM (119/328)...\n",
      "  ✅ Near table created: D:\\ArcGISProjects\\GeohazardDB\\ghzgdb_Legacy.gdb\\near_invdist_ASM\n",
      "⏳ Processing UKR (120/328)...\n",
      "  ✅ Near table created: D:\\ArcGISProjects\\GeohazardDB\\ghzgdb_Legacy.gdb\\near_invdist_UKR\n",
      "⏳ Processing NCL (121/328)...\n",
      "  ✅ Near table created: D:\\ArcGISProjects\\GeohazardDB\\ghzgdb_Legacy.gdb\\near_invdist_NCL\n",
      "⏳ Processing GLP (122/328)...\n",
      "  ✅ Near table created: D:\\ArcGISProjects\\GeohazardDB\\ghzgdb_Legacy.gdb\\near_invdist_GLP\n",
      "⏳ Processing SLB (123/328)...\n",
      "  ✅ Near table created: D:\\ArcGISProjects\\GeohazardDB\\ghzgdb_Legacy.gdb\\near_invdist_SLB\n",
      "⏳ Processing NRU (124/328)...\n",
      "  ✅ Near table created: D:\\ArcGISProjects\\GeohazardDB\\ghzgdb_Legacy.gdb\\near_invdist_NRU\n",
      "⏳ Processing BOL (125/328)...\n",
      "  ✅ Near table created: D:\\ArcGISProjects\\GeohazardDB\\ghzgdb_Legacy.gdb\\near_invdist_BOL\n",
      "⏳ Processing AUT (126/328)...\n",
      "  ✅ Near table created: D:\\ArcGISProjects\\GeohazardDB\\ghzgdb_Legacy.gdb\\near_invdist_AUT\n",
      "⏳ Processing KGZ (127/328)...\n",
      "  ✅ Near table created: D:\\ArcGISProjects\\GeohazardDB\\ghzgdb_Legacy.gdb\\near_invdist_KGZ\n",
      "⏳ Processing ESP (128/328)...\n",
      "  ✅ Near table created: D:\\ArcGISProjects\\GeohazardDB\\ghzgdb_Legacy.gdb\\near_invdist_ESP\n",
      "⏳ Processing SYR (129/328)...\n",
      "  ✅ Near table created: D:\\ArcGISProjects\\GeohazardDB\\ghzgdb_Legacy.gdb\\near_invdist_SYR\n",
      "⏳ Processing JOK (130/328)...\n",
      "  ✅ Near table created: D:\\ArcGISProjects\\GeohazardDB\\ghzgdb_Legacy.gdb\\near_invdist_JOK\n",
      "⏳ Processing UAS (131/328)...\n",
      "  ✅ Near table created: D:\\ArcGISProjects\\GeohazardDB\\ghzgdb_Legacy.gdb\\near_invdist_UAS\n",
      "⏳ Processing TUV (132/328)...\n",
      "  ✅ Near table created: D:\\ArcGISProjects\\GeohazardDB\\ghzgdb_Legacy.gdb\\near_invdist_TUV\n",
      "⏳ Processing RJT (133/328)...\n",
      "  ✅ Near table created: D:\\ArcGISProjects\\GeohazardDB\\ghzgdb_Legacy.gdb\\near_invdist_RJT\n",
      "⏳ Processing JOT (134/328)...\n",
      "  ✅ Near table created: D:\\ArcGISProjects\\GeohazardDB\\ghzgdb_Legacy.gdb\\near_invdist_JOT\n",
      "⏳ Processing SVU (135/328)...\n",
      "  ✅ Near table created: D:\\ArcGISProjects\\GeohazardDB\\ghzgdb_Legacy.gdb\\near_invdist_SVU\n",
      "⏳ Processing GIC (136/328)...\n",
      "  ✅ Near table created: D:\\ArcGISProjects\\GeohazardDB\\ghzgdb_Legacy.gdb\\near_invdist_GIC\n",
      "⏳ Processing SAZ (137/328)...\n",
      "  ✅ Near table created: D:\\ArcGISProjects\\GeohazardDB\\ghzgdb_Legacy.gdb\\near_invdist_SAZ\n",
      "⏳ Processing NPL (138/328)...\n",
      "  ✅ Near table created: D:\\ArcGISProjects\\GeohazardDB\\ghzgdb_Legacy.gdb\\near_invdist_NPL\n",
      "⏳ Processing TCD (139/328)...\n",
      "  ✅ Near table created: D:\\ArcGISProjects\\GeohazardDB\\ghzgdb_Legacy.gdb\\near_invdist_TCD\n",
      "⏳ Processing GUE (140/328)...\n",
      "  ✅ Near table created: D:\\ArcGISProjects\\GeohazardDB\\ghzgdb_Legacy.gdb\\near_invdist_GUE\n",
      "⏳ Processing EGD (141/328)...\n",
      "  ✅ Near table created: D:\\ArcGISProjects\\GeohazardDB\\ghzgdb_Legacy.gdb\\near_invdist_EGD\n",
      "⏳ Processing SLE (142/328)...\n",
      "  ✅ Near table created: D:\\ArcGISProjects\\GeohazardDB\\ghzgdb_Legacy.gdb\\near_invdist_SLE\n",
      "⏳ Processing GRD (143/328)...\n",
      "  ✅ Near table created: D:\\ArcGISProjects\\GeohazardDB\\ghzgdb_Legacy.gdb\\near_invdist_GRD\n",
      "⏳ Processing STG (144/328)...\n",
      "  ✅ Near table created: D:\\ArcGISProjects\\GeohazardDB\\ghzgdb_Legacy.gdb\\near_invdist_STG\n",
      "⏳ Processing FIN (145/328)...\n",
      "  ✅ Near table created: D:\\ArcGISProjects\\GeohazardDB\\ghzgdb_Legacy.gdb\\near_invdist_FIN\n",
      "⏳ Processing BFA (146/328)...\n",
      "  ✅ Near table created: D:\\ArcGISProjects\\GeohazardDB\\ghzgdb_Legacy.gdb\\near_invdist_BFA\n",
      "⏳ Processing MNG (147/328)...\n",
      "  ✅ Near table created: D:\\ArcGISProjects\\GeohazardDB\\ghzgdb_Legacy.gdb\\near_invdist_MNG\n",
      "⏳ Processing HTI (148/328)...\n",
      "  ✅ Near table created: D:\\ArcGISProjects\\GeohazardDB\\ghzgdb_Legacy.gdb\\near_invdist_HTI\n",
      "⏳ Processing MUS (149/328)...\n",
      "  ✅ Near table created: D:\\ArcGISProjects\\GeohazardDB\\ghzgdb_Legacy.gdb\\near_invdist_MUS\n",
      "⏳ Processing ALB (150/328)...\n",
      "  ✅ Near table created: D:\\ArcGISProjects\\GeohazardDB\\ghzgdb_Legacy.gdb\\near_invdist_ALB\n",
      "⏳ Processing NOF (151/328)...\n",
      "  ✅ Near table created: D:\\ArcGISProjects\\GeohazardDB\\ghzgdb_Legacy.gdb\\near_invdist_NOF\n",
      "⏳ Processing TUR (152/328)...\n",
      "  ✅ Near table created: D:\\ArcGISProjects\\GeohazardDB\\ghzgdb_Legacy.gdb\\near_invdist_TUR\n",
      "⏳ Processing GGY (153/328)...\n",
      "  ✅ Near table created: D:\\ArcGISProjects\\GeohazardDB\\ghzgdb_Legacy.gdb\\near_invdist_GGY\n",
      "⏳ Processing LII (154/328)...\n",
      "  ✅ Near table created: D:\\ArcGISProjects\\GeohazardDB\\ghzgdb_Legacy.gdb\\near_invdist_LII\n",
      "⏳ Processing PRT (155/328)...\n",
      "  ✅ Near table created: D:\\ArcGISProjects\\GeohazardDB\\ghzgdb_Legacy.gdb\\near_invdist_PRT\n",
      "⏳ Processing CXR (156/328)...\n",
      "  ✅ Near table created: D:\\ArcGISProjects\\GeohazardDB\\ghzgdb_Legacy.gdb\\near_invdist_CXR\n",
      "⏳ Processing WSM (157/328)...\n",
      "  ✅ Near table created: D:\\ArcGISProjects\\GeohazardDB\\ghzgdb_Legacy.gdb\\near_invdist_WSM\n",
      "⏳ Processing TTO (158/328)...\n",
      "  ✅ Near table created: D:\\ArcGISProjects\\GeohazardDB\\ghzgdb_Legacy.gdb\\near_invdist_TTO\n",
      "⏳ Processing CYM (159/328)...\n",
      "  ✅ Near table created: D:\\ArcGISProjects\\GeohazardDB\\ghzgdb_Legacy.gdb\\near_invdist_CYM\n",
      "⏳ Processing VAT (160/328)...\n",
      "  ✅ Near table created: D:\\ArcGISProjects\\GeohazardDB\\ghzgdb_Legacy.gdb\\near_invdist_VAT\n",
      "⏳ Processing UNW (161/328)...\n",
      "  ✅ Near table created: D:\\ArcGISProjects\\GeohazardDB\\ghzgdb_Legacy.gdb\\near_invdist_UNW\n",
      "⏳ Processing LAO (162/328)...\n",
      "  ✅ Near table created: D:\\ArcGISProjects\\GeohazardDB\\ghzgdb_Legacy.gdb\\near_invdist_LAO\n",
      "⏳ Processing MDA (163/328)...\n",
      "  ✅ Near table created: D:\\ArcGISProjects\\GeohazardDB\\ghzgdb_Legacy.gdb\\near_invdist_MDA\n",
      "⏳ Processing BTN (164/328)...\n",
      "  ✅ Near table created: D:\\ArcGISProjects\\GeohazardDB\\ghzgdb_Legacy.gdb\\near_invdist_BTN\n",
      "⏳ Processing SSD (165/328)...\n",
      "  ✅ Near table created: D:\\ArcGISProjects\\GeohazardDB\\ghzgdb_Legacy.gdb\\near_invdist_SSD\n",
      "⏳ Processing JOH (166/328)...\n",
      "  ✅ Near table created: D:\\ArcGISProjects\\GeohazardDB\\ghzgdb_Legacy.gdb\\near_invdist_JOH\n",
      "⏳ Processing JOD (167/328)...\n",
      "  ✅ Near table created: D:\\ArcGISProjects\\GeohazardDB\\ghzgdb_Legacy.gdb\\near_invdist_JOD\n",
      "⏳ Processing TLS (168/328)...\n",
      "  ✅ Near table created: D:\\ArcGISProjects\\GeohazardDB\\ghzgdb_Legacy.gdb\\near_invdist_TLS\n",
      "⏳ Processing JOG (169/328)...\n",
      "  ✅ Near table created: D:\\ArcGISProjects\\GeohazardDB\\ghzgdb_Legacy.gdb\\near_invdist_JOG\n",
      "⏳ Processing NGA (170/328)...\n",
      "  ✅ Near table created: D:\\ArcGISProjects\\GeohazardDB\\ghzgdb_Legacy.gdb\\near_invdist_NGA\n",
      "⏳ Processing WAW (171/328)...\n",
      "  ✅ Near table created: D:\\ArcGISProjects\\GeohazardDB\\ghzgdb_Legacy.gdb\\near_invdist_WAW\n",
      "⏳ Processing OVX (172/328)...\n",
      "  ✅ Near table created: D:\\ArcGISProjects\\GeohazardDB\\ghzgdb_Legacy.gdb\\near_invdist_OVX\n",
      "⏳ Processing VNM (173/328)...\n",
      "  ✅ Near table created: D:\\ArcGISProjects\\GeohazardDB\\ghzgdb_Legacy.gdb\\near_invdist_VNM\n",
      "⏳ Processing SIN (174/328)...\n",
      "  ✅ Near table created: D:\\ArcGISProjects\\GeohazardDB\\ghzgdb_Legacy.gdb\\near_invdist_SIN\n",
      "⏳ Processing ESH (175/328)...\n",
      "  ✅ Near table created: D:\\ArcGISProjects\\GeohazardDB\\ghzgdb_Legacy.gdb\\near_invdist_ESH\n",
      "⏳ Processing DLL (176/328)...\n",
      "  ✅ Near table created: D:\\ArcGISProjects\\GeohazardDB\\ghzgdb_Legacy.gdb\\near_invdist_DLL\n",
      "⏳ Processing TWN (177/328)...\n",
      "  ✅ Near table created: D:\\ArcGISProjects\\GeohazardDB\\ghzgdb_Legacy.gdb\\near_invdist_TWN\n",
      "⏳ Processing ITA (178/328)...\n",
      "  ✅ Near table created: D:\\ArcGISProjects\\GeohazardDB\\ghzgdb_Legacy.gdb\\near_invdist_ITA\n",
      "⏳ Processing PEG (179/328)...\n",
      "  ✅ Near table created: D:\\ArcGISProjects\\GeohazardDB\\ghzgdb_Legacy.gdb\\near_invdist_PEG\n",
      "⏳ Processing JOO (180/328)...\n",
      "  ✅ Near table created: D:\\ArcGISProjects\\GeohazardDB\\ghzgdb_Legacy.gdb\\near_invdist_JOO\n",
      "⏳ Processing GHA (181/328)...\n",
      "  ✅ Near table created: D:\\ArcGISProjects\\GeohazardDB\\ghzgdb_Legacy.gdb\\near_invdist_GHA\n",
      "⏳ Processing ARE (182/328)...\n",
      "  ✅ Near table created: D:\\ArcGISProjects\\GeohazardDB\\ghzgdb_Legacy.gdb\\near_invdist_ARE\n",
      "⏳ Processing MSR (183/328)...\n",
      "  ✅ Near table created: D:\\ArcGISProjects\\GeohazardDB\\ghzgdb_Legacy.gdb\\near_invdist_MSR\n",
      "⏳ Processing FLK (184/328)...\n",
      "  ✅ Near table created: D:\\ArcGISProjects\\GeohazardDB\\ghzgdb_Legacy.gdb\\near_invdist_FLK\n",
      "⏳ Processing IDN (185/328)...\n",
      "  ✅ Near table created: D:\\ArcGISProjects\\GeohazardDB\\ghzgdb_Legacy.gdb\\near_invdist_IDN\n",
      "⏳ Processing PRK (186/328)...\n",
      "  ✅ Near table created: D:\\ArcGISProjects\\GeohazardDB\\ghzgdb_Legacy.gdb\\near_invdist_PRK\n",
      "⏳ Processing FRD (187/328)...\n",
      "  ✅ Near table created: D:\\ArcGISProjects\\GeohazardDB\\ghzgdb_Legacy.gdb\\near_invdist_FRD\n",
      "⏳ Processing MAY (188/328)...\n",
      "  ✅ Near table created: D:\\ArcGISProjects\\GeohazardDB\\ghzgdb_Legacy.gdb\\near_invdist_MAY\n",
      "⏳ Processing MAR (189/328)...\n",
      "  ✅ Near table created: D:\\ArcGISProjects\\GeohazardDB\\ghzgdb_Legacy.gdb\\near_invdist_MAR\n",
      "⏳ Processing SDN (190/328)...\n",
      "  ✅ Near table created: D:\\ArcGISProjects\\GeohazardDB\\ghzgdb_Legacy.gdb\\near_invdist_SDN\n",
      "⏳ Processing BAS (191/328)...\n",
      "  ✅ Near table created: D:\\ArcGISProjects\\GeohazardDB\\ghzgdb_Legacy.gdb\\near_invdist_BAS\n",
      "⏳ Processing RWN (192/328)...\n",
      "  ✅ Near table created: D:\\ArcGISProjects\\GeohazardDB\\ghzgdb_Legacy.gdb\\near_invdist_RWN\n",
      "⏳ Processing MCO (193/328)...\n",
      "  ✅ Near table created: D:\\ArcGISProjects\\GeohazardDB\\ghzgdb_Legacy.gdb\\near_invdist_MCO\n",
      "⏳ Processing OVV (194/328)...\n",
      "  ✅ Near table created: D:\\ArcGISProjects\\GeohazardDB\\ghzgdb_Legacy.gdb\\near_invdist_OVV\n",
      "⏳ Processing LUX (195/328)...\n",
      "  ✅ Near table created: D:\\ArcGISProjects\\GeohazardDB\\ghzgdb_Legacy.gdb\\near_invdist_LUX\n",
      "⏳ Processing TUN (196/328)...\n",
      "  ✅ Near table created: D:\\ArcGISProjects\\GeohazardDB\\ghzgdb_Legacy.gdb\\near_invdist_TUN\n",
      "⏳ Processing BRN (197/328)...\n",
      "  ✅ Near table created: D:\\ArcGISProjects\\GeohazardDB\\ghzgdb_Legacy.gdb\\near_invdist_BRN\n",
      "⏳ Processing MNP (198/328)...\n",
      "  ✅ Near table created: D:\\ArcGISProjects\\GeohazardDB\\ghzgdb_Legacy.gdb\\near_invdist_MNP\n",
      "⏳ Processing DHK (199/328)...\n",
      "  ✅ Near table created: D:\\ArcGISProjects\\GeohazardDB\\ghzgdb_Legacy.gdb\\near_invdist_DHK\n",
      "⏳ Processing GDY (200/328)...\n",
      "  ✅ Near table created: D:\\ArcGISProjects\\GeohazardDB\\ghzgdb_Legacy.gdb\\near_invdist_GDY\n",
      "⏳ Processing TKL (201/328)...\n",
      "  ✅ Near table created: D:\\ArcGISProjects\\GeohazardDB\\ghzgdb_Legacy.gdb\\near_invdist_TKL\n",
      "⏳ Processing ARM (202/328)...\n",
      "  ✅ Near table created: D:\\ArcGISProjects\\GeohazardDB\\ghzgdb_Legacy.gdb\\near_invdist_ARM\n",
      "⏳ Processing EVZ (203/328)...\n",
      "  ✅ Near table created: D:\\ArcGISProjects\\GeohazardDB\\ghzgdb_Legacy.gdb\\near_invdist_EVZ\n",
      "⏳ Processing BWA (204/328)...\n",
      "  ✅ Near table created: D:\\ArcGISProjects\\GeohazardDB\\ghzgdb_Legacy.gdb\\near_invdist_BWA\n",
      "⏳ Processing SLV (205/328)...\n",
      "  ✅ Near table created: D:\\ArcGISProjects\\GeohazardDB\\ghzgdb_Legacy.gdb\\near_invdist_SLV\n",
      "⏳ Processing QHB (206/328)...\n",
      "  ✅ Near table created: D:\\ArcGISProjects\\GeohazardDB\\ghzgdb_Legacy.gdb\\near_invdist_QHB\n",
      "⏳ Processing ROU (207/328)...\n",
      "  ✅ Near table created: D:\\ArcGISProjects\\GeohazardDB\\ghzgdb_Legacy.gdb\\near_invdist_ROU\n",
      "⏳ Processing KWT (208/328)...\n",
      "  ✅ Near table created: D:\\ArcGISProjects\\GeohazardDB\\ghzgdb_Legacy.gdb\\near_invdist_KWT\n",
      "⏳ Processing GAB (209/328)...\n",
      "  ✅ Near table created: D:\\ArcGISProjects\\GeohazardDB\\ghzgdb_Legacy.gdb\\near_invdist_GAB\n",
      "⏳ Processing WLM (210/328)...\n",
      "  ✅ Near table created: D:\\ArcGISProjects\\GeohazardDB\\ghzgdb_Legacy.gdb\\near_invdist_WLM\n",
      "⏳ Processing JOW (211/328)...\n",
      "  ✅ Near table created: D:\\ArcGISProjects\\GeohazardDB\\ghzgdb_Legacy.gdb\\near_invdist_JOW\n",
      "⏳ Processing AIA (212/328)...\n",
      "  ✅ Near table created: D:\\ArcGISProjects\\GeohazardDB\\ghzgdb_Legacy.gdb\\near_invdist_AIA\n",
      "⏳ Processing HMD (213/328)...\n",
      "  ✅ Near table created: D:\\ArcGISProjects\\GeohazardDB\\ghzgdb_Legacy.gdb\\near_invdist_HMD\n",
      "⏳ Processing MAF (214/328)...\n",
      "  ✅ Near table created: D:\\ArcGISProjects\\GeohazardDB\\ghzgdb_Legacy.gdb\\near_invdist_MAF\n",
      "⏳ Processing COJ (215/328)...\n",
      "  ✅ Near table created: D:\\ArcGISProjects\\GeohazardDB\\ghzgdb_Legacy.gdb\\near_invdist_COJ\n",
      "⏳ Processing CYP (216/328)...\n",
      "  ✅ Near table created: D:\\ArcGISProjects\\GeohazardDB\\ghzgdb_Legacy.gdb\\near_invdist_CYP\n",
      "⏳ Processing GUM (217/328)...\n",
      "  ✅ Near table created: D:\\ArcGISProjects\\GeohazardDB\\ghzgdb_Legacy.gdb\\near_invdist_GUM\n",
      "⏳ Processing GRL (218/328)...\n",
      "  ✅ Near table created: D:\\ArcGISProjects\\GeohazardDB\\ghzgdb_Legacy.gdb\\near_invdist_GRL\n",
      "⏳ Processing IMN (219/328)...\n",
      "  ✅ Near table created: D:\\ArcGISProjects\\GeohazardDB\\ghzgdb_Legacy.gdb\\near_invdist_IMN\n",
      "⏳ Processing JOP (220/328)...\n",
      "  ✅ Near table created: D:\\ArcGISProjects\\GeohazardDB\\ghzgdb_Legacy.gdb\\near_invdist_JOP\n",
      "⏳ Processing UNM (221/328)...\n",
      "  ✅ Near table created: D:\\ArcGISProjects\\GeohazardDB\\ghzgdb_Legacy.gdb\\near_invdist_UNM\n",
      "⏳ Processing CCK (222/328)...\n",
      "  ✅ Near table created: D:\\ArcGISProjects\\GeohazardDB\\ghzgdb_Legacy.gdb\\near_invdist_CCK\n",
      "⏳ Processing ECR (223/328)...\n",
      "  ✅ Near table created: D:\\ArcGISProjects\\GeohazardDB\\ghzgdb_Legacy.gdb\\near_invdist_ECR\n",
      "⏳ Processing CIV (224/328)...\n",
      "  ✅ Near table created: D:\\ArcGISProjects\\GeohazardDB\\ghzgdb_Legacy.gdb\\near_invdist_CIV\n",
      "⏳ Processing NGL (225/328)...\n",
      "  ✅ Near table created: D:\\ArcGISProjects\\GeohazardDB\\ghzgdb_Legacy.gdb\\near_invdist_NGL\n",
      "⏳ Processing COG (226/328)...\n",
      "  ✅ Near table created: D:\\ArcGISProjects\\GeohazardDB\\ghzgdb_Legacy.gdb\\near_invdist_COG\n",
      "⏳ Processing JAQ (227/328)...\n",
      "  ✅ Near table created: D:\\ArcGISProjects\\GeohazardDB\\ghzgdb_Legacy.gdb\\near_invdist_JAQ\n",
      "⏳ Processing AGO (228/328)...\n",
      "  ✅ Near table created: D:\\ArcGISProjects\\GeohazardDB\\ghzgdb_Legacy.gdb\\near_invdist_AGO\n",
      "⏳ Processing GTM (229/328)...\n",
      "  ✅ Near table created: D:\\ArcGISProjects\\GeohazardDB\\ghzgdb_Legacy.gdb\\near_invdist_GTM\n",
      "⏳ Processing CAF (230/328)...\n",
      "  ✅ Near table created: D:\\ArcGISProjects\\GeohazardDB\\ghzgdb_Legacy.gdb\\near_invdist_CAF\n",
      "⏳ Processing OKD (231/328)...\n",
      "  ✅ Near table created: D:\\ArcGISProjects\\GeohazardDB\\ghzgdb_Legacy.gdb\\near_invdist_OKD\n",
      "⏳ Processing YYJ (232/328)...\n",
      "  ✅ Near table created: D:\\ArcGISProjects\\GeohazardDB\\ghzgdb_Legacy.gdb\\near_invdist_YYJ\n",
      "⏳ Processing BOF (233/328)...\n",
      "  ✅ Near table created: D:\\ArcGISProjects\\GeohazardDB\\ghzgdb_Legacy.gdb\\near_invdist_BOF\n",
      "⏳ Processing AZE (234/328)...\n",
      "  ✅ Near table created: D:\\ArcGISProjects\\GeohazardDB\\ghzgdb_Legacy.gdb\\near_invdist_AZE\n",
      "⏳ Processing COQ (235/328)...\n",
      "  ✅ Near table created: D:\\ArcGISProjects\\GeohazardDB\\ghzgdb_Legacy.gdb\\near_invdist_COQ\n",
      "⏳ Processing BDY (236/328)...\n",
      "  ✅ Near table created: D:\\ArcGISProjects\\GeohazardDB\\ghzgdb_Legacy.gdb\\near_invdist_BDY\n",
      "⏳ Processing HOD (237/328)...\n",
      "  ✅ Near table created: D:\\ArcGISProjects\\GeohazardDB\\ghzgdb_Legacy.gdb\\near_invdist_HOD\n",
      "⏳ Processing TRM (238/328)...\n",
      "  ✅ Near table created: D:\\ArcGISProjects\\GeohazardDB\\ghzgdb_Legacy.gdb\\near_invdist_TRM\n",
      "⏳ Processing CRC (239/328)...\n",
      "  ✅ Near table created: D:\\ArcGISProjects\\GeohazardDB\\ghzgdb_Legacy.gdb\\near_invdist_CRC\n",
      "⏳ Processing MWI (240/328)...\n",
      "  ✅ Near table created: D:\\ArcGISProjects\\GeohazardDB\\ghzgdb_Legacy.gdb\\near_invdist_MWI\n",
      "⏳ Processing TCA (241/328)...\n",
      "  ✅ Near table created: D:\\ArcGISProjects\\GeohazardDB\\ghzgdb_Legacy.gdb\\near_invdist_TCA\n",
      "⏳ Processing LKA (242/328)...\n",
      "  ✅ Near table created: D:\\ArcGISProjects\\GeohazardDB\\ghzgdb_Legacy.gdb\\near_invdist_LKA\n",
      "⏳ Processing SEF (243/328)...\n",
      "  ✅ Near table created: D:\\ArcGISProjects\\GeohazardDB\\ghzgdb_Legacy.gdb\\near_invdist_SEF\n",
      "⏳ Processing MTQ (244/328)...\n",
      "  ✅ Near table created: D:\\ArcGISProjects\\GeohazardDB\\ghzgdb_Legacy.gdb\\near_invdist_MTQ\n",
      "⏳ Processing QGI (245/328)...\n",
      "  ✅ Near table created: D:\\ArcGISProjects\\GeohazardDB\\ghzgdb_Legacy.gdb\\near_invdist_QGI\n",
      "⏳ Processing MMR (246/328)...\n",
      "  ✅ Near table created: D:\\ArcGISProjects\\GeohazardDB\\ghzgdb_Legacy.gdb\\near_invdist_MMR\n",
      "⏳ Processing MDV (247/328)...\n",
      "  ✅ Near table created: D:\\ArcGISProjects\\GeohazardDB\\ghzgdb_Legacy.gdb\\near_invdist_MDV\n",
      "⏳ Processing UZB (248/328)...\n",
      "  ✅ Near table created: D:\\ArcGISProjects\\GeohazardDB\\ghzgdb_Legacy.gdb\\near_invdist_UZB\n",
      "⏳ Processing JOU (249/328)...\n",
      "  ✅ Near table created: D:\\ArcGISProjects\\GeohazardDB\\ghzgdb_Legacy.gdb\\near_invdist_JOU\n",
      "⏳ Processing SWZ (250/328)...\n",
      "  ✅ Near table created: D:\\ArcGISProjects\\GeohazardDB\\ghzgdb_Legacy.gdb\\near_invdist_SWZ\n",
      "⏳ Processing DOJ (251/328)...\n",
      "  ✅ Near table created: D:\\ArcGISProjects\\GeohazardDB\\ghzgdb_Legacy.gdb\\near_invdist_DOJ\n",
      "⏳ Processing HOJ (252/328)...\n",
      "  ✅ Near table created: D:\\ArcGISProjects\\GeohazardDB\\ghzgdb_Legacy.gdb\\near_invdist_HOJ\n",
      "⏳ Processing EMQ (253/328)...\n",
      "  ✅ Near table created: D:\\ArcGISProjects\\GeohazardDB\\ghzgdb_Legacy.gdb\\near_invdist_EMQ\n",
      "⏳ Processing LBN (254/328)...\n",
      "  ✅ Near table created: D:\\ArcGISProjects\\GeohazardDB\\ghzgdb_Legacy.gdb\\near_invdist_LBN\n",
      "⏳ Processing BLM (255/328)...\n",
      "  ✅ Near table created: D:\\ArcGISProjects\\GeohazardDB\\ghzgdb_Legacy.gdb\\near_invdist_BLM\n",
      "⏳ Processing PUR (256/328)...\n",
      "  ✅ Near table created: D:\\ArcGISProjects\\GeohazardDB\\ghzgdb_Legacy.gdb\\near_invdist_PUR\n",
      "⏳ Processing QIB (257/328)...\n",
      "  ✅ Near table created: D:\\ArcGISProjects\\GeohazardDB\\ghzgdb_Legacy.gdb\\near_invdist_QIB\n",
      "⏳ Processing MUJ (258/328)...\n",
      "  ✅ Near table created: D:\\ArcGISProjects\\GeohazardDB\\ghzgdb_Legacy.gdb\\near_invdist_MUJ\n",
      "⏳ Processing GIB (259/328)...\n",
      "  ✅ Near table created: D:\\ArcGISProjects\\GeohazardDB\\ghzgdb_Legacy.gdb\\near_invdist_GIB\n",
      "⏳ Processing JOL (260/328)...\n",
      "  ✅ Near table created: D:\\ArcGISProjects\\GeohazardDB\\ghzgdb_Legacy.gdb\\near_invdist_JOL\n",
      "⏳ Processing KNA (261/328)...\n",
      "  ✅ Near table created: D:\\ArcGISProjects\\GeohazardDB\\ghzgdb_Legacy.gdb\\near_invdist_KNA\n",
      "⏳ Processing JUW (262/328)...\n",
      "  ✅ Near table created: D:\\ArcGISProjects\\GeohazardDB\\ghzgdb_Legacy.gdb\\near_invdist_JUW\n",
      "⏳ Processing BHR (263/328)...\n",
      "  ✅ Near table created: D:\\ArcGISProjects\\GeohazardDB\\ghzgdb_Legacy.gdb\\near_invdist_BHR\n",
      "⏳ Processing PME (264/328)...\n",
      "  ✅ Near table created: D:\\ArcGISProjects\\GeohazardDB\\ghzgdb_Legacy.gdb\\near_invdist_PME\n",
      "⏳ Processing AND (265/328)...\n",
      "  ✅ Near table created: D:\\ArcGISProjects\\GeohazardDB\\ghzgdb_Legacy.gdb\\near_invdist_AND\n",
      "⏳ Processing CZE (266/328)...\n",
      "  ✅ Near table created: D:\\ArcGISProjects\\GeohazardDB\\ghzgdb_Legacy.gdb\\near_invdist_CZE\n",
      "⏳ Processing PHV (267/328)...\n",
      "  ✅ Near table created: D:\\ArcGISProjects\\GeohazardDB\\ghzgdb_Legacy.gdb\\near_invdist_PHV\n",
      "⏳ Processing NIC (268/328)...\n",
      "  ✅ Near table created: D:\\ArcGISProjects\\GeohazardDB\\ghzgdb_Legacy.gdb\\near_invdist_NIC\n",
      "⏳ Processing KAZ (269/328)...\n",
      "  ✅ Near table created: D:\\ArcGISProjects\\GeohazardDB\\ghzgdb_Legacy.gdb\\near_invdist_KAZ\n",
      "⏳ Processing GNB (270/328)...\n",
      "  ✅ Near table created: D:\\ArcGISProjects\\GeohazardDB\\ghzgdb_Legacy.gdb\\near_invdist_GNB\n",
      "⏳ Processing OVZ (271/328)...\n",
      "  ✅ Near table created: D:\\ArcGISProjects\\GeohazardDB\\ghzgdb_Legacy.gdb\\near_invdist_OVZ\n",
      "⏳ Processing IRN (272/328)...\n",
      "  ✅ Near table created: D:\\ArcGISProjects\\GeohazardDB\\ghzgdb_Legacy.gdb\\near_invdist_IRN\n",
      "⏳ Processing JPN (273/328)...\n",
      "  ✅ Near table created: D:\\ArcGISProjects\\GeohazardDB\\ghzgdb_Legacy.gdb\\near_invdist_JPN\n",
      "⏳ Processing YEM (274/328)...\n",
      "  ✅ Near table created: D:\\ArcGISProjects\\GeohazardDB\\ghzgdb_Legacy.gdb\\near_invdist_YEM\n",
      "⏳ Processing SVN (275/328)...\n",
      "  ✅ Near table created: D:\\ArcGISProjects\\GeohazardDB\\ghzgdb_Legacy.gdb\\near_invdist_SVN\n",
      "⏳ Processing AFG (276/328)...\n",
      "  ✅ Near table created: D:\\ArcGISProjects\\GeohazardDB\\ghzgdb_Legacy.gdb\\near_invdist_AFG\n",
      "⏳ Processing JUD (277/328)...\n",
      "  ✅ Near table created: D:\\ArcGISProjects\\GeohazardDB\\ghzgdb_Legacy.gdb\\near_invdist_JUD\n",
      "⏳ Processing TZA (278/328)...\n",
      "  ✅ Near table created: D:\\ArcGISProjects\\GeohazardDB\\ghzgdb_Legacy.gdb\\near_invdist_TZA\n",
      "⏳ Processing JOM (279/328)...\n",
      "  ✅ Near table created: D:\\ArcGISProjects\\GeohazardDB\\ghzgdb_Legacy.gdb\\near_invdist_JOM\n",
      "⏳ Processing PCN (280/328)...\n",
      "  ✅ Near table created: D:\\ArcGISProjects\\GeohazardDB\\ghzgdb_Legacy.gdb\\near_invdist_PCN\n",
      "⏳ Processing DEU (281/328)...\n",
      "  ✅ Near table created: D:\\ArcGISProjects\\GeohazardDB\\ghzgdb_Legacy.gdb\\near_invdist_DEU\n",
      "⏳ Processing ISP (282/328)...\n",
      "  ✅ Near table created: D:\\ArcGISProjects\\GeohazardDB\\ghzgdb_Legacy.gdb\\near_invdist_ISP\n",
      "⏳ Processing JON (283/328)...\n",
      "  ✅ Near table created: D:\\ArcGISProjects\\GeohazardDB\\ghzgdb_Legacy.gdb\\near_invdist_JON\n",
      "⏳ Processing OVE (284/328)...\n",
      "  ✅ Near table created: D:\\ArcGISProjects\\GeohazardDB\\ghzgdb_Legacy.gdb\\near_invdist_OVE\n",
      "⏳ Processing GUF (285/328)...\n",
      "  ✅ Near table created: D:\\ArcGISProjects\\GeohazardDB\\ghzgdb_Legacy.gdb\\near_invdist_GUF\n",
      "⏳ Processing IRZ (286/328)...\n",
      "  ✅ Near table created: D:\\ArcGISProjects\\GeohazardDB\\ghzgdb_Legacy.gdb\\near_invdist_IRZ\n",
      "⏳ Processing NAM (287/328)...\n",
      "  ✅ Near table created: D:\\ArcGISProjects\\GeohazardDB\\ghzgdb_Legacy.gdb\\near_invdist_NAM\n",
      "⏳ Processing BEC (288/328)...\n",
      "  ✅ Near table created: D:\\ArcGISProjects\\GeohazardDB\\ghzgdb_Legacy.gdb\\near_invdist_BEC\n",
      "⏳ Processing ZAF (289/328)...\n",
      "  ✅ Near table created: D:\\ArcGISProjects\\GeohazardDB\\ghzgdb_Legacy.gdb\\near_invdist_ZAF\n",
      "⏳ Processing OGL (290/328)...\n",
      "  ✅ Near table created: D:\\ArcGISProjects\\GeohazardDB\\ghzgdb_Legacy.gdb\\near_invdist_OGL\n",
      "⏳ Processing EUO (291/328)...\n",
      "  ✅ Near table created: D:\\ArcGISProjects\\GeohazardDB\\ghzgdb_Legacy.gdb\\near_invdist_EUO\n",
      "⏳ Processing JOV (292/328)...\n",
      "  ✅ Near table created: D:\\ArcGISProjects\\GeohazardDB\\ghzgdb_Legacy.gdb\\near_invdist_JOV\n",
      "⏳ Processing MLT (293/328)...\n",
      "  ✅ Near table created: D:\\ArcGISProjects\\GeohazardDB\\ghzgdb_Legacy.gdb\\near_invdist_MLT\n",
      "⏳ Processing SGS (294/328)...\n",
      "  ✅ Near table created: D:\\ArcGISProjects\\GeohazardDB\\ghzgdb_Legacy.gdb\\near_invdist_SGS\n",
      "⏳ Processing VCT (295/328)...\n",
      "  ✅ Near table created: D:\\ArcGISProjects\\GeohazardDB\\ghzgdb_Legacy.gdb\\near_invdist_VCT\n",
      "⏳ Processing OVA (296/328)...\n",
      "  ✅ Near table created: D:\\ArcGISProjects\\GeohazardDB\\ghzgdb_Legacy.gdb\\near_invdist_OVA\n",
      "⏳ Processing OVQ (297/328)...\n",
      "  ✅ Near table created: D:\\ArcGISProjects\\GeohazardDB\\ghzgdb_Legacy.gdb\\near_invdist_OVQ\n",
      "⏳ Processing PLW (298/328)...\n",
      "  ✅ Near table created: D:\\ArcGISProjects\\GeohazardDB\\ghzgdb_Legacy.gdb\\near_invdist_PLW\n",
      "⏳ Processing ATG (299/328)...\n",
      "  ✅ Near table created: D:\\ArcGISProjects\\GeohazardDB\\ghzgdb_Legacy.gdb\\near_invdist_ATG\n",
      "⏳ Processing DJI (300/328)...\n",
      "  ✅ Near table created: D:\\ArcGISProjects\\GeohazardDB\\ghzgdb_Legacy.gdb\\near_invdist_DJI\n",
      "⏳ Processing SAN (301/328)...\n",
      "  ✅ Near table created: D:\\ArcGISProjects\\GeohazardDB\\ghzgdb_Legacy.gdb\\near_invdist_SAN\n",
      "⏳ Processing VIR (302/328)...\n",
      "  ✅ Near table created: D:\\ArcGISProjects\\GeohazardDB\\ghzgdb_Legacy.gdb\\near_invdist_VIR\n",
      "⏳ Processing SGP (303/328)...\n",
      "  ✅ Near table created: D:\\ArcGISProjects\\GeohazardDB\\ghzgdb_Legacy.gdb\\near_invdist_SGP\n",
      "⏳ Processing JOI (304/328)...\n",
      "  ✅ Near table created: D:\\ArcGISProjects\\GeohazardDB\\ghzgdb_Legacy.gdb\\near_invdist_JOI\n",
      "⏳ Processing CPV (305/328)...\n",
      "  ✅ Near table created: D:\\ArcGISProjects\\GeohazardDB\\ghzgdb_Legacy.gdb\\near_invdist_CPV\n",
      "⏳ Processing CSH (306/328)...\n",
      "  ✅ Near table created: D:\\ArcGISProjects\\GeohazardDB\\ghzgdb_Legacy.gdb\\near_invdist_CSH\n",
      "⏳ Processing DZA (307/328)...\n",
      "  ✅ Near table created: D:\\ArcGISProjects\\GeohazardDB\\ghzgdb_Legacy.gdb\\near_invdist_DZA\n",
      "⏳ Processing JOB (308/328)...\n",
      "  ✅ Near table created: D:\\ArcGISProjects\\GeohazardDB\\ghzgdb_Legacy.gdb\\near_invdist_JOB\n",
      "⏳ Processing JOZ (309/328)...\n",
      "  ✅ Near table created: D:\\ArcGISProjects\\GeohazardDB\\ghzgdb_Legacy.gdb\\near_invdist_JOZ\n",
      "⏳ Processing EST (310/328)...\n",
      "  ✅ Near table created: D:\\ArcGISProjects\\GeohazardDB\\ghzgdb_Legacy.gdb\\near_invdist_EST\n",
      "⏳ Processing TGO (311/328)...\n",
      "  ✅ Near table created: D:\\ArcGISProjects\\GeohazardDB\\ghzgdb_Legacy.gdb\\near_invdist_TGO\n",
      "⏳ Processing MYT (312/328)...\n",
      "  ✅ Near table created: D:\\ArcGISProjects\\GeohazardDB\\ghzgdb_Legacy.gdb\\near_invdist_MYT\n",
      "⏳ Processing JOA (313/328)...\n",
      "  ✅ Near table created: D:\\ArcGISProjects\\GeohazardDB\\ghzgdb_Legacy.gdb\\near_invdist_JOA\n",
      "⏳ Processing GMB (314/328)...\n",
      "  ✅ Near table created: D:\\ArcGISProjects\\GeohazardDB\\ghzgdb_Legacy.gdb\\near_invdist_GMB\n",
      "⏳ Processing PAN (315/328)...\n",
      "  ✅ Near table created: D:\\ArcGISProjects\\GeohazardDB\\ghzgdb_Legacy.gdb\\near_invdist_PAN\n",
      "⏳ Processing OVH (316/328)...\n",
      "  ✅ Near table created: D:\\ArcGISProjects\\GeohazardDB\\ghzgdb_Legacy.gdb\\near_invdist_OVH\n",
      "⏳ Processing JOY (317/328)...\n",
      "  ✅ Near table created: D:\\ArcGISProjects\\GeohazardDB\\ghzgdb_Legacy.gdb\\near_invdist_JOY\n",
      "⏳ Processing JOX (318/328)...\n",
      "  ✅ Near table created: D:\\ArcGISProjects\\GeohazardDB\\ghzgdb_Legacy.gdb\\near_invdist_JOX\n",
      "⏳ Processing HEJ (319/328)...\n",
      "  ✅ Near table created: D:\\ArcGISProjects\\GeohazardDB\\ghzgdb_Legacy.gdb\\near_invdist_HEJ\n",
      "⏳ Processing BRR (320/328)...\n",
      "  ✅ Near table created: D:\\ArcGISProjects\\GeohazardDB\\ghzgdb_Legacy.gdb\\near_invdist_BRR\n",
      "⏳ Processing FTR (321/328)...\n",
      "  ✅ Near table created: D:\\ArcGISProjects\\GeohazardDB\\ghzgdb_Legacy.gdb\\near_invdist_FTR\n",
      "⏳ Processing SNA (322/328)...\n",
      "  ✅ Near table created: D:\\ArcGISProjects\\GeohazardDB\\ghzgdb_Legacy.gdb\\near_invdist_SNA\n",
      "⏳ Processing LIE (323/328)...\n",
      "  ✅ Near table created: D:\\ArcGISProjects\\GeohazardDB\\ghzgdb_Legacy.gdb\\near_invdist_LIE\n",
      "⏳ Processing OVP (324/328)...\n",
      "  ✅ Near table created: D:\\ArcGISProjects\\GeohazardDB\\ghzgdb_Legacy.gdb\\near_invdist_OVP\n",
      "⏳ Processing LPL (325/328)...\n",
      "  ✅ Near table created: D:\\ArcGISProjects\\GeohazardDB\\ghzgdb_Legacy.gdb\\near_invdist_LPL\n",
      "⏳ Processing JOQ (326/328)...\n",
      "  ✅ Near table created: D:\\ArcGISProjects\\GeohazardDB\\ghzgdb_Legacy.gdb\\near_invdist_JOQ\n",
      "⏳ Processing FAO (327/328)...\n",
      "  ✅ Near table created: D:\\ArcGISProjects\\GeohazardDB\\ghzgdb_Legacy.gdb\\near_invdist_FAO\n",
      "⏳ Processing OQU (328/328)...\n",
      "  ✅ Near table created: D:\\ArcGISProjects\\GeohazardDB\\ghzgdb_Legacy.gdb\\near_invdist_OQU\n",
      "✅ All invalid geohazard points merged into D:\\ArcGISProjects\\GeohazardDB\\ghzgdb_Legacy.gdb\\invalid_dist_merged\n",
      "✅ Lines created: D:\\ArcGISProjects\\GeohazardDB\\ghzgdb_Legacy.gdb\\compiled_near_lines_invalid\n",
      "✅ All invalid distance near analysis completed in 206.45 minutes\n"
     ]
    }
   ],
   "source": [
    "start_time = timeit.default_timer()\n",
    "\n",
    "# Paths\n",
    "project_folder = r\"D:\\ArcGISProjects\\GeohazardDB\"\n",
    "\n",
    "ndis_gdb = os.path.join(project_folder, \"ghzgdb_Legacy.gdb\")\n",
    "road_gdb = os.path.join(project_folder, \"GeohazardDB.gdb\")\n",
    "road_layer_template = os.path.join(road_gdb, \"roads\")\n",
    "country_layer = os.path.join(road_gdb, \"eez_country\")\n",
    "\n",
    "invalid_layer = os.path.join(road_gdb, \"invalid_distance\")  # input geohazard points\n",
    "\n",
    "# Near analysis preparation\n",
    "ghz_list = []\n",
    "near_tables = []\n",
    "\n",
    "total_countries = int(arcpy.GetCount_management(country_layer)[0])\n",
    "\n",
    "with arcpy.da.SearchCursor(country_layer, [\"ISO_TER1\", \"SHAPE@\"]) as country_cursor:\n",
    "    for index, row in enumerate(country_cursor, start=1):\n",
    "        iso = row[0]\n",
    "        shape = row[1]\n",
    "        print(f\"⏳ Processing {iso} ({index}/{total_countries})...\")\n",
    "\n",
    "        inv_clip = os.path.join(ndis_gdb, f\"invdist_{iso}\")\n",
    "        road_clip = os.path.join(road_gdb, f\"road_{iso}\")\n",
    "        near_table = os.path.join(ndis_gdb, f\"near_invdist_{iso}\")\n",
    "\n",
    "        # Clip invalid geohazard points\n",
    "        if arcpy.Exists(inv_clip):\n",
    "            arcpy.Delete_management(inv_clip)\n",
    "        arcpy.analysis.Clip(invalid_layer, shape, inv_clip)\n",
    "\n",
    "        # Run Near analysis\n",
    "        if arcpy.Exists(near_table):\n",
    "            arcpy.Delete_management(near_table)\n",
    "        arcpy.analysis.GenerateNearTable(\n",
    "            in_features=inv_clip,\n",
    "            near_features=road_clip,\n",
    "            out_table=near_table,\n",
    "            location=\"LOCATION\",\n",
    "            angle=\"ANGLE\",\n",
    "            closest=\"CLOSEST\",\n",
    "            method=\"GEODESIC\"\n",
    "        )\n",
    "        print(f\"  ✅ Near table created: {near_table}\")\n",
    "        near_tables.append(near_table)\n",
    "\n",
    "        # Add 'distance' to inv_clip\n",
    "        if \"distance\" not in [f.name for f in arcpy.ListFields(inv_clip)]:\n",
    "            arcpy.AddField_management(inv_clip, \"distance\", \"DOUBLE\")\n",
    "\n",
    "        with arcpy.da.UpdateCursor(inv_clip, [\"OBJECTID\", \"distance\"]) as up_cursor:\n",
    "            for up_row in up_cursor:\n",
    "                oid = up_row[0]\n",
    "                with arcpy.da.SearchCursor(near_table, [\"IN_FID\", \"NEAR_DIST\"]) as near_cursor:\n",
    "                    for near_row in near_cursor:\n",
    "                        if near_row[0] == oid:\n",
    "                            up_row[1] = near_row[1]\n",
    "                            up_cursor.updateRow(up_row)\n",
    "                            break\n",
    "\n",
    "        # Add 'HazardID' to near table\n",
    "        if \"HazardID\" not in [f.name for f in arcpy.ListFields(near_table)]:\n",
    "            arcpy.AddField_management(near_table, \"HazardID\", \"TEXT\")\n",
    "\n",
    "        with arcpy.da.UpdateCursor(near_table, [\"IN_FID\", \"HazardID\"]) as cursor:\n",
    "            for row in cursor:\n",
    "                with arcpy.da.SearchCursor(inv_clip, [\"OBJECTID\", \"HazardID\"]) as src:\n",
    "                    for src_row in src:\n",
    "                        if row[0] == src_row[0]:\n",
    "                            row[1] = src_row[1]\n",
    "                            cursor.updateRow(row)\n",
    "                            break\n",
    "\n",
    "        ghz_list.append(inv_clip)\n",
    "\n",
    "# Merge clipped geohazard points\n",
    "merged_output = os.path.join(ndis_gdb, \"invalid_dist_merged\")\n",
    "if arcpy.Exists(merged_output):\n",
    "    arcpy.Delete_management(merged_output)\n",
    "arcpy.Merge_management(ghz_list, merged_output)\n",
    "print(f\"✅ All invalid geohazard points merged into {merged_output}\")\n",
    "\n",
    "# Merge near tables\n",
    "compiled_near_table = os.path.join(ndis_gdb, \"compiled_near_table_invalid\")\n",
    "if arcpy.Exists(compiled_near_table):\n",
    "    arcpy.Delete_management(compiled_near_table)\n",
    "\n",
    "arcpy.CreateTable_management(ndis_gdb, \"compiled_near_table_invalid\")\n",
    "for field in [(\"FROM_X\", \"DOUBLE\"), (\"FROM_Y\", \"DOUBLE\"), (\"NEAR_X\", \"DOUBLE\"),\n",
    "              (\"NEAR_Y\", \"DOUBLE\"), (\"NEAR_FID\", \"LONG\"), (\"HazardID\", \"TEXT\")]:\n",
    "    arcpy.AddField_management(compiled_near_table, field[0], field[1])\n",
    "\n",
    "with arcpy.da.InsertCursor(compiled_near_table, [\"FROM_X\", \"FROM_Y\", \"NEAR_X\", \"NEAR_Y\", \"NEAR_FID\", \"HazardID\"]) as insert_cursor:\n",
    "    for table in near_tables:\n",
    "        with arcpy.da.SearchCursor(table, [\"FROM_X\", \"FROM_Y\", \"NEAR_X\", \"NEAR_Y\", \"NEAR_FID\", \"HazardID\"]) as cursor:\n",
    "            for row in cursor:\n",
    "                insert_cursor.insertRow(row)\n",
    "\n",
    "# Create line layer\n",
    "line_fc = os.path.join(ndis_gdb, \"compiled_near_lines_invalid\")\n",
    "if arcpy.Exists(line_fc):\n",
    "    arcpy.Delete_management(line_fc)\n",
    "\n",
    "arcpy.XYToLine_management(\n",
    "    compiled_near_table, line_fc, \n",
    "    \"FROM_X\", \"FROM_Y\", \"NEAR_X\", \"NEAR_Y\"\n",
    ")\n",
    "print(f\"✅ Lines created: {line_fc}\")\n",
    "\n",
    "elapsed = timeit.default_timer() - start_time\n",
    "print(f\"✅ All invalid distance near analysis completed in {elapsed/60:.2f} minutes\")\n"
   ]
  },
  {
   "cell_type": "markdown",
   "metadata": {},
   "source": [
    "------"
   ]
  },
  {
   "cell_type": "markdown",
   "metadata": {},
   "source": [
    "# PreProcessing for Staggered Decision v3.8.0"
   ]
  },
  {
   "cell_type": "code",
   "execution_count": 6,
   "metadata": {},
   "outputs": [
    {
     "name": "stdout",
     "output_type": "stream",
     "text": [
      "<class 'pandas.core.frame.DataFrame'>\n",
      "RangeIndex: 6011 entries, 0 to 6010\n",
      "Data columns (total 10 columns):\n",
      " #   Column                 Non-Null Count  Dtype  \n",
      "---  ------                 --------------  -----  \n",
      " 0   HazardID               6011 non-null   int64  \n",
      " 1   latitude               6011 non-null   float64\n",
      " 2   longitude              6011 non-null   float64\n",
      " 3   HazardType             6011 non-null   object \n",
      " 4   distance               356 non-null    object \n",
      " 5   intensity              51 non-null     object \n",
      " 6   economic_loss_million  51 non-null     object \n",
      " 7   duration_minutes       51 non-null     object \n",
      " 8   pop                    6011 non-null   float64\n",
      " 9   SHAPE@XY               6011 non-null   object \n",
      "dtypes: float64(3), int64(1), object(6)\n",
      "memory usage: 469.7+ KB\n"
     ]
    }
   ],
   "source": [
    "# Get the recalculated invalid distance\n",
    "# Path to the merged feature class\n",
    "merged_fc = r\"D:\\ArcGISProjects\\GeohazardDB\\ghzgdb_Legacy.gdb\\invalid_dist_merged\"\n",
    "\n",
    "# List fields you want to extract\n",
    "fields = [f.name for f in arcpy.ListFields(merged_fc) if f.type not in (\"Geometry\", \"OID\")]\n",
    "\n",
    "# Add geometry fields if needed\n",
    "fields += [\"SHAPE@XY\"]\n",
    "\n",
    "# Read into a DataFrame\n",
    "data = []\n",
    "with arcpy.da.SearchCursor(merged_fc, fields) as cursor:\n",
    "    for row in cursor:\n",
    "        data.append(row)\n",
    "\n",
    "# Create DataFrame\n",
    "invalid_dist_df = pd.DataFrame(data, columns=fields)\n",
    "\n",
    "invalid_dist_df.info()"
   ]
  },
  {
   "cell_type": "code",
   "execution_count": 7,
   "metadata": {},
   "outputs": [
    {
     "name": "stdout",
     "output_type": "stream",
     "text": [
      "Valid distances extracted: 356\n",
      "   HazardID          distance\n",
      "0      1012   1471.6241757914\n",
      "1      3603  7653.21392621024\n",
      "2      1848  3582.60777272442\n",
      "3      3108  2329.97952183445\n",
      "4      2973  869.561002507594\n"
     ]
    }
   ],
   "source": [
    "# Filter only rows with non-null distance\n",
    "valid_distance_df = invalid_dist_df[invalid_dist_df[\"distance\"].notna()].copy()\n",
    "\n",
    "# Show count and preview\n",
    "print(\"Valid distances extracted:\", len(valid_distance_df))\n",
    "print(valid_distance_df[[\"HazardID\", \"distance\"]].head())"
   ]
  },
  {
   "cell_type": "code",
   "execution_count": 9,
   "metadata": {},
   "outputs": [
    {
     "name": "stdout",
     "output_type": "stream",
     "text": [
      "<class 'pandas.core.frame.DataFrame'>\n",
      "Index: 356 entries, 0 to 4545\n",
      "Data columns (total 9 columns):\n",
      " #   Column                 Non-Null Count  Dtype  \n",
      "---  ------                 --------------  -----  \n",
      " 0   HazardID               356 non-null    int64  \n",
      " 1   latitude               356 non-null    float64\n",
      " 2   longitude              356 non-null    float64\n",
      " 3   HazardType             356 non-null    object \n",
      " 4   distance               356 non-null    object \n",
      " 5   intensity              2 non-null      object \n",
      " 6   economic_loss_million  2 non-null      object \n",
      " 7   duration_minutes       2 non-null      object \n",
      " 8   pop                    356 non-null    float64\n",
      "dtypes: float64(3), int64(1), object(5)\n",
      "memory usage: 27.8+ KB\n"
     ]
    }
   ],
   "source": [
    "# Select only the desired columns from merged_df_final\n",
    "valid_distance_df  = valid_distance_df[[\n",
    "    \"HazardID\",\n",
    "    \"latitude\",\n",
    "    \"longitude\",\n",
    "    \"HazardType\",\n",
    "    \"distance\",\n",
    "    \"intensity\",\n",
    "    \"economic_loss_million\",\n",
    "    \"duration_minutes\",\n",
    "    \"pop\"\n",
    "]].copy()\n",
    "valid_distance_df.info()"
   ]
  },
  {
   "cell_type": "code",
   "execution_count": 10,
   "metadata": {},
   "outputs": [
    {
     "name": "stdout",
     "output_type": "stream",
     "text": [
      "<class 'pandas.core.frame.DataFrame'>\n",
      "Index: 6119 entries, 914330 to 920448\n",
      "Data columns (total 9 columns):\n",
      " #   Column                 Non-Null Count  Dtype  \n",
      "---  ------                 --------------  -----  \n",
      " 0   HazardID               6119 non-null   int64  \n",
      " 1   latitude               6119 non-null   float64\n",
      " 2   longitude              6119 non-null   float64\n",
      " 3   HazardType             6119 non-null   object \n",
      " 4   distance               6119 non-null   float64\n",
      " 5   intensity              6119 non-null   float64\n",
      " 6   economic_loss_million  6119 non-null   float64\n",
      " 7   duration_minutes       6119 non-null   float64\n",
      " 8   pop                    6119 non-null   float64\n",
      "dtypes: float64(7), int64(1), object(1)\n",
      "memory usage: 478.0+ KB\n"
     ]
    }
   ],
   "source": [
    "nuclear = ghz_df[(ghz_df[\"HazardType\"] == \"Nuclear\")]\n",
    "nuclear.info()"
   ]
  },
  {
   "cell_type": "code",
   "execution_count": 15,
   "metadata": {},
   "outputs": [
    {
     "data": {
      "text/html": [
       "<div>\n",
       "<style scoped>\n",
       "    .dataframe tbody tr th:only-of-type {\n",
       "        vertical-align: middle;\n",
       "    }\n",
       "\n",
       "    .dataframe tbody tr th {\n",
       "        vertical-align: top;\n",
       "    }\n",
       "\n",
       "    .dataframe thead th {\n",
       "        text-align: right;\n",
       "    }\n",
       "</style>\n",
       "<table border=\"1\" class=\"dataframe\">\n",
       "  <thead>\n",
       "    <tr style=\"text-align: right;\">\n",
       "      <th></th>\n",
       "      <th>HazardID</th>\n",
       "      <th>latitude</th>\n",
       "      <th>longitude</th>\n",
       "      <th>HazardType</th>\n",
       "      <th>distance</th>\n",
       "      <th>intensity</th>\n",
       "      <th>economic_loss_million</th>\n",
       "      <th>duration_minutes</th>\n",
       "      <th>pop</th>\n",
       "    </tr>\n",
       "  </thead>\n",
       "  <tbody>\n",
       "    <tr>\n",
       "      <th>914330</th>\n",
       "      <td>1110500502</td>\n",
       "      <td>-33.96701</td>\n",
       "      <td>-59.20950</td>\n",
       "      <td>Nuclear</td>\n",
       "      <td>401.918796</td>\n",
       "      <td>5.0</td>\n",
       "      <td>4163.0</td>\n",
       "      <td>1440.0</td>\n",
       "      <td>162494.0</td>\n",
       "    </tr>\n",
       "    <tr>\n",
       "      <th>914331</th>\n",
       "      <td>1110500382</td>\n",
       "      <td>-33.96720</td>\n",
       "      <td>-59.20730</td>\n",
       "      <td>Nuclear</td>\n",
       "      <td>256.196159</td>\n",
       "      <td>5.0</td>\n",
       "      <td>8567.5</td>\n",
       "      <td>1440.0</td>\n",
       "      <td>163124.0</td>\n",
       "    </tr>\n",
       "    <tr>\n",
       "      <th>914332</th>\n",
       "      <td>1110500646</td>\n",
       "      <td>-33.96720</td>\n",
       "      <td>-59.20750</td>\n",
       "      <td>Nuclear</td>\n",
       "      <td>264.593305</td>\n",
       "      <td>5.0</td>\n",
       "      <td>0.0</td>\n",
       "      <td>1440.0</td>\n",
       "      <td>163062.0</td>\n",
       "    </tr>\n",
       "    <tr>\n",
       "      <th>914333</th>\n",
       "      <td>1110500600</td>\n",
       "      <td>-33.96780</td>\n",
       "      <td>-59.21301</td>\n",
       "      <td>Nuclear</td>\n",
       "      <td>451.689429</td>\n",
       "      <td>5.0</td>\n",
       "      <td>333.5</td>\n",
       "      <td>1440.0</td>\n",
       "      <td>161574.0</td>\n",
       "    </tr>\n",
       "    <tr>\n",
       "      <th>914334</th>\n",
       "      <td>1110500385</td>\n",
       "      <td>-32.23160</td>\n",
       "      <td>-64.44220</td>\n",
       "      <td>Nuclear</td>\n",
       "      <td>318.694090</td>\n",
       "      <td>5.0</td>\n",
       "      <td>7544.0</td>\n",
       "      <td>1440.0</td>\n",
       "      <td>35389.0</td>\n",
       "    </tr>\n",
       "    <tr>\n",
       "      <th>...</th>\n",
       "      <td>...</td>\n",
       "      <td>...</td>\n",
       "      <td>...</td>\n",
       "      <td>...</td>\n",
       "      <td>...</td>\n",
       "      <td>...</td>\n",
       "      <td>...</td>\n",
       "      <td>...</td>\n",
       "      <td>...</td>\n",
       "    </tr>\n",
       "    <tr>\n",
       "      <th>920444</th>\n",
       "      <td>1110501496</td>\n",
       "      <td>11.69030</td>\n",
       "      <td>109.17510</td>\n",
       "      <td>Nuclear</td>\n",
       "      <td>32.259321</td>\n",
       "      <td>5.0</td>\n",
       "      <td>0.0</td>\n",
       "      <td>1440.0</td>\n",
       "      <td>464227.0</td>\n",
       "    </tr>\n",
       "    <tr>\n",
       "      <th>920445</th>\n",
       "      <td>1110501493</td>\n",
       "      <td>11.69030</td>\n",
       "      <td>109.17510</td>\n",
       "      <td>Nuclear</td>\n",
       "      <td>32.259321</td>\n",
       "      <td>5.0</td>\n",
       "      <td>0.0</td>\n",
       "      <td>1440.0</td>\n",
       "      <td>464227.0</td>\n",
       "    </tr>\n",
       "    <tr>\n",
       "      <th>920446</th>\n",
       "      <td>1110501494</td>\n",
       "      <td>11.69030</td>\n",
       "      <td>109.17510</td>\n",
       "      <td>Nuclear</td>\n",
       "      <td>32.259321</td>\n",
       "      <td>5.0</td>\n",
       "      <td>0.0</td>\n",
       "      <td>1440.0</td>\n",
       "      <td>464227.0</td>\n",
       "    </tr>\n",
       "    <tr>\n",
       "      <th>920447</th>\n",
       "      <td>1110501495</td>\n",
       "      <td>11.69030</td>\n",
       "      <td>109.17510</td>\n",
       "      <td>Nuclear</td>\n",
       "      <td>32.259321</td>\n",
       "      <td>5.0</td>\n",
       "      <td>0.0</td>\n",
       "      <td>1440.0</td>\n",
       "      <td>464227.0</td>\n",
       "    </tr>\n",
       "    <tr>\n",
       "      <th>920448</th>\n",
       "      <td>1110501496</td>\n",
       "      <td>11.69030</td>\n",
       "      <td>109.17510</td>\n",
       "      <td>Nuclear</td>\n",
       "      <td>32.259321</td>\n",
       "      <td>5.0</td>\n",
       "      <td>0.0</td>\n",
       "      <td>1440.0</td>\n",
       "      <td>464227.0</td>\n",
       "    </tr>\n",
       "  </tbody>\n",
       "</table>\n",
       "<p>6119 rows × 9 columns</p>\n",
       "</div>"
      ],
      "text/plain": [
       "          HazardID  latitude  longitude HazardType    distance  intensity  \\\n",
       "914330  1110500502 -33.96701  -59.20950    Nuclear  401.918796        5.0   \n",
       "914331  1110500382 -33.96720  -59.20730    Nuclear  256.196159        5.0   \n",
       "914332  1110500646 -33.96720  -59.20750    Nuclear  264.593305        5.0   \n",
       "914333  1110500600 -33.96780  -59.21301    Nuclear  451.689429        5.0   \n",
       "914334  1110500385 -32.23160  -64.44220    Nuclear  318.694090        5.0   \n",
       "...            ...       ...        ...        ...         ...        ...   \n",
       "920444  1110501496  11.69030  109.17510    Nuclear   32.259321        5.0   \n",
       "920445  1110501493  11.69030  109.17510    Nuclear   32.259321        5.0   \n",
       "920446  1110501494  11.69030  109.17510    Nuclear   32.259321        5.0   \n",
       "920447  1110501495  11.69030  109.17510    Nuclear   32.259321        5.0   \n",
       "920448  1110501496  11.69030  109.17510    Nuclear   32.259321        5.0   \n",
       "\n",
       "        economic_loss_million  duration_minutes       pop  \n",
       "914330                 4163.0            1440.0  162494.0  \n",
       "914331                 8567.5            1440.0  163124.0  \n",
       "914332                    0.0            1440.0  163062.0  \n",
       "914333                  333.5            1440.0  161574.0  \n",
       "914334                 7544.0            1440.0   35389.0  \n",
       "...                       ...               ...       ...  \n",
       "920444                    0.0            1440.0  464227.0  \n",
       "920445                    0.0            1440.0  464227.0  \n",
       "920446                    0.0            1440.0  464227.0  \n",
       "920447                    0.0            1440.0  464227.0  \n",
       "920448                    0.0            1440.0  464227.0  \n",
       "\n",
       "[6119 rows x 9 columns]"
      ]
     },
     "execution_count": 15,
     "metadata": {},
     "output_type": "execute_result"
    }
   ],
   "source": [
    "nuclear"
   ]
  },
  {
   "cell_type": "code",
   "execution_count": 16,
   "metadata": {},
   "outputs": [
    {
     "name": "stdout",
     "output_type": "stream",
     "text": [
      "Total duplicated HazardIDs: 1382\n",
      "Duplicated entries:\n",
      "          HazardID  latitude  longitude HazardType     distance  intensity  \\\n",
      "920348  1110008838  25.43448   -80.3324    Nuclear  7983.791226        5.0   \n",
      "920352  1110008838  25.43448   -80.3324    Nuclear  7983.791226        5.0   \n",
      "920360  1110008838  25.43448   -80.3324    Nuclear  7983.791226        5.0   \n",
      "920356  1110008838  25.43448   -80.3324    Nuclear  7983.791226        5.0   \n",
      "920361  1110008843  25.43448   -80.3324    Nuclear  7983.791226        5.0   \n",
      "\n",
      "        economic_loss_million  duration_minutes       pop  \n",
      "920348                 9533.5            1440.0  665367.0  \n",
      "920352                 9533.5            1440.0  665367.0  \n",
      "920360                    0.0            1440.0  665367.0  \n",
      "920356                    0.0            1440.0  665367.0  \n",
      "920361                    0.0            1440.0  665367.0  \n"
     ]
    }
   ],
   "source": [
    "# Find duplicated HazardIDs\n",
    "duplicates = nuclear[nuclear.duplicated(\"HazardID\", keep=False)]\n",
    "\n",
    "print(\"Total duplicated HazardIDs:\", duplicates[\"HazardID\"].nunique())\n",
    "print(\"Duplicated entries:\")\n",
    "print(duplicates.sort_values(\"HazardID\").head())\n"
   ]
  },
  {
   "cell_type": "code",
   "execution_count": 6,
   "metadata": {},
   "outputs": [
    {
     "name": "stdout",
     "output_type": "stream",
     "text": [
      "<class 'pandas.core.frame.DataFrame'>\n",
      "RangeIndex: 1541 entries, 0 to 1540\n",
      "Data columns (total 13 columns):\n",
      " #   Column                 Non-Null Count  Dtype  \n",
      "---  ------                 --------------  -----  \n",
      " 0   HazardID               1541 non-null   int64  \n",
      " 1   latitude               1541 non-null   float64\n",
      " 2   longitude              1541 non-null   float64\n",
      " 3   HazardType             1541 non-null   object \n",
      " 4   intensity              1541 non-null   float64\n",
      " 5   duration_minutes       1541 non-null   float64\n",
      " 6   economic_loss_million  1541 non-null   float64\n",
      " 7   travel_time            0 non-null      float64\n",
      " 8   monitor_time           1541 non-null   float64\n",
      " 9   cpm_total_time         0 non-null      float64\n",
      " 10  HazardStage            1541 non-null   object \n",
      " 11  pop                    1541 non-null   float64\n",
      " 12  distance               1541 non-null   float64\n",
      "dtypes: float64(10), int64(1), object(2)\n",
      "memory usage: 156.6+ KB\n"
     ]
    }
   ],
   "source": [
    "cleaned_nuclear_df = pd.read_csv(r\"D:\\NDIS_Database\\cleaned_nuclear_df.csv\")\n",
    "cleaned_nuclear_df.info()"
   ]
  },
  {
   "cell_type": "code",
   "execution_count": 23,
   "metadata": {},
   "outputs": [
    {
     "name": "stdout",
     "output_type": "stream",
     "text": [
      "✅ Final deduplicated nuclear count: 1541\n"
     ]
    }
   ],
   "source": [
    "# Define fields to check\n",
    "fields_to_check = [\"distance\", \"pop\", \"economic_loss_million\", \"intensity\", \"duration_minutes\"]\n",
    "\n",
    "# Tier 1: Fully valid rows\n",
    "valid_mask = nuclear[fields_to_check].notna().all(axis=1) & (nuclear[fields_to_check] > 0).all(axis=1)\n",
    "valid_df = nuclear[valid_mask].copy()\n",
    "valid_df = valid_df.sort_values(\"economic_loss_million\", ascending=False)\n",
    "valid_dedup = valid_df.drop_duplicates(subset=\"HazardID\", keep=\"first\")\n",
    "\n",
    "# Tier 2: All remaining HazardIDs not in Tier 1\n",
    "remaining_df = nuclear[~nuclear[\"HazardID\"].isin(valid_dedup[\"HazardID\"])]\n",
    "fallback_dedup = remaining_df.drop_duplicates(subset=\"HazardID\", keep=\"first\")\n",
    "\n",
    "# Combine both\n",
    "final_dedup = pd.concat([valid_dedup, fallback_dedup], ignore_index=True)\n",
    "\n",
    "print(\"✅ Final deduplicated nuclear count:\", len(final_dedup))\n"
   ]
  },
  {
   "cell_type": "code",
   "execution_count": 24,
   "metadata": {},
   "outputs": [
    {
     "data": {
      "text/html": [
       "<div>\n",
       "<style scoped>\n",
       "    .dataframe tbody tr th:only-of-type {\n",
       "        vertical-align: middle;\n",
       "    }\n",
       "\n",
       "    .dataframe tbody tr th {\n",
       "        vertical-align: top;\n",
       "    }\n",
       "\n",
       "    .dataframe thead th {\n",
       "        text-align: right;\n",
       "    }\n",
       "</style>\n",
       "<table border=\"1\" class=\"dataframe\">\n",
       "  <thead>\n",
       "    <tr style=\"text-align: right;\">\n",
       "      <th></th>\n",
       "      <th>HazardID</th>\n",
       "      <th>latitude</th>\n",
       "      <th>longitude</th>\n",
       "      <th>HazardType</th>\n",
       "      <th>distance</th>\n",
       "      <th>intensity</th>\n",
       "      <th>economic_loss_million</th>\n",
       "      <th>duration_minutes</th>\n",
       "      <th>pop</th>\n",
       "    </tr>\n",
       "  </thead>\n",
       "  <tbody>\n",
       "    <tr>\n",
       "      <th>0</th>\n",
       "      <td>1110500815</td>\n",
       "      <td>22.6056</td>\n",
       "      <td>114.5531</td>\n",
       "      <td>Nuclear</td>\n",
       "      <td>318.609479</td>\n",
       "      <td>5.0</td>\n",
       "      <td>11385.0</td>\n",
       "      <td>1440.0</td>\n",
       "      <td>1503334.0</td>\n",
       "    </tr>\n",
       "    <tr>\n",
       "      <th>1</th>\n",
       "      <td>1110500245</td>\n",
       "      <td>38.0601</td>\n",
       "      <td>-77.7897</td>\n",
       "      <td>Nuclear</td>\n",
       "      <td>2121.211036</td>\n",
       "      <td>5.0</td>\n",
       "      <td>11385.0</td>\n",
       "      <td>1440.0</td>\n",
       "      <td>105858.0</td>\n",
       "    </tr>\n",
       "    <tr>\n",
       "      <th>2</th>\n",
       "      <td>1110500818</td>\n",
       "      <td>22.6056</td>\n",
       "      <td>114.5531</td>\n",
       "      <td>Nuclear</td>\n",
       "      <td>318.609479</td>\n",
       "      <td>5.0</td>\n",
       "      <td>11385.0</td>\n",
       "      <td>1440.0</td>\n",
       "      <td>1503334.0</td>\n",
       "    </tr>\n",
       "    <tr>\n",
       "      <th>3</th>\n",
       "      <td>1110500817</td>\n",
       "      <td>22.6056</td>\n",
       "      <td>114.5531</td>\n",
       "      <td>Nuclear</td>\n",
       "      <td>318.609479</td>\n",
       "      <td>5.0</td>\n",
       "      <td>11385.0</td>\n",
       "      <td>1440.0</td>\n",
       "      <td>1503334.0</td>\n",
       "    </tr>\n",
       "    <tr>\n",
       "      <th>4</th>\n",
       "      <td>1110500247</td>\n",
       "      <td>33.9597</td>\n",
       "      <td>-78.0114</td>\n",
       "      <td>Nuclear</td>\n",
       "      <td>1618.419563</td>\n",
       "      <td>5.0</td>\n",
       "      <td>11385.0</td>\n",
       "      <td>1440.0</td>\n",
       "      <td>179163.0</td>\n",
       "    </tr>\n",
       "    <tr>\n",
       "      <th>...</th>\n",
       "      <td>...</td>\n",
       "      <td>...</td>\n",
       "      <td>...</td>\n",
       "      <td>...</td>\n",
       "      <td>...</td>\n",
       "      <td>...</td>\n",
       "      <td>...</td>\n",
       "      <td>...</td>\n",
       "      <td>...</td>\n",
       "    </tr>\n",
       "    <tr>\n",
       "      <th>1536</th>\n",
       "      <td>1110501492</td>\n",
       "      <td>11.4109</td>\n",
       "      <td>108.9743</td>\n",
       "      <td>Nuclear</td>\n",
       "      <td>253.455295</td>\n",
       "      <td>5.0</td>\n",
       "      <td>0.0</td>\n",
       "      <td>1440.0</td>\n",
       "      <td>472356.0</td>\n",
       "    </tr>\n",
       "    <tr>\n",
       "      <th>1537</th>\n",
       "      <td>1110501493</td>\n",
       "      <td>11.6903</td>\n",
       "      <td>109.1751</td>\n",
       "      <td>Nuclear</td>\n",
       "      <td>32.259321</td>\n",
       "      <td>5.0</td>\n",
       "      <td>0.0</td>\n",
       "      <td>1440.0</td>\n",
       "      <td>464227.0</td>\n",
       "    </tr>\n",
       "    <tr>\n",
       "      <th>1538</th>\n",
       "      <td>1110501494</td>\n",
       "      <td>11.6903</td>\n",
       "      <td>109.1751</td>\n",
       "      <td>Nuclear</td>\n",
       "      <td>32.259321</td>\n",
       "      <td>5.0</td>\n",
       "      <td>0.0</td>\n",
       "      <td>1440.0</td>\n",
       "      <td>464227.0</td>\n",
       "    </tr>\n",
       "    <tr>\n",
       "      <th>1539</th>\n",
       "      <td>1110501495</td>\n",
       "      <td>11.6903</td>\n",
       "      <td>109.1751</td>\n",
       "      <td>Nuclear</td>\n",
       "      <td>32.259321</td>\n",
       "      <td>5.0</td>\n",
       "      <td>0.0</td>\n",
       "      <td>1440.0</td>\n",
       "      <td>464227.0</td>\n",
       "    </tr>\n",
       "    <tr>\n",
       "      <th>1540</th>\n",
       "      <td>1110501496</td>\n",
       "      <td>11.6903</td>\n",
       "      <td>109.1751</td>\n",
       "      <td>Nuclear</td>\n",
       "      <td>32.259321</td>\n",
       "      <td>5.0</td>\n",
       "      <td>0.0</td>\n",
       "      <td>1440.0</td>\n",
       "      <td>464227.0</td>\n",
       "    </tr>\n",
       "  </tbody>\n",
       "</table>\n",
       "<p>1541 rows × 9 columns</p>\n",
       "</div>"
      ],
      "text/plain": [
       "        HazardID  latitude  longitude HazardType     distance  intensity  \\\n",
       "0     1110500815   22.6056   114.5531    Nuclear   318.609479        5.0   \n",
       "1     1110500245   38.0601   -77.7897    Nuclear  2121.211036        5.0   \n",
       "2     1110500818   22.6056   114.5531    Nuclear   318.609479        5.0   \n",
       "3     1110500817   22.6056   114.5531    Nuclear   318.609479        5.0   \n",
       "4     1110500247   33.9597   -78.0114    Nuclear  1618.419563        5.0   \n",
       "...          ...       ...        ...        ...          ...        ...   \n",
       "1536  1110501492   11.4109   108.9743    Nuclear   253.455295        5.0   \n",
       "1537  1110501493   11.6903   109.1751    Nuclear    32.259321        5.0   \n",
       "1538  1110501494   11.6903   109.1751    Nuclear    32.259321        5.0   \n",
       "1539  1110501495   11.6903   109.1751    Nuclear    32.259321        5.0   \n",
       "1540  1110501496   11.6903   109.1751    Nuclear    32.259321        5.0   \n",
       "\n",
       "      economic_loss_million  duration_minutes        pop  \n",
       "0                   11385.0            1440.0  1503334.0  \n",
       "1                   11385.0            1440.0   105858.0  \n",
       "2                   11385.0            1440.0  1503334.0  \n",
       "3                   11385.0            1440.0  1503334.0  \n",
       "4                   11385.0            1440.0   179163.0  \n",
       "...                     ...               ...        ...  \n",
       "1536                    0.0            1440.0   472356.0  \n",
       "1537                    0.0            1440.0   464227.0  \n",
       "1538                    0.0            1440.0   464227.0  \n",
       "1539                    0.0            1440.0   464227.0  \n",
       "1540                    0.0            1440.0   464227.0  \n",
       "\n",
       "[1541 rows x 9 columns]"
      ]
     },
     "execution_count": 24,
     "metadata": {},
     "output_type": "execute_result"
    }
   ],
   "source": [
    "final_dedup"
   ]
  },
  {
   "cell_type": "code",
   "execution_count": 25,
   "metadata": {},
   "outputs": [
    {
     "name": "stdout",
     "output_type": "stream",
     "text": [
      "Final GHZ DataFrame shape: (1933757, 9)\n"
     ]
    }
   ],
   "source": [
    "# Step 1: Remove all existing Nuclear rows from ghz_df\n",
    "ghz_df_no_nuclear = ghz_df[ghz_df[\"HazardType\"] != \"Nuclear\"].copy()\n",
    "\n",
    "# Step 2: Append final deduplicated nuclear DataFrame\n",
    "ghz_updated = pd.concat([ghz_df_no_nuclear, final_dedup], ignore_index=True)\n",
    "\n",
    "# Step 3: Update rows using valid_distance_df\n",
    "# We'll use HazardID as the join key and update all matching rows\n",
    "\n",
    "# Ensure HazardID is same dtype\n",
    "valid_distance_df[\"HazardID\"] = valid_distance_df[\"HazardID\"].astype(ghz_updated[\"HazardID\"].dtype)\n",
    "\n",
    "# Set HazardID as index for fast lookup\n",
    "ghz_updated.set_index(\"HazardID\", inplace=True)\n",
    "valid_distance_df.set_index(\"HazardID\", inplace=True)\n",
    "\n",
    "# Update all overlapping columns with corrected values\n",
    "ghz_updated.update(valid_distance_df)\n",
    "\n",
    "# Reset index\n",
    "ghz_updated.reset_index(inplace=True)\n",
    "\n",
    "# Done\n",
    "print(\"Final GHZ DataFrame shape:\", ghz_updated.shape)\n"
   ]
  },
  {
   "cell_type": "code",
   "execution_count": 13,
   "metadata": {},
   "outputs": [
    {
     "name": "stdout",
     "output_type": "stream",
     "text": [
      "<class 'pandas.core.frame.DataFrame'>\n",
      "Index: 1090 entries, 914330 to 1043259\n",
      "Data columns (total 9 columns):\n",
      " #   Column                 Non-Null Count  Dtype  \n",
      "---  ------                 --------------  -----  \n",
      " 0   HazardID               1090 non-null   int64  \n",
      " 1   latitude               1090 non-null   float64\n",
      " 2   longitude              1090 non-null   float64\n",
      " 3   HazardType             1090 non-null   object \n",
      " 4   distance               1044 non-null   float64\n",
      " 5   intensity              1044 non-null   float64\n",
      " 6   economic_loss_million  1044 non-null   float64\n",
      " 7   duration_minutes       1044 non-null   float64\n",
      " 8   pop                    1090 non-null   float64\n",
      "dtypes: float64(7), int64(1), object(1)\n",
      "memory usage: 85.2+ KB\n"
     ]
    }
   ],
   "source": [
    "volcano = ghz_updated[(ghz_updated[\"HazardType\"] == \"Volcano\")]\n",
    "volcano.info()"
   ]
  },
  {
   "cell_type": "code",
   "execution_count": 15,
   "metadata": {},
   "outputs": [
    {
     "data": {
      "text/plain": [
       "1044"
      ]
     },
     "execution_count": 15,
     "metadata": {},
     "output_type": "execute_result"
    }
   ],
   "source": [
    "volcano['distance'].notna().sum()"
   ]
  },
  {
   "cell_type": "code",
   "execution_count": 27,
   "metadata": {},
   "outputs": [
    {
     "name": "stdout",
     "output_type": "stream",
     "text": [
      "<class 'pandas.core.frame.DataFrame'>\n",
      "RangeIndex: 1933757 entries, 0 to 1933756\n",
      "Data columns (total 9 columns):\n",
      " #   Column                 Dtype  \n",
      "---  ------                 -----  \n",
      " 0   HazardID               int64  \n",
      " 1   latitude               float64\n",
      " 2   longitude              float64\n",
      " 3   HazardType             object \n",
      " 4   distance               object \n",
      " 5   intensity              object \n",
      " 6   economic_loss_million  object \n",
      " 7   duration_minutes       object \n",
      " 8   pop                    float64\n",
      "dtypes: float64(3), int64(1), object(5)\n",
      "memory usage: 132.8+ MB\n"
     ]
    }
   ],
   "source": [
    "ghz_updated.info()"
   ]
  },
  {
   "cell_type": "code",
   "execution_count": 36,
   "metadata": {},
   "outputs": [
    {
     "data": {
      "text/plain": [
       "array([False,  True])"
      ]
     },
     "execution_count": 36,
     "metadata": {},
     "output_type": "execute_result"
    }
   ],
   "source": [
    "ghz_updated['distance'].isna().unique()"
   ]
  },
  {
   "cell_type": "code",
   "execution_count": 8,
   "metadata": {},
   "outputs": [
    {
     "data": {
      "text/plain": [
       "1818788"
      ]
     },
     "execution_count": 8,
     "metadata": {},
     "output_type": "execute_result"
    }
   ],
   "source": [
    "ghz_updated['distance'].notna().sum()"
   ]
  },
  {
   "cell_type": "code",
   "execution_count": 9,
   "metadata": {},
   "outputs": [
    {
     "data": {
      "text/plain": [
       "114969"
      ]
     },
     "execution_count": 9,
     "metadata": {},
     "output_type": "execute_result"
    }
   ],
   "source": [
    "1933757 - 1818788"
   ]
  },
  {
   "cell_type": "code",
   "execution_count": 11,
   "metadata": {},
   "outputs": [
    {
     "data": {
      "text/plain": [
       "5.945369557808969"
      ]
     },
     "execution_count": 11,
     "metadata": {},
     "output_type": "execute_result"
    }
   ],
   "source": [
    "(114969/1933757)*100"
   ]
  },
  {
   "cell_type": "code",
   "execution_count": 52,
   "metadata": {},
   "outputs": [],
   "source": [
    "ghz_updated.to_csv(r\"D:\\NDIS_Database\\ghz_updated_250722.csv\", index=False)"
   ]
  },
  {
   "cell_type": "code",
   "execution_count": 58,
   "metadata": {},
   "outputs": [
    {
     "name": "stdout",
     "output_type": "stream",
     "text": [
      "✅ Feature class created: D:\\ArcGISProjects\\GeohazardDB\\ndis3.gdb\\ghz_updated_fc\n"
     ]
    }
   ],
   "source": [
    "# Paths\n",
    "project_folder = r\"D:\\ArcGISProjects\\GeohazardDB\"\n",
    "output_gdb = arcpy.CreateFileGDB_management(project_folder, \"ndis3.gdb\")\n",
    "output_fc = os.path.join(project_folder, \"ndis3.gdb\", \"ghz_updated_fc\")\n",
    "\n",
    "# Convert to spatially-enabled DataFrame (requires lat/lon in WGS 1984)\n",
    "sdf = pd.DataFrame(ghz_updated.copy())\n",
    "sdf = sdf[sdf[\"latitude\"].notna() & sdf[\"longitude\"].notna()]  # Ensure valid coordinates\n",
    "\n",
    "# Create point geometry\n",
    "geometry = [arcpy.Point(row[\"longitude\"], row[\"latitude\"]) for idx, row in sdf.iterrows()]\n",
    "spatial_ref = arcpy.SpatialReference(4326)  # WGS 1984\n",
    "features = [arcpy.Polygon(arcpy.Array([pt]), spatial_ref) if isinstance(pt, arcpy.Point) else None for pt in geometry]\n",
    "\n",
    "# Create Feature Class from scratch\n",
    "if arcpy.Exists(output_fc):\n",
    "    arcpy.Delete_management(output_fc)\n",
    "arcpy.CreateFeatureclass_management(out_path=os.path.dirname(output_fc), out_name=os.path.basename(output_fc),\n",
    "                                    geometry_type=\"POINT\", spatial_reference=spatial_ref)\n",
    "\n",
    "# Add fields from DataFrame (skip lat/lon and geometry)\n",
    "fields_to_add = [col for col in sdf.columns if col not in [\"latitude\", \"longitude\"]]\n",
    "for field in fields_to_add:\n",
    "    sample_value = sdf[field].dropna().iloc[0] if not sdf[field].dropna().empty else \"\"\n",
    "    field_type = \"TEXT\"\n",
    "    if pd.api.types.is_integer_dtype(sdf[field]):\n",
    "        field_type = \"LONG\"\n",
    "    elif pd.api.types.is_float_dtype(sdf[field]):\n",
    "        field_type = \"DOUBLE\"\n",
    "    arcpy.AddField_management(output_fc, field, field_type)\n",
    "\n",
    "# Write to feature class\n",
    "insert_fields = [\"SHAPE@\"] + fields_to_add\n",
    "with arcpy.da.InsertCursor(output_fc, insert_fields) as cursor:\n",
    "    for idx, row in sdf.iterrows():\n",
    "        pt = arcpy.Point(row[\"longitude\"], row[\"latitude\"])\n",
    "        values = [pt] + [row[f] for f in fields_to_add]\n",
    "        cursor.insertRow(values)\n",
    "\n",
    "print(f\"✅ Feature class created: {output_fc}\")"
   ]
  },
  {
   "cell_type": "code",
   "execution_count": 28,
   "metadata": {},
   "outputs": [
    {
     "name": "stdout",
     "output_type": "stream",
     "text": [
      "❗ Rows with null or zero in pop or distance: 891646\n",
      "   HazardID  HazardType  pop       distance\n",
      "0  16104462  Earthquake  0.0  105682.800646\n",
      "1  16104463  Earthquake  0.0   444950.02603\n",
      "2  16104464  Earthquake  0.0    7365.619676\n",
      "5  16104469  Earthquake  0.0   53872.618983\n",
      "6  16104470  Earthquake  0.0   439522.47189\n"
     ]
    }
   ],
   "source": [
    "# Check for null or zero in 'pop' and 'distance'\n",
    "invalid_pop_dist = ghz_updated[\n",
    "    (ghz_updated[\"pop\"].isna() | (ghz_updated[\"pop\"] == 0)) |\n",
    "    (ghz_updated[\"distance\"].isna() | (ghz_updated[\"distance\"] == 0))\n",
    "]\n",
    "\n",
    "# Show summary\n",
    "print(\"❗ Rows with null or zero in pop or distance:\", len(invalid_pop_dist))\n",
    "print(invalid_pop_dist[[\"HazardID\", \"HazardType\", \"pop\", \"distance\"]].head())"
   ]
  },
  {
   "cell_type": "code",
   "execution_count": 29,
   "metadata": {},
   "outputs": [],
   "source": [
    "invalid_pop_dist.to_csv(r\"D:\\NDIS_Database\\19_PostProcessing\\invalid_pop_dist.csv\", index=False)"
   ]
  },
  {
   "cell_type": "markdown",
   "metadata": {},
   "source": [
    "------\n",
    "# STAGGERED DECISION 3.8.0\n",
    "------"
   ]
  },
  {
   "cell_type": "code",
   "execution_count": 3,
   "metadata": {},
   "outputs": [
    {
     "name": "stdout",
     "output_type": "stream",
     "text": [
      "<class 'pandas.core.frame.DataFrame'>\n",
      "RangeIndex: 179 entries, 0 to 178\n",
      "Data columns (total 30 columns):\n",
      " #   Column              Non-Null Count  Dtype  \n",
      "---  ------              --------------  -----  \n",
      " 0   rpas_id             179 non-null    int64  \n",
      " 1   country             179 non-null    object \n",
      " 2   manufacturer        179 non-null    object \n",
      " 3   mfc_model           179 non-null    object \n",
      " 4   mtow                157 non-null    float64\n",
      " 5   length              153 non-null    float64\n",
      " 6   width               160 non-null    float64\n",
      " 7   height              135 non-null    float64\n",
      " 8   max_speed           153 non-null    float64\n",
      " 9   distance_range      70 non-null     float64\n",
      " 10  flight_time         165 non-null    float64\n",
      " 11  max_payload_weight  161 non-null    float64\n",
      " 12  max_alt             101 non-null    float64\n",
      " 13  comm_range          118 non-null    float64\n",
      " 14  power_source        163 non-null    object \n",
      " 15  power               110 non-null    object \n",
      " 16  gps_accuracy        62 non-null     object \n",
      " 17  engine              134 non-null    object \n",
      " 18  configuration       176 non-null    object \n",
      " 19  flight_cont         86 non-null     object \n",
      " 20  materials           85 non-null     object \n",
      " 21  min_op_temp         109 non-null    float64\n",
      " 22  max_op_temp         108 non-null    float64\n",
      " 23  oas                 87 non-null     object \n",
      " 24  price               65 non-null     float64\n",
      " 25  reg                 115 non-null    object \n",
      " 26  def_payload         141 non-null    object \n",
      " 27  purpose             153 non-null    object \n",
      " 28  image               179 non-null    object \n",
      " 29  source              179 non-null    object \n",
      "dtypes: float64(13), int64(1), object(16)\n",
      "memory usage: 42.1+ KB\n",
      "<class 'pandas.core.frame.DataFrame'>\n",
      "RangeIndex: 13 entries, 0 to 12\n",
      "Data columns (total 7 columns):\n",
      " #   Column               Non-Null Count  Dtype \n",
      "---  ------               --------------  ----- \n",
      " 0   sensor_id            13 non-null     int64 \n",
      " 1   parameters_measured  13 non-null     object\n",
      " 2   sensor_name          13 non-null     object\n",
      " 3   sensor_weight        13 non-null     int64 \n",
      " 4   method               13 non-null     object\n",
      " 5   model                13 non-null     object\n",
      " 6   source               13 non-null     object\n",
      "dtypes: int64(2), object(5)\n",
      "memory usage: 860.0+ bytes\n"
     ]
    }
   ],
   "source": [
    "# Load Drone and Sensor data\n",
    "drone_df = pd.read_csv(\"D:/NDIS_Database/rpas_db0524.csv\") # 179 RPAS\n",
    "sensor_df = pd.read_csv(\"D:/NDIS_Database/sensors.csv\") # Geophysical sensor list\n",
    "\n",
    "# Display the first few rows to verify\n",
    "drone_df.info()\n",
    "sensor_df.info()"
   ]
  },
  {
   "cell_type": "code",
   "execution_count": 46,
   "metadata": {},
   "outputs": [
    {
     "name": "stdout",
     "output_type": "stream",
     "text": [
      "<class 'pandas.core.frame.DataFrame'>\n",
      "RangeIndex: 1933757 entries, 0 to 1933756\n",
      "Data columns (total 9 columns):\n",
      " #   Column                 Dtype  \n",
      "---  ------                 -----  \n",
      " 0   HazardID               int64  \n",
      " 1   latitude               float64\n",
      " 2   longitude              float64\n",
      " 3   HazardType             object \n",
      " 4   distance               float64\n",
      " 5   intensity              float64\n",
      " 6   economic_loss_million  float64\n",
      " 7   duration_minutes       float64\n",
      " 8   pop                    float64\n",
      "dtypes: float64(7), int64(1), object(1)\n",
      "memory usage: 132.8+ MB\n"
     ]
    }
   ],
   "source": [
    "ghz_updated = pd.read_csv(r\"D:\\NDIS_Database\\ghz_updated_250722.csv\")\n",
    "ghz_updated.info()"
   ]
  },
  {
   "cell_type": "code",
   "execution_count": 52,
   "metadata": {},
   "outputs": [],
   "source": [
    "ghz_updated.to_csv(r\"D:\\NDIS_Database\\ghz_updated_rbin.csv\", index=False)"
   ]
  },
  {
   "cell_type": "code",
   "execution_count": 48,
   "metadata": {},
   "outputs": [
    {
     "name": "stdout",
     "output_type": "stream",
     "text": [
      "<class 'pandas.core.frame.DataFrame'>\n",
      "RangeIndex: 1933757 entries, 0 to 1933756\n",
      "Data columns (total 10 columns):\n",
      " #   Column                 Dtype  \n",
      "---  ------                 -----  \n",
      " 0   HazardID               int64  \n",
      " 1   latitude               float64\n",
      " 2   longitude              float64\n",
      " 3   HazardType             object \n",
      " 4   distance               float64\n",
      " 5   intensity              float64\n",
      " 6   economic_loss_million  float64\n",
      " 7   duration_minutes       float64\n",
      " 8   pop                    float64\n",
      " 9   road_bin               object \n",
      "dtypes: float64(7), int64(1), object(2)\n",
      "memory usage: 147.5+ MB\n"
     ]
    }
   ],
   "source": [
    "def classify_road_distance(d):\n",
    "    if d < 1000:\n",
    "        return \"<1 km\"\n",
    "    elif 1000 <= d < 5000:\n",
    "        return \"1–5 km\"\n",
    "    elif 5000 <= d < 20000:\n",
    "        return \"5–20 km\"\n",
    "    elif 20000 <= d < 50000:\n",
    "        return \"20–50 km\"\n",
    "    else:\n",
    "        return \">50 km\"\n",
    "\n",
    "ghz_updated[\"road_bin\"] = ghz_updated[\"distance\"].apply(classify_road_distance)\n",
    "ghz_updated.info()"
   ]
  },
  {
   "cell_type": "code",
   "execution_count": 51,
   "metadata": {},
   "outputs": [
    {
     "name": "stdout",
     "output_type": "stream",
     "text": [
      "<class 'pandas.core.frame.DataFrame'>\n",
      "RangeIndex: 1933757 entries, 0 to 1933756\n",
      "Data columns (total 11 columns):\n",
      " #   Column                 Dtype  \n",
      "---  ------                 -----  \n",
      " 0   HazardID               int64  \n",
      " 1   latitude               float64\n",
      " 2   longitude              float64\n",
      " 3   HazardType             object \n",
      " 4   distance               float64\n",
      " 5   intensity              float64\n",
      " 6   economic_loss_million  float64\n",
      " 7   duration_minutes       float64\n",
      " 8   pop                    float64\n",
      " 9   road_bin               object \n",
      " 10  pop_bin                object \n",
      "dtypes: float64(7), int64(1), object(3)\n",
      "memory usage: 162.3+ MB\n"
     ]
    }
   ],
   "source": [
    "def classify_population_bins(p):\n",
    "    if p == 0:\n",
    "        return \"0\"\n",
    "    elif p < 1000:\n",
    "        return \"<1k\"\n",
    "    elif p < 10000:\n",
    "        return \"1k–10k\"\n",
    "    elif p < 100000:\n",
    "        return \"10k–100k\"\n",
    "    elif p < 1000000:\n",
    "        return \"100k–1M\"\n",
    "    elif p < 10000000:\n",
    "        return \"1M–10M\"\n",
    "    else:\n",
    "        return \">10M\"\n",
    "\n",
    "ghz_updated[\"pop_bin\"] = ghz_updated[\"pop\"].apply(classify_population_bins)\n",
    "ghz_updated.info()"
   ]
  },
  {
   "cell_type": "code",
   "execution_count": 24,
   "metadata": {},
   "outputs": [
    {
     "name": "stdout",
     "output_type": "stream",
     "text": [
      "<class 'pandas.core.frame.DataFrame'>\n",
      "RangeIndex: 1541 entries, 0 to 1540\n",
      "Data columns (total 38 columns):\n",
      " #   Column                                    Non-Null Count  Dtype  \n",
      "---  ------                                    --------------  -----  \n",
      " 0   Date Last Researched                      1541 non-null   object \n",
      " 1   Country/Area                              1541 non-null   object \n",
      " 2   Project Name                              1541 non-null   object \n",
      " 3   Unit Name                                 1541 non-null   object \n",
      " 4   Project Name in Local Language / Script   361 non-null    object \n",
      " 5   Other Name(s)                             333 non-null    object \n",
      " 6   Capacity (MW)                             1541 non-null   object \n",
      " 7   Status                                    1541 non-null   object \n",
      " 8   Reactor Type                              1541 non-null   object \n",
      " 9   Model                                     1541 non-null   object \n",
      " 10  Start Year                                809 non-null    float64\n",
      " 11  Retirement Year                           253 non-null    float64\n",
      " 12  Planned Retirement                        253 non-null    object \n",
      " 13  Cancellation Year                         437 non-null    float64\n",
      " 14  Construction Start Date                   783 non-null    object \n",
      " 15  First Criticality Date                    662 non-null    object \n",
      " 16  First Grid Connection                     655 non-null    object \n",
      " 17  Commercial Operation Date                 809 non-null    object \n",
      " 18  Retirement Date                           253 non-null    object \n",
      " 19  Owner                                     1372 non-null   object \n",
      " 20  Owner Name in Local Language / Script     457 non-null    object \n",
      " 21  Operator                                  1065 non-null   object \n",
      " 22  Operator Name in Local Language / Script  372 non-null    object \n",
      " 23  Reference Net Capacity (MW)               709 non-null    float64\n",
      " 24  Design Net Capacity (MW)                  723 non-null    float64\n",
      " 25  Thermal Capacity (MWt)                    741 non-null    float64\n",
      " 26  Latitude                                  1541 non-null   float64\n",
      " 27  Longitude                                 1541 non-null   float64\n",
      " 28  Location Accuracy                         1541 non-null   object \n",
      " 29  City                                      500 non-null    object \n",
      " 30  Local Area (taluk, county)                1262 non-null   object \n",
      " 31  Major Area (prefecture, district)         519 non-null    object \n",
      " 32  State/Province                            1378 non-null   object \n",
      " 33  Subregion                                 1541 non-null   object \n",
      " 34  Region                                    1541 non-null   object \n",
      " 35  GEM location ID                           1541 non-null   object \n",
      " 36  GEM unit ID                               1541 non-null   object \n",
      " 37  Wiki URL                                  1541 non-null   object \n",
      "dtypes: float64(8), object(30)\n",
      "memory usage: 457.6+ KB\n"
     ]
    }
   ],
   "source": [
    "# Read data\n",
    "nuclear_df = pd.read_csv(r\"D:\\NDIS_Database\\15_NuclearPower\\nuclearpp.csv\")\n",
    "nuclear_df.info()"
   ]
  },
  {
   "cell_type": "code",
   "execution_count": 35,
   "metadata": {},
   "outputs": [
    {
     "data": {
      "text/html": [
       "<div>\n",
       "<style scoped>\n",
       "    .dataframe tbody tr th:only-of-type {\n",
       "        vertical-align: middle;\n",
       "    }\n",
       "\n",
       "    .dataframe tbody tr th {\n",
       "        vertical-align: top;\n",
       "    }\n",
       "\n",
       "    .dataframe thead th {\n",
       "        text-align: right;\n",
       "    }\n",
       "</style>\n",
       "<table border=\"1\" class=\"dataframe\">\n",
       "  <thead>\n",
       "    <tr style=\"text-align: right;\">\n",
       "      <th></th>\n",
       "      <th>Date Last Researched</th>\n",
       "      <th>Country/Area</th>\n",
       "      <th>Project Name</th>\n",
       "      <th>Unit Name</th>\n",
       "      <th>Project Name in Local Language / Script</th>\n",
       "      <th>Other Name(s)</th>\n",
       "      <th>Capacity (MW)</th>\n",
       "      <th>Status</th>\n",
       "      <th>Reactor Type</th>\n",
       "      <th>Model</th>\n",
       "      <th>...</th>\n",
       "      <th>Location Accuracy</th>\n",
       "      <th>City</th>\n",
       "      <th>Local Area (taluk, county)</th>\n",
       "      <th>Major Area (prefecture, district)</th>\n",
       "      <th>State/Province</th>\n",
       "      <th>Subregion</th>\n",
       "      <th>Region</th>\n",
       "      <th>GEM location ID</th>\n",
       "      <th>GEM unit ID</th>\n",
       "      <th>Wiki URL</th>\n",
       "    </tr>\n",
       "  </thead>\n",
       "  <tbody>\n",
       "    <tr>\n",
       "      <th>0</th>\n",
       "      <td>2024-05-22</td>\n",
       "      <td>Argentina</td>\n",
       "      <td>Atucha nuclear power plant</td>\n",
       "      <td>1</td>\n",
       "      <td>NaN</td>\n",
       "      <td>Unit IV (Phase 3)</td>\n",
       "      <td>362</td>\n",
       "      <td>operating</td>\n",
       "      <td>pressurized heavy water reactor</td>\n",
       "      <td>PHWR KWU</td>\n",
       "      <td>...</td>\n",
       "      <td>exact</td>\n",
       "      <td>NaN</td>\n",
       "      <td>NaN</td>\n",
       "      <td>Partido de Zárate</td>\n",
       "      <td>Buenos Aires</td>\n",
       "      <td>Latin America and the Caribbean</td>\n",
       "      <td>Americas</td>\n",
       "      <td>L100000500166</td>\n",
       "      <td>G100000500502</td>\n",
       "      <td>https://www.gem.wiki/Atucha_nuclear_power_plant</td>\n",
       "    </tr>\n",
       "    <tr>\n",
       "      <th>1</th>\n",
       "      <td>2024-05-22</td>\n",
       "      <td>Argentina</td>\n",
       "      <td>Atucha nuclear power plant</td>\n",
       "      <td>2</td>\n",
       "      <td>NaN</td>\n",
       "      <td>Unit IV (Phase 3)</td>\n",
       "      <td>745</td>\n",
       "      <td>operating</td>\n",
       "      <td>pressurized heavy water reactor</td>\n",
       "      <td>PHWR KWU</td>\n",
       "      <td>...</td>\n",
       "      <td>exact</td>\n",
       "      <td>NaN</td>\n",
       "      <td>NaN</td>\n",
       "      <td>Partido de Zárate</td>\n",
       "      <td>Buenos Aires</td>\n",
       "      <td>Latin America and the Caribbean</td>\n",
       "      <td>Americas</td>\n",
       "      <td>L100000500166</td>\n",
       "      <td>G100000500382</td>\n",
       "      <td>https://www.gem.wiki/Atucha_nuclear_power_plant</td>\n",
       "    </tr>\n",
       "    <tr>\n",
       "      <th>2</th>\n",
       "      <td>2024-05-22</td>\n",
       "      <td>Argentina</td>\n",
       "      <td>Atucha nuclear power plant</td>\n",
       "      <td>3</td>\n",
       "      <td>NaN</td>\n",
       "      <td>Unit IV (Phase 3)</td>\n",
       "      <td>1,150</td>\n",
       "      <td>pre-construction</td>\n",
       "      <td>pressurized water reactor</td>\n",
       "      <td>Hualong One</td>\n",
       "      <td>...</td>\n",
       "      <td>exact</td>\n",
       "      <td>NaN</td>\n",
       "      <td>NaN</td>\n",
       "      <td>Partido de Zárate</td>\n",
       "      <td>Buenos Aires</td>\n",
       "      <td>Latin America and the Caribbean</td>\n",
       "      <td>Americas</td>\n",
       "      <td>L100000500166</td>\n",
       "      <td>G100000500646</td>\n",
       "      <td>https://www.gem.wiki/Atucha_nuclear_power_plant</td>\n",
       "    </tr>\n",
       "    <tr>\n",
       "      <th>3</th>\n",
       "      <td>2024-05-22</td>\n",
       "      <td>Argentina</td>\n",
       "      <td>CAREM nuclear power plant</td>\n",
       "      <td>--</td>\n",
       "      <td>Central Argentina de Elementos Modulares</td>\n",
       "      <td>CAREM25</td>\n",
       "      <td>29</td>\n",
       "      <td>mothballed</td>\n",
       "      <td>pressurized water reactor</td>\n",
       "      <td>CAREM Prototype (Integrated-PWR)</td>\n",
       "      <td>...</td>\n",
       "      <td>exact</td>\n",
       "      <td>NaN</td>\n",
       "      <td>NaN</td>\n",
       "      <td>Partido de Zárate</td>\n",
       "      <td>Buenos Aires</td>\n",
       "      <td>Latin America and the Caribbean</td>\n",
       "      <td>Americas</td>\n",
       "      <td>L100000500252</td>\n",
       "      <td>G100000500600</td>\n",
       "      <td>https://www.gem.wiki/CAREM_nuclear_power_plant</td>\n",
       "    </tr>\n",
       "    <tr>\n",
       "      <th>4</th>\n",
       "      <td>2024-05-22</td>\n",
       "      <td>Argentina</td>\n",
       "      <td>Embalse nuclear power plant</td>\n",
       "      <td>--</td>\n",
       "      <td>NaN</td>\n",
       "      <td>NaN</td>\n",
       "      <td>656</td>\n",
       "      <td>operating</td>\n",
       "      <td>pressurized heavy water reactor</td>\n",
       "      <td>CANDU 6</td>\n",
       "      <td>...</td>\n",
       "      <td>exact</td>\n",
       "      <td>NaN</td>\n",
       "      <td>Pedanía Cañada de Álvarez</td>\n",
       "      <td>Departamento Calamuchita</td>\n",
       "      <td>Córdoba</td>\n",
       "      <td>Latin America and the Caribbean</td>\n",
       "      <td>Americas</td>\n",
       "      <td>L100000500169</td>\n",
       "      <td>G100000500385</td>\n",
       "      <td>https://www.gem.wiki/Embalse_nuclear_power_plant</td>\n",
       "    </tr>\n",
       "    <tr>\n",
       "      <th>...</th>\n",
       "      <td>...</td>\n",
       "      <td>...</td>\n",
       "      <td>...</td>\n",
       "      <td>...</td>\n",
       "      <td>...</td>\n",
       "      <td>...</td>\n",
       "      <td>...</td>\n",
       "      <td>...</td>\n",
       "      <td>...</td>\n",
       "      <td>...</td>\n",
       "      <td>...</td>\n",
       "      <td>...</td>\n",
       "      <td>...</td>\n",
       "      <td>...</td>\n",
       "      <td>...</td>\n",
       "      <td>...</td>\n",
       "      <td>...</td>\n",
       "      <td>...</td>\n",
       "      <td>...</td>\n",
       "      <td>...</td>\n",
       "      <td>...</td>\n",
       "    </tr>\n",
       "    <tr>\n",
       "      <th>1536</th>\n",
       "      <td>2024-05-16</td>\n",
       "      <td>Vietnam</td>\n",
       "      <td>Ninh Thuận 1 nuclear power plant</td>\n",
       "      <td>4</td>\n",
       "      <td>NaN</td>\n",
       "      <td>NaN</td>\n",
       "      <td>1,200</td>\n",
       "      <td>cancelled</td>\n",
       "      <td>pressurized water reactor</td>\n",
       "      <td>VVER-1200/V-491</td>\n",
       "      <td>...</td>\n",
       "      <td>exact</td>\n",
       "      <td>NaN</td>\n",
       "      <td>Thuận Nam District</td>\n",
       "      <td>NaN</td>\n",
       "      <td>Ninh Thuận Province</td>\n",
       "      <td>South-eastern Asia</td>\n",
       "      <td>Asia</td>\n",
       "      <td>L100000500518</td>\n",
       "      <td>G100000501492</td>\n",
       "      <td>https://www.gem.wiki/Ninh_Thuận_1_nuclear_powe...</td>\n",
       "    </tr>\n",
       "    <tr>\n",
       "      <th>1537</th>\n",
       "      <td>2024-05-16</td>\n",
       "      <td>Vietnam</td>\n",
       "      <td>Ninh Thuận 2 nuclear power plant</td>\n",
       "      <td>1</td>\n",
       "      <td>NaN</td>\n",
       "      <td>NaN</td>\n",
       "      <td>1,100</td>\n",
       "      <td>cancelled</td>\n",
       "      <td>pressurized water reactor</td>\n",
       "      <td>ATMEA1</td>\n",
       "      <td>...</td>\n",
       "      <td>exact</td>\n",
       "      <td>NaN</td>\n",
       "      <td>Ninh Hải District</td>\n",
       "      <td>NaN</td>\n",
       "      <td>Ninh Thuận Province</td>\n",
       "      <td>South-eastern Asia</td>\n",
       "      <td>Asia</td>\n",
       "      <td>L100000500519</td>\n",
       "      <td>G100000501493</td>\n",
       "      <td>https://www.gem.wiki/Ninh_Thuận_2_nuclear_powe...</td>\n",
       "    </tr>\n",
       "    <tr>\n",
       "      <th>1538</th>\n",
       "      <td>2024-05-16</td>\n",
       "      <td>Vietnam</td>\n",
       "      <td>Ninh Thuận 2 nuclear power plant</td>\n",
       "      <td>2</td>\n",
       "      <td>NaN</td>\n",
       "      <td>NaN</td>\n",
       "      <td>1,100</td>\n",
       "      <td>cancelled</td>\n",
       "      <td>pressurized water reactor</td>\n",
       "      <td>ATMEA1</td>\n",
       "      <td>...</td>\n",
       "      <td>exact</td>\n",
       "      <td>NaN</td>\n",
       "      <td>Ninh Hải District</td>\n",
       "      <td>NaN</td>\n",
       "      <td>Ninh Thuận Province</td>\n",
       "      <td>South-eastern Asia</td>\n",
       "      <td>Asia</td>\n",
       "      <td>L100000500519</td>\n",
       "      <td>G100000501494</td>\n",
       "      <td>https://www.gem.wiki/Ninh_Thuận_2_nuclear_powe...</td>\n",
       "    </tr>\n",
       "    <tr>\n",
       "      <th>1539</th>\n",
       "      <td>2024-05-16</td>\n",
       "      <td>Vietnam</td>\n",
       "      <td>Ninh Thuận 2 nuclear power plant</td>\n",
       "      <td>3</td>\n",
       "      <td>NaN</td>\n",
       "      <td>NaN</td>\n",
       "      <td>1,100</td>\n",
       "      <td>cancelled</td>\n",
       "      <td>pressurized water reactor</td>\n",
       "      <td>ATMEA1</td>\n",
       "      <td>...</td>\n",
       "      <td>exact</td>\n",
       "      <td>NaN</td>\n",
       "      <td>Ninh Hải District</td>\n",
       "      <td>NaN</td>\n",
       "      <td>Ninh Thuận Province</td>\n",
       "      <td>South-eastern Asia</td>\n",
       "      <td>Asia</td>\n",
       "      <td>L100000500519</td>\n",
       "      <td>G100000501495</td>\n",
       "      <td>https://www.gem.wiki/Ninh_Thuận_2_nuclear_powe...</td>\n",
       "    </tr>\n",
       "    <tr>\n",
       "      <th>1540</th>\n",
       "      <td>2024-05-16</td>\n",
       "      <td>Vietnam</td>\n",
       "      <td>Ninh Thuận 2 nuclear power plant</td>\n",
       "      <td>4</td>\n",
       "      <td>NaN</td>\n",
       "      <td>NaN</td>\n",
       "      <td>1,100</td>\n",
       "      <td>cancelled</td>\n",
       "      <td>pressurized water reactor</td>\n",
       "      <td>ATMEA1</td>\n",
       "      <td>...</td>\n",
       "      <td>exact</td>\n",
       "      <td>NaN</td>\n",
       "      <td>Ninh Hải District</td>\n",
       "      <td>NaN</td>\n",
       "      <td>Ninh Thuận Province</td>\n",
       "      <td>South-eastern Asia</td>\n",
       "      <td>Asia</td>\n",
       "      <td>L100000500519</td>\n",
       "      <td>G100000501496</td>\n",
       "      <td>https://www.gem.wiki/Ninh_Thuận_2_nuclear_powe...</td>\n",
       "    </tr>\n",
       "  </tbody>\n",
       "</table>\n",
       "<p>1541 rows × 38 columns</p>\n",
       "</div>"
      ],
      "text/plain": [
       "     Date Last Researched Country/Area                      Project Name  \\\n",
       "0              2024-05-22    Argentina        Atucha nuclear power plant   \n",
       "1              2024-05-22    Argentina        Atucha nuclear power plant   \n",
       "2              2024-05-22    Argentina        Atucha nuclear power plant   \n",
       "3              2024-05-22    Argentina         CAREM nuclear power plant   \n",
       "4              2024-05-22    Argentina       Embalse nuclear power plant   \n",
       "...                   ...          ...                               ...   \n",
       "1536           2024-05-16      Vietnam  Ninh Thuận 1 nuclear power plant   \n",
       "1537           2024-05-16      Vietnam  Ninh Thuận 2 nuclear power plant   \n",
       "1538           2024-05-16      Vietnam  Ninh Thuận 2 nuclear power plant   \n",
       "1539           2024-05-16      Vietnam  Ninh Thuận 2 nuclear power plant   \n",
       "1540           2024-05-16      Vietnam  Ninh Thuận 2 nuclear power plant   \n",
       "\n",
       "     Unit Name   Project Name in Local Language / Script      Other Name(s)  \\\n",
       "0            1                                       NaN  Unit IV (Phase 3)   \n",
       "1            2                                       NaN  Unit IV (Phase 3)   \n",
       "2            3                                       NaN  Unit IV (Phase 3)   \n",
       "3           --  Central Argentina de Elementos Modulares            CAREM25   \n",
       "4           --                                       NaN                NaN   \n",
       "...        ...                                       ...                ...   \n",
       "1536         4                                       NaN                NaN   \n",
       "1537         1                                       NaN                NaN   \n",
       "1538         2                                       NaN                NaN   \n",
       "1539         3                                       NaN                NaN   \n",
       "1540         4                                       NaN                NaN   \n",
       "\n",
       "     Capacity (MW)            Status                     Reactor Type  \\\n",
       "0              362         operating  pressurized heavy water reactor   \n",
       "1              745         operating  pressurized heavy water reactor   \n",
       "2            1,150  pre-construction        pressurized water reactor   \n",
       "3               29        mothballed        pressurized water reactor   \n",
       "4              656         operating  pressurized heavy water reactor   \n",
       "...            ...               ...                              ...   \n",
       "1536         1,200         cancelled        pressurized water reactor   \n",
       "1537         1,100         cancelled        pressurized water reactor   \n",
       "1538         1,100         cancelled        pressurized water reactor   \n",
       "1539         1,100         cancelled        pressurized water reactor   \n",
       "1540         1,100         cancelled        pressurized water reactor   \n",
       "\n",
       "                                 Model  ...  Location Accuracy  City  \\\n",
       "0                             PHWR KWU  ...              exact   NaN   \n",
       "1                             PHWR KWU  ...              exact   NaN   \n",
       "2                          Hualong One  ...              exact   NaN   \n",
       "3     CAREM Prototype (Integrated-PWR)  ...              exact   NaN   \n",
       "4                              CANDU 6  ...              exact   NaN   \n",
       "...                                ...  ...                ...   ...   \n",
       "1536                   VVER-1200/V-491  ...              exact   NaN   \n",
       "1537                            ATMEA1  ...              exact   NaN   \n",
       "1538                            ATMEA1  ...              exact   NaN   \n",
       "1539                            ATMEA1  ...              exact   NaN   \n",
       "1540                            ATMEA1  ...              exact   NaN   \n",
       "\n",
       "     Local Area (taluk, county)  Major Area (prefecture, district)  \\\n",
       "0                           NaN                  Partido de Zárate   \n",
       "1                           NaN                  Partido de Zárate   \n",
       "2                           NaN                  Partido de Zárate   \n",
       "3                           NaN                  Partido de Zárate   \n",
       "4     Pedanía Cañada de Álvarez           Departamento Calamuchita   \n",
       "...                         ...                                ...   \n",
       "1536         Thuận Nam District                                NaN   \n",
       "1537          Ninh Hải District                                NaN   \n",
       "1538          Ninh Hải District                                NaN   \n",
       "1539          Ninh Hải District                                NaN   \n",
       "1540          Ninh Hải District                                NaN   \n",
       "\n",
       "           State/Province                        Subregion    Region  \\\n",
       "0            Buenos Aires  Latin America and the Caribbean  Americas   \n",
       "1            Buenos Aires  Latin America and the Caribbean  Americas   \n",
       "2            Buenos Aires  Latin America and the Caribbean  Americas   \n",
       "3            Buenos Aires  Latin America and the Caribbean  Americas   \n",
       "4                 Córdoba  Latin America and the Caribbean  Americas   \n",
       "...                   ...                              ...       ...   \n",
       "1536  Ninh Thuận Province               South-eastern Asia      Asia   \n",
       "1537  Ninh Thuận Province               South-eastern Asia      Asia   \n",
       "1538  Ninh Thuận Province               South-eastern Asia      Asia   \n",
       "1539  Ninh Thuận Province               South-eastern Asia      Asia   \n",
       "1540  Ninh Thuận Province               South-eastern Asia      Asia   \n",
       "\n",
       "     GEM location ID    GEM unit ID  \\\n",
       "0      L100000500166  G100000500502   \n",
       "1      L100000500166  G100000500382   \n",
       "2      L100000500166  G100000500646   \n",
       "3      L100000500252  G100000500600   \n",
       "4      L100000500169  G100000500385   \n",
       "...              ...            ...   \n",
       "1536   L100000500518  G100000501492   \n",
       "1537   L100000500519  G100000501493   \n",
       "1538   L100000500519  G100000501494   \n",
       "1539   L100000500519  G100000501495   \n",
       "1540   L100000500519  G100000501496   \n",
       "\n",
       "                                               Wiki URL  \n",
       "0       https://www.gem.wiki/Atucha_nuclear_power_plant  \n",
       "1       https://www.gem.wiki/Atucha_nuclear_power_plant  \n",
       "2       https://www.gem.wiki/Atucha_nuclear_power_plant  \n",
       "3        https://www.gem.wiki/CAREM_nuclear_power_plant  \n",
       "4      https://www.gem.wiki/Embalse_nuclear_power_plant  \n",
       "...                                                 ...  \n",
       "1536  https://www.gem.wiki/Ninh_Thuận_1_nuclear_powe...  \n",
       "1537  https://www.gem.wiki/Ninh_Thuận_2_nuclear_powe...  \n",
       "1538  https://www.gem.wiki/Ninh_Thuận_2_nuclear_powe...  \n",
       "1539  https://www.gem.wiki/Ninh_Thuận_2_nuclear_powe...  \n",
       "1540  https://www.gem.wiki/Ninh_Thuận_2_nuclear_powe...  \n",
       "\n",
       "[1541 rows x 38 columns]"
      ]
     },
     "execution_count": 35,
     "metadata": {},
     "output_type": "execute_result"
    }
   ],
   "source": [
    "nuclear_df"
   ]
  },
  {
   "cell_type": "code",
   "execution_count": 25,
   "metadata": {},
   "outputs": [
    {
     "name": "stdout",
     "output_type": "stream",
     "text": [
      "<class 'pandas.core.frame.DataFrame'>\n",
      "Index: 1541 entries, 1932216 to 1933756\n",
      "Data columns (total 9 columns):\n",
      " #   Column                 Non-Null Count  Dtype  \n",
      "---  ------                 --------------  -----  \n",
      " 0   HazardID               1541 non-null   int64  \n",
      " 1   latitude               1541 non-null   float64\n",
      " 2   longitude              1541 non-null   float64\n",
      " 3   HazardType             1541 non-null   object \n",
      " 4   distance               1541 non-null   float64\n",
      " 5   intensity              1541 non-null   float64\n",
      " 6   economic_loss_million  1541 non-null   float64\n",
      " 7   duration_minutes       1541 non-null   float64\n",
      " 8   pop                    1541 non-null   float64\n",
      "dtypes: float64(7), int64(1), object(1)\n",
      "memory usage: 120.4+ KB\n"
     ]
    }
   ],
   "source": [
    "nuclear = ghz_updated[(ghz_updated[\"HazardType\"] == \"Nuclear\")]\n",
    "nuclear.info()"
   ]
  },
  {
   "cell_type": "code",
   "execution_count": 37,
   "metadata": {},
   "outputs": [
    {
     "name": "stdout",
     "output_type": "stream",
     "text": [
      "<class 'pandas.core.frame.DataFrame'>\n",
      "RangeIndex: 1541 entries, 0 to 1540\n",
      "Data columns (total 18 columns):\n",
      " #   Column                 Non-Null Count  Dtype  \n",
      "---  ------                 --------------  -----  \n",
      " 0   HazardID               1541 non-null   int64  \n",
      " 1   latitude               1541 non-null   float64\n",
      " 2   longitude              1541 non-null   float64\n",
      " 3   HazardType             1541 non-null   object \n",
      " 4   distance               1541 non-null   float64\n",
      " 5   intensity              1541 non-null   float64\n",
      " 6   economic_loss_million  1541 non-null   float64\n",
      " 7   duration_minutes       1541 non-null   float64\n",
      " 8   pop                    1541 non-null   float64\n",
      " 9   Country/Area           1541 non-null   object \n",
      " 10  Project Name           1541 non-null   object \n",
      " 11  Capacity (MW)          1541 non-null   object \n",
      " 12  Status                 1541 non-null   object \n",
      " 13  Reactor Type           1541 non-null   object \n",
      " 14  Owner                  1389 non-null   object \n",
      " 15  Wiki URL               1541 non-null   object \n",
      " 16  Latitude               1541 non-null   float64\n",
      " 17  Longitude              1541 non-null   float64\n",
      "dtypes: float64(9), int64(1), object(8)\n",
      "memory usage: 216.8+ KB\n"
     ]
    }
   ],
   "source": [
    "# List of columns to extract from the 'nuclear_df' dataframe, including Latitude and Longitude\n",
    "selected_columns = [\n",
    "    \"Country/Area\", \n",
    "    \"Project Name\", \n",
    "    \"Capacity (MW)\", \n",
    "    \"Status\", \n",
    "    \"Reactor Type\", \n",
    "    \"Owner\", \n",
    "    \"Wiki URL\",\n",
    "    \"Latitude\",  # Include Latitude for matching\n",
    "    \"Longitude\"  # Include Longitude for matching\n",
    "]\n",
    "\n",
    "# Select only the relevant columns from the 'nuclear_df' dataframe\n",
    "nuclear_df_selected = nuclear_df[selected_columns]\n",
    "\n",
    "# Ensure that latitudes and longitudes are of float type in both dataframes\n",
    "nuclear_df_selected.loc[:, 'Latitude'] = nuclear_df_selected['Latitude'].astype(float)\n",
    "nuclear_df_selected.loc[:, 'Longitude'] = nuclear_df_selected['Longitude'].astype(float)\n",
    "nuclear.loc[:, 'latitude'] = nuclear['latitude'].astype(float)\n",
    "nuclear.loc[:, 'longitude'] = nuclear['longitude'].astype(float)\n",
    "\n",
    "# Define a function to match latitude and longitude with a small tolerance\n",
    "def match_lat_lon(row, df, tolerance=0.001):\n",
    "    # Match latitudes and longitudes within a tolerance range\n",
    "    matched_row = df[\n",
    "        (df['Latitude'].between(row['latitude'] - tolerance, row['latitude'] + tolerance)) &\n",
    "        (df['Longitude'].between(row['longitude'] - tolerance, row['longitude'] + tolerance))\n",
    "    ]\n",
    "    if not matched_row.empty:\n",
    "        return matched_row.iloc[0]  # Return the first matched row\n",
    "    return None  # Return None if no match is found\n",
    "\n",
    "# Merge based on matching latitude and longitude\n",
    "merged_rows = []\n",
    "for idx, row in nuclear.iterrows():\n",
    "    matched_row = match_lat_lon(row, nuclear_df_selected)\n",
    "    if matched_row is not None:\n",
    "        # Combine the original row from 'nuclear' with matched fields from 'nuclear_df'\n",
    "        merged_row = pd.concat([row, matched_row], axis=0)\n",
    "        merged_rows.append(merged_row)\n",
    "\n",
    "# Convert merged rows into a new DataFrame\n",
    "merged_nuclear = pd.DataFrame(merged_rows)\n",
    "merged_nuclear.info()"
   ]
  },
  {
   "cell_type": "code",
   "execution_count": 38,
   "metadata": {},
   "outputs": [],
   "source": [
    "merged_nuclear.to_csv(r\"D:\\NDIS_Database\\15_NuclearPower\\merged_nuclear.csv\", index=False)"
   ]
  },
  {
   "cell_type": "code",
   "execution_count": 17,
   "metadata": {},
   "outputs": [],
   "source": [
    "drone_df.to_csv(r\"D:\\NDIS_Database\\drone_df.csv\", index=False)"
   ]
  },
  {
   "cell_type": "code",
   "execution_count": 6,
   "metadata": {},
   "outputs": [
    {
     "name": "stdout",
     "output_type": "stream",
     "text": [
      "✅ Exported: D:\\NDIS_Database\\20_PaperSimulation\\csv_exports\\Earthquake.csv\n",
      "✅ Exported: D:\\NDIS_Database\\20_PaperSimulation\\csv_exports\\Landslide.csv\n",
      "✅ Exported: D:\\NDIS_Database\\20_PaperSimulation\\csv_exports\\Fault.csv\n",
      "✅ Exported: D:\\NDIS_Database\\20_PaperSimulation\\csv_exports\\Volcano.csv\n",
      "✅ Exported: D:\\NDIS_Database\\20_PaperSimulation\\csv_exports\\Tsunami.csv\n",
      "✅ Exported: D:\\NDIS_Database\\20_PaperSimulation\\csv_exports\\Nuclear.csv\n"
     ]
    }
   ],
   "source": [
    "# Output folder path\n",
    "output_folder = r\"D:\\NDIS_Database\\20_PaperSimulation\\csv_exports\"\n",
    "os.makedirs(output_folder, exist_ok=True)\n",
    "\n",
    "# Loop through each hazard type and export\n",
    "for hazard in ghz_updated[\"HazardType\"].unique():\n",
    "    df_hazard = ghz_updated[ghz_updated[\"HazardType\"] == hazard].copy()\n",
    "    file_name = hazard.replace(\" \", \"_\").replace(\"-\", \"_\") + \".csv\"\n",
    "    output_path = os.path.join(output_folder, file_name)\n",
    "\n",
    "    df_hazard.to_csv(output_path, index=False)\n",
    "    print(f\"✅ Exported: {output_path}\")"
   ]
  },
  {
   "cell_type": "code",
   "execution_count": 9,
   "metadata": {},
   "outputs": [],
   "source": [
    "#####  WARNING 040401: NULL geometry ignored. earthquake data\n",
    "##### ObjectID = 12208, 13016, 15219, 23081, 129143, 129408, 130081, 130944, 131824, 131883, 132339, 132684, 133411, 135393, 137857, 137862, 188864, 203690, 208491, 236256, 324345, 324478, 353914, 383545, 385209, 385512, 585489, 592869, 592874, 647637, 650693, 694169, 694998, 696126, 697331, 705830, 708720, 708746, 723736, 766531, 833594, 833596, 833599, 833601, 833603, 833605, 833777, 848266, 848269, 848270, 848271, 1036599, 1040749, 1051551, 1051684, 1052802, 1067634, 1067638, 1067658, 1069820, 1070828, 1071354, 1074495, 1074916, 1075693, 1076045, 1084575, 1086248, 1167464, 1240294, 1315774, 1424012, 1598363, 1626785, 1650808, 1669159, 1728557, 1729656"
   ]
  },
  {
   "cell_type": "code",
   "execution_count": 33,
   "metadata": {},
   "outputs": [
    {
     "name": "stdout",
     "output_type": "stream",
     "text": [
      "comm_range\n",
      "60.0         1\n",
      "300.0        1\n",
      "500.0        1\n",
      "1000.0       6\n",
      "1500.0       6\n",
      "2000.0      12\n",
      "3000.0       5\n",
      "3200.0       1\n",
      "3500.0       2\n",
      "4000.0       5\n",
      "5000.0       9\n",
      "5954.0       1\n",
      "7000.0       2\n",
      "7500.0       1\n",
      "8000.0      11\n",
      "10000.0      8\n",
      "12000.0      3\n",
      "15000.0      4\n",
      "16000.0      8\n",
      "20000.0     10\n",
      "22500.0      1\n",
      "35000.0      1\n",
      "40000.0      1\n",
      "45000.0      3\n",
      "50000.0      3\n",
      "80000.0      2\n",
      "100000.0     7\n",
      "200000.0     1\n",
      "400000.0     1\n",
      "500000.0     1\n",
      "dtype: int64\n"
     ]
    }
   ],
   "source": [
    "# Drop NaNs first (optional)\n",
    "grouped_exact = drone_df.dropna(subset=[\"comm_range\"]).groupby(\"comm_range\")\n",
    "\n",
    "# Count per group\n",
    "print(grouped_exact.size())"
   ]
  },
  {
   "cell_type": "code",
   "execution_count": 35,
   "metadata": {},
   "outputs": [
    {
     "name": "stdout",
     "output_type": "stream",
     "text": [
      "comm_category\n",
      "<1km        3\n",
      "1–5km      37\n",
      "5–20km     47\n",
      "20–50km    16\n",
      ">50km      15\n",
      "Unknown    61\n",
      "Name: count, dtype: int64\n"
     ]
    }
   ],
   "source": [
    "def classify_comm(m):\n",
    "    if pd.isna(m):\n",
    "        return \"Unknown\"\n",
    "    elif m < 1000:\n",
    "        return \"<1km\"\n",
    "    elif m < 5000:\n",
    "        return \"1–5km\"\n",
    "    elif m < 20000:\n",
    "        return \"5–20km\"\n",
    "    elif m < 50000:\n",
    "        return \"20–50km\"\n",
    "    else:\n",
    "        return \">50km\"\n",
    "\n",
    "drone_df[\"comm_category\"] = drone_df[\"comm_range\"].apply(classify_comm)\n",
    "comm_count = drone_df[\"comm_category\"].value_counts().reindex([\"<1km\", \"1–5km\", \"5–20km\", \"20–50km\", \">50km\", \"Unknown\"], fill_value=0)\n",
    "\n",
    "print(comm_count)\n"
   ]
  },
  {
   "cell_type": "code",
   "execution_count": 48,
   "metadata": {},
   "outputs": [
    {
     "data": {
      "image/png": "[encoded data removed]",
      "text/plain": [
       "<Figure size 800x600 with 1 Axes>"
      ]
     },
     "metadata": {},
     "output_type": "display_data"
    }
   ],
   "source": [
    "comm_countsr = pd.Series({\n",
    "    \"<1km\": 3,\n",
    "    \"1–5km\": 37,\n",
    "    \"5–20km\": 47,\n",
    "    \"20–50km\": 16,\n",
    "    \">50km\": 15,\n",
    "    \"Unknown\": 61\n",
    "})\n",
    "\n",
    "# Define colorblind-safe palette including one for \"Unknown\"\n",
    "colors = [\"#E69F00\", \"#56B4E9\", \"#009E73\", \"#F0E442\", \"#0072B2\", \"#999999\"]\n",
    "\n",
    "# Normalize for brightness check\n",
    "def get_text_color(hex_color):\n",
    "    rgb = mcolors.hex2color(hex_color)\n",
    "    brightness = np.dot(rgb, [0.299, 0.587, 0.114])  # luminance\n",
    "    return 'black' if brightness > 0.6 else 'white'\n",
    "\n",
    "# Plot donut chart\n",
    "fig, ax = plt.subplots(figsize=(8, 6))\n",
    "fig.subplots_adjust(top=0.9, bottom=0.2)\n",
    "wedges, texts, autotexts = ax.pie(\n",
    "    comm_countsr,\n",
    "    labels=comm_countsr.index,\n",
    "    autopct='%1.1f%%',\n",
    "    startangle=10,\n",
    "    pctdistance=0.82,\n",
    "    wedgeprops=dict(width=0.4),\n",
    "    colors=colors\n",
    ")\n",
    "\n",
    "# Adjust text styles\n",
    "for i, autotext in enumerate(autotexts):\n",
    "    autotext.set_color(get_text_color(colors[i]))\n",
    "    autotext.set_fontsize(19)\n",
    "for t in texts:\n",
    "    t.set_fontsize(19)\n",
    "\n",
    "# Donut hole\n",
    "centre_circle = plt.Circle((0, 0), 0.65, fc='white')\n",
    "ax.add_artist(centre_circle)\n",
    "\n",
    "# Add center title\n",
    "ax.text(0, 0, \"Drone\\nCommunication\\nRange\", ha='center', va='center', fontsize=24, weight='bold', color='black')\n",
    "\n",
    "# Caption\n",
    "#plt.figtext(0.5, 0.025,\n",
    "#    \"Distribution of drone communication range (including unknown values).\",\n",
    "#    wrap=True, horizontalalignment='center', fontsize=18)\n",
    "\n",
    "ax.axis('equal')\n",
    "plt.tight_layout()\n",
    "\n",
    "# Save if needed\n",
    "plt.savefig(r'D:\\NDIS_Database\\13_NDIS_Display\\Page3\\pictures\\drone_comm2.png', dpi=300, transparent=True)\n",
    "\n",
    "plt.show()"
   ]
  },
  {
   "cell_type": "markdown",
   "metadata": {},
   "source": [
    "# STAGE 2: Assign Disaster Phase"
   ]
  },
  {
   "cell_type": "code",
   "execution_count": 5,
   "metadata": {},
   "outputs": [
    {
     "data": {
      "text/plain": [
       "array(['Earthquake', 'Landslide', 'Fault', 'Volcano', 'Tsunami',\n",
       "       'Nuclear'], dtype=object)"
      ]
     },
     "execution_count": 5,
     "metadata": {},
     "output_type": "execute_result"
    }
   ],
   "source": [
    "ghz_updated.HazardType.unique()"
   ]
  },
  {
   "cell_type": "code",
   "execution_count": 6,
   "metadata": {},
   "outputs": [],
   "source": [
    "# Step 1: Define disaster phase + sensor map\n",
    "disaster_map = [\n",
    "    (\"Volcano\", \"Pre-Event\", [\"Magnetometers\", \"Seismic\", \"Camera\"]),\n",
    "    (\"Volcano\", \"During\", [\"Thermal Camera\", \"Camera\", \"LiDAR\"]),\n",
    "    (\"Volcano\", \"Post-Event\", [\"LiDAR\", \"Camera\", \"Seismic\"]),\n",
    "    (\"Volcano\", \"Clean-Up\", [\"LiDAR\", \"Camera\", \"Seismic\"]),\n",
    "    (\"Earthquake\", \"Pre-Event\", [\"Seismic\", \"Magnetometers\", \"Camera\"]),\n",
    "    (\"Earthquake\", \"During\", [\"Seismic\", \"Camera\", \"LiDAR\"]),\n",
    "    (\"Earthquake\", \"Post-Event\", [\"LiDAR\", \"Camera\", \"Seismic\"]),\n",
    "    (\"Fault\", \"Pre-Event\", [\"Seismic\", \"Magnetometers\", \"Camera\"]),\n",
    "    (\"Fault\", \"Post-Event\", [\"Seismic\", \"Camera\", \"LiDAR\"]),\n",
    "    (\"Landslide\", \"Pre-Event\", [\"LiDAR\", \"GPR\", \"Camera\"]),\n",
    "    (\"Landslide\", \"During\", [\"Camera\", \"Thermal Camera\", \"LiDAR\"]),\n",
    "    (\"Landslide\", \"Post-Event\", [\"LiDAR\", \"Seismic\", \"Camera\"]),\n",
    "    (\"Landslide\", \"Clean-Up\", [\"Camera\", \"LiDAR\", \"Seismic\"]),\n",
    "    (\"Tsunami\", \"During\", [\"BPR\", \"Camera\", \"Seismic\"]),\n",
    "    (\"Tsunami\", \"Post-Event\", [\"BPR\", \"Camera\", \"LiDAR\"]),\n",
    "    (\"Tsunami\", \"Clean-Up\", [\"Camera\", \"LiDAR\", \"Thermal Camera\"]),\n",
    "    (\"Nuclear\", \"Pre-Event\", [\"Thermal Camera\", \"Camera\", \"LiDAR\"]),\n",
    "    (\"Nuclear\", \"During\", [\"Thermal Camera\", \"Camera\", \"LiDAR\"]),\n",
    "    (\"Nuclear\", \"Post-Event\", [\"Camera\", \"LiDAR\", \"Gamma Spectrometer\"]),\n",
    "    (\"Nuclear\", \"Clean-Up\", [\"Camera\", \"LiDAR\", \"Gamma Spectrometer\"]),\n",
    "]"
   ]
  },
  {
   "cell_type": "code",
   "execution_count": 7,
   "metadata": {},
   "outputs": [
    {
     "name": "stdout",
     "output_type": "stream",
     "text": [
      "<class 'pandas.core.frame.DataFrame'>\n",
      "Index: 16936500 entries, 0 to 5645499\n",
      "Data columns (total 6 columns):\n",
      " #   Column             Dtype  \n",
      "---  ------             -----  \n",
      " 0   HazardID           int64  \n",
      " 1   HazardType         object \n",
      " 2   latitude           float64\n",
      " 3   longitude          float64\n",
      " 4   DisasterPhase      object \n",
      " 5   RecommendedSensor  object \n",
      "dtypes: float64(2), int64(1), object(3)\n",
      "memory usage: 904.5+ MB\n"
     ]
    }
   ],
   "source": [
    "disaster_df = pd.DataFrame(disaster_map, columns=[\"HazardType\", \"DisasterPhase\", \"RecommendedSensors\"])\n",
    "\n",
    "# Step 2: Merge every HazardID with its corresponding disaster phases\n",
    "ghz_core = ghz_updated[[\"HazardID\", \"HazardType\", \"latitude\", \"longitude\"]]  # minimal fields to avoid memory issue\n",
    "ghz_expanded = ghz_core.merge(disaster_df, on=\"HazardType\", how=\"left\")\n",
    "\n",
    "# Step 3: Explode to get 1 row per recommended sensor\n",
    "ghz_expanded = ghz_expanded.explode(\"RecommendedSensors\").rename(columns={\"RecommendedSensors\": \"RecommendedSensor\"})\n",
    "ghz_expanded.info()"
   ]
  },
  {
   "cell_type": "markdown",
   "metadata": {},
   "source": [
    "# STAGE 3: Assign Sensor Weight"
   ]
  },
  {
   "cell_type": "code",
   "execution_count": 8,
   "metadata": {},
   "outputs": [
    {
     "name": "stdout",
     "output_type": "stream",
     "text": [
      "<class 'pandas.core.frame.DataFrame'>\n",
      "RangeIndex: 16936500 entries, 0 to 16936499\n",
      "Data columns (total 8 columns):\n",
      " #   Column             Dtype  \n",
      "---  ------             -----  \n",
      " 0   HazardID           int64  \n",
      " 1   HazardType         object \n",
      " 2   latitude           float64\n",
      " 3   longitude          float64\n",
      " 4   DisasterPhase      object \n",
      " 5   RecommendedSensor  object \n",
      " 6   sensor_weight      int64  \n",
      " 7   sensor_model       object \n",
      "dtypes: float64(2), int64(2), object(4)\n",
      "memory usage: 1.0+ GB\n"
     ]
    }
   ],
   "source": [
    "# Clean sensor name just in case (strip whitespace)\n",
    "sensor_df[\"sensor_name_clean\"] = sensor_df[\"sensor_name\"].str.strip()\n",
    "ghz_expanded[\"RecommendedSensor_clean\"] = ghz_expanded[\"RecommendedSensor\"].str.strip()\n",
    "\n",
    "# Merge and keep only relevant columns\n",
    "merged_df = ghz_expanded.merge(\n",
    "    sensor_df[[\"sensor_name_clean\", \"sensor_weight\", \"model\"]],\n",
    "    left_on=\"RecommendedSensor_clean\",\n",
    "    right_on=\"sensor_name_clean\",\n",
    "    how=\"left\"\n",
    ").drop(columns=[\"sensor_name_clean\", \"RecommendedSensor_clean\"])\n",
    "\n",
    "# Rename model to sensor_model\n",
    "merged_df = merged_df.rename(columns={\"model\": \"sensor_model\"})\n",
    "merged_df.info()"
   ]
  },
  {
   "cell_type": "code",
   "execution_count": 9,
   "metadata": {},
   "outputs": [
    {
     "data": {
      "text/plain": [
       "array([False])"
      ]
     },
     "execution_count": 9,
     "metadata": {},
     "output_type": "execute_result"
    }
   ],
   "source": [
    "merged_df.RecommendedSensor.isna().unique()"
   ]
  },
  {
   "cell_type": "code",
   "execution_count": 10,
   "metadata": {},
   "outputs": [
    {
     "name": "stdout",
     "output_type": "stream",
     "text": [
      "<class 'pandas.core.frame.DataFrame'>\n",
      "RangeIndex: 16998132 entries, 0 to 16998131\n",
      "Data columns (total 9 columns):\n",
      " #   Column             Dtype  \n",
      "---  ------             -----  \n",
      " 0   HazardID           int64  \n",
      " 1   HazardType         object \n",
      " 2   latitude           float64\n",
      " 3   longitude          float64\n",
      " 4   DisasterPhase      object \n",
      " 5   RecommendedSensor  object \n",
      " 6   sensor_weight      int64  \n",
      " 7   sensor_model       object \n",
      " 8   distance           float64\n",
      "dtypes: float64(3), int64(2), object(4)\n",
      "memory usage: 1.1+ GB\n"
     ]
    }
   ],
   "source": [
    "merged_df = merged_df.merge(\n",
    "    ghz_updated[[\"HazardID\", \"distance\"]],\n",
    "    on=\"HazardID\",\n",
    "    how=\"left\"\n",
    ")\n",
    "merged_df[\"distance\"] = pd.to_numeric(merged_df[\"distance\"], errors=\"coerce\")\n",
    "merged_df.info()"
   ]
  },
  {
   "cell_type": "code",
   "execution_count": 35,
   "metadata": {},
   "outputs": [
    {
     "name": "stdout",
     "output_type": "stream",
     "text": [
      "         RecommendedSensor  sensor_weight       distance  mission_distance\n",
      "2628958             Camera              5     310.093116       4500.000000\n",
      "7925175              LiDAR            430            NaN       1000.000000\n",
      "4497383              LiDAR            430    1585.379566       1585.379566\n",
      "10037130           Seismic           1000   48198.863689      48198.863689\n",
      "6198165            Seismic           1000   15422.505341      15422.505341\n",
      "...                    ...            ...            ...               ...\n",
      "14816875            Camera              5     582.989433       4500.000000\n",
      "12140288            Camera              5     533.156994       4500.000000\n",
      "15310747            Camera              5  591288.120572       4500.000000\n",
      "10810828            Camera              5  168046.662748       4500.000000\n",
      "2562218             Camera              5     703.467058       4500.000000\n",
      "\n",
      "[100000 rows x 4 columns]\n",
      "<class 'pandas.core.frame.DataFrame'>\n",
      "Index: 100000 entries, 2628958 to 2562218\n",
      "Data columns (total 10 columns):\n",
      " #   Column             Non-Null Count   Dtype  \n",
      "---  ------             --------------   -----  \n",
      " 0   HazardID           100000 non-null  int64  \n",
      " 1   HazardType         100000 non-null  object \n",
      " 2   latitude           100000 non-null  float64\n",
      " 3   longitude          100000 non-null  float64\n",
      " 4   DisasterPhase      100000 non-null  object \n",
      " 5   RecommendedSensor  100000 non-null  object \n",
      " 6   sensor_weight      100000 non-null  int64  \n",
      " 7   sensor_model       100000 non-null  object \n",
      " 8   distance           94067 non-null   float64\n",
      " 9   mission_distance   100000 non-null  float64\n",
      "dtypes: float64(4), int64(2), object(4)\n",
      "memory usage: 8.4+ MB\n"
     ]
    }
   ],
   "source": [
    "sample = merged_df.sample(100000, random_state=42)\n",
    "print(sample[[\"RecommendedSensor\", \"sensor_weight\", \"distance\", \"mission_distance\"]])\n",
    "sample.info()"
   ]
  },
  {
   "cell_type": "markdown",
   "metadata": {},
   "source": [
    "# Calculate Mission Distance (Mapping or Delivery)"
   ]
  },
  {
   "cell_type": "code",
   "execution_count": 11,
   "metadata": {},
   "outputs": [],
   "source": [
    "# Area definitions (in meters)\n",
    "sensor_default_area = {\n",
    "    \"Seismic\": (None, None),\n",
    "    \"Magnetometers\": (500, 200),\n",
    "    \"Lidar\": (400, 400),\n",
    "    \"GPR\": (None, None),\n",
    "    \"Camera\": (300, 300),\n",
    "    \"Thermal_Camera\": (300, 300),\n",
    "    \"Hyperspectral\": (1000, 200),\n",
    "    \"Multispectral\": (1000, 200),\n",
    "    \"EM\": (400, 400),\n",
    "    \"Gravimeter\": (500, 500),\n",
    "    \"BPR\": (None, None),\n",
    "    \"Gamma Spectrometer\": (500, 500)  # treated as mapping\n",
    "}\n",
    "\n",
    "sensor_spacing = {\n",
    "    \"Magnetometers\": 5,\n",
    "    \"Lidar\": 10,\n",
    "    \"EM\": 10,\n",
    "    \"Gravimeter\": 10,\n",
    "    \"Hyperspectral\": 20,\n",
    "    \"Multispectral\": 20,\n",
    "    \"Camera\": 20,\n",
    "    \"Thermal_Camera\": 20,\n",
    "    \"Gamma Spectrometer\": 20\n",
    "}\n",
    "\n",
    "direct_delivery_sensors = {\"Seismic\", \"GPR\", \"BPR\"}"
   ]
  },
  {
   "cell_type": "code",
   "execution_count": 11,
   "metadata": {},
   "outputs": [],
   "source": [
    "def calculate_mission_distance_vectorized(row):\n",
    "    sensor = row[\"RecommendedSensor\"]\n",
    "    try:\n",
    "        hazard_dist = float(row[\"distance\"])\n",
    "    except:\n",
    "        return np.nan\n",
    "    \n",
    "    # Direct delivery → use hazard distance directly\n",
    "    if sensor in direct_delivery_sensors:\n",
    "        return hazard_dist\n",
    "    \n",
    "    # Area-based mapping\n",
    "    area = sensor_default_area.get(sensor, (None, None))\n",
    "    spacing = sensor_spacing.get(sensor, 10)\n",
    "\n",
    "    if area[0] is not None and area[1] is not None:\n",
    "        area_length, area_width = area\n",
    "        num_lines = math.ceil(area_width / spacing)\n",
    "        return num_lines * area_length\n",
    "    else:\n",
    "        # If no area defined, fallback to estimate\n",
    "        if sensor == \"Magnetometers\":\n",
    "            return 20000\n",
    "        elif sensor == \"Lidar\":\n",
    "            return math.pi * hazard_dist\n",
    "        else:\n",
    "            return hazard_dist\n"
   ]
  },
  {
   "cell_type": "code",
   "execution_count": 12,
   "metadata": {},
   "outputs": [],
   "source": [
    "def batch_calculate_mission_distance(ghz_df, chunk_size=50000):\n",
    "    # Defaults\n",
    "    sensor_default_area = {\n",
    "        \"Seismic\": (None, None),\n",
    "        \"Magnetometers\": (500, 200),\n",
    "        \"Lidar\": (400, 400),\n",
    "        \"GPR\": (None, None),\n",
    "        \"Camera\": (300, 300),\n",
    "        \"Thermal_Camera\": (300, 300),\n",
    "        \"Hyperspectral\": (1000, 200),\n",
    "        \"Multispectral\": (1000, 200),\n",
    "        \"EM\": (400, 400),\n",
    "        \"Gravimeter\": (500, 500),\n",
    "        \"Gamma Spectrometer\": (500, 500),\n",
    "        \"BPR\": (None, None)\n",
    "    }\n",
    "\n",
    "    sensor_spacing = {\n",
    "        \"Magnetometers\": 5,\n",
    "        \"Lidar\": 10,\n",
    "        \"EM\": 10,\n",
    "        \"Gravimeter\": 10,\n",
    "        \"Hyperspectral\": 20,\n",
    "        \"Multispectral\": 20,\n",
    "        \"Camera\": 20,\n",
    "        \"Thermal_Camera\": 20,\n",
    "        \"Gamma Spectrometer\": 20\n",
    "    }\n",
    "\n",
    "    direct_delivery_sensors = {\"Seismic\", \"GPR\", \"BPR\"}\n",
    "\n",
    "    def get_mission_distance(sensor, hazard_dist):\n",
    "        try:\n",
    "            hazard_dist = float(hazard_dist)\n",
    "        except:\n",
    "            return np.nan\n",
    "\n",
    "        if sensor in direct_delivery_sensors:\n",
    "            return hazard_dist\n",
    "\n",
    "        area = sensor_default_area.get(sensor, (None, None))\n",
    "        spacing = sensor_spacing.get(sensor, 10)\n",
    "\n",
    "        if area[0] and area[1]:\n",
    "            area_length, area_width = area\n",
    "            num_lines = math.ceil(area_width / spacing)\n",
    "            return num_lines * area_length\n",
    "        elif sensor == \"Magnetometers\":\n",
    "            return 20000\n",
    "        elif sensor == \"Lidar\":\n",
    "            return math.pi * hazard_dist\n",
    "        else:\n",
    "            return hazard_dist\n",
    "\n",
    "    # Chunked application\n",
    "    results = []\n",
    "    for start in range(0, len(ghz_df), chunk_size):\n",
    "        end = min(start + chunk_size, len(ghz_df))\n",
    "        chunk = ghz_df.iloc[start:end].copy()\n",
    "        print(f\"\\U0001f373 Calculating mission_distance for chunk {start} to {end}...\")\n",
    "\n",
    "        chunk[\"mission_distance\"] = chunk.apply(\n",
    "            lambda row: get_mission_distance(row[\"RecommendedSensor\"], row[\"distance\"]), axis=1\n",
    "        )\n",
    "        results.append(chunk)\n",
    "\n",
    "    return pd.concat(results, ignore_index=True)"
   ]
  },
  {
   "cell_type": "markdown",
   "metadata": {},
   "source": [
    "## Mission Distance for CPM"
   ]
  },
  {
   "cell_type": "code",
   "execution_count": 13,
   "metadata": {},
   "outputs": [],
   "source": [
    "def batch_calculate_mission_distance(ghz_df, chunk_size=50000):\n",
    "    # Defaults\n",
    "    sensor_default_area = {\n",
    "        \"Seismic\": (None, None),\n",
    "        \"Magnetometers\": (500, 200),\n",
    "        \"Lidar\": (400, 400),\n",
    "        \"GPR\": (None, None),\n",
    "        \"Camera\": (300, 300),\n",
    "        \"Thermal_Camera\": (300, 300),\n",
    "        \"Hyperspectral\": (1000, 200),\n",
    "        \"Multispectral\": (1000, 200),\n",
    "        \"EM\": (400, 400),\n",
    "        \"Gravimeter\": (500, 500),\n",
    "        \"Gamma Spectrometer\": (500, 500),\n",
    "        \"BPR\": (None, None)\n",
    "    }\n",
    "\n",
    "    sensor_spacing = {\n",
    "        \"Magnetometers\": 5,\n",
    "        \"Lidar\": 10,\n",
    "        \"EM\": 10,\n",
    "        \"Gravimeter\": 10,\n",
    "        \"Hyperspectral\": 20,\n",
    "        \"Multispectral\": 20,\n",
    "        \"Camera\": 20,\n",
    "        \"Thermal_Camera\": 20,\n",
    "        \"Gamma Spectrometer\": 20\n",
    "    }\n",
    "\n",
    "    direct_delivery_sensors = {\"Seismic\", \"GPR\", \"BPR\"}\n",
    "\n",
    "    def get_mission_distance(sensor, hazard_dist):\n",
    "        # Replace NaN with 1000 for safe fallback\n",
    "        try:\n",
    "            hazard_dist = float(hazard_dist)\n",
    "            if np.isnan(hazard_dist):\n",
    "                hazard_dist = 1000 # Fallback when it's MOR environment, assume use boat and 1000 is safe distance\n",
    "        except:\n",
    "            hazard_dist = 1000\n",
    "\n",
    "        if sensor in direct_delivery_sensors:\n",
    "            return hazard_dist\n",
    "\n",
    "        area = sensor_default_area.get(sensor, (None, None))\n",
    "        spacing = sensor_spacing.get(sensor, 10)\n",
    "\n",
    "        if area[0] and area[1]:\n",
    "            area_length, area_width = area\n",
    "            num_lines = math.ceil(area_width / spacing)\n",
    "            return num_lines * area_length\n",
    "        elif sensor == \"Magnetometers\":\n",
    "            return 20000\n",
    "        elif sensor == \"Lidar\":\n",
    "            return math.pi * hazard_dist\n",
    "        else:\n",
    "            return hazard_dist\n",
    "\n",
    "    # Chunked application\n",
    "    results = []\n",
    "    for start in range(0, len(ghz_df), chunk_size):\n",
    "        end = min(start + chunk_size, len(ghz_df))\n",
    "        chunk = ghz_df.iloc[start:end].copy()\n",
    "        print(f\"\\U0001f373 Calculating mission_distance for chunk {start} to {end}...\")\n",
    "\n",
    "        chunk[\"mission_distance\"] = chunk.apply(\n",
    "            lambda row: get_mission_distance(row[\"RecommendedSensor\"], row[\"distance\"]), axis=1\n",
    "        )\n",
    "        results.append(chunk)\n",
    "\n",
    "    return pd.concat(results, ignore_index=True)"
   ]
  },
  {
   "cell_type": "code",
   "execution_count": 14,
   "metadata": {
    "scrolled": true
   },
   "outputs": [
    {
     "name": "stdout",
     "output_type": "stream",
     "text": [
      "🍳 Calculating mission_distance for chunk 0 to 50000...\n",
      "🍳 Calculating mission_distance for chunk 50000 to 100000...\n",
      "🍳 Calculating mission_distance for chunk 100000 to 150000...\n",
      "🍳 Calculating mission_distance for chunk 150000 to 200000...\n",
      "🍳 Calculating mission_distance for chunk 200000 to 250000...\n",
      "🍳 Calculating mission_distance for chunk 250000 to 300000...\n",
      "🍳 Calculating mission_distance for chunk 300000 to 350000...\n",
      "🍳 Calculating mission_distance for chunk 350000 to 400000...\n",
      "🍳 Calculating mission_distance for chunk 400000 to 450000...\n",
      "🍳 Calculating mission_distance for chunk 450000 to 500000...\n",
      "🍳 Calculating mission_distance for chunk 500000 to 550000...\n",
      "🍳 Calculating mission_distance for chunk 550000 to 600000...\n",
      "🍳 Calculating mission_distance for chunk 600000 to 650000...\n",
      "🍳 Calculating mission_distance for chunk 650000 to 700000...\n",
      "🍳 Calculating mission_distance for chunk 700000 to 750000...\n",
      "🍳 Calculating mission_distance for chunk 750000 to 800000...\n",
      "🍳 Calculating mission_distance for chunk 800000 to 850000...\n",
      "🍳 Calculating mission_distance for chunk 850000 to 900000...\n",
      "🍳 Calculating mission_distance for chunk 900000 to 950000...\n",
      "🍳 Calculating mission_distance for chunk 950000 to 1000000...\n",
      "🍳 Calculating mission_distance for chunk 1000000 to 1050000...\n",
      "🍳 Calculating mission_distance for chunk 1050000 to 1100000...\n",
      "🍳 Calculating mission_distance for chunk 1100000 to 1150000...\n",
      "🍳 Calculating mission_distance for chunk 1150000 to 1200000...\n",
      "🍳 Calculating mission_distance for chunk 1200000 to 1250000...\n",
      "🍳 Calculating mission_distance for chunk 1250000 to 1300000...\n",
      "🍳 Calculating mission_distance for chunk 1300000 to 1350000...\n",
      "🍳 Calculating mission_distance for chunk 1350000 to 1400000...\n",
      "🍳 Calculating mission_distance for chunk 1400000 to 1450000...\n",
      "🍳 Calculating mission_distance for chunk 1450000 to 1500000...\n",
      "🍳 Calculating mission_distance for chunk 1500000 to 1550000...\n",
      "🍳 Calculating mission_distance for chunk 1550000 to 1600000...\n",
      "🍳 Calculating mission_distance for chunk 1600000 to 1650000...\n",
      "🍳 Calculating mission_distance for chunk 1650000 to 1700000...\n",
      "🍳 Calculating mission_distance for chunk 1700000 to 1750000...\n",
      "🍳 Calculating mission_distance for chunk 1750000 to 1800000...\n",
      "🍳 Calculating mission_distance for chunk 1800000 to 1850000...\n",
      "🍳 Calculating mission_distance for chunk 1850000 to 1900000...\n",
      "🍳 Calculating mission_distance for chunk 1900000 to 1950000...\n",
      "🍳 Calculating mission_distance for chunk 1950000 to 2000000...\n",
      "🍳 Calculating mission_distance for chunk 2000000 to 2050000...\n",
      "🍳 Calculating mission_distance for chunk 2050000 to 2100000...\n",
      "🍳 Calculating mission_distance for chunk 2100000 to 2150000...\n",
      "🍳 Calculating mission_distance for chunk 2150000 to 2200000...\n",
      "🍳 Calculating mission_distance for chunk 2200000 to 2250000...\n",
      "🍳 Calculating mission_distance for chunk 2250000 to 2300000...\n",
      "🍳 Calculating mission_distance for chunk 2300000 to 2350000...\n",
      "🍳 Calculating mission_distance for chunk 2350000 to 2400000...\n",
      "🍳 Calculating mission_distance for chunk 2400000 to 2450000...\n",
      "🍳 Calculating mission_distance for chunk 2450000 to 2500000...\n",
      "🍳 Calculating mission_distance for chunk 2500000 to 2550000...\n",
      "🍳 Calculating mission_distance for chunk 2550000 to 2600000...\n",
      "🍳 Calculating mission_distance for chunk 2600000 to 2650000...\n",
      "🍳 Calculating mission_distance for chunk 2650000 to 2700000...\n",
      "🍳 Calculating mission_distance for chunk 2700000 to 2750000...\n",
      "🍳 Calculating mission_distance for chunk 2750000 to 2800000...\n",
      "🍳 Calculating mission_distance for chunk 2800000 to 2850000...\n",
      "🍳 Calculating mission_distance for chunk 2850000 to 2900000...\n",
      "🍳 Calculating mission_distance for chunk 2900000 to 2950000...\n",
      "🍳 Calculating mission_distance for chunk 2950000 to 3000000...\n",
      "🍳 Calculating mission_distance for chunk 3000000 to 3050000...\n",
      "🍳 Calculating mission_distance for chunk 3050000 to 3100000...\n",
      "🍳 Calculating mission_distance for chunk 3100000 to 3150000...\n",
      "🍳 Calculating mission_distance for chunk 3150000 to 3200000...\n",
      "🍳 Calculating mission_distance for chunk 3200000 to 3250000...\n",
      "🍳 Calculating mission_distance for chunk 3250000 to 3300000...\n",
      "🍳 Calculating mission_distance for chunk 3300000 to 3350000...\n",
      "🍳 Calculating mission_distance for chunk 3350000 to 3400000...\n",
      "🍳 Calculating mission_distance for chunk 3400000 to 3450000...\n",
      "🍳 Calculating mission_distance for chunk 3450000 to 3500000...\n",
      "🍳 Calculating mission_distance for chunk 3500000 to 3550000...\n",
      "🍳 Calculating mission_distance for chunk 3550000 to 3600000...\n",
      "🍳 Calculating mission_distance for chunk 3600000 to 3650000...\n",
      "🍳 Calculating mission_distance for chunk 3650000 to 3700000...\n",
      "🍳 Calculating mission_distance for chunk 3700000 to 3750000...\n",
      "🍳 Calculating mission_distance for chunk 3750000 to 3800000...\n",
      "🍳 Calculating mission_distance for chunk 3800000 to 3850000...\n",
      "🍳 Calculating mission_distance for chunk 3850000 to 3900000...\n",
      "🍳 Calculating mission_distance for chunk 3900000 to 3950000...\n",
      "🍳 Calculating mission_distance for chunk 3950000 to 4000000...\n",
      "🍳 Calculating mission_distance for chunk 4000000 to 4050000...\n",
      "🍳 Calculating mission_distance for chunk 4050000 to 4100000...\n",
      "🍳 Calculating mission_distance for chunk 4100000 to 4150000...\n",
      "🍳 Calculating mission_distance for chunk 4150000 to 4200000...\n",
      "🍳 Calculating mission_distance for chunk 4200000 to 4250000...\n",
      "🍳 Calculating mission_distance for chunk 4250000 to 4300000...\n",
      "🍳 Calculating mission_distance for chunk 4300000 to 4350000...\n",
      "🍳 Calculating mission_distance for chunk 4350000 to 4400000...\n",
      "🍳 Calculating mission_distance for chunk 4400000 to 4450000...\n",
      "🍳 Calculating mission_distance for chunk 4450000 to 4500000...\n",
      "🍳 Calculating mission_distance for chunk 4500000 to 4550000...\n",
      "🍳 Calculating mission_distance for chunk 4550000 to 4600000...\n",
      "🍳 Calculating mission_distance for chunk 4600000 to 4650000...\n",
      "🍳 Calculating mission_distance for chunk 4650000 to 4700000...\n",
      "🍳 Calculating mission_distance for chunk 4700000 to 4750000...\n",
      "🍳 Calculating mission_distance for chunk 4750000 to 4800000...\n",
      "🍳 Calculating mission_distance for chunk 4800000 to 4850000...\n",
      "🍳 Calculating mission_distance for chunk 4850000 to 4900000...\n",
      "🍳 Calculating mission_distance for chunk 4900000 to 4950000...\n",
      "🍳 Calculating mission_distance for chunk 4950000 to 5000000...\n",
      "🍳 Calculating mission_distance for chunk 5000000 to 5050000...\n",
      "🍳 Calculating mission_distance for chunk 5050000 to 5100000...\n",
      "🍳 Calculating mission_distance for chunk 5100000 to 5150000...\n",
      "🍳 Calculating mission_distance for chunk 5150000 to 5200000...\n",
      "🍳 Calculating mission_distance for chunk 5200000 to 5250000...\n",
      "🍳 Calculating mission_distance for chunk 5250000 to 5300000...\n",
      "🍳 Calculating mission_distance for chunk 5300000 to 5350000...\n",
      "🍳 Calculating mission_distance for chunk 5350000 to 5400000...\n",
      "🍳 Calculating mission_distance for chunk 5400000 to 5450000...\n",
      "🍳 Calculating mission_distance for chunk 5450000 to 5500000...\n",
      "🍳 Calculating mission_distance for chunk 5500000 to 5550000...\n",
      "🍳 Calculating mission_distance for chunk 5550000 to 5600000...\n",
      "🍳 Calculating mission_distance for chunk 5600000 to 5650000...\n",
      "🍳 Calculating mission_distance for chunk 5650000 to 5700000...\n",
      "🍳 Calculating mission_distance for chunk 5700000 to 5750000...\n",
      "🍳 Calculating mission_distance for chunk 5750000 to 5800000...\n",
      "🍳 Calculating mission_distance for chunk 5800000 to 5850000...\n",
      "🍳 Calculating mission_distance for chunk 5850000 to 5900000...\n",
      "🍳 Calculating mission_distance for chunk 5900000 to 5950000...\n",
      "🍳 Calculating mission_distance for chunk 5950000 to 6000000...\n",
      "🍳 Calculating mission_distance for chunk 6000000 to 6050000...\n",
      "🍳 Calculating mission_distance for chunk 6050000 to 6100000...\n",
      "🍳 Calculating mission_distance for chunk 6100000 to 6150000...\n",
      "🍳 Calculating mission_distance for chunk 6150000 to 6200000...\n",
      "🍳 Calculating mission_distance for chunk 6200000 to 6250000...\n",
      "🍳 Calculating mission_distance for chunk 6250000 to 6300000...\n",
      "🍳 Calculating mission_distance for chunk 6300000 to 6350000...\n",
      "🍳 Calculating mission_distance for chunk 6350000 to 6400000...\n",
      "🍳 Calculating mission_distance for chunk 6400000 to 6450000...\n",
      "🍳 Calculating mission_distance for chunk 6450000 to 6500000...\n",
      "🍳 Calculating mission_distance for chunk 6500000 to 6550000...\n",
      "🍳 Calculating mission_distance for chunk 6550000 to 6600000...\n",
      "🍳 Calculating mission_distance for chunk 6600000 to 6650000...\n",
      "🍳 Calculating mission_distance for chunk 6650000 to 6700000...\n",
      "🍳 Calculating mission_distance for chunk 6700000 to 6750000...\n",
      "🍳 Calculating mission_distance for chunk 6750000 to 6800000...\n",
      "🍳 Calculating mission_distance for chunk 6800000 to 6850000...\n",
      "🍳 Calculating mission_distance for chunk 6850000 to 6900000...\n",
      "🍳 Calculating mission_distance for chunk 6900000 to 6950000...\n",
      "🍳 Calculating mission_distance for chunk 6950000 to 7000000...\n",
      "🍳 Calculating mission_distance for chunk 7000000 to 7050000...\n",
      "🍳 Calculating mission_distance for chunk 7050000 to 7100000...\n",
      "🍳 Calculating mission_distance for chunk 7100000 to 7150000...\n",
      "🍳 Calculating mission_distance for chunk 7150000 to 7200000...\n",
      "🍳 Calculating mission_distance for chunk 7200000 to 7250000...\n",
      "🍳 Calculating mission_distance for chunk 7250000 to 7300000...\n",
      "🍳 Calculating mission_distance for chunk 7300000 to 7350000...\n",
      "🍳 Calculating mission_distance for chunk 7350000 to 7400000...\n",
      "🍳 Calculating mission_distance for chunk 7400000 to 7450000...\n",
      "🍳 Calculating mission_distance for chunk 7450000 to 7500000...\n",
      "🍳 Calculating mission_distance for chunk 7500000 to 7550000...\n",
      "🍳 Calculating mission_distance for chunk 7550000 to 7600000...\n",
      "🍳 Calculating mission_distance for chunk 7600000 to 7650000...\n",
      "🍳 Calculating mission_distance for chunk 7650000 to 7700000...\n",
      "🍳 Calculating mission_distance for chunk 7700000 to 7750000...\n",
      "🍳 Calculating mission_distance for chunk 7750000 to 7800000...\n",
      "🍳 Calculating mission_distance for chunk 7800000 to 7850000...\n",
      "🍳 Calculating mission_distance for chunk 7850000 to 7900000...\n",
      "🍳 Calculating mission_distance for chunk 7900000 to 7950000...\n",
      "🍳 Calculating mission_distance for chunk 7950000 to 8000000...\n",
      "🍳 Calculating mission_distance for chunk 8000000 to 8050000...\n",
      "🍳 Calculating mission_distance for chunk 8050000 to 8100000...\n",
      "🍳 Calculating mission_distance for chunk 8100000 to 8150000...\n",
      "🍳 Calculating mission_distance for chunk 8150000 to 8200000...\n",
      "🍳 Calculating mission_distance for chunk 8200000 to 8250000...\n",
      "🍳 Calculating mission_distance for chunk 8250000 to 8300000...\n",
      "🍳 Calculating mission_distance for chunk 8300000 to 8350000...\n",
      "🍳 Calculating mission_distance for chunk 8350000 to 8400000...\n",
      "🍳 Calculating mission_distance for chunk 8400000 to 8450000...\n",
      "🍳 Calculating mission_distance for chunk 8450000 to 8500000...\n",
      "🍳 Calculating mission_distance for chunk 8500000 to 8550000...\n",
      "🍳 Calculating mission_distance for chunk 8550000 to 8600000...\n",
      "🍳 Calculating mission_distance for chunk 8600000 to 8650000...\n",
      "🍳 Calculating mission_distance for chunk 8650000 to 8700000...\n",
      "🍳 Calculating mission_distance for chunk 8700000 to 8750000...\n",
      "🍳 Calculating mission_distance for chunk 8750000 to 8800000...\n",
      "🍳 Calculating mission_distance for chunk 8800000 to 8850000...\n",
      "🍳 Calculating mission_distance for chunk 8850000 to 8900000...\n",
      "🍳 Calculating mission_distance for chunk 8900000 to 8950000...\n",
      "🍳 Calculating mission_distance for chunk 8950000 to 9000000...\n",
      "🍳 Calculating mission_distance for chunk 9000000 to 9050000...\n",
      "🍳 Calculating mission_distance for chunk 9050000 to 9100000...\n",
      "🍳 Calculating mission_distance for chunk 9100000 to 9150000...\n",
      "🍳 Calculating mission_distance for chunk 9150000 to 9200000...\n",
      "🍳 Calculating mission_distance for chunk 9200000 to 9250000...\n",
      "🍳 Calculating mission_distance for chunk 9250000 to 9300000...\n",
      "🍳 Calculating mission_distance for chunk 9300000 to 9350000...\n",
      "🍳 Calculating mission_distance for chunk 9350000 to 9400000...\n",
      "🍳 Calculating mission_distance for chunk 9400000 to 9450000...\n",
      "🍳 Calculating mission_distance for chunk 9450000 to 9500000...\n",
      "🍳 Calculating mission_distance for chunk 9500000 to 9550000...\n",
      "🍳 Calculating mission_distance for chunk 9550000 to 9600000...\n",
      "🍳 Calculating mission_distance for chunk 9600000 to 9650000...\n",
      "🍳 Calculating mission_distance for chunk 9650000 to 9700000...\n",
      "🍳 Calculating mission_distance for chunk 9700000 to 9750000...\n",
      "🍳 Calculating mission_distance for chunk 9750000 to 9800000...\n",
      "🍳 Calculating mission_distance for chunk 9800000 to 9850000...\n",
      "🍳 Calculating mission_distance for chunk 9850000 to 9900000...\n",
      "🍳 Calculating mission_distance for chunk 9900000 to 9950000...\n",
      "🍳 Calculating mission_distance for chunk 9950000 to 10000000...\n",
      "🍳 Calculating mission_distance for chunk 10000000 to 10050000...\n",
      "🍳 Calculating mission_distance for chunk 10050000 to 10100000...\n",
      "🍳 Calculating mission_distance for chunk 10100000 to 10150000...\n",
      "🍳 Calculating mission_distance for chunk 10150000 to 10200000...\n",
      "🍳 Calculating mission_distance for chunk 10200000 to 10250000...\n",
      "🍳 Calculating mission_distance for chunk 10250000 to 10300000...\n",
      "🍳 Calculating mission_distance for chunk 10300000 to 10350000...\n",
      "🍳 Calculating mission_distance for chunk 10350000 to 10400000...\n",
      "🍳 Calculating mission_distance for chunk 10400000 to 10450000...\n",
      "🍳 Calculating mission_distance for chunk 10450000 to 10500000...\n",
      "🍳 Calculating mission_distance for chunk 10500000 to 10550000...\n",
      "🍳 Calculating mission_distance for chunk 10550000 to 10600000...\n",
      "🍳 Calculating mission_distance for chunk 10600000 to 10650000...\n",
      "🍳 Calculating mission_distance for chunk 10650000 to 10700000...\n",
      "🍳 Calculating mission_distance for chunk 10700000 to 10750000...\n",
      "🍳 Calculating mission_distance for chunk 10750000 to 10800000...\n",
      "🍳 Calculating mission_distance for chunk 10800000 to 10850000...\n",
      "🍳 Calculating mission_distance for chunk 10850000 to 10900000...\n",
      "🍳 Calculating mission_distance for chunk 10900000 to 10950000...\n",
      "🍳 Calculating mission_distance for chunk 10950000 to 11000000...\n",
      "🍳 Calculating mission_distance for chunk 11000000 to 11050000...\n",
      "🍳 Calculating mission_distance for chunk 11050000 to 11100000...\n",
      "🍳 Calculating mission_distance for chunk 11100000 to 11150000...\n",
      "🍳 Calculating mission_distance for chunk 11150000 to 11200000...\n",
      "🍳 Calculating mission_distance for chunk 11200000 to 11250000...\n",
      "🍳 Calculating mission_distance for chunk 11250000 to 11300000...\n",
      "🍳 Calculating mission_distance for chunk 11300000 to 11350000...\n",
      "🍳 Calculating mission_distance for chunk 11350000 to 11400000...\n",
      "🍳 Calculating mission_distance for chunk 11400000 to 11450000...\n",
      "🍳 Calculating mission_distance for chunk 11450000 to 11500000...\n",
      "🍳 Calculating mission_distance for chunk 11500000 to 11550000...\n",
      "🍳 Calculating mission_distance for chunk 11550000 to 11600000...\n",
      "🍳 Calculating mission_distance for chunk 11600000 to 11650000...\n",
      "🍳 Calculating mission_distance for chunk 11650000 to 11700000...\n",
      "🍳 Calculating mission_distance for chunk 11700000 to 11750000...\n",
      "🍳 Calculating mission_distance for chunk 11750000 to 11800000...\n",
      "🍳 Calculating mission_distance for chunk 11800000 to 11850000...\n",
      "🍳 Calculating mission_distance for chunk 11850000 to 11900000...\n",
      "🍳 Calculating mission_distance for chunk 11900000 to 11950000...\n",
      "🍳 Calculating mission_distance for chunk 11950000 to 12000000...\n",
      "🍳 Calculating mission_distance for chunk 12000000 to 12050000...\n",
      "🍳 Calculating mission_distance for chunk 12050000 to 12100000...\n",
      "🍳 Calculating mission_distance for chunk 12100000 to 12150000...\n",
      "🍳 Calculating mission_distance for chunk 12150000 to 12200000...\n",
      "🍳 Calculating mission_distance for chunk 12200000 to 12250000...\n",
      "🍳 Calculating mission_distance for chunk 12250000 to 12300000...\n",
      "🍳 Calculating mission_distance for chunk 12300000 to 12350000...\n",
      "🍳 Calculating mission_distance for chunk 12350000 to 12400000...\n",
      "🍳 Calculating mission_distance for chunk 12400000 to 12450000...\n",
      "🍳 Calculating mission_distance for chunk 12450000 to 12500000...\n",
      "🍳 Calculating mission_distance for chunk 12500000 to 12550000...\n",
      "🍳 Calculating mission_distance for chunk 12550000 to 12600000...\n",
      "🍳 Calculating mission_distance for chunk 12600000 to 12650000...\n",
      "🍳 Calculating mission_distance for chunk 12650000 to 12700000...\n",
      "🍳 Calculating mission_distance for chunk 12700000 to 12750000...\n",
      "🍳 Calculating mission_distance for chunk 12750000 to 12800000...\n",
      "🍳 Calculating mission_distance for chunk 12800000 to 12850000...\n",
      "🍳 Calculating mission_distance for chunk 12850000 to 12900000...\n",
      "🍳 Calculating mission_distance for chunk 12900000 to 12950000...\n",
      "🍳 Calculating mission_distance for chunk 12950000 to 13000000...\n",
      "🍳 Calculating mission_distance for chunk 13000000 to 13050000...\n",
      "🍳 Calculating mission_distance for chunk 13050000 to 13100000...\n",
      "🍳 Calculating mission_distance for chunk 13100000 to 13150000...\n",
      "🍳 Calculating mission_distance for chunk 13150000 to 13200000...\n",
      "🍳 Calculating mission_distance for chunk 13200000 to 13250000...\n",
      "🍳 Calculating mission_distance for chunk 13250000 to 13300000...\n",
      "🍳 Calculating mission_distance for chunk 13300000 to 13350000...\n",
      "🍳 Calculating mission_distance for chunk 13350000 to 13400000...\n",
      "🍳 Calculating mission_distance for chunk 13400000 to 13450000...\n",
      "🍳 Calculating mission_distance for chunk 13450000 to 13500000...\n",
      "🍳 Calculating mission_distance for chunk 13500000 to 13550000...\n",
      "🍳 Calculating mission_distance for chunk 13550000 to 13600000...\n",
      "🍳 Calculating mission_distance for chunk 13600000 to 13650000...\n",
      "🍳 Calculating mission_distance for chunk 13650000 to 13700000...\n",
      "🍳 Calculating mission_distance for chunk 13700000 to 13750000...\n",
      "🍳 Calculating mission_distance for chunk 13750000 to 13800000...\n",
      "🍳 Calculating mission_distance for chunk 13800000 to 13850000...\n",
      "🍳 Calculating mission_distance for chunk 13850000 to 13900000...\n",
      "🍳 Calculating mission_distance for chunk 13900000 to 13950000...\n",
      "🍳 Calculating mission_distance for chunk 13950000 to 14000000...\n",
      "🍳 Calculating mission_distance for chunk 14000000 to 14050000...\n",
      "🍳 Calculating mission_distance for chunk 14050000 to 14100000...\n",
      "🍳 Calculating mission_distance for chunk 14100000 to 14150000...\n",
      "🍳 Calculating mission_distance for chunk 14150000 to 14200000...\n",
      "🍳 Calculating mission_distance for chunk 14200000 to 14250000...\n",
      "🍳 Calculating mission_distance for chunk 14250000 to 14300000...\n",
      "🍳 Calculating mission_distance for chunk 14300000 to 14350000...\n",
      "🍳 Calculating mission_distance for chunk 14350000 to 14400000...\n",
      "🍳 Calculating mission_distance for chunk 14400000 to 14450000...\n",
      "🍳 Calculating mission_distance for chunk 14450000 to 14500000...\n",
      "🍳 Calculating mission_distance for chunk 14500000 to 14550000...\n",
      "🍳 Calculating mission_distance for chunk 14550000 to 14600000...\n",
      "🍳 Calculating mission_distance for chunk 14600000 to 14650000...\n",
      "🍳 Calculating mission_distance for chunk 14650000 to 14700000...\n",
      "🍳 Calculating mission_distance for chunk 14700000 to 14750000...\n",
      "🍳 Calculating mission_distance for chunk 14750000 to 14800000...\n",
      "🍳 Calculating mission_distance for chunk 14800000 to 14850000...\n",
      "🍳 Calculating mission_distance for chunk 14850000 to 14900000...\n",
      "🍳 Calculating mission_distance for chunk 14900000 to 14950000...\n",
      "🍳 Calculating mission_distance for chunk 14950000 to 15000000...\n",
      "🍳 Calculating mission_distance for chunk 15000000 to 15050000...\n",
      "🍳 Calculating mission_distance for chunk 15050000 to 15100000...\n",
      "🍳 Calculating mission_distance for chunk 15100000 to 15150000...\n",
      "🍳 Calculating mission_distance for chunk 15150000 to 15200000...\n",
      "🍳 Calculating mission_distance for chunk 15200000 to 15250000...\n",
      "🍳 Calculating mission_distance for chunk 15250000 to 15300000...\n",
      "🍳 Calculating mission_distance for chunk 15300000 to 15350000...\n",
      "🍳 Calculating mission_distance for chunk 15350000 to 15400000...\n",
      "🍳 Calculating mission_distance for chunk 15400000 to 15450000...\n",
      "🍳 Calculating mission_distance for chunk 15450000 to 15500000...\n",
      "🍳 Calculating mission_distance for chunk 15500000 to 15550000...\n",
      "🍳 Calculating mission_distance for chunk 15550000 to 15600000...\n",
      "🍳 Calculating mission_distance for chunk 15600000 to 15650000...\n",
      "🍳 Calculating mission_distance for chunk 15650000 to 15700000...\n",
      "🍳 Calculating mission_distance for chunk 15700000 to 15750000...\n",
      "🍳 Calculating mission_distance for chunk 15750000 to 15800000...\n",
      "🍳 Calculating mission_distance for chunk 15800000 to 15850000...\n",
      "🍳 Calculating mission_distance for chunk 15850000 to 15900000...\n",
      "🍳 Calculating mission_distance for chunk 15900000 to 15950000...\n",
      "🍳 Calculating mission_distance for chunk 15950000 to 16000000...\n",
      "🍳 Calculating mission_distance for chunk 16000000 to 16050000...\n",
      "🍳 Calculating mission_distance for chunk 16050000 to 16100000...\n",
      "🍳 Calculating mission_distance for chunk 16100000 to 16150000...\n",
      "🍳 Calculating mission_distance for chunk 16150000 to 16200000...\n",
      "🍳 Calculating mission_distance for chunk 16200000 to 16250000...\n",
      "🍳 Calculating mission_distance for chunk 16250000 to 16300000...\n",
      "🍳 Calculating mission_distance for chunk 16300000 to 16350000...\n",
      "🍳 Calculating mission_distance for chunk 16350000 to 16400000...\n",
      "🍳 Calculating mission_distance for chunk 16400000 to 16450000...\n",
      "🍳 Calculating mission_distance for chunk 16450000 to 16500000...\n",
      "🍳 Calculating mission_distance for chunk 16500000 to 16550000...\n",
      "🍳 Calculating mission_distance for chunk 16550000 to 16600000...\n",
      "🍳 Calculating mission_distance for chunk 16600000 to 16650000...\n",
      "🍳 Calculating mission_distance for chunk 16650000 to 16700000...\n",
      "🍳 Calculating mission_distance for chunk 16700000 to 16750000...\n",
      "🍳 Calculating mission_distance for chunk 16750000 to 16800000...\n",
      "🍳 Calculating mission_distance for chunk 16800000 to 16850000...\n",
      "🍳 Calculating mission_distance for chunk 16850000 to 16900000...\n",
      "🍳 Calculating mission_distance for chunk 16900000 to 16950000...\n",
      "🍳 Calculating mission_distance for chunk 16950000 to 16998132...\n"
     ]
    }
   ],
   "source": [
    "merged_df = batch_calculate_mission_distance(merged_df)"
   ]
  },
  {
   "cell_type": "code",
   "execution_count": 15,
   "metadata": {},
   "outputs": [
    {
     "name": "stdout",
     "output_type": "stream",
     "text": [
      "5000000.0\n",
      "2208296.7872303845\n",
      "False\n"
     ]
    }
   ],
   "source": [
    "print(max(drone_df['comm_range']))\n",
    "print(max(merged_df['distance']))\n",
    "print(max(merged_df.mission_distance.isna().unique()))"
   ]
  },
  {
   "cell_type": "markdown",
   "metadata": {},
   "source": [
    "----\n",
    "# CPM\n",
    "----"
   ]
  },
  {
   "cell_type": "code",
   "execution_count": 16,
   "metadata": {},
   "outputs": [],
   "source": [
    "def compute_cpm(row):\n",
    "    distance = row[\"distance\"]  # meters\n",
    "    mission_distance = row[\"mission_distance\"]  # meters\n",
    "    sensor = row[\"RecommendedSensor\"]\n",
    "\n",
    "    # Step 1: Travel Time\n",
    "    cruise_speed = 16  # m/s, average multicopter cruise speed\n",
    "    travel_time = distance / cruise_speed / 60  # in minutes\n",
    "\n",
    "    # Step 2: Monitor Time\n",
    "    if sensor in [\"Camera\", \"LiDAR\"]:\n",
    "        mapping_speed = 5  # m/s\n",
    "        monitor_time = mission_distance / mapping_speed / 60\n",
    "    elif sensor in [\"GPR\", \"Thermal Camera\"]:\n",
    "        mapping_speed = 3  # m/s\n",
    "        monitor_time = mission_distance / mapping_speed / 60\n",
    "    elif sensor == \"Magnetometer\":\n",
    "        mapping_speed = 10  # m/s\n",
    "        monitor_time = mission_distance / mapping_speed / 60\n",
    "    elif sensor in [\"Seismic\", \"BPR\"]:\n",
    "        monitor_time = 3  # fixed minutes\n",
    "    else:\n",
    "        monitor_time = 5  # fallback default\n",
    "\n",
    "    # Step 3: Setup Buffer\n",
    "    if sensor in [\"Camera\", \"LiDAR\", \"GPR\", \"Thermal Camera\", \"Magnetometer\"]:\n",
    "        setup_buffer = 40  # mapping mission: GCPs, calibration\n",
    "    elif mission_distance == distance:\n",
    "        setup_buffer = 20  # delivery-style: point drop/pick\n",
    "    else:\n",
    "        setup_buffer = 30  # fallback intermediate buffer\n",
    "\n",
    "    # Final CPM Total Time\n",
    "    cpm_total_time = travel_time + monitor_time + setup_buffer\n",
    "\n",
    "    return pd.Series({\n",
    "        \"travel_time\": travel_time,\n",
    "        \"monitor_time\": monitor_time,\n",
    "        \"setup_buffer\": setup_buffer,\n",
    "        \"cpm_total_time\": cpm_total_time\n",
    "    })"
   ]
  },
  {
   "cell_type": "code",
   "execution_count": 17,
   "metadata": {},
   "outputs": [],
   "source": [
    "def batch_compute_cpm(ghz_df, chunk_size=50000):\n",
    "    results = []\n",
    "\n",
    "    for start in range(0, len(ghz_df), chunk_size):\n",
    "        end = min(start + chunk_size, len(ghz_df))\n",
    "        chunk = ghz_df.iloc[start:end].copy()\n",
    "        print(f\"\\u23F3 Computing CPM for chunk {start} to {end}...\")\n",
    "\n",
    "        cpm_chunk = chunk.apply(compute_cpm, axis=1)\n",
    "        combined = pd.concat([chunk, cpm_chunk], axis=1)\n",
    "        results.append(combined)\n",
    "\n",
    "    return pd.concat(results, ignore_index=True)"
   ]
  },
  {
   "cell_type": "code",
   "execution_count": null,
   "metadata": {
    "scrolled": true
   },
   "outputs": [
    {
     "name": "stdout",
     "output_type": "stream",
     "text": [
      "⏳ Computing CPM for chunk 0 to 50000...\n",
      "⏳ Computing CPM for chunk 50000 to 100000...\n",
      "⏳ Computing CPM for chunk 100000 to 150000...\n",
      "⏳ Computing CPM for chunk 150000 to 200000...\n",
      "⏳ Computing CPM for chunk 200000 to 250000...\n",
      "⏳ Computing CPM for chunk 250000 to 300000...\n",
      "⏳ Computing CPM for chunk 300000 to 350000...\n",
      "⏳ Computing CPM for chunk 350000 to 400000...\n",
      "⏳ Computing CPM for chunk 400000 to 450000...\n",
      "⏳ Computing CPM for chunk 450000 to 500000...\n",
      "⏳ Computing CPM for chunk 500000 to 550000...\n",
      "⏳ Computing CPM for chunk 550000 to 600000...\n",
      "⏳ Computing CPM for chunk 600000 to 650000...\n",
      "⏳ Computing CPM for chunk 650000 to 700000...\n",
      "⏳ Computing CPM for chunk 700000 to 750000...\n",
      "⏳ Computing CPM for chunk 750000 to 800000...\n",
      "⏳ Computing CPM for chunk 800000 to 850000...\n",
      "⏳ Computing CPM for chunk 850000 to 900000...\n",
      "⏳ Computing CPM for chunk 900000 to 950000...\n",
      "⏳ Computing CPM for chunk 950000 to 1000000...\n",
      "⏳ Computing CPM for chunk 1000000 to 1050000...\n",
      "⏳ Computing CPM for chunk 1050000 to 1100000...\n",
      "⏳ Computing CPM for chunk 1100000 to 1150000...\n",
      "⏳ Computing CPM for chunk 1150000 to 1200000...\n",
      "⏳ Computing CPM for chunk 1200000 to 1250000...\n",
      "⏳ Computing CPM for chunk 1250000 to 1300000...\n",
      "⏳ Computing CPM for chunk 1300000 to 1350000...\n",
      "⏳ Computing CPM for chunk 1350000 to 1400000...\n"
     ]
    }
   ],
   "source": [
    "start_time = timeit.default_timer()\n",
    "\n",
    "ghz_with_cpm = batch_compute_cpm(merged_df)\n",
    "\n",
    "elapsed = timeit.default_timer() - start_time\n",
    "print(\"\\u2705 All processing completed! Elapsed time: %s minutes\"%str(elapsed/60))"
   ]
  },
  {
   "cell_type": "markdown",
   "metadata": {},
   "source": [
    "# Assign Drone"
   ]
  },
  {
   "cell_type": "code",
   "execution_count": 15,
   "metadata": {},
   "outputs": [],
   "source": [
    "def batch_assign_best_drones(merged_df, drone_df, chunk_size=50000):\n",
    "    import numpy as np\n",
    "\n",
    "    results = []\n",
    "\n",
    "    # Only keep necessary drone fields and drop NaNs\n",
    "    drone_df = drone_df[[\"mfc_model\", \"max_payload_weight\", \"distance_range\", \"comm_range\"]].dropna()\n",
    "\n",
    "    for start in range(0, len(merged_df), chunk_size):\n",
    "        end = min(start + chunk_size, len(merged_df))\n",
    "        chunk = merged_df.iloc[start:end].copy()\n",
    "        print(f\"\\U0001f373 Assigning drones for chunk {start} to {end}...\")\n",
    "\n",
    "        # Make sure fields are numeric\n",
    "        chunk[\"distance\"] = pd.to_numeric(chunk[\"distance\"], errors=\"coerce\")\n",
    "        chunk[\"mission_distance\"] = pd.to_numeric(chunk[\"mission_distance\"], errors=\"coerce\")\n",
    "        chunk[\"sensor_weight\"] = pd.to_numeric(chunk[\"sensor_weight\"], errors=\"coerce\")\n",
    "\n",
    "        # Prepare result columns\n",
    "        drone_cols = [\"drone1\", \"drone2\", \"drone3\"]\n",
    "        note_cols = [\"note1\", \"note2\", \"note3\"]\n",
    "        for col in drone_cols + note_cols:\n",
    "            chunk[col] = None\n",
    "\n",
    "        for i, row in chunk.iterrows():\n",
    "            s_weight = row[\"sensor_weight\"]\n",
    "            h_dist = row[\"distance\"]\n",
    "            m_dist = row[\"mission_distance\"]\n",
    "            sensor = row[\"RecommendedSensor\"]\n",
    "\n",
    "            # Handle NaN geohazard distance → treat as offshore (>500 km)\n",
    "            if np.isnan(h_dist):\n",
    "                h_dist = 999999\n",
    "\n",
    "            if np.isnan(m_dist):\n",
    "                continue  # mission distance must be defined\n",
    "\n",
    "            # Determine candidates\n",
    "            if sensor == \"Camera\":\n",
    "                candidates = drone_df.copy()  # all drones allowed\n",
    "            elif np.isnan(s_weight):\n",
    "                # fallback: assume heavy payload, use top 25% heavy drones\n",
    "                min_required = drone_df[\"max_payload_weight\"].quantile(0.75)\n",
    "                candidates = drone_df[drone_df[\"max_payload_weight\"] >= min_required].copy()\n",
    "            else:\n",
    "                candidates = drone_df[drone_df[\"max_payload_weight\"] >= s_weight].copy()\n",
    "\n",
    "            if candidates.empty:\n",
    "                continue\n",
    "\n",
    "            # Evaluate suitability\n",
    "            def eval_row(dr):\n",
    "                note = \"\"\n",
    "                tier = 1e6\n",
    "\n",
    "                # Always check comm range (for all missions)\n",
    "                if dr[\"comm_range\"] < h_dist:\n",
    "                    note = \"Comm range insufficient\"\n",
    "\n",
    "                if dr[\"distance_range\"] >= m_dist:\n",
    "                    tier = 1\n",
    "                    note = \"Full coverage\"\n",
    "                elif dr[\"distance_range\"] >= 0.5 * m_dist:\n",
    "                    tier = 2\n",
    "                    note = \"Needs 2–3 flights\"\n",
    "                elif dr[\"distance_range\"] >= 0.25 * m_dist:\n",
    "                    tier = 3\n",
    "                    note = \"Multiple sweeps\"\n",
    "                else:\n",
    "                    tier = 4\n",
    "                    note = \"Limited coverage\"\n",
    "\n",
    "                # Fallback for long-range/offshore\n",
    "                if h_dist > 500000 and tier == 1e6:\n",
    "                    tier = 5\n",
    "                    note = \"Long-range mission — consider boat or relay\"\n",
    "\n",
    "                return pd.Series([tier, note])\n",
    "\n",
    "            candidates[[\"tier\", \"note\"]] = candidates.apply(eval_row, axis=1)\n",
    "            candidates = candidates[candidates[\"tier\"] < 6].sort_values(\"tier\").head(3)\n",
    "\n",
    "            for j, (_, drone_row) in enumerate(candidates.iterrows()):\n",
    "                chunk.at[i, drone_cols[j]] = drone_row[\"mfc_model\"]\n",
    "                chunk.at[i, note_cols[j]] = drone_row[\"note\"]\n",
    "\n",
    "        results.append(chunk)\n",
    "\n",
    "    return pd.concat(results, ignore_index=True)\n"
   ]
  },
  {
   "cell_type": "code",
   "execution_count": 17,
   "metadata": {},
   "outputs": [],
   "source": [
    "def heartbeat():\n",
    "    while True:\n",
    "        print(\"...still running...\")\n",
    "        time.sleep(30)"
   ]
  },
  {
   "cell_type": "code",
   "execution_count": 18,
   "metadata": {},
   "outputs": [
    {
     "name": "stdout",
     "output_type": "stream",
     "text": [
      "...still running...\n"
     ]
    }
   ],
   "source": [
    "threading.Thread(target=heartbeat, daemon=True).start()"
   ]
  },
  {
   "cell_type": "code",
   "execution_count": null,
   "metadata": {
    "scrolled": true
   },
   "outputs": [
    {
     "name": "stdout",
     "output_type": "stream",
     "text": [
      "🍳 Assigning drones for chunk 0 to 50000...\n",
      "🍳 Assigning drones for chunk 50000 to 100000...\n",
      "🍳 Assigning drones for chunk 100000 to 150000...\n",
      "🍳 Assigning drones for chunk 150000 to 200000...\n",
      "🍳 Assigning drones for chunk 200000 to 250000...\n",
      "🍳 Assigning drones for chunk 250000 to 300000...\n",
      "🍳 Assigning drones for chunk 300000 to 350000...\n",
      "🍳 Assigning drones for chunk 350000 to 400000...\n",
      "🍳 Assigning drones for chunk 400000 to 450000...\n",
      "🍳 Assigning drones for chunk 450000 to 500000...\n",
      "🍳 Assigning drones for chunk 500000 to 550000...\n",
      "🍳 Assigning drones for chunk 550000 to 600000...\n",
      "🍳 Assigning drones for chunk 600000 to 650000...\n",
      "🍳 Assigning drones for chunk 650000 to 700000...\n",
      "🍳 Assigning drones for chunk 700000 to 750000...\n",
      "🍳 Assigning drones for chunk 750000 to 800000...\n",
      "🍳 Assigning drones for chunk 800000 to 850000...\n",
      "🍳 Assigning drones for chunk 850000 to 900000...\n",
      "🍳 Assigning drones for chunk 900000 to 950000...\n",
      "🍳 Assigning drones for chunk 950000 to 1000000...\n",
      "🍳 Assigning drones for chunk 1000000 to 1050000...\n",
      "🍳 Assigning drones for chunk 1050000 to 1100000...\n",
      "🍳 Assigning drones for chunk 1100000 to 1150000...\n",
      "🍳 Assigning drones for chunk 1150000 to 1200000...\n",
      "🍳 Assigning drones for chunk 1200000 to 1250000...\n",
      "🍳 Assigning drones for chunk 1250000 to 1300000...\n",
      "🍳 Assigning drones for chunk 1300000 to 1350000...\n",
      "🍳 Assigning drones for chunk 1350000 to 1400000...\n",
      "🍳 Assigning drones for chunk 1400000 to 1450000...\n",
      "🍳 Assigning drones for chunk 1450000 to 1500000...\n",
      "🍳 Assigning drones for chunk 1500000 to 1550000...\n",
      "🍳 Assigning drones for chunk 1550000 to 1600000...\n",
      "🍳 Assigning drones for chunk 1600000 to 1650000...\n",
      "🍳 Assigning drones for chunk 1650000 to 1700000...\n",
      "🍳 Assigning drones for chunk 1700000 to 1750000...\n",
      "🍳 Assigning drones for chunk 1750000 to 1800000...\n",
      "🍳 Assigning drones for chunk 1800000 to 1850000...\n",
      "🍳 Assigning drones for chunk 1850000 to 1900000...\n",
      "🍳 Assigning drones for chunk 1900000 to 1950000...\n",
      "🍳 Assigning drones for chunk 1950000 to 2000000...\n",
      "🍳 Assigning drones for chunk 2000000 to 2050000...\n",
      "🍳 Assigning drones for chunk 2050000 to 2100000...\n",
      "🍳 Assigning drones for chunk 2100000 to 2150000...\n",
      "🍳 Assigning drones for chunk 2150000 to 2200000...\n",
      "🍳 Assigning drones for chunk 2200000 to 2250000...\n",
      "🍳 Assigning drones for chunk 2250000 to 2300000...\n",
      "🍳 Assigning drones for chunk 2300000 to 2350000...\n",
      "🍳 Assigning drones for chunk 2350000 to 2400000...\n",
      "🍳 Assigning drones for chunk 2400000 to 2450000...\n",
      "🍳 Assigning drones for chunk 2450000 to 2500000...\n",
      "🍳 Assigning drones for chunk 2500000 to 2550000...\n",
      "🍳 Assigning drones for chunk 2550000 to 2600000...\n",
      "🍳 Assigning drones for chunk 2600000 to 2650000...\n",
      "🍳 Assigning drones for chunk 2650000 to 2700000...\n",
      "🍳 Assigning drones for chunk 2700000 to 2750000...\n",
      "🍳 Assigning drones for chunk 2750000 to 2800000...\n",
      "🍳 Assigning drones for chunk 2800000 to 2850000...\n",
      "🍳 Assigning drones for chunk 2850000 to 2900000...\n",
      "🍳 Assigning drones for chunk 2900000 to 2950000...\n",
      "🍳 Assigning drones for chunk 2950000 to 3000000...\n",
      "🍳 Assigning drones for chunk 3000000 to 3050000...\n",
      "🍳 Assigning drones for chunk 3050000 to 3100000...\n",
      "🍳 Assigning drones for chunk 3100000 to 3150000...\n",
      "🍳 Assigning drones for chunk 3150000 to 3200000...\n",
      "🍳 Assigning drones for chunk 3200000 to 3250000...\n",
      "🍳 Assigning drones for chunk 3250000 to 3300000...\n",
      "🍳 Assigning drones for chunk 3300000 to 3350000...\n",
      "🍳 Assigning drones for chunk 3350000 to 3400000...\n",
      "🍳 Assigning drones for chunk 3400000 to 3450000...\n",
      "🍳 Assigning drones for chunk 3450000 to 3500000...\n",
      "🍳 Assigning drones for chunk 3500000 to 3550000...\n",
      "🍳 Assigning drones for chunk 3550000 to 3600000...\n",
      "🍳 Assigning drones for chunk 3600000 to 3650000...\n",
      "🍳 Assigning drones for chunk 3650000 to 3700000...\n",
      "🍳 Assigning drones for chunk 3700000 to 3750000...\n",
      "🍳 Assigning drones for chunk 3750000 to 3800000...\n",
      "🍳 Assigning drones for chunk 3800000 to 3850000...\n",
      "🍳 Assigning drones for chunk 3850000 to 3900000...\n"
     ]
    }
   ],
   "source": [
    "start_time = timeit.default_timer()\n",
    "\n",
    "final_df = batch_assign_best_drones(merged_df, drone_df, chunk_size=50000)\n",
    "\n",
    "elapsed = timeit.default_timer() - start_time\n",
    "print(\"\\u2705 All processing completed! Elapsed time: %s minutes\"%str(elapsed/60))"
   ]
  },
  {
   "cell_type": "code",
   "execution_count": 4,
   "metadata": {},
   "outputs": [],
   "source": [
    "# Define the heartbeat thread function\n",
    "def heartbeat(interval=3600):\n",
    "    while True:\n",
    "        print(f\"⏳ Heartbeat: still running at {time.strftime('%Y-%m-%d %H:%M:%S')}\")\n",
    "        time.sleep(interval)"
   ]
  },
  {
   "cell_type": "code",
   "execution_count": null,
   "metadata": {},
   "outputs": [
    {
     "name": "stdout",
     "output_type": "stream",
     "text": [
      "⏳ Heartbeat: still running at 2025-07-24 16:41:59\n",
      "🍳 Processing rows 0 to 500000\n",
      "🍳 Processing rows 500000 to 1000000\n"
     ]
    }
   ],
   "source": [
    "# Start the background heartbeat thread\n",
    "threading.Thread(target=heartbeat, args=(3600,), daemon=True).start()\n",
    "\n",
    "# Run the main process with timer\n",
    "start_time = timeit.default_timer()\n",
    "\n",
    "assign_top3_drones_grouped_fixed(merged_df, drone_df, save_dir=\"D:/NDIS_Database/19_PostProcessing\")\n",
    "\n",
    "elapsed = timeit.default_timer() - start_time\n",
    "print(\"\\u2705 All processing completed! Elapsed time: %s hour(s)\"%str(elapsed/60/60))"
   ]
  },
  {
   "cell_type": "code",
   "execution_count": 15,
   "metadata": {},
   "outputs": [],
   "source": [
    "def batch_assign_best_drones(merged_df, drone_df, chunk_size=50000, save_dir=\"D:/NDIS_Database/19_PostProcessing\"):\n",
    "    os.makedirs(save_dir, exist_ok=True)\n",
    "\n",
    "    drone_df = drone_df[[\"mfc_model\", \"max_payload_weight\", \"distance_range\", \"comm_range\"]].dropna()\n",
    "    all_results = []\n",
    "\n",
    "    for start in range(0, len(merged_df), chunk_size):\n",
    "        end = min(start + chunk_size, len(merged_df))\n",
    "        chunk = merged_df.iloc[start:end].copy()\n",
    "        print(f\"\\U0001f373 Assigning drones for chunk {start} to {end}...\")\n",
    "\n",
    "        chunk[\"distance\"] = pd.to_numeric(chunk[\"distance\"], errors=\"coerce\")\n",
    "        chunk[\"mission_distance\"] = pd.to_numeric(chunk[\"mission_distance\"], errors=\"coerce\")\n",
    "        chunk[\"sensor_weight\"] = pd.to_numeric(chunk[\"sensor_weight\"], errors=\"coerce\")\n",
    "\n",
    "        drone_cols = [\"drone1\", \"drone2\", \"drone3\"]\n",
    "        note_cols = [\"note1\", \"note2\", \"note3\"]\n",
    "        for col in drone_cols + note_cols:\n",
    "            chunk[col] = None\n",
    "\n",
    "        for i, row in chunk.iterrows():\n",
    "            s_weight = row[\"sensor_weight\"]\n",
    "            h_dist = row[\"distance\"]\n",
    "            m_dist = row[\"mission_distance\"]\n",
    "            sensor = row[\"RecommendedSensor\"]\n",
    "\n",
    "            if np.isnan(h_dist):\n",
    "                h_dist = 999999\n",
    "            if np.isnan(m_dist):\n",
    "                continue\n",
    "\n",
    "            if sensor == \"Camera\":\n",
    "                candidates = drone_df.copy()\n",
    "            elif np.isnan(s_weight):\n",
    "                min_required = drone_df[\"max_payload_weight\"].quantile(0.75)\n",
    "                candidates = drone_df[drone_df[\"max_payload_weight\"] >= min_required].copy()\n",
    "            else:\n",
    "                candidates = drone_df[drone_df[\"max_payload_weight\"] >= s_weight].copy()\n",
    "\n",
    "            if candidates.empty:\n",
    "                continue\n",
    "\n",
    "            def eval_row(dr):\n",
    "                note = \"\"\n",
    "                tier = 1e6\n",
    "                if dr[\"comm_range\"] < h_dist:\n",
    "                    note = \"Comm range insufficient\"\n",
    "                if dr[\"distance_range\"] >= m_dist:\n",
    "                    tier = 1\n",
    "                    note = \"Full coverage\"\n",
    "                elif dr[\"distance_range\"] >= 0.5 * m_dist:\n",
    "                    tier = 2\n",
    "                    note = \"Needs 2–3 flights\"\n",
    "                elif dr[\"distance_range\"] >= 0.25 * m_dist:\n",
    "                    tier = 3\n",
    "                    note = \"Multiple sweeps\"\n",
    "                else:\n",
    "                    tier = 4\n",
    "                    note = \"Limited coverage\"\n",
    "                if h_dist > 500000 and tier == 1e6:\n",
    "                    tier = 5\n",
    "                    note = \"Long-range mission — consider boat or relay\"\n",
    "                return pd.Series([tier, note])\n",
    "\n",
    "            candidates[[\"tier\", \"note\"]] = candidates.apply(eval_row, axis=1)\n",
    "            candidates = candidates[candidates[\"tier\"] < 6].sort_values(\"tier\").head(3)\n",
    "\n",
    "            for j, (_, drone_row) in enumerate(candidates.iterrows()):\n",
    "                chunk.at[i, drone_cols[j]] = drone_row[\"mfc_model\"]\n",
    "                chunk.at[i, note_cols[j]] = drone_row[\"note\"]\n",
    "\n",
    "        # Save intermediate result\n",
    "        out_path = os.path.join(save_dir, f\"drones_chunk_{start}_{end}.feather\")\n",
    "        chunk.reset_index(drop=True).to_feather(out_path)\n",
    "        print(f\"\\u2705 Saved chunk {start} to {end} → {out_path}\")\n",
    "\n",
    "        all_results.append(chunk)\n",
    "        gc.collect()\n",
    "\n",
    "    return pd.concat(all_results, ignore_index=True)"
   ]
  },
  {
   "cell_type": "code",
   "execution_count": 18,
   "metadata": {
    "scrolled": true
   },
   "outputs": [
    {
     "name": "stdout",
     "output_type": "stream",
     "text": [
      "⏳ Heartbeat: still running at 2025-07-24 17:36:44\n",
      "🍳 Assigning drones for chunk 0 to 50000...\n",
      "✅ Saved chunk 0 to 50000 → D:/NDIS_Database/19_PostProcessing\\drones_chunk_0_50000.feather\n",
      "🍳 Assigning drones for chunk 50000 to 100000...\n",
      "✅ Saved chunk 50000 to 100000 → D:/NDIS_Database/19_PostProcessing\\drones_chunk_50000_100000.feather\n",
      "🍳 Assigning drones for chunk 100000 to 150000...\n",
      "✅ Saved chunk 100000 to 150000 → D:/NDIS_Database/19_PostProcessing\\drones_chunk_100000_150000.feather\n",
      "🍳 Assigning drones for chunk 150000 to 200000...\n",
      "✅ Saved chunk 150000 to 200000 → D:/NDIS_Database/19_PostProcessing\\drones_chunk_150000_200000.feather\n",
      "🍳 Assigning drones for chunk 200000 to 250000...\n",
      "⏳ Heartbeat: still running at 2025-07-24 18:36:44\n",
      "✅ Saved chunk 200000 to 250000 → D:/NDIS_Database/19_PostProcessing\\drones_chunk_200000_250000.feather\n",
      "🍳 Assigning drones for chunk 250000 to 300000...\n",
      "✅ Saved chunk 250000 to 300000 → D:/NDIS_Database/19_PostProcessing\\drones_chunk_250000_300000.feather\n",
      "🍳 Assigning drones for chunk 300000 to 350000...\n",
      "✅ Saved chunk 300000 to 350000 → D:/NDIS_Database/19_PostProcessing\\drones_chunk_300000_350000.feather\n",
      "🍳 Assigning drones for chunk 350000 to 400000...\n",
      "✅ Saved chunk 350000 to 400000 → D:/NDIS_Database/19_PostProcessing\\drones_chunk_350000_400000.feather\n",
      "🍳 Assigning drones for chunk 400000 to 450000...\n",
      "⏳ Heartbeat: still running at 2025-07-24 19:36:44\n",
      "✅ Saved chunk 400000 to 450000 → D:/NDIS_Database/19_PostProcessing\\drones_chunk_400000_450000.feather\n",
      "🍳 Assigning drones for chunk 450000 to 500000...\n",
      "✅ Saved chunk 450000 to 500000 → D:/NDIS_Database/19_PostProcessing\\drones_chunk_450000_500000.feather\n",
      "🍳 Assigning drones for chunk 500000 to 550000...\n",
      "✅ Saved chunk 500000 to 550000 → D:/NDIS_Database/19_PostProcessing\\drones_chunk_500000_550000.feather\n",
      "🍳 Assigning drones for chunk 550000 to 600000...\n",
      "✅ Saved chunk 550000 to 600000 → D:/NDIS_Database/19_PostProcessing\\drones_chunk_550000_600000.feather\n",
      "🍳 Assigning drones for chunk 600000 to 650000...\n",
      "✅ Saved chunk 600000 to 650000 → D:/NDIS_Database/19_PostProcessing\\drones_chunk_600000_650000.feather\n",
      "🍳 Assigning drones for chunk 650000 to 700000...\n",
      "⏳ Heartbeat: still running at 2025-07-24 20:36:44\n",
      "✅ Saved chunk 650000 to 700000 → D:/NDIS_Database/19_PostProcessing\\drones_chunk_650000_700000.feather\n",
      "🍳 Assigning drones for chunk 700000 to 750000...\n",
      "✅ Saved chunk 700000 to 750000 → D:/NDIS_Database/19_PostProcessing\\drones_chunk_700000_750000.feather\n",
      "🍳 Assigning drones for chunk 750000 to 800000...\n",
      "✅ Saved chunk 750000 to 800000 → D:/NDIS_Database/19_PostProcessing\\drones_chunk_750000_800000.feather\n",
      "🍳 Assigning drones for chunk 800000 to 850000...\n",
      "✅ Saved chunk 800000 to 850000 → D:/NDIS_Database/19_PostProcessing\\drones_chunk_800000_850000.feather\n",
      "🍳 Assigning drones for chunk 850000 to 900000...\n",
      "⏳ Heartbeat: still running at 2025-07-24 21:36:44\n",
      "✅ Saved chunk 850000 to 900000 → D:/NDIS_Database/19_PostProcessing\\drones_chunk_850000_900000.feather\n",
      "🍳 Assigning drones for chunk 900000 to 950000...\n",
      "✅ Saved chunk 900000 to 950000 → D:/NDIS_Database/19_PostProcessing\\drones_chunk_900000_950000.feather\n",
      "🍳 Assigning drones for chunk 950000 to 1000000...\n",
      "✅ Saved chunk 950000 to 1000000 → D:/NDIS_Database/19_PostProcessing\\drones_chunk_950000_1000000.feather\n",
      "🍳 Assigning drones for chunk 1000000 to 1050000...\n",
      "✅ Saved chunk 1000000 to 1050000 → D:/NDIS_Database/19_PostProcessing\\drones_chunk_1000000_1050000.feather\n",
      "🍳 Assigning drones for chunk 1050000 to 1100000...\n",
      "⏳ Heartbeat: still running at 2025-07-24 22:36:44\n",
      "✅ Saved chunk 1050000 to 1100000 → D:/NDIS_Database/19_PostProcessing\\drones_chunk_1050000_1100000.feather\n",
      "🍳 Assigning drones for chunk 1100000 to 1150000...\n",
      "✅ Saved chunk 1100000 to 1150000 → D:/NDIS_Database/19_PostProcessing\\drones_chunk_1100000_1150000.feather\n",
      "🍳 Assigning drones for chunk 1150000 to 1200000...\n",
      "✅ Saved chunk 1150000 to 1200000 → D:/NDIS_Database/19_PostProcessing\\drones_chunk_1150000_1200000.feather\n",
      "🍳 Assigning drones for chunk 1200000 to 1250000...\n",
      "✅ Saved chunk 1200000 to 1250000 → D:/NDIS_Database/19_PostProcessing\\drones_chunk_1200000_1250000.feather\n",
      "🍳 Assigning drones for chunk 1250000 to 1300000...\n",
      "✅ Saved chunk 1250000 to 1300000 → D:/NDIS_Database/19_PostProcessing\\drones_chunk_1250000_1300000.feather\n",
      "🍳 Assigning drones for chunk 1300000 to 1350000...\n",
      "⏳ Heartbeat: still running at 2025-07-24 23:36:44\n",
      "✅ Saved chunk 1300000 to 1350000 → D:/NDIS_Database/19_PostProcessing\\drones_chunk_1300000_1350000.feather\n",
      "🍳 Assigning drones for chunk 1350000 to 1400000...\n",
      "✅ Saved chunk 1350000 to 1400000 → D:/NDIS_Database/19_PostProcessing\\drones_chunk_1350000_1400000.feather\n",
      "🍳 Assigning drones for chunk 1400000 to 1450000...\n",
      "✅ Saved chunk 1400000 to 1450000 → D:/NDIS_Database/19_PostProcessing\\drones_chunk_1400000_1450000.feather\n",
      "🍳 Assigning drones for chunk 1450000 to 1500000...\n",
      "✅ Saved chunk 1450000 to 1500000 → D:/NDIS_Database/19_PostProcessing\\drones_chunk_1450000_1500000.feather\n",
      "🍳 Assigning drones for chunk 1500000 to 1550000...\n",
      "✅ Saved chunk 1500000 to 1550000 → D:/NDIS_Database/19_PostProcessing\\drones_chunk_1500000_1550000.feather\n",
      "🍳 Assigning drones for chunk 1550000 to 1600000...\n",
      "⏳ Heartbeat: still running at 2025-07-25 00:36:44\n",
      "✅ Saved chunk 1550000 to 1600000 → D:/NDIS_Database/19_PostProcessing\\drones_chunk_1550000_1600000.feather\n",
      "🍳 Assigning drones for chunk 1600000 to 1650000...\n",
      "✅ Saved chunk 1600000 to 1650000 → D:/NDIS_Database/19_PostProcessing\\drones_chunk_1600000_1650000.feather\n",
      "🍳 Assigning drones for chunk 1650000 to 1700000...\n",
      "✅ Saved chunk 1650000 to 1700000 → D:/NDIS_Database/19_PostProcessing\\drones_chunk_1650000_1700000.feather\n",
      "🍳 Assigning drones for chunk 1700000 to 1750000...\n",
      "✅ Saved chunk 1700000 to 1750000 → D:/NDIS_Database/19_PostProcessing\\drones_chunk_1700000_1750000.feather\n",
      "🍳 Assigning drones for chunk 1750000 to 1800000...\n",
      "⏳ Heartbeat: still running at 2025-07-25 01:36:44\n",
      "✅ Saved chunk 1750000 to 1800000 → D:/NDIS_Database/19_PostProcessing\\drones_chunk_1750000_1800000.feather\n",
      "🍳 Assigning drones for chunk 1800000 to 1850000...\n",
      "✅ Saved chunk 1800000 to 1850000 → D:/NDIS_Database/19_PostProcessing\\drones_chunk_1800000_1850000.feather\n",
      "🍳 Assigning drones for chunk 1850000 to 1900000...\n",
      "✅ Saved chunk 1850000 to 1900000 → D:/NDIS_Database/19_PostProcessing\\drones_chunk_1850000_1900000.feather\n",
      "🍳 Assigning drones for chunk 1900000 to 1950000...\n",
      "✅ Saved chunk 1900000 to 1950000 → D:/NDIS_Database/19_PostProcessing\\drones_chunk_1900000_1950000.feather\n",
      "🍳 Assigning drones for chunk 1950000 to 2000000...\n",
      "✅ Saved chunk 1950000 to 2000000 → D:/NDIS_Database/19_PostProcessing\\drones_chunk_1950000_2000000.feather\n",
      "🍳 Assigning drones for chunk 2000000 to 2050000...\n",
      "⏳ Heartbeat: still running at 2025-07-25 02:36:44\n",
      "✅ Saved chunk 2000000 to 2050000 → D:/NDIS_Database/19_PostProcessing\\drones_chunk_2000000_2050000.feather\n",
      "🍳 Assigning drones for chunk 2050000 to 2100000...\n",
      "✅ Saved chunk 2050000 to 2100000 → D:/NDIS_Database/19_PostProcessing\\drones_chunk_2050000_2100000.feather\n",
      "🍳 Assigning drones for chunk 2100000 to 2150000...\n",
      "✅ Saved chunk 2100000 to 2150000 → D:/NDIS_Database/19_PostProcessing\\drones_chunk_2100000_2150000.feather\n",
      "🍳 Assigning drones for chunk 2150000 to 2200000...\n",
      "✅ Saved chunk 2150000 to 2200000 → D:/NDIS_Database/19_PostProcessing\\drones_chunk_2150000_2200000.feather\n",
      "🍳 Assigning drones for chunk 2200000 to 2250000...\n",
      "✅ Saved chunk 2200000 to 2250000 → D:/NDIS_Database/19_PostProcessing\\drones_chunk_2200000_2250000.feather\n",
      "🍳 Assigning drones for chunk 2250000 to 2300000...\n",
      "⏳ Heartbeat: still running at 2025-07-25 03:36:44\n",
      "✅ Saved chunk 2250000 to 2300000 → D:/NDIS_Database/19_PostProcessing\\drones_chunk_2250000_2300000.feather\n",
      "🍳 Assigning drones for chunk 2300000 to 2350000...\n",
      "✅ Saved chunk 2300000 to 2350000 → D:/NDIS_Database/19_PostProcessing\\drones_chunk_2300000_2350000.feather\n",
      "🍳 Assigning drones for chunk 2350000 to 2400000...\n",
      "✅ Saved chunk 2350000 to 2400000 → D:/NDIS_Database/19_PostProcessing\\drones_chunk_2350000_2400000.feather\n",
      "🍳 Assigning drones for chunk 2400000 to 2450000...\n",
      "✅ Saved chunk 2400000 to 2450000 → D:/NDIS_Database/19_PostProcessing\\drones_chunk_2400000_2450000.feather\n",
      "🍳 Assigning drones for chunk 2450000 to 2500000...\n",
      "⏳ Heartbeat: still running at 2025-07-25 04:36:44\n",
      "✅ Saved chunk 2450000 to 2500000 → D:/NDIS_Database/19_PostProcessing\\drones_chunk_2450000_2500000.feather\n",
      "🍳 Assigning drones for chunk 2500000 to 2550000...\n",
      "✅ Saved chunk 2500000 to 2550000 → D:/NDIS_Database/19_PostProcessing\\drones_chunk_2500000_2550000.feather\n",
      "🍳 Assigning drones for chunk 2550000 to 2600000...\n",
      "✅ Saved chunk 2550000 to 2600000 → D:/NDIS_Database/19_PostProcessing\\drones_chunk_2550000_2600000.feather\n",
      "🍳 Assigning drones for chunk 2600000 to 2650000...\n",
      "✅ Saved chunk 2600000 to 2650000 → D:/NDIS_Database/19_PostProcessing\\drones_chunk_2600000_2650000.feather\n",
      "🍳 Assigning drones for chunk 2650000 to 2700000...\n",
      "✅ Saved chunk 2650000 to 2700000 → D:/NDIS_Database/19_PostProcessing\\drones_chunk_2650000_2700000.feather\n",
      "🍳 Assigning drones for chunk 2700000 to 2750000...\n",
      "⏳ Heartbeat: still running at 2025-07-25 05:36:44\n",
      "✅ Saved chunk 2700000 to 2750000 → D:/NDIS_Database/19_PostProcessing\\drones_chunk_2700000_2750000.feather\n",
      "🍳 Assigning drones for chunk 2750000 to 2800000...\n",
      "✅ Saved chunk 2750000 to 2800000 → D:/NDIS_Database/19_PostProcessing\\drones_chunk_2750000_2800000.feather\n",
      "🍳 Assigning drones for chunk 2800000 to 2850000...\n",
      "✅ Saved chunk 2800000 to 2850000 → D:/NDIS_Database/19_PostProcessing\\drones_chunk_2800000_2850000.feather\n",
      "🍳 Assigning drones for chunk 2850000 to 2900000...\n",
      "✅ Saved chunk 2850000 to 2900000 → D:/NDIS_Database/19_PostProcessing\\drones_chunk_2850000_2900000.feather\n",
      "🍳 Assigning drones for chunk 2900000 to 2950000...\n",
      "✅ Saved chunk 2900000 to 2950000 → D:/NDIS_Database/19_PostProcessing\\drones_chunk_2900000_2950000.feather\n",
      "🍳 Assigning drones for chunk 2950000 to 3000000...\n",
      "⏳ Heartbeat: still running at 2025-07-25 06:36:44\n",
      "✅ Saved chunk 2950000 to 3000000 → D:/NDIS_Database/19_PostProcessing\\drones_chunk_2950000_3000000.feather\n",
      "🍳 Assigning drones for chunk 3000000 to 3050000...\n",
      "✅ Saved chunk 3000000 to 3050000 → D:/NDIS_Database/19_PostProcessing\\drones_chunk_3000000_3050000.feather\n",
      "🍳 Assigning drones for chunk 3050000 to 3100000...\n",
      "✅ Saved chunk 3050000 to 3100000 → D:/NDIS_Database/19_PostProcessing\\drones_chunk_3050000_3100000.feather\n",
      "🍳 Assigning drones for chunk 3100000 to 3150000...\n",
      "✅ Saved chunk 3100000 to 3150000 → D:/NDIS_Database/19_PostProcessing\\drones_chunk_3100000_3150000.feather\n",
      "🍳 Assigning drones for chunk 3150000 to 3200000...\n",
      "⏳ Heartbeat: still running at 2025-07-25 07:36:44\n",
      "✅ Saved chunk 3150000 to 3200000 → D:/NDIS_Database/19_PostProcessing\\drones_chunk_3150000_3200000.feather\n",
      "🍳 Assigning drones for chunk 3200000 to 3250000...\n",
      "✅ Saved chunk 3200000 to 3250000 → D:/NDIS_Database/19_PostProcessing\\drones_chunk_3200000_3250000.feather\n",
      "🍳 Assigning drones for chunk 3250000 to 3300000...\n",
      "✅ Saved chunk 3250000 to 3300000 → D:/NDIS_Database/19_PostProcessing\\drones_chunk_3250000_3300000.feather\n",
      "🍳 Assigning drones for chunk 3300000 to 3350000...\n",
      "✅ Saved chunk 3300000 to 3350000 → D:/NDIS_Database/19_PostProcessing\\drones_chunk_3300000_3350000.feather\n",
      "🍳 Assigning drones for chunk 3350000 to 3400000...\n",
      "✅ Saved chunk 3350000 to 3400000 → D:/NDIS_Database/19_PostProcessing\\drones_chunk_3350000_3400000.feather\n",
      "🍳 Assigning drones for chunk 3400000 to 3450000...\n",
      "⏳ Heartbeat: still running at 2025-07-25 08:36:44\n",
      "✅ Saved chunk 3400000 to 3450000 → D:/NDIS_Database/19_PostProcessing\\drones_chunk_3400000_3450000.feather\n",
      "🍳 Assigning drones for chunk 3450000 to 3500000...\n",
      "✅ Saved chunk 3450000 to 3500000 → D:/NDIS_Database/19_PostProcessing\\drones_chunk_3450000_3500000.feather\n",
      "🍳 Assigning drones for chunk 3500000 to 3550000...\n",
      "✅ Saved chunk 3500000 to 3550000 → D:/NDIS_Database/19_PostProcessing\\drones_chunk_3500000_3550000.feather\n",
      "🍳 Assigning drones for chunk 3550000 to 3600000...\n",
      "✅ Saved chunk 3550000 to 3600000 → D:/NDIS_Database/19_PostProcessing\\drones_chunk_3550000_3600000.feather\n",
      "🍳 Assigning drones for chunk 3600000 to 3650000...\n",
      "✅ Saved chunk 3600000 to 3650000 → D:/NDIS_Database/19_PostProcessing\\drones_chunk_3600000_3650000.feather\n",
      "🍳 Assigning drones for chunk 3650000 to 3700000...\n",
      "⏳ Heartbeat: still running at 2025-07-25 09:36:44\n",
      "✅ Saved chunk 3650000 to 3700000 → D:/NDIS_Database/19_PostProcessing\\drones_chunk_3650000_3700000.feather\n",
      "🍳 Assigning drones for chunk 3700000 to 3750000...\n",
      "✅ Saved chunk 3700000 to 3750000 → D:/NDIS_Database/19_PostProcessing\\drones_chunk_3700000_3750000.feather\n",
      "🍳 Assigning drones for chunk 3750000 to 3800000...\n",
      "✅ Saved chunk 3750000 to 3800000 → D:/NDIS_Database/19_PostProcessing\\drones_chunk_3750000_3800000.feather\n",
      "🍳 Assigning drones for chunk 3800000 to 3850000...\n",
      "✅ Saved chunk 3800000 to 3850000 → D:/NDIS_Database/19_PostProcessing\\drones_chunk_3800000_3850000.feather\n",
      "🍳 Assigning drones for chunk 3850000 to 3900000...\n",
      "⏳ Heartbeat: still running at 2025-07-25 10:36:44\n",
      "✅ Saved chunk 3850000 to 3900000 → D:/NDIS_Database/19_PostProcessing\\drones_chunk_3850000_3900000.feather\n",
      "🍳 Assigning drones for chunk 3900000 to 3950000...\n",
      "✅ Saved chunk 3900000 to 3950000 → D:/NDIS_Database/19_PostProcessing\\drones_chunk_3900000_3950000.feather\n",
      "🍳 Assigning drones for chunk 3950000 to 4000000...\n",
      "✅ Saved chunk 3950000 to 4000000 → D:/NDIS_Database/19_PostProcessing\\drones_chunk_3950000_4000000.feather\n",
      "🍳 Assigning drones for chunk 4000000 to 4050000...\n",
      "✅ Saved chunk 4000000 to 4050000 → D:/NDIS_Database/19_PostProcessing\\drones_chunk_4000000_4050000.feather\n",
      "🍳 Assigning drones for chunk 4050000 to 4100000...\n",
      "✅ Saved chunk 4050000 to 4100000 → D:/NDIS_Database/19_PostProcessing\\drones_chunk_4050000_4100000.feather\n",
      "🍳 Assigning drones for chunk 4100000 to 4150000...\n",
      "⏳ Heartbeat: still running at 2025-07-25 11:36:44\n",
      "✅ Saved chunk 4100000 to 4150000 → D:/NDIS_Database/19_PostProcessing\\drones_chunk_4100000_4150000.feather\n",
      "🍳 Assigning drones for chunk 4150000 to 4200000...\n",
      "✅ Saved chunk 4150000 to 4200000 → D:/NDIS_Database/19_PostProcessing\\drones_chunk_4150000_4200000.feather\n",
      "🍳 Assigning drones for chunk 4200000 to 4250000...\n",
      "✅ Saved chunk 4200000 to 4250000 → D:/NDIS_Database/19_PostProcessing\\drones_chunk_4200000_4250000.feather\n",
      "🍳 Assigning drones for chunk 4250000 to 4300000...\n",
      "✅ Saved chunk 4250000 to 4300000 → D:/NDIS_Database/19_PostProcessing\\drones_chunk_4250000_4300000.feather\n",
      "🍳 Assigning drones for chunk 4300000 to 4350000...\n",
      "✅ Saved chunk 4300000 to 4350000 → D:/NDIS_Database/19_PostProcessing\\drones_chunk_4300000_4350000.feather\n",
      "🍳 Assigning drones for chunk 4350000 to 4400000...\n",
      "⏳ Heartbeat: still running at 2025-07-25 12:36:44\n",
      "✅ Saved chunk 4350000 to 4400000 → D:/NDIS_Database/19_PostProcessing\\drones_chunk_4350000_4400000.feather\n",
      "🍳 Assigning drones for chunk 4400000 to 4450000...\n",
      "✅ Saved chunk 4400000 to 4450000 → D:/NDIS_Database/19_PostProcessing\\drones_chunk_4400000_4450000.feather\n",
      "🍳 Assigning drones for chunk 4450000 to 4500000...\n",
      "✅ Saved chunk 4450000 to 4500000 → D:/NDIS_Database/19_PostProcessing\\drones_chunk_4450000_4500000.feather\n",
      "🍳 Assigning drones for chunk 4500000 to 4550000...\n",
      "✅ Saved chunk 4500000 to 4550000 → D:/NDIS_Database/19_PostProcessing\\drones_chunk_4500000_4550000.feather\n",
      "🍳 Assigning drones for chunk 4550000 to 4600000...\n",
      "⏳ Heartbeat: still running at 2025-07-25 13:36:44\n",
      "✅ Saved chunk 4550000 to 4600000 → D:/NDIS_Database/19_PostProcessing\\drones_chunk_4550000_4600000.feather\n",
      "🍳 Assigning drones for chunk 4600000 to 4650000...\n",
      "✅ Saved chunk 4600000 to 4650000 → D:/NDIS_Database/19_PostProcessing\\drones_chunk_4600000_4650000.feather\n",
      "🍳 Assigning drones for chunk 4650000 to 4700000...\n",
      "✅ Saved chunk 4650000 to 4700000 → D:/NDIS_Database/19_PostProcessing\\drones_chunk_4650000_4700000.feather\n",
      "🍳 Assigning drones for chunk 4700000 to 4750000...\n",
      "✅ Saved chunk 4700000 to 4750000 → D:/NDIS_Database/19_PostProcessing\\drones_chunk_4700000_4750000.feather\n",
      "🍳 Assigning drones for chunk 4750000 to 4800000...\n",
      "✅ Saved chunk 4750000 to 4800000 → D:/NDIS_Database/19_PostProcessing\\drones_chunk_4750000_4800000.feather\n",
      "🍳 Assigning drones for chunk 4800000 to 4850000...\n",
      "⏳ Heartbeat: still running at 2025-07-25 14:36:44\n",
      "✅ Saved chunk 4800000 to 4850000 → D:/NDIS_Database/19_PostProcessing\\drones_chunk_4800000_4850000.feather\n",
      "🍳 Assigning drones for chunk 4850000 to 4900000...\n",
      "✅ Saved chunk 4850000 to 4900000 → D:/NDIS_Database/19_PostProcessing\\drones_chunk_4850000_4900000.feather\n",
      "🍳 Assigning drones for chunk 4900000 to 4950000...\n",
      "✅ Saved chunk 4900000 to 4950000 → D:/NDIS_Database/19_PostProcessing\\drones_chunk_4900000_4950000.feather\n",
      "🍳 Assigning drones for chunk 4950000 to 5000000...\n",
      "✅ Saved chunk 4950000 to 5000000 → D:/NDIS_Database/19_PostProcessing\\drones_chunk_4950000_5000000.feather\n",
      "🍳 Assigning drones for chunk 5000000 to 5050000...\n",
      "✅ Saved chunk 5000000 to 5050000 → D:/NDIS_Database/19_PostProcessing\\drones_chunk_5000000_5050000.feather\n",
      "🍳 Assigning drones for chunk 5050000 to 5100000...\n",
      "⏳ Heartbeat: still running at 2025-07-25 15:36:44\n",
      "✅ Saved chunk 5050000 to 5100000 → D:/NDIS_Database/19_PostProcessing\\drones_chunk_5050000_5100000.feather\n",
      "🍳 Assigning drones for chunk 5100000 to 5150000...\n",
      "✅ Saved chunk 5100000 to 5150000 → D:/NDIS_Database/19_PostProcessing\\drones_chunk_5100000_5150000.feather\n",
      "🍳 Assigning drones for chunk 5150000 to 5200000...\n",
      "✅ Saved chunk 5150000 to 5200000 → D:/NDIS_Database/19_PostProcessing\\drones_chunk_5150000_5200000.feather\n",
      "🍳 Assigning drones for chunk 5200000 to 5250000...\n",
      "✅ Saved chunk 5200000 to 5250000 → D:/NDIS_Database/19_PostProcessing\\drones_chunk_5200000_5250000.feather\n",
      "🍳 Assigning drones for chunk 5250000 to 5300000...\n",
      "⏳ Heartbeat: still running at 2025-07-25 16:36:44\n",
      "✅ Saved chunk 5250000 to 5300000 → D:/NDIS_Database/19_PostProcessing\\drones_chunk_5250000_5300000.feather\n",
      "🍳 Assigning drones for chunk 5300000 to 5350000...\n",
      "✅ Saved chunk 5300000 to 5350000 → D:/NDIS_Database/19_PostProcessing\\drones_chunk_5300000_5350000.feather\n",
      "🍳 Assigning drones for chunk 5350000 to 5400000...\n",
      "✅ Saved chunk 5350000 to 5400000 → D:/NDIS_Database/19_PostProcessing\\drones_chunk_5350000_5400000.feather\n",
      "🍳 Assigning drones for chunk 5400000 to 5450000...\n",
      "✅ Saved chunk 5400000 to 5450000 → D:/NDIS_Database/19_PostProcessing\\drones_chunk_5400000_5450000.feather\n",
      "🍳 Assigning drones for chunk 5450000 to 5500000...\n",
      "✅ Saved chunk 5450000 to 5500000 → D:/NDIS_Database/19_PostProcessing\\drones_chunk_5450000_5500000.feather\n",
      "🍳 Assigning drones for chunk 5500000 to 5550000...\n",
      "⏳ Heartbeat: still running at 2025-07-25 17:36:44\n",
      "✅ Saved chunk 5500000 to 5550000 → D:/NDIS_Database/19_PostProcessing\\drones_chunk_5500000_5550000.feather\n",
      "🍳 Assigning drones for chunk 5550000 to 5600000...\n",
      "✅ Saved chunk 5550000 to 5600000 → D:/NDIS_Database/19_PostProcessing\\drones_chunk_5550000_5600000.feather\n",
      "🍳 Assigning drones for chunk 5600000 to 5650000...\n",
      "✅ Saved chunk 5600000 to 5650000 → D:/NDIS_Database/19_PostProcessing\\drones_chunk_5600000_5650000.feather\n",
      "🍳 Assigning drones for chunk 5650000 to 5700000...\n",
      "✅ Saved chunk 5650000 to 5700000 → D:/NDIS_Database/19_PostProcessing\\drones_chunk_5650000_5700000.feather\n",
      "🍳 Assigning drones for chunk 5700000 to 5750000...\n",
      "✅ Saved chunk 5700000 to 5750000 → D:/NDIS_Database/19_PostProcessing\\drones_chunk_5700000_5750000.feather\n",
      "🍳 Assigning drones for chunk 5750000 to 5800000...\n",
      "⏳ Heartbeat: still running at 2025-07-25 18:36:44\n",
      "✅ Saved chunk 5750000 to 5800000 → D:/NDIS_Database/19_PostProcessing\\drones_chunk_5750000_5800000.feather\n",
      "🍳 Assigning drones for chunk 5800000 to 5850000...\n",
      "✅ Saved chunk 5800000 to 5850000 → D:/NDIS_Database/19_PostProcessing\\drones_chunk_5800000_5850000.feather\n",
      "🍳 Assigning drones for chunk 5850000 to 5900000...\n",
      "✅ Saved chunk 5850000 to 5900000 → D:/NDIS_Database/19_PostProcessing\\drones_chunk_5850000_5900000.feather\n",
      "🍳 Assigning drones for chunk 5900000 to 5950000...\n",
      "✅ Saved chunk 5900000 to 5950000 → D:/NDIS_Database/19_PostProcessing\\drones_chunk_5900000_5950000.feather\n",
      "🍳 Assigning drones for chunk 5950000 to 6000000...\n",
      "⏳ Heartbeat: still running at 2025-07-25 19:36:44\n",
      "✅ Saved chunk 5950000 to 6000000 → D:/NDIS_Database/19_PostProcessing\\drones_chunk_5950000_6000000.feather\n",
      "🍳 Assigning drones for chunk 6000000 to 6050000...\n",
      "✅ Saved chunk 6000000 to 6050000 → D:/NDIS_Database/19_PostProcessing\\drones_chunk_6000000_6050000.feather\n",
      "🍳 Assigning drones for chunk 6050000 to 6100000...\n",
      "✅ Saved chunk 6050000 to 6100000 → D:/NDIS_Database/19_PostProcessing\\drones_chunk_6050000_6100000.feather\n",
      "🍳 Assigning drones for chunk 6100000 to 6150000...\n",
      "✅ Saved chunk 6100000 to 6150000 → D:/NDIS_Database/19_PostProcessing\\drones_chunk_6100000_6150000.feather\n",
      "🍳 Assigning drones for chunk 6150000 to 6200000...\n",
      "✅ Saved chunk 6150000 to 6200000 → D:/NDIS_Database/19_PostProcessing\\drones_chunk_6150000_6200000.feather\n",
      "🍳 Assigning drones for chunk 6200000 to 6250000...\n",
      "⏳ Heartbeat: still running at 2025-07-25 20:36:44\n",
      "✅ Saved chunk 6200000 to 6250000 → D:/NDIS_Database/19_PostProcessing\\drones_chunk_6200000_6250000.feather\n",
      "🍳 Assigning drones for chunk 6250000 to 6300000...\n",
      "✅ Saved chunk 6250000 to 6300000 → D:/NDIS_Database/19_PostProcessing\\drones_chunk_6250000_6300000.feather\n",
      "🍳 Assigning drones for chunk 6300000 to 6350000...\n",
      "✅ Saved chunk 6300000 to 6350000 → D:/NDIS_Database/19_PostProcessing\\drones_chunk_6300000_6350000.feather\n",
      "🍳 Assigning drones for chunk 6350000 to 6400000...\n",
      "✅ Saved chunk 6350000 to 6400000 → D:/NDIS_Database/19_PostProcessing\\drones_chunk_6350000_6400000.feather\n",
      "🍳 Assigning drones for chunk 6400000 to 6450000...\n",
      "✅ Saved chunk 6400000 to 6450000 → D:/NDIS_Database/19_PostProcessing\\drones_chunk_6400000_6450000.feather\n",
      "🍳 Assigning drones for chunk 6450000 to 6500000...\n",
      "⏳ Heartbeat: still running at 2025-07-25 21:36:44\n",
      "✅ Saved chunk 6450000 to 6500000 → D:/NDIS_Database/19_PostProcessing\\drones_chunk_6450000_6500000.feather\n",
      "🍳 Assigning drones for chunk 6500000 to 6550000...\n",
      "✅ Saved chunk 6500000 to 6550000 → D:/NDIS_Database/19_PostProcessing\\drones_chunk_6500000_6550000.feather\n",
      "🍳 Assigning drones for chunk 6550000 to 6600000...\n",
      "✅ Saved chunk 6550000 to 6600000 → D:/NDIS_Database/19_PostProcessing\\drones_chunk_6550000_6600000.feather\n",
      "🍳 Assigning drones for chunk 6600000 to 6650000...\n",
      "✅ Saved chunk 6600000 to 6650000 → D:/NDIS_Database/19_PostProcessing\\drones_chunk_6600000_6650000.feather\n",
      "🍳 Assigning drones for chunk 6650000 to 6700000...\n",
      "⏳ Heartbeat: still running at 2025-07-25 22:36:44\n",
      "✅ Saved chunk 6650000 to 6700000 → D:/NDIS_Database/19_PostProcessing\\drones_chunk_6650000_6700000.feather\n",
      "🍳 Assigning drones for chunk 6700000 to 6750000...\n",
      "✅ Saved chunk 6700000 to 6750000 → D:/NDIS_Database/19_PostProcessing\\drones_chunk_6700000_6750000.feather\n",
      "🍳 Assigning drones for chunk 6750000 to 6800000...\n",
      "✅ Saved chunk 6750000 to 6800000 → D:/NDIS_Database/19_PostProcessing\\drones_chunk_6750000_6800000.feather\n",
      "🍳 Assigning drones for chunk 6800000 to 6850000...\n",
      "✅ Saved chunk 6800000 to 6850000 → D:/NDIS_Database/19_PostProcessing\\drones_chunk_6800000_6850000.feather\n",
      "🍳 Assigning drones for chunk 6850000 to 6900000...\n",
      "⏳ Heartbeat: still running at 2025-07-25 23:36:44\n",
      "✅ Saved chunk 6850000 to 6900000 → D:/NDIS_Database/19_PostProcessing\\drones_chunk_6850000_6900000.feather\n",
      "🍳 Assigning drones for chunk 6900000 to 6950000...\n",
      "✅ Saved chunk 6900000 to 6950000 → D:/NDIS_Database/19_PostProcessing\\drones_chunk_6900000_6950000.feather\n",
      "🍳 Assigning drones for chunk 6950000 to 7000000...\n",
      "✅ Saved chunk 6950000 to 7000000 → D:/NDIS_Database/19_PostProcessing\\drones_chunk_6950000_7000000.feather\n",
      "🍳 Assigning drones for chunk 7000000 to 7050000...\n",
      "✅ Saved chunk 7000000 to 7050000 → D:/NDIS_Database/19_PostProcessing\\drones_chunk_7000000_7050000.feather\n",
      "🍳 Assigning drones for chunk 7050000 to 7100000...\n",
      "⏳ Heartbeat: still running at 2025-07-26 00:36:44\n",
      "✅ Saved chunk 7050000 to 7100000 → D:/NDIS_Database/19_PostProcessing\\drones_chunk_7050000_7100000.feather\n",
      "🍳 Assigning drones for chunk 7100000 to 7150000...\n",
      "✅ Saved chunk 7100000 to 7150000 → D:/NDIS_Database/19_PostProcessing\\drones_chunk_7100000_7150000.feather\n",
      "🍳 Assigning drones for chunk 7150000 to 7200000...\n",
      "✅ Saved chunk 7150000 to 7200000 → D:/NDIS_Database/19_PostProcessing\\drones_chunk_7150000_7200000.feather\n",
      "🍳 Assigning drones for chunk 7200000 to 7250000...\n",
      "✅ Saved chunk 7200000 to 7250000 → D:/NDIS_Database/19_PostProcessing\\drones_chunk_7200000_7250000.feather\n",
      "🍳 Assigning drones for chunk 7250000 to 7300000...\n",
      "✅ Saved chunk 7250000 to 7300000 → D:/NDIS_Database/19_PostProcessing\\drones_chunk_7250000_7300000.feather\n",
      "🍳 Assigning drones for chunk 7300000 to 7350000...\n",
      "⏳ Heartbeat: still running at 2025-07-26 01:36:44\n",
      "✅ Saved chunk 7300000 to 7350000 → D:/NDIS_Database/19_PostProcessing\\drones_chunk_7300000_7350000.feather\n",
      "🍳 Assigning drones for chunk 7350000 to 7400000...\n",
      "✅ Saved chunk 7350000 to 7400000 → D:/NDIS_Database/19_PostProcessing\\drones_chunk_7350000_7400000.feather\n",
      "🍳 Assigning drones for chunk 7400000 to 7450000...\n",
      "✅ Saved chunk 7400000 to 7450000 → D:/NDIS_Database/19_PostProcessing\\drones_chunk_7400000_7450000.feather\n",
      "🍳 Assigning drones for chunk 7450000 to 7500000...\n",
      "✅ Saved chunk 7450000 to 7500000 → D:/NDIS_Database/19_PostProcessing\\drones_chunk_7450000_7500000.feather\n",
      "🍳 Assigning drones for chunk 7500000 to 7550000...\n",
      "✅ Saved chunk 7500000 to 7550000 → D:/NDIS_Database/19_PostProcessing\\drones_chunk_7500000_7550000.feather\n",
      "🍳 Assigning drones for chunk 7550000 to 7600000...\n",
      "⏳ Heartbeat: still running at 2025-07-26 02:36:44\n",
      "✅ Saved chunk 7550000 to 7600000 → D:/NDIS_Database/19_PostProcessing\\drones_chunk_7550000_7600000.feather\n",
      "🍳 Assigning drones for chunk 7600000 to 7650000...\n",
      "✅ Saved chunk 7600000 to 7650000 → D:/NDIS_Database/19_PostProcessing\\drones_chunk_7600000_7650000.feather\n",
      "🍳 Assigning drones for chunk 7650000 to 7700000...\n",
      "✅ Saved chunk 7650000 to 7700000 → D:/NDIS_Database/19_PostProcessing\\drones_chunk_7650000_7700000.feather\n",
      "🍳 Assigning drones for chunk 7700000 to 7750000...\n",
      "✅ Saved chunk 7700000 to 7750000 → D:/NDIS_Database/19_PostProcessing\\drones_chunk_7700000_7750000.feather\n",
      "🍳 Assigning drones for chunk 7750000 to 7800000...\n",
      "⏳ Heartbeat: still running at 2025-07-26 03:36:45\n",
      "✅ Saved chunk 7750000 to 7800000 → D:/NDIS_Database/19_PostProcessing\\drones_chunk_7750000_7800000.feather\n",
      "🍳 Assigning drones for chunk 7800000 to 7850000...\n",
      "✅ Saved chunk 7800000 to 7850000 → D:/NDIS_Database/19_PostProcessing\\drones_chunk_7800000_7850000.feather\n",
      "🍳 Assigning drones for chunk 7850000 to 7900000...\n",
      "✅ Saved chunk 7850000 to 7900000 → D:/NDIS_Database/19_PostProcessing\\drones_chunk_7850000_7900000.feather\n",
      "🍳 Assigning drones for chunk 7900000 to 7950000...\n",
      "✅ Saved chunk 7900000 to 7950000 → D:/NDIS_Database/19_PostProcessing\\drones_chunk_7900000_7950000.feather\n",
      "🍳 Assigning drones for chunk 7950000 to 8000000...\n",
      "✅ Saved chunk 7950000 to 8000000 → D:/NDIS_Database/19_PostProcessing\\drones_chunk_7950000_8000000.feather\n",
      "🍳 Assigning drones for chunk 8000000 to 8050000...\n",
      "✅ Saved chunk 8000000 to 8050000 → D:/NDIS_Database/19_PostProcessing\\drones_chunk_8000000_8050000.feather\n",
      "🍳 Assigning drones for chunk 8050000 to 8100000...\n",
      "✅ Saved chunk 8050000 to 8100000 → D:/NDIS_Database/19_PostProcessing\\drones_chunk_8050000_8100000.feather\n",
      "🍳 Assigning drones for chunk 8100000 to 8150000...\n",
      "✅ Saved chunk 8100000 to 8150000 → D:/NDIS_Database/19_PostProcessing\\drones_chunk_8100000_8150000.feather\n",
      "🍳 Assigning drones for chunk 8150000 to 8200000...\n",
      "⏳ Heartbeat: still running at 2025-07-26 04:36:45\n",
      "✅ Saved chunk 8150000 to 8200000 → D:/NDIS_Database/19_PostProcessing\\drones_chunk_8150000_8200000.feather\n",
      "🍳 Assigning drones for chunk 8200000 to 8250000...\n",
      "✅ Saved chunk 8200000 to 8250000 → D:/NDIS_Database/19_PostProcessing\\drones_chunk_8200000_8250000.feather\n",
      "🍳 Assigning drones for chunk 8250000 to 8300000...\n",
      "✅ Saved chunk 8250000 to 8300000 → D:/NDIS_Database/19_PostProcessing\\drones_chunk_8250000_8300000.feather\n",
      "🍳 Assigning drones for chunk 8300000 to 8350000...\n",
      "✅ Saved chunk 8300000 to 8350000 → D:/NDIS_Database/19_PostProcessing\\drones_chunk_8300000_8350000.feather\n",
      "🍳 Assigning drones for chunk 8350000 to 8400000...\n",
      "✅ Saved chunk 8350000 to 8400000 → D:/NDIS_Database/19_PostProcessing\\drones_chunk_8350000_8400000.feather\n",
      "🍳 Assigning drones for chunk 8400000 to 8450000...\n",
      "✅ Saved chunk 8400000 to 8450000 → D:/NDIS_Database/19_PostProcessing\\drones_chunk_8400000_8450000.feather\n",
      "🍳 Assigning drones for chunk 8450000 to 8500000...\n",
      "✅ Saved chunk 8450000 to 8500000 → D:/NDIS_Database/19_PostProcessing\\drones_chunk_8450000_8500000.feather\n",
      "🍳 Assigning drones for chunk 8500000 to 8550000...\n",
      "✅ Saved chunk 8500000 to 8550000 → D:/NDIS_Database/19_PostProcessing\\drones_chunk_8500000_8550000.feather\n",
      "🍳 Assigning drones for chunk 8550000 to 8600000...\n",
      "✅ Saved chunk 8550000 to 8600000 → D:/NDIS_Database/19_PostProcessing\\drones_chunk_8550000_8600000.feather\n",
      "🍳 Assigning drones for chunk 8600000 to 8650000...\n",
      "⏳ Heartbeat: still running at 2025-07-26 05:36:45\n",
      "✅ Saved chunk 8600000 to 8650000 → D:/NDIS_Database/19_PostProcessing\\drones_chunk_8600000_8650000.feather\n",
      "🍳 Assigning drones for chunk 8650000 to 8700000...\n",
      "✅ Saved chunk 8650000 to 8700000 → D:/NDIS_Database/19_PostProcessing\\drones_chunk_8650000_8700000.feather\n",
      "🍳 Assigning drones for chunk 8700000 to 8750000...\n",
      "✅ Saved chunk 8700000 to 8750000 → D:/NDIS_Database/19_PostProcessing\\drones_chunk_8700000_8750000.feather\n",
      "🍳 Assigning drones for chunk 8750000 to 8800000...\n",
      "✅ Saved chunk 8750000 to 8800000 → D:/NDIS_Database/19_PostProcessing\\drones_chunk_8750000_8800000.feather\n",
      "🍳 Assigning drones for chunk 8800000 to 8850000...\n",
      "✅ Saved chunk 8800000 to 8850000 → D:/NDIS_Database/19_PostProcessing\\drones_chunk_8800000_8850000.feather\n",
      "🍳 Assigning drones for chunk 8850000 to 8900000...\n",
      "✅ Saved chunk 8850000 to 8900000 → D:/NDIS_Database/19_PostProcessing\\drones_chunk_8850000_8900000.feather\n",
      "🍳 Assigning drones for chunk 8900000 to 8950000...\n",
      "⏳ Heartbeat: still running at 2025-07-26 06:36:45\n",
      "✅ Saved chunk 8900000 to 8950000 → D:/NDIS_Database/19_PostProcessing\\drones_chunk_8900000_8950000.feather\n",
      "🍳 Assigning drones for chunk 8950000 to 9000000...\n",
      "✅ Saved chunk 8950000 to 9000000 → D:/NDIS_Database/19_PostProcessing\\drones_chunk_8950000_9000000.feather\n",
      "🍳 Assigning drones for chunk 9000000 to 9050000...\n",
      "✅ Saved chunk 9000000 to 9050000 → D:/NDIS_Database/19_PostProcessing\\drones_chunk_9000000_9050000.feather\n",
      "🍳 Assigning drones for chunk 9050000 to 9100000...\n",
      "✅ Saved chunk 9050000 to 9100000 → D:/NDIS_Database/19_PostProcessing\\drones_chunk_9050000_9100000.feather\n",
      "🍳 Assigning drones for chunk 9100000 to 9150000...\n",
      "✅ Saved chunk 9100000 to 9150000 → D:/NDIS_Database/19_PostProcessing\\drones_chunk_9100000_9150000.feather\n",
      "🍳 Assigning drones for chunk 9150000 to 9200000...\n",
      "⏳ Heartbeat: still running at 2025-07-26 07:36:45\n",
      "✅ Saved chunk 9150000 to 9200000 → D:/NDIS_Database/19_PostProcessing\\drones_chunk_9150000_9200000.feather\n",
      "🍳 Assigning drones for chunk 9200000 to 9250000...\n",
      "✅ Saved chunk 9200000 to 9250000 → D:/NDIS_Database/19_PostProcessing\\drones_chunk_9200000_9250000.feather\n",
      "🍳 Assigning drones for chunk 9250000 to 9300000...\n",
      "✅ Saved chunk 9250000 to 9300000 → D:/NDIS_Database/19_PostProcessing\\drones_chunk_9250000_9300000.feather\n",
      "🍳 Assigning drones for chunk 9300000 to 9350000...\n",
      "✅ Saved chunk 9300000 to 9350000 → D:/NDIS_Database/19_PostProcessing\\drones_chunk_9300000_9350000.feather\n",
      "🍳 Assigning drones for chunk 9350000 to 9400000...\n",
      "⏳ Heartbeat: still running at 2025-07-26 08:36:45\n",
      "✅ Saved chunk 9350000 to 9400000 → D:/NDIS_Database/19_PostProcessing\\drones_chunk_9350000_9400000.feather\n",
      "🍳 Assigning drones for chunk 9400000 to 9450000...\n",
      "✅ Saved chunk 9400000 to 9450000 → D:/NDIS_Database/19_PostProcessing\\drones_chunk_9400000_9450000.feather\n",
      "🍳 Assigning drones for chunk 9450000 to 9500000...\n",
      "✅ Saved chunk 9450000 to 9500000 → D:/NDIS_Database/19_PostProcessing\\drones_chunk_9450000_9500000.feather\n",
      "🍳 Assigning drones for chunk 9500000 to 9550000...\n",
      "✅ Saved chunk 9500000 to 9550000 → D:/NDIS_Database/19_PostProcessing\\drones_chunk_9500000_9550000.feather\n",
      "🍳 Assigning drones for chunk 9550000 to 9600000...\n",
      "✅ Saved chunk 9550000 to 9600000 → D:/NDIS_Database/19_PostProcessing\\drones_chunk_9550000_9600000.feather\n",
      "🍳 Assigning drones for chunk 9600000 to 9650000...\n",
      "⏳ Heartbeat: still running at 2025-07-26 09:36:45\n",
      "✅ Saved chunk 9600000 to 9650000 → D:/NDIS_Database/19_PostProcessing\\drones_chunk_9600000_9650000.feather\n",
      "🍳 Assigning drones for chunk 9650000 to 9700000...\n",
      "✅ Saved chunk 9650000 to 9700000 → D:/NDIS_Database/19_PostProcessing\\drones_chunk_9650000_9700000.feather\n",
      "🍳 Assigning drones for chunk 9700000 to 9750000...\n",
      "✅ Saved chunk 9700000 to 9750000 → D:/NDIS_Database/19_PostProcessing\\drones_chunk_9700000_9750000.feather\n",
      "🍳 Assigning drones for chunk 9750000 to 9800000...\n",
      "✅ Saved chunk 9750000 to 9800000 → D:/NDIS_Database/19_PostProcessing\\drones_chunk_9750000_9800000.feather\n",
      "🍳 Assigning drones for chunk 9800000 to 9850000...\n",
      "✅ Saved chunk 9800000 to 9850000 → D:/NDIS_Database/19_PostProcessing\\drones_chunk_9800000_9850000.feather\n",
      "🍳 Assigning drones for chunk 9850000 to 9900000...\n",
      "⏳ Heartbeat: still running at 2025-07-26 10:36:45\n",
      "✅ Saved chunk 9850000 to 9900000 → D:/NDIS_Database/19_PostProcessing\\drones_chunk_9850000_9900000.feather\n",
      "🍳 Assigning drones for chunk 9900000 to 9950000...\n",
      "✅ Saved chunk 9900000 to 9950000 → D:/NDIS_Database/19_PostProcessing\\drones_chunk_9900000_9950000.feather\n",
      "🍳 Assigning drones for chunk 9950000 to 10000000...\n",
      "✅ Saved chunk 9950000 to 10000000 → D:/NDIS_Database/19_PostProcessing\\drones_chunk_9950000_10000000.feather\n",
      "🍳 Assigning drones for chunk 10000000 to 10050000...\n",
      "✅ Saved chunk 10000000 to 10050000 → D:/NDIS_Database/19_PostProcessing\\drones_chunk_10000000_10050000.feather\n",
      "🍳 Assigning drones for chunk 10050000 to 10100000...\n",
      "⏳ Heartbeat: still running at 2025-07-26 11:36:45\n",
      "✅ Saved chunk 10050000 to 10100000 → D:/NDIS_Database/19_PostProcessing\\drones_chunk_10050000_10100000.feather\n",
      "🍳 Assigning drones for chunk 10100000 to 10150000...\n",
      "✅ Saved chunk 10100000 to 10150000 → D:/NDIS_Database/19_PostProcessing\\drones_chunk_10100000_10150000.feather\n",
      "🍳 Assigning drones for chunk 10150000 to 10200000...\n",
      "✅ Saved chunk 10150000 to 10200000 → D:/NDIS_Database/19_PostProcessing\\drones_chunk_10150000_10200000.feather\n",
      "🍳 Assigning drones for chunk 10200000 to 10250000...\n",
      "✅ Saved chunk 10200000 to 10250000 → D:/NDIS_Database/19_PostProcessing\\drones_chunk_10200000_10250000.feather\n",
      "🍳 Assigning drones for chunk 10250000 to 10300000...\n",
      "✅ Saved chunk 10250000 to 10300000 → D:/NDIS_Database/19_PostProcessing\\drones_chunk_10250000_10300000.feather\n",
      "🍳 Assigning drones for chunk 10300000 to 10350000...\n",
      "⏳ Heartbeat: still running at 2025-07-26 12:36:45\n",
      "✅ Saved chunk 10300000 to 10350000 → D:/NDIS_Database/19_PostProcessing\\drones_chunk_10300000_10350000.feather\n",
      "🍳 Assigning drones for chunk 10350000 to 10400000...\n",
      "✅ Saved chunk 10350000 to 10400000 → D:/NDIS_Database/19_PostProcessing\\drones_chunk_10350000_10400000.feather\n",
      "🍳 Assigning drones for chunk 10400000 to 10450000...\n",
      "✅ Saved chunk 10400000 to 10450000 → D:/NDIS_Database/19_PostProcessing\\drones_chunk_10400000_10450000.feather\n",
      "🍳 Assigning drones for chunk 10450000 to 10500000...\n",
      "✅ Saved chunk 10450000 to 10500000 → D:/NDIS_Database/19_PostProcessing\\drones_chunk_10450000_10500000.feather\n",
      "🍳 Assigning drones for chunk 10500000 to 10550000...\n",
      "⏳ Heartbeat: still running at 2025-07-26 13:36:45\n",
      "✅ Saved chunk 10500000 to 10550000 → D:/NDIS_Database/19_PostProcessing\\drones_chunk_10500000_10550000.feather\n",
      "🍳 Assigning drones for chunk 10550000 to 10600000...\n",
      "✅ Saved chunk 10550000 to 10600000 → D:/NDIS_Database/19_PostProcessing\\drones_chunk_10550000_10600000.feather\n",
      "🍳 Assigning drones for chunk 10600000 to 10650000...\n",
      "✅ Saved chunk 10600000 to 10650000 → D:/NDIS_Database/19_PostProcessing\\drones_chunk_10600000_10650000.feather\n",
      "🍳 Assigning drones for chunk 10650000 to 10700000...\n",
      "✅ Saved chunk 10650000 to 10700000 → D:/NDIS_Database/19_PostProcessing\\drones_chunk_10650000_10700000.feather\n",
      "🍳 Assigning drones for chunk 10700000 to 10750000...\n",
      "✅ Saved chunk 10700000 to 10750000 → D:/NDIS_Database/19_PostProcessing\\drones_chunk_10700000_10750000.feather\n",
      "🍳 Assigning drones for chunk 10750000 to 10800000...\n",
      "⏳ Heartbeat: still running at 2025-07-26 14:36:45\n",
      "✅ Saved chunk 10750000 to 10800000 → D:/NDIS_Database/19_PostProcessing\\drones_chunk_10750000_10800000.feather\n",
      "🍳 Assigning drones for chunk 10800000 to 10850000...\n",
      "✅ Saved chunk 10800000 to 10850000 → D:/NDIS_Database/19_PostProcessing\\drones_chunk_10800000_10850000.feather\n",
      "🍳 Assigning drones for chunk 10850000 to 10900000...\n",
      "✅ Saved chunk 10850000 to 10900000 → D:/NDIS_Database/19_PostProcessing\\drones_chunk_10850000_10900000.feather\n",
      "🍳 Assigning drones for chunk 10900000 to 10950000...\n",
      "✅ Saved chunk 10900000 to 10950000 → D:/NDIS_Database/19_PostProcessing\\drones_chunk_10900000_10950000.feather\n",
      "🍳 Assigning drones for chunk 10950000 to 11000000...\n",
      "⏳ Heartbeat: still running at 2025-07-26 15:36:45\n",
      "✅ Saved chunk 10950000 to 11000000 → D:/NDIS_Database/19_PostProcessing\\drones_chunk_10950000_11000000.feather\n",
      "🍳 Assigning drones for chunk 11000000 to 11050000...\n",
      "✅ Saved chunk 11000000 to 11050000 → D:/NDIS_Database/19_PostProcessing\\drones_chunk_11000000_11050000.feather\n",
      "🍳 Assigning drones for chunk 11050000 to 11100000...\n",
      "✅ Saved chunk 11050000 to 11100000 → D:/NDIS_Database/19_PostProcessing\\drones_chunk_11050000_11100000.feather\n",
      "🍳 Assigning drones for chunk 11100000 to 11150000...\n",
      "✅ Saved chunk 11100000 to 11150000 → D:/NDIS_Database/19_PostProcessing\\drones_chunk_11100000_11150000.feather\n",
      "🍳 Assigning drones for chunk 11150000 to 11200000...\n",
      "✅ Saved chunk 11150000 to 11200000 → D:/NDIS_Database/19_PostProcessing\\drones_chunk_11150000_11200000.feather\n",
      "🍳 Assigning drones for chunk 11200000 to 11250000...\n",
      "⏳ Heartbeat: still running at 2025-07-26 16:36:45\n",
      "✅ Saved chunk 11200000 to 11250000 → D:/NDIS_Database/19_PostProcessing\\drones_chunk_11200000_11250000.feather\n",
      "🍳 Assigning drones for chunk 11250000 to 11300000...\n",
      "✅ Saved chunk 11250000 to 11300000 → D:/NDIS_Database/19_PostProcessing\\drones_chunk_11250000_11300000.feather\n",
      "🍳 Assigning drones for chunk 11300000 to 11350000...\n",
      "✅ Saved chunk 11300000 to 11350000 → D:/NDIS_Database/19_PostProcessing\\drones_chunk_11300000_11350000.feather\n",
      "🍳 Assigning drones for chunk 11350000 to 11400000...\n",
      "✅ Saved chunk 11350000 to 11400000 → D:/NDIS_Database/19_PostProcessing\\drones_chunk_11350000_11400000.feather\n",
      "🍳 Assigning drones for chunk 11400000 to 11450000...\n",
      "⏳ Heartbeat: still running at 2025-07-26 17:36:45\n",
      "✅ Saved chunk 11400000 to 11450000 → D:/NDIS_Database/19_PostProcessing\\drones_chunk_11400000_11450000.feather\n",
      "🍳 Assigning drones for chunk 11450000 to 11500000...\n",
      "✅ Saved chunk 11450000 to 11500000 → D:/NDIS_Database/19_PostProcessing\\drones_chunk_11450000_11500000.feather\n",
      "🍳 Assigning drones for chunk 11500000 to 11550000...\n",
      "✅ Saved chunk 11500000 to 11550000 → D:/NDIS_Database/19_PostProcessing\\drones_chunk_11500000_11550000.feather\n",
      "🍳 Assigning drones for chunk 11550000 to 11600000...\n",
      "✅ Saved chunk 11550000 to 11600000 → D:/NDIS_Database/19_PostProcessing\\drones_chunk_11550000_11600000.feather\n",
      "🍳 Assigning drones for chunk 11600000 to 11650000...\n",
      "⏳ Heartbeat: still running at 2025-07-26 18:36:45\n",
      "✅ Saved chunk 11600000 to 11650000 → D:/NDIS_Database/19_PostProcessing\\drones_chunk_11600000_11650000.feather\n",
      "🍳 Assigning drones for chunk 11650000 to 11700000...\n",
      "✅ Saved chunk 11650000 to 11700000 → D:/NDIS_Database/19_PostProcessing\\drones_chunk_11650000_11700000.feather\n",
      "🍳 Assigning drones for chunk 11700000 to 11750000...\n",
      "✅ Saved chunk 11700000 to 11750000 → D:/NDIS_Database/19_PostProcessing\\drones_chunk_11700000_11750000.feather\n",
      "🍳 Assigning drones for chunk 11750000 to 11800000...\n",
      "✅ Saved chunk 11750000 to 11800000 → D:/NDIS_Database/19_PostProcessing\\drones_chunk_11750000_11800000.feather\n",
      "🍳 Assigning drones for chunk 11800000 to 11850000...\n",
      "⏳ Heartbeat: still running at 2025-07-26 19:36:45\n",
      "✅ Saved chunk 11800000 to 11850000 → D:/NDIS_Database/19_PostProcessing\\drones_chunk_11800000_11850000.feather\n",
      "🍳 Assigning drones for chunk 11850000 to 11900000...\n",
      "✅ Saved chunk 11850000 to 11900000 → D:/NDIS_Database/19_PostProcessing\\drones_chunk_11850000_11900000.feather\n",
      "🍳 Assigning drones for chunk 11900000 to 11950000...\n",
      "✅ Saved chunk 11900000 to 11950000 → D:/NDIS_Database/19_PostProcessing\\drones_chunk_11900000_11950000.feather\n",
      "🍳 Assigning drones for chunk 11950000 to 12000000...\n",
      "✅ Saved chunk 11950000 to 12000000 → D:/NDIS_Database/19_PostProcessing\\drones_chunk_11950000_12000000.feather\n",
      "🍳 Assigning drones for chunk 12000000 to 12050000...\n",
      "⏳ Heartbeat: still running at 2025-07-26 20:36:45\n",
      "✅ Saved chunk 12000000 to 12050000 → D:/NDIS_Database/19_PostProcessing\\drones_chunk_12000000_12050000.feather\n",
      "🍳 Assigning drones for chunk 12050000 to 12100000...\n",
      "✅ Saved chunk 12050000 to 12100000 → D:/NDIS_Database/19_PostProcessing\\drones_chunk_12050000_12100000.feather\n",
      "🍳 Assigning drones for chunk 12100000 to 12150000...\n",
      "✅ Saved chunk 12100000 to 12150000 → D:/NDIS_Database/19_PostProcessing\\drones_chunk_12100000_12150000.feather\n",
      "🍳 Assigning drones for chunk 12150000 to 12200000...\n",
      "✅ Saved chunk 12150000 to 12200000 → D:/NDIS_Database/19_PostProcessing\\drones_chunk_12150000_12200000.feather\n",
      "🍳 Assigning drones for chunk 12200000 to 12250000...\n",
      "⏳ Heartbeat: still running at 2025-07-26 21:36:45\n",
      "✅ Saved chunk 12200000 to 12250000 → D:/NDIS_Database/19_PostProcessing\\drones_chunk_12200000_12250000.feather\n",
      "🍳 Assigning drones for chunk 12250000 to 12300000...\n",
      "✅ Saved chunk 12250000 to 12300000 → D:/NDIS_Database/19_PostProcessing\\drones_chunk_12250000_12300000.feather\n",
      "🍳 Assigning drones for chunk 12300000 to 12350000...\n",
      "✅ Saved chunk 12300000 to 12350000 → D:/NDIS_Database/19_PostProcessing\\drones_chunk_12300000_12350000.feather\n",
      "🍳 Assigning drones for chunk 12350000 to 12400000...\n",
      "✅ Saved chunk 12350000 to 12400000 → D:/NDIS_Database/19_PostProcessing\\drones_chunk_12350000_12400000.feather\n",
      "🍳 Assigning drones for chunk 12400000 to 12450000...\n",
      "⏳ Heartbeat: still running at 2025-07-26 22:36:45\n",
      "✅ Saved chunk 12400000 to 12450000 → D:/NDIS_Database/19_PostProcessing\\drones_chunk_12400000_12450000.feather\n",
      "🍳 Assigning drones for chunk 12450000 to 12500000...\n",
      "✅ Saved chunk 12450000 to 12500000 → D:/NDIS_Database/19_PostProcessing\\drones_chunk_12450000_12500000.feather\n",
      "🍳 Assigning drones for chunk 12500000 to 12550000...\n",
      "✅ Saved chunk 12500000 to 12550000 → D:/NDIS_Database/19_PostProcessing\\drones_chunk_12500000_12550000.feather\n",
      "🍳 Assigning drones for chunk 12550000 to 12600000...\n",
      "✅ Saved chunk 12550000 to 12600000 → D:/NDIS_Database/19_PostProcessing\\drones_chunk_12550000_12600000.feather\n",
      "🍳 Assigning drones for chunk 12600000 to 12650000...\n",
      "✅ Saved chunk 12600000 to 12650000 → D:/NDIS_Database/19_PostProcessing\\drones_chunk_12600000_12650000.feather\n",
      "🍳 Assigning drones for chunk 12650000 to 12700000...\n",
      "⏳ Heartbeat: still running at 2025-07-26 23:36:45\n",
      "✅ Saved chunk 12650000 to 12700000 → D:/NDIS_Database/19_PostProcessing\\drones_chunk_12650000_12700000.feather\n",
      "🍳 Assigning drones for chunk 12700000 to 12750000...\n",
      "✅ Saved chunk 12700000 to 12750000 → D:/NDIS_Database/19_PostProcessing\\drones_chunk_12700000_12750000.feather\n",
      "🍳 Assigning drones for chunk 12750000 to 12800000...\n",
      "✅ Saved chunk 12750000 to 12800000 → D:/NDIS_Database/19_PostProcessing\\drones_chunk_12750000_12800000.feather\n",
      "🍳 Assigning drones for chunk 12800000 to 12850000...\n",
      "✅ Saved chunk 12800000 to 12850000 → D:/NDIS_Database/19_PostProcessing\\drones_chunk_12800000_12850000.feather\n",
      "🍳 Assigning drones for chunk 12850000 to 12900000...\n",
      "✅ Saved chunk 12850000 to 12900000 → D:/NDIS_Database/19_PostProcessing\\drones_chunk_12850000_12900000.feather\n",
      "🍳 Assigning drones for chunk 12900000 to 12950000...\n",
      "⏳ Heartbeat: still running at 2025-07-27 00:36:45\n",
      "✅ Saved chunk 12900000 to 12950000 → D:/NDIS_Database/19_PostProcessing\\drones_chunk_12900000_12950000.feather\n",
      "🍳 Assigning drones for chunk 12950000 to 13000000...\n",
      "✅ Saved chunk 12950000 to 13000000 → D:/NDIS_Database/19_PostProcessing\\drones_chunk_12950000_13000000.feather\n",
      "🍳 Assigning drones for chunk 13000000 to 13050000...\n",
      "✅ Saved chunk 13000000 to 13050000 → D:/NDIS_Database/19_PostProcessing\\drones_chunk_13000000_13050000.feather\n",
      "🍳 Assigning drones for chunk 13050000 to 13100000...\n",
      "✅ Saved chunk 13050000 to 13100000 → D:/NDIS_Database/19_PostProcessing\\drones_chunk_13050000_13100000.feather\n",
      "🍳 Assigning drones for chunk 13100000 to 13150000...\n",
      "⏳ Heartbeat: still running at 2025-07-27 01:36:45\n",
      "✅ Saved chunk 13100000 to 13150000 → D:/NDIS_Database/19_PostProcessing\\drones_chunk_13100000_13150000.feather\n",
      "🍳 Assigning drones for chunk 13150000 to 13200000...\n",
      "✅ Saved chunk 13150000 to 13200000 → D:/NDIS_Database/19_PostProcessing\\drones_chunk_13150000_13200000.feather\n",
      "🍳 Assigning drones for chunk 13200000 to 13250000...\n",
      "✅ Saved chunk 13200000 to 13250000 → D:/NDIS_Database/19_PostProcessing\\drones_chunk_13200000_13250000.feather\n",
      "🍳 Assigning drones for chunk 13250000 to 13300000...\n",
      "✅ Saved chunk 13250000 to 13300000 → D:/NDIS_Database/19_PostProcessing\\drones_chunk_13250000_13300000.feather\n",
      "🍳 Assigning drones for chunk 13300000 to 13350000...\n",
      "✅ Saved chunk 13300000 to 13350000 → D:/NDIS_Database/19_PostProcessing\\drones_chunk_13300000_13350000.feather\n",
      "🍳 Assigning drones for chunk 13350000 to 13400000...\n",
      "⏳ Heartbeat: still running at 2025-07-27 02:36:45\n",
      "✅ Saved chunk 13350000 to 13400000 → D:/NDIS_Database/19_PostProcessing\\drones_chunk_13350000_13400000.feather\n",
      "🍳 Assigning drones for chunk 13400000 to 13450000...\n",
      "✅ Saved chunk 13400000 to 13450000 → D:/NDIS_Database/19_PostProcessing\\drones_chunk_13400000_13450000.feather\n",
      "🍳 Assigning drones for chunk 13450000 to 13500000...\n",
      "✅ Saved chunk 13450000 to 13500000 → D:/NDIS_Database/19_PostProcessing\\drones_chunk_13450000_13500000.feather\n",
      "🍳 Assigning drones for chunk 13500000 to 13550000...\n",
      "✅ Saved chunk 13500000 to 13550000 → D:/NDIS_Database/19_PostProcessing\\drones_chunk_13500000_13550000.feather\n",
      "🍳 Assigning drones for chunk 13550000 to 13600000...\n",
      "✅ Saved chunk 13550000 to 13600000 → D:/NDIS_Database/19_PostProcessing\\drones_chunk_13550000_13600000.feather\n",
      "🍳 Assigning drones for chunk 13600000 to 13650000...\n",
      "⏳ Heartbeat: still running at 2025-07-27 03:36:45\n",
      "✅ Saved chunk 13600000 to 13650000 → D:/NDIS_Database/19_PostProcessing\\drones_chunk_13600000_13650000.feather\n",
      "🍳 Assigning drones for chunk 13650000 to 13700000...\n",
      "✅ Saved chunk 13650000 to 13700000 → D:/NDIS_Database/19_PostProcessing\\drones_chunk_13650000_13700000.feather\n",
      "🍳 Assigning drones for chunk 13700000 to 13750000...\n",
      "✅ Saved chunk 13700000 to 13750000 → D:/NDIS_Database/19_PostProcessing\\drones_chunk_13700000_13750000.feather\n",
      "🍳 Assigning drones for chunk 13750000 to 13800000...\n",
      "✅ Saved chunk 13750000 to 13800000 → D:/NDIS_Database/19_PostProcessing\\drones_chunk_13750000_13800000.feather\n",
      "🍳 Assigning drones for chunk 13800000 to 13850000...\n",
      "⏳ Heartbeat: still running at 2025-07-27 04:36:45\n",
      "✅ Saved chunk 13800000 to 13850000 → D:/NDIS_Database/19_PostProcessing\\drones_chunk_13800000_13850000.feather\n",
      "🍳 Assigning drones for chunk 13850000 to 13900000...\n",
      "✅ Saved chunk 13850000 to 13900000 → D:/NDIS_Database/19_PostProcessing\\drones_chunk_13850000_13900000.feather\n",
      "🍳 Assigning drones for chunk 13900000 to 13950000...\n",
      "✅ Saved chunk 13900000 to 13950000 → D:/NDIS_Database/19_PostProcessing\\drones_chunk_13900000_13950000.feather\n",
      "🍳 Assigning drones for chunk 13950000 to 14000000...\n",
      "✅ Saved chunk 13950000 to 14000000 → D:/NDIS_Database/19_PostProcessing\\drones_chunk_13950000_14000000.feather\n",
      "🍳 Assigning drones for chunk 14000000 to 14050000...\n",
      "✅ Saved chunk 14000000 to 14050000 → D:/NDIS_Database/19_PostProcessing\\drones_chunk_14000000_14050000.feather\n",
      "🍳 Assigning drones for chunk 14050000 to 14100000...\n",
      "⏳ Heartbeat: still running at 2025-07-27 05:36:45\n",
      "✅ Saved chunk 14050000 to 14100000 → D:/NDIS_Database/19_PostProcessing\\drones_chunk_14050000_14100000.feather\n",
      "🍳 Assigning drones for chunk 14100000 to 14150000...\n",
      "✅ Saved chunk 14100000 to 14150000 → D:/NDIS_Database/19_PostProcessing\\drones_chunk_14100000_14150000.feather\n",
      "🍳 Assigning drones for chunk 14150000 to 14200000...\n",
      "✅ Saved chunk 14150000 to 14200000 → D:/NDIS_Database/19_PostProcessing\\drones_chunk_14150000_14200000.feather\n",
      "🍳 Assigning drones for chunk 14200000 to 14250000...\n",
      "✅ Saved chunk 14200000 to 14250000 → D:/NDIS_Database/19_PostProcessing\\drones_chunk_14200000_14250000.feather\n",
      "🍳 Assigning drones for chunk 14250000 to 14300000...\n",
      "⏳ Heartbeat: still running at 2025-07-27 06:36:45\n",
      "✅ Saved chunk 14250000 to 14300000 → D:/NDIS_Database/19_PostProcessing\\drones_chunk_14250000_14300000.feather\n",
      "🍳 Assigning drones for chunk 14300000 to 14350000...\n",
      "✅ Saved chunk 14300000 to 14350000 → D:/NDIS_Database/19_PostProcessing\\drones_chunk_14300000_14350000.feather\n",
      "🍳 Assigning drones for chunk 14350000 to 14400000...\n",
      "✅ Saved chunk 14350000 to 14400000 → D:/NDIS_Database/19_PostProcessing\\drones_chunk_14350000_14400000.feather\n",
      "🍳 Assigning drones for chunk 14400000 to 14450000...\n",
      "✅ Saved chunk 14400000 to 14450000 → D:/NDIS_Database/19_PostProcessing\\drones_chunk_14400000_14450000.feather\n",
      "🍳 Assigning drones for chunk 14450000 to 14500000...\n",
      "✅ Saved chunk 14450000 to 14500000 → D:/NDIS_Database/19_PostProcessing\\drones_chunk_14450000_14500000.feather\n",
      "🍳 Assigning drones for chunk 14500000 to 14550000...\n",
      "⏳ Heartbeat: still running at 2025-07-27 07:36:45\n",
      "✅ Saved chunk 14500000 to 14550000 → D:/NDIS_Database/19_PostProcessing\\drones_chunk_14500000_14550000.feather\n",
      "🍳 Assigning drones for chunk 14550000 to 14600000...\n",
      "✅ Saved chunk 14550000 to 14600000 → D:/NDIS_Database/19_PostProcessing\\drones_chunk_14550000_14600000.feather\n",
      "🍳 Assigning drones for chunk 14600000 to 14650000...\n",
      "✅ Saved chunk 14600000 to 14650000 → D:/NDIS_Database/19_PostProcessing\\drones_chunk_14600000_14650000.feather\n",
      "🍳 Assigning drones for chunk 14650000 to 14700000...\n",
      "✅ Saved chunk 14650000 to 14700000 → D:/NDIS_Database/19_PostProcessing\\drones_chunk_14650000_14700000.feather\n",
      "🍳 Assigning drones for chunk 14700000 to 14750000...\n",
      "✅ Saved chunk 14700000 to 14750000 → D:/NDIS_Database/19_PostProcessing\\drones_chunk_14700000_14750000.feather\n",
      "🍳 Assigning drones for chunk 14750000 to 14800000...\n",
      "⏳ Heartbeat: still running at 2025-07-27 08:36:45\n",
      "✅ Saved chunk 14750000 to 14800000 → D:/NDIS_Database/19_PostProcessing\\drones_chunk_14750000_14800000.feather\n",
      "🍳 Assigning drones for chunk 14800000 to 14850000...\n",
      "✅ Saved chunk 14800000 to 14850000 → D:/NDIS_Database/19_PostProcessing\\drones_chunk_14800000_14850000.feather\n",
      "🍳 Assigning drones for chunk 14850000 to 14900000...\n",
      "✅ Saved chunk 14850000 to 14900000 → D:/NDIS_Database/19_PostProcessing\\drones_chunk_14850000_14900000.feather\n",
      "🍳 Assigning drones for chunk 14900000 to 14950000...\n",
      "✅ Saved chunk 14900000 to 14950000 → D:/NDIS_Database/19_PostProcessing\\drones_chunk_14900000_14950000.feather\n",
      "🍳 Assigning drones for chunk 14950000 to 15000000...\n",
      "⏳ Heartbeat: still running at 2025-07-27 09:36:45\n",
      "✅ Saved chunk 14950000 to 15000000 → D:/NDIS_Database/19_PostProcessing\\drones_chunk_14950000_15000000.feather\n",
      "🍳 Assigning drones for chunk 15000000 to 15050000...\n",
      "✅ Saved chunk 15000000 to 15050000 → D:/NDIS_Database/19_PostProcessing\\drones_chunk_15000000_15050000.feather\n",
      "🍳 Assigning drones for chunk 15050000 to 15100000...\n",
      "✅ Saved chunk 15050000 to 15100000 → D:/NDIS_Database/19_PostProcessing\\drones_chunk_15050000_15100000.feather\n",
      "🍳 Assigning drones for chunk 15100000 to 15150000...\n",
      "✅ Saved chunk 15100000 to 15150000 → D:/NDIS_Database/19_PostProcessing\\drones_chunk_15100000_15150000.feather\n",
      "🍳 Assigning drones for chunk 15150000 to 15200000...\n",
      "✅ Saved chunk 15150000 to 15200000 → D:/NDIS_Database/19_PostProcessing\\drones_chunk_15150000_15200000.feather\n",
      "🍳 Assigning drones for chunk 15200000 to 15250000...\n",
      "⏳ Heartbeat: still running at 2025-07-27 10:36:45\n",
      "✅ Saved chunk 15200000 to 15250000 → D:/NDIS_Database/19_PostProcessing\\drones_chunk_15200000_15250000.feather\n",
      "🍳 Assigning drones for chunk 15250000 to 15300000...\n",
      "✅ Saved chunk 15250000 to 15300000 → D:/NDIS_Database/19_PostProcessing\\drones_chunk_15250000_15300000.feather\n",
      "🍳 Assigning drones for chunk 15300000 to 15350000...\n",
      "✅ Saved chunk 15300000 to 15350000 → D:/NDIS_Database/19_PostProcessing\\drones_chunk_15300000_15350000.feather\n",
      "🍳 Assigning drones for chunk 15350000 to 15400000...\n",
      "✅ Saved chunk 15350000 to 15400000 → D:/NDIS_Database/19_PostProcessing\\drones_chunk_15350000_15400000.feather\n",
      "🍳 Assigning drones for chunk 15400000 to 15450000...\n",
      "✅ Saved chunk 15400000 to 15450000 → D:/NDIS_Database/19_PostProcessing\\drones_chunk_15400000_15450000.feather\n",
      "🍳 Assigning drones for chunk 15450000 to 15500000...\n",
      "⏳ Heartbeat: still running at 2025-07-27 11:36:45\n",
      "✅ Saved chunk 15450000 to 15500000 → D:/NDIS_Database/19_PostProcessing\\drones_chunk_15450000_15500000.feather\n",
      "🍳 Assigning drones for chunk 15500000 to 15550000...\n",
      "✅ Saved chunk 15500000 to 15550000 → D:/NDIS_Database/19_PostProcessing\\drones_chunk_15500000_15550000.feather\n",
      "🍳 Assigning drones for chunk 15550000 to 15600000...\n",
      "✅ Saved chunk 15550000 to 15600000 → D:/NDIS_Database/19_PostProcessing\\drones_chunk_15550000_15600000.feather\n",
      "🍳 Assigning drones for chunk 15600000 to 15650000...\n",
      "✅ Saved chunk 15600000 to 15650000 → D:/NDIS_Database/19_PostProcessing\\drones_chunk_15600000_15650000.feather\n",
      "🍳 Assigning drones for chunk 15650000 to 15700000...\n",
      "⏳ Heartbeat: still running at 2025-07-27 12:36:45\n",
      "✅ Saved chunk 15650000 to 15700000 → D:/NDIS_Database/19_PostProcessing\\drones_chunk_15650000_15700000.feather\n",
      "🍳 Assigning drones for chunk 15700000 to 15750000...\n",
      "✅ Saved chunk 15700000 to 15750000 → D:/NDIS_Database/19_PostProcessing\\drones_chunk_15700000_15750000.feather\n",
      "🍳 Assigning drones for chunk 15750000 to 15800000...\n",
      "✅ Saved chunk 15750000 to 15800000 → D:/NDIS_Database/19_PostProcessing\\drones_chunk_15750000_15800000.feather\n",
      "🍳 Assigning drones for chunk 15800000 to 15850000...\n",
      "✅ Saved chunk 15800000 to 15850000 → D:/NDIS_Database/19_PostProcessing\\drones_chunk_15800000_15850000.feather\n",
      "🍳 Assigning drones for chunk 15850000 to 15900000...\n",
      "⏳ Heartbeat: still running at 2025-07-27 13:36:45\n",
      "✅ Saved chunk 15850000 to 15900000 → D:/NDIS_Database/19_PostProcessing\\drones_chunk_15850000_15900000.feather\n",
      "🍳 Assigning drones for chunk 15900000 to 15950000...\n",
      "✅ Saved chunk 15900000 to 15950000 → D:/NDIS_Database/19_PostProcessing\\drones_chunk_15900000_15950000.feather\n",
      "🍳 Assigning drones for chunk 15950000 to 16000000...\n",
      "✅ Saved chunk 15950000 to 16000000 → D:/NDIS_Database/19_PostProcessing\\drones_chunk_15950000_16000000.feather\n",
      "🍳 Assigning drones for chunk 16000000 to 16050000...\n",
      "✅ Saved chunk 16000000 to 16050000 → D:/NDIS_Database/19_PostProcessing\\drones_chunk_16000000_16050000.feather\n",
      "🍳 Assigning drones for chunk 16050000 to 16100000...\n",
      "⏳ Heartbeat: still running at 2025-07-27 14:36:45\n",
      "✅ Saved chunk 16050000 to 16100000 → D:/NDIS_Database/19_PostProcessing\\drones_chunk_16050000_16100000.feather\n",
      "🍳 Assigning drones for chunk 16100000 to 16150000...\n",
      "✅ Saved chunk 16100000 to 16150000 → D:/NDIS_Database/19_PostProcessing\\drones_chunk_16100000_16150000.feather\n",
      "🍳 Assigning drones for chunk 16150000 to 16200000...\n",
      "✅ Saved chunk 16150000 to 16200000 → D:/NDIS_Database/19_PostProcessing\\drones_chunk_16150000_16200000.feather\n",
      "🍳 Assigning drones for chunk 16200000 to 16250000...\n",
      "✅ Saved chunk 16200000 to 16250000 → D:/NDIS_Database/19_PostProcessing\\drones_chunk_16200000_16250000.feather\n",
      "🍳 Assigning drones for chunk 16250000 to 16300000...\n",
      "⏳ Heartbeat: still running at 2025-07-27 15:36:45\n",
      "✅ Saved chunk 16250000 to 16300000 → D:/NDIS_Database/19_PostProcessing\\drones_chunk_16250000_16300000.feather\n",
      "🍳 Assigning drones for chunk 16300000 to 16350000...\n",
      "✅ Saved chunk 16300000 to 16350000 → D:/NDIS_Database/19_PostProcessing\\drones_chunk_16300000_16350000.feather\n",
      "🍳 Assigning drones for chunk 16350000 to 16400000...\n",
      "✅ Saved chunk 16350000 to 16400000 → D:/NDIS_Database/19_PostProcessing\\drones_chunk_16350000_16400000.feather\n",
      "🍳 Assigning drones for chunk 16400000 to 16450000...\n",
      "⏳ Heartbeat: still running at 2025-07-27 16:36:45\n",
      "✅ Saved chunk 16400000 to 16450000 → D:/NDIS_Database/19_PostProcessing\\drones_chunk_16400000_16450000.feather\n",
      "🍳 Assigning drones for chunk 16450000 to 16500000...\n",
      "✅ Saved chunk 16450000 to 16500000 → D:/NDIS_Database/19_PostProcessing\\drones_chunk_16450000_16500000.feather\n",
      "🍳 Assigning drones for chunk 16500000 to 16550000...\n",
      "✅ Saved chunk 16500000 to 16550000 → D:/NDIS_Database/19_PostProcessing\\drones_chunk_16500000_16550000.feather\n",
      "🍳 Assigning drones for chunk 16550000 to 16600000...\n",
      "✅ Saved chunk 16550000 to 16600000 → D:/NDIS_Database/19_PostProcessing\\drones_chunk_16550000_16600000.feather\n",
      "🍳 Assigning drones for chunk 16600000 to 16650000...\n",
      "⏳ Heartbeat: still running at 2025-07-27 17:36:45\n",
      "✅ Saved chunk 16600000 to 16650000 → D:/NDIS_Database/19_PostProcessing\\drones_chunk_16600000_16650000.feather\n",
      "🍳 Assigning drones for chunk 16650000 to 16700000...\n",
      "✅ Saved chunk 16650000 to 16700000 → D:/NDIS_Database/19_PostProcessing\\drones_chunk_16650000_16700000.feather\n",
      "🍳 Assigning drones for chunk 16700000 to 16750000...\n",
      "✅ Saved chunk 16700000 to 16750000 → D:/NDIS_Database/19_PostProcessing\\drones_chunk_16700000_16750000.feather\n",
      "🍳 Assigning drones for chunk 16750000 to 16800000...\n",
      "✅ Saved chunk 16750000 to 16800000 → D:/NDIS_Database/19_PostProcessing\\drones_chunk_16750000_16800000.feather\n",
      "🍳 Assigning drones for chunk 16800000 to 16850000...\n",
      "✅ Saved chunk 16800000 to 16850000 → D:/NDIS_Database/19_PostProcessing\\drones_chunk_16800000_16850000.feather\n",
      "🍳 Assigning drones for chunk 16850000 to 16900000...\n",
      "⏳ Heartbeat: still running at 2025-07-27 18:36:45\n",
      "✅ Saved chunk 16850000 to 16900000 → D:/NDIS_Database/19_PostProcessing\\drones_chunk_16850000_16900000.feather\n",
      "🍳 Assigning drones for chunk 16900000 to 16950000...\n",
      "✅ Saved chunk 16900000 to 16950000 → D:/NDIS_Database/19_PostProcessing\\drones_chunk_16900000_16950000.feather\n",
      "🍳 Assigning drones for chunk 16950000 to 16998132...\n",
      "✅ Saved chunk 16950000 to 16998132 → D:/NDIS_Database/19_PostProcessing\\drones_chunk_16950000_16998132.feather\n",
      "✅ All processing completed! Elapsed time: 4418.338891106666 minutes\n"
     ]
    }
   ],
   "source": [
    "# Start the background heartbeat thread\n",
    "threading.Thread(target=heartbeat, args=(3600,), daemon=True).start()\n",
    "\n",
    "# Run the main process with timer\n",
    "start_time = timeit.default_timer()\n",
    "\n",
    "final_df = batch_assign_best_drones(merged_df, drone_df, chunk_size=50000)\n",
    "\n",
    "elapsed = timeit.default_timer() - start_time\n",
    "print(\"\\u2705 All processing completed! Elapsed time: %s minutes\"%str(elapsed/60))"
   ]
  },
  {
   "cell_type": "code",
   "execution_count": 19,
   "metadata": {},
   "outputs": [
    {
     "name": "stdout",
     "output_type": "stream",
     "text": [
      "🥚 Merged 340 chunks and saved to → D:/NDIS_Database/19_PostProcessing\\drones_full_result.feather\n"
     ]
    }
   ],
   "source": [
    "# Define the directory where feather files are saved\n",
    "feather_dir = \"D:/NDIS_Database/19_PostProcessing\"\n",
    "merged_output_path = os.path.join(feather_dir, \"drones_full_result.feather\")\n",
    "\n",
    "# List all feather files in the directory (make sure they're in correct order)\n",
    "feather_files = sorted([f for f in os.listdir(feather_dir) if f.endswith(\".feather\") and f.startswith(\"drones_chunk_\")])\n",
    "\n",
    "# Load and concatenate all feather chunks\n",
    "chunks = [pd.read_feather(os.path.join(feather_dir, f)) for f in feather_files]\n",
    "final_df = pd.concat(chunks, ignore_index=True)\n",
    "\n",
    "# Save the final merged file\n",
    "final_df.to_feather(merged_output_path)\n",
    "print(f\"🥚 Merged {len(chunks)} chunks and saved to → {merged_output_path}\")"
   ]
  },
  {
   "cell_type": "code",
   "execution_count": 20,
   "metadata": {},
   "outputs": [
    {
     "name": "stdout",
     "output_type": "stream",
     "text": [
      "<class 'pandas.core.frame.DataFrame'>\n",
      "RangeIndex: 16998132 entries, 0 to 16998131\n",
      "Data columns (total 16 columns):\n",
      " #   Column             Dtype  \n",
      "---  ------             -----  \n",
      " 0   HazardID           int64  \n",
      " 1   HazardType         object \n",
      " 2   latitude           float64\n",
      " 3   longitude          float64\n",
      " 4   DisasterPhase      object \n",
      " 5   RecommendedSensor  object \n",
      " 6   sensor_weight      int64  \n",
      " 7   sensor_model       object \n",
      " 8   distance           float64\n",
      " 9   mission_distance   float64\n",
      " 10  drone1             object \n",
      " 11  drone2             object \n",
      " 12  drone3             object \n",
      " 13  note1              object \n",
      " 14  note2              object \n",
      " 15  note3              object \n",
      "dtypes: float64(4), int64(2), object(10)\n",
      "memory usage: 2.0+ GB\n"
     ]
    }
   ],
   "source": [
    "final_df.info()"
   ]
  },
  {
   "cell_type": "code",
   "execution_count": 29,
   "metadata": {},
   "outputs": [
    {
     "name": "stdout",
     "output_type": "stream",
     "text": [
      "Sensor weights: [1000   18    5  430 3300  800 1500]\n",
      "RecommendedSensors: ['Seismic' 'Magnetometers' 'Camera' 'LiDAR' 'BPR' 'Thermal Camera' 'GPR'\n",
      " 'Gamma Spectrometer']\n",
      "disaster phases: ['Pre-Event' 'During' 'Post-Event' 'Clean-Up']\n"
     ]
    }
   ],
   "source": [
    "print(f\"Sensor weights: {final_df.sensor_weight.unique()}\")\n",
    "print(f\"RecommendedSensors: {final_df.RecommendedSensor.unique()}\")\n",
    "print(f\"disaster phases: {final_df.DisasterPhase.unique()}\")"
   ]
  },
  {
   "cell_type": "code",
   "execution_count": 31,
   "metadata": {},
   "outputs": [
    {
     "data": {
      "text/plain": [
       "array([False,  True])"
      ]
     },
     "execution_count": 31,
     "metadata": {},
     "output_type": "execute_result"
    }
   ],
   "source": [
    "final_df.mission_distance.isna().unique()"
   ]
  },
  {
   "cell_type": "code",
   "execution_count": 23,
   "metadata": {},
   "outputs": [
    {
     "data": {
      "text/plain": [
       "array(['MMC Griflion M8', 'Freespace Operation Callisto 50 Multirotor',\n",
       "       'ACSL PF2-AE Delivery/Disaster-Relief/Patrol/Inspection',\n",
       "       'AEE Aviation Technology G10', 'Drone Volt Hercules 10',\n",
       "       'Skydio X2', 'AeroSense Aerobo Wing (AS-VT01)',\n",
       "       'Aerialtronics Altura Zenith ATX8', 'IDEAFLY Poseidon-480 Pro II',\n",
       "       'Aerosonde Ltd AAI Aerosonde Mk 4.3', 'DJI Matrice200SeriesV2',\n",
       "       'EAMS E484MP', None, 'IDEAFLY Thor-850',\n",
       "       'Atlas Aerospace AtlasPRO', 'HG Robotics VETAL', 'DJI FlyCart 30',\n",
       "       'Draganfly Innovations Inc Starling X.2', 'DJI AgrasT20',\n",
       "       'DJI S900'], dtype=object)"
      ]
     },
     "execution_count": 23,
     "metadata": {},
     "output_type": "execute_result"
    }
   ],
   "source": [
    "final_df.drone3.unique()"
   ]
  },
  {
   "cell_type": "code",
   "execution_count": 24,
   "metadata": {},
   "outputs": [
    {
     "data": {
      "text/plain": [
       "array(['Aerosonde Ltd AAI Aerosonde Mk 4.3', 'MMC Griflion M8', None,\n",
       "       'Drone Volt Hercules 10', 'Acecore Neo X8', 'DJI AgrasT20',\n",
       "       'AEE Aviation Technology G10'], dtype=object)"
      ]
     },
     "execution_count": 24,
     "metadata": {},
     "output_type": "execute_result"
    }
   ],
   "source": [
    "final_df.drone1.unique()"
   ]
  },
  {
   "cell_type": "code",
   "execution_count": 25,
   "metadata": {},
   "outputs": [
    {
     "data": {
      "text/plain": [
       "array(['AEE Aviation Technology G10', 'MMC Griflion M8', 'ACSL SOTEN',\n",
       "       'Freespace Operation Callisto 50 Multirotor', 'Skydio X2E',\n",
       "       'Drone Volt Hercules 10', 'IDEAFLY Thor-850',\n",
       "       'Aerosonde Ltd AAI Aerosonde Mk 4.3',\n",
       "       'AEE Aviation Technology F6000', None, 'DJI S900',\n",
       "       'JTT Spider C85', 'AeroSense Aerobo Wing (AS-VT01)',\n",
       "       'ACSL AirTruck', 'Aerialtronics Altura Zenith ATX8',\n",
       "       'DJI AgrasT20'], dtype=object)"
      ]
     },
     "execution_count": 25,
     "metadata": {},
     "output_type": "execute_result"
    }
   ],
   "source": [
    "final_df.drone2.unique()"
   ]
  },
  {
   "cell_type": "markdown",
   "metadata": {},
   "source": [
    "-----\n",
    "3.8.1\n",
    "-----"
   ]
  },
  {
   "cell_type": "code",
   "execution_count": 5,
   "metadata": {},
   "outputs": [
    {
     "name": "stdout",
     "output_type": "stream",
     "text": [
      "<class 'pandas.core.frame.DataFrame'>\n",
      "RangeIndex: 16998132 entries, 0 to 16998131\n",
      "Data columns (total 14 columns):\n",
      " #   Column             Dtype  \n",
      "---  ------             -----  \n",
      " 0   HazardID           int64  \n",
      " 1   HazardType         object \n",
      " 2   latitude           float64\n",
      " 3   longitude          float64\n",
      " 4   DisasterPhase      object \n",
      " 5   RecommendedSensor  object \n",
      " 6   sensor_weight      int64  \n",
      " 7   sensor_model       object \n",
      " 8   distance           float64\n",
      " 9   mission_distance   float64\n",
      " 10  travel_time        float64\n",
      " 11  monitor_time       float64\n",
      " 12  setup_buffer       float64\n",
      " 13  cpm_total_time     float64\n",
      "dtypes: float64(8), int64(2), object(4)\n",
      "memory usage: 1.8+ GB\n"
     ]
    }
   ],
   "source": [
    "# Load feather file\n",
    "ghz_with_cpm = pd.read_feather(r\"D:\\NDIS_Database\\20_PaperSimulation\\ghz_with_cpm_v1.feather\")\n",
    "ghz_with_cpm.info()"
   ]
  },
  {
   "cell_type": "code",
   "execution_count": 47,
   "metadata": {},
   "outputs": [],
   "source": [
    "def batch_assign_best_drones(merged_df, drone_df, chunk_size=50000, save_dir=\"D:/NDIS_Database/19_PostProcessing\"):\n",
    "    os.makedirs(save_dir, exist_ok=True)\n",
    "\n",
    "    drone_df = drone_df[[\"mfc_model\", \"max_payload_weight\", \"distance_range\", \"comm_range\"]].dropna()\n",
    "    all_results = []\n",
    "\n",
    "    for start in range(0, len(merged_df), chunk_size):\n",
    "        end = min(start + chunk_size, len(merged_df))\n",
    "        chunk = merged_df.iloc[start:end].copy()\n",
    "        print(f\"\\U0001f373 Assigning drones for chunk {start} to {end}...\")\n",
    "\n",
    "        chunk[\"distance\"] = pd.to_numeric(chunk[\"distance\"], errors=\"coerce\")\n",
    "        chunk[\"mission_distance\"] = pd.to_numeric(chunk[\"mission_distance\"], errors=\"coerce\")\n",
    "        chunk[\"sensor_weight\"] = pd.to_numeric(chunk[\"sensor_weight\"], errors=\"coerce\")\n",
    "\n",
    "        drone_cols = [\"drone1\", \"drone2\", \"drone3\"]\n",
    "        note_cols = [\"note1\", \"note2\", \"note3\"]\n",
    "        for col in drone_cols + note_cols:\n",
    "            chunk[col] = None\n",
    "\n",
    "        for i, row in chunk.iterrows():\n",
    "            s_weight = row[\"sensor_weight\"]\n",
    "            h_dist = row[\"distance\"]\n",
    "            m_dist = row[\"mission_distance\"]\n",
    "            sensor = row[\"RecommendedSensor\"]\n",
    "\n",
    "            try:\n",
    "                h_dist = float(h_dist)\n",
    "            except:\n",
    "                h_dist = np.nan\n",
    "            try:\n",
    "                m_dist = float(m_dist)\n",
    "            except:\n",
    "                m_dist = np.nan\n",
    "\n",
    "            if sensor == \"Camera\":\n",
    "                candidates = drone_df.copy()\n",
    "            elif pd.isna(s_weight):\n",
    "                min_required = drone_df[\"max_payload_weight\"].quantile(0.75)\n",
    "                candidates = drone_df[drone_df[\"max_payload_weight\"] >= min_required].copy()\n",
    "            else:\n",
    "                candidates = drone_df[drone_df[\"max_payload_weight\"] >= s_weight].copy()\n",
    "\n",
    "            if candidates.empty:\n",
    "                continue\n",
    "\n",
    "            def eval_row(dr):\n",
    "                note = \"\"\n",
    "                tier = 6\n",
    "                if not pd.isna(h_dist) and dr[\"comm_range\"] < h_dist:\n",
    "                    note = \"Comm range insufficient\"\n",
    "                if not pd.isna(m_dist):\n",
    "                    if dr[\"distance_range\"] >= m_dist:\n",
    "                        tier = 1\n",
    "                        note = \"Full coverage\"\n",
    "                    elif dr[\"distance_range\"] >= 0.5 * m_dist:\n",
    "                        tier = 2\n",
    "                        note = \"Needs 2–3 flights\"\n",
    "                    elif dr[\"distance_range\"] >= 0.25 * m_dist:\n",
    "                        tier = 3\n",
    "                        note = \"Multiple sweeps\"\n",
    "                    elif h_dist > 300000:\n",
    "                        tier = 4\n",
    "                        note = \"Fallback: long range mission, relay/boat likely\"\n",
    "                else:\n",
    "                    tier = 5\n",
    "                    note = \"Fallback: distance unknown, payload match only\"\n",
    "                return pd.Series([tier, note])\n",
    "\n",
    "            candidates[[\"tier\", \"note\"]] = candidates.apply(eval_row, axis=1)\n",
    "            candidates = candidates[candidates[\"tier\"] < 6].sort_values(by=[\"tier\", \"max_payload_weight\"])\n",
    "\n",
    "            # If no match at all, force fallback by payload match only\n",
    "            if candidates.empty and not pd.isna(s_weight):\n",
    "                fallback = drone_df[drone_df[\"max_payload_weight\"] >= s_weight].copy()\n",
    "                fallback[\"note\"] = \"Force-deployed; no range match\"\n",
    "                fallback[\"tier\"] = 5\n",
    "                candidates = fallback.sort_values(\"max_payload_weight\").head(3)\n",
    "\n",
    "            # Get top 3 distinct drone models\n",
    "            selected = []\n",
    "            used_models = set()\n",
    "            for _, drone_row in candidates.iterrows():\n",
    "                model = drone_row[\"mfc_model\"]\n",
    "                if model not in used_models:\n",
    "                    selected.append((model, drone_row[\"note\"]))\n",
    "                    used_models.add(model)\n",
    "                if len(selected) == 3:\n",
    "                    break\n",
    "\n",
    "            for j in range(len(selected)):\n",
    "                chunk.at[i, drone_cols[j]] = selected[j][0]\n",
    "                chunk.at[i, note_cols[j]] = selected[j][1]\n",
    "\n",
    "        # Save intermediate result\n",
    "        out_path = os.path.join(save_dir, f\"drones_chunk_{start}_{end}.feather\")\n",
    "        chunk.reset_index(drop=True).to_feather(out_path)\n",
    "        print(f\"\\u2705 Saved chunk {start} to {end} → {out_path}\")\n",
    "\n",
    "        all_results.append(chunk)\n",
    "        gc.collect()\n",
    "\n",
    "    return pd.concat(all_results, ignore_index=True)"
   ]
  },
  {
   "cell_type": "code",
   "execution_count": 7,
   "metadata": {},
   "outputs": [
    {
     "name": "stdout",
     "output_type": "stream",
     "text": [
      "<class 'pandas.core.frame.DataFrame'>\n",
      "Index: 50000 entries, 2628958 to 3317030\n",
      "Data columns (total 14 columns):\n",
      " #   Column             Non-Null Count  Dtype  \n",
      "---  ------             --------------  -----  \n",
      " 0   HazardID           50000 non-null  int64  \n",
      " 1   HazardType         50000 non-null  object \n",
      " 2   latitude           50000 non-null  float64\n",
      " 3   longitude          50000 non-null  float64\n",
      " 4   DisasterPhase      50000 non-null  object \n",
      " 5   RecommendedSensor  50000 non-null  object \n",
      " 6   sensor_weight      50000 non-null  int64  \n",
      " 7   sensor_model       50000 non-null  object \n",
      " 8   distance           47042 non-null  float64\n",
      " 9   mission_distance   50000 non-null  float64\n",
      " 10  travel_time        47042 non-null  float64\n",
      " 11  monitor_time       50000 non-null  float64\n",
      " 12  setup_buffer       50000 non-null  float64\n",
      " 13  cpm_total_time     47042 non-null  float64\n",
      "dtypes: float64(8), int64(2), object(4)\n",
      "memory usage: 5.7+ MB\n"
     ]
    }
   ],
   "source": [
    "sample = ghz_with_cpm.sample(50000, random_state=42)\n",
    "sample.info()"
   ]
  },
  {
   "cell_type": "code",
   "execution_count": 42,
   "metadata": {},
   "outputs": [],
   "source": [
    "def batch_assign_best_drones_with_usage(merged_df, drone_df, chunk_size=50000, save_dir=r\"D:\\NDIS_Database\\20_PaperSimulation\"):\n",
    "    os.makedirs(save_dir, exist_ok=True)\n",
    "\n",
    "    drone_df = drone_df[[\"mfc_model\", \"max_payload_weight\", \"distance_range\", \"comm_range\"]].dropna()\n",
    "    drone_df = drone_df.drop_duplicates(\"mfc_model\").reset_index(drop=True)\n",
    "\n",
    "    drone_usage = defaultdict(int)  # Track how often each drone is used\n",
    "\n",
    "    all_chunks = []\n",
    "\n",
    "    for start in range(0, len(merged_df), chunk_size):\n",
    "        end = min(start + chunk_size, len(merged_df))\n",
    "        chunk = merged_df.iloc[start:end].copy()\n",
    "        print(f\"🚁 Processing chunk {start} to {end}...\")\n",
    "\n",
    "        chunk[\"distance\"] = pd.to_numeric(chunk[\"distance\"], errors=\"coerce\")\n",
    "        chunk[\"mission_distance\"] = pd.to_numeric(chunk[\"mission_distance\"], errors=\"coerce\")\n",
    "        chunk[\"sensor_weight\"] = pd.to_numeric(chunk[\"sensor_weight\"], errors=\"coerce\")\n",
    "\n",
    "        for col in [\"drone1\", \"drone2\", \"drone3\", \"note1\", \"note2\", \"note3\"]:\n",
    "            chunk[col] = None\n",
    "\n",
    "        for i, row in tqdm(chunk.iterrows(), total=len(chunk), desc=f\"Matching drones {start}-{end}\"):\n",
    "\n",
    "            s_weight = row[\"sensor_weight\"]\n",
    "            h_dist = row[\"distance\"]\n",
    "            m_dist = row[\"mission_distance\"]\n",
    "            sensor = row[\"RecommendedSensor\"]\n",
    "\n",
    "            if np.isnan(h_dist):\n",
    "                h_dist = 999999\n",
    "                ocean_flag = True\n",
    "            else:\n",
    "                ocean_flag = False\n",
    "\n",
    "            if np.isnan(m_dist):\n",
    "                m_dist = h_dist\n",
    "\n",
    "            if pd.isna(s_weight):\n",
    "                continue\n",
    "\n",
    "            # Step 1: Filter by payload\n",
    "            suitable_drones = drone_df[drone_df[\"max_payload_weight\"] >= s_weight].copy()\n",
    "            if suitable_drones.empty:\n",
    "                continue\n",
    "\n",
    "            # Step 2: Assign coverage tier\n",
    "            def score_drone(dr):\n",
    "                note = \"\"\n",
    "                tier = 5  # default: lowest tier\n",
    "                if dr[\"comm_range\"] < h_dist:\n",
    "                    note = \"Comm range insufficient\"\n",
    "                if dr[\"distance_range\"] >= m_dist:\n",
    "                    tier = 1\n",
    "                    note = \"Full coverage\"\n",
    "                elif dr[\"distance_range\"] >= 0.5 * m_dist:\n",
    "                    tier = 2\n",
    "                    note = \"2–3 swaths\"\n",
    "                elif dr[\"distance_range\"] >= 0.25 * m_dist:\n",
    "                    tier = 3\n",
    "                    note = \"Multiple flights\"\n",
    "                elif h_dist > 300000:\n",
    "                    tier = 4\n",
    "                    note = \"Fallback: Consider boat/relay\"\n",
    "                else:\n",
    "                    note = \"Fallback: Coverage limited\"\n",
    "                return pd.Series([tier, note])\n",
    "\n",
    "            suitable_drones[[\"tier\", \"note\"]] = suitable_drones.apply(score_drone, axis=1)\n",
    "\n",
    "            # Step 3: Compute usage priority\n",
    "            suitable_drones[\"usage_count\"] = suitable_drones[\"mfc_model\"].map(drone_usage)\n",
    "            suitable_drones[\"payload_gap\"] = suitable_drones[\"max_payload_weight\"] - s_weight\n",
    "            suitable_drones[\"payload_gap\"] = suitable_drones[\"payload_gap\"].apply(lambda x: x if x >= 0 else 9999)\n",
    "\n",
    "            # Step 4: Sort by tier, then usage count, then closest payload match\n",
    "            ranked = suitable_drones.sort_values(by=[\"tier\", \"usage_count\", \"payload_gap\"]).drop_duplicates(\"mfc_model\")\n",
    "\n",
    "            if ranked.empty:\n",
    "                continue\n",
    "\n",
    "            top3 = ranked.head(3)\n",
    "\n",
    "            for j, (_, drone_row) in enumerate(top3.iterrows()):\n",
    "                model = drone_row[\"mfc_model\"]\n",
    "                note = drone_row[\"note\"]\n",
    "                chunk.at[i, f\"drone{j+1}\"] = model\n",
    "                chunk.at[i, f\"note{j+1}\"] = note if not ocean_flag else \"Likely ocean — distance unknown\"\n",
    "                drone_usage[model] += 1\n",
    "\n",
    "        # Save\n",
    "        out_path = os.path.join(save_dir, f\"drones_chunk_{start}_{end}.feather\")\n",
    "        chunk.reset_index(drop=True).to_feather(out_path)\n",
    "        print(f\"✅ Saved: {out_path}\")\n",
    "        all_chunks.append(chunk)\n",
    "        gc.collect()\n",
    "\n",
    "    final_df = pd.concat(all_chunks, ignore_index=True)\n",
    "    return final_df\n"
   ]
  },
  {
   "cell_type": "code",
   "execution_count": 43,
   "metadata": {},
   "outputs": [
    {
     "name": "stdout",
     "output_type": "stream",
     "text": [
      "⏳ Heartbeat: still running at 2025-07-29 21:12:46\n",
      "🚁 Processing chunk 0 to 50000...\n"
     ]
    },
    {
     "name": "stderr",
     "output_type": "stream",
     "text": [
      "Matching drones 0-50000:  91%|█████████ | 45329/50000 [18:04<01:47, 43.47it/s]"
     ]
    },
    {
     "name": "stdout",
     "output_type": "stream",
     "text": [
      "⏳ Heartbeat: still running at 2025-07-29 21:30:50\n"
     ]
    },
    {
     "name": "stderr",
     "output_type": "stream",
     "text": [
      "Matching drones 0-50000: 100%|██████████| 50000/50000 [19:52<00:00, 41.94it/s]﻿\n"
     ]
    },
    {
     "name": "stdout",
     "output_type": "stream",
     "text": [
      "✅ Saved: D:\\NDIS_Database\\20_PaperSimulation\\drones_chunk_0_50000.feather\n",
      "🚁 Processing chunk 50000 to 100000...\n"
     ]
    },
    {
     "name": "stderr",
     "output_type": "stream",
     "text": [
      "Matching drones 50000-100000:  70%|██████▉   | 34898/50000 [13:27<05:47, 43.51it/s]"
     ]
    },
    {
     "name": "stdout",
     "output_type": "stream",
     "text": [
      "⏳ Heartbeat: still running at 2025-07-29 21:46:06\n"
     ]
    },
    {
     "name": "stderr",
     "output_type": "stream",
     "text": [
      "Matching drones 50000-100000:  71%|███████▏  | 35679/50000 [13:44<05:26, 43.88it/s]"
     ]
    },
    {
     "name": "stdout",
     "output_type": "stream",
     "text": [
      "⏳ Heartbeat: still running at 2025-07-29 21:46:23\n"
     ]
    },
    {
     "name": "stderr",
     "output_type": "stream",
     "text": [
      "Matching drones 50000-100000: 100%|██████████| 50000/50000 [19:12<00:00, 43.37it/s]﻿\n"
     ]
    },
    {
     "name": "stdout",
     "output_type": "stream",
     "text": [
      "✅ Saved: D:\\NDIS_Database\\20_PaperSimulation\\drones_chunk_50000_100000.feather\n",
      "✅ All processing completed! Elapsed time: 39.09670818500066 minutes\n"
     ]
    }
   ],
   "source": [
    "# Start the background heartbeat thread\n",
    "threading.Thread(target=heartbeat, args=(3600,), daemon=True).start()\n",
    "\n",
    "# Run the main process with timer\n",
    "start_time = timeit.default_timer()\n",
    "\n",
    "final_df = batch_assign_best_drones_with_usage(sample, drone_df, chunk_size=50000)\n",
    "\n",
    "elapsed = timeit.default_timer() - start_time\n",
    "print(\"\\u2705 All processing completed! Elapsed time: %s minutes\"%str(elapsed/60))"
   ]
  },
  {
   "cell_type": "code",
   "execution_count": 59,
   "metadata": {},
   "outputs": [
    {
     "data": {
      "text/plain": [
       "52"
      ]
     },
     "execution_count": 59,
     "metadata": {},
     "output_type": "execute_result"
    }
   ],
   "source": [
    "len(final_df.drone1.unique())"
   ]
  },
  {
   "cell_type": "code",
   "execution_count": 60,
   "metadata": {},
   "outputs": [
    {
     "data": {
      "text/plain": [
       "array(['ACSL SOTEN', 'Skydio X2D', 'Skydio X2E',\n",
       "       'Garuda Robotics Cerana ONE Pro', 'MMC Griflion M8',\n",
       "       'AEE Aviation Technology MACH4-5G', 'Drone Volt Heliplane LRS240',\n",
       "       'AeroSense Aerobo Wing (AS-VT01)', 'Atlas Aerospace AvalanchePRO',\n",
       "       'WingtraOne Gen II', 'Skydio X2', 'MAVTech MH100',\n",
       "       'Atlas Aerospace AtlasPRO', 'Draganfly Innovations Inc Commander2',\n",
       "       'JOUAV CW-007', 'DJI Matrice100', 'HG Robotics VETAL',\n",
       "       'ACSL PF2-AE Delivery/Disaster-Relief/Patrol/Inspection',\n",
       "       'AeroSense Aerobo PPK (AS-MC03-PPK)',\n",
       "       'Autel Robotics Dragonfish Lite', 'Skydio 2+',\n",
       "       'Doosan Mobility Dj25', 'Skydio 2', 'Skydio 2A',\n",
       "       'Edall Systems SPIDEX 600 MKI', 'Microdrones EasyOne',\n",
       "       'Skydio X10', 'brinc drones Lemur 2', 'Drona Aviation Pluto X',\n",
       "       'Autel Robotics Dragonfish Standard',\n",
       "       'Edall Systems NAKSHYA VTOL ', 'MAVTech AGRI 1900',\n",
       "       'Avular Vertex One', 'Italdron Titan LE', 'Italdron Titan XLE',\n",
       "       'Italdron Levante', 'Draganfly Innovations Inc Commander',\n",
       "       'HG Robotics Vespa Hex', 'exabotix EB-Zelos Mapper',\n",
       "       'Acecore Zetona 8', 'JTT Spider C85', 'Freefly Astro',\n",
       "       'Aerosonde Ltd AAI Aerosonde Mk 4.3', 'Doosan Mobility DS30W',\n",
       "       'Innovadrone Surveyor', 'Drone America Savant', 'JOUAV CW-15',\n",
       "       'Autel Robotics Dragonfish Pro', 'DJI Matrice200V2',\n",
       "       'DJI Matrice210RTKV2', 'DJI Matrice210V2',\n",
       "       'DJI Matrice200SeriesV2'], dtype=object)"
      ]
     },
     "execution_count": 60,
     "metadata": {},
     "output_type": "execute_result"
    }
   ],
   "source": [
    "final_df.drone1.unique()"
   ]
  },
  {
   "cell_type": "code",
   "execution_count": 61,
   "metadata": {},
   "outputs": [
    {
     "data": {
      "text/plain": [
       "54"
      ]
     },
     "execution_count": 61,
     "metadata": {},
     "output_type": "execute_result"
    }
   ],
   "source": [
    "len(final_df.drone2.unique())"
   ]
  },
  {
   "cell_type": "code",
   "execution_count": 62,
   "metadata": {},
   "outputs": [
    {
     "data": {
      "text/plain": [
       "array(['Atlas Aerospace AvalanchePRO', 'Skydio X2E', 'Skydio X2D',\n",
       "       'Draganfly Innovations Inc Commander2',\n",
       "       'Garuda Robotics Cerana ONE Pro', 'MAVTech MH100',\n",
       "       'HG Robotics VETAL', 'DJI Matrice100', 'JOUAV CW-007',\n",
       "       'MMC Griflion M8', 'Atlas Aerospace AtlasPRO',\n",
       "       'Autel Robotics Dragonfish Lite',\n",
       "       'AeroSense Aerobo Wing (AS-VT01)', 'ACSL SOTEN',\n",
       "       'Drone Volt Heliplane LRS240', 'Skydio X2', 'JTT Spider C85',\n",
       "       'WingtraOne Gen II', 'Skydio 2+',\n",
       "       'Autel Robotics Dragonfish Standard', 'Skydio 2A', 'Skydio 2',\n",
       "       'AeroSense Aerobo PPK (AS-MC03-PPK)', 'Acecore Zoe X4',\n",
       "       'exabotix EB-Mercury Mapper', 'Edall Systems SPIDEX 600 MKI',\n",
       "       'Microdrones EasyOne', 'Skydio X10', 'brinc drones Lemur 2',\n",
       "       'ACSL PF2-AE Delivery/Disaster-Relief/Patrol/Inspection',\n",
       "       'Drona Aviation Pluto X', 'AEE Aviation Technology MACH4-5G',\n",
       "       'Innovadrone Surveyor', 'Freefly Astro',\n",
       "       'Edall Systems NAKSHYA VTOL ', 'Acecore Zetona 8',\n",
       "       'Draganfly Innovations Inc Commander', 'exabotix EB-Zelos Mapper',\n",
       "       'HG Robotics Vespa Hex', 'Italdron Levante', 'Italdron Titan XLE',\n",
       "       'Italdron Titan LE', 'MAVTech AGRI 1900', 'Avular Vertex One',\n",
       "       'Aerosonde Ltd AAI Aerosonde Mk 4.3', 'Doosan Mobility DS30W',\n",
       "       'Doosan Mobility Dj25', 'Drone America Savant', 'JOUAV CW-15',\n",
       "       'Autel Robotics Dragonfish Pro', 'DJI Matrice200SeriesV2',\n",
       "       'DJI Matrice200V2', 'DJI Matrice210V2', 'DJI Matrice210RTKV2'],\n",
       "      dtype=object)"
      ]
     },
     "execution_count": 62,
     "metadata": {},
     "output_type": "execute_result"
    }
   ],
   "source": [
    "final_df.drone2.unique()"
   ]
  },
  {
   "cell_type": "code",
   "execution_count": 63,
   "metadata": {},
   "outputs": [
    {
     "data": {
      "text/plain": [
       "58"
      ]
     },
     "execution_count": 63,
     "metadata": {},
     "output_type": "execute_result"
    }
   ],
   "source": [
    "len(final_df.drone3.unique())"
   ]
  },
  {
   "cell_type": "code",
   "execution_count": 64,
   "metadata": {},
   "outputs": [
    {
     "data": {
      "text/plain": [
       "array(['Atlas Aerospace AtlasPRO', 'Skydio X2', 'JOUAV CW-007',\n",
       "       'Autel Robotics Dragonfish Lite',\n",
       "       'Draganfly Innovations Inc Commander2', 'ACSL SOTEN',\n",
       "       'AeroSense Aerobo Wing (AS-VT01)', 'DJI Matrice100', 'Skydio X2D',\n",
       "       'AEE Aviation Technology MACH4-5G', 'Atlas Aerospace AvalanchePRO',\n",
       "       'MAVTech MH100', 'Drone Volt Heliplane LRS240', 'Skydio X2E',\n",
       "       'HG Robotics VETAL', 'MMC Griflion M8',\n",
       "       'Garuda Robotics Cerana ONE Pro', 'Acecore Zetona 8', 'Skydio 2',\n",
       "       'JTT Spider C85', 'Skydio 2+', 'Skydio 2A', 'WingtraOne Gen II',\n",
       "       'AeroSense Aerobo PPK (AS-MC03-PPK)',\n",
       "       'ACSL PF2-AE Delivery/Disaster-Relief/Patrol/Inspection',\n",
       "       'Skydio X10', 'Innovadrone Surveyor', 'Freefly Astro',\n",
       "       'Acecore Zoe X4', 'Edall Systems SPIDEX 600 MKI',\n",
       "       'Microdrones EasyOne', 'exabotix EB-Mercury Mapper',\n",
       "       'brinc drones Lemur 2', 'Drona Aviation Pluto X',\n",
       "       'Draganfly Innovations Inc Commander 3 XL Hybrid',\n",
       "       'Autel Robotics Dragonfish Standard',\n",
       "       'Edall Systems NAKSHYA VTOL ', 'JOUAV CW-25H',\n",
       "       'HG Robotics Vespa Hex', 'Draganfly Innovations Inc Commander',\n",
       "       'Italdron Titan LE', 'Italdron Levante', 'Italdron Titan XLE',\n",
       "       'exabotix EB-Zelos Mapper', 'MAVTech AGRI 1900',\n",
       "       'Prodrone PD4-AW-AQ', 'Avular Vertex One', 'DJI Matrice300RTK',\n",
       "       'Aerosonde Ltd AAI Aerosonde Mk 4.3', 'Doosan Mobility DS30W',\n",
       "       'Drone America Savant', 'JOUAV CW-15',\n",
       "       'Autel Robotics Dragonfish Pro', 'DJI Matrice200SeriesV2',\n",
       "       'DJI Matrice200V2', 'DJI Matrice210V2', 'DJI Matrice210RTKV2',\n",
       "       'DJI S900'], dtype=object)"
      ]
     },
     "execution_count": 64,
     "metadata": {},
     "output_type": "execute_result"
    }
   ],
   "source": [
    "final_df.drone3.unique()"
   ]
  },
  {
   "cell_type": "code",
   "execution_count": 68,
   "metadata": {},
   "outputs": [
    {
     "name": "stdout",
     "output_type": "stream",
     "text": [
      "AEE Aviation Technology MACH4-5G                          13350\n",
      "MAVTech MH100                                             11938\n",
      "ACSL SOTEN                                                11405\n",
      "Garuda Robotics Cerana ONE Pro                            10473\n",
      "HG Robotics VETAL                                         10442\n",
      "Atlas Aerospace AvalanchePRO                               9905\n",
      "Atlas Aerospace AtlasPRO                                   9897\n",
      "Skydio 2+                                                  9300\n",
      "Skydio 2A                                                  9299\n",
      "Skydio 2                                                   9294\n",
      "Skydio X2                                                  9237\n",
      "Skydio X2E                                                 9234\n",
      "Skydio X2D                                                 9234\n",
      "Drone Volt Heliplane LRS240                                8384\n",
      "JOUAV CW-007                                               8383\n",
      "Draganfly Innovations Inc Commander2                       8379\n",
      "Autel Robotics Dragonfish Lite                             8358\n",
      "AeroSense Aerobo PPK (AS-MC03-PPK)                         7856\n",
      "Drona Aviation Pluto X                                     7847\n",
      "WingtraOne Gen II                                          7544\n",
      "MMC Griflion M8                                            7459\n",
      "Edall Systems SPIDEX 600 MKI                               7219\n",
      "AeroSense Aerobo Wing (AS-VT01)                            6907\n",
      "DJI Matrice100                                             6891\n",
      "Skydio X10                                                 6841\n",
      "Edall Systems NAKSHYA VTOL                                 6476\n",
      "Microdrones EasyOne                                        6386\n",
      "brinc drones Lemur 2                                       6080\n",
      "MAVTech AGRI 1900                                          5982\n",
      "Autel Robotics Dragonfish Standard                         5856\n",
      "Avular Vertex One                                          5098\n",
      "ACSL PF2-AE Delivery/Disaster-Relief/Patrol/Inspection     4408\n",
      "exabotix EB-Zelos Mapper                                   3404\n",
      "Italdron Titan LE                                          3397\n",
      "Italdron Levante                                           3397\n",
      "HG Robotics Vespa Hex                                      3396\n",
      "Draganfly Innovations Inc Commander                        3392\n",
      "Italdron Titan XLE                                         3387\n",
      "Acecore Zetona 8                                           2368\n",
      "JTT Spider C85                                             1895\n",
      "Aerosonde Ltd AAI Aerosonde Mk 4.3                         1868\n",
      "Doosan Mobility DS30W                                      1826\n",
      "JOUAV CW-15                                                1423\n",
      "Drone America Savant                                       1361\n",
      "Freefly Astro                                               899\n",
      "Autel Robotics Dragonfish Pro                               851\n",
      "DJI Matrice300RTK                                           846\n",
      "DJI Matrice210V2                                            204\n",
      "DJI Matrice200SeriesV2                                      200\n",
      "DJI Matrice210RTKV2                                         196\n",
      "DJI Matrice200V2                                            190\n",
      "Doosan Mobility Dj25                                         46\n",
      "Innovadrone Surveyor                                         40\n",
      "Acecore Zoe X4                                               26\n",
      "exabotix EB-Mercury Mapper                                    9\n",
      "Prodrone PD4-AW-AQ                                            6\n",
      "JOUAV CW-25H                                                  6\n",
      "Draganfly Innovations Inc Commander 3 XL Hybrid               4\n",
      "DJI S900                                                      1\n",
      "Name: count, dtype: int64\n"
     ]
    }
   ],
   "source": [
    "# Assuming your result is in `final_df`\n",
    "drone_counts = final_df[[\"drone1\", \"drone2\", \"drone3\"]].stack().value_counts()\n",
    "\n",
    "# Display top 10 most used drones\n",
    "print(drone_counts.head(60))"
   ]
  },
  {
   "cell_type": "code",
   "execution_count": 7,
   "metadata": {},
   "outputs": [
    {
     "name": "stdout",
     "output_type": "stream",
     "text": [
      "<class 'pandas.core.frame.DataFrame'>\n",
      "RangeIndex: 179 entries, 0 to 178\n",
      "Data columns (total 30 columns):\n",
      " #   Column              Non-Null Count  Dtype  \n",
      "---  ------              --------------  -----  \n",
      " 0   rpas_id             179 non-null    int64  \n",
      " 1   country             179 non-null    object \n",
      " 2   manufacturer        179 non-null    object \n",
      " 3   mfc_model           179 non-null    object \n",
      " 4   mtow                157 non-null    float64\n",
      " 5   length              153 non-null    float64\n",
      " 6   width               160 non-null    float64\n",
      " 7   height              135 non-null    float64\n",
      " 8   max_speed           153 non-null    float64\n",
      " 9   distance_range      70 non-null     float64\n",
      " 10  flight_time         165 non-null    float64\n",
      " 11  max_payload_weight  161 non-null    float64\n",
      " 12  max_alt             101 non-null    float64\n",
      " 13  comm_range          118 non-null    float64\n",
      " 14  power_source        163 non-null    object \n",
      " 15  power               110 non-null    object \n",
      " 16  gps_accuracy        62 non-null     object \n",
      " 17  engine              134 non-null    object \n",
      " 18  configuration       176 non-null    object \n",
      " 19  flight_cont         86 non-null     object \n",
      " 20  materials           85 non-null     object \n",
      " 21  min_op_temp         109 non-null    float64\n",
      " 22  max_op_temp         108 non-null    float64\n",
      " 23  oas                 87 non-null     object \n",
      " 24  price               65 non-null     float64\n",
      " 25  reg                 115 non-null    object \n",
      " 26  def_payload         141 non-null    object \n",
      " 27  purpose             153 non-null    object \n",
      " 28  image               179 non-null    object \n",
      " 29  source              179 non-null    object \n",
      "dtypes: float64(13), int64(1), object(16)\n",
      "memory usage: 42.1+ KB\n"
     ]
    }
   ],
   "source": [
    "drone_df.info()"
   ]
  },
  {
   "cell_type": "markdown",
   "metadata": {},
   "source": [
    "-----\n",
    "# ver 3.8.3"
   ]
  },
  {
   "cell_type": "code",
   "execution_count": 57,
   "metadata": {},
   "outputs": [],
   "source": [
    "def assign_best_drones_batch(\n",
    "    merged_df,\n",
    "    drone_df,\n",
    "    chunk_size=50000,\n",
    "    save_dir=r\"D:\\NDIS_Database\\20_PaperSimulation\\FinalDroneAssignment\"\n",
    "):\n",
    "    os.makedirs(save_dir, exist_ok=True)\n",
    "    \n",
    "    # Pre-clean drone_df\n",
    "    drone_df = drone_df.dropna(subset=[\"mfc_model\", \"max_payload_weight\"]).copy()\n",
    "    drone_df[\"drone_id\"] = drone_df[\"mfc_model\"]\n",
    "    drone_df[\"comm_range\"] = pd.to_numeric(drone_df[\"comm_range\"], errors=\"coerce\")\n",
    "    drone_df[\"distance_range\"] = pd.to_numeric(drone_df[\"distance_range\"], errors=\"coerce\")\n",
    "    drone_df[\"max_payload_weight\"] = pd.to_numeric(drone_df[\"max_payload_weight\"], errors=\"coerce\")\n",
    "\n",
    "    # Tracking usage\n",
    "    usage_count = {model: 0 for model in drone_df[\"drone_id\"].unique()}\n",
    "\n",
    "    all_results = []\n",
    "\n",
    "    for start in range(0, len(merged_df), chunk_size):\n",
    "        end = min(start + chunk_size, len(merged_df))\n",
    "        chunk = merged_df.iloc[start:end].copy()\n",
    "        print(f\"\\U0001f680 Processing chunk {start}-{end}\")\n",
    "        \n",
    "        # Clean fields\n",
    "        chunk[\"distance\"] = pd.to_numeric(chunk[\"distance\"], errors=\"coerce\")\n",
    "        chunk[\"mission_distance\"] = pd.to_numeric(chunk[\"mission_distance\"], errors=\"coerce\")\n",
    "        chunk[\"sensor_weight\"] = pd.to_numeric(chunk[\"sensor_weight\"], errors=\"coerce\")\n",
    "        \n",
    "        chunk[[\"drone1\", \"drone2\", \"drone3\"]] = None\n",
    "        chunk[[\"note1\", \"note2\", \"note3\"]] = None\n",
    "\n",
    "        for idx, row in tqdm(chunk.iterrows(), total=len(chunk)):\n",
    "            s_weight = row[\"sensor_weight\"]\n",
    "            h_dist = row[\"distance\"]\n",
    "            m_dist = row[\"mission_distance\"]\n",
    "            sensor = row[\"RecommendedSensor\"]\n",
    "\n",
    "            if pd.isna(s_weight):\n",
    "                continue  # skip if no sensor\n",
    "\n",
    "            # Primary filter: payload\n",
    "            candidates = drone_df[drone_df[\"max_payload_weight\"] >= s_weight].copy()\n",
    "            if candidates.empty:\n",
    "                continue\n",
    "\n",
    "            # Score each candidate\n",
    "            def score_drone(dr):\n",
    "                score = 100\n",
    "                note = \"\"\n",
    "\n",
    "                if not pd.isna(h_dist):\n",
    "                    if dr[\"comm_range\"] < h_dist:\n",
    "                        score += 50\n",
    "                        note = \"Comm range insufficient\"\n",
    "\n",
    "                if not pd.isna(m_dist):\n",
    "                    if dr[\"distance_range\"] >= m_dist:\n",
    "                        score -= 5\n",
    "                        note = \"Full coverage\"\n",
    "                    elif dr[\"distance_range\"] >= 0.5 * m_dist:\n",
    "                        score += 5\n",
    "                        note = \"2–3 swaths needed\"\n",
    "                    elif dr[\"distance_range\"] >= 0.25 * m_dist:\n",
    "                        score += 10\n",
    "                        note = \"Multiple passes\"\n",
    "                    else:\n",
    "                        score += 30\n",
    "                        note = \"Very limited range\"\n",
    "                else:\n",
    "                    note = \"Distance unknown — likely offshore\"\n",
    "                    score += 20\n",
    "\n",
    "                # Prefer payloads close to sensor weight\n",
    "                payload_diff = dr[\"max_payload_weight\"] - s_weight\n",
    "                score += abs(payload_diff) * 0.05\n",
    "\n",
    "                # Soft randomness + usage count bias\n",
    "                score += usage_count.get(dr[\"drone_id\"], 0) * 0.01\n",
    "                score += random.uniform(-0.5, 0.5)\n",
    "\n",
    "                return pd.Series([score, note])\n",
    "\n",
    "            candidates[[\"score\", \"note\"]] = candidates.apply(score_drone, axis=1)\n",
    "            candidates = candidates.sort_values(\"score\").drop_duplicates(\"drone_id\").head(10)\n",
    "\n",
    "            # Select top 3 unique models\n",
    "            assigned = []\n",
    "            notes = []\n",
    "            for _, dr in candidates.iterrows():\n",
    "                if dr[\"drone_id\"] not in assigned:\n",
    "                    assigned.append(dr[\"drone_id\"])\n",
    "                    notes.append(dr[\"note\"])\n",
    "                if len(assigned) == 3:\n",
    "                    break\n",
    "\n",
    "            for i in range(len(assigned)):\n",
    "                chunk.at[idx, f\"drone{i+1}\"] = assigned[i]\n",
    "                chunk.at[idx, f\"note{i+1}\"] = notes[i]\n",
    "                usage_count[assigned[i]] += 1\n",
    "\n",
    "        # Save chunk\n",
    "        out_path = os.path.join(save_dir, f\"drone_assign_chunk_{start}_{end}.feather\")\n",
    "        chunk.reset_index(drop=True).to_feather(out_path)\n",
    "        all_results.append(chunk)\n",
    "        gc.collect()\n",
    "\n",
    "    return pd.concat(all_results, ignore_index=True)\n"
   ]
  },
  {
   "cell_type": "code",
   "execution_count": 58,
   "metadata": {},
   "outputs": [
    {
     "name": "stdout",
     "output_type": "stream",
     "text": [
      "⏳ Heartbeat: still running at 2025-07-29 23:12:11\n",
      "🚀 Processing chunk 0-50000\n"
     ]
    },
    {
     "name": "stderr",
     "output_type": "stream",
     "text": [
      "  1%|          | 433/50000 [00:20<40:29, 20.40it/s]  "
     ]
    },
    {
     "name": "stdout",
     "output_type": "stream",
     "text": [
      "⏳ Heartbeat: still running at 2025-07-29 23:12:31\n"
     ]
    },
    {
     "name": "stderr",
     "output_type": "stream",
     "text": [
      "  1%|▏         | 725/50000 [00:34<35:35, 23.07it/s]  "
     ]
    },
    {
     "name": "stdout",
     "output_type": "stream",
     "text": [
      "⏳ Heartbeat: still running at 2025-07-29 23:12:46\n"
     ]
    },
    {
     "name": "stderr",
     "output_type": "stream",
     "text": [
      " 36%|███▌      | 18029/50000 [18:39<43:09, 12.34it/s]  "
     ]
    },
    {
     "name": "stdout",
     "output_type": "stream",
     "text": [
      "⏳ Heartbeat: still running at 2025-07-29 23:30:50\n"
     ]
    },
    {
     "name": "stderr",
     "output_type": "stream",
     "text": [
      " 61%|██████    | 30277/50000 [33:54<14:38, 22.45it/s]  "
     ]
    },
    {
     "name": "stdout",
     "output_type": "stream",
     "text": [
      "⏳ Heartbeat: still running at 2025-07-29 23:46:06\n"
     ]
    },
    {
     "name": "stderr",
     "output_type": "stream",
     "text": [
      " 61%|██████▏   | 30666/50000 [34:12<13:56, 23.13it/s]"
     ]
    },
    {
     "name": "stdout",
     "output_type": "stream",
     "text": [
      "⏳ Heartbeat: still running at 2025-07-29 23:46:23\n"
     ]
    },
    {
     "name": "stderr",
     "output_type": "stream",
     "text": [
      "100%|██████████| 50000/50000 [48:08<00:00, 17.31it/s]﻿\n"
     ]
    },
    {
     "name": "stdout",
     "output_type": "stream",
     "text": [
      "🚀 Processing chunk 50000-100000\n"
     ]
    },
    {
     "name": "stderr",
     "output_type": "stream",
     "text": [
      " 33%|███▎      | 16374/50000 [11:51<23:34, 23.77it/s] "
     ]
    },
    {
     "name": "stdout",
     "output_type": "stream",
     "text": [
      "⏳ Heartbeat: still running at 2025-07-30 00:12:11\n"
     ]
    },
    {
     "name": "stderr",
     "output_type": "stream",
     "text": [
      " 34%|███▎      | 16857/50000 [12:12<23:18, 23.71it/s]"
     ]
    },
    {
     "name": "stdout",
     "output_type": "stream",
     "text": [
      "⏳ Heartbeat: still running at 2025-07-30 00:12:31\n"
     ]
    },
    {
     "name": "stderr",
     "output_type": "stream",
     "text": [
      " 34%|███▍      | 17186/50000 [12:26<23:09, 23.61it/s]"
     ]
    },
    {
     "name": "stdout",
     "output_type": "stream",
     "text": [
      "⏳ Heartbeat: still running at 2025-07-30 00:12:46\n"
     ]
    },
    {
     "name": "stderr",
     "output_type": "stream",
     "text": [
      " 84%|████████▍ | 41918/50000 [30:30<06:47, 19.83it/s]"
     ]
    },
    {
     "name": "stdout",
     "output_type": "stream",
     "text": [
      "⏳ Heartbeat: still running at 2025-07-30 00:30:50\n"
     ]
    },
    {
     "name": "stderr",
     "output_type": "stream",
     "text": [
      "100%|██████████| 50000/50000 [36:28<00:00, 22.84it/s]﻿\n"
     ]
    },
    {
     "name": "stdout",
     "output_type": "stream",
     "text": [
      "✅ All processing completed! Elapsed time: 84.62819783500163 minutes\n"
     ]
    }
   ],
   "source": [
    "# Start the background heartbeat thread\n",
    "threading.Thread(target=heartbeat, args=(3600,), daemon=True).start()\n",
    "\n",
    "# Run the main process with timer\n",
    "start_time = timeit.default_timer()\n",
    "\n",
    "final_df = assign_best_drones_batch(sample, drone_df, chunk_size=50000)\n",
    "\n",
    "elapsed = timeit.default_timer() - start_time\n",
    "print(\"\\u2705 All processing completed! Elapsed time: %s minutes\"%str(elapsed/60))"
   ]
  },
  {
   "cell_type": "code",
   "execution_count": 78,
   "metadata": {},
   "outputs": [
    {
     "name": "stdout",
     "output_type": "stream",
     "text": [
      "<class 'pandas.core.frame.DataFrame'>\n",
      "RangeIndex: 180 entries, 0 to 179\n",
      "Data columns (total 30 columns):\n",
      " #   Column              Non-Null Count  Dtype  \n",
      "---  ------              --------------  -----  \n",
      " 0   rpas_id             180 non-null    int64  \n",
      " 1   country             180 non-null    object \n",
      " 2   manufacturer        180 non-null    object \n",
      " 3   mfc_model           180 non-null    object \n",
      " 4   mtow                158 non-null    float64\n",
      " 5   length              154 non-null    float64\n",
      " 6   width               161 non-null    float64\n",
      " 7   height              136 non-null    float64\n",
      " 8   max_speed           155 non-null    float64\n",
      " 9   distance_range      72 non-null     float64\n",
      " 10  flight_time         166 non-null    float64\n",
      " 11  max_payload_weight  162 non-null    float64\n",
      " 12  max_alt             103 non-null    float64\n",
      " 13  comm_range          119 non-null    float64\n",
      " 14  power_source        164 non-null    object \n",
      " 15  power               112 non-null    object \n",
      " 16  gps_accuracy        64 non-null     object \n",
      " 17  engine              135 non-null    object \n",
      " 18  configuration       177 non-null    object \n",
      " 19  flight_cont         87 non-null     object \n",
      " 20  materials           87 non-null     object \n",
      " 21  min_op_temp         110 non-null    float64\n",
      " 22  max_op_temp         109 non-null    float64\n",
      " 23  oas                 89 non-null     object \n",
      " 24  price               66 non-null     float64\n",
      " 25  reg                 116 non-null    object \n",
      " 26  def_payload         143 non-null    object \n",
      " 27  purpose             155 non-null    object \n",
      " 28  image               167 non-null    object \n",
      " 29  source              176 non-null    object \n",
      "dtypes: float64(13), int64(1), object(16)\n",
      "memory usage: 42.3+ KB\n"
     ]
    }
   ],
   "source": [
    "drone_df.info()"
   ]
  },
  {
   "cell_type": "code",
   "execution_count": 75,
   "metadata": {},
   "outputs": [
    {
     "data": {
      "image/png": "[encoded data removed]",
      "text/plain": [
       "<Figure size 1400x1000 with 1 Axes>"
      ]
     },
     "metadata": {},
     "output_type": "display_data"
    }
   ],
   "source": [
    "# Melt drone1, drone2, drone3 into one column\n",
    "melted = final_df.melt(\n",
    "    id_vars=['HazardType'],\n",
    "    value_vars=['drone1', 'drone2', 'drone3'],\n",
    "    var_name='drone_rank',\n",
    "    value_name='drone_model'\n",
    ")\n",
    "\n",
    "# Clean strings (optional but recommended)\n",
    "melted['HazardType'] = melted['HazardType'].str.strip()\n",
    "melted['drone_model'] = melted['drone_model'].str.strip()\n",
    "\n",
    "# Group and count\n",
    "drone_hazard_counts = melted.groupby(['HazardType', 'drone_model']).size().reset_index(name='count')\n",
    "drone_hazard_counts = drone_hazard_counts.sort_values(by='count', ascending=False)\n",
    "\n",
    "# Plot\n",
    "plt.figure(figsize=(14, 10))\n",
    "sns.barplot(data=drone_hazard_counts, x='count', y='drone_model', hue='HazardType')\n",
    "\n",
    "# Log scale\n",
    "plt.xscale('log')\n",
    "\n",
    "# Labels and formatting\n",
    "plt.title('Drone Model Usage per Hazard Type (Log Scale)', fontsize=16)\n",
    "plt.xlabel('Count (log scale)', fontsize=14)\n",
    "plt.ylabel('Drone Model', fontsize=14)\n",
    "plt.legend(title='Hazard Type', bbox_to_anchor=(1.05, 1), loc='upper left')\n",
    "plt.tight_layout()\n",
    "plt.show()"
   ]
  },
  {
   "cell_type": "markdown",
   "metadata": {},
   "source": [
    "----\n",
    "# Drone Rotation included"
   ]
  },
  {
   "cell_type": "code",
   "execution_count": 89,
   "metadata": {},
   "outputs": [],
   "source": [
    "drone_df.rename(columns={\"model_name\": \"mfc_model\"}, inplace=True)"
   ]
  },
  {
   "cell_type": "code",
   "execution_count": 90,
   "metadata": {},
   "outputs": [],
   "source": [
    "def assign_best_drones_with_blacklist_batch(\n",
    "    merged_df,\n",
    "    drone_df,\n",
    "    chunk_size=50000,\n",
    "    save_dir=r\"D:\\NDIS_Database\\FinalDroneAssignment\",\n",
    "    blacklist_threshold=20000\n",
    "):\n",
    "    os.makedirs(save_dir, exist_ok=True)\n",
    "\n",
    "    # Clean drone_df\n",
    "    drone_df = drone_df.dropna(subset=[\"mfc_model\", \"max_payload_weight\"]).copy()\n",
    "    drone_df[\"drone_id\"] = drone_df[\"mfc_model\"]\n",
    "    drone_df[\"comm_range\"] = pd.to_numeric(drone_df[\"comm_range\"], errors=\"coerce\")\n",
    "    drone_df[\"distance_range\"] = pd.to_numeric(drone_df[\"distance_range\"], errors=\"coerce\")\n",
    "    drone_df[\"max_payload_weight\"] = pd.to_numeric(drone_df[\"max_payload_weight\"], errors=\"coerce\")\n",
    "\n",
    "    usage_count = {model: 0 for model in drone_df[\"drone_id\"].unique()}\n",
    "    all_results = []\n",
    "\n",
    "    for start in range(0, len(merged_df), chunk_size):\n",
    "        end = min(start + chunk_size, len(merged_df))\n",
    "        chunk = merged_df.iloc[start:end].copy()\n",
    "        print(f\"\\U0001f680 Processing chunk {start}-{end}\")\n",
    "\n",
    "        chunk[\"distance\"] = pd.to_numeric(chunk[\"distance\"], errors=\"coerce\")\n",
    "        chunk[\"mission_distance\"] = pd.to_numeric(chunk[\"mission_distance\"], errors=\"coerce\")\n",
    "        chunk[\"sensor_weight\"] = pd.to_numeric(chunk[\"sensor_weight\"], errors=\"coerce\")\n",
    "\n",
    "        chunk[[\"drone1\", \"drone2\", \"drone3\"]] = None\n",
    "        chunk[[\"note1\", \"note2\", \"note3\"]] = None\n",
    "\n",
    "        for idx, row in tqdm(chunk.iterrows(), total=len(chunk)):\n",
    "            s_weight = row[\"sensor_weight\"]\n",
    "            h_dist = row[\"distance\"]\n",
    "            m_dist = row[\"mission_distance\"]\n",
    "            sensor = row[\"RecommendedSensor\"]\n",
    "\n",
    "            if pd.isna(s_weight):\n",
    "                continue\n",
    "\n",
    "            candidates = drone_df[drone_df[\"max_payload_weight\"] >= s_weight].copy()\n",
    "            if candidates.empty:\n",
    "                continue\n",
    "\n",
    "            def score_drone(dr):\n",
    "                score = 100\n",
    "                note = \"\"\n",
    "\n",
    "                if not pd.isna(h_dist):\n",
    "                    if dr[\"comm_range\"] < h_dist:\n",
    "                        score += 50\n",
    "                        note = \"Comm range insufficient\"\n",
    "\n",
    "                if not pd.isna(m_dist):\n",
    "                    if dr[\"distance_range\"] >= m_dist:\n",
    "                        score -= 5\n",
    "                        note = \"Full coverage\"\n",
    "                    elif dr[\"distance_range\"] >= 0.5 * m_dist:\n",
    "                        score += 5\n",
    "                        note = \"2–3 swaths needed\"\n",
    "                    elif dr[\"distance_range\"] >= 0.25 * m_dist:\n",
    "                        score += 10\n",
    "                        note = \"Multiple passes\"\n",
    "                    else:\n",
    "                        score += 30\n",
    "                        note = \"Very limited range\"\n",
    "                else:\n",
    "                    note = \"Distance unknown — likely offshore\"\n",
    "                    score += 20\n",
    "\n",
    "                # Payload proximity\n",
    "                payload_diff = dr[\"max_payload_weight\"] - s_weight\n",
    "                score += abs(payload_diff) * 0.05\n",
    "\n",
    "                # Usage penalty\n",
    "                uc = usage_count.get(dr[\"drone_id\"], 0)\n",
    "                if uc >= blacklist_threshold:\n",
    "                    score += 9999  # Hard exclude\n",
    "                else:\n",
    "                    score += uc * 0.01  # Soft bias\n",
    "\n",
    "                score += random.uniform(-0.5, 0.5)\n",
    "                return pd.Series([score, note])\n",
    "\n",
    "            candidates[[\"score\", \"note\"]] = candidates.apply(score_drone, axis=1)\n",
    "            candidates = candidates.sort_values(\"score\").drop_duplicates(\"drone_id\").head(10)\n",
    "\n",
    "            assigned = []\n",
    "            notes = []\n",
    "\n",
    "            for _, dr in candidates.iterrows():\n",
    "                if dr[\"drone_id\"] not in assigned:\n",
    "                    assigned.append(dr[\"drone_id\"])\n",
    "                    notes.append(dr[\"note\"])\n",
    "                if len(assigned) == 3:\n",
    "                    break\n",
    "\n",
    "            for i in range(len(assigned)):\n",
    "                chunk.at[idx, f\"drone{i+1}\"] = assigned[i]\n",
    "                chunk.at[idx, f\"note{i+1}\"] = notes[i]\n",
    "                usage_count[assigned[i]] += 1\n",
    "\n",
    "        # Save feather\n",
    "        out_path = os.path.join(save_dir, f\"drone_assign_chunk_{start}_{end}.feather\")\n",
    "        chunk.reset_index(drop=True).to_feather(out_path)\n",
    "        all_results.append(chunk)\n",
    "        gc.collect()\n",
    "\n",
    "    return pd.concat(all_results, ignore_index=True)"
   ]
  },
  {
   "cell_type": "code",
   "execution_count": 19,
   "metadata": {},
   "outputs": [],
   "source": [
    "def heartbeat(interval=3600):\n",
    "    while True:\n",
    "        tqdm.write(f\"⏳ Heartbeat: still running at {time.strftime('%Y-%m-%d %H:%M:%S')}\")\n",
    "        time.sleep(interval)"
   ]
  },
  {
   "cell_type": "code",
   "execution_count": 91,
   "metadata": {},
   "outputs": [
    {
     "name": "stdout",
     "output_type": "stream",
     "text": [
      "⏳ Heartbeat: still running at 2025-07-30 18:19:49\n",
      "🚀 Processing chunk 0-50000\n"
     ]
    },
    {
     "name": "stderr",
     "output_type": "stream",
     "text": [
      " 17%|█▋        | 8453/50000 [11:00<36:30, 18.97it/s]   "
     ]
    },
    {
     "name": "stdout",
     "output_type": "stream",
     "text": [
      "⏳ Heartbeat: still running at 2025-07-30 18:30:50\n"
     ]
    },
    {
     "name": "stderr",
     "output_type": "stream",
     "text": [
      " 52%|█████▏    | 25901/50000 [26:16<24:20, 16.50it/s]  "
     ]
    },
    {
     "name": "stdout",
     "output_type": "stream",
     "text": [
      "⏳ Heartbeat: still running at 2025-07-30 18:46:06\n"
     ]
    },
    {
     "name": "stderr",
     "output_type": "stream",
     "text": [
      " 52%|█████▏    | 26014/50000 [26:33<26:56, 14.84it/s]  "
     ]
    },
    {
     "name": "stdout",
     "output_type": "stream",
     "text": [
      "⏳ Heartbeat: still running at 2025-07-30 18:46:23\n"
     ]
    },
    {
     "name": "stderr",
     "output_type": "stream",
     "text": [
      " 55%|█████▍    | 27439/50000 [28:33<28:25, 13.23it/s]  "
     ]
    },
    {
     "name": "stdout",
     "output_type": "stream",
     "text": [
      "⏳ Heartbeat: still running at 2025-07-30 18:48:23\n"
     ]
    },
    {
     "name": "stderr",
     "output_type": "stream",
     "text": [
      " 58%|█████▊    | 28813/50000 [30:01<20:33, 17.18it/s]  "
     ]
    },
    {
     "name": "stdout",
     "output_type": "stream",
     "text": [
      "⏳ Heartbeat: still running at 2025-07-30 18:49:50\n"
     ]
    },
    {
     "name": "stderr",
     "output_type": "stream",
     "text": [
      " 69%|██████▉   | 34735/50000 [37:52<14:59, 16.97it/s]  "
     ]
    },
    {
     "name": "stdout",
     "output_type": "stream",
     "text": [
      "⏳ Heartbeat: still running at 2025-07-30 18:57:41\n"
     ]
    },
    {
     "name": "stderr",
     "output_type": "stream",
     "text": [
      " 99%|█████████▉| 49669/50000 [52:21<00:18, 17.45it/s]  "
     ]
    },
    {
     "name": "stdout",
     "output_type": "stream",
     "text": [
      "⏳ Heartbeat: still running at 2025-07-30 19:12:11\n"
     ]
    },
    {
     "name": "stderr",
     "output_type": "stream",
     "text": [
      "100%|██████████| 50000/50000 [52:38<00:00, 15.83it/s]﻿\n"
     ]
    },
    {
     "name": "stdout",
     "output_type": "stream",
     "text": [
      "🚀 Processing chunk 50000-100000\n"
     ]
    },
    {
     "name": "stderr",
     "output_type": "stream",
     "text": [
      "  0%|          | 72/50000 [00:03<41:34, 20.01it/s] "
     ]
    },
    {
     "name": "stdout",
     "output_type": "stream",
     "text": [
      "⏳ Heartbeat: still running at 2025-07-30 19:12:31\n"
     ]
    },
    {
     "name": "stderr",
     "output_type": "stream",
     "text": [
      "  1%|          | 321/50000 [00:17<39:30, 20.96it/s]  "
     ]
    },
    {
     "name": "stdout",
     "output_type": "stream",
     "text": [
      "⏳ Heartbeat: still running at 2025-07-30 19:12:46\n"
     ]
    },
    {
     "name": "stderr",
     "output_type": "stream",
     "text": [
      " 13%|█▎        | 6690/50000 [06:51<43:18, 16.67it/s]  "
     ]
    },
    {
     "name": "stdout",
     "output_type": "stream",
     "text": [
      "⏳ Heartbeat: still running at 2025-07-30 19:19:19\n"
     ]
    },
    {
     "name": "stderr",
     "output_type": "stream",
     "text": [
      " 14%|█▍        | 7001/50000 [07:21<1:08:37, 10.44it/s]"
     ]
    },
    {
     "name": "stdout",
     "output_type": "stream",
     "text": [
      "⏳ Heartbeat: still running at 2025-07-30 19:19:49\n"
     ]
    },
    {
     "name": "stderr",
     "output_type": "stream",
     "text": [
      " 39%|███▉      | 19478/50000 [18:22<24:17, 20.95it/s] "
     ]
    },
    {
     "name": "stdout",
     "output_type": "stream",
     "text": [
      "⏳ Heartbeat: still running at 2025-07-30 19:30:50\n"
     ]
    },
    {
     "name": "stderr",
     "output_type": "stream",
     "text": [
      " 75%|███████▌  | 37508/50000 [33:38<10:44, 19.38it/s]"
     ]
    },
    {
     "name": "stdout",
     "output_type": "stream",
     "text": [
      "⏳ Heartbeat: still running at 2025-07-30 19:46:06\n"
     ]
    },
    {
     "name": "stderr",
     "output_type": "stream",
     "text": [
      " 76%|███████▌  | 37859/50000 [33:55<11:53, 17.02it/s]"
     ]
    },
    {
     "name": "stdout",
     "output_type": "stream",
     "text": [
      "⏳ Heartbeat: still running at 2025-07-30 19:46:23\n"
     ]
    },
    {
     "name": "stderr",
     "output_type": "stream",
     "text": [
      " 80%|████████  | 40222/50000 [35:55<07:33, 21.56it/s]"
     ]
    },
    {
     "name": "stdout",
     "output_type": "stream",
     "text": [
      "⏳ Heartbeat: still running at 2025-07-30 19:48:23\n"
     ]
    },
    {
     "name": "stderr",
     "output_type": "stream",
     "text": [
      " 84%|████████▍ | 41983/50000 [37:22<06:52, 19.43it/s]"
     ]
    },
    {
     "name": "stdout",
     "output_type": "stream",
     "text": [
      "⏳ Heartbeat: still running at 2025-07-30 19:49:50\n"
     ]
    },
    {
     "name": "stderr",
     "output_type": "stream",
     "text": [
      "100%|██████████| 50000/50000 [44:40<00:00, 18.65it/s]﻿\n"
     ]
    },
    {
     "name": "stdout",
     "output_type": "stream",
     "text": [
      "✅ All processing completed! Elapsed time: 97.33713045666615 minutes\n"
     ]
    }
   ],
   "source": [
    "# Start the background heartbeat thread\n",
    "threading.Thread(target=heartbeat, args=(3600,), daemon=True).start()\n",
    "\n",
    "# Run the main process with timer\n",
    "start_time = timeit.default_timer()\n",
    "\n",
    "final_df = assign_best_drones_with_blacklist_batch(sample, drone_df, chunk_size=50000)\n",
    "\n",
    "elapsed = timeit.default_timer() - start_time\n",
    "print(\"\\u2705 All processing completed! Elapsed time: %s minutes\"%str(elapsed/60))"
   ]
  },
  {
   "cell_type": "code",
   "execution_count": 92,
   "metadata": {},
   "outputs": [
    {
     "name": "stdout",
     "output_type": "stream",
     "text": [
      "⏳ Heartbeat: still running at 2025-07-30 19:57:41\n",
      "AEE Aviation Technology MACH4-5G                          13346\n",
      "MAVTech MH100                                             11938\n",
      "ACSL SOTEN                                                11402\n",
      "Garuda Robotics Cerana ONE Pro                            10474\n",
      "HG Robotics VETAL                                         10440\n",
      "Atlas Aerospace AvalanchePRO                               9903\n",
      "Atlas Aerospace AtlasPRO                                   9901\n",
      "Skydio 2                                                   9302\n",
      "Skydio 2A                                                  9298\n",
      "Skydio 2+                                                  9297\n",
      "Skydio X2                                                  9234\n",
      "Skydio X2E                                                 9232\n",
      "Skydio X2D                                                 9231\n",
      "Drone Volt Heliplane LRS240                                8388\n",
      "Draganfly Innovations Inc Commander2                       8386\n",
      "JOUAV CW-007                                               8382\n",
      "Autel Robotics Dragonfish Lite                             8355\n",
      "AeroSense Aerobo PPK (AS-MC03-PPK)                         7860\n",
      "Drona Aviation Pluto X                                     7847\n",
      "WingtraOne Gen II                                          7540\n",
      "MMC Griflion M8                                            7457\n",
      "Edall Systems SPIDEX 600 MKI                               7214\n",
      "AeroSense Aerobo Wing (AS-VT01)                            6905\n",
      "DJI Matrice100                                             6890\n",
      "Skydio X10                                                 6846\n",
      "Edall Systems NAKSHYA VTOL                                 6474\n",
      "Microdrones EasyOne                                        6378\n",
      "brinc drones Lemur 2                                       6085\n",
      "MAVTech AGRI 1900                                          5979\n",
      "Autel Robotics Dragonfish Standard                         5855\n",
      "Avular Vertex One                                          5099\n",
      "ACSL PF2-AE Delivery/Disaster-Relief/Patrol/Inspection     4405\n",
      "HG Robotics Vespa Hex                                      3402\n",
      "exabotix EB-Zelos Mapper                                   3402\n",
      "Italdron Titan LE                                          3399\n",
      "Italdron Titan XLE                                         3399\n",
      "Draganfly Innovations Inc Commander                        3399\n",
      "Italdron Levante                                           3394\n",
      "Acecore Zetona 8                                           2371\n",
      "JTT Spider C85                                             1899\n",
      "Aerosonde Ltd AAI Aerosonde Mk 4.3                         1869\n",
      "Doosan Mobility DS30W                                      1824\n",
      "JOUAV CW-15                                                1418\n",
      "Drone America Savant                                       1357\n",
      "Freefly Astro                                               892\n",
      "Autel Robotics Dragonfish Pro                               855\n",
      "DJI Matrice300RTK                                           847\n",
      "DJI Matrice200V2                                            201\n",
      "DJI Matrice210V2                                            200\n",
      "DJI Matrice210RTKV2                                         197\n",
      "DJI Matrice200SeriesV2                                      194\n",
      "Doosan Mobility Dj25                                         46\n",
      "Innovadrone Surveyor                                         37\n",
      "Acecore Zoe X4                                               25\n",
      "exabotix EB-Mercury Mapper                                   13\n",
      "Prodrone PD4-AW-AQ                                           10\n",
      "JOUAV CW-25H                                                  4\n",
      "Draganfly Innovations Inc Commander 3 XL Hybrid               3\n",
      "Name: count, dtype: int64\n"
     ]
    }
   ],
   "source": [
    "# Assuming your result is in `final_df`\n",
    "drone_counts = final_df[[\"drone1\", \"drone2\", \"drone3\"]].stack().value_counts()\n",
    "\n",
    "# Display top 10 most used drones\n",
    "print(drone_counts.head(60))"
   ]
  },
  {
   "cell_type": "code",
   "execution_count": 93,
   "metadata": {},
   "outputs": [
    {
     "data": {
      "text/plain": [
       "array(['ACSL SOTEN', 'Skydio X2E', 'Skydio X2',\n",
       "       'Garuda Robotics Cerana ONE Pro', 'MMC Griflion M8',\n",
       "       'AEE Aviation Technology MACH4-5G', 'DJI Matrice100',\n",
       "       'Drone Volt Heliplane LRS240', 'Atlas Aerospace AtlasPRO',\n",
       "       'Atlas Aerospace AvalanchePRO', 'AeroSense Aerobo Wing (AS-VT01)',\n",
       "       'HG Robotics VETAL', 'Skydio X2D', 'MAVTech MH100', 'JOUAV CW-007',\n",
       "       'Draganfly Innovations Inc Commander2', 'WingtraOne Gen II',\n",
       "       'ACSL PF2-AE Delivery/Disaster-Relief/Patrol/Inspection',\n",
       "       'Autel Robotics Dragonfish Lite',\n",
       "       'AeroSense Aerobo PPK (AS-MC03-PPK)', 'Skydio 2A',\n",
       "       'Doosan Mobility Dj25', 'Skydio 2+', 'Skydio 2',\n",
       "       'Edall Systems SPIDEX 600 MKI', 'Microdrones EasyOne',\n",
       "       'Skydio X10', 'brinc drones Lemur 2', 'Drona Aviation Pluto X',\n",
       "       'Autel Robotics Dragonfish Standard',\n",
       "       'Edall Systems NAKSHYA VTOL ', 'MAVTech AGRI 1900',\n",
       "       'Avular Vertex One', 'Italdron Titan XLE', 'Italdron Levante',\n",
       "       'Italdron Titan LE', 'Draganfly Innovations Inc Commander',\n",
       "       'HG Robotics Vespa Hex', 'exabotix EB-Zelos Mapper',\n",
       "       'Acecore Zetona 8', 'JTT Spider C85', 'Freefly Astro',\n",
       "       'Aerosonde Ltd AAI Aerosonde Mk 4.3', 'Doosan Mobility DS30W',\n",
       "       'Drone America Savant', 'JOUAV CW-15',\n",
       "       'Autel Robotics Dragonfish Pro', 'DJI Matrice210RTKV2',\n",
       "       'DJI Matrice200V2', 'DJI Matrice200SeriesV2', 'DJI Matrice210V2'],\n",
       "      dtype=object)"
      ]
     },
     "execution_count": 93,
     "metadata": {},
     "output_type": "execute_result"
    }
   ],
   "source": [
    "final_df.drone1.unique()"
   ]
  },
  {
   "cell_type": "code",
   "execution_count": 94,
   "metadata": {},
   "outputs": [
    {
     "data": {
      "text/plain": [
       "51"
      ]
     },
     "execution_count": 94,
     "metadata": {},
     "output_type": "execute_result"
    }
   ],
   "source": [
    "len(final_df.drone1.unique())"
   ]
  },
  {
   "cell_type": "code",
   "execution_count": 95,
   "metadata": {},
   "outputs": [
    {
     "data": {
      "text/plain": [
       "array(['Atlas Aerospace AtlasPRO', 'Skydio X2D',\n",
       "       'Drone Volt Heliplane LRS240', 'Garuda Robotics Cerana ONE Pro',\n",
       "       'MAVTech MH100', 'HG Robotics VETAL', 'MMC Griflion M8',\n",
       "       'JOUAV CW-007', 'DJI Matrice100', 'Atlas Aerospace AvalanchePRO',\n",
       "       'Draganfly Innovations Inc Commander2', 'WingtraOne Gen II',\n",
       "       'Skydio X2E', 'ACSL SOTEN', 'AeroSense Aerobo Wing (AS-VT01)',\n",
       "       'Autel Robotics Dragonfish Lite', 'Skydio X2', 'JTT Spider C85',\n",
       "       'Skydio 2', 'Acecore Zetona 8', 'Skydio 2A', 'Skydio 2+',\n",
       "       'AeroSense Aerobo PPK (AS-MC03-PPK)', 'exabotix EB-Mercury Mapper',\n",
       "       'Innovadrone Surveyor', 'Autel Robotics Dragonfish Standard',\n",
       "       'Edall Systems SPIDEX 600 MKI', 'Microdrones EasyOne',\n",
       "       'Skydio X10', 'brinc drones Lemur 2',\n",
       "       'ACSL PF2-AE Delivery/Disaster-Relief/Patrol/Inspection',\n",
       "       'Drona Aviation Pluto X', 'AEE Aviation Technology MACH4-5G',\n",
       "       'Edall Systems NAKSHYA VTOL ', 'Acecore Zoe X4',\n",
       "       'Italdron Levante', 'Draganfly Innovations Inc Commander',\n",
       "       'Italdron Titan LE', 'exabotix EB-Zelos Mapper',\n",
       "       'Italdron Titan XLE', 'HG Robotics Vespa Hex', 'MAVTech AGRI 1900',\n",
       "       'Avular Vertex One', 'Freefly Astro',\n",
       "       'Aerosonde Ltd AAI Aerosonde Mk 4.3', 'Doosan Mobility DS30W',\n",
       "       'Drone America Savant', 'JOUAV CW-15',\n",
       "       'Autel Robotics Dragonfish Pro', 'DJI Matrice210RTKV2',\n",
       "       'DJI Matrice210V2', 'DJI Matrice200V2', 'DJI Matrice200SeriesV2'],\n",
       "      dtype=object)"
      ]
     },
     "execution_count": 95,
     "metadata": {},
     "output_type": "execute_result"
    }
   ],
   "source": [
    "final_df.drone2.unique()"
   ]
  },
  {
   "cell_type": "code",
   "execution_count": 99,
   "metadata": {},
   "outputs": [
    {
     "data": {
      "text/plain": [
       "53"
      ]
     },
     "execution_count": 99,
     "metadata": {},
     "output_type": "execute_result"
    }
   ],
   "source": [
    "len(final_df.drone2.unique())"
   ]
  },
  {
   "cell_type": "code",
   "execution_count": 96,
   "metadata": {},
   "outputs": [
    {
     "data": {
      "text/plain": [
       "array(['Atlas Aerospace AvalanchePRO', 'Skydio X2', 'Skydio X2E',\n",
       "       'JOUAV CW-007', 'Autel Robotics Dragonfish Lite', 'ACSL SOTEN',\n",
       "       'AeroSense Aerobo Wing (AS-VT01)',\n",
       "       'Draganfly Innovations Inc Commander2', 'Skydio X2D',\n",
       "       'AEE Aviation Technology MACH4-5G', 'Atlas Aerospace AtlasPRO',\n",
       "       'MAVTech MH100', 'Drone Volt Heliplane LRS240', 'MMC Griflion M8',\n",
       "       'HG Robotics VETAL', 'DJI Matrice100',\n",
       "       'Garuda Robotics Cerana ONE Pro', 'Acecore Zetona 8', 'Skydio 2A',\n",
       "       'Autel Robotics Dragonfish Standard', 'Skydio 2+', 'Skydio 2',\n",
       "       'WingtraOne Gen II', 'AeroSense Aerobo PPK (AS-MC03-PPK)',\n",
       "       'ACSL PF2-AE Delivery/Disaster-Relief/Patrol/Inspection',\n",
       "       'Skydio X10', 'Acecore Zoe X4', 'Freefly Astro',\n",
       "       'exabotix EB-Mercury Mapper', 'Edall Systems SPIDEX 600 MKI',\n",
       "       'Microdrones EasyOne', 'Innovadrone Surveyor',\n",
       "       'brinc drones Lemur 2', 'JTT Spider C85', 'Drona Aviation Pluto X',\n",
       "       'Prodrone PD4-AW-AQ', 'Edall Systems NAKSHYA VTOL ',\n",
       "       'Italdron Titan XLE', 'Draganfly Innovations Inc Commander',\n",
       "       'exabotix EB-Zelos Mapper', 'HG Robotics Vespa Hex',\n",
       "       'Italdron Titan LE', 'Italdron Levante', 'MAVTech AGRI 1900',\n",
       "       'Avular Vertex One',\n",
       "       'Draganfly Innovations Inc Commander 3 XL Hybrid',\n",
       "       'DJI Matrice300RTK', 'Aerosonde Ltd AAI Aerosonde Mk 4.3',\n",
       "       'Doosan Mobility DS30W', 'JOUAV CW-25H', 'Drone America Savant',\n",
       "       'JOUAV CW-15', 'Autel Robotics Dragonfish Pro', 'DJI Matrice210V2',\n",
       "       'DJI Matrice200V2', 'DJI Matrice210RTKV2',\n",
       "       'DJI Matrice200SeriesV2'], dtype=object)"
      ]
     },
     "execution_count": 96,
     "metadata": {},
     "output_type": "execute_result"
    }
   ],
   "source": [
    "final_df.drone3.unique()"
   ]
  },
  {
   "cell_type": "code",
   "execution_count": 97,
   "metadata": {},
   "outputs": [
    {
     "data": {
      "text/plain": [
       "57"
      ]
     },
     "execution_count": 97,
     "metadata": {},
     "output_type": "execute_result"
    }
   ],
   "source": [
    "len(final_df.drone3.unique())"
   ]
  },
  {
   "cell_type": "code",
   "execution_count": 5,
   "metadata": {},
   "outputs": [
    {
     "name": "stdout",
     "output_type": "stream",
     "text": [
      "<class 'pandas.core.frame.DataFrame'>\n",
      "RangeIndex: 16346160 entries, 0 to 16346159\n",
      "Data columns (total 28 columns):\n",
      " #   Column                    Dtype  \n",
      "---  ------                    -----  \n",
      " 0   HazardID                  int64  \n",
      " 1   HazardType                object \n",
      " 2   Stage                     object \n",
      " 3   Sensor                    object \n",
      " 4   FlightPath_m              float64\n",
      " 5   DroneModel                object \n",
      " 6   PayloadWeight             float64\n",
      " 7   DistanceRange             int64  \n",
      " 8   CommRange                 float64\n",
      " 9   FlightTime                float64\n",
      " 10  sensor_weight             int64  \n",
      " 11  model                     object \n",
      " 12  source_sensor             object \n",
      " 13  country                   object \n",
      " 14  mtow                      float64\n",
      " 15  length                    float64\n",
      " 16  width                     float64\n",
      " 17  height                    float64\n",
      " 18  max_speed                 float64\n",
      " 19  distance_range            float64\n",
      " 20  max_payload_weight        float64\n",
      " 21  max_alt                   float64\n",
      " 22  comm_range                float64\n",
      " 23  power_source              object \n",
      " 24  price                     float64\n",
      " 25  image                     object \n",
      " 26  source                    object \n",
      " 27  configuration_harmonized  object \n",
      "dtypes: float64(14), int64(3), object(11)\n",
      "memory usage: 3.4+ GB\n"
     ]
    }
   ],
   "source": [
    "dronesensor = pd.read_csv(r\"D:\\NDIS_Database\\NDIS372_geohazard_drone_results.csv\")\n",
    "dronesensor.info()"
   ]
  },
  {
   "cell_type": "code",
   "execution_count": 6,
   "metadata": {},
   "outputs": [],
   "source": [
    "cols_to_drop = [\n",
    "    'country',\n",
    "    'length',\n",
    "    'width',\n",
    "    'height',\n",
    "    'max_speed',\n",
    "    'max_alt',\n",
    "    'power_source',\n",
    "    'price',\n",
    "    'image',\n",
    "    'source',\n",
    "    'configuration_harmonized'\n",
    "]\n",
    "\n",
    "dronesensor = dronesensor.drop(columns=cols_to_drop)"
   ]
  },
  {
   "cell_type": "code",
   "execution_count": 7,
   "metadata": {},
   "outputs": [
    {
     "data": {
      "text/plain": [
       "array(['Thermal Camera', 'Camera', 'LiDAR', 'Magnetometers', 'Seismic'],\n",
       "      dtype=object)"
      ]
     },
     "execution_count": 7,
     "metadata": {},
     "output_type": "execute_result"
    }
   ],
   "source": [
    "dronesensor.Sensor.unique()"
   ]
  },
  {
   "cell_type": "code",
   "execution_count": 15,
   "metadata": {},
   "outputs": [
    {
     "data": {
      "text/plain": [
       "array(['Seismic', 'Magnetometers', 'Electromagnetic', 'Gravimeter', 'GPR',\n",
       "       'LiDAR', 'Camera', 'Hyperspectral', 'Multispectral',\n",
       "       'Thermal Camera', 'Radar Altimeter', 'Gamma Spectrometer', 'BPR'],\n",
       "      dtype=object)"
      ]
     },
     "execution_count": 15,
     "metadata": {},
     "output_type": "execute_result"
    }
   ],
   "source": [
    "sensor_df.sensor_name.unique()"
   ]
  },
  {
   "cell_type": "code",
   "execution_count": 16,
   "metadata": {},
   "outputs": [
    {
     "data": {
      "text/plain": [
       "array(['0', '4', '6', '8', '2', '3', '5', 'fixed wing VTOL', 'X8',\n",
       "       'fixedwing VTOL', 'fixed wing', nan, '5 fixed wing VTOL',\n",
       "       'helicopter'], dtype=object)"
      ]
     },
     "execution_count": 16,
     "metadata": {},
     "output_type": "execute_result"
    }
   ],
   "source": [
    "drone_df.configuration.unique()"
   ]
  },
  {
   "cell_type": "code",
   "execution_count": 24,
   "metadata": {},
   "outputs": [
    {
     "name": "stdout",
     "output_type": "stream",
     "text": [
      "<class 'pandas.core.frame.DataFrame'>\n",
      "RangeIndex: 179 entries, 0 to 178\n",
      "Data columns (total 31 columns):\n",
      " #   Column                    Non-Null Count  Dtype  \n",
      "---  ------                    --------------  -----  \n",
      " 0   rpas_id                   179 non-null    int64  \n",
      " 1   country                   179 non-null    object \n",
      " 2   manufacturer              179 non-null    object \n",
      " 3   mfc_model                 179 non-null    object \n",
      " 4   mtow                      157 non-null    float64\n",
      " 5   length                    153 non-null    float64\n",
      " 6   width                     160 non-null    float64\n",
      " 7   height                    135 non-null    float64\n",
      " 8   max_speed                 153 non-null    float64\n",
      " 9   distance_range            70 non-null     float64\n",
      " 10  flight_time               165 non-null    float64\n",
      " 11  max_payload_weight        161 non-null    float64\n",
      " 12  max_alt                   101 non-null    float64\n",
      " 13  comm_range                118 non-null    float64\n",
      " 14  power_source              163 non-null    object \n",
      " 15  power                     110 non-null    object \n",
      " 16  gps_accuracy              62 non-null     object \n",
      " 17  engine                    134 non-null    object \n",
      " 18  configuration             176 non-null    object \n",
      " 19  flight_cont               86 non-null     object \n",
      " 20  materials                 85 non-null     object \n",
      " 21  min_op_temp               109 non-null    float64\n",
      " 22  max_op_temp               108 non-null    float64\n",
      " 23  oas                       87 non-null     object \n",
      " 24  price                     65 non-null     float64\n",
      " 25  reg                       115 non-null    object \n",
      " 26  def_payload               141 non-null    object \n",
      " 27  purpose                   153 non-null    object \n",
      " 28  image                     179 non-null    object \n",
      " 29  source                    179 non-null    object \n",
      " 30  configuration_harmonized  176 non-null    object \n",
      "dtypes: float64(13), int64(1), object(17)\n",
      "memory usage: 43.5+ KB\n"
     ]
    }
   ],
   "source": [
    "drone_df.info()"
   ]
  },
  {
   "cell_type": "code",
   "execution_count": 23,
   "metadata": {},
   "outputs": [
    {
     "name": "stdout",
     "output_type": "stream",
     "text": [
      "<class 'pandas.core.frame.DataFrame'>\n",
      "RangeIndex: 16998132 entries, 0 to 16998131\n",
      "Data columns (total 20 columns):\n",
      " #   Column             Dtype  \n",
      "---  ------             -----  \n",
      " 0   HazardID           int64  \n",
      " 1   HazardType         object \n",
      " 2   latitude           float64\n",
      " 3   longitude          float64\n",
      " 4   DisasterPhase      object \n",
      " 5   RecommendedSensor  object \n",
      " 6   sensor_weight      int64  \n",
      " 7   sensor_model       object \n",
      " 8   distance           float64\n",
      " 9   mission_distance   float64\n",
      " 10  travel_time        float64\n",
      " 11  monitor_time       float64\n",
      " 12  setup_buffer       float64\n",
      " 13  cpm_total_time     float64\n",
      " 14  drone1             object \n",
      " 15  drone2             object \n",
      " 16  drone3             object \n",
      " 17  note1              object \n",
      " 18  note2              object \n",
      " 19  note3              object \n",
      "dtypes: float64(8), int64(2), object(10)\n",
      "memory usage: 2.5+ GB\n"
     ]
    }
   ],
   "source": [
    "final_df.info()"
   ]
  },
  {
   "cell_type": "code",
   "execution_count": 16,
   "metadata": {},
   "outputs": [],
   "source": [
    "# Define the mapping\n",
    "config_map = {\n",
    "    '0': 'Fixed Wing',\n",
    "    '2': 'Helicopter / Bicopter',\n",
    "    '3': 'Tricopter',\n",
    "    '4': 'Quadcopter',\n",
    "    '6': 'Hexacopter',\n",
    "    '8': 'Octocopter',\n",
    "    '5': 'Fixed Wing VTOL',\n",
    "    '5 fixed wing VTOL': 'Fixed Wing VTOL',\n",
    "    'fixed wing VTOL': 'Fixed Wing VTOL',\n",
    "    'fixedwing VTOL': 'Fixed Wing VTOL',\n",
    "    'fixed wing': 'Fixed Wing',\n",
    "    'helicopter': 'Helicopter / Bicopter',\n",
    "    'X8': 'X8 (Hybrid Octo)'\n",
    "}\n",
    "\n",
    "# Apply the mapping\n",
    "drone_df[\"configuration_harmonized\"] = drone_df[\"configuration\"].map(config_map)"
   ]
  },
  {
   "cell_type": "code",
   "execution_count": 10,
   "metadata": {},
   "outputs": [],
   "source": [
    "# Standardize both fields for safe matching\n",
    "dronesensor['DroneModel_clean'] = dronesensor['DroneModel'].str.strip().str.lower()\n",
    "drone_df['mfc_model_clean'] = drone_df['mfc_model'].str.strip().str.lower()"
   ]
  },
  {
   "cell_type": "code",
   "execution_count": 20,
   "metadata": {},
   "outputs": [
    {
     "ename": "<class 'NameError'>",
     "evalue": "name 'dronesensor' is not defined",
     "output_type": "error",
     "traceback": [
      "\u001b[1;31m---------------------------------------------------------------------------\u001b[0m",
      "\u001b[1;31mNameError\u001b[0m                                 Traceback (most recent call last)",
      "Cell \u001b[1;32mIn[20], line 12\u001b[0m\n\u001b[0;32m      9\u001b[0m drone_extra \u001b[38;5;241m=\u001b[39m drone_df\u001b[38;5;241m.\u001b[39mdrop(columns\u001b[38;5;241m=\u001b[39m[col \u001b[38;5;28;01mfor\u001b[39;00m col \u001b[38;5;129;01min\u001b[39;00m exclude_fields \u001b[38;5;28;01mif\u001b[39;00m col \u001b[38;5;129;01min\u001b[39;00m drone_df\u001b[38;5;241m.\u001b[39mcolumns])\n\u001b[0;32m     11\u001b[0m \u001b[38;5;66;03m# Step 2: Merge only needed columns to avoid memory bloating\u001b[39;00m\n\u001b[1;32m---> 12\u001b[0m dronesensor_df \u001b[38;5;241m=\u001b[39m dronesensor\u001b[38;5;241m.\u001b[39mmerge(\n\u001b[0;32m     13\u001b[0m     drone_extra[[\u001b[38;5;124m'\u001b[39m\u001b[38;5;124mmfc_model_clean\u001b[39m\u001b[38;5;124m'\u001b[39m, \u001b[38;5;124m'\u001b[39m\u001b[38;5;124mimage\u001b[39m\u001b[38;5;124m'\u001b[39m]],  \u001b[38;5;66;03m# merge only relevant fields\u001b[39;00m\n\u001b[0;32m     14\u001b[0m     left_on\u001b[38;5;241m=\u001b[39m\u001b[38;5;124m'\u001b[39m\u001b[38;5;124mDroneModel_clean\u001b[39m\u001b[38;5;124m'\u001b[39m,\n\u001b[0;32m     15\u001b[0m     right_on\u001b[38;5;241m=\u001b[39m\u001b[38;5;124m'\u001b[39m\u001b[38;5;124mmfc_model_clean\u001b[39m\u001b[38;5;124m'\u001b[39m,\n\u001b[0;32m     16\u001b[0m     how\u001b[38;5;241m=\u001b[39m\u001b[38;5;124m'\u001b[39m\u001b[38;5;124mleft\u001b[39m\u001b[38;5;124m'\u001b[39m,\n\u001b[0;32m     17\u001b[0m     copy\u001b[38;5;241m=\u001b[39m\u001b[38;5;28;01mFalse\u001b[39;00m\n\u001b[0;32m     18\u001b[0m )\n\u001b[0;32m     20\u001b[0m \u001b[38;5;66;03m# Step 3: Patch missing images manually (lightweight fix)\u001b[39;00m\n\u001b[0;32m     21\u001b[0m manual_image_map \u001b[38;5;241m=\u001b[39m {\n\u001b[0;32m     22\u001b[0m     \u001b[38;5;124m'\u001b[39m\u001b[38;5;124mDragandfly Innovations Inc Starling X.2\u001b[39m\u001b[38;5;124m'\u001b[39m: \u001b[38;5;124m'\u001b[39m\u001b[38;5;124mhttps://draganfly.com/wp-content/uploads/2023/07/Disaster-Response.webp\u001b[39m\u001b[38;5;124m'\u001b[39m,\n\u001b[0;32m     23\u001b[0m     \u001b[38;5;124m'\u001b[39m\u001b[38;5;124mDragandfly Innovations Inc Heavy Lift Drone\u001b[39m\u001b[38;5;124m'\u001b[39m: \u001b[38;5;124m'\u001b[39m\u001b[38;5;124mhttps://candrone.com/cdn/shop/products/ScreenShot2022-06-03at11.55.59AM.png\u001b[39m\u001b[38;5;124m'\u001b[39m\n\u001b[0;32m     24\u001b[0m }\n",
      "\u001b[1;31mNameError\u001b[0m: name 'dronesensor' is not defined"
     ]
    }
   ],
   "source": [
    "# Step 1: Clean up and filter drone_df first to save memory\n",
    "exclude_fields = [\n",
    "    'rpas_id', 'reg', 'def_payload', 'purpose', 'flight_cont',\n",
    "    'materials', 'min_op_temp', 'max_op_temp', 'power',\n",
    "    'gps_accuracy', 'engine', 'oas', 'flight_time', 'configuration'\n",
    "]\n",
    "\n",
    "# Drop extra fields if they exist\n",
    "drone_extra = drone_df.drop(columns=[col for col in exclude_fields if col in drone_df.columns])\n",
    "\n",
    "# Step 2: Merge only needed columns to avoid memory bloating\n",
    "dronesensor_df = dronesensor.merge(\n",
    "    drone_extra[['mfc_model_clean', 'image']],  # merge only relevant fields\n",
    "    left_on='DroneModel_clean',\n",
    "    right_on='mfc_model_clean',\n",
    "    how='left',\n",
    "    copy=False\n",
    ")\n",
    "\n",
    "# Step 3: Patch missing images manually (lightweight fix)\n",
    "manual_image_map = {\n",
    "    'Dragandfly Innovations Inc Starling X.2': 'https://draganfly.com/wp-content/uploads/2023/07/Disaster-Response.webp',\n",
    "    'Dragandfly Innovations Inc Heavy Lift Drone': 'https://candrone.com/cdn/shop/products/ScreenShot2022-06-03at11.55.59AM.png'\n",
    "}\n",
    "mask = dronesensor_df['image'].isna() & dronesensor_df['DroneModel'].isin(manual_image_map)\n",
    "dronesensor_df.loc[mask, 'image'] = dronesensor_df.loc[mask, 'DroneModel'].map(manual_image_map)\n",
    "\n",
    "# Step 4: Run garbage collection to clean up memory (recommended in ArcGIS Pro)\n",
    "gc.collect()\n",
    "\n",
    "# Optional: Save to disk or GDB/table\n",
    "# dronesensor_df.to_feather(r\"path_to\\light_dronesensor.feather\")  # very fast load/save\n",
    "\n",
    "print(\"✅ Done. Remaining NaN images:\", dronesensor_df['image'].isna().sum())"
   ]
  },
  {
   "cell_type": "code",
   "execution_count": 22,
   "metadata": {},
   "outputs": [
    {
     "ename": "<class 'KeyError'>",
     "evalue": "'DroneModel'",
     "output_type": "error",
     "traceback": [
      "\u001b[1;31m---------------------------------------------------------------------------\u001b[0m",
      "\u001b[1;31mKeyError\u001b[0m                                  Traceback (most recent call last)",
      "\u001b[1;32mC:/Users/Dell/AppData/Local/Temp/ArcGISProTemp6220/xpython_6220/2007532314.py\u001b[0m in \u001b[0;36m?\u001b[1;34m()\u001b[0m\n\u001b[0;32m      8\u001b[0m \u001b[1;31m# Drop extra fields if they exist\u001b[0m\u001b[1;33m\u001b[0m\u001b[1;33m\u001b[0m\u001b[0m\n\u001b[0;32m      9\u001b[0m \u001b[0mdrone_extra\u001b[0m \u001b[1;33m=\u001b[0m \u001b[0mdrone_df\u001b[0m\u001b[1;33m.\u001b[0m\u001b[0mdrop\u001b[0m\u001b[1;33m(\u001b[0m\u001b[0mcolumns\u001b[0m\u001b[1;33m=\u001b[0m\u001b[1;33m[\u001b[0m\u001b[0mcol\u001b[0m \u001b[1;32mfor\u001b[0m \u001b[0mcol\u001b[0m \u001b[1;32min\u001b[0m \u001b[0mexclude_fields\u001b[0m \u001b[1;32mif\u001b[0m \u001b[0mcol\u001b[0m \u001b[1;32min\u001b[0m \u001b[0mdrone_df\u001b[0m\u001b[1;33m.\u001b[0m\u001b[0mcolumns\u001b[0m\u001b[1;33m]\u001b[0m\u001b[1;33m)\u001b[0m\u001b[1;33m\u001b[0m\u001b[1;33m\u001b[0m\u001b[0m\n\u001b[0;32m     10\u001b[0m \u001b[1;33m\u001b[0m\u001b[0m\n\u001b[0;32m     11\u001b[0m \u001b[1;31m# Step 2: Merge only needed columns to avoid memory bloating\u001b[0m\u001b[1;33m\u001b[0m\u001b[1;33m\u001b[0m\u001b[0m\n\u001b[1;32m---> 12\u001b[1;33m final_df = final_df.merge(\n\u001b[0m\u001b[0;32m     13\u001b[0m     \u001b[0mdrone_extra\u001b[0m\u001b[1;33m[\u001b[0m\u001b[1;33m[\u001b[0m\u001b[1;34m'mfc_model'\u001b[0m\u001b[1;33m,\u001b[0m \u001b[1;34m'image'\u001b[0m\u001b[1;33m]\u001b[0m\u001b[1;33m]\u001b[0m\u001b[1;33m,\u001b[0m  \u001b[1;31m# merge only relevant fields\u001b[0m\u001b[1;33m\u001b[0m\u001b[1;33m\u001b[0m\u001b[0m\n\u001b[0;32m     14\u001b[0m     \u001b[0mleft_on\u001b[0m\u001b[1;33m=\u001b[0m\u001b[1;34m'DroneModel'\u001b[0m\u001b[1;33m,\u001b[0m\u001b[1;33m\u001b[0m\u001b[1;33m\u001b[0m\u001b[0m\n\u001b[0;32m     15\u001b[0m     \u001b[0mright_on\u001b[0m\u001b[1;33m=\u001b[0m\u001b[1;34m'mfc_model'\u001b[0m\u001b[1;33m,\u001b[0m\u001b[1;33m\u001b[0m\u001b[1;33m\u001b[0m\u001b[0m\n",
      "\u001b[1;32mC:\\Program Files\\ArcGIS\\Pro\\bin\\Python\\envs\\arcgisclone\\Lib\\site-packages\\pandas\\core\\frame.py\u001b[0m in \u001b[0;36m?\u001b[1;34m(self, right, how, on, left_on, right_on, left_index, right_index, sort, suffixes, copy, indicator, validate)\u001b[0m\n\u001b[0;32m   9839\u001b[0m         \u001b[0mvalidate\u001b[0m\u001b[1;33m:\u001b[0m \u001b[0mstr\u001b[0m \u001b[1;33m|\u001b[0m \u001b[1;32mNone\u001b[0m \u001b[1;33m=\u001b[0m \u001b[1;32mNone\u001b[0m\u001b[1;33m,\u001b[0m\u001b[1;33m\u001b[0m\u001b[1;33m\u001b[0m\u001b[0m\n\u001b[0;32m   9840\u001b[0m     ) -> DataFrame:\n\u001b[0;32m   9841\u001b[0m         \u001b[1;32mfrom\u001b[0m \u001b[0mpandas\u001b[0m\u001b[1;33m.\u001b[0m\u001b[0mcore\u001b[0m\u001b[1;33m.\u001b[0m\u001b[0mreshape\u001b[0m\u001b[1;33m.\u001b[0m\u001b[0mmerge\u001b[0m \u001b[1;32mimport\u001b[0m \u001b[0mmerge\u001b[0m\u001b[1;33m\u001b[0m\u001b[1;33m\u001b[0m\u001b[0m\n\u001b[0;32m   9842\u001b[0m \u001b[1;33m\u001b[0m\u001b[0m\n\u001b[1;32m-> 9843\u001b[1;33m         return merge(\n\u001b[0m\u001b[0;32m   9844\u001b[0m             \u001b[0mself\u001b[0m\u001b[1;33m,\u001b[0m\u001b[1;33m\u001b[0m\u001b[1;33m\u001b[0m\u001b[0m\n\u001b[0;32m   9845\u001b[0m             \u001b[0mright\u001b[0m\u001b[1;33m,\u001b[0m\u001b[1;33m\u001b[0m\u001b[1;33m\u001b[0m\u001b[0m\n\u001b[0;32m   9846\u001b[0m             \u001b[0mhow\u001b[0m\u001b[1;33m=\u001b[0m\u001b[0mhow\u001b[0m\u001b[1;33m,\u001b[0m\u001b[1;33m\u001b[0m\u001b[1;33m\u001b[0m\u001b[0m\n",
      "\u001b[1;32mC:\\Program Files\\ArcGIS\\Pro\\bin\\Python\\envs\\arcgisclone\\Lib\\site-packages\\pandas\\core\\reshape\\merge.py\u001b[0m in \u001b[0;36m?\u001b[1;34m(left, right, how, on, left_on, right_on, left_index, right_index, sort, suffixes, copy, indicator, validate)\u001b[0m\n\u001b[0;32m    144\u001b[0m     \u001b[0mcopy\u001b[0m\u001b[1;33m:\u001b[0m \u001b[0mbool\u001b[0m \u001b[1;33m|\u001b[0m \u001b[1;32mNone\u001b[0m \u001b[1;33m=\u001b[0m \u001b[1;32mNone\u001b[0m\u001b[1;33m,\u001b[0m\u001b[1;33m\u001b[0m\u001b[1;33m\u001b[0m\u001b[0m\n\u001b[0;32m    145\u001b[0m     \u001b[0mindicator\u001b[0m\u001b[1;33m:\u001b[0m \u001b[0mstr\u001b[0m \u001b[1;33m|\u001b[0m \u001b[0mbool\u001b[0m \u001b[1;33m=\u001b[0m \u001b[1;32mFalse\u001b[0m\u001b[1;33m,\u001b[0m\u001b[1;33m\u001b[0m\u001b[1;33m\u001b[0m\u001b[0m\n\u001b[0;32m    146\u001b[0m     \u001b[0mvalidate\u001b[0m\u001b[1;33m:\u001b[0m \u001b[0mstr\u001b[0m \u001b[1;33m|\u001b[0m \u001b[1;32mNone\u001b[0m \u001b[1;33m=\u001b[0m \u001b[1;32mNone\u001b[0m\u001b[1;33m,\u001b[0m\u001b[1;33m\u001b[0m\u001b[1;33m\u001b[0m\u001b[0m\n\u001b[0;32m    147\u001b[0m ) -> DataFrame:\n\u001b[1;32m--> 148\u001b[1;33m     op = _MergeOperation(\n\u001b[0m\u001b[0;32m    149\u001b[0m         \u001b[0mleft\u001b[0m\u001b[1;33m,\u001b[0m\u001b[1;33m\u001b[0m\u001b[1;33m\u001b[0m\u001b[0m\n\u001b[0;32m    150\u001b[0m         \u001b[0mright\u001b[0m\u001b[1;33m,\u001b[0m\u001b[1;33m\u001b[0m\u001b[1;33m\u001b[0m\u001b[0m\n\u001b[0;32m    151\u001b[0m         \u001b[0mhow\u001b[0m\u001b[1;33m=\u001b[0m\u001b[0mhow\u001b[0m\u001b[1;33m,\u001b[0m\u001b[1;33m\u001b[0m\u001b[1;33m\u001b[0m\u001b[0m\n",
      "\u001b[1;32mC:\\Program Files\\ArcGIS\\Pro\\bin\\Python\\envs\\arcgisclone\\Lib\\site-packages\\pandas\\core\\reshape\\merge.py\u001b[0m in \u001b[0;36m?\u001b[1;34m(self, left, right, how, on, left_on, right_on, axis, left_index, right_index, sort, suffixes, indicator, validate)\u001b[0m\n\u001b[0;32m    733\u001b[0m         (\n\u001b[0;32m    734\u001b[0m             \u001b[0mself\u001b[0m\u001b[1;33m.\u001b[0m\u001b[0mleft_join_keys\u001b[0m\u001b[1;33m,\u001b[0m\u001b[1;33m\u001b[0m\u001b[1;33m\u001b[0m\u001b[0m\n\u001b[0;32m    735\u001b[0m             \u001b[0mself\u001b[0m\u001b[1;33m.\u001b[0m\u001b[0mright_join_keys\u001b[0m\u001b[1;33m,\u001b[0m\u001b[1;33m\u001b[0m\u001b[1;33m\u001b[0m\u001b[0m\n\u001b[0;32m    736\u001b[0m             \u001b[0mself\u001b[0m\u001b[1;33m.\u001b[0m\u001b[0mjoin_names\u001b[0m\u001b[1;33m,\u001b[0m\u001b[1;33m\u001b[0m\u001b[1;33m\u001b[0m\u001b[0m\n\u001b[1;32m--> 737\u001b[1;33m         ) = self._get_merge_keys()\n\u001b[0m\u001b[0;32m    738\u001b[0m \u001b[1;33m\u001b[0m\u001b[0m\n\u001b[0;32m    739\u001b[0m         \u001b[1;31m# validate the merge keys dtypes. We may need to coerce\u001b[0m\u001b[1;33m\u001b[0m\u001b[1;33m\u001b[0m\u001b[0m\n\u001b[0;32m    740\u001b[0m         \u001b[1;31m# to avoid incompatible dtypes\u001b[0m\u001b[1;33m\u001b[0m\u001b[1;33m\u001b[0m\u001b[0m\n",
      "\u001b[1;32mC:\\Program Files\\ArcGIS\\Pro\\bin\\Python\\envs\\arcgisclone\\Lib\\site-packages\\pandas\\core\\reshape\\merge.py\u001b[0m in \u001b[0;36m?\u001b[1;34m(self)\u001b[0m\n\u001b[0;32m   1217\u001b[0m                     \u001b[1;32mif\u001b[0m \u001b[0mlk\u001b[0m \u001b[1;32mis\u001b[0m \u001b[1;32mnot\u001b[0m \u001b[1;32mNone\u001b[0m\u001b[1;33m:\u001b[0m\u001b[1;33m\u001b[0m\u001b[1;33m\u001b[0m\u001b[0m\n\u001b[0;32m   1218\u001b[0m                         \u001b[1;31m# Then we're either Hashable or a wrong-length arraylike,\u001b[0m\u001b[1;33m\u001b[0m\u001b[1;33m\u001b[0m\u001b[0m\n\u001b[0;32m   1219\u001b[0m                         \u001b[1;31m#  the latter of which will raise\u001b[0m\u001b[1;33m\u001b[0m\u001b[1;33m\u001b[0m\u001b[0m\n\u001b[0;32m   1220\u001b[0m                         \u001b[0mlk\u001b[0m \u001b[1;33m=\u001b[0m \u001b[0mcast\u001b[0m\u001b[1;33m(\u001b[0m\u001b[0mHashable\u001b[0m\u001b[1;33m,\u001b[0m \u001b[0mlk\u001b[0m\u001b[1;33m)\u001b[0m\u001b[1;33m\u001b[0m\u001b[1;33m\u001b[0m\u001b[0m\n\u001b[1;32m-> 1221\u001b[1;33m                         \u001b[0mleft_keys\u001b[0m\u001b[1;33m.\u001b[0m\u001b[0mappend\u001b[0m\u001b[1;33m(\u001b[0m\u001b[0mleft\u001b[0m\u001b[1;33m.\u001b[0m\u001b[0m_get_label_or_level_values\u001b[0m\u001b[1;33m(\u001b[0m\u001b[0mlk\u001b[0m\u001b[1;33m)\u001b[0m\u001b[1;33m)\u001b[0m\u001b[1;33m\u001b[0m\u001b[1;33m\u001b[0m\u001b[0m\n\u001b[0m\u001b[0;32m   1222\u001b[0m                         \u001b[0mjoin_names\u001b[0m\u001b[1;33m.\u001b[0m\u001b[0mappend\u001b[0m\u001b[1;33m(\u001b[0m\u001b[0mlk\u001b[0m\u001b[1;33m)\u001b[0m\u001b[1;33m\u001b[0m\u001b[1;33m\u001b[0m\u001b[0m\n\u001b[0;32m   1223\u001b[0m                     \u001b[1;32melse\u001b[0m\u001b[1;33m:\u001b[0m\u001b[1;33m\u001b[0m\u001b[1;33m\u001b[0m\u001b[0m\n\u001b[0;32m   1224\u001b[0m                         \u001b[1;31m# work-around for merge_asof(left_index=True)\u001b[0m\u001b[1;33m\u001b[0m\u001b[1;33m\u001b[0m\u001b[0m\n",
      "\u001b[1;32mC:\\Program Files\\ArcGIS\\Pro\\bin\\Python\\envs\\arcgisclone\\Lib\\site-packages\\pandas\\core\\generic.py\u001b[0m in \u001b[0;36m?\u001b[1;34m(self, key, axis)\u001b[0m\n\u001b[0;32m   1774\u001b[0m             \u001b[0mvalues\u001b[0m \u001b[1;33m=\u001b[0m \u001b[0mself\u001b[0m\u001b[1;33m.\u001b[0m\u001b[0mxs\u001b[0m\u001b[1;33m(\u001b[0m\u001b[0mkey\u001b[0m\u001b[1;33m,\u001b[0m \u001b[0maxis\u001b[0m\u001b[1;33m=\u001b[0m\u001b[0mother_axes\u001b[0m\u001b[1;33m[\u001b[0m\u001b[1;36m0\u001b[0m\u001b[1;33m]\u001b[0m\u001b[1;33m)\u001b[0m\u001b[1;33m.\u001b[0m\u001b[0m_values\u001b[0m\u001b[1;33m\u001b[0m\u001b[1;33m\u001b[0m\u001b[0m\n\u001b[0;32m   1775\u001b[0m         \u001b[1;32melif\u001b[0m \u001b[0mself\u001b[0m\u001b[1;33m.\u001b[0m\u001b[0m_is_level_reference\u001b[0m\u001b[1;33m(\u001b[0m\u001b[0mkey\u001b[0m\u001b[1;33m,\u001b[0m \u001b[0maxis\u001b[0m\u001b[1;33m=\u001b[0m\u001b[0maxis\u001b[0m\u001b[1;33m)\u001b[0m\u001b[1;33m:\u001b[0m\u001b[1;33m\u001b[0m\u001b[1;33m\u001b[0m\u001b[0m\n\u001b[0;32m   1776\u001b[0m             \u001b[0mvalues\u001b[0m \u001b[1;33m=\u001b[0m \u001b[0mself\u001b[0m\u001b[1;33m.\u001b[0m\u001b[0maxes\u001b[0m\u001b[1;33m[\u001b[0m\u001b[0maxis\u001b[0m\u001b[1;33m]\u001b[0m\u001b[1;33m.\u001b[0m\u001b[0mget_level_values\u001b[0m\u001b[1;33m(\u001b[0m\u001b[0mkey\u001b[0m\u001b[1;33m)\u001b[0m\u001b[1;33m.\u001b[0m\u001b[0m_values\u001b[0m\u001b[1;33m\u001b[0m\u001b[1;33m\u001b[0m\u001b[0m\n\u001b[0;32m   1777\u001b[0m         \u001b[1;32melse\u001b[0m\u001b[1;33m:\u001b[0m\u001b[1;33m\u001b[0m\u001b[1;33m\u001b[0m\u001b[0m\n\u001b[1;32m-> 1778\u001b[1;33m             \u001b[1;32mraise\u001b[0m \u001b[0mKeyError\u001b[0m\u001b[1;33m(\u001b[0m\u001b[0mkey\u001b[0m\u001b[1;33m)\u001b[0m\u001b[1;33m\u001b[0m\u001b[1;33m\u001b[0m\u001b[0m\n\u001b[0m\u001b[0;32m   1779\u001b[0m \u001b[1;33m\u001b[0m\u001b[0m\n\u001b[0;32m   1780\u001b[0m         \u001b[1;31m# Check for duplicates\u001b[0m\u001b[1;33m\u001b[0m\u001b[1;33m\u001b[0m\u001b[0m\n\u001b[0;32m   1781\u001b[0m         \u001b[1;32mif\u001b[0m \u001b[0mvalues\u001b[0m\u001b[1;33m.\u001b[0m\u001b[0mndim\u001b[0m \u001b[1;33m>\u001b[0m \u001b[1;36m1\u001b[0m\u001b[1;33m:\u001b[0m\u001b[1;33m\u001b[0m\u001b[1;33m\u001b[0m\u001b[0m\n",
      "\u001b[1;31mKeyError\u001b[0m: 'DroneModel'"
     ]
    }
   ],
   "source": [
    "# Step 1: Clean up and filter drone_df first to save memory\n",
    "exclude_fields = [\n",
    "    'rpas_id', 'reg', 'def_payload', 'purpose', 'flight_cont',\n",
    "    'materials', 'min_op_temp', 'max_op_temp', 'power',\n",
    "    'gps_accuracy', 'engine', 'oas', 'flight_time', 'configuration'\n",
    "]\n",
    "\n",
    "# Drop extra fields if they exist\n",
    "drone_extra = drone_df.drop(columns=[col for col in exclude_fields if col in drone_df.columns])\n",
    "\n",
    "# Step 2: Merge only needed columns to avoid memory bloating\n",
    "final_df = final_df.merge(\n",
    "    drone_extra[['mfc_model', 'image']],  # merge only relevant fields\n",
    "    left_on='DroneModel',\n",
    "    right_on='mfc_model',\n",
    "    how='left',\n",
    "    copy=False\n",
    ")\n",
    "\n",
    "# Step 3: Patch missing images manually (lightweight fix)\n",
    "manual_image_map = {\n",
    "    'Dragandfly Innovations Inc Starling X.2': 'https://draganfly.com/wp-content/uploads/2023/07/Disaster-Response.webp',\n",
    "    'Dragandfly Innovations Inc Heavy Lift Drone': 'https://candrone.com/cdn/shop/products/ScreenShot2022-06-03at11.55.59AM.png'\n",
    "}\n",
    "mask = dronesensor_df['image'].isna() & final_df['DroneModel'].isin(manual_image_map)\n",
    "final_df.loc[mask, 'image'] = final_df.loc[mask, 'DroneModel'].map(manual_image_map)\n",
    "\n",
    "# Step 4: Run garbage collection to clean up memory (recommended in ArcGIS Pro)\n",
    "gc.collect()\n",
    "\n",
    "# Optional: Save to disk or GDB/table\n",
    "# dronesensor_df.to_feather(r\"path_to\\light_dronesensor.feather\")  # very fast load/save\n",
    "\n",
    "print(\"✅ Done. Remaining NaN images:\", final_df['image'].isna().sum())"
   ]
  },
  {
   "cell_type": "code",
   "execution_count": 12,
   "metadata": {},
   "outputs": [
    {
     "name": "stdout",
     "output_type": "stream",
     "text": [
      "<class 'pandas.core.frame.DataFrame'>\n",
      "RangeIndex: 16346160 entries, 0 to 16346159\n",
      "Data columns (total 20 columns):\n",
      " #   Column              Dtype  \n",
      "---  ------              -----  \n",
      " 0   HazardID            int64  \n",
      " 1   HazardType          object \n",
      " 2   Stage               object \n",
      " 3   Sensor              object \n",
      " 4   FlightPath_m        float64\n",
      " 5   DroneModel          object \n",
      " 6   PayloadWeight       float64\n",
      " 7   DistanceRange       int64  \n",
      " 8   CommRange           float64\n",
      " 9   FlightTime          float64\n",
      " 10  sensor_weight       int64  \n",
      " 11  model               object \n",
      " 12  source_sensor       object \n",
      " 13  mtow                float64\n",
      " 14  distance_range      float64\n",
      " 15  max_payload_weight  float64\n",
      " 16  comm_range          float64\n",
      " 17  DroneModel_clean    object \n",
      " 18  mfc_model_clean     object \n",
      " 19  image               object \n",
      "dtypes: float64(8), int64(3), object(9)\n",
      "memory usage: 2.4+ GB\n"
     ]
    }
   ],
   "source": [
    "dronesensor_df.info()"
   ]
  },
  {
   "cell_type": "code",
   "execution_count": 14,
   "metadata": {},
   "outputs": [],
   "source": [
    "# Re-merge with selected non-excluded columns\n",
    "columns_to_add = [\n",
    "    'mfc_model_clean', 'country', 'manufacturer', 'mfc_model',\n",
    "    'length', 'width', 'height', 'max_speed', 'max_alt',\n",
    "    'power_source', 'price', 'image', 'source', 'configuration_harmonized'\n",
    "]\n",
    "\n",
    "# Filter out columns that don't exist in drone_df to avoid error\n",
    "columns_to_add = [col for col in columns_to_add if col in drone_df.columns]\n",
    "\n",
    "# Re-merge\n",
    "dronesensor_df = dronesensor_df.drop(columns=[col for col in columns_to_add if col != 'mfc_model_clean'], errors='ignore')\n",
    "dronesensor_df = dronesensor_df.merge(\n",
    "    drone_df[columns_to_add],\n",
    "    on='mfc_model_clean',\n",
    "    how='left'\n",
    ")"
   ]
  },
  {
   "cell_type": "code",
   "execution_count": 17,
   "metadata": {},
   "outputs": [],
   "source": [
    "# Step 1: Ensure DroneModel_clean is lowercase and stripped\n",
    "dronesensor_df[\"DroneModel_clean\"] = dronesensor_df[\"DroneModel\"].astype(str).str.strip().str.lower()\n",
    "\n",
    "# Step 2: Prepare manual image mapping (lowercased keys)\n",
    "manual_image_map = {\n",
    "    \"dragandfly innovations inc starling x.2\": \"https://draganfly.com/wp-content/uploads/2023/07/Disaster-Response.webp\",\n",
    "    \"dragandfly innovations inc heavy lift drone\": \"https://candrone.com/cdn/shop/products/ScreenShot2022-06-03at11.55.59AM.png\"\n",
    "}\n",
    "\n",
    "# Step 3: Create mapping Series\n",
    "manual_map_series = pd.Series(manual_image_map)\n",
    "\n",
    "# Step 4: Fill only rows with missing images using `.fillna()` and `.map()`\n",
    "missing_mask = dronesensor_df[\"image\"].isna()\n",
    "dronesensor_df.loc[missing_mask, \"image\"] = (\n",
    "    dronesensor_df.loc[missing_mask, \"DroneModel_clean\"].map(manual_map_series)\n",
    ")\n"
   ]
  },
  {
   "cell_type": "code",
   "execution_count": 18,
   "metadata": {},
   "outputs": [
    {
     "name": "stdout",
     "output_type": "stream",
     "text": [
      "<class 'pandas.core.frame.DataFrame'>\n",
      "RangeIndex: 16346160 entries, 0 to 16346159\n",
      "Data columns (total 32 columns):\n",
      " #   Column                    Dtype  \n",
      "---  ------                    -----  \n",
      " 0   HazardID                  int64  \n",
      " 1   HazardType                object \n",
      " 2   Stage                     object \n",
      " 3   Sensor                    object \n",
      " 4   FlightPath_m              float64\n",
      " 5   DroneModel                object \n",
      " 6   PayloadWeight             float64\n",
      " 7   DistanceRange             int64  \n",
      " 8   CommRange                 float64\n",
      " 9   FlightTime                float64\n",
      " 10  sensor_weight             int64  \n",
      " 11  model                     object \n",
      " 12  source_sensor             object \n",
      " 13  mtow                      float64\n",
      " 14  distance_range            float64\n",
      " 15  max_payload_weight        float64\n",
      " 16  comm_range                float64\n",
      " 17  DroneModel_clean          object \n",
      " 18  mfc_model_clean           object \n",
      " 19  country                   object \n",
      " 20  manufacturer              object \n",
      " 21  mfc_model                 object \n",
      " 22  length                    float64\n",
      " 23  width                     float64\n",
      " 24  height                    float64\n",
      " 25  max_speed                 float64\n",
      " 26  max_alt                   float64\n",
      " 27  power_source              object \n",
      " 28  price                     float64\n",
      " 29  image                     object \n",
      " 30  source                    object \n",
      " 31  configuration_harmonized  object \n",
      "dtypes: float64(14), int64(3), object(15)\n",
      "memory usage: 3.9+ GB\n"
     ]
    }
   ],
   "source": [
    "dronesensor_df.info()"
   ]
  },
  {
   "cell_type": "code",
   "execution_count": 24,
   "metadata": {},
   "outputs": [
    {
     "data": {
      "text/plain": [
       "array([False])"
      ]
     },
     "execution_count": 24,
     "metadata": {},
     "output_type": "execute_result"
    }
   ],
   "source": [
    "dronesensor_df.image.isna().unique()"
   ]
  },
  {
   "cell_type": "code",
   "execution_count": 20,
   "metadata": {},
   "outputs": [
    {
     "name": "stdout",
     "output_type": "stream",
     "text": [
      "🚨 DroneModels with missing image after merge (0):\n",
      "[]\n"
     ]
    }
   ],
   "source": [
    "# Show DroneModel values where image is NaN after merge\n",
    "missing_image_models = dronesensor_df[dronesensor_df['image'].isna()]['DroneModel'].unique()\n",
    "\n",
    "print(f\"🚨 DroneModels with missing image after merge ({len(missing_image_models)}):\")\n",
    "print(missing_image_models)"
   ]
  },
  {
   "cell_type": "code",
   "execution_count": 46,
   "metadata": {},
   "outputs": [
    {
     "name": "stdout",
     "output_type": "stream",
     "text": [
      "<class 'pandas.core.frame.DataFrame'>\n",
      "RangeIndex: 16346160 entries, 0 to 16346159\n",
      "Data columns (total 31 columns):\n",
      " #   Column                    Dtype  \n",
      "---  ------                    -----  \n",
      " 0   HazardID                  int64  \n",
      " 1   HazardType                object \n",
      " 2   Stage                     object \n",
      " 3   Sensor                    object \n",
      " 4   FlightPath_m              float64\n",
      " 5   DroneModel                object \n",
      " 6   PayloadWeight             float64\n",
      " 7   DistanceRange             int64  \n",
      " 8   CommRange                 float64\n",
      " 9   FlightTime                float64\n",
      " 10  country                   object \n",
      " 11  manufacturer              object \n",
      " 12  mfc_model                 object \n",
      " 13  length                    float64\n",
      " 14  width                     float64\n",
      " 15  height                    float64\n",
      " 16  max_speed                 float64\n",
      " 17  max_alt                   float64\n",
      " 18  power_source              object \n",
      " 19  price                     float64\n",
      " 20  image                     object \n",
      " 21  source                    object \n",
      " 22  configuration_harmonized  object \n",
      " 23  sensor_name               object \n",
      " 24  sensor_weight             float64\n",
      " 25  model                     object \n",
      " 26  source_sensor             object \n",
      " 27  sensor_name_sensor        object \n",
      " 28  sensor_weight_sensor      int64  \n",
      " 29  model_sensor              object \n",
      " 30  source_sensor             object \n",
      "dtypes: float64(11), int64(3), object(17)\n",
      "memory usage: 3.8+ GB\n"
     ]
    }
   ],
   "source": [
    "# Mapping dictionary from Sensor column values to sensor_name values\n",
    "sensor_mapping = {\n",
    "    'Thermal_Camera': 'Thermal Camera',\n",
    "    'Thermal_Camera': 'Thermal Camera',  # Ensure consistency for Thermal Camera\n",
    "    'Camera': 'Camera',\n",
    "    'Lidar': 'LiDAR',\n",
    "    'Magnetometers': 'Magnetometers',\n",
    "    'Seismic': 'Seismic'\n",
    "}\n",
    "\n",
    "# Standardize Sensor names in dronesensor_df\n",
    "dronesensor['Sensor'] = dronesensor['Sensor'].map(sensor_mapping).fillna(dronesensor['Sensor'])\n",
    "\n",
    "# List of fields to exclude from sensor_df\n",
    "exclude_sensor = [\n",
    "    'sensor_id', 'parameters_measured', 'method'\n",
    "]\n",
    "\n",
    "# Filter sensor_df to include only desired fields\n",
    "sensor_extra = sensor_df.drop(columns=exclude_sensor)\n",
    "\n",
    "# Merge the dataframes on the consistent sensor names\n",
    "dronesensor = dronesensor.merge(\n",
    "    sensor_extra,\n",
    "    left_on='Sensor',\n",
    "    right_on='sensor_name',\n",
    "    how='left',\n",
    "    suffixes=('', '_sensor')\n",
    ")\n",
    "\n",
    "# Check the resulting dataframe\n",
    "dronesensor.info()"
   ]
  },
  {
   "cell_type": "code",
   "execution_count": 48,
   "metadata": {},
   "outputs": [],
   "source": [
    "# List of columns to exclude from dronesensor_df before merge\n",
    "exclude_dronesensor_columns = [\n",
    "    'sensor_name', \n",
    "    'sensor_weight', \n",
    "    'model', \n",
    "    'source_sensor', \n",
    "    'sensor_name_sensor', \n",
    "    'sensor_weight_sensor', \n",
    "    'model_sensor', \n",
    "    'source_sensor'\n",
    "]\n",
    "\n",
    "# Drop the unwanted columns from dronesensor_df\n",
    "dronesensor_df = dronesensor.drop(columns=exclude_dronesensor_columns)"
   ]
  },
  {
   "cell_type": "code",
   "execution_count": 50,
   "metadata": {},
   "outputs": [
    {
     "name": "stdout",
     "output_type": "stream",
     "text": [
      "<class 'pandas.core.frame.DataFrame'>\n",
      "RangeIndex: 16346160 entries, 0 to 16346159\n",
      "Data columns (total 27 columns):\n",
      " #   Column                    Dtype  \n",
      "---  ------                    -----  \n",
      " 0   HazardID                  int64  \n",
      " 1   HazardType                object \n",
      " 2   Stage                     object \n",
      " 3   Sensor                    object \n",
      " 4   FlightPath_m              float64\n",
      " 5   DroneModel                object \n",
      " 6   PayloadWeight             float64\n",
      " 7   DistanceRange             int64  \n",
      " 8   CommRange                 float64\n",
      " 9   FlightTime                float64\n",
      " 10  country                   object \n",
      " 11  manufacturer              object \n",
      " 12  mfc_model                 object \n",
      " 13  length                    float64\n",
      " 14  width                     float64\n",
      " 15  height                    float64\n",
      " 16  max_speed                 float64\n",
      " 17  max_alt                   float64\n",
      " 18  power_source              object \n",
      " 19  price                     float64\n",
      " 20  image                     object \n",
      " 21  source                    object \n",
      " 22  configuration_harmonized  object \n",
      " 23  sensor_name               object \n",
      " 24  sensor_weight             int64  \n",
      " 25  model                     object \n",
      " 26  source_sensor             object \n",
      "dtypes: float64(10), int64(3), object(14)\n",
      "memory usage: 3.3+ GB\n"
     ]
    }
   ],
   "source": [
    "# List of fields to exclude from sensor_df\n",
    "exclude_sensor = [\n",
    "    'sensor_id', 'parameters_measured', 'method'\n",
    "]\n",
    "\n",
    "# Filter sensor_df to include only desired fields\n",
    "sensor_extra = sensor_df.drop(columns=exclude_sensor)\n",
    "\n",
    "# Merge\n",
    "dronesensor_df = dronesensor_df.merge(\n",
    "    sensor_extra,\n",
    "    left_on='Sensor',\n",
    "    right_on='sensor_name',\n",
    "    how='left',\n",
    "    suffixes=('', '_sensor')\n",
    ")\n",
    "dronesensor_df.info()"
   ]
  },
  {
   "cell_type": "code",
   "execution_count": 21,
   "metadata": {},
   "outputs": [
    {
     "name": "stdout",
     "output_type": "stream",
     "text": [
      "<class 'pandas.core.frame.DataFrame'>\n",
      "RangeIndex: 16346160 entries, 0 to 16346159\n",
      "Data columns (total 32 columns):\n",
      " #   Column                    Dtype  \n",
      "---  ------                    -----  \n",
      " 0   HazardID                  int64  \n",
      " 1   HazardType                object \n",
      " 2   Stage                     object \n",
      " 3   Sensor                    object \n",
      " 4   FlightPath_m              float64\n",
      " 5   DroneModel                object \n",
      " 6   PayloadWeight             float64\n",
      " 7   DistanceRange             int64  \n",
      " 8   CommRange                 float64\n",
      " 9   FlightTime                float64\n",
      " 10  sensor_weight             int64  \n",
      " 11  model                     object \n",
      " 12  source_sensor             object \n",
      " 13  mtow                      float64\n",
      " 14  distance_range            float64\n",
      " 15  max_payload_weight        float64\n",
      " 16  comm_range                float64\n",
      " 17  DroneModel_clean          object \n",
      " 18  mfc_model_clean           object \n",
      " 19  country                   object \n",
      " 20  manufacturer              object \n",
      " 21  mfc_model                 object \n",
      " 22  length                    float64\n",
      " 23  width                     float64\n",
      " 24  height                    float64\n",
      " 25  max_speed                 float64\n",
      " 26  max_alt                   float64\n",
      " 27  power_source              object \n",
      " 28  price                     float64\n",
      " 29  image                     object \n",
      " 30  source                    object \n",
      " 31  configuration_harmonized  object \n",
      "dtypes: float64(14), int64(3), object(15)\n",
      "memory usage: 3.9+ GB\n"
     ]
    }
   ],
   "source": [
    "dronesensor_df.info()"
   ]
  },
  {
   "cell_type": "code",
   "execution_count": 22,
   "metadata": {},
   "outputs": [
    {
     "name": "stdout",
     "output_type": "stream",
     "text": [
      "<class 'pandas.core.frame.DataFrame'>\n",
      "RangeIndex: 16346160 entries, 0 to 16346159\n",
      "Data columns (total 28 columns):\n",
      " #   Column                    Dtype  \n",
      "---  ------                    -----  \n",
      " 0   HazardID                  int64  \n",
      " 1   HazardType                object \n",
      " 2   Stage                     object \n",
      " 3   Sensor                    object \n",
      " 4   FlightPath_m              float64\n",
      " 5   PayloadWeight             float64\n",
      " 6   DistanceRange             int64  \n",
      " 7   CommRange                 float64\n",
      " 8   FlightTime                float64\n",
      " 9   sensor_weight             int64  \n",
      " 10  model                     object \n",
      " 11  source_sensor             object \n",
      " 12  mtow                      float64\n",
      " 13  distance_range            float64\n",
      " 14  max_payload_weight        float64\n",
      " 15  comm_range                float64\n",
      " 16  DroneModel_clean          object \n",
      " 17  country                   object \n",
      " 18  length                    float64\n",
      " 19  width                     float64\n",
      " 20  height                    float64\n",
      " 21  max_speed                 float64\n",
      " 22  max_alt                   float64\n",
      " 23  power_source              object \n",
      " 24  price                     float64\n",
      " 25  image                     object \n",
      " 26  source                    object \n",
      " 27  configuration_harmonized  object \n",
      "dtypes: float64(14), int64(3), object(11)\n",
      "memory usage: 3.4+ GB\n"
     ]
    }
   ],
   "source": [
    "cols_to_drop = [\n",
    "    \"DroneModel\",\n",
    "    \"mfc_model\",\n",
    "    \"mfc_model_clean\",\n",
    "    \"manufacturer\"\n",
    "]\n",
    "\n",
    "dronesensor_df = dronesensor_df.drop(columns=cols_to_drop)\n",
    "dronesensor_df.info()"
   ]
  },
  {
   "cell_type": "code",
   "execution_count": 14,
   "metadata": {},
   "outputs": [],
   "source": [
    "cols_to_drop = [\n",
    "    \"DroneRank\",\n",
    "    \"PayloadOverkill\",\n",
    "    \"DistanceOverkill\",\n",
    "    \"mtow\",\n",
    "    \"distance_range\",\n",
    "    \"max_payload_weight\",\n",
    "    \"comm_range\"\n",
    "]\n",
    "\n",
    "dronesensor_df = dronesensor_df.drop(columns=cols_to_drop)"
   ]
  },
  {
   "cell_type": "code",
   "execution_count": 23,
   "metadata": {},
   "outputs": [],
   "source": [
    "dronesensor_df.to_csv(r\"D:\\NDIS_Database\\07_RPAS\\NDIS372_geohazard_drone_results2.csv\", index=False)"
   ]
  },
  {
   "cell_type": "markdown",
   "metadata": {},
   "source": [
    "----\n",
    "# SD ver 3.8.3\n",
    "----"
   ]
  },
  {
   "cell_type": "code",
   "execution_count": 5,
   "metadata": {},
   "outputs": [],
   "source": [
    "def heartbeat(interval=3600):\n",
    "    while True:\n",
    "        tqdm.write(f\"⏳ Heartbeat: still running at {time.strftime('%Y-%m-%d %H:%M:%S')}\")\n",
    "        time.sleep(interval)"
   ]
  },
  {
   "cell_type": "code",
   "execution_count": 18,
   "metadata": {},
   "outputs": [],
   "source": [
    "def assign_best_drones_with_blacklist_batch(\n",
    "    merged_df,\n",
    "    drone_df,\n",
    "    chunk_size=50000,\n",
    "    save_dir=r\"D:\\NDIS_Database\\FinalDroneAssignment\",\n",
    "    blacklist_threshold=20000\n",
    "):\n",
    "    os.makedirs(save_dir, exist_ok=True)\n",
    "\n",
    "    # Clean drone_df\n",
    "    drone_df = drone_df.dropna(subset=[\"mfc_model\", \"max_payload_weight\"]).copy()\n",
    "    drone_df[\"drone_id\"] = drone_df[\"mfc_model\"]\n",
    "    drone_df[\"comm_range\"] = pd.to_numeric(drone_df[\"comm_range\"], errors=\"coerce\")\n",
    "    drone_df[\"distance_range\"] = pd.to_numeric(drone_df[\"distance_range\"], errors=\"coerce\")\n",
    "    drone_df[\"max_payload_weight\"] = pd.to_numeric(drone_df[\"max_payload_weight\"], errors=\"coerce\")\n",
    "\n",
    "    usage_count = {model: 0 for model in drone_df[\"drone_id\"].unique()}\n",
    "    all_results = []\n",
    "\n",
    "    for start in range(0, len(merged_df), chunk_size):\n",
    "        end = min(start + chunk_size, len(merged_df))\n",
    "        chunk = merged_df.iloc[start:end].copy()\n",
    "        print(f\"\\U0001f680 Processing chunk {start}-{end}\")\n",
    "\n",
    "        chunk[\"distance\"] = pd.to_numeric(chunk[\"distance\"], errors=\"coerce\")\n",
    "        chunk[\"mission_distance\"] = pd.to_numeric(chunk[\"mission_distance\"], errors=\"coerce\")\n",
    "        chunk[\"sensor_weight\"] = pd.to_numeric(chunk[\"sensor_weight\"], errors=\"coerce\")\n",
    "\n",
    "        chunk[[\"drone1\", \"drone2\", \"drone3\"]] = None\n",
    "        chunk[[\"note1\", \"note2\", \"note3\"]] = None\n",
    "\n",
    "        for idx, row in tqdm(chunk.iterrows(), total=len(chunk)):\n",
    "            s_weight = row[\"sensor_weight\"]\n",
    "            h_dist = row[\"distance\"]\n",
    "            m_dist = row[\"mission_distance\"]\n",
    "            sensor = row[\"RecommendedSensor\"]\n",
    "\n",
    "            if pd.isna(s_weight):\n",
    "                continue\n",
    "\n",
    "            candidates = drone_df[drone_df[\"max_payload_weight\"] >= s_weight].copy()\n",
    "            if candidates.empty:\n",
    "                continue\n",
    "\n",
    "            def score_drone(dr):\n",
    "                score = 100\n",
    "                note = \"\"\n",
    "\n",
    "                if not pd.isna(h_dist):\n",
    "                    if dr[\"comm_range\"] < h_dist:\n",
    "                        score += 50\n",
    "                        note = \"Comm range insufficient\"\n",
    "\n",
    "                if not pd.isna(m_dist):\n",
    "                    if dr[\"distance_range\"] >= m_dist:\n",
    "                        score -= 5\n",
    "                        note = \"Full coverage\"\n",
    "                    elif dr[\"distance_range\"] >= 0.5 * m_dist:\n",
    "                        score += 5\n",
    "                        note = \"2–3 swaths needed\"\n",
    "                    elif dr[\"distance_range\"] >= 0.25 * m_dist:\n",
    "                        score += 10\n",
    "                        note = \"Multiple passes\"\n",
    "                    else:\n",
    "                        score += 30\n",
    "                        note = \"Very limited range\"\n",
    "                else:\n",
    "                    note = \"Distance unknown — likely offshore\"\n",
    "                    score += 20\n",
    "\n",
    "                # Payload proximity\n",
    "                payload_diff = dr[\"max_payload_weight\"] - s_weight\n",
    "                score += abs(payload_diff) * 0.05\n",
    "\n",
    "                # Usage penalty\n",
    "                uc = usage_count.get(dr[\"drone_id\"], 0)\n",
    "                if uc >= blacklist_threshold:\n",
    "                    score += 9999  # Hard exclude\n",
    "                else:\n",
    "                    score += uc * 0.01  # Soft bias\n",
    "\n",
    "                score += random.uniform(-0.5, 0.5)\n",
    "                return pd.Series([score, note])\n",
    "\n",
    "            candidates[[\"score\", \"note\"]] = candidates.apply(score_drone, axis=1)\n",
    "            candidates = candidates.sort_values(\"score\").drop_duplicates(\"drone_id\").head(10)\n",
    "\n",
    "            assigned = []\n",
    "            notes = []\n",
    "\n",
    "            for _, dr in candidates.iterrows():\n",
    "                if dr[\"drone_id\"] not in assigned:\n",
    "                    assigned.append(dr[\"drone_id\"])\n",
    "                    notes.append(dr[\"note\"])\n",
    "                if len(assigned) == 3:\n",
    "                    break\n",
    "\n",
    "            for i in range(len(assigned)):\n",
    "                chunk.at[idx, f\"drone{i+1}\"] = assigned[i]\n",
    "                chunk.at[idx, f\"note{i+1}\"] = notes[i]\n",
    "                usage_count[assigned[i]] += 1\n",
    "\n",
    "        # Save feather\n",
    "        out_path = os.path.join(save_dir, f\"drone_assign_chunk_{start}_{end}.feather\")\n",
    "        chunk.reset_index(drop=True).to_feather(out_path)\n",
    "        all_results.append(chunk)\n",
    "        gc.collect()\n",
    "\n",
    "    return pd.concat(all_results, ignore_index=True)"
   ]
  },
  {
   "cell_type": "code",
   "execution_count": 20,
   "metadata": {},
   "outputs": [
    {
     "name": "stdout",
     "output_type": "stream",
     "text": [
      "🚀 Processing chunk 0-50000\n",
      "⏳ Heartbeat: still running at 2025-08-01 23:12:53\n"
     ]
    },
    {
     "name": "stderr",
     "output_type": "stream",
     "text": [
      "100%|██████████| 50000/50000 [39:09<00:00, 21.28it/s] ﻿\n"
     ]
    },
    {
     "name": "stdout",
     "output_type": "stream",
     "text": [
      "🚀 Processing chunk 50000-100000\n"
     ]
    },
    {
     "name": "stderr",
     "output_type": "stream",
     "text": [
      "﻿                                                    ﻿"
     ]
    },
    {
     "name": "stdout",
     "output_type": "stream",
     "text": [
      "⏳ Heartbeat: still running at 2025-08-02 00:12:53\n"
     ]
    },
    {
     "name": "stderr",
     "output_type": "stream",
     "text": [
      "100%|██████████| 50000/50000 [36:22<00:00, 22.91it/s]﻿\n"
     ]
    },
    {
     "name": "stdout",
     "output_type": "stream",
     "text": [
      "✅ All processing completed! Elapsed time: 75.55663286166576 minutes\n"
     ]
    }
   ],
   "source": [
    "# Start the background heartbeat thread\n",
    "threading.Thread(target=heartbeat, args=(3600,), daemon=True).start()\n",
    "\n",
    "# Run the main process with timer\n",
    "start_time = timeit.default_timer()\n",
    "\n",
    "final_df = assign_best_drones_with_blacklist_batch(sample, drone_df, chunk_size=50000)\n",
    "\n",
    "elapsed = timeit.default_timer() - start_time\n",
    "print(\"\\u2705 All processing completed! Elapsed time: %s minutes\"%str(elapsed/60))"
   ]
  },
  {
   "cell_type": "code",
   "execution_count": 7,
   "metadata": {},
   "outputs": [
    {
     "name": "stdout",
     "output_type": "stream",
     "text": [
      "<class 'pandas.core.frame.DataFrame'>\n",
      "RangeIndex: 179 entries, 0 to 178\n",
      "Data columns (total 30 columns):\n",
      " #   Column              Non-Null Count  Dtype  \n",
      "---  ------              --------------  -----  \n",
      " 0   rpas_id             179 non-null    int64  \n",
      " 1   country             179 non-null    object \n",
      " 2   manufacturer        179 non-null    object \n",
      " 3   mfc_model           179 non-null    object \n",
      " 4   mtow                157 non-null    float64\n",
      " 5   length              153 non-null    float64\n",
      " 6   width               160 non-null    float64\n",
      " 7   height              135 non-null    float64\n",
      " 8   max_speed           154 non-null    float64\n",
      " 9   distance_range      71 non-null     float64\n",
      " 10  flight_time         165 non-null    float64\n",
      " 11  max_payload_weight  161 non-null    float64\n",
      " 12  max_alt             102 non-null    float64\n",
      " 13  comm_range          118 non-null    float64\n",
      " 14  power_source        163 non-null    object \n",
      " 15  power               111 non-null    object \n",
      " 16  gps_accuracy        63 non-null     object \n",
      " 17  engine              134 non-null    object \n",
      " 18  configuration       176 non-null    object \n",
      " 19  flight_cont         86 non-null     object \n",
      " 20  materials           86 non-null     object \n",
      " 21  min_op_temp         109 non-null    float64\n",
      " 22  max_op_temp         108 non-null    float64\n",
      " 23  oas                 88 non-null     object \n",
      " 24  price               65 non-null     float64\n",
      " 25  reg                 115 non-null    object \n",
      " 26  def_payload         142 non-null    object \n",
      " 27  purpose             154 non-null    object \n",
      " 28  image               178 non-null    object \n",
      " 29  source              179 non-null    object \n",
      "dtypes: float64(13), int64(1), object(16)\n",
      "memory usage: 42.1+ KB\n"
     ]
    }
   ],
   "source": [
    "drone_df.info()"
   ]
  },
  {
   "cell_type": "code",
   "execution_count": 3,
   "metadata": {},
   "outputs": [
    {
     "name": "stdout",
     "output_type": "stream",
     "text": [
      "<class 'pandas.core.frame.DataFrame'>\n",
      "RangeIndex: 100000 entries, 0 to 99999\n",
      "Data columns (total 20 columns):\n",
      " #   Column             Non-Null Count   Dtype  \n",
      "---  ------             --------------   -----  \n",
      " 0   HazardID           100000 non-null  int64  \n",
      " 1   HazardType         100000 non-null  object \n",
      " 2   latitude           100000 non-null  float64\n",
      " 3   longitude          100000 non-null  float64\n",
      " 4   DisasterPhase      100000 non-null  object \n",
      " 5   RecommendedSensor  100000 non-null  object \n",
      " 6   sensor_weight      100000 non-null  int64  \n",
      " 7   sensor_model       100000 non-null  object \n",
      " 8   distance           94067 non-null   float64\n",
      " 9   mission_distance   100000 non-null  float64\n",
      " 10  travel_time        94067 non-null   float64\n",
      " 11  monitor_time       100000 non-null  float64\n",
      " 12  setup_buffer       100000 non-null  float64\n",
      " 13  cpm_total_time     94067 non-null   float64\n",
      " 14  drone1             100000 non-null  object \n",
      " 15  drone2             100000 non-null  object \n",
      " 16  drone3             100000 non-null  object \n",
      " 17  note1              100000 non-null  object \n",
      " 18  note2              100000 non-null  object \n",
      " 19  note3              100000 non-null  object \n",
      "dtypes: float64(8), int64(2), object(10)\n",
      "memory usage: 15.3+ MB\n"
     ]
    }
   ],
   "source": [
    "save_dir = r\"D:\\NDIS_Database\\FinalDroneAssignment\"\n",
    "\n",
    "# List all feather files in the save directory\n",
    "feather_files = [os.path.join(save_dir, f) for f in os.listdir(save_dir) if f.endswith(\".feather\")]\n",
    "\n",
    "# Read and concatenate all feather chunks\n",
    "all_chunks = [pd.read_feather(fp) for fp in sorted(feather_files)]\n",
    "final_df = pd.concat(all_chunks, ignore_index=True)\n",
    "\n",
    "# Now `final_df` contains the full output\n",
    "final_df.info()"
   ]
  },
  {
   "cell_type": "code",
   "execution_count": 16,
   "metadata": {},
   "outputs": [
    {
     "data": {
      "text/plain": [
       "56"
      ]
     },
     "execution_count": 16,
     "metadata": {},
     "output_type": "execute_result"
    }
   ],
   "source": [
    "len(final_df.drone3.unique())"
   ]
  },
  {
   "cell_type": "code",
   "execution_count": 30,
   "metadata": {},
   "outputs": [],
   "source": [
    "def assign_best_drones_with_hybrid_penalty(\n",
    "    merged_df,\n",
    "    drone_df,\n",
    "    chunk_size=50000,\n",
    "    save_dir=r\"D:\\NDIS_Database\\FinalDroneAssignment\",\n",
    "    global_penalty=0.001,\n",
    "    category_penalty=0.01\n",
    "):\n",
    "    os.makedirs(save_dir, exist_ok=True)\n",
    "\n",
    "    # Clean drone_df\n",
    "    drone_df = drone_df.dropna(subset=[\"mfc_model\", \"max_payload_weight\"]).copy()\n",
    "    drone_df[\"drone_id\"] = drone_df[\"mfc_model\"]\n",
    "    drone_df[\"comm_range\"] = pd.to_numeric(drone_df[\"comm_range\"], errors=\"coerce\")\n",
    "    drone_df[\"distance_range\"] = pd.to_numeric(drone_df[\"distance_range\"], errors=\"coerce\")\n",
    "    drone_df[\"max_payload_weight\"] = pd.to_numeric(drone_df[\"max_payload_weight\"], errors=\"coerce\")\n",
    "\n",
    "    # Initialize usage tracking\n",
    "    global_usage_count = {model: 0 for model in drone_df[\"drone_id\"].unique()}\n",
    "    usage_by_category = {}\n",
    "\n",
    "    all_results = []\n",
    "\n",
    "    for start in range(0, len(merged_df), chunk_size):\n",
    "        end = min(start + chunk_size, len(merged_df))\n",
    "        chunk = merged_df.iloc[start:end].copy()\n",
    "        print(f\"\\U0001f680 Processing chunk {start}-{end}\")\n",
    "\n",
    "        chunk[\"distance\"] = pd.to_numeric(chunk[\"distance\"], errors=\"coerce\")\n",
    "        chunk[\"mission_distance\"] = pd.to_numeric(chunk[\"mission_distance\"], errors=\"coerce\")\n",
    "        chunk[\"sensor_weight\"] = pd.to_numeric(chunk[\"sensor_weight\"], errors=\"coerce\")\n",
    "\n",
    "        chunk[[\"drone1\", \"drone2\", \"drone3\"]] = None\n",
    "        chunk[[\"note1\", \"note2\", \"note3\"]] = None\n",
    "\n",
    "        for idx, row in tqdm(chunk.iterrows(), total=len(chunk)):\n",
    "            s_weight = row[\"sensor_weight\"]\n",
    "            h_dist = row[\"distance\"]\n",
    "            m_dist = row[\"mission_distance\"]\n",
    "            sensor = row[\"sensor_model\"] if \"sensor_model\" in row else row[\"RecommendedSensor\"]\n",
    "            hazard = row.get(\"HazardType\", \"Unknown\")\n",
    "\n",
    "            if pd.isna(s_weight):\n",
    "                continue\n",
    "\n",
    "            candidates = drone_df[drone_df[\"max_payload_weight\"] >= s_weight].copy()\n",
    "            if candidates.empty:\n",
    "                continue\n",
    "\n",
    "            def score_drone(dr):\n",
    "                score = 100\n",
    "                note = \"\"\n",
    "\n",
    "                if not pd.isna(h_dist):\n",
    "                    if dr[\"comm_range\"] < h_dist:\n",
    "                        score += 50\n",
    "                        note = \"Comm range insufficient\"\n",
    "\n",
    "                if not pd.isna(m_dist):\n",
    "                    if dr[\"distance_range\"] >= m_dist:\n",
    "                        score -= 5\n",
    "                        note = \"Full coverage\"\n",
    "                    elif dr[\"distance_range\"] >= 0.5 * m_dist:\n",
    "                        score += 5\n",
    "                        note = \"2–3 swaths needed\"\n",
    "                    elif dr[\"distance_range\"] >= 0.25 * m_dist:\n",
    "                        score += 10\n",
    "                        note = \"Multiple passes\"\n",
    "                    else:\n",
    "                        score += 30\n",
    "                        note = \"Very limited range\"\n",
    "                else:\n",
    "                    note = \"Distance unknown — likely offshore\"\n",
    "                    score += 20\n",
    "\n",
    "                # Payload proximity\n",
    "                payload_diff = dr[\"max_payload_weight\"] - s_weight\n",
    "                score += abs(payload_diff) * 0.05\n",
    "\n",
    "                # Hybrid penalty\n",
    "                drone_id = dr[\"drone_id\"]\n",
    "                cat_key = (hazard, sensor, drone_id)\n",
    "\n",
    "                g_usage = global_usage_count.get(drone_id, 0)\n",
    "                c_usage = usage_by_category.get(cat_key, 0)\n",
    "\n",
    "                score += g_usage * global_penalty\n",
    "                score += c_usage * category_penalty\n",
    "\n",
    "                score += random.uniform(-0.5, 0.5)\n",
    "                return pd.Series([score, note])\n",
    "\n",
    "            candidates[[\"score\", \"note\"]] = candidates.apply(score_drone, axis=1)\n",
    "            candidates = candidates.sort_values(\"score\").drop_duplicates(\"drone_id\").head(10)\n",
    "\n",
    "            assigned = []\n",
    "            notes = []\n",
    "\n",
    "            for _, dr in candidates.iterrows():\n",
    "                if dr[\"drone_id\"] not in assigned:\n",
    "                    assigned.append(dr[\"drone_id\"])\n",
    "                    notes.append(dr[\"note\"])\n",
    "                if len(assigned) == 3:\n",
    "                    break\n",
    "\n",
    "            for i in range(len(assigned)):\n",
    "                chunk.at[idx, f\"drone{i+1}\"] = assigned[i]\n",
    "                chunk.at[idx, f\"note{i+1}\"] = notes[i]\n",
    "                drone_id = assigned[i]\n",
    "                cat_key = (hazard, sensor, drone_id)\n",
    "\n",
    "                global_usage_count[drone_id] += 1\n",
    "                usage_by_category[cat_key] = usage_by_category.get(cat_key, 0) + 1\n",
    "\n",
    "        # Save feather\n",
    "        out_path = os.path.join(save_dir, f\"drone_assign_chunk_{start}_{end}.feather\")\n",
    "        chunk.reset_index(drop=True).to_feather(out_path)\n",
    "        all_results.append(chunk)\n",
    "        gc.collect()\n",
    "\n",
    "    return pd.concat(all_results, ignore_index=True)"
   ]
  },
  {
   "cell_type": "code",
   "execution_count": 19,
   "metadata": {},
   "outputs": [
    {
     "name": "stdout",
     "output_type": "stream",
     "text": [
      "🚀 Processing chunk 0-50000\n",
      "⏳ Heartbeat: still running at 2025-08-07 13:48:25\n"
     ]
    },
    {
     "name": "stderr",
     "output_type": "stream",
     "text": [
      "100%|██████████| 50000/50000 [57:30<00:00, 14.49it/s]  ﻿\n"
     ]
    },
    {
     "name": "stdout",
     "output_type": "stream",
     "text": [
      "✅ All processing completed! Elapsed time: 57.51668038499968 minutes\n"
     ]
    }
   ],
   "source": [
    "# Start the background heartbeat thread\n",
    "threading.Thread(target=heartbeat, args=(3600,), daemon=True).start()\n",
    "\n",
    "# Run the main process with timer\n",
    "start_time = timeit.default_timer()\n",
    "\n",
    "final_df = assign_best_drones_with_hybrid_penalty(sample, drone_df, chunk_size=50000)\n",
    "\n",
    "elapsed = timeit.default_timer() - start_time\n",
    "print(\"\\u2705 All processing completed! Elapsed time: %s minutes\"%str(elapsed/60))"
   ]
  },
  {
   "cell_type": "code",
   "execution_count": 26,
   "metadata": {},
   "outputs": [
    {
     "data": {
      "text/plain": [
       "array(['Atlas Aerospace AtlasPRO', 'Skydio X2E', 'Skydio X2',\n",
       "       'Draganfly Innovations Inc Commander2',\n",
       "       'Autel Robotics Dragonfish Lite', 'Drone Volt Heliplane LRS240',\n",
       "       'ACSL SOTEN', 'JOUAV CW-007', 'MMC Griflion M8', 'Skydio X2D',\n",
       "       'AEE Aviation Technology MACH4-5G', 'MAVTech MH100',\n",
       "       'DJI Matrice100', 'HG Robotics VETAL',\n",
       "       'Garuda Robotics Cerana ONE Pro', 'Atlas Aerospace AvalanchePRO',\n",
       "       'AeroSense Aerobo Wing (AS-VT01)',\n",
       "       'Autel Robotics Dragonfish Standard', 'Skydio 2', 'JTT Spider C85',\n",
       "       'Skydio 2+', 'AeroSense Aerobo PPK (AS-MC03-PPK)',\n",
       "       'exabotix EB-Mercury Mapper', 'WingtraOne Gen II',\n",
       "       'ACSL PF2-AE Delivery/Disaster-Relief/Patrol/Inspection',\n",
       "       'Freefly Astro', 'Acecore Zoe X4', 'Acecore Zetona 8',\n",
       "       'Skydio X10', 'JOUAV CW-25H', 'Microdrones EasyOne',\n",
       "       'Innovadrone Surveyor', 'Prodrone PD4-AW-AQ',\n",
       "       'Drona Aviation Pluto X', 'exabotix EB-Zelos Mapper',\n",
       "       'HG Robotics Vespa Hex', 'Italdron Titan LE',\n",
       "       'Draganfly Innovations Inc Commander', 'Italdron Levante',\n",
       "       'Italdron Titan XLE', 'Edall Systems SPIDEX 600 MKI',\n",
       "       'brinc drones Lemur 2',\n",
       "       'Draganfly Innovations Inc Commander 3 XL Hybrid',\n",
       "       'Edall Systems NAKSHYA VTOL '], dtype=object)"
      ]
     },
     "execution_count": 26,
     "metadata": {},
     "output_type": "execute_result"
    }
   ],
   "source": [
    "final_df.drone3.unique()"
   ]
  },
  {
   "cell_type": "code",
   "execution_count": 6,
   "metadata": {},
   "outputs": [],
   "source": [
    "def assign_best_drones_with_hybrid_penalty(\n",
    "    merged_df,\n",
    "    drone_df,\n",
    "    chunk_size=50000,\n",
    "    save_dir=r\"D:\\NDIS_Database\\20_PaperSimulation\\FinalDroneAssignment\",\n",
    "    global_penalty=0.001,\n",
    "    category_penalty=0.01\n",
    "):\n",
    "    os.makedirs(save_dir, exist_ok=True)\n",
    "\n",
    "    # Clean drone_df\n",
    "    drone_df = drone_df.dropna(subset=[\"mfc_model\", \"max_payload_weight\"]).copy()\n",
    "    drone_df[\"drone_id\"] = drone_df[\"mfc_model\"]\n",
    "    drone_df[\"comm_range\"] = pd.to_numeric(drone_df[\"comm_range\"], errors=\"coerce\")\n",
    "    drone_df[\"distance_range\"] = pd.to_numeric(drone_df[\"distance_range\"], errors=\"coerce\")\n",
    "    drone_df[\"max_payload_weight\"] = pd.to_numeric(drone_df[\"max_payload_weight\"], errors=\"coerce\")\n",
    "\n",
    "    # Usage trackers\n",
    "    global_usage_count = {model: 0 for model in drone_df[\"drone_id\"].unique()}\n",
    "    usage_by_category = {}\n",
    "\n",
    "    all_results = []\n",
    "\n",
    "    for start in range(0, len(merged_df), chunk_size):\n",
    "        end = min(start + chunk_size, len(merged_df))\n",
    "        chunk = merged_df.iloc[start:end].copy()\n",
    "        print(f\"\\U0001f680 Processing chunk {start}-{end}\")\n",
    "\n",
    "        chunk[\"distance\"] = pd.to_numeric(chunk[\"distance\"], errors=\"coerce\")\n",
    "        chunk[\"mission_distance\"] = pd.to_numeric(chunk[\"mission_distance\"], errors=\"coerce\")\n",
    "        chunk[\"sensor_weight\"] = pd.to_numeric(chunk[\"sensor_weight\"], errors=\"coerce\")\n",
    "\n",
    "        chunk[[\"drone1\", \"drone2\", \"drone3\"]] = None\n",
    "        chunk[[\"note1\", \"note2\", \"note3\"]] = None\n",
    "\n",
    "        for idx, row in tqdm(chunk.iterrows(), total=len(chunk)):\n",
    "            s_weight = row[\"sensor_weight\"]\n",
    "            h_dist = row[\"distance\"]\n",
    "            m_dist = row[\"mission_distance\"]\n",
    "            sensor = row.get(\"sensor_model\") or row.get(\"RecommendedSensor\")\n",
    "            hazard = row.get(\"HazardType\", \"Unknown\")\n",
    "\n",
    "            if pd.isna(s_weight):\n",
    "                continue\n",
    "\n",
    "            candidates = drone_df[drone_df[\"max_payload_weight\"] >= s_weight].copy()\n",
    "            if candidates.empty:\n",
    "                continue\n",
    "\n",
    "            def score_drone(dr):\n",
    "                score = 100\n",
    "                note = \"\"\n",
    "\n",
    "                # Comm range penalty\n",
    "                if not pd.isna(h_dist) and dr[\"comm_range\"] < h_dist:\n",
    "                    score += 30\n",
    "                    note = \"Comm range insufficient\"\n",
    "\n",
    "                # Mission distance penalty\n",
    "                if not pd.isna(m_dist):\n",
    "                    if dr[\"distance_range\"] >= m_dist:\n",
    "                        score -= 10\n",
    "                        note = \"Full coverage\"\n",
    "                    elif dr[\"distance_range\"] >= 0.75 * m_dist:\n",
    "                        score += 2\n",
    "                        note = \"Near full coverage\"\n",
    "                    elif dr[\"distance_range\"] >= 0.5 * m_dist:\n",
    "                        score += 5\n",
    "                        note = \"2–3 swaths needed\"\n",
    "                    elif dr[\"distance_range\"] >= 0.25 * m_dist:\n",
    "                        score += 15\n",
    "                        note = \"Multiple passes\"\n",
    "                    else:\n",
    "                        score += 25\n",
    "                        note = \"Very limited range\"\n",
    "                else:\n",
    "                    score += 10\n",
    "                    note = \"Distance unknown\"\n",
    "\n",
    "                # Payload proximity penalty (mild)\n",
    "                payload_diff = dr[\"max_payload_weight\"] - s_weight\n",
    "                score += min(abs(payload_diff) * 0.01, 10)\n",
    "\n",
    "                # Hybrid penalties\n",
    "                drone_id = dr[\"drone_id\"]\n",
    "                cat_key = (hazard, sensor, drone_id)\n",
    "                g_usage = global_usage_count.get(drone_id, 0)\n",
    "                c_usage = usage_by_category.get(cat_key, 0)\n",
    "                score += g_usage * global_penalty\n",
    "                score += c_usage * category_penalty\n",
    "\n",
    "                score += random.uniform(-0.25, 0.25)\n",
    "                return pd.Series([score, note])\n",
    "\n",
    "            candidates[[\"score\", \"note\"]] = candidates.apply(score_drone, axis=1)\n",
    "            candidates = candidates.sort_values(\"score\").drop_duplicates(\"drone_id\").head(10)\n",
    "\n",
    "\n",
    "\n",
    "            assigned = []\n",
    "            notes = []\n",
    "\n",
    "            for _, dr in candidates.iterrows():\n",
    "                if dr[\"drone_id\"] not in assigned:\n",
    "                    assigned.append(dr[\"drone_id\"])\n",
    "                    notes.append(dr[\"note\"])\n",
    "                if len(assigned) == 3:\n",
    "                    break\n",
    "\n",
    "            for i in range(len(assigned)):\n",
    "                chunk.at[idx, f\"drone{i+1}\"] = assigned[i]\n",
    "                chunk.at[idx, f\"note{i+1}\"] = notes[i]\n",
    "                drone_id = assigned[i]\n",
    "                cat_key = (hazard, sensor, drone_id)\n",
    "                global_usage_count[drone_id] += 1\n",
    "                usage_by_category[cat_key] = usage_by_category.get(cat_key, 0) + 1\n",
    "\n",
    "        # Save feather\n",
    "        out_path = os.path.join(save_dir, f\"drone_assign_chunk_{start}_{end}.feather\")\n",
    "        chunk.reset_index(drop=True).to_feather(out_path)\n",
    "        all_results.append(chunk)\n",
    "        gc.collect()\n",
    "\n",
    "    return pd.concat(all_results, ignore_index=True), global_usage_count, usage_by_category"
   ]
  },
  {
   "cell_type": "code",
   "execution_count": null,
   "metadata": {},
   "outputs": [
    {
     "name": "stdout",
     "output_type": "stream",
     "text": [
      "⏳ Heartbeat: still running at 2025-08-11 13:41:58\n",
      "🚀 Processing chunk 0-50000\n"
     ]
    },
    {
     "name": "stderr",
     "output_type": "stream",
     "text": [
      "100%|██████████| 50000/50000 [54:57<00:00, 15.16it/s]  ﻿\n"
     ]
    },
    {
     "name": "stdout",
     "output_type": "stream",
     "text": [
      "🚀 Processing chunk 50000-100000\n"
     ]
    },
    {
     "name": "stderr",
     "output_type": "stream",
     "text": [
      "﻿                                                     ﻿"
     ]
    },
    {
     "name": "stdout",
     "output_type": "stream",
     "text": [
      "⏳ Heartbeat: still running at 2025-08-11 14:41:58\n"
     ]
    },
    {
     "name": "stderr",
     "output_type": "stream",
     "text": [
      "100%|██████████| 50000/50000 [49:37<00:00, 16.80it/s]  ﻿\n"
     ]
    },
    {
     "name": "stdout",
     "output_type": "stream",
     "text": [
      "🚀 Processing chunk 100000-150000\n"
     ]
    },
    {
     "name": "stderr",
     "output_type": "stream",
     "text": [
      "﻿                                                      ﻿"
     ]
    },
    {
     "name": "stdout",
     "output_type": "stream",
     "text": [
      "⏳ Heartbeat: still running at 2025-08-11 15:41:58\n"
     ]
    },
    {
     "name": "stderr",
     "output_type": "stream",
     "text": [
      "100%|██████████| 50000/50000 [54:29<00:00, 15.29it/s]  ﻿\n"
     ]
    },
    {
     "name": "stdout",
     "output_type": "stream",
     "text": [
      "🚀 Processing chunk 150000-200000\n"
     ]
    },
    {
     "name": "stderr",
     "output_type": "stream",
     "text": [
      "﻿                                                      ﻿"
     ]
    },
    {
     "name": "stdout",
     "output_type": "stream",
     "text": [
      "⏳ Heartbeat: still running at 2025-08-11 16:41:58\n"
     ]
    },
    {
     "name": "stderr",
     "output_type": "stream",
     "text": [
      "100%|██████████| 50000/50000 [48:51<00:00, 17.06it/s]  ﻿\n"
     ]
    },
    {
     "name": "stdout",
     "output_type": "stream",
     "text": [
      "🚀 Processing chunk 200000-250000\n"
     ]
    },
    {
     "name": "stderr",
     "output_type": "stream",
     "text": [
      "﻿                                                      ﻿"
     ]
    },
    {
     "name": "stdout",
     "output_type": "stream",
     "text": [
      "⏳ Heartbeat: still running at 2025-08-11 17:41:58\n"
     ]
    },
    {
     "name": "stderr",
     "output_type": "stream",
     "text": [
      "100%|██████████| 50000/50000 [54:52<00:00, 15.19it/s]  ﻿\n"
     ]
    },
    {
     "name": "stdout",
     "output_type": "stream",
     "text": [
      "🚀 Processing chunk 250000-300000\n"
     ]
    },
    {
     "name": "stderr",
     "output_type": "stream",
     "text": [
      "﻿                                                      ﻿"
     ]
    },
    {
     "name": "stdout",
     "output_type": "stream",
     "text": [
      "⏳ Heartbeat: still running at 2025-08-11 18:41:58\n"
     ]
    },
    {
     "name": "stderr",
     "output_type": "stream",
     "text": [
      "100%|██████████| 50000/50000 [1:03:30<00:00, 13.12it/s]﻿\n"
     ]
    },
    {
     "name": "stdout",
     "output_type": "stream",
     "text": [
      "🚀 Processing chunk 300000-350000\n"
     ]
    },
    {
     "name": "stderr",
     "output_type": "stream",
     "text": [
      "﻿                                                      ﻿"
     ]
    },
    {
     "name": "stdout",
     "output_type": "stream",
     "text": [
      "⏳ Heartbeat: still running at 2025-08-11 19:41:58\n"
     ]
    },
    {
     "name": "stderr",
     "output_type": "stream",
     "text": [
      "100%|██████████| 50000/50000 [55:18<00:00, 15.07it/s]  ﻿\n"
     ]
    },
    {
     "name": "stdout",
     "output_type": "stream",
     "text": [
      "🚀 Processing chunk 350000-400000\n"
     ]
    },
    {
     "name": "stderr",
     "output_type": "stream",
     "text": [
      "﻿                                                      ﻿"
     ]
    },
    {
     "name": "stdout",
     "output_type": "stream",
     "text": [
      "⏳ Heartbeat: still running at 2025-08-11 20:41:58\n"
     ]
    },
    {
     "name": "stderr",
     "output_type": "stream",
     "text": [
      "100%|██████████| 50000/50000 [53:25<00:00, 15.60it/s]﻿\n"
     ]
    },
    {
     "name": "stdout",
     "output_type": "stream",
     "text": [
      "🚀 Processing chunk 400000-450000\n"
     ]
    },
    {
     "name": "stderr",
     "output_type": "stream",
     "text": [
      "﻿                                                      ﻿"
     ]
    },
    {
     "name": "stdout",
     "output_type": "stream",
     "text": [
      "⏳ Heartbeat: still running at 2025-08-11 21:41:58\n"
     ]
    },
    {
     "name": "stderr",
     "output_type": "stream",
     "text": [
      "100%|██████████| 50000/50000 [54:12<00:00, 15.37it/s]﻿\n"
     ]
    },
    {
     "name": "stdout",
     "output_type": "stream",
     "text": [
      "🚀 Processing chunk 450000-500000\n"
     ]
    },
    {
     "name": "stderr",
     "output_type": "stream",
     "text": [
      "﻿                                                      ﻿"
     ]
    },
    {
     "name": "stdout",
     "output_type": "stream",
     "text": [
      "⏳ Heartbeat: still running at 2025-08-11 22:41:58\n"
     ]
    },
    {
     "name": "stderr",
     "output_type": "stream",
     "text": [
      "100%|██████████| 50000/50000 [56:04<00:00, 14.86it/s]﻿\n"
     ]
    },
    {
     "name": "stdout",
     "output_type": "stream",
     "text": [
      "🚀 Processing chunk 500000-550000\n"
     ]
    },
    {
     "name": "stderr",
     "output_type": "stream",
     "text": [
      "﻿                                                      ﻿"
     ]
    },
    {
     "name": "stdout",
     "output_type": "stream",
     "text": [
      "⏳ Heartbeat: still running at 2025-08-11 23:41:58\n"
     ]
    },
    {
     "name": "stderr",
     "output_type": "stream",
     "text": [
      "100%|██████████| 50000/50000 [1:01:54<00:00, 13.46it/s]﻿\n"
     ]
    },
    {
     "name": "stdout",
     "output_type": "stream",
     "text": [
      "🚀 Processing chunk 550000-600000\n"
     ]
    },
    {
     "name": "stderr",
     "output_type": "stream",
     "text": [
      "100%|██████████| 50000/50000 [51:51<00:00, 16.07it/s]  ﻿\n"
     ]
    },
    {
     "name": "stdout",
     "output_type": "stream",
     "text": [
      "🚀 Processing chunk 600000-650000\n"
     ]
    },
    {
     "name": "stderr",
     "output_type": "stream",
     "text": [
      "﻿                                                    ﻿"
     ]
    },
    {
     "name": "stdout",
     "output_type": "stream",
     "text": [
      "⏳ Heartbeat: still running at 2025-08-12 00:41:58\n"
     ]
    },
    {
     "name": "stderr",
     "output_type": "stream",
     "text": [
      "﻿                                                      ﻿"
     ]
    },
    {
     "name": "stdout",
     "output_type": "stream",
     "text": [
      "⏳ Heartbeat: still running at 2025-08-12 01:41:58\n"
     ]
    },
    {
     "name": "stderr",
     "output_type": "stream",
     "text": [
      "100%|██████████| 50000/50000 [1:06:22<00:00, 12.55it/s]﻿\n"
     ]
    },
    {
     "name": "stdout",
     "output_type": "stream",
     "text": [
      "🚀 Processing chunk 650000-700000\n"
     ]
    },
    {
     "name": "stderr",
     "output_type": "stream",
     "text": [
      "﻿                                                      ﻿"
     ]
    },
    {
     "name": "stdout",
     "output_type": "stream",
     "text": [
      "⏳ Heartbeat: still running at 2025-08-12 02:41:58\n"
     ]
    },
    {
     "name": "stderr",
     "output_type": "stream",
     "text": [
      "100%|██████████| 50000/50000 [1:02:21<00:00, 13.37it/s]﻿\n"
     ]
    },
    {
     "name": "stdout",
     "output_type": "stream",
     "text": [
      "🚀 Processing chunk 700000-750000\n"
     ]
    },
    {
     "name": "stderr",
     "output_type": "stream",
     "text": [
      "﻿                                                      ﻿"
     ]
    },
    {
     "name": "stdout",
     "output_type": "stream",
     "text": [
      "⏳ Heartbeat: still running at 2025-08-12 03:41:58\n"
     ]
    },
    {
     "name": "stderr",
     "output_type": "stream",
     "text": [
      "100%|██████████| 50000/50000 [52:53<00:00, 15.76it/s]﻿\n"
     ]
    },
    {
     "name": "stdout",
     "output_type": "stream",
     "text": [
      "🚀 Processing chunk 750000-800000\n"
     ]
    },
    {
     "name": "stderr",
     "output_type": "stream",
     "text": [
      "100%|██████████| 50000/50000 [41:58<00:00, 19.85it/s]  ﻿\n"
     ]
    },
    {
     "name": "stdout",
     "output_type": "stream",
     "text": [
      "🚀 Processing chunk 800000-850000\n"
     ]
    },
    {
     "name": "stderr",
     "output_type": "stream",
     "text": [
      "﻿                                                      ﻿"
     ]
    },
    {
     "name": "stdout",
     "output_type": "stream",
     "text": [
      "⏳ Heartbeat: still running at 2025-08-12 04:41:58\n"
     ]
    },
    {
     "name": "stderr",
     "output_type": "stream",
     "text": [
      "100%|██████████| 50000/50000 [40:52<00:00, 20.39it/s]﻿\n"
     ]
    },
    {
     "name": "stdout",
     "output_type": "stream",
     "text": [
      "🚀 Processing chunk 850000-900000\n"
     ]
    },
    {
     "name": "stderr",
     "output_type": "stream",
     "text": [
      "﻿                                                     ﻿"
     ]
    },
    {
     "name": "stdout",
     "output_type": "stream",
     "text": [
      "⏳ Heartbeat: still running at 2025-08-12 05:41:58\n"
     ]
    },
    {
     "name": "stderr",
     "output_type": "stream",
     "text": [
      "100%|██████████| 50000/50000 [40:20<00:00, 20.66it/s]﻿\n"
     ]
    },
    {
     "name": "stdout",
     "output_type": "stream",
     "text": [
      "🚀 Processing chunk 900000-950000\n"
     ]
    },
    {
     "name": "stderr",
     "output_type": "stream",
     "text": [
      "100%|██████████| 50000/50000 [40:31<00:00, 20.56it/s] ﻿\n"
     ]
    },
    {
     "name": "stdout",
     "output_type": "stream",
     "text": [
      "🚀 Processing chunk 950000-1000000\n"
     ]
    },
    {
     "name": "stderr",
     "output_type": "stream",
     "text": [
      "﻿                                                      ﻿"
     ]
    },
    {
     "name": "stdout",
     "output_type": "stream",
     "text": [
      "⏳ Heartbeat: still running at 2025-08-12 06:41:58\n"
     ]
    },
    {
     "name": "stderr",
     "output_type": "stream",
     "text": [
      "100%|██████████| 50000/50000 [39:58<00:00, 20.85it/s]﻿\n"
     ]
    },
    {
     "name": "stdout",
     "output_type": "stream",
     "text": [
      "🚀 Processing chunk 1000000-1050000\n"
     ]
    },
    {
     "name": "stderr",
     "output_type": "stream",
     "text": [
      "﻿                                                     ﻿"
     ]
    },
    {
     "name": "stdout",
     "output_type": "stream",
     "text": [
      "⏳ Heartbeat: still running at 2025-08-12 07:41:58\n"
     ]
    },
    {
     "name": "stderr",
     "output_type": "stream",
     "text": [
      "100%|██████████| 50000/50000 [40:07<00:00, 20.77it/s]﻿\n"
     ]
    },
    {
     "name": "stdout",
     "output_type": "stream",
     "text": [
      "🚀 Processing chunk 1050000-1100000\n"
     ]
    },
    {
     "name": "stderr",
     "output_type": "stream",
     "text": [
      "100%|██████████| 50000/50000 [40:08<00:00, 20.76it/s]  ﻿\n"
     ]
    },
    {
     "name": "stdout",
     "output_type": "stream",
     "text": [
      "🚀 Processing chunk 1100000-1150000\n"
     ]
    },
    {
     "name": "stderr",
     "output_type": "stream",
     "text": [
      "﻿                                                      ﻿"
     ]
    },
    {
     "name": "stdout",
     "output_type": "stream",
     "text": [
      "⏳ Heartbeat: still running at 2025-08-12 08:41:58\n"
     ]
    },
    {
     "name": "stderr",
     "output_type": "stream",
     "text": [
      "100%|██████████| 50000/50000 [40:55<00:00, 20.36it/s]﻿\n"
     ]
    },
    {
     "name": "stdout",
     "output_type": "stream",
     "text": [
      "🚀 Processing chunk 1150000-1200000\n"
     ]
    },
    {
     "name": "stderr",
     "output_type": "stream",
     "text": [
      "﻿                                                     ﻿"
     ]
    },
    {
     "name": "stdout",
     "output_type": "stream",
     "text": [
      "⏳ Heartbeat: still running at 2025-08-12 09:41:58\n"
     ]
    },
    {
     "name": "stderr",
     "output_type": "stream",
     "text": [
      "100%|██████████| 50000/50000 [40:33<00:00, 20.55it/s]﻿\n"
     ]
    },
    {
     "name": "stdout",
     "output_type": "stream",
     "text": [
      "🚀 Processing chunk 1200000-1250000\n"
     ]
    },
    {
     "name": "stderr",
     "output_type": "stream",
     "text": [
      "100%|██████████| 50000/50000 [40:26<00:00, 20.61it/s] ﻿\n"
     ]
    },
    {
     "name": "stdout",
     "output_type": "stream",
     "text": [
      "🚀 Processing chunk 1250000-1300000\n"
     ]
    },
    {
     "name": "stderr",
     "output_type": "stream",
     "text": [
      "﻿                                                      ﻿"
     ]
    },
    {
     "name": "stdout",
     "output_type": "stream",
     "text": [
      "⏳ Heartbeat: still running at 2025-08-12 10:41:58\n"
     ]
    },
    {
     "name": "stderr",
     "output_type": "stream",
     "text": [
      "100%|██████████| 50000/50000 [42:25<00:00, 19.64it/s]﻿\n"
     ]
    },
    {
     "name": "stdout",
     "output_type": "stream",
     "text": [
      "🚀 Processing chunk 1300000-1350000\n"
     ]
    },
    {
     "name": "stderr",
     "output_type": "stream",
     "text": [
      "﻿                                                      ﻿"
     ]
    },
    {
     "name": "stdout",
     "output_type": "stream",
     "text": [
      "⏳ Heartbeat: still running at 2025-08-12 11:41:58\n"
     ]
    },
    {
     "name": "stderr",
     "output_type": "stream",
     "text": [
      "100%|██████████| 50000/50000 [1:03:14<00:00, 13.18it/s]﻿\n"
     ]
    },
    {
     "name": "stdout",
     "output_type": "stream",
     "text": [
      "🚀 Processing chunk 1350000-1400000\n"
     ]
    },
    {
     "name": "stderr",
     "output_type": "stream",
     "text": [
      "﻿                                                      ﻿"
     ]
    },
    {
     "name": "stdout",
     "output_type": "stream",
     "text": [
      "⏳ Heartbeat: still running at 2025-08-12 12:41:58\n"
     ]
    },
    {
     "name": "stderr",
     "output_type": "stream",
     "text": [
      "100%|██████████| 50000/50000 [58:36<00:00, 14.22it/s]  ﻿\n"
     ]
    },
    {
     "name": "stdout",
     "output_type": "stream",
     "text": [
      "🚀 Processing chunk 1400000-1450000\n"
     ]
    },
    {
     "name": "stderr",
     "output_type": "stream",
     "text": [
      "﻿                                                      ﻿"
     ]
    },
    {
     "name": "stdout",
     "output_type": "stream",
     "text": [
      "⏳ Heartbeat: still running at 2025-08-12 13:41:58\n"
     ]
    },
    {
     "name": "stderr",
     "output_type": "stream",
     "text": [
      "100%|██████████| 50000/50000 [1:05:39<00:00, 12.69it/s]﻿\n"
     ]
    },
    {
     "name": "stdout",
     "output_type": "stream",
     "text": [
      "🚀 Processing chunk 1450000-1500000\n"
     ]
    },
    {
     "name": "stderr",
     "output_type": "stream",
     "text": [
      "﻿                                                      ﻿"
     ]
    },
    {
     "name": "stdout",
     "output_type": "stream",
     "text": [
      "⏳ Heartbeat: still running at 2025-08-12 14:41:58\n"
     ]
    },
    {
     "name": "stderr",
     "output_type": "stream",
     "text": [
      "100%|██████████| 50000/50000 [46:06<00:00, 18.07it/s]﻿\n"
     ]
    },
    {
     "name": "stdout",
     "output_type": "stream",
     "text": [
      "🚀 Processing chunk 1500000-1550000\n"
     ]
    },
    {
     "name": "stderr",
     "output_type": "stream",
     "text": [
      "﻿                                                      ﻿"
     ]
    },
    {
     "name": "stdout",
     "output_type": "stream",
     "text": [
      "⏳ Heartbeat: still running at 2025-08-12 15:41:58\n"
     ]
    },
    {
     "name": "stderr",
     "output_type": "stream",
     "text": [
      "100%|██████████| 50000/50000 [45:12<00:00, 18.43it/s]﻿\n"
     ]
    },
    {
     "name": "stdout",
     "output_type": "stream",
     "text": [
      "🚀 Processing chunk 1550000-1600000\n"
     ]
    },
    {
     "name": "stderr",
     "output_type": "stream",
     "text": [
      "100%|██████████| 50000/50000 [45:14<00:00, 18.42it/s]  ﻿\n"
     ]
    },
    {
     "name": "stdout",
     "output_type": "stream",
     "text": [
      "🚀 Processing chunk 1600000-1650000\n"
     ]
    },
    {
     "name": "stderr",
     "output_type": "stream",
     "text": [
      "﻿                                                     ﻿"
     ]
    },
    {
     "name": "stdout",
     "output_type": "stream",
     "text": [
      "⏳ Heartbeat: still running at 2025-08-12 16:41:58\n"
     ]
    },
    {
     "name": "stderr",
     "output_type": "stream",
     "text": [
      "100%|██████████| 50000/50000 [45:22<00:00, 18.36it/s]  ﻿\n"
     ]
    },
    {
     "name": "stdout",
     "output_type": "stream",
     "text": [
      "🚀 Processing chunk 1650000-1700000\n"
     ]
    },
    {
     "name": "stderr",
     "output_type": "stream",
     "text": [
      "﻿                                                      ﻿"
     ]
    },
    {
     "name": "stdout",
     "output_type": "stream",
     "text": [
      "⏳ Heartbeat: still running at 2025-08-12 17:41:58\n"
     ]
    },
    {
     "name": "stderr",
     "output_type": "stream",
     "text": [
      "100%|██████████| 50000/50000 [48:34<00:00, 17.15it/s]  ﻿\n"
     ]
    },
    {
     "name": "stdout",
     "output_type": "stream",
     "text": [
      "🚀 Processing chunk 1700000-1750000\n"
     ]
    },
    {
     "name": "stderr",
     "output_type": "stream",
     "text": [
      "﻿                                                      ﻿"
     ]
    },
    {
     "name": "stdout",
     "output_type": "stream",
     "text": [
      "⏳ Heartbeat: still running at 2025-08-12 18:41:58\n"
     ]
    },
    {
     "name": "stderr",
     "output_type": "stream",
     "text": [
      "100%|██████████| 50000/50000 [55:33<00:00, 15.00it/s]﻿\n"
     ]
    },
    {
     "name": "stdout",
     "output_type": "stream",
     "text": [
      "🚀 Processing chunk 1750000-1800000\n"
     ]
    },
    {
     "name": "stderr",
     "output_type": "stream",
     "text": [
      "﻿                                                      ﻿"
     ]
    },
    {
     "name": "stdout",
     "output_type": "stream",
     "text": [
      "⏳ Heartbeat: still running at 2025-08-12 19:41:58\n"
     ]
    },
    {
     "name": "stderr",
     "output_type": "stream",
     "text": [
      "100%|██████████| 50000/50000 [57:05<00:00, 14.60it/s]﻿\n"
     ]
    },
    {
     "name": "stdout",
     "output_type": "stream",
     "text": [
      "🚀 Processing chunk 1800000-1850000\n"
     ]
    },
    {
     "name": "stderr",
     "output_type": "stream",
     "text": [
      "﻿                                                      ﻿"
     ]
    },
    {
     "name": "stdout",
     "output_type": "stream",
     "text": [
      "⏳ Heartbeat: still running at 2025-08-12 20:41:58\n"
     ]
    },
    {
     "name": "stderr",
     "output_type": "stream",
     "text": [
      "100%|██████████| 50000/50000 [1:11:57<00:00, 11.58it/s]﻿\n"
     ]
    },
    {
     "name": "stdout",
     "output_type": "stream",
     "text": [
      "🚀 Processing chunk 1850000-1900000\n"
     ]
    },
    {
     "name": "stderr",
     "output_type": "stream",
     "text": [
      "﻿                                                      ﻿"
     ]
    },
    {
     "name": "stdout",
     "output_type": "stream",
     "text": [
      "⏳ Heartbeat: still running at 2025-08-12 21:41:58\n"
     ]
    },
    {
     "name": "stderr",
     "output_type": "stream",
     "text": [
      "100%|██████████| 50000/50000 [1:08:36<00:00, 12.15it/s]﻿\n"
     ]
    },
    {
     "name": "stdout",
     "output_type": "stream",
     "text": [
      "🚀 Processing chunk 1900000-1950000\n"
     ]
    },
    {
     "name": "stderr",
     "output_type": "stream",
     "text": [
      "﻿                                                       ﻿"
     ]
    },
    {
     "name": "stdout",
     "output_type": "stream",
     "text": [
      "⏳ Heartbeat: still running at 2025-08-12 22:41:58\n"
     ]
    },
    {
     "name": "stderr",
     "output_type": "stream",
     "text": [
      "100%|██████████| 50000/50000 [1:00:03<00:00, 13.88it/s]﻿\n"
     ]
    },
    {
     "name": "stdout",
     "output_type": "stream",
     "text": [
      "🚀 Processing chunk 1950000-2000000\n"
     ]
    },
    {
     "name": "stderr",
     "output_type": "stream",
     "text": [
      "﻿                                                      ﻿"
     ]
    },
    {
     "name": "stdout",
     "output_type": "stream",
     "text": [
      "⏳ Heartbeat: still running at 2025-08-12 23:41:58\n"
     ]
    },
    {
     "name": "stderr",
     "output_type": "stream",
     "text": [
      "100%|██████████| 50000/50000 [48:47<00:00, 17.08it/s]  ﻿\n"
     ]
    },
    {
     "name": "stdout",
     "output_type": "stream",
     "text": [
      "🚀 Processing chunk 2000000-2050000\n"
     ]
    },
    {
     "name": "stderr",
     "output_type": "stream",
     "text": [
      "﻿                                                      ﻿"
     ]
    },
    {
     "name": "stdout",
     "output_type": "stream",
     "text": [
      "⏳ Heartbeat: still running at 2025-08-13 00:41:58\n"
     ]
    },
    {
     "name": "stderr",
     "output_type": "stream",
     "text": [
      "100%|██████████| 50000/50000 [45:11<00:00, 18.44it/s]﻿\n"
     ]
    },
    {
     "name": "stdout",
     "output_type": "stream",
     "text": [
      "🚀 Processing chunk 2050000-2100000\n"
     ]
    },
    {
     "name": "stderr",
     "output_type": "stream",
     "text": [
      "﻿                                                      ﻿"
     ]
    },
    {
     "name": "stdout",
     "output_type": "stream",
     "text": [
      "⏳ Heartbeat: still running at 2025-08-13 01:41:58\n"
     ]
    },
    {
     "name": "stderr",
     "output_type": "stream",
     "text": [
      "100%|██████████| 50000/50000 [45:34<00:00, 18.29it/s]﻿\n"
     ]
    },
    {
     "name": "stdout",
     "output_type": "stream",
     "text": [
      "🚀 Processing chunk 2100000-2150000\n"
     ]
    },
    {
     "name": "stderr",
     "output_type": "stream",
     "text": [
      "100%|██████████| 50000/50000 [45:35<00:00, 18.28it/s]  ﻿\n"
     ]
    },
    {
     "name": "stdout",
     "output_type": "stream",
     "text": [
      "🚀 Processing chunk 2150000-2200000\n"
     ]
    },
    {
     "name": "stderr",
     "output_type": "stream",
     "text": [
      " 30%|███       | 15041/50000 [13:39<30:08, 19.33it/s]  "
     ]
    }
   ],
   "source": [
    "# Start the background heartbeat thread\n",
    "threading.Thread(target=heartbeat, args=(3600,), daemon=True).start()\n",
    "\n",
    "# Run the main process with timer\n",
    "start_time = timeit.default_timer()\n",
    "\n",
    "result_df, global_usage_count, usage_by_category = assign_best_drones_with_hybrid_penalty(\n",
    "    merged_df=ghz_with_cpm,\n",
    "    drone_df=drone_df,\n",
    "    chunk_size=50000\n",
    ")\n",
    "\n",
    "elapsed = timeit.default_timer() - start_time\n",
    "print(\"\\u2705 All processing completed! Elapsed time: %s minutes\"%str(elapsed/60))"
   ]
  },
  {
   "cell_type": "code",
   "execution_count": 45,
   "metadata": {},
   "outputs": [
    {
     "name": "stdout",
     "output_type": "stream",
     "text": [
      "<class 'pandas.core.frame.DataFrame'>\n",
      "RangeIndex: 50000 entries, 0 to 49999\n",
      "Data columns (total 20 columns):\n",
      " #   Column             Non-Null Count  Dtype  \n",
      "---  ------             --------------  -----  \n",
      " 0   HazardID           50000 non-null  int64  \n",
      " 1   HazardType         50000 non-null  object \n",
      " 2   latitude           50000 non-null  float64\n",
      " 3   longitude          50000 non-null  float64\n",
      " 4   DisasterPhase      50000 non-null  object \n",
      " 5   RecommendedSensor  50000 non-null  object \n",
      " 6   sensor_weight      50000 non-null  int64  \n",
      " 7   sensor_model       50000 non-null  object \n",
      " 8   distance           47042 non-null  float64\n",
      " 9   mission_distance   50000 non-null  float64\n",
      " 10  travel_time        47042 non-null  float64\n",
      " 11  monitor_time       50000 non-null  float64\n",
      " 12  setup_buffer       50000 non-null  float64\n",
      " 13  cpm_total_time     47042 non-null  float64\n",
      " 14  drone1             50000 non-null  object \n",
      " 15  drone2             50000 non-null  object \n",
      " 16  drone3             50000 non-null  object \n",
      " 17  note1              50000 non-null  object \n",
      " 18  note2              50000 non-null  object \n",
      " 19  note3              50000 non-null  object \n",
      "dtypes: float64(8), int64(2), object(10)\n",
      "memory usage: 7.6+ MB\n"
     ]
    }
   ],
   "source": [
    "result_df.info()"
   ]
  },
  {
   "cell_type": "code",
   "execution_count": 11,
   "metadata": {},
   "outputs": [
    {
     "data": {
      "text/plain": [
       "77"
      ]
     },
     "execution_count": 11,
     "metadata": {},
     "output_type": "execute_result"
    }
   ],
   "source": [
    "len(final_df.drone2.unique())"
   ]
  },
  {
   "cell_type": "code",
   "execution_count": 7,
   "metadata": {},
   "outputs": [],
   "source": [
    "# --- 1) Helper: rebuild usage + detect finished chunks ---\n",
    "import os, glob\n",
    "import pandas as pd\n",
    "from collections import defaultdict\n",
    "\n",
    "def rebuild_usage_from_saved(save_dir):\n",
    "    global_usage_count = defaultdict(int)\n",
    "    usage_by_category = defaultdict(int)\n",
    "    done_ranges = set()\n",
    "\n",
    "    pattern = os.path.join(save_dir, \"drone_assign_chunk_*_*.feather\")\n",
    "    for fp in sorted(glob.glob(pattern)):\n",
    "        base = os.path.basename(fp)\n",
    "        try:\n",
    "            _, s, e = base.replace(\".feather\", \"\").split(\"_\")[-3:]\n",
    "            start_i, end_i = int(s), int(e)\n",
    "            done_ranges.add((start_i, end_i))\n",
    "        except Exception:\n",
    "            pass\n",
    "\n",
    "        df = pd.read_feather(fp)\n",
    "        sensor_col = \"sensor_model\" if \"sensor_model\" in df.columns else (\"RecommendedSensor\" if \"RecommendedSensor\" in df.columns else None)\n",
    "        sens = df[sensor_col] if sensor_col else pd.Series([\"Unknown\"] * len(df))\n",
    "        haz  = df[\"HazardType\"] if \"HazardType\" in df.columns else pd.Series([\"Unknown\"] * len(df))\n",
    "\n",
    "        for k in (1, 2, 3):\n",
    "            dcol = f\"drone{k}\"\n",
    "            if dcol not in df.columns: \n",
    "                continue\n",
    "            mask = df[dcol].notna()\n",
    "            if not mask.any(): \n",
    "                continue\n",
    "            sub = df.loc[mask, [dcol]].copy()\n",
    "            sub_h = haz.loc[mask]\n",
    "            sub_s = sens.loc[mask]\n",
    "            for h, s, d in zip(sub_h, sub_s, sub[dcol]):\n",
    "                d_id = str(d)\n",
    "                global_usage_count[d_id] += 1\n",
    "                usage_by_category[(h if pd.notna(h) else \"Unknown\",\n",
    "                                   s if pd.notna(s) else \"Unknown\",\n",
    "                                   d_id)] += 1\n",
    "\n",
    "    return dict(global_usage_count), dict(usage_by_category), done_ranges\n",
    "\n",
    "\n",
    "# --- 2) Faster + resumable assigner (hybrid penalties, vectorized scoring) ---\n",
    "import os, gc\n",
    "import numpy as np\n",
    "import pandas as pd\n",
    "from tqdm import tqdm\n",
    "\n",
    "def assign_best_drones_with_hybrid_penalty_resumable(\n",
    "    merged_df,\n",
    "    drone_df,\n",
    "    chunk_size=50_000,\n",
    "    save_dir=r\"D:\\NDIS_Database\\20_PaperSimulation\\FinalDroneAssignment\",\n",
    "    global_penalty=0.001,\n",
    "    category_penalty=0.01,\n",
    "    resume=True,\n",
    "    return_results=False\n",
    "):\n",
    "    os.makedirs(save_dir, exist_ok=True)\n",
    "\n",
    "    ddf = drone_df.dropna(subset=[\"mfc_model\", \"max_payload_weight\"]).copy()\n",
    "    ddf = ddf.assign(\n",
    "        drone_id = ddf[\"mfc_model\"].astype(str),\n",
    "        comm_range = pd.to_numeric(ddf[\"comm_range\"], errors=\"coerce\"),\n",
    "        distance_range = pd.to_numeric(ddf[\"distance_range\"], errors=\"coerce\"),\n",
    "        max_payload_weight = pd.to_numeric(ddf[\"max_payload_weight\"], errors=\"coerce\"),\n",
    "    )\n",
    "    d_ids   = ddf[\"drone_id\"].to_numpy()\n",
    "    d_comm  = ddf[\"comm_range\"].to_numpy()\n",
    "    d_dist  = ddf[\"distance_range\"].to_numpy()\n",
    "    d_pay   = ddf[\"max_payload_weight\"].to_numpy()\n",
    "\n",
    "    if resume:\n",
    "        global_usage_count, usage_by_category, done_ranges = rebuild_usage_from_saved(save_dir)\n",
    "    else:\n",
    "        global_usage_count, usage_by_category, done_ranges = {}, {}, set()\n",
    "\n",
    "    all_results = []\n",
    "    n = len(merged_df)\n",
    "\n",
    "    for start in range(0, n, chunk_size):\n",
    "        end = min(start + chunk_size, n)\n",
    "\n",
    "        if (start, end) in done_ranges:\n",
    "            print(f\"⏭️  Skipping chunk {start}-{end} (already saved)\")\n",
    "            continue\n",
    "\n",
    "        print(f\"🚀 Processing chunk {start}-{end}\")\n",
    "        chunk = merged_df.iloc[start:end].copy()\n",
    "\n",
    "        h_dist_col   = pd.to_numeric(chunk[\"distance\"], errors=\"coerce\") if \"distance\" in chunk.columns else pd.Series(np.nan, index=chunk.index)\n",
    "        m_dist_col   = pd.to_numeric(chunk[\"mission_distance\"], errors=\"coerce\") if \"mission_distance\" in chunk.columns else pd.Series(np.nan, index=chunk.index)\n",
    "        s_weight_col = pd.to_numeric(chunk[\"sensor_weight\"], errors=\"coerce\") if \"sensor_weight\" in chunk.columns else pd.Series(np.nan, index=chunk.index)\n",
    "\n",
    "        for k in (1,2,3):\n",
    "            chunk[f\"drone{k}\"] = None\n",
    "            chunk[f\"note{k}\"]  = None\n",
    "\n",
    "        it = tqdm(list(chunk.itertuples(index=True, name=None)), total=len(chunk))\n",
    "        for tup in it:\n",
    "            idx = tup[0]\n",
    "            s_weight = s_weight_col.at[idx]\n",
    "            if pd.isna(s_weight):\n",
    "                continue\n",
    "\n",
    "            h_dist = h_dist_col.at[idx]\n",
    "            m_dist = m_dist_col.at[idx]\n",
    "            sensor = (chunk.at[idx, \"sensor_model\"]\n",
    "                      if \"sensor_model\" in chunk.columns and pd.notna(chunk.at[idx, \"sensor_model\"])\n",
    "                      else chunk.at[idx, \"RecommendedSensor\"]\n",
    "                      if \"RecommendedSensor\" in chunk.columns and pd.notna(chunk.at[idx, \"RecommendedSensor\"])\n",
    "                      else \"Unknown\")\n",
    "            hazard = chunk.at[idx, \"HazardType\"] if \"HazardType\" in chunk.columns and pd.notna(chunk.at[idx, \"HazardType\"]) else \"Unknown\"\n",
    "\n",
    "            mask = d_pay >= s_weight\n",
    "            if not mask.any():\n",
    "                continue\n",
    "\n",
    "            cand_ids  = d_ids[mask]\n",
    "            cand_comm = d_comm[mask]\n",
    "            cand_dist = d_dist[mask]\n",
    "            cand_pay  = d_pay[mask]\n",
    "\n",
    "            scores = np.full(cand_ids.shape[0], 100.0)\n",
    "            notes  = np.empty(cand_ids.shape[0], dtype=object); notes[:] = \"\"\n",
    "\n",
    "            if pd.notna(h_dist):\n",
    "                comm_bad = cand_comm < h_dist\n",
    "                scores[comm_bad] += 30.0\n",
    "                notes[comm_bad] = \"Comm range insufficient\"\n",
    "\n",
    "            if pd.notna(m_dist):\n",
    "                full      = cand_dist >= m_dist\n",
    "                near_full = (~full) & (cand_dist >= 0.75*m_dist)\n",
    "                half      = (~full) & (~near_full) & (cand_dist >= 0.50*m_dist)\n",
    "                quarter   = (~full) & (~near_full) & (~half) & (cand_dist >= 0.25*m_dist)\n",
    "                very_low  = (~full) & (~near_full) & (~half) & (~quarter)\n",
    "\n",
    "                scores[full]      -= 10.0; notes[full]      = \"Full coverage\"\n",
    "                scores[near_full] +=  2.0; notes[near_full] = \"Near full coverage\"\n",
    "                scores[half]      +=  5.0; notes[half]      = \"2–3 swaths needed\"\n",
    "                scores[quarter]   += 15.0; notes[quarter]   = \"Multiple passes\"\n",
    "                scores[very_low]  += 25.0; notes[very_low]  = \"Very limited range\"\n",
    "            else:\n",
    "                scores += 10.0; notes[:] = \"Distance unknown\"\n",
    "\n",
    "            payload_diff = np.abs(cand_pay - s_weight)\n",
    "            scores += np.minimum(payload_diff * 0.01, 10.0)\n",
    "\n",
    "            g_vec = np.fromiter((global_usage_count.get(d, 0) for d in cand_ids), dtype=float, count=cand_ids.size)\n",
    "            c_vec = np.fromiter((usage_by_category.get((hazard, sensor, d), 0) for d in cand_ids), dtype=float, count=cand_ids.size)\n",
    "            scores += g_vec * global_penalty\n",
    "            scores += c_vec * category_penalty\n",
    "\n",
    "            # jitter can be disabled for determinism:\n",
    "            # scores += np.random.uniform(-0.25, 0.25, size=cand_ids.size)\n",
    "\n",
    "            # top10 then top3 without full sort\n",
    "            k10 = min(10, scores.size-1)\n",
    "            top10_idx = np.argpartition(scores, kth=k10)[:k10+1]\n",
    "            order10 = np.argsort(scores[top10_idx])\n",
    "            pick_idx = top10_idx[order10][:3]\n",
    "\n",
    "            chosen_ids  = cand_ids[pick_idx]\n",
    "            chosen_notes= notes[pick_idx]\n",
    "\n",
    "            for rank, (d_id, nte) in enumerate(zip(chosen_ids, chosen_notes), start=1):\n",
    "                chunk.at[idx, f\"drone{rank}\"] = d_id\n",
    "                chunk.at[idx, f\"note{rank}\"]  = nte\n",
    "                global_usage_count[d_id] = global_usage_count.get(d_id, 0) + 1\n",
    "                usage_by_category[(hazard, sensor, d_id)] = usage_by_category.get((hazard, sensor, d_id), 0) + 1\n",
    "\n",
    "        out_tmp  = os.path.join(save_dir, f\"drone_assign_chunk_{start}_{end}.feather.tmp\")\n",
    "        out_path = os.path.join(save_dir, f\"drone_assign_chunk_{start}_{end}.feather\")\n",
    "        chunk.reset_index(drop=True).to_feather(out_tmp)\n",
    "        os.replace(out_tmp, out_path)\n",
    "\n",
    "        if return_results:\n",
    "            all_results.append(chunk)\n",
    "\n",
    "        del chunk\n",
    "        gc.collect()\n",
    "\n",
    "    if return_results:\n",
    "        return pd.concat(all_results, ignore_index=True), global_usage_count, usage_by_category\n",
    "    else:\n",
    "        return None, global_usage_count, usage_by_category\n"
   ]
  },
  {
   "cell_type": "code",
   "execution_count": 8,
   "metadata": {},
   "outputs": [
    {
     "name": "stdout",
     "output_type": "stream",
     "text": [
      "⏳ Heartbeat: still running at 2025-08-13 17:36:40\n",
      "⏭️  Skipping chunk 0-50000 (already saved)\n",
      "⏭️  Skipping chunk 50000-100000 (already saved)\n",
      "⏭️  Skipping chunk 100000-150000 (already saved)\n",
      "⏭️  Skipping chunk 150000-200000 (already saved)\n",
      "⏭️  Skipping chunk 200000-250000 (already saved)\n",
      "⏭️  Skipping chunk 250000-300000 (already saved)\n",
      "⏭️  Skipping chunk 300000-350000 (already saved)\n",
      "⏭️  Skipping chunk 350000-400000 (already saved)\n",
      "⏭️  Skipping chunk 400000-450000 (already saved)\n",
      "⏭️  Skipping chunk 450000-500000 (already saved)\n",
      "⏭️  Skipping chunk 500000-550000 (already saved)\n",
      "⏭️  Skipping chunk 550000-600000 (already saved)\n",
      "⏭️  Skipping chunk 600000-650000 (already saved)\n",
      "⏭️  Skipping chunk 650000-700000 (already saved)\n",
      "⏭️  Skipping chunk 700000-750000 (already saved)\n",
      "⏭️  Skipping chunk 750000-800000 (already saved)\n",
      "⏭️  Skipping chunk 800000-850000 (already saved)\n",
      "⏭️  Skipping chunk 850000-900000 (already saved)\n",
      "⏭️  Skipping chunk 900000-950000 (already saved)\n",
      "⏭️  Skipping chunk 950000-1000000 (already saved)\n",
      "⏭️  Skipping chunk 1000000-1050000 (already saved)\n",
      "⏭️  Skipping chunk 1050000-1100000 (already saved)\n",
      "⏭️  Skipping chunk 1100000-1150000 (already saved)\n",
      "⏭️  Skipping chunk 1150000-1200000 (already saved)\n",
      "⏭️  Skipping chunk 1200000-1250000 (already saved)\n",
      "⏭️  Skipping chunk 1250000-1300000 (already saved)\n",
      "⏭️  Skipping chunk 1300000-1350000 (already saved)\n",
      "⏭️  Skipping chunk 1350000-1400000 (already saved)\n",
      "⏭️  Skipping chunk 1400000-1450000 (already saved)\n",
      "⏭️  Skipping chunk 1450000-1500000 (already saved)\n",
      "⏭️  Skipping chunk 1500000-1550000 (already saved)\n",
      "⏭️  Skipping chunk 1550000-1600000 (already saved)\n",
      "⏭️  Skipping chunk 1600000-1650000 (already saved)\n",
      "⏭️  Skipping chunk 1650000-1700000 (already saved)\n",
      "⏭️  Skipping chunk 1700000-1750000 (already saved)\n",
      "⏭️  Skipping chunk 1750000-1800000 (already saved)\n",
      "⏭️  Skipping chunk 1800000-1850000 (already saved)\n",
      "⏭️  Skipping chunk 1850000-1900000 (already saved)\n",
      "⏭️  Skipping chunk 1900000-1950000 (already saved)\n",
      "⏭️  Skipping chunk 1950000-2000000 (already saved)\n",
      "⏭️  Skipping chunk 2000000-2050000 (already saved)\n",
      "⏭️  Skipping chunk 2050000-2100000 (already saved)\n",
      "⏭️  Skipping chunk 2100000-2150000 (already saved)\n",
      "⏭️  Skipping chunk 2150000-2200000 (already saved)\n",
      "🚀 Processing chunk 2200000-2250000\n"
     ]
    },
    {
     "name": "stderr",
     "output_type": "stream",
     "text": [
      "100%|██████████| 50000/50000 [00:41<00:00, 1195.88it/s]﻿\n"
     ]
    },
    {
     "name": "stdout",
     "output_type": "stream",
     "text": [
      "🚀 Processing chunk 2250000-2300000\n"
     ]
    },
    {
     "name": "stderr",
     "output_type": "stream",
     "text": [
      "100%|██████████| 50000/50000 [00:41<00:00, 1211.17it/s]﻿\n"
     ]
    },
    {
     "name": "stdout",
     "output_type": "stream",
     "text": [
      "🚀 Processing chunk 2300000-2350000\n"
     ]
    },
    {
     "name": "stderr",
     "output_type": "stream",
     "text": [
      "100%|██████████| 50000/50000 [00:42<00:00, 1167.32it/s]﻿\n"
     ]
    },
    {
     "name": "stdout",
     "output_type": "stream",
     "text": [
      "🚀 Processing chunk 2350000-2400000\n"
     ]
    },
    {
     "name": "stderr",
     "output_type": "stream",
     "text": [
      "100%|██████████| 50000/50000 [00:41<00:00, 1200.34it/s]﻿\n"
     ]
    },
    {
     "name": "stdout",
     "output_type": "stream",
     "text": [
      "🚀 Processing chunk 2400000-2450000\n"
     ]
    },
    {
     "name": "stderr",
     "output_type": "stream",
     "text": [
      "100%|██████████| 50000/50000 [00:49<00:00, 1019.82it/s]﻿\n"
     ]
    },
    {
     "name": "stdout",
     "output_type": "stream",
     "text": [
      "🚀 Processing chunk 2450000-2500000\n"
     ]
    },
    {
     "name": "stderr",
     "output_type": "stream",
     "text": [
      "100%|██████████| 50000/50000 [00:51<00:00, 974.55it/s] ﻿\n"
     ]
    },
    {
     "name": "stdout",
     "output_type": "stream",
     "text": [
      "🚀 Processing chunk 2500000-2550000\n"
     ]
    },
    {
     "name": "stderr",
     "output_type": "stream",
     "text": [
      "100%|██████████| 50000/50000 [00:42<00:00, 1187.45it/s]﻿\n"
     ]
    },
    {
     "name": "stdout",
     "output_type": "stream",
     "text": [
      "🚀 Processing chunk 2550000-2600000\n"
     ]
    },
    {
     "name": "stderr",
     "output_type": "stream",
     "text": [
      "100%|██████████| 50000/50000 [00:39<00:00, 1258.87it/s]﻿\n"
     ]
    },
    {
     "name": "stdout",
     "output_type": "stream",
     "text": [
      "🚀 Processing chunk 2600000-2650000\n"
     ]
    },
    {
     "name": "stderr",
     "output_type": "stream",
     "text": [
      "100%|██████████| 50000/50000 [00:38<00:00, 1286.06it/s]﻿\n"
     ]
    },
    {
     "name": "stdout",
     "output_type": "stream",
     "text": [
      "🚀 Processing chunk 2650000-2700000\n"
     ]
    },
    {
     "name": "stderr",
     "output_type": "stream",
     "text": [
      "100%|██████████| 50000/50000 [00:38<00:00, 1290.96it/s]﻿\n"
     ]
    },
    {
     "name": "stdout",
     "output_type": "stream",
     "text": [
      "🚀 Processing chunk 2700000-2750000\n"
     ]
    },
    {
     "name": "stderr",
     "output_type": "stream",
     "text": [
      "100%|██████████| 50000/50000 [00:43<00:00, 1159.87it/s]﻿\n"
     ]
    },
    {
     "name": "stdout",
     "output_type": "stream",
     "text": [
      "🚀 Processing chunk 2750000-2800000\n"
     ]
    },
    {
     "name": "stderr",
     "output_type": "stream",
     "text": [
      "100%|██████████| 50000/50000 [00:38<00:00, 1285.93it/s]﻿\n"
     ]
    },
    {
     "name": "stdout",
     "output_type": "stream",
     "text": [
      "🚀 Processing chunk 2800000-2850000\n"
     ]
    },
    {
     "name": "stderr",
     "output_type": "stream",
     "text": [
      "100%|██████████| 50000/50000 [00:41<00:00, 1207.82it/s]﻿\n"
     ]
    },
    {
     "name": "stdout",
     "output_type": "stream",
     "text": [
      "🚀 Processing chunk 2850000-2900000\n"
     ]
    },
    {
     "name": "stderr",
     "output_type": "stream",
     "text": [
      "100%|██████████| 50000/50000 [00:41<00:00, 1209.41it/s]﻿\n"
     ]
    },
    {
     "name": "stdout",
     "output_type": "stream",
     "text": [
      "🚀 Processing chunk 2900000-2950000\n"
     ]
    },
    {
     "name": "stderr",
     "output_type": "stream",
     "text": [
      "100%|██████████| 50000/50000 [00:39<00:00, 1281.59it/s]﻿\n"
     ]
    },
    {
     "name": "stdout",
     "output_type": "stream",
     "text": [
      "🚀 Processing chunk 2950000-3000000\n"
     ]
    },
    {
     "name": "stderr",
     "output_type": "stream",
     "text": [
      "100%|██████████| 50000/50000 [00:38<00:00, 1290.00it/s]﻿\n"
     ]
    },
    {
     "name": "stdout",
     "output_type": "stream",
     "text": [
      "🚀 Processing chunk 3000000-3050000\n"
     ]
    },
    {
     "name": "stderr",
     "output_type": "stream",
     "text": [
      "100%|██████████| 50000/50000 [00:40<00:00, 1243.58it/s]﻿\n"
     ]
    },
    {
     "name": "stdout",
     "output_type": "stream",
     "text": [
      "🚀 Processing chunk 3050000-3100000\n"
     ]
    },
    {
     "name": "stderr",
     "output_type": "stream",
     "text": [
      "100%|██████████| 50000/50000 [00:39<00:00, 1280.91it/s]﻿\n"
     ]
    },
    {
     "name": "stdout",
     "output_type": "stream",
     "text": [
      "🚀 Processing chunk 3100000-3150000\n"
     ]
    },
    {
     "name": "stderr",
     "output_type": "stream",
     "text": [
      "100%|██████████| 50000/50000 [00:39<00:00, 1279.93it/s]﻿\n"
     ]
    },
    {
     "name": "stdout",
     "output_type": "stream",
     "text": [
      "🚀 Processing chunk 3150000-3200000\n"
     ]
    },
    {
     "name": "stderr",
     "output_type": "stream",
     "text": [
      "100%|██████████| 50000/50000 [00:41<00:00, 1218.10it/s]﻿\n"
     ]
    },
    {
     "name": "stdout",
     "output_type": "stream",
     "text": [
      "🚀 Processing chunk 3200000-3250000\n"
     ]
    },
    {
     "name": "stderr",
     "output_type": "stream",
     "text": [
      "100%|██████████| 50000/50000 [00:38<00:00, 1302.57it/s]﻿\n"
     ]
    },
    {
     "name": "stdout",
     "output_type": "stream",
     "text": [
      "🚀 Processing chunk 3250000-3300000\n"
     ]
    },
    {
     "name": "stderr",
     "output_type": "stream",
     "text": [
      "100%|██████████| 50000/50000 [00:43<00:00, 1160.57it/s]﻿\n"
     ]
    },
    {
     "name": "stdout",
     "output_type": "stream",
     "text": [
      "🚀 Processing chunk 3300000-3350000\n"
     ]
    },
    {
     "name": "stderr",
     "output_type": "stream",
     "text": [
      "100%|██████████| 50000/50000 [00:40<00:00, 1238.32it/s]﻿\n"
     ]
    },
    {
     "name": "stdout",
     "output_type": "stream",
     "text": [
      "🚀 Processing chunk 3350000-3400000\n"
     ]
    },
    {
     "name": "stderr",
     "output_type": "stream",
     "text": [
      "100%|██████████| 50000/50000 [00:42<00:00, 1166.96it/s]﻿\n"
     ]
    },
    {
     "name": "stdout",
     "output_type": "stream",
     "text": [
      "🚀 Processing chunk 3400000-3450000\n"
     ]
    },
    {
     "name": "stderr",
     "output_type": "stream",
     "text": [
      "100%|██████████| 50000/50000 [00:39<00:00, 1253.94it/s]﻿\n"
     ]
    },
    {
     "name": "stdout",
     "output_type": "stream",
     "text": [
      "🚀 Processing chunk 3450000-3500000\n"
     ]
    },
    {
     "name": "stderr",
     "output_type": "stream",
     "text": [
      "100%|██████████| 50000/50000 [00:39<00:00, 1273.82it/s]﻿\n"
     ]
    },
    {
     "name": "stdout",
     "output_type": "stream",
     "text": [
      "🚀 Processing chunk 3500000-3550000\n"
     ]
    },
    {
     "name": "stderr",
     "output_type": "stream",
     "text": [
      "100%|██████████| 50000/50000 [00:39<00:00, 1260.73it/s]﻿\n"
     ]
    },
    {
     "name": "stdout",
     "output_type": "stream",
     "text": [
      "🚀 Processing chunk 3550000-3600000\n"
     ]
    },
    {
     "name": "stderr",
     "output_type": "stream",
     "text": [
      "100%|██████████| 50000/50000 [00:38<00:00, 1299.13it/s]﻿\n"
     ]
    },
    {
     "name": "stdout",
     "output_type": "stream",
     "text": [
      "🚀 Processing chunk 3600000-3650000\n"
     ]
    },
    {
     "name": "stderr",
     "output_type": "stream",
     "text": [
      "100%|██████████| 50000/50000 [00:40<00:00, 1244.31it/s]﻿\n"
     ]
    },
    {
     "name": "stdout",
     "output_type": "stream",
     "text": [
      "🚀 Processing chunk 3650000-3700000\n"
     ]
    },
    {
     "name": "stderr",
     "output_type": "stream",
     "text": [
      "100%|██████████| 50000/50000 [00:38<00:00, 1307.98it/s]﻿\n"
     ]
    },
    {
     "name": "stdout",
     "output_type": "stream",
     "text": [
      "🚀 Processing chunk 3700000-3750000\n"
     ]
    },
    {
     "name": "stderr",
     "output_type": "stream",
     "text": [
      "100%|██████████| 50000/50000 [00:38<00:00, 1297.61it/s]﻿\n"
     ]
    },
    {
     "name": "stdout",
     "output_type": "stream",
     "text": [
      "🚀 Processing chunk 3750000-3800000\n"
     ]
    },
    {
     "name": "stderr",
     "output_type": "stream",
     "text": [
      "100%|██████████| 50000/50000 [00:39<00:00, 1277.27it/s]﻿\n"
     ]
    },
    {
     "name": "stdout",
     "output_type": "stream",
     "text": [
      "🚀 Processing chunk 3800000-3850000\n"
     ]
    },
    {
     "name": "stderr",
     "output_type": "stream",
     "text": [
      "100%|██████████| 50000/50000 [00:38<00:00, 1287.90it/s]﻿\n"
     ]
    },
    {
     "name": "stdout",
     "output_type": "stream",
     "text": [
      "🚀 Processing chunk 3850000-3900000\n"
     ]
    },
    {
     "name": "stderr",
     "output_type": "stream",
     "text": [
      "100%|██████████| 50000/50000 [00:40<00:00, 1223.68it/s]﻿\n"
     ]
    },
    {
     "name": "stdout",
     "output_type": "stream",
     "text": [
      "🚀 Processing chunk 3900000-3950000\n"
     ]
    },
    {
     "name": "stderr",
     "output_type": "stream",
     "text": [
      "100%|██████████| 50000/50000 [00:41<00:00, 1205.81it/s]﻿\n"
     ]
    },
    {
     "name": "stdout",
     "output_type": "stream",
     "text": [
      "🚀 Processing chunk 3950000-4000000\n"
     ]
    },
    {
     "name": "stderr",
     "output_type": "stream",
     "text": [
      "100%|██████████| 50000/50000 [00:45<00:00, 1104.58it/s]﻿\n"
     ]
    },
    {
     "name": "stdout",
     "output_type": "stream",
     "text": [
      "🚀 Processing chunk 4000000-4050000\n"
     ]
    },
    {
     "name": "stderr",
     "output_type": "stream",
     "text": [
      "100%|██████████| 50000/50000 [00:41<00:00, 1215.60it/s]﻿\n"
     ]
    },
    {
     "name": "stdout",
     "output_type": "stream",
     "text": [
      "🚀 Processing chunk 4050000-4100000\n"
     ]
    },
    {
     "name": "stderr",
     "output_type": "stream",
     "text": [
      "100%|██████████| 50000/50000 [00:39<00:00, 1268.26it/s]﻿\n"
     ]
    },
    {
     "name": "stdout",
     "output_type": "stream",
     "text": [
      "🚀 Processing chunk 4100000-4150000\n"
     ]
    },
    {
     "name": "stderr",
     "output_type": "stream",
     "text": [
      "100%|██████████| 50000/50000 [00:40<00:00, 1244.85it/s]﻿\n"
     ]
    },
    {
     "name": "stdout",
     "output_type": "stream",
     "text": [
      "🚀 Processing chunk 4150000-4200000\n"
     ]
    },
    {
     "name": "stderr",
     "output_type": "stream",
     "text": [
      "100%|██████████| 50000/50000 [00:39<00:00, 1263.51it/s]﻿\n"
     ]
    },
    {
     "name": "stdout",
     "output_type": "stream",
     "text": [
      "🚀 Processing chunk 4200000-4250000\n"
     ]
    },
    {
     "name": "stderr",
     "output_type": "stream",
     "text": [
      "100%|██████████| 50000/50000 [00:39<00:00, 1267.81it/s]﻿\n"
     ]
    },
    {
     "name": "stdout",
     "output_type": "stream",
     "text": [
      "🚀 Processing chunk 4250000-4300000\n"
     ]
    },
    {
     "name": "stderr",
     "output_type": "stream",
     "text": [
      "100%|██████████| 50000/50000 [00:39<00:00, 1259.29it/s]﻿\n"
     ]
    },
    {
     "name": "stdout",
     "output_type": "stream",
     "text": [
      "🚀 Processing chunk 4300000-4350000\n"
     ]
    },
    {
     "name": "stderr",
     "output_type": "stream",
     "text": [
      "100%|██████████| 50000/50000 [00:41<00:00, 1191.20it/s]﻿\n"
     ]
    },
    {
     "name": "stdout",
     "output_type": "stream",
     "text": [
      "🚀 Processing chunk 4350000-4400000\n"
     ]
    },
    {
     "name": "stderr",
     "output_type": "stream",
     "text": [
      "100%|██████████| 50000/50000 [00:41<00:00, 1202.03it/s]﻿\n"
     ]
    },
    {
     "name": "stdout",
     "output_type": "stream",
     "text": [
      "🚀 Processing chunk 4400000-4450000\n"
     ]
    },
    {
     "name": "stderr",
     "output_type": "stream",
     "text": [
      "100%|██████████| 50000/50000 [00:39<00:00, 1264.91it/s]﻿\n"
     ]
    },
    {
     "name": "stdout",
     "output_type": "stream",
     "text": [
      "🚀 Processing chunk 4450000-4500000\n"
     ]
    },
    {
     "name": "stderr",
     "output_type": "stream",
     "text": [
      "100%|██████████| 50000/50000 [00:39<00:00, 1255.86it/s]﻿\n"
     ]
    },
    {
     "name": "stdout",
     "output_type": "stream",
     "text": [
      "🚀 Processing chunk 4500000-4550000\n"
     ]
    },
    {
     "name": "stderr",
     "output_type": "stream",
     "text": [
      "100%|██████████| 50000/50000 [00:39<00:00, 1269.22it/s]﻿\n"
     ]
    },
    {
     "name": "stdout",
     "output_type": "stream",
     "text": [
      "🚀 Processing chunk 4550000-4600000\n"
     ]
    },
    {
     "name": "stderr",
     "output_type": "stream",
     "text": [
      "100%|██████████| 50000/50000 [00:39<00:00, 1266.75it/s]﻿\n"
     ]
    },
    {
     "name": "stdout",
     "output_type": "stream",
     "text": [
      "🚀 Processing chunk 4600000-4650000\n"
     ]
    },
    {
     "name": "stderr",
     "output_type": "stream",
     "text": [
      "100%|██████████| 50000/50000 [00:41<00:00, 1218.46it/s]﻿\n"
     ]
    },
    {
     "name": "stdout",
     "output_type": "stream",
     "text": [
      "🚀 Processing chunk 4650000-4700000\n"
     ]
    },
    {
     "name": "stderr",
     "output_type": "stream",
     "text": [
      "100%|██████████| 50000/50000 [00:40<00:00, 1249.52it/s]﻿\n"
     ]
    },
    {
     "name": "stdout",
     "output_type": "stream",
     "text": [
      "🚀 Processing chunk 4700000-4750000\n"
     ]
    },
    {
     "name": "stderr",
     "output_type": "stream",
     "text": [
      "100%|██████████| 50000/50000 [00:42<00:00, 1180.83it/s]﻿\n"
     ]
    },
    {
     "name": "stdout",
     "output_type": "stream",
     "text": [
      "🚀 Processing chunk 4750000-4800000\n"
     ]
    },
    {
     "name": "stderr",
     "output_type": "stream",
     "text": [
      "100%|██████████| 50000/50000 [00:39<00:00, 1274.05it/s]﻿\n"
     ]
    },
    {
     "name": "stdout",
     "output_type": "stream",
     "text": [
      "🚀 Processing chunk 4800000-4850000\n"
     ]
    },
    {
     "name": "stderr",
     "output_type": "stream",
     "text": [
      "100%|██████████| 50000/50000 [00:40<00:00, 1233.81it/s]﻿\n"
     ]
    },
    {
     "name": "stdout",
     "output_type": "stream",
     "text": [
      "🚀 Processing chunk 4850000-4900000\n"
     ]
    },
    {
     "name": "stderr",
     "output_type": "stream",
     "text": [
      "100%|██████████| 50000/50000 [00:40<00:00, 1235.82it/s]﻿\n"
     ]
    },
    {
     "name": "stdout",
     "output_type": "stream",
     "text": [
      "🚀 Processing chunk 4900000-4950000\n"
     ]
    },
    {
     "name": "stderr",
     "output_type": "stream",
     "text": [
      "100%|██████████| 50000/50000 [00:39<00:00, 1263.99it/s]﻿\n"
     ]
    },
    {
     "name": "stdout",
     "output_type": "stream",
     "text": [
      "🚀 Processing chunk 4950000-5000000\n"
     ]
    },
    {
     "name": "stderr",
     "output_type": "stream",
     "text": [
      "100%|██████████| 50000/50000 [00:39<00:00, 1259.38it/s]﻿\n"
     ]
    },
    {
     "name": "stdout",
     "output_type": "stream",
     "text": [
      "🚀 Processing chunk 5000000-5050000\n"
     ]
    },
    {
     "name": "stderr",
     "output_type": "stream",
     "text": [
      "100%|██████████| 50000/50000 [00:39<00:00, 1251.76it/s]﻿\n"
     ]
    },
    {
     "name": "stdout",
     "output_type": "stream",
     "text": [
      "🚀 Processing chunk 5050000-5100000\n"
     ]
    },
    {
     "name": "stderr",
     "output_type": "stream",
     "text": [
      "100%|██████████| 50000/50000 [00:39<00:00, 1271.65it/s]﻿\n"
     ]
    },
    {
     "name": "stdout",
     "output_type": "stream",
     "text": [
      "🚀 Processing chunk 5100000-5150000\n"
     ]
    },
    {
     "name": "stderr",
     "output_type": "stream",
     "text": [
      "100%|██████████| 50000/50000 [00:39<00:00, 1250.35it/s]﻿\n"
     ]
    },
    {
     "name": "stdout",
     "output_type": "stream",
     "text": [
      "🚀 Processing chunk 5150000-5200000\n"
     ]
    },
    {
     "name": "stderr",
     "output_type": "stream",
     "text": [
      "100%|██████████| 50000/50000 [00:40<00:00, 1222.49it/s]﻿\n"
     ]
    },
    {
     "name": "stdout",
     "output_type": "stream",
     "text": [
      "🚀 Processing chunk 5200000-5250000\n"
     ]
    },
    {
     "name": "stderr",
     "output_type": "stream",
     "text": [
      "100%|██████████| 50000/50000 [00:39<00:00, 1272.55it/s]﻿\n"
     ]
    },
    {
     "name": "stdout",
     "output_type": "stream",
     "text": [
      "🚀 Processing chunk 5250000-5300000\n"
     ]
    },
    {
     "name": "stderr",
     "output_type": "stream",
     "text": [
      "100%|██████████| 50000/50000 [00:39<00:00, 1262.95it/s]﻿\n"
     ]
    },
    {
     "name": "stdout",
     "output_type": "stream",
     "text": [
      "🚀 Processing chunk 5300000-5350000\n"
     ]
    },
    {
     "name": "stderr",
     "output_type": "stream",
     "text": [
      "100%|██████████| 50000/50000 [00:39<00:00, 1261.18it/s]﻿\n"
     ]
    },
    {
     "name": "stdout",
     "output_type": "stream",
     "text": [
      "🚀 Processing chunk 5350000-5400000\n"
     ]
    },
    {
     "name": "stderr",
     "output_type": "stream",
     "text": [
      "100%|██████████| 50000/50000 [00:39<00:00, 1266.62it/s]﻿\n"
     ]
    },
    {
     "name": "stdout",
     "output_type": "stream",
     "text": [
      "🚀 Processing chunk 5400000-5450000\n"
     ]
    },
    {
     "name": "stderr",
     "output_type": "stream",
     "text": [
      "100%|██████████| 50000/50000 [00:40<00:00, 1222.61it/s]﻿\n"
     ]
    },
    {
     "name": "stdout",
     "output_type": "stream",
     "text": [
      "🚀 Processing chunk 5450000-5500000\n"
     ]
    },
    {
     "name": "stderr",
     "output_type": "stream",
     "text": [
      "100%|██████████| 50000/50000 [00:40<00:00, 1249.75it/s]﻿\n"
     ]
    },
    {
     "name": "stdout",
     "output_type": "stream",
     "text": [
      "🚀 Processing chunk 5500000-5550000\n"
     ]
    },
    {
     "name": "stderr",
     "output_type": "stream",
     "text": [
      "100%|██████████| 50000/50000 [00:45<00:00, 1096.91it/s]﻿\n"
     ]
    },
    {
     "name": "stdout",
     "output_type": "stream",
     "text": [
      "🚀 Processing chunk 5550000-5600000\n"
     ]
    },
    {
     "name": "stderr",
     "output_type": "stream",
     "text": [
      "100%|██████████| 50000/50000 [00:40<00:00, 1226.33it/s]﻿\n"
     ]
    },
    {
     "name": "stdout",
     "output_type": "stream",
     "text": [
      "🚀 Processing chunk 5600000-5650000\n"
     ]
    },
    {
     "name": "stderr",
     "output_type": "stream",
     "text": [
      "100%|██████████| 50000/50000 [00:41<00:00, 1203.74it/s]﻿\n"
     ]
    },
    {
     "name": "stdout",
     "output_type": "stream",
     "text": [
      "🚀 Processing chunk 5650000-5700000\n"
     ]
    },
    {
     "name": "stderr",
     "output_type": "stream",
     "text": [
      "100%|██████████| 50000/50000 [00:40<00:00, 1240.26it/s]﻿\n"
     ]
    },
    {
     "name": "stdout",
     "output_type": "stream",
     "text": [
      "🚀 Processing chunk 5700000-5750000\n"
     ]
    },
    {
     "name": "stderr",
     "output_type": "stream",
     "text": [
      "100%|██████████| 50000/50000 [00:40<00:00, 1243.22it/s]﻿\n"
     ]
    },
    {
     "name": "stdout",
     "output_type": "stream",
     "text": [
      "🚀 Processing chunk 5750000-5800000\n"
     ]
    },
    {
     "name": "stderr",
     "output_type": "stream",
     "text": [
      "100%|██████████| 50000/50000 [00:40<00:00, 1226.87it/s]﻿\n"
     ]
    },
    {
     "name": "stdout",
     "output_type": "stream",
     "text": [
      "🚀 Processing chunk 5800000-5850000\n"
     ]
    },
    {
     "name": "stderr",
     "output_type": "stream",
     "text": [
      "100%|██████████| 50000/50000 [00:41<00:00, 1203.82it/s]﻿\n"
     ]
    },
    {
     "name": "stdout",
     "output_type": "stream",
     "text": [
      "🚀 Processing chunk 5850000-5900000\n"
     ]
    },
    {
     "name": "stderr",
     "output_type": "stream",
     "text": [
      "100%|██████████| 50000/50000 [00:41<00:00, 1191.73it/s]﻿\n"
     ]
    },
    {
     "name": "stdout",
     "output_type": "stream",
     "text": [
      "🚀 Processing chunk 5900000-5950000\n"
     ]
    },
    {
     "name": "stderr",
     "output_type": "stream",
     "text": [
      "100%|██████████| 50000/50000 [00:40<00:00, 1228.96it/s]﻿\n"
     ]
    },
    {
     "name": "stdout",
     "output_type": "stream",
     "text": [
      "🚀 Processing chunk 5950000-6000000\n"
     ]
    },
    {
     "name": "stderr",
     "output_type": "stream",
     "text": [
      "100%|██████████| 50000/50000 [00:40<00:00, 1237.68it/s]﻿\n"
     ]
    },
    {
     "name": "stdout",
     "output_type": "stream",
     "text": [
      "🚀 Processing chunk 6000000-6050000\n"
     ]
    },
    {
     "name": "stderr",
     "output_type": "stream",
     "text": [
      "100%|██████████| 50000/50000 [00:40<00:00, 1233.71it/s]﻿\n"
     ]
    },
    {
     "name": "stdout",
     "output_type": "stream",
     "text": [
      "🚀 Processing chunk 6050000-6100000\n"
     ]
    },
    {
     "name": "stderr",
     "output_type": "stream",
     "text": [
      "100%|██████████| 50000/50000 [00:39<00:00, 1258.45it/s]﻿\n"
     ]
    },
    {
     "name": "stdout",
     "output_type": "stream",
     "text": [
      "🚀 Processing chunk 6100000-6150000\n"
     ]
    },
    {
     "name": "stderr",
     "output_type": "stream",
     "text": [
      "100%|██████████| 50000/50000 [00:41<00:00, 1204.41it/s]﻿\n"
     ]
    },
    {
     "name": "stdout",
     "output_type": "stream",
     "text": [
      "🚀 Processing chunk 6150000-6200000\n"
     ]
    },
    {
     "name": "stderr",
     "output_type": "stream",
     "text": [
      "100%|██████████| 50000/50000 [00:41<00:00, 1207.12it/s]﻿\n"
     ]
    },
    {
     "name": "stdout",
     "output_type": "stream",
     "text": [
      "🚀 Processing chunk 6200000-6250000\n"
     ]
    },
    {
     "name": "stderr",
     "output_type": "stream",
     "text": [
      "100%|██████████| 50000/50000 [00:41<00:00, 1205.70it/s]﻿\n"
     ]
    },
    {
     "name": "stdout",
     "output_type": "stream",
     "text": [
      "🚀 Processing chunk 6250000-6300000\n"
     ]
    },
    {
     "name": "stderr",
     "output_type": "stream",
     "text": [
      "100%|██████████| 50000/50000 [00:40<00:00, 1244.02it/s]﻿\n"
     ]
    },
    {
     "name": "stdout",
     "output_type": "stream",
     "text": [
      "🚀 Processing chunk 6300000-6350000\n"
     ]
    },
    {
     "name": "stderr",
     "output_type": "stream",
     "text": [
      "100%|██████████| 50000/50000 [00:40<00:00, 1247.19it/s]﻿\n"
     ]
    },
    {
     "name": "stdout",
     "output_type": "stream",
     "text": [
      "🚀 Processing chunk 6350000-6400000\n"
     ]
    },
    {
     "name": "stderr",
     "output_type": "stream",
     "text": [
      "100%|██████████| 50000/50000 [00:39<00:00, 1253.76it/s]﻿\n"
     ]
    },
    {
     "name": "stdout",
     "output_type": "stream",
     "text": [
      "🚀 Processing chunk 6400000-6450000\n"
     ]
    },
    {
     "name": "stderr",
     "output_type": "stream",
     "text": [
      "100%|██████████| 50000/50000 [00:40<00:00, 1242.75it/s]﻿\n"
     ]
    },
    {
     "name": "stdout",
     "output_type": "stream",
     "text": [
      "🚀 Processing chunk 6450000-6500000\n"
     ]
    },
    {
     "name": "stderr",
     "output_type": "stream",
     "text": [
      "100%|██████████| 50000/50000 [00:44<00:00, 1118.08it/s]﻿\n"
     ]
    },
    {
     "name": "stdout",
     "output_type": "stream",
     "text": [
      "🚀 Processing chunk 6500000-6550000\n"
     ]
    },
    {
     "name": "stderr",
     "output_type": "stream",
     "text": [
      " 70%|██████▉   | 34801/50000 [00:31<00:12, 1214.02it/s]"
     ]
    },
    {
     "name": "stdout",
     "output_type": "stream",
     "text": [
      "⏳ Heartbeat: still running at 2025-08-13 18:36:40\n"
     ]
    },
    {
     "name": "stderr",
     "output_type": "stream",
     "text": [
      "100%|██████████| 50000/50000 [00:44<00:00, 1133.36it/s]﻿\n"
     ]
    },
    {
     "name": "stdout",
     "output_type": "stream",
     "text": [
      "🚀 Processing chunk 6550000-6600000\n"
     ]
    },
    {
     "name": "stderr",
     "output_type": "stream",
     "text": [
      "100%|██████████| 50000/50000 [00:40<00:00, 1231.23it/s]﻿\n"
     ]
    },
    {
     "name": "stdout",
     "output_type": "stream",
     "text": [
      "🚀 Processing chunk 6600000-6650000\n"
     ]
    },
    {
     "name": "stderr",
     "output_type": "stream",
     "text": [
      "100%|██████████| 50000/50000 [00:41<00:00, 1217.99it/s]﻿\n"
     ]
    },
    {
     "name": "stdout",
     "output_type": "stream",
     "text": [
      "🚀 Processing chunk 6650000-6700000\n"
     ]
    },
    {
     "name": "stderr",
     "output_type": "stream",
     "text": [
      "100%|██████████| 50000/50000 [00:40<00:00, 1226.90it/s]﻿\n"
     ]
    },
    {
     "name": "stdout",
     "output_type": "stream",
     "text": [
      "🚀 Processing chunk 6700000-6750000\n"
     ]
    },
    {
     "name": "stderr",
     "output_type": "stream",
     "text": [
      "100%|██████████| 50000/50000 [00:41<00:00, 1215.91it/s]﻿\n"
     ]
    },
    {
     "name": "stdout",
     "output_type": "stream",
     "text": [
      "🚀 Processing chunk 6750000-6800000\n"
     ]
    },
    {
     "name": "stderr",
     "output_type": "stream",
     "text": [
      "100%|██████████| 50000/50000 [00:42<00:00, 1186.61it/s]﻿\n"
     ]
    },
    {
     "name": "stdout",
     "output_type": "stream",
     "text": [
      "🚀 Processing chunk 6800000-6850000\n"
     ]
    },
    {
     "name": "stderr",
     "output_type": "stream",
     "text": [
      "100%|██████████| 50000/50000 [00:39<00:00, 1278.61it/s]﻿\n"
     ]
    },
    {
     "name": "stdout",
     "output_type": "stream",
     "text": [
      "🚀 Processing chunk 6850000-6900000\n"
     ]
    },
    {
     "name": "stderr",
     "output_type": "stream",
     "text": [
      "100%|██████████| 50000/50000 [00:39<00:00, 1269.56it/s]﻿\n"
     ]
    },
    {
     "name": "stdout",
     "output_type": "stream",
     "text": [
      "🚀 Processing chunk 6900000-6950000\n"
     ]
    },
    {
     "name": "stderr",
     "output_type": "stream",
     "text": [
      "100%|██████████| 50000/50000 [00:38<00:00, 1288.48it/s]﻿\n"
     ]
    },
    {
     "name": "stdout",
     "output_type": "stream",
     "text": [
      "🚀 Processing chunk 6950000-7000000\n"
     ]
    },
    {
     "name": "stderr",
     "output_type": "stream",
     "text": [
      "100%|██████████| 50000/50000 [00:41<00:00, 1192.89it/s]﻿\n"
     ]
    },
    {
     "name": "stdout",
     "output_type": "stream",
     "text": [
      "🚀 Processing chunk 7000000-7050000\n"
     ]
    },
    {
     "name": "stderr",
     "output_type": "stream",
     "text": [
      "100%|██████████| 50000/50000 [00:39<00:00, 1253.46it/s]﻿\n"
     ]
    },
    {
     "name": "stdout",
     "output_type": "stream",
     "text": [
      "🚀 Processing chunk 7050000-7100000\n"
     ]
    },
    {
     "name": "stderr",
     "output_type": "stream",
     "text": [
      "100%|██████████| 50000/50000 [00:40<00:00, 1245.19it/s]﻿\n"
     ]
    },
    {
     "name": "stdout",
     "output_type": "stream",
     "text": [
      "🚀 Processing chunk 7100000-7150000\n"
     ]
    },
    {
     "name": "stderr",
     "output_type": "stream",
     "text": [
      "100%|██████████| 50000/50000 [00:39<00:00, 1268.81it/s]﻿\n"
     ]
    },
    {
     "name": "stdout",
     "output_type": "stream",
     "text": [
      "🚀 Processing chunk 7150000-7200000\n"
     ]
    },
    {
     "name": "stderr",
     "output_type": "stream",
     "text": [
      "100%|██████████| 50000/50000 [00:39<00:00, 1275.47it/s]﻿\n"
     ]
    },
    {
     "name": "stdout",
     "output_type": "stream",
     "text": [
      "🚀 Processing chunk 7200000-7250000\n"
     ]
    },
    {
     "name": "stderr",
     "output_type": "stream",
     "text": [
      "100%|██████████| 50000/50000 [00:39<00:00, 1257.42it/s]﻿\n"
     ]
    },
    {
     "name": "stdout",
     "output_type": "stream",
     "text": [
      "🚀 Processing chunk 7250000-7300000\n"
     ]
    },
    {
     "name": "stderr",
     "output_type": "stream",
     "text": [
      "100%|██████████| 50000/50000 [00:40<00:00, 1236.17it/s]﻿\n"
     ]
    },
    {
     "name": "stdout",
     "output_type": "stream",
     "text": [
      "🚀 Processing chunk 7300000-7350000\n"
     ]
    },
    {
     "name": "stderr",
     "output_type": "stream",
     "text": [
      "100%|██████████| 50000/50000 [00:40<00:00, 1233.19it/s]﻿\n"
     ]
    },
    {
     "name": "stdout",
     "output_type": "stream",
     "text": [
      "🚀 Processing chunk 7350000-7400000\n"
     ]
    },
    {
     "name": "stderr",
     "output_type": "stream",
     "text": [
      "100%|██████████| 50000/50000 [00:39<00:00, 1263.72it/s]﻿\n"
     ]
    },
    {
     "name": "stdout",
     "output_type": "stream",
     "text": [
      "🚀 Processing chunk 7400000-7450000\n"
     ]
    },
    {
     "name": "stderr",
     "output_type": "stream",
     "text": [
      "100%|██████████| 50000/50000 [00:39<00:00, 1269.34it/s]﻿\n"
     ]
    },
    {
     "name": "stdout",
     "output_type": "stream",
     "text": [
      "🚀 Processing chunk 7450000-7500000\n"
     ]
    },
    {
     "name": "stderr",
     "output_type": "stream",
     "text": [
      "100%|██████████| 50000/50000 [00:39<00:00, 1264.71it/s]﻿\n"
     ]
    },
    {
     "name": "stdout",
     "output_type": "stream",
     "text": [
      "🚀 Processing chunk 7500000-7550000\n"
     ]
    },
    {
     "name": "stderr",
     "output_type": "stream",
     "text": [
      "100%|██████████| 50000/50000 [00:41<00:00, 1217.52it/s]﻿\n"
     ]
    },
    {
     "name": "stdout",
     "output_type": "stream",
     "text": [
      "🚀 Processing chunk 7550000-7600000\n"
     ]
    },
    {
     "name": "stderr",
     "output_type": "stream",
     "text": [
      "100%|██████████| 50000/50000 [00:40<00:00, 1246.83it/s]﻿\n"
     ]
    },
    {
     "name": "stdout",
     "output_type": "stream",
     "text": [
      "🚀 Processing chunk 7600000-7650000\n"
     ]
    },
    {
     "name": "stderr",
     "output_type": "stream",
     "text": [
      "100%|██████████| 50000/50000 [00:40<00:00, 1219.97it/s]﻿\n"
     ]
    },
    {
     "name": "stdout",
     "output_type": "stream",
     "text": [
      "🚀 Processing chunk 7650000-7700000\n"
     ]
    },
    {
     "name": "stderr",
     "output_type": "stream",
     "text": [
      "100%|██████████| 50000/50000 [00:39<00:00, 1260.67it/s]﻿\n"
     ]
    },
    {
     "name": "stdout",
     "output_type": "stream",
     "text": [
      "🚀 Processing chunk 7700000-7750000\n"
     ]
    },
    {
     "name": "stderr",
     "output_type": "stream",
     "text": [
      "100%|██████████| 50000/50000 [00:40<00:00, 1232.35it/s]﻿\n"
     ]
    },
    {
     "name": "stdout",
     "output_type": "stream",
     "text": [
      "🚀 Processing chunk 7750000-7800000\n"
     ]
    },
    {
     "name": "stderr",
     "output_type": "stream",
     "text": [
      "100%|██████████| 50000/50000 [00:41<00:00, 1207.17it/s]﻿\n"
     ]
    },
    {
     "name": "stdout",
     "output_type": "stream",
     "text": [
      "🚀 Processing chunk 7800000-7850000\n"
     ]
    },
    {
     "name": "stderr",
     "output_type": "stream",
     "text": [
      "100%|██████████| 50000/50000 [00:40<00:00, 1249.82it/s]﻿\n"
     ]
    },
    {
     "name": "stdout",
     "output_type": "stream",
     "text": [
      "🚀 Processing chunk 7850000-7900000\n"
     ]
    },
    {
     "name": "stderr",
     "output_type": "stream",
     "text": [
      "100%|██████████| 50000/50000 [00:40<00:00, 1224.22it/s]﻿\n"
     ]
    },
    {
     "name": "stdout",
     "output_type": "stream",
     "text": [
      "🚀 Processing chunk 7900000-7950000\n"
     ]
    },
    {
     "name": "stderr",
     "output_type": "stream",
     "text": [
      "100%|██████████| 50000/50000 [00:38<00:00, 1282.33it/s]﻿\n"
     ]
    },
    {
     "name": "stdout",
     "output_type": "stream",
     "text": [
      "🚀 Processing chunk 7950000-8000000\n"
     ]
    },
    {
     "name": "stderr",
     "output_type": "stream",
     "text": [
      "100%|██████████| 50000/50000 [00:39<00:00, 1275.09it/s]﻿\n"
     ]
    },
    {
     "name": "stdout",
     "output_type": "stream",
     "text": [
      "🚀 Processing chunk 8000000-8050000\n"
     ]
    },
    {
     "name": "stderr",
     "output_type": "stream",
     "text": [
      "100%|██████████| 50000/50000 [00:40<00:00, 1235.82it/s]﻿\n"
     ]
    },
    {
     "name": "stdout",
     "output_type": "stream",
     "text": [
      "🚀 Processing chunk 8050000-8100000\n"
     ]
    },
    {
     "name": "stderr",
     "output_type": "stream",
     "text": [
      "100%|██████████| 50000/50000 [00:40<00:00, 1222.84it/s]﻿\n"
     ]
    },
    {
     "name": "stdout",
     "output_type": "stream",
     "text": [
      "🚀 Processing chunk 8100000-8150000\n"
     ]
    },
    {
     "name": "stderr",
     "output_type": "stream",
     "text": [
      "100%|██████████| 50000/50000 [00:41<00:00, 1208.61it/s]﻿\n"
     ]
    },
    {
     "name": "stdout",
     "output_type": "stream",
     "text": [
      "🚀 Processing chunk 8150000-8200000\n"
     ]
    },
    {
     "name": "stderr",
     "output_type": "stream",
     "text": [
      "100%|██████████| 50000/50000 [00:41<00:00, 1211.79it/s]﻿\n"
     ]
    },
    {
     "name": "stdout",
     "output_type": "stream",
     "text": [
      "🚀 Processing chunk 8200000-8250000\n"
     ]
    },
    {
     "name": "stderr",
     "output_type": "stream",
     "text": [
      "100%|██████████| 50000/50000 [00:41<00:00, 1204.80it/s]﻿\n"
     ]
    },
    {
     "name": "stdout",
     "output_type": "stream",
     "text": [
      "🚀 Processing chunk 8250000-8300000\n"
     ]
    },
    {
     "name": "stderr",
     "output_type": "stream",
     "text": [
      "100%|██████████| 50000/50000 [00:41<00:00, 1212.88it/s]﻿\n"
     ]
    },
    {
     "name": "stdout",
     "output_type": "stream",
     "text": [
      "🚀 Processing chunk 8300000-8350000\n"
     ]
    },
    {
     "name": "stderr",
     "output_type": "stream",
     "text": [
      "100%|██████████| 50000/50000 [00:41<00:00, 1201.53it/s]﻿\n"
     ]
    },
    {
     "name": "stdout",
     "output_type": "stream",
     "text": [
      "🚀 Processing chunk 8350000-8400000\n"
     ]
    },
    {
     "name": "stderr",
     "output_type": "stream",
     "text": [
      "100%|██████████| 50000/50000 [00:43<00:00, 1160.87it/s]﻿\n"
     ]
    },
    {
     "name": "stdout",
     "output_type": "stream",
     "text": [
      "🚀 Processing chunk 8400000-8450000\n"
     ]
    },
    {
     "name": "stderr",
     "output_type": "stream",
     "text": [
      "100%|██████████| 50000/50000 [00:43<00:00, 1143.94it/s]﻿\n"
     ]
    },
    {
     "name": "stdout",
     "output_type": "stream",
     "text": [
      "🚀 Processing chunk 8450000-8500000\n"
     ]
    },
    {
     "name": "stderr",
     "output_type": "stream",
     "text": [
      "100%|██████████| 50000/50000 [00:42<00:00, 1165.07it/s]﻿\n"
     ]
    },
    {
     "name": "stdout",
     "output_type": "stream",
     "text": [
      "🚀 Processing chunk 8500000-8550000\n"
     ]
    },
    {
     "name": "stderr",
     "output_type": "stream",
     "text": [
      "100%|██████████| 50000/50000 [00:41<00:00, 1200.77it/s]﻿\n"
     ]
    },
    {
     "name": "stdout",
     "output_type": "stream",
     "text": [
      "🚀 Processing chunk 8550000-8600000\n"
     ]
    },
    {
     "name": "stderr",
     "output_type": "stream",
     "text": [
      "100%|██████████| 50000/50000 [00:42<00:00, 1170.75it/s]﻿\n"
     ]
    },
    {
     "name": "stdout",
     "output_type": "stream",
     "text": [
      "🚀 Processing chunk 8600000-8650000\n"
     ]
    },
    {
     "name": "stderr",
     "output_type": "stream",
     "text": [
      "100%|██████████| 50000/50000 [00:41<00:00, 1208.63it/s]﻿\n"
     ]
    },
    {
     "name": "stdout",
     "output_type": "stream",
     "text": [
      "🚀 Processing chunk 8650000-8700000\n"
     ]
    },
    {
     "name": "stderr",
     "output_type": "stream",
     "text": [
      "100%|██████████| 50000/50000 [00:42<00:00, 1167.90it/s]﻿\n"
     ]
    },
    {
     "name": "stdout",
     "output_type": "stream",
     "text": [
      "🚀 Processing chunk 8700000-8750000\n"
     ]
    },
    {
     "name": "stderr",
     "output_type": "stream",
     "text": [
      "100%|██████████| 50000/50000 [00:43<00:00, 1146.99it/s]﻿\n"
     ]
    },
    {
     "name": "stdout",
     "output_type": "stream",
     "text": [
      "🚀 Processing chunk 8750000-8800000\n"
     ]
    },
    {
     "name": "stderr",
     "output_type": "stream",
     "text": [
      "100%|██████████| 50000/50000 [00:43<00:00, 1159.95it/s]﻿\n"
     ]
    },
    {
     "name": "stdout",
     "output_type": "stream",
     "text": [
      "🚀 Processing chunk 8800000-8850000\n"
     ]
    },
    {
     "name": "stderr",
     "output_type": "stream",
     "text": [
      "100%|██████████| 50000/50000 [00:41<00:00, 1194.18it/s]﻿\n"
     ]
    },
    {
     "name": "stdout",
     "output_type": "stream",
     "text": [
      "🚀 Processing chunk 8850000-8900000\n"
     ]
    },
    {
     "name": "stderr",
     "output_type": "stream",
     "text": [
      "100%|██████████| 50000/50000 [00:41<00:00, 1202.91it/s]﻿\n"
     ]
    },
    {
     "name": "stdout",
     "output_type": "stream",
     "text": [
      "🚀 Processing chunk 8900000-8950000\n"
     ]
    },
    {
     "name": "stderr",
     "output_type": "stream",
     "text": [
      "100%|██████████| 50000/50000 [00:40<00:00, 1221.03it/s]﻿\n"
     ]
    },
    {
     "name": "stdout",
     "output_type": "stream",
     "text": [
      "🚀 Processing chunk 8950000-9000000\n"
     ]
    },
    {
     "name": "stderr",
     "output_type": "stream",
     "text": [
      "100%|██████████| 50000/50000 [00:41<00:00, 1211.13it/s]﻿\n"
     ]
    },
    {
     "name": "stdout",
     "output_type": "stream",
     "text": [
      "🚀 Processing chunk 9000000-9050000\n"
     ]
    },
    {
     "name": "stderr",
     "output_type": "stream",
     "text": [
      "100%|██████████| 50000/50000 [00:41<00:00, 1200.31it/s]﻿\n"
     ]
    },
    {
     "name": "stdout",
     "output_type": "stream",
     "text": [
      "🚀 Processing chunk 9050000-9100000\n"
     ]
    },
    {
     "name": "stderr",
     "output_type": "stream",
     "text": [
      "100%|██████████| 50000/50000 [00:42<00:00, 1174.48it/s]﻿\n"
     ]
    },
    {
     "name": "stdout",
     "output_type": "stream",
     "text": [
      "🚀 Processing chunk 9100000-9150000\n"
     ]
    },
    {
     "name": "stderr",
     "output_type": "stream",
     "text": [
      "100%|██████████| 50000/50000 [00:44<00:00, 1112.11it/s]﻿\n"
     ]
    },
    {
     "name": "stdout",
     "output_type": "stream",
     "text": [
      "🚀 Processing chunk 9150000-9200000\n"
     ]
    },
    {
     "name": "stderr",
     "output_type": "stream",
     "text": [
      "100%|██████████| 50000/50000 [00:45<00:00, 1097.13it/s]﻿\n"
     ]
    },
    {
     "name": "stdout",
     "output_type": "stream",
     "text": [
      "🚀 Processing chunk 9200000-9250000\n"
     ]
    },
    {
     "name": "stderr",
     "output_type": "stream",
     "text": [
      "100%|██████████| 50000/50000 [00:43<00:00, 1144.87it/s]﻿\n"
     ]
    },
    {
     "name": "stdout",
     "output_type": "stream",
     "text": [
      "🚀 Processing chunk 9250000-9300000\n"
     ]
    },
    {
     "name": "stderr",
     "output_type": "stream",
     "text": [
      "100%|██████████| 50000/50000 [00:43<00:00, 1149.05it/s]﻿\n"
     ]
    },
    {
     "name": "stdout",
     "output_type": "stream",
     "text": [
      "🚀 Processing chunk 9300000-9350000\n"
     ]
    },
    {
     "name": "stderr",
     "output_type": "stream",
     "text": [
      "100%|██████████| 50000/50000 [00:44<00:00, 1120.64it/s]﻿\n"
     ]
    },
    {
     "name": "stdout",
     "output_type": "stream",
     "text": [
      "🚀 Processing chunk 9350000-9400000\n"
     ]
    },
    {
     "name": "stderr",
     "output_type": "stream",
     "text": [
      "100%|██████████| 50000/50000 [00:43<00:00, 1160.18it/s]﻿\n"
     ]
    },
    {
     "name": "stdout",
     "output_type": "stream",
     "text": [
      "🚀 Processing chunk 9400000-9450000\n"
     ]
    },
    {
     "name": "stderr",
     "output_type": "stream",
     "text": [
      "100%|██████████| 50000/50000 [00:44<00:00, 1125.10it/s]﻿\n"
     ]
    },
    {
     "name": "stdout",
     "output_type": "stream",
     "text": [
      "🚀 Processing chunk 9450000-9500000\n"
     ]
    },
    {
     "name": "stderr",
     "output_type": "stream",
     "text": [
      "100%|██████████| 50000/50000 [00:43<00:00, 1140.58it/s]﻿\n"
     ]
    },
    {
     "name": "stdout",
     "output_type": "stream",
     "text": [
      "🚀 Processing chunk 9500000-9550000\n"
     ]
    },
    {
     "name": "stderr",
     "output_type": "stream",
     "text": [
      "100%|██████████| 50000/50000 [00:44<00:00, 1126.61it/s]﻿\n"
     ]
    },
    {
     "name": "stdout",
     "output_type": "stream",
     "text": [
      "🚀 Processing chunk 9550000-9600000\n"
     ]
    },
    {
     "name": "stderr",
     "output_type": "stream",
     "text": [
      "100%|██████████| 50000/50000 [00:43<00:00, 1161.34it/s]﻿\n"
     ]
    },
    {
     "name": "stdout",
     "output_type": "stream",
     "text": [
      "🚀 Processing chunk 9600000-9650000\n"
     ]
    },
    {
     "name": "stderr",
     "output_type": "stream",
     "text": [
      "100%|██████████| 50000/50000 [00:42<00:00, 1177.07it/s]﻿\n"
     ]
    },
    {
     "name": "stdout",
     "output_type": "stream",
     "text": [
      "🚀 Processing chunk 9650000-9700000\n"
     ]
    },
    {
     "name": "stderr",
     "output_type": "stream",
     "text": [
      "100%|██████████| 50000/50000 [00:43<00:00, 1161.87it/s]﻿\n"
     ]
    },
    {
     "name": "stdout",
     "output_type": "stream",
     "text": [
      "🚀 Processing chunk 9700000-9750000\n"
     ]
    },
    {
     "name": "stderr",
     "output_type": "stream",
     "text": [
      "100%|██████████| 50000/50000 [00:44<00:00, 1131.39it/s]﻿\n"
     ]
    },
    {
     "name": "stdout",
     "output_type": "stream",
     "text": [
      "🚀 Processing chunk 9750000-9800000\n"
     ]
    },
    {
     "name": "stderr",
     "output_type": "stream",
     "text": [
      "100%|██████████| 50000/50000 [00:42<00:00, 1171.60it/s]﻿\n"
     ]
    },
    {
     "name": "stdout",
     "output_type": "stream",
     "text": [
      "🚀 Processing chunk 9800000-9850000\n"
     ]
    },
    {
     "name": "stderr",
     "output_type": "stream",
     "text": [
      "100%|██████████| 50000/50000 [00:43<00:00, 1155.61it/s]﻿\n"
     ]
    },
    {
     "name": "stdout",
     "output_type": "stream",
     "text": [
      "🚀 Processing chunk 9850000-9900000\n"
     ]
    },
    {
     "name": "stderr",
     "output_type": "stream",
     "text": [
      "100%|██████████| 50000/50000 [00:42<00:00, 1177.20it/s]﻿\n"
     ]
    },
    {
     "name": "stdout",
     "output_type": "stream",
     "text": [
      "🚀 Processing chunk 9900000-9950000\n"
     ]
    },
    {
     "name": "stderr",
     "output_type": "stream",
     "text": [
      "100%|██████████| 50000/50000 [00:42<00:00, 1171.03it/s]﻿\n"
     ]
    },
    {
     "name": "stdout",
     "output_type": "stream",
     "text": [
      "🚀 Processing chunk 9950000-10000000\n"
     ]
    },
    {
     "name": "stderr",
     "output_type": "stream",
     "text": [
      "100%|██████████| 50000/50000 [00:44<00:00, 1117.82it/s]﻿\n"
     ]
    },
    {
     "name": "stdout",
     "output_type": "stream",
     "text": [
      "🚀 Processing chunk 10000000-10050000\n"
     ]
    },
    {
     "name": "stderr",
     "output_type": "stream",
     "text": [
      "100%|██████████| 50000/50000 [00:43<00:00, 1146.47it/s]﻿\n"
     ]
    },
    {
     "name": "stdout",
     "output_type": "stream",
     "text": [
      "🚀 Processing chunk 10050000-10100000\n"
     ]
    },
    {
     "name": "stderr",
     "output_type": "stream",
     "text": [
      "100%|██████████| 50000/50000 [00:43<00:00, 1149.15it/s]﻿\n"
     ]
    },
    {
     "name": "stdout",
     "output_type": "stream",
     "text": [
      "🚀 Processing chunk 10100000-10150000\n"
     ]
    },
    {
     "name": "stderr",
     "output_type": "stream",
     "text": [
      "100%|██████████| 50000/50000 [00:43<00:00, 1149.93it/s]﻿\n"
     ]
    },
    {
     "name": "stdout",
     "output_type": "stream",
     "text": [
      "🚀 Processing chunk 10150000-10200000\n"
     ]
    },
    {
     "name": "stderr",
     "output_type": "stream",
     "text": [
      "100%|██████████| 50000/50000 [00:45<00:00, 1103.06it/s]﻿\n"
     ]
    },
    {
     "name": "stdout",
     "output_type": "stream",
     "text": [
      "🚀 Processing chunk 10200000-10250000\n"
     ]
    },
    {
     "name": "stderr",
     "output_type": "stream",
     "text": [
      "100%|██████████| 50000/50000 [00:44<00:00, 1132.09it/s]﻿\n"
     ]
    },
    {
     "name": "stdout",
     "output_type": "stream",
     "text": [
      "🚀 Processing chunk 10250000-10300000\n"
     ]
    },
    {
     "name": "stderr",
     "output_type": "stream",
     "text": [
      "100%|██████████| 50000/50000 [00:43<00:00, 1153.29it/s]﻿\n"
     ]
    },
    {
     "name": "stdout",
     "output_type": "stream",
     "text": [
      "🚀 Processing chunk 10300000-10350000\n"
     ]
    },
    {
     "name": "stderr",
     "output_type": "stream",
     "text": [
      "100%|██████████| 50000/50000 [00:44<00:00, 1125.02it/s]﻿\n"
     ]
    },
    {
     "name": "stdout",
     "output_type": "stream",
     "text": [
      "🚀 Processing chunk 10350000-10400000\n"
     ]
    },
    {
     "name": "stderr",
     "output_type": "stream",
     "text": [
      "100%|██████████| 50000/50000 [00:44<00:00, 1136.02it/s]﻿\n"
     ]
    },
    {
     "name": "stdout",
     "output_type": "stream",
     "text": [
      "🚀 Processing chunk 10400000-10450000\n"
     ]
    },
    {
     "name": "stderr",
     "output_type": "stream",
     "text": [
      "100%|██████████| 50000/50000 [00:43<00:00, 1148.45it/s]﻿\n"
     ]
    },
    {
     "name": "stdout",
     "output_type": "stream",
     "text": [
      "🚀 Processing chunk 10450000-10500000\n"
     ]
    },
    {
     "name": "stderr",
     "output_type": "stream",
     "text": [
      "100%|██████████| 50000/50000 [00:43<00:00, 1138.82it/s]﻿\n"
     ]
    },
    {
     "name": "stdout",
     "output_type": "stream",
     "text": [
      "🚀 Processing chunk 10500000-10550000\n"
     ]
    },
    {
     "name": "stderr",
     "output_type": "stream",
     "text": [
      "100%|██████████| 50000/50000 [00:44<00:00, 1130.55it/s]﻿\n"
     ]
    },
    {
     "name": "stdout",
     "output_type": "stream",
     "text": [
      "🚀 Processing chunk 10550000-10600000\n"
     ]
    },
    {
     "name": "stderr",
     "output_type": "stream",
     "text": [
      "100%|██████████| 50000/50000 [00:45<00:00, 1093.96it/s]﻿\n"
     ]
    },
    {
     "name": "stdout",
     "output_type": "stream",
     "text": [
      "🚀 Processing chunk 10600000-10650000\n"
     ]
    },
    {
     "name": "stderr",
     "output_type": "stream",
     "text": [
      "100%|██████████| 50000/50000 [00:43<00:00, 1145.85it/s]﻿\n"
     ]
    },
    {
     "name": "stdout",
     "output_type": "stream",
     "text": [
      "🚀 Processing chunk 10650000-10700000\n"
     ]
    },
    {
     "name": "stderr",
     "output_type": "stream",
     "text": [
      "100%|██████████| 50000/50000 [00:43<00:00, 1148.48it/s]﻿\n"
     ]
    },
    {
     "name": "stdout",
     "output_type": "stream",
     "text": [
      "🚀 Processing chunk 10700000-10750000\n"
     ]
    },
    {
     "name": "stderr",
     "output_type": "stream",
     "text": [
      "100%|██████████| 50000/50000 [00:43<00:00, 1142.05it/s]﻿\n"
     ]
    },
    {
     "name": "stdout",
     "output_type": "stream",
     "text": [
      "🚀 Processing chunk 10750000-10800000\n"
     ]
    },
    {
     "name": "stderr",
     "output_type": "stream",
     "text": [
      " 29%|██▊       | 14254/50000 [00:13<00:30, 1167.77it/s]"
     ]
    },
    {
     "name": "stdout",
     "output_type": "stream",
     "text": [
      "⏳ Heartbeat: still running at 2025-08-13 19:36:40\n"
     ]
    },
    {
     "name": "stderr",
     "output_type": "stream",
     "text": [
      "100%|██████████| 50000/50000 [00:46<00:00, 1073.07it/s]﻿\n"
     ]
    },
    {
     "name": "stdout",
     "output_type": "stream",
     "text": [
      "🚀 Processing chunk 10800000-10850000\n"
     ]
    },
    {
     "name": "stderr",
     "output_type": "stream",
     "text": [
      "100%|██████████| 50000/50000 [00:50<00:00, 988.88it/s] ﻿\n"
     ]
    },
    {
     "name": "stdout",
     "output_type": "stream",
     "text": [
      "🚀 Processing chunk 10850000-10900000\n"
     ]
    },
    {
     "name": "stderr",
     "output_type": "stream",
     "text": [
      "100%|██████████| 50000/50000 [00:43<00:00, 1146.71it/s]﻿\n"
     ]
    },
    {
     "name": "stdout",
     "output_type": "stream",
     "text": [
      "🚀 Processing chunk 10900000-10950000\n"
     ]
    },
    {
     "name": "stderr",
     "output_type": "stream",
     "text": [
      "100%|██████████| 50000/50000 [00:43<00:00, 1148.96it/s]﻿\n"
     ]
    },
    {
     "name": "stdout",
     "output_type": "stream",
     "text": [
      "🚀 Processing chunk 10950000-11000000\n"
     ]
    },
    {
     "name": "stderr",
     "output_type": "stream",
     "text": [
      "100%|██████████| 50000/50000 [00:43<00:00, 1146.98it/s]﻿\n"
     ]
    },
    {
     "name": "stdout",
     "output_type": "stream",
     "text": [
      "🚀 Processing chunk 11000000-11050000\n"
     ]
    },
    {
     "name": "stderr",
     "output_type": "stream",
     "text": [
      "100%|██████████| 50000/50000 [00:43<00:00, 1142.31it/s]﻿\n"
     ]
    },
    {
     "name": "stdout",
     "output_type": "stream",
     "text": [
      "🚀 Processing chunk 11050000-11100000\n"
     ]
    },
    {
     "name": "stderr",
     "output_type": "stream",
     "text": [
      "100%|██████████| 50000/50000 [00:44<00:00, 1121.45it/s]﻿\n"
     ]
    },
    {
     "name": "stdout",
     "output_type": "stream",
     "text": [
      "🚀 Processing chunk 11100000-11150000\n"
     ]
    },
    {
     "name": "stderr",
     "output_type": "stream",
     "text": [
      "100%|██████████| 50000/50000 [00:43<00:00, 1147.70it/s]﻿\n"
     ]
    },
    {
     "name": "stdout",
     "output_type": "stream",
     "text": [
      "🚀 Processing chunk 11150000-11200000\n"
     ]
    },
    {
     "name": "stderr",
     "output_type": "stream",
     "text": [
      "100%|██████████| 50000/50000 [00:43<00:00, 1144.03it/s]﻿\n"
     ]
    },
    {
     "name": "stdout",
     "output_type": "stream",
     "text": [
      "🚀 Processing chunk 11200000-11250000\n"
     ]
    },
    {
     "name": "stderr",
     "output_type": "stream",
     "text": [
      "100%|██████████| 50000/50000 [00:44<00:00, 1116.91it/s]﻿\n"
     ]
    },
    {
     "name": "stdout",
     "output_type": "stream",
     "text": [
      "🚀 Processing chunk 11250000-11300000\n"
     ]
    },
    {
     "name": "stderr",
     "output_type": "stream",
     "text": [
      "100%|██████████| 50000/50000 [00:43<00:00, 1137.71it/s]﻿\n"
     ]
    },
    {
     "name": "stdout",
     "output_type": "stream",
     "text": [
      "🚀 Processing chunk 11300000-11350000\n"
     ]
    },
    {
     "name": "stderr",
     "output_type": "stream",
     "text": [
      "100%|██████████| 50000/50000 [00:46<00:00, 1086.67it/s]﻿\n"
     ]
    },
    {
     "name": "stdout",
     "output_type": "stream",
     "text": [
      "🚀 Processing chunk 11350000-11400000\n"
     ]
    },
    {
     "name": "stderr",
     "output_type": "stream",
     "text": [
      "100%|██████████| 50000/50000 [00:44<00:00, 1116.98it/s]﻿\n"
     ]
    },
    {
     "name": "stdout",
     "output_type": "stream",
     "text": [
      "🚀 Processing chunk 11400000-11450000\n"
     ]
    },
    {
     "name": "stderr",
     "output_type": "stream",
     "text": [
      "100%|██████████| 50000/50000 [00:43<00:00, 1148.82it/s]﻿\n"
     ]
    },
    {
     "name": "stdout",
     "output_type": "stream",
     "text": [
      "🚀 Processing chunk 11450000-11500000\n"
     ]
    },
    {
     "name": "stderr",
     "output_type": "stream",
     "text": [
      "100%|██████████| 50000/50000 [00:43<00:00, 1153.97it/s]﻿\n"
     ]
    },
    {
     "name": "stdout",
     "output_type": "stream",
     "text": [
      "🚀 Processing chunk 11500000-11550000\n"
     ]
    },
    {
     "name": "stderr",
     "output_type": "stream",
     "text": [
      "100%|██████████| 50000/50000 [00:42<00:00, 1163.64it/s]﻿\n"
     ]
    },
    {
     "name": "stdout",
     "output_type": "stream",
     "text": [
      "🚀 Processing chunk 11550000-11600000\n"
     ]
    },
    {
     "name": "stderr",
     "output_type": "stream",
     "text": [
      "100%|██████████| 50000/50000 [00:49<00:00, 1009.92it/s]﻿\n"
     ]
    },
    {
     "name": "stdout",
     "output_type": "stream",
     "text": [
      "🚀 Processing chunk 11600000-11650000\n"
     ]
    },
    {
     "name": "stderr",
     "output_type": "stream",
     "text": [
      "100%|██████████| 50000/50000 [00:42<00:00, 1166.90it/s]﻿\n"
     ]
    },
    {
     "name": "stdout",
     "output_type": "stream",
     "text": [
      "🚀 Processing chunk 11650000-11700000\n"
     ]
    },
    {
     "name": "stderr",
     "output_type": "stream",
     "text": [
      "100%|██████████| 50000/50000 [00:42<00:00, 1166.48it/s]﻿\n"
     ]
    },
    {
     "name": "stdout",
     "output_type": "stream",
     "text": [
      "🚀 Processing chunk 11700000-11750000\n"
     ]
    },
    {
     "name": "stderr",
     "output_type": "stream",
     "text": [
      "100%|██████████| 50000/50000 [00:43<00:00, 1154.08it/s]﻿\n"
     ]
    },
    {
     "name": "stdout",
     "output_type": "stream",
     "text": [
      "🚀 Processing chunk 11750000-11800000\n"
     ]
    },
    {
     "name": "stderr",
     "output_type": "stream",
     "text": [
      "100%|██████████| 50000/50000 [00:44<00:00, 1117.16it/s]﻿\n"
     ]
    },
    {
     "name": "stdout",
     "output_type": "stream",
     "text": [
      "🚀 Processing chunk 11800000-11850000\n"
     ]
    },
    {
     "name": "stderr",
     "output_type": "stream",
     "text": [
      "100%|██████████| 50000/50000 [00:46<00:00, 1072.84it/s]﻿\n"
     ]
    },
    {
     "name": "stdout",
     "output_type": "stream",
     "text": [
      "🚀 Processing chunk 11850000-11900000\n"
     ]
    },
    {
     "name": "stderr",
     "output_type": "stream",
     "text": [
      "100%|██████████| 50000/50000 [00:45<00:00, 1094.47it/s]﻿\n"
     ]
    },
    {
     "name": "stdout",
     "output_type": "stream",
     "text": [
      "🚀 Processing chunk 11900000-11950000\n"
     ]
    },
    {
     "name": "stderr",
     "output_type": "stream",
     "text": [
      "100%|██████████| 50000/50000 [00:43<00:00, 1149.33it/s]﻿\n"
     ]
    },
    {
     "name": "stdout",
     "output_type": "stream",
     "text": [
      "🚀 Processing chunk 11950000-12000000\n"
     ]
    },
    {
     "name": "stderr",
     "output_type": "stream",
     "text": [
      "100%|██████████| 50000/50000 [00:44<00:00, 1133.79it/s]﻿\n"
     ]
    },
    {
     "name": "stdout",
     "output_type": "stream",
     "text": [
      "🚀 Processing chunk 12000000-12050000\n"
     ]
    },
    {
     "name": "stderr",
     "output_type": "stream",
     "text": [
      "100%|██████████| 50000/50000 [00:42<00:00, 1163.87it/s]﻿\n"
     ]
    },
    {
     "name": "stdout",
     "output_type": "stream",
     "text": [
      "🚀 Processing chunk 12050000-12100000\n"
     ]
    },
    {
     "name": "stderr",
     "output_type": "stream",
     "text": [
      "100%|██████████| 50000/50000 [00:44<00:00, 1126.13it/s]﻿\n"
     ]
    },
    {
     "name": "stdout",
     "output_type": "stream",
     "text": [
      "🚀 Processing chunk 12100000-12150000\n"
     ]
    },
    {
     "name": "stderr",
     "output_type": "stream",
     "text": [
      "100%|██████████| 50000/50000 [00:43<00:00, 1149.15it/s]﻿\n"
     ]
    },
    {
     "name": "stdout",
     "output_type": "stream",
     "text": [
      "🚀 Processing chunk 12150000-12200000\n"
     ]
    },
    {
     "name": "stderr",
     "output_type": "stream",
     "text": [
      "100%|██████████| 50000/50000 [00:44<00:00, 1133.25it/s]﻿\n"
     ]
    },
    {
     "name": "stdout",
     "output_type": "stream",
     "text": [
      "🚀 Processing chunk 12200000-12250000\n"
     ]
    },
    {
     "name": "stderr",
     "output_type": "stream",
     "text": [
      "100%|██████████| 50000/50000 [00:44<00:00, 1136.34it/s]﻿\n"
     ]
    },
    {
     "name": "stdout",
     "output_type": "stream",
     "text": [
      "🚀 Processing chunk 12250000-12300000\n"
     ]
    },
    {
     "name": "stderr",
     "output_type": "stream",
     "text": [
      "100%|██████████| 50000/50000 [00:44<00:00, 1116.19it/s]﻿\n"
     ]
    },
    {
     "name": "stdout",
     "output_type": "stream",
     "text": [
      "🚀 Processing chunk 12300000-12350000\n"
     ]
    },
    {
     "name": "stderr",
     "output_type": "stream",
     "text": [
      "100%|██████████| 50000/50000 [00:45<00:00, 1098.21it/s]﻿\n"
     ]
    },
    {
     "name": "stdout",
     "output_type": "stream",
     "text": [
      "🚀 Processing chunk 12350000-12400000\n"
     ]
    },
    {
     "name": "stderr",
     "output_type": "stream",
     "text": [
      "100%|██████████| 50000/50000 [00:43<00:00, 1141.78it/s]﻿\n"
     ]
    },
    {
     "name": "stdout",
     "output_type": "stream",
     "text": [
      "🚀 Processing chunk 12400000-12450000\n"
     ]
    },
    {
     "name": "stderr",
     "output_type": "stream",
     "text": [
      "100%|██████████| 50000/50000 [00:47<00:00, 1054.39it/s]﻿\n"
     ]
    },
    {
     "name": "stdout",
     "output_type": "stream",
     "text": [
      "🚀 Processing chunk 12450000-12500000\n"
     ]
    },
    {
     "name": "stderr",
     "output_type": "stream",
     "text": [
      "100%|██████████| 50000/50000 [00:44<00:00, 1118.89it/s]﻿\n"
     ]
    },
    {
     "name": "stdout",
     "output_type": "stream",
     "text": [
      "🚀 Processing chunk 12500000-12550000\n"
     ]
    },
    {
     "name": "stderr",
     "output_type": "stream",
     "text": [
      "100%|██████████| 50000/50000 [00:44<00:00, 1124.86it/s]﻿\n"
     ]
    },
    {
     "name": "stdout",
     "output_type": "stream",
     "text": [
      "🚀 Processing chunk 12550000-12600000\n"
     ]
    },
    {
     "name": "stderr",
     "output_type": "stream",
     "text": [
      "100%|██████████| 50000/50000 [00:45<00:00, 1107.55it/s]﻿\n"
     ]
    },
    {
     "name": "stdout",
     "output_type": "stream",
     "text": [
      "🚀 Processing chunk 12600000-12650000\n"
     ]
    },
    {
     "name": "stderr",
     "output_type": "stream",
     "text": [
      "100%|██████████| 50000/50000 [00:44<00:00, 1124.76it/s]﻿\n"
     ]
    },
    {
     "name": "stdout",
     "output_type": "stream",
     "text": [
      "🚀 Processing chunk 12650000-12700000\n"
     ]
    },
    {
     "name": "stderr",
     "output_type": "stream",
     "text": [
      "100%|██████████| 50000/50000 [00:43<00:00, 1141.20it/s]﻿\n"
     ]
    },
    {
     "name": "stdout",
     "output_type": "stream",
     "text": [
      "🚀 Processing chunk 12700000-12750000\n"
     ]
    },
    {
     "name": "stderr",
     "output_type": "stream",
     "text": [
      "100%|██████████| 50000/50000 [00:43<00:00, 1148.59it/s]﻿\n"
     ]
    },
    {
     "name": "stdout",
     "output_type": "stream",
     "text": [
      "🚀 Processing chunk 12750000-12800000\n"
     ]
    },
    {
     "name": "stderr",
     "output_type": "stream",
     "text": [
      "100%|██████████| 50000/50000 [00:44<00:00, 1135.49it/s]﻿\n"
     ]
    },
    {
     "name": "stdout",
     "output_type": "stream",
     "text": [
      "🚀 Processing chunk 12800000-12850000\n"
     ]
    },
    {
     "name": "stderr",
     "output_type": "stream",
     "text": [
      "100%|██████████| 50000/50000 [00:45<00:00, 1106.37it/s]﻿\n"
     ]
    },
    {
     "name": "stdout",
     "output_type": "stream",
     "text": [
      "🚀 Processing chunk 12850000-12900000\n"
     ]
    },
    {
     "name": "stderr",
     "output_type": "stream",
     "text": [
      "100%|██████████| 50000/50000 [00:43<00:00, 1141.58it/s]﻿\n"
     ]
    },
    {
     "name": "stdout",
     "output_type": "stream",
     "text": [
      "🚀 Processing chunk 12900000-12950000\n"
     ]
    },
    {
     "name": "stderr",
     "output_type": "stream",
     "text": [
      "100%|██████████| 50000/50000 [00:43<00:00, 1142.89it/s]﻿\n"
     ]
    },
    {
     "name": "stdout",
     "output_type": "stream",
     "text": [
      "🚀 Processing chunk 12950000-13000000\n"
     ]
    },
    {
     "name": "stderr",
     "output_type": "stream",
     "text": [
      "100%|██████████| 50000/50000 [00:43<00:00, 1140.59it/s]﻿\n"
     ]
    },
    {
     "name": "stdout",
     "output_type": "stream",
     "text": [
      "🚀 Processing chunk 13000000-13050000\n"
     ]
    },
    {
     "name": "stderr",
     "output_type": "stream",
     "text": [
      "100%|██████████| 50000/50000 [00:43<00:00, 1146.66it/s]﻿\n"
     ]
    },
    {
     "name": "stdout",
     "output_type": "stream",
     "text": [
      "🚀 Processing chunk 13050000-13100000\n"
     ]
    },
    {
     "name": "stderr",
     "output_type": "stream",
     "text": [
      "100%|██████████| 50000/50000 [00:44<00:00, 1114.85it/s]﻿\n"
     ]
    },
    {
     "name": "stdout",
     "output_type": "stream",
     "text": [
      "🚀 Processing chunk 13100000-13150000\n"
     ]
    },
    {
     "name": "stderr",
     "output_type": "stream",
     "text": [
      "100%|██████████| 50000/50000 [00:43<00:00, 1142.35it/s]﻿\n"
     ]
    },
    {
     "name": "stdout",
     "output_type": "stream",
     "text": [
      "🚀 Processing chunk 13150000-13200000\n"
     ]
    },
    {
     "name": "stderr",
     "output_type": "stream",
     "text": [
      "100%|██████████| 50000/50000 [00:45<00:00, 1092.81it/s]﻿\n"
     ]
    },
    {
     "name": "stdout",
     "output_type": "stream",
     "text": [
      "🚀 Processing chunk 13200000-13250000\n"
     ]
    },
    {
     "name": "stderr",
     "output_type": "stream",
     "text": [
      "100%|██████████| 50000/50000 [00:43<00:00, 1137.46it/s]﻿\n"
     ]
    },
    {
     "name": "stdout",
     "output_type": "stream",
     "text": [
      "🚀 Processing chunk 13250000-13300000\n"
     ]
    },
    {
     "name": "stderr",
     "output_type": "stream",
     "text": [
      "100%|██████████| 50000/50000 [00:43<00:00, 1144.13it/s]﻿\n"
     ]
    },
    {
     "name": "stdout",
     "output_type": "stream",
     "text": [
      "🚀 Processing chunk 13300000-13350000\n"
     ]
    },
    {
     "name": "stderr",
     "output_type": "stream",
     "text": [
      "100%|██████████| 50000/50000 [00:43<00:00, 1137.36it/s]﻿\n"
     ]
    },
    {
     "name": "stdout",
     "output_type": "stream",
     "text": [
      "🚀 Processing chunk 13350000-13400000\n"
     ]
    },
    {
     "name": "stderr",
     "output_type": "stream",
     "text": [
      "100%|██████████| 50000/50000 [00:45<00:00, 1107.40it/s]﻿\n"
     ]
    },
    {
     "name": "stdout",
     "output_type": "stream",
     "text": [
      "🚀 Processing chunk 13400000-13450000\n"
     ]
    },
    {
     "name": "stderr",
     "output_type": "stream",
     "text": [
      "100%|██████████| 50000/50000 [00:43<00:00, 1144.59it/s]﻿\n"
     ]
    },
    {
     "name": "stdout",
     "output_type": "stream",
     "text": [
      "🚀 Processing chunk 13450000-13500000\n"
     ]
    },
    {
     "name": "stderr",
     "output_type": "stream",
     "text": [
      "100%|██████████| 50000/50000 [00:44<00:00, 1130.79it/s]﻿\n"
     ]
    },
    {
     "name": "stdout",
     "output_type": "stream",
     "text": [
      "🚀 Processing chunk 13500000-13550000\n"
     ]
    },
    {
     "name": "stderr",
     "output_type": "stream",
     "text": [
      "100%|██████████| 50000/50000 [00:43<00:00, 1150.29it/s]﻿\n"
     ]
    },
    {
     "name": "stdout",
     "output_type": "stream",
     "text": [
      "🚀 Processing chunk 13550000-13600000\n"
     ]
    },
    {
     "name": "stderr",
     "output_type": "stream",
     "text": [
      "100%|██████████| 50000/50000 [00:44<00:00, 1134.37it/s]﻿\n"
     ]
    },
    {
     "name": "stdout",
     "output_type": "stream",
     "text": [
      "🚀 Processing chunk 13600000-13650000\n"
     ]
    },
    {
     "name": "stderr",
     "output_type": "stream",
     "text": [
      "100%|██████████| 50000/50000 [00:43<00:00, 1143.98it/s]﻿\n"
     ]
    },
    {
     "name": "stdout",
     "output_type": "stream",
     "text": [
      "🚀 Processing chunk 13650000-13700000\n"
     ]
    },
    {
     "name": "stderr",
     "output_type": "stream",
     "text": [
      "100%|██████████| 50000/50000 [00:44<00:00, 1123.65it/s]﻿\n"
     ]
    },
    {
     "name": "stdout",
     "output_type": "stream",
     "text": [
      "🚀 Processing chunk 13700000-13750000\n"
     ]
    },
    {
     "name": "stderr",
     "output_type": "stream",
     "text": [
      "100%|██████████| 50000/50000 [00:43<00:00, 1145.73it/s]﻿\n"
     ]
    },
    {
     "name": "stdout",
     "output_type": "stream",
     "text": [
      "🚀 Processing chunk 13750000-13800000\n"
     ]
    },
    {
     "name": "stderr",
     "output_type": "stream",
     "text": [
      "100%|██████████| 50000/50000 [00:45<00:00, 1110.27it/s]﻿\n"
     ]
    },
    {
     "name": "stdout",
     "output_type": "stream",
     "text": [
      "🚀 Processing chunk 13800000-13850000\n"
     ]
    },
    {
     "name": "stderr",
     "output_type": "stream",
     "text": [
      "100%|██████████| 50000/50000 [00:43<00:00, 1138.30it/s]﻿\n"
     ]
    },
    {
     "name": "stdout",
     "output_type": "stream",
     "text": [
      "🚀 Processing chunk 13850000-13900000\n"
     ]
    },
    {
     "name": "stderr",
     "output_type": "stream",
     "text": [
      "100%|██████████| 50000/50000 [00:44<00:00, 1132.70it/s]﻿\n"
     ]
    },
    {
     "name": "stdout",
     "output_type": "stream",
     "text": [
      "🚀 Processing chunk 13900000-13950000\n"
     ]
    },
    {
     "name": "stderr",
     "output_type": "stream",
     "text": [
      "100%|██████████| 50000/50000 [00:44<00:00, 1134.29it/s]﻿\n"
     ]
    },
    {
     "name": "stdout",
     "output_type": "stream",
     "text": [
      "🚀 Processing chunk 13950000-14000000\n"
     ]
    },
    {
     "name": "stderr",
     "output_type": "stream",
     "text": [
      "100%|██████████| 50000/50000 [00:45<00:00, 1095.83it/s]﻿\n"
     ]
    },
    {
     "name": "stdout",
     "output_type": "stream",
     "text": [
      "🚀 Processing chunk 14000000-14050000\n"
     ]
    },
    {
     "name": "stderr",
     "output_type": "stream",
     "text": [
      "100%|██████████| 50000/50000 [00:44<00:00, 1115.54it/s]﻿\n"
     ]
    },
    {
     "name": "stdout",
     "output_type": "stream",
     "text": [
      "🚀 Processing chunk 14050000-14100000\n"
     ]
    },
    {
     "name": "stderr",
     "output_type": "stream",
     "text": [
      "100%|██████████| 50000/50000 [00:44<00:00, 1112.58it/s]﻿\n"
     ]
    },
    {
     "name": "stdout",
     "output_type": "stream",
     "text": [
      "🚀 Processing chunk 14100000-14150000\n"
     ]
    },
    {
     "name": "stderr",
     "output_type": "stream",
     "text": [
      "100%|██████████| 50000/50000 [00:44<00:00, 1134.12it/s]﻿\n"
     ]
    },
    {
     "name": "stdout",
     "output_type": "stream",
     "text": [
      "🚀 Processing chunk 14150000-14200000\n"
     ]
    },
    {
     "name": "stderr",
     "output_type": "stream",
     "text": [
      "100%|██████████| 50000/50000 [00:45<00:00, 1089.94it/s]﻿\n"
     ]
    },
    {
     "name": "stdout",
     "output_type": "stream",
     "text": [
      "🚀 Processing chunk 14200000-14250000\n"
     ]
    },
    {
     "name": "stderr",
     "output_type": "stream",
     "text": [
      "100%|██████████| 50000/50000 [01:25<00:00, 583.60it/s] ﻿\n"
     ]
    },
    {
     "name": "stdout",
     "output_type": "stream",
     "text": [
      "🚀 Processing chunk 14250000-14300000\n"
     ]
    },
    {
     "name": "stderr",
     "output_type": "stream",
     "text": [
      "100%|██████████| 50000/50000 [01:36<00:00, 515.65it/s] ﻿\n"
     ]
    },
    {
     "name": "stdout",
     "output_type": "stream",
     "text": [
      "🚀 Processing chunk 14300000-14350000\n"
     ]
    },
    {
     "name": "stderr",
     "output_type": "stream",
     "text": [
      "100%|██████████| 50000/50000 [00:57<00:00, 865.55it/s] ﻿\n"
     ]
    },
    {
     "name": "stdout",
     "output_type": "stream",
     "text": [
      "🚀 Processing chunk 14350000-14400000\n"
     ]
    },
    {
     "name": "stderr",
     "output_type": "stream",
     "text": [
      "100%|██████████| 50000/50000 [00:51<00:00, 976.90it/s] ﻿\n"
     ]
    },
    {
     "name": "stdout",
     "output_type": "stream",
     "text": [
      "🚀 Processing chunk 14400000-14450000\n"
     ]
    },
    {
     "name": "stderr",
     "output_type": "stream",
     "text": [
      "100%|██████████| 50000/50000 [00:48<00:00, 1030.94it/s]﻿\n"
     ]
    },
    {
     "name": "stdout",
     "output_type": "stream",
     "text": [
      "🚀 Processing chunk 14450000-14500000\n"
     ]
    },
    {
     "name": "stderr",
     "output_type": "stream",
     "text": [
      "100%|██████████| 50000/50000 [00:46<00:00, 1067.83it/s]﻿\n"
     ]
    },
    {
     "name": "stdout",
     "output_type": "stream",
     "text": [
      "🚀 Processing chunk 14500000-14550000\n"
     ]
    },
    {
     "name": "stderr",
     "output_type": "stream",
     "text": [
      "100%|██████████| 50000/50000 [00:47<00:00, 1051.18it/s]﻿\n"
     ]
    },
    {
     "name": "stdout",
     "output_type": "stream",
     "text": [
      "🚀 Processing chunk 14550000-14600000\n"
     ]
    },
    {
     "name": "stderr",
     "output_type": "stream",
     "text": [
      "100%|██████████| 50000/50000 [00:47<00:00, 1046.23it/s]﻿\n"
     ]
    },
    {
     "name": "stdout",
     "output_type": "stream",
     "text": [
      "🚀 Processing chunk 14600000-14650000\n"
     ]
    },
    {
     "name": "stderr",
     "output_type": "stream",
     "text": [
      " 58%|█████▊    | 29159/50000 [00:26<00:18, 1124.21it/s]"
     ]
    },
    {
     "name": "stdout",
     "output_type": "stream",
     "text": [
      "⏳ Heartbeat: still running at 2025-08-13 20:36:40\n"
     ]
    },
    {
     "name": "stderr",
     "output_type": "stream",
     "text": [
      "100%|██████████| 50000/50000 [00:48<00:00, 1035.94it/s]﻿\n"
     ]
    },
    {
     "name": "stdout",
     "output_type": "stream",
     "text": [
      "🚀 Processing chunk 14650000-14700000\n"
     ]
    },
    {
     "name": "stderr",
     "output_type": "stream",
     "text": [
      "100%|██████████| 50000/50000 [00:53<00:00, 940.66it/s] ﻿\n"
     ]
    },
    {
     "name": "stdout",
     "output_type": "stream",
     "text": [
      "🚀 Processing chunk 14700000-14750000\n"
     ]
    },
    {
     "name": "stderr",
     "output_type": "stream",
     "text": [
      "100%|██████████| 50000/50000 [00:46<00:00, 1079.31it/s]﻿\n"
     ]
    },
    {
     "name": "stdout",
     "output_type": "stream",
     "text": [
      "🚀 Processing chunk 14750000-14800000\n"
     ]
    },
    {
     "name": "stderr",
     "output_type": "stream",
     "text": [
      "100%|██████████| 50000/50000 [00:47<00:00, 1057.90it/s]﻿\n"
     ]
    },
    {
     "name": "stdout",
     "output_type": "stream",
     "text": [
      "🚀 Processing chunk 14800000-14850000\n"
     ]
    },
    {
     "name": "stderr",
     "output_type": "stream",
     "text": [
      "100%|██████████| 50000/50000 [00:57<00:00, 862.52it/s] ﻿\n"
     ]
    },
    {
     "name": "stdout",
     "output_type": "stream",
     "text": [
      "🚀 Processing chunk 14850000-14900000\n"
     ]
    },
    {
     "name": "stderr",
     "output_type": "stream",
     "text": [
      "100%|██████████| 50000/50000 [01:01<00:00, 813.24it/s] ﻿\n"
     ]
    },
    {
     "name": "stdout",
     "output_type": "stream",
     "text": [
      "🚀 Processing chunk 14900000-14950000\n"
     ]
    },
    {
     "name": "stderr",
     "output_type": "stream",
     "text": [
      "100%|██████████| 50000/50000 [01:16<00:00, 652.87it/s] ﻿\n"
     ]
    },
    {
     "name": "stdout",
     "output_type": "stream",
     "text": [
      "🚀 Processing chunk 14950000-15000000\n"
     ]
    },
    {
     "name": "stderr",
     "output_type": "stream",
     "text": [
      "100%|██████████| 50000/50000 [00:47<00:00, 1049.97it/s]﻿\n"
     ]
    },
    {
     "name": "stdout",
     "output_type": "stream",
     "text": [
      "🚀 Processing chunk 15000000-15050000\n"
     ]
    },
    {
     "name": "stderr",
     "output_type": "stream",
     "text": [
      "100%|██████████| 50000/50000 [00:47<00:00, 1042.61it/s]﻿\n"
     ]
    },
    {
     "name": "stdout",
     "output_type": "stream",
     "text": [
      "🚀 Processing chunk 15050000-15100000\n"
     ]
    },
    {
     "name": "stderr",
     "output_type": "stream",
     "text": [
      "100%|██████████| 50000/50000 [00:48<00:00, 1031.94it/s]﻿\n"
     ]
    },
    {
     "name": "stdout",
     "output_type": "stream",
     "text": [
      "🚀 Processing chunk 15100000-15150000\n"
     ]
    },
    {
     "name": "stderr",
     "output_type": "stream",
     "text": [
      "100%|██████████| 50000/50000 [00:47<00:00, 1061.25it/s]﻿\n"
     ]
    },
    {
     "name": "stdout",
     "output_type": "stream",
     "text": [
      "🚀 Processing chunk 15150000-15200000\n"
     ]
    },
    {
     "name": "stderr",
     "output_type": "stream",
     "text": [
      "100%|██████████| 50000/50000 [00:47<00:00, 1052.82it/s]﻿\n"
     ]
    },
    {
     "name": "stdout",
     "output_type": "stream",
     "text": [
      "🚀 Processing chunk 15200000-15250000\n"
     ]
    },
    {
     "name": "stderr",
     "output_type": "stream",
     "text": [
      "100%|██████████| 50000/50000 [00:47<00:00, 1056.36it/s]﻿\n"
     ]
    },
    {
     "name": "stdout",
     "output_type": "stream",
     "text": [
      "🚀 Processing chunk 15250000-15300000\n"
     ]
    },
    {
     "name": "stderr",
     "output_type": "stream",
     "text": [
      "100%|██████████| 50000/50000 [00:47<00:00, 1053.23it/s]﻿\n"
     ]
    },
    {
     "name": "stdout",
     "output_type": "stream",
     "text": [
      "🚀 Processing chunk 15300000-15350000\n"
     ]
    },
    {
     "name": "stderr",
     "output_type": "stream",
     "text": [
      "100%|██████████| 50000/50000 [00:47<00:00, 1049.40it/s]﻿\n"
     ]
    },
    {
     "name": "stdout",
     "output_type": "stream",
     "text": [
      "🚀 Processing chunk 15350000-15400000\n"
     ]
    },
    {
     "name": "stderr",
     "output_type": "stream",
     "text": [
      "100%|██████████| 50000/50000 [00:47<00:00, 1054.30it/s]﻿\n"
     ]
    },
    {
     "name": "stdout",
     "output_type": "stream",
     "text": [
      "🚀 Processing chunk 15400000-15450000\n"
     ]
    },
    {
     "name": "stderr",
     "output_type": "stream",
     "text": [
      "100%|██████████| 50000/50000 [00:47<00:00, 1052.74it/s]﻿\n"
     ]
    },
    {
     "name": "stdout",
     "output_type": "stream",
     "text": [
      "🚀 Processing chunk 15450000-15500000\n"
     ]
    },
    {
     "name": "stderr",
     "output_type": "stream",
     "text": [
      "100%|██████████| 50000/50000 [00:47<00:00, 1050.77it/s]﻿\n"
     ]
    },
    {
     "name": "stdout",
     "output_type": "stream",
     "text": [
      "🚀 Processing chunk 15500000-15550000\n"
     ]
    },
    {
     "name": "stderr",
     "output_type": "stream",
     "text": [
      "100%|██████████| 50000/50000 [00:47<00:00, 1044.09it/s]﻿\n"
     ]
    },
    {
     "name": "stdout",
     "output_type": "stream",
     "text": [
      "🚀 Processing chunk 15550000-15600000\n"
     ]
    },
    {
     "name": "stderr",
     "output_type": "stream",
     "text": [
      "100%|██████████| 50000/50000 [00:48<00:00, 1029.06it/s]﻿\n"
     ]
    },
    {
     "name": "stdout",
     "output_type": "stream",
     "text": [
      "🚀 Processing chunk 15600000-15650000\n"
     ]
    },
    {
     "name": "stderr",
     "output_type": "stream",
     "text": [
      "100%|██████████| 50000/50000 [00:49<00:00, 1014.54it/s]﻿\n"
     ]
    },
    {
     "name": "stdout",
     "output_type": "stream",
     "text": [
      "🚀 Processing chunk 15650000-15700000\n"
     ]
    },
    {
     "name": "stderr",
     "output_type": "stream",
     "text": [
      "100%|██████████| 50000/50000 [00:47<00:00, 1061.59it/s]﻿\n"
     ]
    },
    {
     "name": "stdout",
     "output_type": "stream",
     "text": [
      "🚀 Processing chunk 15700000-15750000\n"
     ]
    },
    {
     "name": "stderr",
     "output_type": "stream",
     "text": [
      "100%|██████████| 50000/50000 [00:47<00:00, 1050.11it/s]﻿\n"
     ]
    },
    {
     "name": "stdout",
     "output_type": "stream",
     "text": [
      "🚀 Processing chunk 15750000-15800000\n"
     ]
    },
    {
     "name": "stderr",
     "output_type": "stream",
     "text": [
      "100%|██████████| 50000/50000 [00:46<00:00, 1067.08it/s]﻿\n"
     ]
    },
    {
     "name": "stdout",
     "output_type": "stream",
     "text": [
      "🚀 Processing chunk 15800000-15850000\n"
     ]
    },
    {
     "name": "stderr",
     "output_type": "stream",
     "text": [
      "100%|██████████| 50000/50000 [00:47<00:00, 1057.15it/s]﻿\n"
     ]
    },
    {
     "name": "stdout",
     "output_type": "stream",
     "text": [
      "🚀 Processing chunk 15850000-15900000\n"
     ]
    },
    {
     "name": "stderr",
     "output_type": "stream",
     "text": [
      "100%|██████████| 50000/50000 [00:48<00:00, 1040.71it/s]﻿\n"
     ]
    },
    {
     "name": "stdout",
     "output_type": "stream",
     "text": [
      "🚀 Processing chunk 15900000-15950000\n"
     ]
    },
    {
     "name": "stderr",
     "output_type": "stream",
     "text": [
      "100%|██████████| 50000/50000 [00:47<00:00, 1046.60it/s]﻿\n"
     ]
    },
    {
     "name": "stdout",
     "output_type": "stream",
     "text": [
      "🚀 Processing chunk 15950000-16000000\n"
     ]
    },
    {
     "name": "stderr",
     "output_type": "stream",
     "text": [
      "100%|██████████| 50000/50000 [00:46<00:00, 1065.45it/s]﻿\n"
     ]
    },
    {
     "name": "stdout",
     "output_type": "stream",
     "text": [
      "🚀 Processing chunk 16000000-16050000\n"
     ]
    },
    {
     "name": "stderr",
     "output_type": "stream",
     "text": [
      "100%|██████████| 50000/50000 [00:47<00:00, 1049.78it/s]﻿\n"
     ]
    },
    {
     "name": "stdout",
     "output_type": "stream",
     "text": [
      "🚀 Processing chunk 16050000-16100000\n"
     ]
    },
    {
     "name": "stderr",
     "output_type": "stream",
     "text": [
      "100%|██████████| 50000/50000 [00:47<00:00, 1061.42it/s]﻿\n"
     ]
    },
    {
     "name": "stdout",
     "output_type": "stream",
     "text": [
      "🚀 Processing chunk 16100000-16150000\n"
     ]
    },
    {
     "name": "stderr",
     "output_type": "stream",
     "text": [
      "100%|██████████| 50000/50000 [00:49<00:00, 1000.24it/s]﻿\n"
     ]
    },
    {
     "name": "stdout",
     "output_type": "stream",
     "text": [
      "🚀 Processing chunk 16150000-16200000\n"
     ]
    },
    {
     "name": "stderr",
     "output_type": "stream",
     "text": [
      "100%|██████████| 50000/50000 [00:47<00:00, 1043.59it/s]﻿\n"
     ]
    },
    {
     "name": "stdout",
     "output_type": "stream",
     "text": [
      "🚀 Processing chunk 16200000-16250000\n"
     ]
    },
    {
     "name": "stderr",
     "output_type": "stream",
     "text": [
      "100%|██████████| 50000/50000 [00:47<00:00, 1046.80it/s]﻿\n"
     ]
    },
    {
     "name": "stdout",
     "output_type": "stream",
     "text": [
      "🚀 Processing chunk 16250000-16300000\n"
     ]
    },
    {
     "name": "stderr",
     "output_type": "stream",
     "text": [
      "100%|██████████| 50000/50000 [00:47<00:00, 1048.23it/s]﻿\n"
     ]
    },
    {
     "name": "stdout",
     "output_type": "stream",
     "text": [
      "🚀 Processing chunk 16300000-16350000\n"
     ]
    },
    {
     "name": "stderr",
     "output_type": "stream",
     "text": [
      "100%|██████████| 50000/50000 [00:48<00:00, 1022.81it/s]﻿\n"
     ]
    },
    {
     "name": "stdout",
     "output_type": "stream",
     "text": [
      "🚀 Processing chunk 16350000-16400000\n"
     ]
    },
    {
     "name": "stderr",
     "output_type": "stream",
     "text": [
      "100%|██████████| 50000/50000 [00:47<00:00, 1054.13it/s]﻿\n"
     ]
    },
    {
     "name": "stdout",
     "output_type": "stream",
     "text": [
      "🚀 Processing chunk 16400000-16450000\n"
     ]
    },
    {
     "name": "stderr",
     "output_type": "stream",
     "text": [
      "100%|██████████| 50000/50000 [00:52<00:00, 952.97it/s] ﻿\n"
     ]
    },
    {
     "name": "stdout",
     "output_type": "stream",
     "text": [
      "🚀 Processing chunk 16450000-16500000\n"
     ]
    },
    {
     "name": "stderr",
     "output_type": "stream",
     "text": [
      "100%|██████████| 50000/50000 [01:13<00:00, 675.94it/s]﻿\n"
     ]
    },
    {
     "name": "stdout",
     "output_type": "stream",
     "text": [
      "🚀 Processing chunk 16500000-16550000\n"
     ]
    },
    {
     "name": "stderr",
     "output_type": "stream",
     "text": [
      "100%|██████████| 50000/50000 [01:11<00:00, 701.18it/s]﻿\n"
     ]
    },
    {
     "name": "stdout",
     "output_type": "stream",
     "text": [
      "🚀 Processing chunk 16550000-16600000\n"
     ]
    },
    {
     "name": "stderr",
     "output_type": "stream",
     "text": [
      "100%|██████████| 50000/50000 [01:05<00:00, 767.30it/s] ﻿\n"
     ]
    },
    {
     "name": "stdout",
     "output_type": "stream",
     "text": [
      "🚀 Processing chunk 16600000-16650000\n"
     ]
    },
    {
     "name": "stderr",
     "output_type": "stream",
     "text": [
      "100%|██████████| 50000/50000 [00:48<00:00, 1038.46it/s]﻿\n"
     ]
    },
    {
     "name": "stdout",
     "output_type": "stream",
     "text": [
      "🚀 Processing chunk 16650000-16700000\n"
     ]
    },
    {
     "name": "stderr",
     "output_type": "stream",
     "text": [
      "100%|██████████| 50000/50000 [00:42<00:00, 1174.32it/s]﻿\n"
     ]
    },
    {
     "name": "stdout",
     "output_type": "stream",
     "text": [
      "🚀 Processing chunk 16700000-16750000\n"
     ]
    },
    {
     "name": "stderr",
     "output_type": "stream",
     "text": [
      "100%|██████████| 50000/50000 [00:40<00:00, 1223.20it/s]﻿\n"
     ]
    },
    {
     "name": "stdout",
     "output_type": "stream",
     "text": [
      "🚀 Processing chunk 16750000-16800000\n"
     ]
    },
    {
     "name": "stderr",
     "output_type": "stream",
     "text": [
      "100%|██████████| 50000/50000 [00:48<00:00, 1035.28it/s]﻿\n"
     ]
    },
    {
     "name": "stdout",
     "output_type": "stream",
     "text": [
      "🚀 Processing chunk 16800000-16850000\n"
     ]
    },
    {
     "name": "stderr",
     "output_type": "stream",
     "text": [
      "100%|██████████| 50000/50000 [00:47<00:00, 1045.87it/s]﻿\n"
     ]
    },
    {
     "name": "stdout",
     "output_type": "stream",
     "text": [
      "🚀 Processing chunk 16850000-16900000\n"
     ]
    },
    {
     "name": "stderr",
     "output_type": "stream",
     "text": [
      "100%|██████████| 50000/50000 [00:47<00:00, 1048.75it/s]﻿\n"
     ]
    },
    {
     "name": "stdout",
     "output_type": "stream",
     "text": [
      "🚀 Processing chunk 16900000-16950000\n"
     ]
    },
    {
     "name": "stderr",
     "output_type": "stream",
     "text": [
      "100%|██████████| 50000/50000 [00:48<00:00, 1028.24it/s]﻿\n"
     ]
    },
    {
     "name": "stdout",
     "output_type": "stream",
     "text": [
      "🚀 Processing chunk 16950000-16998132\n"
     ]
    },
    {
     "name": "stderr",
     "output_type": "stream",
     "text": [
      "100%|██████████| 48132/48132 [00:45<00:00, 1052.10it/s]﻿\n"
     ]
    },
    {
     "name": "stdout",
     "output_type": "stream",
     "text": [
      "✅ Finished (resume). Elapsed minutes: 220.11\n"
     ]
    }
   ],
   "source": [
    "save_dir = r\"D:\\NDIS_Database\\20_PaperSimulation\\FinalDroneAssignment\"\n",
    "\n",
    "# heartbeat is fine to keep\n",
    "threading.Thread(target=heartbeat, args=(3600,), daemon=True).start()\n",
    "\n",
    "start_time = timeit.default_timer()\n",
    "\n",
    "_, global_usage_count, usage_by_category = assign_best_drones_with_hybrid_penalty_resumable(\n",
    "    merged_df=ghz_with_cpm,\n",
    "    drone_df=drone_df,\n",
    "    chunk_size=50_000,\n",
    "    save_dir=save_dir,\n",
    "    resume=True,          # <-- key: skips already-saved chunks, rebuilds usage\n",
    "    return_results=False  # keep RAM low; results are on disk\n",
    ")\n",
    "\n",
    "elapsed = (timeit.default_timer() - start_time)/60\n",
    "print(f\"✅ Finished (resume). Elapsed minutes: {elapsed:.2f}\")\n",
    "#print(\"S900 usage:\", global_usage_count.get(\"DJI S900\", 0))"
   ]
  },
  {
   "cell_type": "code",
   "execution_count": 9,
   "metadata": {},
   "outputs": [
    {
     "name": "stdout",
     "output_type": "stream",
     "text": [
      "<class 'pandas.core.frame.DataFrame'>\n",
      "RangeIndex: 16998132 entries, 0 to 16998131\n",
      "Data columns (total 20 columns):\n",
      " #   Column             Dtype  \n",
      "---  ------             -----  \n",
      " 0   HazardID           int64  \n",
      " 1   HazardType         object \n",
      " 2   latitude           float64\n",
      " 3   longitude          float64\n",
      " 4   DisasterPhase      object \n",
      " 5   RecommendedSensor  object \n",
      " 6   sensor_weight      int64  \n",
      " 7   sensor_model       object \n",
      " 8   distance           float64\n",
      " 9   mission_distance   float64\n",
      " 10  travel_time        float64\n",
      " 11  monitor_time       float64\n",
      " 12  setup_buffer       float64\n",
      " 13  cpm_total_time     float64\n",
      " 14  drone1             object \n",
      " 15  drone2             object \n",
      " 16  drone3             object \n",
      " 17  note1              object \n",
      " 18  note2              object \n",
      " 19  note3              object \n",
      "dtypes: float64(8), int64(2), object(10)\n",
      "memory usage: 2.5+ GB\n"
     ]
    }
   ],
   "source": [
    "import glob, os\n",
    "feathers = sorted(glob.glob(os.path.join(save_dir, \"drone_assign_chunk_*_*.feather\")))\n",
    "final_df = pd.concat((pd.read_feather(fp) for fp in feathers), ignore_index=True)\n",
    "final_df.info()"
   ]
  },
  {
   "cell_type": "code",
   "execution_count": 13,
   "metadata": {},
   "outputs": [
    {
     "data": {
      "text/plain": [
       "array([False])"
      ]
     },
     "execution_count": 13,
     "metadata": {},
     "output_type": "execute_result"
    }
   ],
   "source": [
    "final_df.drone3.isna().unique()"
   ]
  },
  {
   "cell_type": "code",
   "execution_count": 15,
   "metadata": {},
   "outputs": [],
   "source": [
    "final_df.to_csv(r\"D:\\NDIS_Database\\20_PaperSimulation\\NDIS382_DroneSensor.csv\", index=False)"
   ]
  },
  {
   "cell_type": "markdown",
   "metadata": {},
   "source": [
    "----\n",
    "# ExplodeData\n",
    "\n",
    "---"
   ]
  },
  {
   "cell_type": "code",
   "execution_count": 25,
   "metadata": {},
   "outputs": [],
   "source": [
    "# ------------------------------------------------------------\n",
    "\n",
    "# ======= CONFIG =======\n",
    "CHUNK_SIZE = 500_000  # tune for your RAM\n",
    "OUT_DIR = r\"D:\\NDIS_Database\\20_PaperSimulation\\FinalExploded\"\n",
    "OUT_PREFIX = \"part\"\n",
    "\n",
    "# Parquet speed/size tradeoffs (good defaults for 10M+ rows)\n",
    "PARQUET_KW = dict(\n",
    "    engine=\"pyarrow\",\n",
    "    compression=\"zstd\",\n",
    "    compression_level=3,     # 3–5 sweet spot\n",
    "    use_dictionary=True,     # repeated strings (e.g., models) compress well\n",
    "    write_statistics=True,\n",
    "    row_group_size=1_000_000 # ~1M rows per row group\n",
    ")\n",
    "\n",
    "def explode_drones(df: pd.DataFrame,\n",
    "                   drone_cols=('drone1','drone2','drone3'),\n",
    "                   note_cols=('note1','note2','note3'),\n",
    "                   out_drone_col='drone_model',\n",
    "                   out_note_col='note') -> pd.DataFrame:\n",
    "    # keep id columns\n",
    "    id_cols = [c for c in df.columns if c not in (*drone_cols, *note_cols)]\n",
    "\n",
    "    # align columns by rank labels \"1\",\"2\",\"3\"\n",
    "    d = df.loc[:, drone_cols].rename(columns=dict(zip(drone_cols, ['1','2','3'])))\n",
    "    n = df.loc[:, note_cols ].rename(columns=dict(zip(note_cols,  ['1','2','3'])))\n",
    "\n",
    "    # build hierarchical columns then stack → long form (vectorized)\n",
    "    tmp = pd.concat({out_drone_col: d, out_note_col: n}, axis=1)\n",
    "    long = tmp.stack(level=1).reset_index(level=1).rename(columns={'level_1': 'drone_rank'})\n",
    "\n",
    "    # join back id columns; drop empty drones\n",
    "    out = (\n",
    "        df[id_cols]\n",
    "        .join(long)\n",
    "        .loc[lambda x: x[out_drone_col].notna() & (x[out_drone_col].astype(str).str.len() > 0)]\n",
    "        .reset_index(drop=True)\n",
    "    )\n",
    "\n",
    "    # tidy up types and sort (stable)\n",
    "    if 'drone_rank' in out.columns:\n",
    "        try:\n",
    "            out['drone_rank'] = out['drone_rank'].astype('int8')\n",
    "        except Exception:\n",
    "            pass\n",
    "\n",
    "    sort_cols = [c for c in ['HazardID','RecommendedSensor','DisasterPhase','drone_rank'] if c in out.columns]\n",
    "    if sort_cols:\n",
    "        out = out.sort_values(sort_cols, kind='stable', ignore_index=True)\n",
    "    return out\n",
    "\n"
   ]
  },
  {
   "cell_type": "code",
   "execution_count": 26,
   "metadata": {},
   "outputs": [
    {
     "name": "stdout",
     "output_type": "stream",
     "text": [
      "Processing 16,998,132 rows in 34 chunk(s) of 500,000...\n",
      "✓ 1/34  rows[0:500,000) -> D:\\NDIS_Database\\20_PaperSimulation\\FinalExploded\\part_00000.parquet  (10.4s)\n",
      "✓ 2/34  rows[500,000:1,000,000) -> D:\\NDIS_Database\\20_PaperSimulation\\FinalExploded\\part_00001.parquet  (8.7s)\n",
      "✓ 3/34  rows[1,000,000:1,500,000) -> D:\\NDIS_Database\\20_PaperSimulation\\FinalExploded\\part_00002.parquet  (17.0s)\n",
      "✓ 4/34  rows[1,500,000:2,000,000) -> D:\\NDIS_Database\\20_PaperSimulation\\FinalExploded\\part_00003.parquet  (14.6s)\n",
      "✓ 5/34  rows[2,000,000:2,500,000) -> D:\\NDIS_Database\\20_PaperSimulation\\FinalExploded\\part_00004.parquet  (10.0s)\n",
      "✓ 6/34  rows[2,500,000:3,000,000) -> D:\\NDIS_Database\\20_PaperSimulation\\FinalExploded\\part_00005.parquet  (10.9s)\n",
      "✓ 7/34  rows[3,000,000:3,500,000) -> D:\\NDIS_Database\\20_PaperSimulation\\FinalExploded\\part_00006.parquet  (10.2s)\n",
      "✓ 8/34  rows[3,500,000:4,000,000) -> D:\\NDIS_Database\\20_PaperSimulation\\FinalExploded\\part_00007.parquet  (9.9s)\n",
      "✓ 9/34  rows[4,000,000:4,500,000) -> D:\\NDIS_Database\\20_PaperSimulation\\FinalExploded\\part_00008.parquet  (9.4s)\n",
      "✓ 10/34  rows[4,500,000:5,000,000) -> D:\\NDIS_Database\\20_PaperSimulation\\FinalExploded\\part_00009.parquet  (9.2s)\n",
      "✓ 11/34  rows[5,000,000:5,500,000) -> D:\\NDIS_Database\\20_PaperSimulation\\FinalExploded\\part_00010.parquet  (10.0s)\n",
      "✓ 12/34  rows[5,500,000:6,000,000) -> D:\\NDIS_Database\\20_PaperSimulation\\FinalExploded\\part_00011.parquet  (10.5s)\n",
      "✓ 13/34  rows[6,000,000:6,500,000) -> D:\\NDIS_Database\\20_PaperSimulation\\FinalExploded\\part_00012.parquet  (10.6s)\n",
      "✓ 14/34  rows[6,500,000:7,000,000) -> D:\\NDIS_Database\\20_PaperSimulation\\FinalExploded\\part_00013.parquet  (9.5s)\n",
      "✓ 15/34  rows[7,000,000:7,500,000) -> D:\\NDIS_Database\\20_PaperSimulation\\FinalExploded\\part_00014.parquet  (9.0s)\n",
      "✓ 16/34  rows[7,500,000:8,000,000) -> D:\\NDIS_Database\\20_PaperSimulation\\FinalExploded\\part_00015.parquet  (9.0s)\n",
      "✓ 17/34  rows[8,000,000:8,500,000) -> D:\\NDIS_Database\\20_PaperSimulation\\FinalExploded\\part_00016.parquet  (9.1s)\n",
      "✓ 18/34  rows[8,500,000:9,000,000) -> D:\\NDIS_Database\\20_PaperSimulation\\FinalExploded\\part_00017.parquet  (9.2s)\n",
      "✓ 19/34  rows[9,000,000:9,500,000) -> D:\\NDIS_Database\\20_PaperSimulation\\FinalExploded\\part_00018.parquet  (10.0s)\n",
      "✓ 20/34  rows[9,500,000:10,000,000) -> D:\\NDIS_Database\\20_PaperSimulation\\FinalExploded\\part_00019.parquet  (10.0s)\n",
      "✓ 21/34  rows[10,000,000:10,500,000) -> D:\\NDIS_Database\\20_PaperSimulation\\FinalExploded\\part_00020.parquet  (8.8s)\n",
      "✓ 22/34  rows[10,500,000:11,000,000) -> D:\\NDIS_Database\\20_PaperSimulation\\FinalExploded\\part_00021.parquet  (10.4s)\n",
      "✓ 23/34  rows[11,000,000:11,500,000) -> D:\\NDIS_Database\\20_PaperSimulation\\FinalExploded\\part_00022.parquet  (9.7s)\n",
      "✓ 24/34  rows[11,500,000:12,000,000) -> D:\\NDIS_Database\\20_PaperSimulation\\FinalExploded\\part_00023.parquet  (11.2s)\n",
      "✓ 25/34  rows[12,000,000:12,500,000) -> D:\\NDIS_Database\\20_PaperSimulation\\FinalExploded\\part_00024.parquet  (24.4s)\n",
      "✓ 26/34  rows[12,500,000:13,000,000) -> D:\\NDIS_Database\\20_PaperSimulation\\FinalExploded\\part_00025.parquet  (15.6s)\n",
      "✓ 27/34  rows[13,000,000:13,500,000) -> D:\\NDIS_Database\\20_PaperSimulation\\FinalExploded\\part_00026.parquet  (8.5s)\n",
      "✓ 28/34  rows[13,500,000:14,000,000) -> D:\\NDIS_Database\\20_PaperSimulation\\FinalExploded\\part_00027.parquet  (8.8s)\n",
      "✓ 29/34  rows[14,000,000:14,500,000) -> D:\\NDIS_Database\\20_PaperSimulation\\FinalExploded\\part_00028.parquet  (8.4s)\n",
      "✓ 30/34  rows[14,500,000:15,000,000) -> D:\\NDIS_Database\\20_PaperSimulation\\FinalExploded\\part_00029.parquet  (8.5s)\n",
      "✓ 31/34  rows[15,000,000:15,500,000) -> D:\\NDIS_Database\\20_PaperSimulation\\FinalExploded\\part_00030.parquet  (8.4s)\n",
      "✓ 32/34  rows[15,500,000:16,000,000) -> D:\\NDIS_Database\\20_PaperSimulation\\FinalExploded\\part_00031.parquet  (8.5s)\n",
      "✓ 33/34  rows[16,000,000:16,500,000) -> D:\\NDIS_Database\\20_PaperSimulation\\FinalExploded\\part_00032.parquet  (8.6s)\n",
      "✓ 34/34  rows[16,500,000:16,998,132) -> D:\\NDIS_Database\\20_PaperSimulation\\FinalExploded\\part_00033.parquet  (8.8s)\n",
      "Done in 5.93 min. Parts in: D:\\NDIS_Database\\20_PaperSimulation\\FinalExploded\n"
     ]
    }
   ],
   "source": [
    "# ======= CHUNKED PROCESS =======\n",
    "os.makedirs(OUT_DIR, exist_ok=True)\n",
    "\n",
    "n = len(final_df)\n",
    "num_chunks = math.ceil(n / CHUNK_SIZE)\n",
    "print(f\"Processing {n:,} rows in {num_chunks} chunk(s) of {CHUNK_SIZE:,}...\")\n",
    "\n",
    "t0 = time.time()\n",
    "for i in range(0, n, CHUNK_SIZE):\n",
    "    j = min(i + CHUNK_SIZE, n)\n",
    "    t_chunk0 = time.time()\n",
    "\n",
    "    chunk = final_df.iloc[i:j]\n",
    "    exploded = explode_drones(chunk)\n",
    "\n",
    "    out_path = os.path.join(OUT_DIR, f\"{OUT_PREFIX}_{i//CHUNK_SIZE:05d}.parquet\")\n",
    "    exploded.to_parquet(out_path, index=False, **PARQUET_KW)\n",
    "\n",
    "    del chunk, exploded\n",
    "    gc.collect()\n",
    "\n",
    "    print(f\"✓ {i//CHUNK_SIZE+1}/{num_chunks}  rows[{i:,}:{j:,}) -> {out_path}  ({time.time()-t_chunk0:.1f}s)\")\n",
    "\n",
    "print(f\"Done in {(time.time()-t0)/60:.2f} min. Parts in: {OUT_DIR}\")\n",
    "\n",
    "# ---- OPTIONAL: FEATHER FOR MAX I/O SPEED (scratch only) ----\n",
    "# exploded.to_feather(out_path.replace(\".parquet\", \".feather\"), compression=\"lz4\")"
   ]
  },
  {
   "cell_type": "code",
   "execution_count": null,
   "metadata": {},
   "outputs": [],
   "source": []
  }
 ],
 "metadata": {
  "kernelspec": {
   "display_name": "ArcGISPro",
   "language": "python",
   "name": "python3"
  },
  "language_info": {
   "file_extension": ".py",
   "mimetype": "text/x-python",
   "name": "python",
   "version": "3.11.10"
  }
 },
 "nbformat": 4,
 "nbformat_minor": 4
}
