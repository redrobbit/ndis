{
  "cells": [
    {
      "cell_type": "markdown",
      "metadata": {
        "id": "Zw6739v6yor5"
      },
      "source": [
        "# NDIS v2.0 - Using Critical Path Method (CPM) and Random Forest"
      ]
    },
    {
      "cell_type": "code",
      "execution_count": null,
      "metadata": {
        "id": "rIEJR09Xyor8"
      },
      "outputs": [],
      "source": [
        "from arcgis.gis import GIS\n",
        "gis = GIS(\"home\")"
      ]
    },
    {
      "cell_type": "code",
      "execution_count": null,
      "metadata": {
        "id": "XC3tXx5Ryor-"
      },
      "outputs": [],
      "source": [
        "%matplotlib inline\n",
        "#ArcGIS packages\n",
        "import arcpy\n",
        "#from arcgis.mapping import WebScene\n",
        "from arcgis.gis import GIS\n",
        "from arcgis.features import FeatureLayer\n",
        "from IPython.display import display\n",
        "from arcgis.features import GeoAccessor\n",
        "from arcgis import *\n",
        "from arcpy.sa import Raster, Int  # Raster float to integer\n",
        "# Raster processing for dataframe\n",
        "from rasterstats import zonal_stats\n",
        "\n",
        "# basic packages\n",
        "import csv\n",
        "import numpy as np\n",
        "import os\n",
        "import timeit\n",
        "import random\n",
        "import string\n",
        "from playsound import playsound\n",
        "\n",
        "# Data management\n",
        "import pandas as pd\n",
        "import geopandas as gpd\n",
        "from shapely.geometry import Point  # to get points from long lat\n",
        "\n",
        "# Request service\n",
        "#from requests import Request\n",
        "import json\n",
        "import re\n",
        "from functools import reduce\n",
        "#from owslib.wfs import WebFeatureService\n",
        "\n",
        "# Plotting packages\n",
        "import matplotlib.pyplot as plt\n",
        "import seaborn as sns\n",
        "\n",
        "# Machine learning packages\n",
        "from sklearn.tree import DecisionTreeClassifier\n",
        "from sklearn.model_selection import train_test_split\n",
        "from sklearn.metrics import classification_report, accuracy_score\n",
        "from sklearn.preprocessing import LabelEncoder\n",
        "from sklearn.metrics import confusion_matrix\n",
        "from sklearn.metrics import ConfusionMatrixDisplay\n",
        "from sklearn.tree import export_text\n",
        "from sklearn.model_selection import cross_val_score\n",
        "from sklearn.preprocessing import MinMaxScaler\n",
        "import warnings\n",
        "import multiprocessing\n",
        "from collections import Counter\n",
        "from sklearn.ensemble import RandomForestClassifier, HistGradientBoostingClassifier\n",
        "\n",
        "# To save the model and everything else to be API ready\n",
        "import joblib\n",
        "import pickle"
      ]
    },
    {
      "cell_type": "code",
      "execution_count": null,
      "metadata": {
        "id": "4gisThm5yor_"
      },
      "outputs": [],
      "source": [
        "# Set the path to this geodatabase\n",
        "gdb_path = r\"D:\\ArcGISProjects\\GeohazardDB\\GeohazardDB.gdb\"  # This gdb path\n",
        "arcpy.env.overwriteOutput = True"
      ]
    },
    {
      "cell_type": "code",
      "execution_count": null,
      "metadata": {
        "id": "v2LGXh-YyosA",
        "outputId": "1968aea9-2649-4caa-aee1-a442941c26d6"
      },
      "outputs": [
        {
          "name": "stdout",
          "output_type": "stream",
          "text": [
            "<class 'pandas.core.frame.DataFrame'>\n",
            "RangeIndex: 1814699 entries, 0 to 1814698\n",
            "Data columns (total 7 columns):\n",
            " #   Column      Dtype  \n",
            "---  ------      -----  \n",
            " 0   OBJECTID    int64  \n",
            " 1   Shape       object \n",
            " 2   HazardID    float64\n",
            " 3   latitude    float64\n",
            " 4   longitude   float64\n",
            " 5   HazardType  int64  \n",
            " 6   distance    float64\n",
            "dtypes: float64(4), int64(2), object(1)\n",
            "memory usage: 96.9+ MB\n"
          ]
        }
      ],
      "source": [
        "# Import Database/Dataset\n",
        "# Specify the feature class name\n",
        "ghz_clean = \"cleaned_geohazard_data\"  # Geohazard feature class\n",
        "ghz_clean_path = f\"{gdb_path}\\\\{ghz_clean}\"\n",
        "\n",
        "# Use arcpy to create a list of fields\n",
        "ghz_clean_fields = [f.name for f in arcpy.ListFields(f\"{gdb_path}\\\\{ghz_clean}\")]\n",
        "\n",
        "# Use arcpy to create a search cursor and load the data into a list of dictionaries\n",
        "ghz_clean_data = []\n",
        "with arcpy.da.SearchCursor(f\"{gdb_path}\\\\{ghz_clean}\", ghz_clean_fields) as cursor:\n",
        "    for row in cursor:\n",
        "        ghz_clean_data.append(dict(zip(ghz_clean_fields, row)))\n",
        "\n",
        "# Convert the list of dictionaries into a DataFrame\n",
        "ghz_celan_df = pd.DataFrame(ghz_clean_data)\n",
        "ghz_celan_df.info()"
      ]
    },
    {
      "cell_type": "markdown",
      "metadata": {
        "id": "9SGUu1RhyosC"
      },
      "source": [
        "### Test Zonal Stats"
      ]
    },
    {
      "cell_type": "code",
      "execution_count": null,
      "metadata": {
        "id": "iqgRyQqlyosD"
      },
      "outputs": [],
      "source": [
        "# Load feature class from the geodatabase using geopandas\n",
        "layer_name = \"buffer_30km\"\n",
        "\n",
        "# This loads the feature class as a GeoDataFrame\n",
        "buffer_gdf = gpd.read_file(gdb_path, layer=layer_name)\n",
        "\n",
        "# Raster path\n",
        "population_raster = r\"D:\\NDIS_Database\\12_Population_synthetic\\nasapop20.tif\"\n",
        "\n",
        "# Run zonal stats (e.g., sum population within each buffer)\n",
        "stats = zonal_stats(buffer_gdf, population_raster, stats=[\"sum\"], geojson_out=True)\n",
        "\n",
        "# Convert the result back to GeoDataFrame\n",
        "result_gdf = gpd.GeoDataFrame.from_features(stats)\n",
        "\n",
        "# Join result to original buffer if needed:\n",
        "buffer_gdf[\"pop_sum\"] = result_gdf[\"sum\"]\n",
        "\n",
        "#buffer_gdf.drop(columns=\"geometry\").to_csv(\"buffer_pop.csv\", index=False)"
      ]
    },
    {
      "cell_type": "markdown",
      "metadata": {
        "id": "waVDjaOUyosE"
      },
      "source": [
        "### Buffering, Zonal Stats"
      ]
    },
    {
      "cell_type": "code",
      "execution_count": null,
      "metadata": {
        "id": "stF9m-G8yosE",
        "outputId": "bb7db757-cfbf-431a-88ff-bb2eebe877f5"
      },
      "outputs": [
        {
          "name": "stdout",
          "output_type": "stream",
          "text": [
            "🔹 Total features: 1814699\n",
            "🔹 Processing chunk 1 to 10000\n",
            "✅ Chunk 1 processed.\n",
            "🔹 Processing chunk 10001 to 20000\n",
            "✅ Chunk 10001 processed.\n",
            "🔹 Processing chunk 20001 to 30000\n",
            "✅ Chunk 20001 processed.\n",
            "🔹 Processing chunk 30001 to 40000\n",
            "✅ Chunk 30001 processed.\n",
            "🔹 Processing chunk 40001 to 50000\n",
            "✅ Chunk 40001 processed.\n",
            "🔹 Processing chunk 50001 to 60000\n",
            "✅ Chunk 50001 processed.\n",
            "🔹 Processing chunk 60001 to 70000\n",
            "✅ Chunk 60001 processed.\n",
            "🔹 Processing chunk 70001 to 80000\n",
            "✅ Chunk 70001 processed.\n",
            "🔹 Processing chunk 80001 to 90000\n",
            "✅ Chunk 80001 processed.\n",
            "🔹 Processing chunk 90001 to 100000\n",
            "✅ Chunk 90001 processed.\n",
            "🔹 Processing chunk 100001 to 110000\n",
            "✅ Chunk 100001 processed.\n",
            "🔹 Processing chunk 110001 to 120000\n",
            "✅ Chunk 110001 processed.\n",
            "🔹 Processing chunk 120001 to 130000\n",
            "✅ Chunk 120001 processed.\n",
            "🔹 Processing chunk 130001 to 140000\n",
            "✅ Chunk 130001 processed.\n",
            "🔹 Processing chunk 140001 to 150000\n",
            "✅ Chunk 140001 processed.\n",
            "🔹 Processing chunk 150001 to 160000\n",
            "✅ Chunk 150001 processed.\n",
            "🔹 Processing chunk 160001 to 170000\n",
            "✅ Chunk 160001 processed.\n",
            "🔹 Processing chunk 170001 to 180000\n",
            "✅ Chunk 170001 processed.\n",
            "🔹 Processing chunk 180001 to 190000\n",
            "✅ Chunk 180001 processed.\n",
            "🔹 Processing chunk 190001 to 200000\n",
            "✅ Chunk 190001 processed.\n",
            "🔹 Processing chunk 200001 to 210000\n",
            "✅ Chunk 200001 processed.\n",
            "🔹 Processing chunk 210001 to 220000\n",
            "✅ Chunk 210001 processed.\n",
            "🔹 Processing chunk 220001 to 230000\n",
            "✅ Chunk 220001 processed.\n",
            "🔹 Processing chunk 230001 to 240000\n",
            "✅ Chunk 230001 processed.\n",
            "🔹 Processing chunk 240001 to 250000\n",
            "✅ Chunk 240001 processed.\n",
            "🔹 Processing chunk 250001 to 260000\n",
            "✅ Chunk 250001 processed.\n",
            "🔹 Processing chunk 260001 to 270000\n",
            "✅ Chunk 260001 processed.\n",
            "🔹 Processing chunk 270001 to 280000\n",
            "✅ Chunk 270001 processed.\n",
            "🔹 Processing chunk 280001 to 290000\n",
            "✅ Chunk 280001 processed.\n",
            "🔹 Processing chunk 290001 to 300000\n",
            "✅ Chunk 290001 processed.\n",
            "🔹 Processing chunk 300001 to 310000\n",
            "✅ Chunk 300001 processed.\n",
            "🔹 Processing chunk 310001 to 320000\n",
            "✅ Chunk 310001 processed.\n",
            "🔹 Processing chunk 320001 to 330000\n",
            "✅ Chunk 320001 processed.\n",
            "🔹 Processing chunk 330001 to 340000\n",
            "✅ Chunk 330001 processed.\n",
            "🔹 Processing chunk 340001 to 350000\n",
            "✅ Chunk 340001 processed.\n",
            "🔹 Processing chunk 350001 to 360000\n",
            "✅ Chunk 350001 processed.\n",
            "🔹 Processing chunk 360001 to 370000\n",
            "✅ Chunk 360001 processed.\n",
            "🔹 Processing chunk 370001 to 380000\n",
            "✅ Chunk 370001 processed.\n",
            "🔹 Processing chunk 380001 to 390000\n",
            "✅ Chunk 380001 processed.\n",
            "🔹 Processing chunk 390001 to 400000\n",
            "✅ Chunk 390001 processed.\n",
            "🔹 Processing chunk 400001 to 410000\n",
            "✅ Chunk 400001 processed.\n",
            "🔹 Processing chunk 410001 to 420000\n",
            "✅ Chunk 410001 processed.\n",
            "🔹 Processing chunk 420001 to 430000\n",
            "✅ Chunk 420001 processed.\n",
            "🔹 Processing chunk 430001 to 440000\n",
            "✅ Chunk 430001 processed.\n",
            "🔹 Processing chunk 440001 to 450000\n",
            "✅ Chunk 440001 processed.\n",
            "🔹 Processing chunk 450001 to 460000\n",
            "✅ Chunk 450001 processed.\n",
            "🔹 Processing chunk 460001 to 470000\n",
            "✅ Chunk 460001 processed.\n",
            "🔹 Processing chunk 470001 to 480000\n",
            "✅ Chunk 470001 processed.\n",
            "🔹 Processing chunk 480001 to 490000\n",
            "✅ Chunk 480001 processed.\n",
            "🔹 Processing chunk 490001 to 500000\n",
            "✅ Chunk 490001 processed.\n",
            "🔹 Processing chunk 500001 to 510000\n",
            "✅ Chunk 500001 processed.\n",
            "🔹 Processing chunk 510001 to 520000\n",
            "✅ Chunk 510001 processed.\n",
            "🔹 Processing chunk 520001 to 530000\n",
            "✅ Chunk 520001 processed.\n",
            "🔹 Processing chunk 530001 to 540000\n",
            "✅ Chunk 530001 processed.\n",
            "🔹 Processing chunk 540001 to 550000\n",
            "✅ Chunk 540001 processed.\n",
            "🔹 Processing chunk 550001 to 560000\n",
            "✅ Chunk 550001 processed.\n",
            "🔹 Processing chunk 560001 to 570000\n",
            "✅ Chunk 560001 processed.\n",
            "🔹 Processing chunk 570001 to 580000\n",
            "✅ Chunk 570001 processed.\n",
            "🔹 Processing chunk 580001 to 590000\n",
            "✅ Chunk 580001 processed.\n",
            "🔹 Processing chunk 590001 to 600000\n",
            "✅ Chunk 590001 processed.\n",
            "🔹 Processing chunk 600001 to 610000\n",
            "✅ Chunk 600001 processed.\n",
            "🔹 Processing chunk 610001 to 620000\n",
            "✅ Chunk 610001 processed.\n",
            "🔹 Processing chunk 620001 to 630000\n",
            "✅ Chunk 620001 processed.\n",
            "🔹 Processing chunk 630001 to 640000\n",
            "✅ Chunk 630001 processed.\n",
            "🔹 Processing chunk 640001 to 650000\n",
            "✅ Chunk 640001 processed.\n",
            "🔹 Processing chunk 650001 to 660000\n",
            "✅ Chunk 650001 processed.\n",
            "🔹 Processing chunk 660001 to 670000\n",
            "✅ Chunk 660001 processed.\n",
            "🔹 Processing chunk 670001 to 680000\n",
            "✅ Chunk 670001 processed.\n",
            "🔹 Processing chunk 680001 to 690000\n",
            "✅ Chunk 680001 processed.\n",
            "🔹 Processing chunk 690001 to 700000\n",
            "✅ Chunk 690001 processed.\n",
            "🔹 Processing chunk 700001 to 710000\n",
            "✅ Chunk 700001 processed.\n",
            "🔹 Processing chunk 710001 to 720000\n",
            "✅ Chunk 710001 processed.\n",
            "🔹 Processing chunk 720001 to 730000\n",
            "✅ Chunk 720001 processed.\n",
            "🔹 Processing chunk 730001 to 740000\n",
            "✅ Chunk 730001 processed.\n",
            "🔹 Processing chunk 740001 to 750000\n",
            "✅ Chunk 740001 processed.\n",
            "🔹 Processing chunk 750001 to 760000\n",
            "✅ Chunk 750001 processed.\n",
            "🔹 Processing chunk 760001 to 770000\n",
            "✅ Chunk 760001 processed.\n",
            "🔹 Processing chunk 770001 to 780000\n",
            "✅ Chunk 770001 processed.\n",
            "🔹 Processing chunk 780001 to 790000\n",
            "✅ Chunk 780001 processed.\n",
            "🔹 Processing chunk 790001 to 800000\n",
            "✅ Chunk 790001 processed.\n",
            "🔹 Processing chunk 800001 to 810000\n",
            "✅ Chunk 800001 processed.\n",
            "🔹 Processing chunk 810001 to 820000\n",
            "✅ Chunk 810001 processed.\n",
            "🔹 Processing chunk 820001 to 830000\n",
            "✅ Chunk 820001 processed.\n",
            "🔹 Processing chunk 830001 to 840000\n",
            "✅ Chunk 830001 processed.\n",
            "🔹 Processing chunk 840001 to 850000\n",
            "✅ Chunk 840001 processed.\n",
            "🔹 Processing chunk 850001 to 860000\n",
            "✅ Chunk 850001 processed.\n",
            "🔹 Processing chunk 860001 to 870000\n",
            "✅ Chunk 860001 processed.\n",
            "🔹 Processing chunk 870001 to 880000\n",
            "✅ Chunk 870001 processed.\n",
            "🔹 Processing chunk 880001 to 890000\n",
            "✅ Chunk 880001 processed.\n",
            "🔹 Processing chunk 890001 to 900000\n",
            "✅ Chunk 890001 processed.\n",
            "🔹 Processing chunk 900001 to 910000\n",
            "✅ Chunk 900001 processed.\n",
            "🔹 Processing chunk 910001 to 920000\n",
            "✅ Chunk 910001 processed.\n",
            "🔹 Processing chunk 920001 to 930000\n",
            "✅ Chunk 920001 processed.\n",
            "🔹 Processing chunk 930001 to 940000\n",
            "✅ Chunk 930001 processed.\n",
            "🔹 Processing chunk 940001 to 950000\n",
            "✅ Chunk 940001 processed.\n",
            "🔹 Processing chunk 950001 to 960000\n",
            "✅ Chunk 950001 processed.\n",
            "🔹 Processing chunk 960001 to 970000\n",
            "✅ Chunk 960001 processed.\n",
            "🔹 Processing chunk 970001 to 980000\n",
            "✅ Chunk 970001 processed.\n",
            "🔹 Processing chunk 980001 to 990000\n",
            "✅ Chunk 980001 processed.\n",
            "🔹 Processing chunk 990001 to 1000000\n",
            "✅ Chunk 990001 processed.\n",
            "🔹 Processing chunk 1000001 to 1010000\n",
            "✅ Chunk 1000001 processed.\n",
            "🔹 Processing chunk 1010001 to 1020000\n",
            "✅ Chunk 1010001 processed.\n",
            "🔹 Processing chunk 1020001 to 1030000\n",
            "✅ Chunk 1020001 processed.\n",
            "🔹 Processing chunk 1030001 to 1040000\n",
            "✅ Chunk 1030001 processed.\n",
            "🔹 Processing chunk 1040001 to 1050000\n",
            "✅ Chunk 1040001 processed.\n",
            "🔹 Processing chunk 1050001 to 1060000\n",
            "✅ Chunk 1050001 processed.\n",
            "🔹 Processing chunk 1060001 to 1070000\n",
            "✅ Chunk 1060001 processed.\n",
            "🔹 Processing chunk 1070001 to 1080000\n",
            "✅ Chunk 1070001 processed.\n",
            "🔹 Processing chunk 1080001 to 1090000\n",
            "✅ Chunk 1080001 processed.\n",
            "🔹 Processing chunk 1090001 to 1100000\n",
            "✅ Chunk 1090001 processed.\n",
            "🔹 Processing chunk 1100001 to 1110000\n",
            "✅ Chunk 1100001 processed.\n",
            "🔹 Processing chunk 1110001 to 1120000\n",
            "✅ Chunk 1110001 processed.\n",
            "🔹 Processing chunk 1120001 to 1130000\n",
            "✅ Chunk 1120001 processed.\n",
            "🔹 Processing chunk 1130001 to 1140000\n",
            "✅ Chunk 1130001 processed.\n",
            "🔹 Processing chunk 1140001 to 1150000\n",
            "✅ Chunk 1140001 processed.\n",
            "🔹 Processing chunk 1150001 to 1160000\n",
            "✅ Chunk 1150001 processed.\n",
            "🔹 Processing chunk 1160001 to 1170000\n",
            "✅ Chunk 1160001 processed.\n",
            "🔹 Processing chunk 1170001 to 1180000\n",
            "✅ Chunk 1170001 processed.\n",
            "🔹 Processing chunk 1180001 to 1190000\n",
            "✅ Chunk 1180001 processed.\n",
            "🔹 Processing chunk 1190001 to 1200000\n",
            "✅ Chunk 1190001 processed.\n",
            "🔹 Processing chunk 1200001 to 1210000\n",
            "✅ Chunk 1200001 processed.\n",
            "🔹 Processing chunk 1210001 to 1220000\n",
            "✅ Chunk 1210001 processed.\n",
            "🔹 Processing chunk 1220001 to 1230000\n",
            "✅ Chunk 1220001 processed.\n",
            "🔹 Processing chunk 1230001 to 1240000\n",
            "✅ Chunk 1230001 processed.\n",
            "🔹 Processing chunk 1240001 to 1250000\n",
            "✅ Chunk 1240001 processed.\n",
            "🔹 Processing chunk 1250001 to 1260000\n",
            "✅ Chunk 1250001 processed.\n",
            "🔹 Processing chunk 1260001 to 1270000\n",
            "✅ Chunk 1260001 processed.\n",
            "🔹 Processing chunk 1270001 to 1280000\n",
            "✅ Chunk 1270001 processed.\n",
            "🔹 Processing chunk 1280001 to 1290000\n",
            "✅ Chunk 1280001 processed.\n",
            "🔹 Processing chunk 1290001 to 1300000\n",
            "✅ Chunk 1290001 processed.\n",
            "🔹 Processing chunk 1300001 to 1310000\n",
            "✅ Chunk 1300001 processed.\n",
            "🔹 Processing chunk 1310001 to 1320000\n",
            "✅ Chunk 1310001 processed.\n",
            "🔹 Processing chunk 1320001 to 1330000\n",
            "✅ Chunk 1320001 processed.\n",
            "🔹 Processing chunk 1330001 to 1340000\n",
            "✅ Chunk 1330001 processed.\n",
            "🔹 Processing chunk 1340001 to 1350000\n",
            "✅ Chunk 1340001 processed.\n",
            "🔹 Processing chunk 1350001 to 1360000\n",
            "✅ Chunk 1350001 processed.\n",
            "🔹 Processing chunk 1360001 to 1370000\n",
            "✅ Chunk 1360001 processed.\n",
            "🔹 Processing chunk 1370001 to 1380000\n",
            "✅ Chunk 1370001 processed.\n",
            "🔹 Processing chunk 1380001 to 1390000\n",
            "✅ Chunk 1380001 processed.\n",
            "🔹 Processing chunk 1390001 to 1400000\n",
            "✅ Chunk 1390001 processed.\n",
            "🔹 Processing chunk 1400001 to 1410000\n",
            "✅ Chunk 1400001 processed.\n",
            "🔹 Processing chunk 1410001 to 1420000\n",
            "✅ Chunk 1410001 processed.\n",
            "🔹 Processing chunk 1420001 to 1430000\n",
            "✅ Chunk 1420001 processed.\n",
            "🔹 Processing chunk 1430001 to 1440000\n",
            "✅ Chunk 1430001 processed.\n",
            "🔹 Processing chunk 1440001 to 1450000\n",
            "✅ Chunk 1440001 processed.\n",
            "🔹 Processing chunk 1450001 to 1460000\n",
            "✅ Chunk 1450001 processed.\n",
            "🔹 Processing chunk 1460001 to 1470000\n",
            "✅ Chunk 1460001 processed.\n",
            "🔹 Processing chunk 1470001 to 1480000\n",
            "✅ Chunk 1470001 processed.\n",
            "🔹 Processing chunk 1480001 to 1490000\n",
            "✅ Chunk 1480001 processed.\n",
            "🔹 Processing chunk 1490001 to 1500000\n",
            "✅ Chunk 1490001 processed.\n",
            "🔹 Processing chunk 1500001 to 1510000\n",
            "✅ Chunk 1500001 processed.\n",
            "🔹 Processing chunk 1510001 to 1520000\n",
            "✅ Chunk 1510001 processed.\n",
            "🔹 Processing chunk 1520001 to 1530000\n",
            "✅ Chunk 1520001 processed.\n",
            "🔹 Processing chunk 1530001 to 1540000\n",
            "✅ Chunk 1530001 processed.\n",
            "🔹 Processing chunk 1540001 to 1550000\n",
            "✅ Chunk 1540001 processed.\n",
            "🔹 Processing chunk 1550001 to 1560000\n",
            "✅ Chunk 1550001 processed.\n",
            "🔹 Processing chunk 1560001 to 1570000\n",
            "✅ Chunk 1560001 processed.\n",
            "🔹 Processing chunk 1570001 to 1580000\n",
            "✅ Chunk 1570001 processed.\n",
            "🔹 Processing chunk 1580001 to 1590000\n",
            "✅ Chunk 1580001 processed.\n",
            "🔹 Processing chunk 1590001 to 1600000\n",
            "✅ Chunk 1590001 processed.\n",
            "🔹 Processing chunk 1600001 to 1610000\n",
            "✅ Chunk 1600001 processed.\n",
            "🔹 Processing chunk 1610001 to 1620000\n",
            "✅ Chunk 1610001 processed.\n",
            "🔹 Processing chunk 1620001 to 1630000\n",
            "✅ Chunk 1620001 processed.\n",
            "🔹 Processing chunk 1630001 to 1640000\n",
            "✅ Chunk 1630001 processed.\n",
            "🔹 Processing chunk 1640001 to 1650000\n",
            "✅ Chunk 1640001 processed.\n",
            "🔹 Processing chunk 1650001 to 1660000\n",
            "✅ Chunk 1650001 processed.\n",
            "🔹 Processing chunk 1660001 to 1670000\n",
            "✅ Chunk 1660001 processed.\n",
            "🔹 Processing chunk 1670001 to 1680000\n",
            "✅ Chunk 1670001 processed.\n",
            "🔹 Processing chunk 1680001 to 1690000\n",
            "✅ Chunk 1680001 processed.\n",
            "🔹 Processing chunk 1690001 to 1700000\n",
            "✅ Chunk 1690001 processed.\n",
            "🔹 Processing chunk 1700001 to 1710000\n",
            "✅ Chunk 1700001 processed.\n",
            "🔹 Processing chunk 1710001 to 1720000\n",
            "✅ Chunk 1710001 processed.\n",
            "🔹 Processing chunk 1720001 to 1730000\n",
            "✅ Chunk 1720001 processed.\n",
            "🔹 Processing chunk 1730001 to 1740000\n",
            "✅ Chunk 1730001 processed.\n",
            "🔹 Processing chunk 1740001 to 1750000\n",
            "✅ Chunk 1740001 processed.\n",
            "🔹 Processing chunk 1750001 to 1760000\n",
            "✅ Chunk 1750001 processed.\n",
            "🔹 Processing chunk 1760001 to 1770000\n",
            "✅ Chunk 1760001 processed.\n",
            "🔹 Processing chunk 1770001 to 1780000\n",
            "✅ Chunk 1770001 processed.\n",
            "🔹 Processing chunk 1780001 to 1790000\n",
            "✅ Chunk 1780001 processed.\n",
            "🔹 Processing chunk 1790001 to 1800000\n",
            "✅ Chunk 1790001 processed.\n",
            "🔹 Processing chunk 1800001 to 1810000\n",
            "✅ Chunk 1800001 processed.\n",
            "🔹 Processing chunk 1810001 to 1814699\n",
            "✅ Chunk 1810001 processed.\n",
            "🎉 All done. Result in dataframe: final_gdf.\n"
          ]
        }
      ],
      "source": [
        "# Parameters\n",
        "# Name of feature class inside the gdb\n",
        "layer_name = \"cleaned_geohazard_data\"\n",
        "# Use geopandas to read it\n",
        "input_gdf = gpd.read_file(gdb_path, layer=layer_name)\n",
        "population_raster = r\"D:\\NDIS_Database\\12_Population_synthetic\\nasapopct.tif\"\n",
        "buffer_dist = 30000  # 30km\n",
        "chunk_size = 10000\n",
        "std_threshold = 10\n",
        "\n",
        "# Load input as GeoDataFrame\n",
        "#gdf = gpd.read_file(input_fc)\n",
        "\n",
        "# Reproject to WGS84 (EPSG:4326) if needed\n",
        "if input_gdf.crs.to_epsg() != 4326:\n",
        "    input_gdf = input_gdf.to_crs(epsg=4326)\n",
        "\n",
        "# Calculate approximate buffer distance in degrees\n",
        "buffer_deg = buffer_dist / 111320.0  # 1 degree ≈ 111.32 km at equator\n",
        "\n",
        "# Final results\n",
        "final_chunks = []\n",
        "\n",
        "total = len(input_gdf)\n",
        "print(f\"🔹 Total features: {total}\")\n",
        "\n",
        "for start in range(0, total, chunk_size):\n",
        "    print(f\"🔹 Processing chunk {start+1} to {min(start + chunk_size, total)}\")\n",
        "\n",
        "    chunk = input_gdf.iloc[start:start + chunk_size].copy()\n",
        "\n",
        "    # Suppress geographic CRS buffer warning\n",
        "    warnings.filterwarnings(\"ignore\", message=\"Geometry is in a geographic CRS.*\")\n",
        "    chunk[\"geometry\"] = chunk.geometry.buffer(buffer_deg)\n",
        "\n",
        "    # Zonal statistics\n",
        "    stats = zonal_stats(chunk, population_raster,\n",
        "                        stats=[\"mean\", \"majority\", \"count\", \"std\"],\n",
        "                        geojson_out=False)\n",
        "\n",
        "    # Smart pop estimation\n",
        "    smart_pops = []\n",
        "    for row in stats:\n",
        "        count = row.get(\"count\", 0) or 0\n",
        "        mean = row.get(\"mean\", 0) or 0\n",
        "        majority = row.get(\"majority\", 0) or 0\n",
        "        std = row.get(\"std\", 0) or 0\n",
        "\n",
        "        if count == 0:\n",
        "            pop = 0\n",
        "        elif std < std_threshold:\n",
        "            pop = majority * count\n",
        "        else:\n",
        "            pop = mean * count\n",
        "\n",
        "        smart_pops.append(pop)\n",
        "\n",
        "    chunk[\"pop\"] = smart_pops\n",
        "    final_chunks.append(chunk)\n",
        "\n",
        "    print(f\"✅ Chunk {start+1} processed.\")\n",
        "\n",
        "# Combine all results\n",
        "final_gdf = pd.concat(final_chunks, ignore_index=True)\n",
        "\n",
        "# Optional: export to CSV\n",
        "# final_gdf.drop(columns=\"geometry\").to_csv(\"smart_population_estimate.csv\", index=False)\n",
        "\n",
        "print(\"🎉 All done. Result in dataframe: final_gdf.\")"
      ]
    },
    {
      "cell_type": "code",
      "execution_count": null,
      "metadata": {
        "id": "sIoESmQ4yosG",
        "outputId": "29c66d12-6c90-4608-fc60-26fe162ad38e"
      },
      "outputs": [
        {
          "name": "stdout",
          "output_type": "stream",
          "text": [
            "Occurrences of 'volc': 1044\n"
          ]
        }
      ],
      "source": [
        "counts = final_gdf.groupby('HazardType').size()\n",
        "count_volc = counts.get(1, 0)\n",
        "print(\"Occurrences of 'volc':\", count_volc)"
      ]
    },
    {
      "cell_type": "code",
      "execution_count": null,
      "metadata": {
        "id": "OKs5qDrFyosH"
      },
      "outputs": [],
      "source": [
        "final_gdf[\"pop\"] = final_gdf[\"pop\"].fillna(0)\n",
        "final_gdf.to_csv(r\"D:\\NDIS_Database\\12_Population_synthetic\\ghz_pop.csv\", index=False)"
      ]
    },
    {
      "cell_type": "code",
      "execution_count": null,
      "metadata": {
        "id": "iHs1qOYxyosH",
        "outputId": "75f2fd5a-2163-49b1-8114-a6591e1cd2db"
      },
      "outputs": [
        {
          "name": "stdout",
          "output_type": "stream",
          "text": [
            "<class 'geopandas.geodataframe.GeoDataFrame'>\n",
            "RangeIndex: 1814699 entries, 0 to 1814698\n",
            "Data columns (total 7 columns):\n",
            " #   Column      Dtype   \n",
            "---  ------      -----   \n",
            " 0   HazardID    float64 \n",
            " 1   latitude    float64 \n",
            " 2   longitude   float64 \n",
            " 3   HazardType  int64   \n",
            " 4   distance    float64 \n",
            " 5   geometry    geometry\n",
            " 6   pop         float64 \n",
            "dtypes: float64(5), geometry(1), int64(1)\n",
            "memory usage: 96.9 MB\n"
          ]
        }
      ],
      "source": [
        "final_gdf.info()"
      ]
    },
    {
      "cell_type": "markdown",
      "metadata": {
        "id": "XPG4mSZYyosH"
      },
      "source": [
        "## Preprocess Volcano"
      ]
    },
    {
      "cell_type": "code",
      "execution_count": null,
      "metadata": {
        "id": "Y3WAUJqcyosI",
        "outputId": "b3a06953-da9b-4e12-c206-d0cbc9ec45b0"
      },
      "outputs": [
        {
          "name": "stdout",
          "output_type": "stream",
          "text": [
            "Title: Volcanic eruptions from 1950 to 2022\n",
            "Type: Feature Service\n",
            "<class 'pandas.core.frame.DataFrame'>\n",
            "RangeIndex: 2456 entries, 0 to 2455\n",
            "Data columns (total 28 columns):\n",
            " #   Column      Non-Null Count  Dtype         \n",
            "---  ------      --------------  -----         \n",
            " 0   FID         2456 non-null   Int64         \n",
            " 1   Volcano_Nu  2456 non-null   Float64       \n",
            " 2   Volcano_Na  2456 non-null   string        \n",
            " 3   Eruption_N  2456 non-null   Float64       \n",
            " 4   Eruption_C  2456 non-null   string        \n",
            " 5   Area_of_Ac  2456 non-null   string        \n",
            " 6   VEI         2456 non-null   string        \n",
            " 7   VEI_Modifi  2456 non-null   string        \n",
            " 8   Start_Year  2456 non-null   string        \n",
            " 9   Date        2456 non-null   string        \n",
            " 10  Start_Ye_1  2456 non-null   string        \n",
            " 11  Start_Ye_2  2456 non-null   string        \n",
            " 12  Start_Mont  2456 non-null   string        \n",
            " 13  Start_Day   2456 non-null   string        \n",
            " 14  Start_Da_1  2456 non-null   string        \n",
            " 15  Start_Da_2  2456 non-null   string        \n",
            " 16  Evidence_M  2456 non-null   string        \n",
            " 17  End_Year_M  2456 non-null   string        \n",
            " 18  End_Year    2456 non-null   string        \n",
            " 19  End_Year_U  2456 non-null   string        \n",
            " 20  End_Month   2456 non-null   string        \n",
            " 21  End_Day_Mo  2456 non-null   string        \n",
            " 22  End_Day     2456 non-null   string        \n",
            " 23  End_Day_Un  2456 non-null   string        \n",
            " 24  Latitude    2456 non-null   Float64       \n",
            " 25  Longitude   2456 non-null   Float64       \n",
            " 26  Date_Erupt  2456 non-null   datetime64[us]\n",
            " 27  SHAPE       2456 non-null   geometry      \n",
            "dtypes: Float64(4), Int64(1), datetime64[us](1), geometry(1), string(21)\n",
            "memory usage: 549.4 KB\n"
          ]
        }
      ],
      "source": [
        "# Load\n",
        "# Use known item ID\n",
        "item_id1 = \"0db01e3f54934c0c8060f5acdf326d01\"\n",
        "volc1 = gis.content.get(item_id1)\n",
        "\n",
        "# Inspect the item\n",
        "print(f\"Title: {volc1.title}\")\n",
        "print(f\"Type: {volc1.type}\")\n",
        "\n",
        "# Access the first layer in the feature service\n",
        "v1_layer = volc1.layers[0]\n",
        "\n",
        "# Load it into a Spatially Enabled DataFrame (SeDF)\n",
        "volc1_sdf = v1_layer.query(where=\"1=1\").sdf\n",
        "volc1_sdf.info()"
      ]
    },
    {
      "cell_type": "code",
      "execution_count": null,
      "metadata": {
        "id": "lS9KL0iEyosI",
        "outputId": "fc63dcb8-691e-4ee6-8d4f-a75108b0b2f3"
      },
      "outputs": [
        {
          "name": "stdout",
          "output_type": "stream",
          "text": [
            "Title: Significant Volcanic Events\n",
            "Type: Feature Service\n",
            "<class 'pandas.core.frame.DataFrame'>\n",
            "RangeIndex: 889 entries, 0 to 888\n",
            "Data columns (total 60 columns):\n",
            " #   Column                         Non-Null Count  Dtype   \n",
            "---  ------                         --------------  -----   \n",
            " 0   YEAR                           889 non-null    Int32   \n",
            " 1   MO                             757 non-null    Int32   \n",
            " 2   DAY                            698 non-null    Int32   \n",
            " 3   VEI                            711 non-null    Int32   \n",
            " 4   VOL_ID                         889 non-null    Float64 \n",
            " 5   FATALITIES                     448 non-null    Int32   \n",
            " 6   ASSOC_EQ                       79 non-null     string  \n",
            " 7   ASSOC_TSU                      177 non-null    string  \n",
            " 8   COMMENTS                       873 non-null    string  \n",
            " 9   DAMAGE_MILLIONS_DOLLARS        25 non-null     Float64 \n",
            " 10  DAMAGE_AMOUNT_ORDER            249 non-null    Int32   \n",
            " 11  DAMAGE_DESCRIPTION             249 non-null    string  \n",
            " 12  DEATHS                         448 non-null    Int32   \n",
            " 13  DEATHS_AMOUNT_ORDER            572 non-null    Int32   \n",
            " 14  DEATHS_DESCRIPTION             572 non-null    string  \n",
            " 15  INJURIES                       101 non-null    Int32   \n",
            " 16  INJURIES_AMOUNT_ORDER          124 non-null    Int32   \n",
            " 17  INJURIES_DESCRIPTION           124 non-null    string  \n",
            " 18  MISSING                        12 non-null     Int32   \n",
            " 19  MISSING_AMOUNT_ORDER           14 non-null     Int32   \n",
            " 20  MISSING_DESCRIPTION            14 non-null     string  \n",
            " 21  HOUSES_DESTROYED               50 non-null     Int32   \n",
            " 22  HOUSES_AMOUNT_ORDER            128 non-null    Int32   \n",
            " 23  HOUSES_DESCRIPTION             128 non-null    string  \n",
            " 24  DAMAGE_MILLIONS_DOLLARS_TOTAL  29 non-null     Float64 \n",
            " 25  DAMAGE_AMOUNT_ORDER_TOTAL      271 non-null    Int32   \n",
            " 26  DAMAGE_TOTAL_DESCRIPTION       271 non-null    string  \n",
            " 27  DEATHS_TOTAL                   470 non-null    Int32   \n",
            " 28  DEATHS_AMOUNT_ORDER_TOTAL      598 non-null    Int32   \n",
            " 29  DEATHS_TOTAL_DESCRIPTION       598 non-null    string  \n",
            " 30  INJURIES_TOTAL                 105 non-null    Int32   \n",
            " 31  INJURIES_AMOUNT_ORDER_TOTAL    134 non-null    Int32   \n",
            " 32  INJURIES_TOTAL_DESCRIPTION     134 non-null    string  \n",
            " 33  MISSING_TOTAL                  12 non-null     Int32   \n",
            " 34  MISSING_AMOUNT_ORDER_TOTAL     15 non-null     Int32   \n",
            " 35  MISSING_TOTAL_DESCRIPTION      15 non-null     string  \n",
            " 36  HOUSES_DESTROYED_TOTAL         59 non-null     Int32   \n",
            " 37  HOUSES_AMOUNT_ORDER_TOTAL      155 non-null    Int32   \n",
            " 38  HOUSES_TOTAL_DESCRIPTION       155 non-null    string  \n",
            " 39  SIGNIF                         889 non-null    Int32   \n",
            " 40  VALIDITY                       199 non-null    Int32   \n",
            " 41  NUM                            889 non-null    string  \n",
            " 42  NAME                           889 non-null    string  \n",
            " 43  LOCATION                       889 non-null    string  \n",
            " 44  LATITUDE                       889 non-null    Float64 \n",
            " 45  LONGITUDE                      889 non-null    Float64 \n",
            " 46  ELEVATION                      889 non-null    Int32   \n",
            " 47  MORPHOLOGY                     889 non-null    string  \n",
            " 48  STATUS                         889 non-null    string  \n",
            " 49  TIME_ERUPT                     889 non-null    string  \n",
            " 50  COUNTRY                        889 non-null    string  \n",
            " 51  NUM_SLIDES                     889 non-null    Float64 \n",
            " 52  SIG_ID                         79 non-null     Int32   \n",
            " 53  TSU_ID                         183 non-null    Int32   \n",
            " 54  HAZ_EVENT_ID                   889 non-null    Int32   \n",
            " 55  OBJECTID                       889 non-null    Int64   \n",
            " 56  PUBLISH                        889 non-null    string  \n",
            " 57  OID                            0 non-null      Int32   \n",
            " 58  ID                             889 non-null    Int32   \n",
            " 59  SHAPE                          889 non-null    geometry\n",
            "dtypes: Float64(6), Int32(31), Int64(1), geometry(1), string(21)\n",
            "memory usage: 342.2 KB\n"
          ]
        }
      ],
      "source": [
        "# Load\n",
        "# Use known item ID\n",
        "item_id2 = \"e991eccebfa5425e9180d884af76f16a\"  # Item ID\n",
        "volc2 = gis.content.get(item_id2)\n",
        "\n",
        "# Inspect the item\n",
        "print(f\"Title: {volc2.title}\")\n",
        "print(f\"Type: {volc2.type}\")\n",
        "\n",
        "# Access the first layer in the feature service\n",
        "v2_layer = volc2.layers[0]\n",
        "\n",
        "# Load it into a Spatially Enabled DataFrame (SeDF)\n",
        "volc2_sdf = v2_layer.query(where=\"1=1\").sdf\n",
        "volc2_sdf.info()"
      ]
    },
    {
      "cell_type": "code",
      "execution_count": null,
      "metadata": {
        "id": "EFOM_UMcyosI",
        "outputId": "5dfd6efc-a89a-4ebc-a425-e6b820a40a91"
      },
      "outputs": [
        {
          "data": {
            "text/plain": [
              "<StringArray>\n",
              "['Extreme (~$25 million or more)',                             <NA>,\n",
              "   'Severe (~>$5 to $24 million)',          'Limited (<$1 million)',\n",
              "   'Moderate (~$1 to $5 million)']\n",
              "Length: 5, dtype: string"
            ]
          },
          "execution_count": 90,
          "metadata": {},
          "output_type": "execute_result"
        }
      ],
      "source": [
        "volc2_sdf.DAMAGE_TOTAL_DESCRIPTION.unique()"
      ]
    },
    {
      "cell_type": "code",
      "execution_count": null,
      "metadata": {
        "id": "I4LrRp3jyosJ",
        "outputId": "e9075b5b-0dfa-496f-80de-0a3e5acd412a"
      },
      "outputs": [
        {
          "name": "stdout",
          "output_type": "stream",
          "text": [
            "<class 'pandas.core.frame.DataFrame'>\n",
            "RangeIndex: 1044 entries, 0 to 1043\n",
            "Data columns (total 7 columns):\n",
            " #   Column      Non-Null Count  Dtype  \n",
            "---  ------      --------------  -----  \n",
            " 0   HazardID    1044 non-null   Int64  \n",
            " 1   latitude    1044 non-null   float64\n",
            " 2   longitude   1044 non-null   float64\n",
            " 3   HazardType  1044 non-null   int64  \n",
            " 4   distance    1044 non-null   float64\n",
            " 5   pop         1044 non-null   float64\n",
            " 6   vei         1044 non-null   Int32  \n",
            "dtypes: Int32(1), Int64(1), float64(4), int64(1)\n",
            "memory usage: 55.2 KB\n"
          ]
        }
      ],
      "source": [
        "volcano_df.info()"
      ]
    },
    {
      "cell_type": "code",
      "execution_count": null,
      "metadata": {
        "id": "EMIik943yosJ",
        "outputId": "978d98b2-efab-41d3-ce75-3bf637f8b0dc"
      },
      "outputs": [
        {
          "name": "stdout",
          "output_type": "stream",
          "text": [
            "<class 'pandas.core.frame.DataFrame'>\n",
            "RangeIndex: 1044 entries, 0 to 1043\n",
            "Data columns (total 7 columns):\n",
            " #   Column      Non-Null Count  Dtype  \n",
            "---  ------      --------------  -----  \n",
            " 0   HazardID    1044 non-null   Int64  \n",
            " 1   latitude    1044 non-null   float64\n",
            " 2   longitude   1044 non-null   float64\n",
            " 3   HazardType  1044 non-null   int64  \n",
            " 4   distance    1044 non-null   float64\n",
            " 5   pop         1044 non-null   float64\n",
            " 6   vei         1044 non-null   Int32  \n",
            "dtypes: Int32(1), Int64(1), float64(4), int64(1)\n",
            "memory usage: 55.2 KB\n"
          ]
        }
      ],
      "source": [
        "# Load datasets\n",
        "main_db = final_gdf      # main geohazard database\n",
        "data1 = volc1_sdf          # External source 1\n",
        "data2 = volc2_sdf          # External source 2\n",
        "\n",
        "# Filter volcanoes\n",
        "volcano_db = main_db[main_db[\"HazardType\"] == 1].copy()\n",
        "\n",
        "# Clean data\n",
        "volcano_db[\"HazardID\"] = volcano_db[\"HazardID\"].astype(\"Int64\")\n",
        "data2[\"ID\"] = data2[\"ID\"].astype(\"Int64\")\n",
        "data1[\"Volcano_Nu\"] = data1[\"Volcano_Nu\"].astype(\"Int64\")\n",
        "# Clean VEI in both datasets to be proper floats\n",
        "data1[\"VEI\"] = pd.to_numeric(data1[\"VEI\"], errors=\"coerce\")\n",
        "data2[\"VEI\"] = pd.to_numeric(data2[\"VEI\"], errors=\"coerce\")\n",
        "data2[\"DEATHS_TOTAL\"] = pd.to_numeric(data2[\"DEATHS_TOTAL\"], errors=\"coerce\")\n",
        "\n",
        "\n",
        "# Match by ID: main_db.HazardID ↔ data2.ID\n",
        "merge_d2 = pd.merge(volcano_db, data2[[\"ID\", \"VEI\", \"DEATHS_TOTAL\"]],\n",
        "                    left_on=\"HazardID\", right_on=\"ID\", how=\"left\")\n",
        "\n",
        "# Match by ID: main_db.HazardID ↔ data1.Volcano_Nu\n",
        "merge_d1 = pd.merge(volcano_db, data1[[\"Volcano_Nu\", \"VEI\"]],\n",
        "                    left_on=\"HazardID\", right_on=\"Volcano_Nu\", how=\"left\", suffixes=('', '_d1'))\n",
        "\n",
        "# Combine VEIs: prefer data2 over data1\n",
        "vei_combined = merge_d2.copy()\n",
        "vei_combined[\"VEI_d1\"] = merge_d1[\"VEI\"]\n",
        "vei_combined[\"VEI\"] = vei_combined[\"VEI\"].fillna(vei_combined[\"VEI_d1\"])\n",
        "\n",
        "# Estimate VEI from deaths\n",
        "def estimate_vei_from_deaths(deaths):\n",
        "    if pd.isna(deaths):\n",
        "        return np.nan\n",
        "    return min(8, int(deaths / 1000) + 2)\n",
        "\n",
        "missing_vei = vei_combined[\"VEI\"].isna()\n",
        "vei_combined.loc[missing_vei, \"VEI\"] = vei_combined.loc[missing_vei, \"DEATHS_TOTAL\"].apply(estimate_vei_from_deaths)\n",
        "\n",
        "# STEP 3: Weighted random VEI (realistic distribution)\n",
        "missing_vei = vei_combined[\"VEI\"].isna()\n",
        "vei_probs = [0.05, 0.1, 0.2, 0.3, 0.2, 0.1, 0.03, 0.015, 0.005]  # VEI 0–8\n",
        "vei_values = list(range(9))\n",
        "vei_combined.loc[missing_vei, \"VEI\"] = np.random.choice(vei_values, size=missing_vei.sum(), p=vei_probs)\n",
        "\n",
        "# Option 2: completely random VEI:\n",
        "# Assign random VEI for any remaining\n",
        "#missing_vei = vei_combined[\"VEI\"].isna()\n",
        "#vei_combined.loc[missing_vei, \"VEI\"] = [random.randint(1, 5) for _ in range(missing_vei.sum())]\n",
        "\n",
        "# Final cleanup\n",
        "vei_combined = vei_combined.rename(columns={\"VEI\": \"vei\"})\n",
        "volcano_df = vei_combined[[\"HazardID\", \"latitude\", \"longitude\", \"HazardType\", \"distance\", \"pop\",\"vei\"]].copy()\n",
        "volcano_df[\"vei\"] = pd.to_numeric(volcano_df[\"vei\"], errors=\"coerce\")\n",
        "volcano_df.info()"
      ]
    },
    {
      "cell_type": "markdown",
      "metadata": {
        "id": "9G0JjyecyosK"
      },
      "source": [
        "### Convert VEI to intensity"
      ]
    },
    {
      "cell_type": "code",
      "execution_count": null,
      "metadata": {
        "id": "nIbtSUtayosL"
      },
      "outputs": [],
      "source": [
        "volcano_sc = volcano_df.copy()"
      ]
    },
    {
      "cell_type": "code",
      "execution_count": null,
      "metadata": {
        "id": "y9uaCuI7yosL",
        "outputId": "cb78d33d-88db-4076-c754-075078cd05d9"
      },
      "outputs": [
        {
          "data": {
            "text/html": [
              "<div>\n",
              "<style scoped>\n",
              "    .dataframe tbody tr th:only-of-type {\n",
              "        vertical-align: middle;\n",
              "    }\n",
              "\n",
              "    .dataframe tbody tr th {\n",
              "        vertical-align: top;\n",
              "    }\n",
              "\n",
              "    .dataframe thead th {\n",
              "        text-align: right;\n",
              "    }\n",
              "</style>\n",
              "<table border=\"1\" class=\"dataframe\">\n",
              "  <thead>\n",
              "    <tr style=\"text-align: right;\">\n",
              "      <th></th>\n",
              "      <th>HazardID</th>\n",
              "      <th>latitude</th>\n",
              "      <th>longitude</th>\n",
              "      <th>HazardType</th>\n",
              "      <th>distance</th>\n",
              "      <th>pop</th>\n",
              "      <th>vei</th>\n",
              "      <th>intensity</th>\n",
              "    </tr>\n",
              "  </thead>\n",
              "  <tbody>\n",
              "    <tr>\n",
              "      <th>0</th>\n",
              "      <td>210010</td>\n",
              "      <td>50.170</td>\n",
              "      <td>6.85</td>\n",
              "      <td>1</td>\n",
              "      <td>34.462092</td>\n",
              "      <td>1.346558e+05</td>\n",
              "      <td>2</td>\n",
              "      <td>2</td>\n",
              "    </tr>\n",
              "    <tr>\n",
              "      <th>1</th>\n",
              "      <td>210020</td>\n",
              "      <td>45.775</td>\n",
              "      <td>2.97</td>\n",
              "      <td>1</td>\n",
              "      <td>1068.063073</td>\n",
              "      <td>4.145101e+05</td>\n",
              "      <td>3</td>\n",
              "      <td>3</td>\n",
              "    </tr>\n",
              "    <tr>\n",
              "      <th>2</th>\n",
              "      <td>210030</td>\n",
              "      <td>42.170</td>\n",
              "      <td>2.53</td>\n",
              "      <td>1</td>\n",
              "      <td>1798.388196</td>\n",
              "      <td>1.461354e+05</td>\n",
              "      <td>0</td>\n",
              "      <td>1</td>\n",
              "    </tr>\n",
              "    <tr>\n",
              "      <th>3</th>\n",
              "      <td>210040</td>\n",
              "      <td>38.870</td>\n",
              "      <td>-4.02</td>\n",
              "      <td>1</td>\n",
              "      <td>547.012635</td>\n",
              "      <td>1.739199e+05</td>\n",
              "      <td>2</td>\n",
              "      <td>2</td>\n",
              "    </tr>\n",
              "    <tr>\n",
              "      <th>4</th>\n",
              "      <td>211004</td>\n",
              "      <td>41.730</td>\n",
              "      <td>12.70</td>\n",
              "      <td>1</td>\n",
              "      <td>183.805721</td>\n",
              "      <td>2.411999e+06</td>\n",
              "      <td>1</td>\n",
              "      <td>1</td>\n",
              "    </tr>\n",
              "    <tr>\n",
              "      <th>...</th>\n",
              "      <td>...</td>\n",
              "      <td>...</td>\n",
              "      <td>...</td>\n",
              "      <td>...</td>\n",
              "      <td>...</td>\n",
              "      <td>...</td>\n",
              "      <td>...</td>\n",
              "      <td>...</td>\n",
              "    </tr>\n",
              "    <tr>\n",
              "      <th>1039</th>\n",
              "      <td>384010</td>\n",
              "      <td>14.950</td>\n",
              "      <td>-24.35</td>\n",
              "      <td>1</td>\n",
              "      <td>4486.383341</td>\n",
              "      <td>3.819591e+04</td>\n",
              "      <td>1</td>\n",
              "      <td>1</td>\n",
              "    </tr>\n",
              "    <tr>\n",
              "      <th>1040</th>\n",
              "      <td>384020</td>\n",
              "      <td>14.850</td>\n",
              "      <td>-24.72</td>\n",
              "      <td>1</td>\n",
              "      <td>104.898079</td>\n",
              "      <td>6.569345e+03</td>\n",
              "      <td>2</td>\n",
              "      <td>2</td>\n",
              "    </tr>\n",
              "    <tr>\n",
              "      <th>1041</th>\n",
              "      <td>385050</td>\n",
              "      <td>-7.950</td>\n",
              "      <td>-14.37</td>\n",
              "      <td>1</td>\n",
              "      <td>323.701364</td>\n",
              "      <td>8.805010e+02</td>\n",
              "      <td>2</td>\n",
              "      <td>2</td>\n",
              "    </tr>\n",
              "    <tr>\n",
              "      <th>1042</th>\n",
              "      <td>386010</td>\n",
              "      <td>-37.092</td>\n",
              "      <td>-12.28</td>\n",
              "      <td>1</td>\n",
              "      <td>3066.129641</td>\n",
              "      <td>3.215129e+02</td>\n",
              "      <td>3</td>\n",
              "      <td>3</td>\n",
              "    </tr>\n",
              "    <tr>\n",
              "      <th>1043</th>\n",
              "      <td>386011</td>\n",
              "      <td>-37.420</td>\n",
              "      <td>-12.48</td>\n",
              "      <td>1</td>\n",
              "      <td>38495.431917</td>\n",
              "      <td>0.000000e+00</td>\n",
              "      <td>0</td>\n",
              "      <td>1</td>\n",
              "    </tr>\n",
              "  </tbody>\n",
              "</table>\n",
              "<p>1044 rows × 8 columns</p>\n",
              "</div>"
            ],
            "text/plain": [
              "      HazardID  latitude  longitude  HazardType      distance           pop  \\\n",
              "0       210010    50.170       6.85           1     34.462092  1.346558e+05   \n",
              "1       210020    45.775       2.97           1   1068.063073  4.145101e+05   \n",
              "2       210030    42.170       2.53           1   1798.388196  1.461354e+05   \n",
              "3       210040    38.870      -4.02           1    547.012635  1.739199e+05   \n",
              "4       211004    41.730      12.70           1    183.805721  2.411999e+06   \n",
              "...        ...       ...        ...         ...           ...           ...   \n",
              "1039    384010    14.950     -24.35           1   4486.383341  3.819591e+04   \n",
              "1040    384020    14.850     -24.72           1    104.898079  6.569345e+03   \n",
              "1041    385050    -7.950     -14.37           1    323.701364  8.805010e+02   \n",
              "1042    386010   -37.092     -12.28           1   3066.129641  3.215129e+02   \n",
              "1043    386011   -37.420     -12.48           1  38495.431917  0.000000e+00   \n",
              "\n",
              "      vei  intensity  \n",
              "0       2          2  \n",
              "1       3          3  \n",
              "2       0          1  \n",
              "3       2          2  \n",
              "4       1          1  \n",
              "...   ...        ...  \n",
              "1039    1          1  \n",
              "1040    2          2  \n",
              "1041    2          2  \n",
              "1042    3          3  \n",
              "1043    0          1  \n",
              "\n",
              "[1044 rows x 8 columns]"
            ]
          },
          "execution_count": 79,
          "metadata": {},
          "output_type": "execute_result"
        }
      ],
      "source": [
        "volcano_sc[\"vei\"] = volcano_sc[\"vei\"].astype(\"int64\")\n",
        "vei = volcano_sc[\"vei\"].values  # pull as NumPy array\n",
        "\n",
        "conditions = [\n",
        "    vei <= 1,\n",
        "    vei == 2,\n",
        "    np.isin(vei, [3, 4]),\n",
        "    np.isin(vei, [5, 6]),\n",
        "    vei >= 7\n",
        "]\n",
        "\n",
        "choices = [1, 2, 3, 4, 5]\n",
        "\n",
        "\n",
        "volcano_sc[\"intensity\"] = np.select(conditions, choices, default=3)  # Default to 3 if VEI is missing\n",
        "volcano_sc"
      ]
    },
    {
      "cell_type": "markdown",
      "metadata": {
        "id": "pdCAQ537yosM"
      },
      "source": [
        "### Get Duration for CPM"
      ]
    },
    {
      "cell_type": "code",
      "execution_count": null,
      "metadata": {
        "id": "ZKpufTuOyosM",
        "outputId": "e95ddd72-c8ac-4c0f-a451-e9a47d608c31"
      },
      "outputs": [
        {
          "name": "stdout",
          "output_type": "stream",
          "text": [
            "<class 'pandas.core.frame.DataFrame'>\n",
            "RangeIndex: 1044 entries, 0 to 1043\n",
            "Data columns (total 12 columns):\n",
            " #   Column          Non-Null Count  Dtype  \n",
            "---  ------          --------------  -----  \n",
            " 0   HazardID        1044 non-null   Int64  \n",
            " 1   latitude        1044 non-null   float64\n",
            " 2   longitude       1044 non-null   float64\n",
            " 3   HazardType      1044 non-null   int64  \n",
            " 4   distance        1044 non-null   float64\n",
            " 5   pop             1044 non-null   float64\n",
            " 6   vei             1044 non-null   int64  \n",
            " 7   intensity       1044 non-null   int32  \n",
            " 8   min_duration    1044 non-null   int64  \n",
            " 9   max_duration    1044 non-null   int64  \n",
            " 10  avg_duration    1044 non-null   float64\n",
            " 11  eruption_count  1044 non-null   int64  \n",
            "dtypes: Int64(1), float64(5), int32(1), int64(5)\n",
            "memory usage: 94.9 KB\n"
          ]
        }
      ],
      "source": [
        "# Step 1: Match `data1` rows to volcano_df based on HazardID\n",
        "volc_dur = pd.merge(\n",
        "    volcano_sc[[\"HazardID\", \"vei\"]],\n",
        "    data1,\n",
        "    left_on=\"HazardID\", right_on=\"Volcano_Nu\",\n",
        "    how=\"left\"\n",
        ")\n",
        "\n",
        "# Step 2: Parse duration from Start/End fields\n",
        "\n",
        "def safe_date(year, month, day):\n",
        "    try:\n",
        "        if pd.isna(year) or year == \"\":\n",
        "            return None\n",
        "        year = int(float(year))\n",
        "        month = int(float(month)) if month else 1\n",
        "        day = int(float(day)) if day else 1\n",
        "        return datetime(year, month, day)\n",
        "    except:\n",
        "        return None\n",
        "\n",
        "def calculate_duration_minutes(row):\n",
        "    start = safe_date(row[\"Start_Year\"], row[\"Start_Mont\"], row[\"Start_Day\"])\n",
        "    end = safe_date(row[\"End_Year\"], row[\"End_Month\"], row[\"End_Day\"])\n",
        "    if start and end and end >= start:\n",
        "        return round((end - start).total_seconds() / 60)\n",
        "    else:\n",
        "        return None\n",
        "\n",
        "volc_dur[\"duration_minutes\"] = volc_dur.apply(calculate_duration_minutes, axis=1)\n",
        "\n",
        "# Step 3: Generate random duration based on vei_assigned\n",
        "def generate_duration_from_vei(vei):\n",
        "    if pd.isna(vei):\n",
        "        return None\n",
        "    vei = int(vei)\n",
        "    duration_ranges = {\n",
        "        0: (10, 60),\n",
        "        1: (60, 360),\n",
        "        2: (1440, 2880),\n",
        "        3: (2880, 10080),\n",
        "        4: (7200, 43200),\n",
        "        5: (43200, 129600),\n",
        "        6: (129600, 525600),\n",
        "        7: (525600, 2628000),\n",
        "        8: (525600, 2628000),\n",
        "    }\n",
        "    if vei in duration_ranges:\n",
        "        return random.randint(*duration_ranges[vei])\n",
        "    else:\n",
        "        return random.randint(60, 10000)\n",
        "\n",
        "# Fill missing durations\n",
        "volc_dur[\"duration_minutes\"] = volc_dur[\"duration_minutes\"].fillna(\n",
        "    volc_dur[\"vei\"].apply(generate_duration_from_vei)\n",
        ")\n",
        "\n",
        "dur_stats = volc_dur.groupby(\"HazardID\")[\"duration_minutes\"].agg([\"min\", \"max\", \"mean\", \"count\"]).reset_index()\n",
        "dur_stats.columns = [\"HazardID\", \"min_duration\", \"max_duration\", \"avg_duration\", \"eruption_count\"]\n",
        "\n",
        "# Step 4: Merge back into volcano_df\n",
        "volcano_sc = volcano_sc.merge(dur_stats, on=\"HazardID\", how=\"left\")\n",
        "\n",
        "volcano_sc.info()"
      ]
    },
    {
      "cell_type": "code",
      "execution_count": null,
      "metadata": {
        "id": "UQzxQziiyosN"
      },
      "outputs": [],
      "source": [
        "volcano_sc.to_csv(r\"D:\\NDIS_Database\\01_Volcano\\volc_rf.csv\", index=False)"
      ]
    },
    {
      "cell_type": "code",
      "execution_count": null,
      "metadata": {
        "id": "vcthBxsByosN",
        "outputId": "7289a4b7-fe55-4f8d-9851-874b57efbc9c"
      },
      "outputs": [
        {
          "data": {
            "text/plain": [
              "array([ 1, 20,  2, 12, 29,  5,  6, 10, 58, 24,  4, 40,  3, 21, 36,  9, 32,\n",
              "       17, 33, 19,  7, 26, 30, 11, 16, 15,  8, 23, 31, 14, 18, 13, 42, 52,\n",
              "       48, 22, 27], dtype=int64)"
            ]
          },
          "execution_count": 82,
          "metadata": {},
          "output_type": "execute_result"
        }
      ],
      "source": [
        "volcano_sc.eruption_count.unique()"
      ]
    },
    {
      "cell_type": "markdown",
      "metadata": {
        "id": "Jldk9-wXyosN"
      },
      "source": [
        "### Economic loss"
      ]
    },
    {
      "cell_type": "code",
      "execution_count": null,
      "metadata": {
        "id": "8fiTXfYfyosN"
      },
      "outputs": [],
      "source": [
        "# Map the string info\n",
        "desc_map = {\n",
        "    \"Limited (<$1 million)\": 0.5,\n",
        "    \"Moderate (~$1 to $5 million)\": 3,\n",
        "    \"Severe (~>$5 to $24 million)\": 15,\n",
        "    \"Extreme (~$25 million or more)\": 50\n",
        "}\n",
        "\n",
        "data2[\"damage_desc_est\"] = data2[\"DAMAGE_TOTAL_DESCRIPTION\"].map(desc_map)"
      ]
    },
    {
      "cell_type": "code",
      "execution_count": null,
      "metadata": {
        "id": "B-zj1FjUyosO"
      },
      "outputs": [],
      "source": [
        "# Start with actual values\n",
        "data2[\"econ_loss_million\"] = data2[\"DAMAGE_MILLIONS_DOLLARS_TOTAL\"]\n",
        "\n",
        "# Fill from description-based estimate\n",
        "data2[\"econ_loss_million\"] = data2[\"econ_loss_million\"].fillna(data2[\"damage_desc_est\"])\n",
        "\n",
        "# Fill remaining missing with random or intensity-based simulation\n",
        "def simulate_econ_loss(intensity):\n",
        "    base = {\n",
        "        1: (0.1, 1),\n",
        "        2: (1, 5),\n",
        "        3: (5, 20),\n",
        "        4: (20, 100),\n",
        "        5: (100, 500)\n",
        "    }\n",
        "    return round(random.uniform(*base.get(int(intensity), (1, 10))), 2)\n",
        "\n",
        "# Merge with volcano_df\n",
        "volcano_sc = volcano_sc.merge(\n",
        "    data2[[\"ID\", \"DAMAGE_MILLIONS_DOLLARS_TOTAL\", \"DAMAGE_TOTAL_DESCRIPTION\", \"econ_loss_million\"]],\n",
        "    left_on=\"HazardID\", right_on=\"ID\", how=\"left\"\n",
        ")\n",
        "\n",
        "# Fill any remaining NA values\n",
        "volcano_sc[\"econ_loss_million\"] = volcano_sc.apply(\n",
        "    lambda r: simulate_econ_loss(r[\"intensity\"]) if pd.isna(r[\"econ_loss_million\"]) else r[\"econ_loss_million\"],\n",
        "    axis=1\n",
        ")"
      ]
    },
    {
      "cell_type": "code",
      "execution_count": null,
      "metadata": {
        "id": "dO_vn_tDyosO",
        "outputId": "746cae22-991f-43e7-df1d-3ce296ae9478"
      },
      "outputs": [
        {
          "name": "stdout",
          "output_type": "stream",
          "text": [
            "<class 'pandas.core.frame.DataFrame'>\n",
            "RangeIndex: 1044 entries, 0 to 1043\n",
            "Data columns (total 16 columns):\n",
            " #   Column                         Non-Null Count  Dtype  \n",
            "---  ------                         --------------  -----  \n",
            " 0   HazardID                       1044 non-null   Int64  \n",
            " 1   latitude                       1044 non-null   float64\n",
            " 2   longitude                      1044 non-null   float64\n",
            " 3   HazardType                     1044 non-null   int64  \n",
            " 4   distance                       1044 non-null   float64\n",
            " 5   pop                            1044 non-null   float64\n",
            " 6   vei                            1044 non-null   int64  \n",
            " 7   intensity                      1044 non-null   int32  \n",
            " 8   min_duration                   1044 non-null   int64  \n",
            " 9   max_duration                   1044 non-null   int64  \n",
            " 10  avg_duration                   1044 non-null   float64\n",
            " 11  eruption_count                 1044 non-null   int64  \n",
            " 12  ID                             0 non-null      Int64  \n",
            " 13  DAMAGE_MILLIONS_DOLLARS_TOTAL  0 non-null      Float64\n",
            " 14  DAMAGE_TOTAL_DESCRIPTION       0 non-null      string \n",
            " 15  econ_loss_million              1044 non-null   float64\n",
            "dtypes: Float64(1), Int64(2), float64(6), int32(1), int64(5), string(1)\n",
            "memory usage: 129.6 KB\n"
          ]
        }
      ],
      "source": [
        "volcano_sc.info()"
      ]
    },
    {
      "cell_type": "code",
      "execution_count": null,
      "metadata": {
        "id": "e6hXZZdQyosO",
        "outputId": "067f02e7-0173-4e2b-df73-6e867a1aaa42"
      },
      "outputs": [
        {
          "name": "stdout",
          "output_type": "stream",
          "text": [
            "<class 'pandas.core.frame.DataFrame'>\n",
            "RangeIndex: 1044 entries, 0 to 1043\n",
            "Data columns (total 13 columns):\n",
            " #   Column             Non-Null Count  Dtype  \n",
            "---  ------             --------------  -----  \n",
            " 0   HazardID           1044 non-null   Int64  \n",
            " 1   latitude           1044 non-null   float64\n",
            " 2   longitude          1044 non-null   float64\n",
            " 3   HazardType         1044 non-null   int64  \n",
            " 4   distance           1044 non-null   float64\n",
            " 5   pop                1044 non-null   float64\n",
            " 6   vei                1044 non-null   int64  \n",
            " 7   intensity          1044 non-null   int32  \n",
            " 8   min_duration       1044 non-null   int64  \n",
            " 9   max_duration       1044 non-null   int64  \n",
            " 10  avg_duration       1044 non-null   float64\n",
            " 11  eruption_count     1044 non-null   int64  \n",
            " 12  econ_loss_million  1044 non-null   float64\n",
            "dtypes: Int64(1), float64(6), int32(1), int64(5)\n",
            "memory usage: 103.1 KB\n"
          ]
        }
      ],
      "source": [
        "# Drop columns 12-14\n",
        "volcano_sc = volcano_sc.drop(['ID', 'DAMAGE_MILLIONS_DOLLARS_TOTAL', 'DAMAGE_TOTAL_DESCRIPTION'], axis=1)\n",
        "volcano_sc.info()"
      ]
    },
    {
      "cell_type": "code",
      "execution_count": null,
      "metadata": {
        "id": "Hm0UExiHyosO"
      },
      "outputs": [],
      "source": [
        "volcano_sc.to_csv(r\"D:\\NDIS_Database\\01_Volcano\\volc_rf.csv\", index=False)"
      ]
    },
    {
      "cell_type": "markdown",
      "metadata": {
        "id": "qc4jhkW2yosP"
      },
      "source": [
        "## Preprocess Landslide"
      ]
    },
    {
      "cell_type": "code",
      "execution_count": null,
      "metadata": {
        "id": "k2JkosG7yosP",
        "outputId": "01540bbc-f25f-49ab-f349-d6dd591dacd2"
      },
      "outputs": [
        {
          "name": "stdout",
          "output_type": "stream",
          "text": [
            "<class 'geopandas.geodataframe.GeoDataFrame'>\n",
            "RangeIndex: 14723 entries, 0 to 14722\n",
            "Data columns (total 30 columns):\n",
            " #   Column      Non-Null Count  Dtype   \n",
            "---  ------      --------------  -----   \n",
            " 0   src_name    14718 non-null  object  \n",
            " 1   src_link    13879 non-null  object  \n",
            " 2   ev_date     13087 non-null  object  \n",
            " 3   ev_time     6555 non-null   object  \n",
            " 4   ev_title    14026 non-null  object  \n",
            " 5   ev_desc     12176 non-null  object  \n",
            " 6   loc_desc    13195 non-null  object  \n",
            " 7   loc_acc     14693 non-null  object  \n",
            " 8   ls_cat      14720 non-null  object  \n",
            " 9   ls_trig     14720 non-null  object  \n",
            " 10  ls_size     14719 non-null  object  \n",
            " 11  ls_setting  14713 non-null  object  \n",
            " 12  fatalities  14723 non-null  int64   \n",
            " 13  injuries    14723 non-null  int64   \n",
            " 14  storm_name  666 non-null    object  \n",
            " 15  photo_link  2228 non-null   object  \n",
            " 16  comments    2560 non-null   object  \n",
            " 17  ev_imp_src  14723 non-null  object  \n",
            " 18  ev_imp_id   11689 non-null  object  \n",
            " 19  latitude    14723 non-null  float64 \n",
            " 20  longitude   14723 non-null  float64 \n",
            " 21  ctry_name   14645 non-null  object  \n",
            " 22  ctry_code   14645 non-null  object  \n",
            " 23  div_name    14641 non-null  object  \n",
            " 24  gaz_point   14697 non-null  object  \n",
            " 25  gaz_dist    14723 non-null  float64 \n",
            " 26  sub_date    13591 non-null  object  \n",
            " 27  edit_date   22 non-null     object  \n",
            " 28  ev_id       14723 non-null  int64   \n",
            " 29  geometry    14723 non-null  geometry\n",
            "dtypes: float64(3), geometry(1), int64(3), object(23)\n",
            "memory usage: 3.4+ MB\n"
          ]
        }
      ],
      "source": [
        "# Read the shapefile from local disk\n",
        "landslide_df = gpd.read_file(r\"D:/NDIS_Database/04_Landslide/nasa_coolr_reports_point.shp\")\n",
        "landslide_df.info()"
      ]
    },
    {
      "cell_type": "code",
      "execution_count": null,
      "metadata": {
        "id": "H4E9LT4ryosP",
        "outputId": "f1f131d8-8b79-43ea-bbb2-bcf735070f8e"
      },
      "outputs": [
        {
          "data": {
            "text/plain": [
              "array(['unknown', 'medium', 'small', 'large', 'very_large',\n",
              "       'catastrophic', 'Unknown', 'Large', None], dtype=object)"
            ]
          },
          "execution_count": 86,
          "metadata": {},
          "output_type": "execute_result"
        }
      ],
      "source": [
        "landslide_df.ls_size.unique()"
      ]
    },
    {
      "cell_type": "code",
      "execution_count": null,
      "metadata": {
        "id": "chCs14-LyosQ"
      },
      "outputs": [],
      "source": [
        "ls_size_map = {\n",
        "    'small': 1,\n",
        "    'medium': 2,\n",
        "    'large': 3,\n",
        "    'very_large': 4,\n",
        "    'catastrophic': 5,\n",
        "    'unknown': np.nan,\n",
        "    'Unknown': np.nan,\n",
        "    None: np.nan\n",
        "}"
      ]
    },
    {
      "cell_type": "code",
      "execution_count": null,
      "metadata": {
        "id": "x0dat2UyyosQ"
      },
      "outputs": [],
      "source": [
        "# Map the size/severity\n",
        "landslide_df[\"ls_size_norm\"] = landslide_df[\"ls_size\"].str.lower().map(ls_size_map)"
      ]
    },
    {
      "cell_type": "code",
      "execution_count": null,
      "metadata": {
        "id": "WPx23eXoyosR"
      },
      "outputs": [],
      "source": [
        "# Clean them first\n",
        "landslide_df[\"fatalities\"] = pd.to_numeric(landslide_df[\"fatalities\"], errors=\"coerce\").fillna(0)\n",
        "landslide_df[\"injuries\"] = pd.to_numeric(landslide_df[\"injuries\"], errors=\"coerce\").fillna(0)"
      ]
    },
    {
      "cell_type": "code",
      "execution_count": null,
      "metadata": {
        "id": "7hAn0cTEyosY",
        "outputId": "22c6bf3e-f80b-45bd-8aed-4768e3326b4f"
      },
      "outputs": [
        {
          "name": "stdout",
          "output_type": "stream",
          "text": [
            "<class 'geopandas.geodataframe.GeoDataFrame'>\n",
            "RangeIndex: 14723 entries, 0 to 14722\n",
            "Data columns (total 34 columns):\n",
            " #   Column           Non-Null Count  Dtype   \n",
            "---  ------           --------------  -----   \n",
            " 0   src_name         14718 non-null  object  \n",
            " 1   src_link         13879 non-null  object  \n",
            " 2   ev_date          13087 non-null  object  \n",
            " 3   ev_time          6555 non-null   object  \n",
            " 4   ev_title         14026 non-null  object  \n",
            " 5   ev_desc          12176 non-null  object  \n",
            " 6   loc_desc         13195 non-null  object  \n",
            " 7   loc_acc          14693 non-null  object  \n",
            " 8   ls_cat           14720 non-null  object  \n",
            " 9   ls_trig          14720 non-null  object  \n",
            " 10  ls_size          14719 non-null  object  \n",
            " 11  ls_setting       14713 non-null  object  \n",
            " 12  fatalities       14723 non-null  int64   \n",
            " 13  injuries         14723 non-null  int64   \n",
            " 14  storm_name       666 non-null    object  \n",
            " 15  photo_link       2228 non-null   object  \n",
            " 16  comments         2560 non-null   object  \n",
            " 17  ev_imp_src       14723 non-null  object  \n",
            " 18  ev_imp_id        11689 non-null  object  \n",
            " 19  latitude         14723 non-null  float64 \n",
            " 20  longitude        14723 non-null  float64 \n",
            " 21  ctry_name        14645 non-null  object  \n",
            " 22  ctry_code        14645 non-null  object  \n",
            " 23  div_name         14641 non-null  object  \n",
            " 24  gaz_point        14697 non-null  object  \n",
            " 25  gaz_dist         14723 non-null  float64 \n",
            " 26  sub_date         13591 non-null  object  \n",
            " 27  edit_date        22 non-null     object  \n",
            " 28  ev_id            14723 non-null  int64   \n",
            " 29  geometry         14723 non-null  geometry\n",
            " 30  ls_size_norm     11763 non-null  float64 \n",
            " 31  casualty_score   14723 non-null  float64 \n",
            " 32  casualty_scaled  14723 non-null  float64 \n",
            " 33  intensity        14723 non-null  float64 \n",
            "dtypes: float64(7), geometry(1), int64(3), object(23)\n",
            "memory usage: 3.8+ MB\n"
          ]
        }
      ],
      "source": [
        "landslide_df[\"casualty_score\"] = landslide_df[\"fatalities\"] + 0.5 * landslide_df[\"injuries\"]\n",
        "\n",
        "# Normalize casualty score (so it's 0–5 range)\n",
        "casualty_scaled = MinMaxScaler().fit_transform(landslide_df[[\"casualty_score\"]])\n",
        "landslide_df[\"casualty_scaled\"] = casualty_scaled * 5\n",
        "\n",
        "# Final intensity: weighted combo\n",
        "landslide_df[\"intensity\"] = (\n",
        "    landslide_df[\"ls_size_norm\"].fillna(0) * 0.7 +\n",
        "    landslide_df[\"casualty_scaled\"].fillna(0) * 0.3\n",
        ").round()\n",
        "\n",
        "# For simpler version, use landslide size directly without accommodating fatalities\n",
        "#landslide_df[\"intensity\"] = landslide_df[\"ls_size_norm\"]\n",
        "landslide_df.info()"
      ]
    },
    {
      "cell_type": "code",
      "execution_count": null,
      "metadata": {
        "id": "9enH1TJIyosY"
      },
      "outputs": [],
      "source": [
        "def estimate_landslide_duration(size):\n",
        "    if pd.isna(size):\n",
        "        return random.randint(30, 180)  # fallback: 30 min – 3 hrs\n",
        "    duration_ranges = {\n",
        "        1: (10, 60),\n",
        "        2: (30, 90),\n",
        "        3: (60, 120),\n",
        "        4: (180, 360),\n",
        "        5: (360, 1440)\n",
        "    }\n",
        "    return random.randint(*duration_ranges.get(int(size), (30, 180)))\n",
        "\n",
        "landslide_df[\"duration_minutes\"] = landslide_df[\"ls_size_norm\"].apply(estimate_landslide_duration)"
      ]
    },
    {
      "cell_type": "code",
      "execution_count": null,
      "metadata": {
        "id": "GOLa-6hxyosZ",
        "outputId": "b89bfee2-116c-4394-d370-7996e792d946"
      },
      "outputs": [
        {
          "data": {
            "text/plain": [
              "14064"
            ]
          },
          "execution_count": 264,
          "metadata": {},
          "output_type": "execute_result"
        }
      ],
      "source": [
        "len(main_db[main_db[\"HazardType\"] == 2].copy())"
      ]
    },
    {
      "cell_type": "code",
      "execution_count": null,
      "metadata": {
        "id": "7Y1USahhyosZ",
        "outputId": "cce2cf91-a144-49c0-ca21-8dc934405380"
      },
      "outputs": [
        {
          "name": "stdout",
          "output_type": "stream",
          "text": [
            "HazardID\n",
            "0    17\n",
            "Name: count, dtype: int64\n"
          ]
        }
      ],
      "source": [
        "dupes = landslide_df[\"HazardID\"].value_counts()\n",
        "print(dupes[dupes > 1])"
      ]
    },
    {
      "cell_type": "code",
      "execution_count": null,
      "metadata": {
        "id": "C7ZUzo49yosa",
        "outputId": "f0280ab7-6bbd-4e00-a31a-aaad47c6b053"
      },
      "outputs": [
        {
          "name": "stdout",
          "output_type": "stream",
          "text": [
            "<class 'geopandas.geodataframe.GeoDataFrame'>\n",
            "RangeIndex: 14064 entries, 0 to 14063\n",
            "Data columns (total 12 columns):\n",
            " #   Column            Non-Null Count  Dtype   \n",
            "---  ------            --------------  -----   \n",
            " 0   HazardID          14064 non-null  int64   \n",
            " 1   latitude          14064 non-null  float64 \n",
            " 2   longitude         14064 non-null  float64 \n",
            " 3   HazardType        14064 non-null  int64   \n",
            " 4   distance          14064 non-null  float64 \n",
            " 5   geometry          14064 non-null  geometry\n",
            " 6   pop               14064 non-null  float64 \n",
            " 7   ls_size           14061 non-null  object  \n",
            " 8   fatalities        14064 non-null  int64   \n",
            " 9   injuries          14064 non-null  int64   \n",
            " 10  intensity         14064 non-null  float64 \n",
            " 11  duration_minutes  14064 non-null  int64   \n",
            "dtypes: float64(5), geometry(1), int64(5), object(1)\n",
            "memory usage: 1.3+ MB\n"
          ]
        }
      ],
      "source": [
        "# Keep only one row per HazardID (e.g., first)\n",
        "landslide_df_dedup = landslide_df.drop_duplicates(subset=\"HazardID\", keep=\"first\")\n",
        "\n",
        "# Merge data to main landslide in database\n",
        "# 1. Ensure keys match (rename 'ev_id' to 'HazardID' if needed)\n",
        "landslide_df = landslide_df.rename(columns={\"ev_id\": \"HazardID\"})\n",
        "\n",
        "# 2. Select only the fields to bring over\n",
        "fields_to_merge = [\"HazardID\", \"ls_size\", \"fatalities\", \"injuries\", \"intensity\", \"duration_minutes\"]\n",
        "\n",
        "# # 3. Merge into filtered main_db landslide records\n",
        "landslide_db = main_db[main_db[\"HazardType\"] == 2].copy()\n",
        "\n",
        "# 4. Merge attributes\n",
        "landslide_db = landslide_db.merge(\n",
        "    landslide_df_dedup[fields_to_merge],\n",
        "    on=\"HazardID\",\n",
        "    how=\"left\"\n",
        ")\n",
        "landslide_db.info()"
      ]
    },
    {
      "cell_type": "markdown",
      "metadata": {
        "id": "cOqsdqq-yosa"
      },
      "source": [
        "### Economic loss"
      ]
    },
    {
      "cell_type": "code",
      "execution_count": null,
      "metadata": {
        "id": "3EbZ2o7Myosb"
      },
      "outputs": [],
      "source": [
        "def simulate_landslide_econ_loss(intensity, pop, fatalities=0, injuries=0):\n",
        "    # Base economic ranges per intensity (in millions USD)\n",
        "    base_ranges = {\n",
        "        1: (0.1, 1),\n",
        "        2: (1, 5),\n",
        "        3: (5, 20),\n",
        "        4: (20, 100),\n",
        "        5: (100, 300)\n",
        "    }\n",
        "\n",
        "    # Get the base economic loss range\n",
        "    low, high = base_ranges.get(int(intensity), (1, 10))\n",
        "\n",
        "    # Normalize population (avoid zero division)\n",
        "    pop_factor = (pop / 1e6) if pop and pop > 0 else 1\n",
        "\n",
        "    # Casualty impact (additive boost)\n",
        "    casualty_boost = (fatalities + 0.5 * injuries) * 0.05  # tweak this multiplier as needed\n",
        "\n",
        "    # Final simulated economic loss (in millions USD)\n",
        "    econ_loss = random.uniform(low, high) * pop_factor + casualty_boost\n",
        "    return round(econ_loss, 2)"
      ]
    },
    {
      "cell_type": "code",
      "execution_count": null,
      "metadata": {
        "id": "NGa697Asyosb"
      },
      "outputs": [],
      "source": [
        "landslide_db[\"economic_loss_million\"] = landslide_db.apply(\n",
        "    lambda r: simulate_landslide_econ_loss(\n",
        "        r[\"intensity\"],\n",
        "        r[\"pop\"],\n",
        "        r.get(\"fatalities\", 0),\n",
        "        r.get(\"injuries\", 0)\n",
        "    ),\n",
        "    axis=1\n",
        ")"
      ]
    },
    {
      "cell_type": "code",
      "execution_count": null,
      "metadata": {
        "id": "CMy7Hn6Byosb",
        "outputId": "de73f65a-a6dc-49d3-c3d6-9a00000335f1"
      },
      "outputs": [
        {
          "name": "stdout",
          "output_type": "stream",
          "text": [
            "<class 'geopandas.geodataframe.GeoDataFrame'>\n",
            "RangeIndex: 14064 entries, 0 to 14063\n",
            "Data columns (total 13 columns):\n",
            " #   Column                 Non-Null Count  Dtype   \n",
            "---  ------                 --------------  -----   \n",
            " 0   HazardID               14064 non-null  int64   \n",
            " 1   latitude               14064 non-null  float64 \n",
            " 2   longitude              14064 non-null  float64 \n",
            " 3   HazardType             14064 non-null  int64   \n",
            " 4   distance               14064 non-null  float64 \n",
            " 5   geometry               14064 non-null  geometry\n",
            " 6   pop                    14064 non-null  float64 \n",
            " 7   ls_size                14061 non-null  object  \n",
            " 8   fatalities             14064 non-null  int64   \n",
            " 9   injuries               14064 non-null  int64   \n",
            " 10  intensity              14064 non-null  float64 \n",
            " 11  duration_minutes       14064 non-null  int64   \n",
            " 12  economic_loss_million  14064 non-null  float64 \n",
            "dtypes: float64(6), geometry(1), int64(5), object(1)\n",
            "memory usage: 1.4+ MB\n"
          ]
        }
      ],
      "source": [
        "landslide_db.info()"
      ]
    },
    {
      "cell_type": "code",
      "execution_count": null,
      "metadata": {
        "id": "riOLKv_Fyosc"
      },
      "outputs": [],
      "source": [
        "landslide_db.to_csv(r\"D:\\NDIS_Database\\04_Landslide\\landslide_rf.csv\", index=False)"
      ]
    },
    {
      "cell_type": "markdown",
      "metadata": {
        "id": "EjE0TlXmyosc"
      },
      "source": [
        "## Tsunami"
      ]
    },
    {
      "cell_type": "code",
      "execution_count": null,
      "metadata": {
        "id": "0FpXvePtyosc",
        "outputId": "0fa62fd8-3082-498c-bcec-4051c0a46dfb"
      },
      "outputs": [
        {
          "name": "stdout",
          "output_type": "stream",
          "text": [
            "Title: Historical Tsunami Events\n",
            "Type: Feature Service\n",
            "<class 'pandas.core.frame.DataFrame'>\n",
            "RangeIndex: 2625 entries, 0 to 2624\n",
            "Data columns (total 76 columns):\n",
            " #   Column                         Non-Null Count  Dtype         \n",
            "---  ------                         --------------  -----         \n",
            " 0   UNIQUE_ID                      2625 non-null   Int64         \n",
            " 1   YEAR                           2625 non-null   Int32         \n",
            " 2   MONTH                          2514 non-null   Int32         \n",
            " 3   DAY                            2430 non-null   Int32         \n",
            " 4   HOUR                           1554 non-null   Int32         \n",
            " 5   MINUTE                         1471 non-null   Int32         \n",
            " 6   SECOND                         1047 non-null   Float64       \n",
            " 7   DATE_STRING                    2625 non-null   string        \n",
            " 8   EVENT_DATE                     2596 non-null   datetime64[us]\n",
            " 9   LATITUDE                       2625 non-null   Float64       \n",
            " 10  LONGITUDE                      2625 non-null   Float64       \n",
            " 11  LOCATION_NAME                  2624 non-null   string        \n",
            " 12  AREA                           234 non-null    string        \n",
            " 13  COUNTRY                        2625 non-null   string        \n",
            " 14  REGION_CODE                    2624 non-null   Int32         \n",
            " 15  REGION                         2624 non-null   string        \n",
            " 16  CAUSE_CODE                     2623 non-null   Int32         \n",
            " 17  CAUSE                          2623 non-null   string        \n",
            " 18  EVENT_VALIDITY_CODE            2625 non-null   Int32         \n",
            " 19  EVENT_VALIDITY                 2625 non-null   string        \n",
            " 20  EQ_MAG_UNK                     111 non-null    Float64       \n",
            " 21  EQ_MAG_MB                      433 non-null    Float64       \n",
            " 22  EQ_MAG_MS                      1394 non-null   Float64       \n",
            " 23  EQ_MAG_MW                      670 non-null    Float64       \n",
            " 24  EQ_MAG_ML                      41 non-null     Float64       \n",
            " 25  EQ_MAG_MFA                     9 non-null      Float64       \n",
            " 26  EQ_MAGNITUDE                   1712 non-null   Float64       \n",
            " 27  EQ_MAGNITUDE_RANK              1712 non-null   Float64       \n",
            " 28  EQ_DEPTH                       1077 non-null   Int32         \n",
            " 29  MAX_EVENT_RUNUP                1293 non-null   Float64       \n",
            " 30  TS_MT_ABE                      2 non-null      Float64       \n",
            " 31  TS_MT_II                       711 non-null    Float64       \n",
            " 32  TS_INTENSITY                   1176 non-null   Float64       \n",
            " 33  DAMAGE_MILLIONS_DOLLARS        48 non-null     Float64       \n",
            " 34  DAMAGE_AMOUNT_ORDER            648 non-null    Int32         \n",
            " 35  DAMAGE_DESCRIPTION             648 non-null    string        \n",
            " 36  HOUSES_DESTROYED               101 non-null    Int32         \n",
            " 37  HOUSES_AMOUNT_ORDER            282 non-null    Int32         \n",
            " 38  HOUSES_DESCRIPTION             282 non-null    string        \n",
            " 39  DEATHS                         258 non-null    Int32         \n",
            " 40  DEATHS_AMOUNT_ORDER            2625 non-null   Float64       \n",
            " 41  DEATHS_DESCRIPTION             353 non-null    string        \n",
            " 42  INJURIES                       72 non-null     Int32         \n",
            " 43  INJURIES_AMOUNT_ORDER          84 non-null     Int32         \n",
            " 44  INJURIES_DESCRIPTION           84 non-null     string        \n",
            " 45  MISSING                        6 non-null      Int32         \n",
            " 46  MISSING_AMOUNT_ORDER           7 non-null      Int32         \n",
            " 47  MISSING_DESCRIPTION            7 non-null      string        \n",
            " 48  NUM_RUNUP                      2625 non-null   Int32         \n",
            " 49  DAMAGE_MILLIONS_DOLLARS_TOTAL  172 non-null    Float64       \n",
            " 50  DAMAGE_AMOUNT_ORDER_TOTAL      1316 non-null   Int32         \n",
            " 51  DAMAGE_TOTAL_DESCRIPTION       1316 non-null   string        \n",
            " 52  HOUSES_DESTROYED_TOTAL         266 non-null    Int32         \n",
            " 53  HOUSES_AMOUNT_ORDER_TOTAL      716 non-null    Int32         \n",
            " 54  HOUSES_TOTAL_DESCRIPTION       716 non-null    string        \n",
            " 55  DEATHS_TOTAL                   668 non-null    Int32         \n",
            " 56  DEATHS_AMOUNT_ORDER_TOTAL      821 non-null    Int32         \n",
            " 57  DEATHS_TOTAL_DESCRIPTION       821 non-null    string        \n",
            " 58  INJURIES_TOTAL                 323 non-null    Int32         \n",
            " 59  INJURIES_AMOUNT_ORDER_TOTAL    380 non-null    Int32         \n",
            " 60  INJURIES_TOTAL_DESCRIPTION     380 non-null    string        \n",
            " 61  MISSING_TOTAL                  16 non-null     Int32         \n",
            " 62  MISSING_AMOUNT_ORDER_TOTAL     20 non-null     Int32         \n",
            " 63  MISSING_TOTAL_DESCRIPTION      20 non-null     string        \n",
            " 64  HOUSES_DAMAGED                 17 non-null     Int32         \n",
            " 65  HOUSES_DAMAGED_AMOUNT_ORDER    65 non-null     Int32         \n",
            " 66  HOUSES_DAM_DESCRIPTION         65 non-null     string        \n",
            " 67  HOUSES_DAMAGED_TOTAL           106 non-null    Int32         \n",
            " 68  HOUSES_DAM_AMOUNT_ORDER_TOTAL  286 non-null    Int32         \n",
            " 69  HOUSES_DAM_TOTAL_DESCRIPTION   286 non-null    string        \n",
            " 70  CAUSE_SYMBOL                   2625 non-null   Float64       \n",
            " 71  URL                            2625 non-null   string        \n",
            " 72  COMMENTS                       2454 non-null   string        \n",
            " 73  ID                             2625 non-null   Int32         \n",
            " 74  MAP_SYMBOL                     2625 non-null   Int32         \n",
            " 75  SHAPE                          2625 non-null   geometry      \n",
            "dtypes: Float64(19), Int32(33), Int64(1), datetime64[us](1), geometry(1), string(21)\n",
            "memory usage: 1.3 MB\n"
          ]
        }
      ],
      "source": [
        "# Load\n",
        "# Use known item ID\n",
        "item_id3 = \"5a44c3d4d465498993120b70ab568876\"  # Item ID\n",
        "tsun = gis.content.get(item_id3)\n",
        "\n",
        "# Inspect the item\n",
        "print(f\"Title: {tsun.title}\")\n",
        "print(f\"Type: {tsun.type}\")\n",
        "\n",
        "# Access the first layer in the feature service\n",
        "tsun_layer = tsun.layers[0]\n",
        "\n",
        "# Load it into a Spatially Enabled DataFrame (SeDF)\n",
        "tsun_sdf = tsun_layer.query(where=\"1=1\").sdf\n",
        "tsun_sdf.info()"
      ]
    },
    {
      "cell_type": "code",
      "execution_count": null,
      "metadata": {
        "id": "I4GXaVuvyosc",
        "outputId": "a107a8e9-3a71-4314-f26b-f29efca6d358"
      },
      "outputs": [
        {
          "data": {
            "text/plain": [
              "<FloatingArray>\n",
              "[ <NA>,   1.0,   2.0,   1.6,   1.5,   4.0,   3.0,   3.3,   2.5,   0.0,   2.6,\n",
              "   4.6,   3.5,   5.6,   4.5,   3.2,   1.8,   3.6,   0.8,   1.3,   0.3,  -0.1,\n",
              "   6.4,   2.2,   0.5,   2.3,   3.9,   4.2,  -1.0,   4.3,   1.1,  -0.7,   4.4,\n",
              "  -0.5,   5.9,   5.1,   3.4,   5.2,  -1.7,  -2.3,  -3.3,   0.6,  -1.3,   1.7,\n",
              "   2.8,  -2.0,   4.9,   0.4,  -0.3,   3.7,   0.1,   0.9,   2.9,   2.7,  -1.5,\n",
              "   5.0,   1.4,   6.1, -2.18,   4.7,   1.2, -4.64,  0.58,  2.32,   8.4]\n",
              "Length: 65, dtype: Float64"
            ]
          },
          "execution_count": 6,
          "metadata": {},
          "output_type": "execute_result"
        }
      ],
      "source": [
        "tsun_sdf.TS_MT_II.unique()"
      ]
    },
    {
      "cell_type": "code",
      "execution_count": null,
      "metadata": {
        "id": "PTgO5GO4yosd",
        "outputId": "a4b7e77e-bc9f-4646-977e-55f022ba11d3"
      },
      "outputs": [
        {
          "data": {
            "text/plain": [
              "<FloatingArray>\n",
              "[  6.0,   5.0,   3.0,  <NA>,   4.0,   1.0,   3.5,   2.0,   1.5,   2.5,   0.0,\n",
              "   0.5,  -0.5,  -1.5,  -1.0,  -3.0,  -2.5,   3.8,  -2.0,  -4.0,   9.0,  -3.5,\n",
              "   0.2,   2.8,   2.7,   3.1,   2.6,   2.1,   1.8,   1.9, -4.14,  1.08,  2.82]\n",
              "Length: 33, dtype: Float64"
            ]
          },
          "execution_count": 9,
          "metadata": {},
          "output_type": "execute_result"
        }
      ],
      "source": [
        "tsun_sdf.TS_INTENSITY.unique()"
      ]
    },
    {
      "cell_type": "code",
      "execution_count": null,
      "metadata": {
        "id": "-W3qk2ugyose"
      },
      "outputs": [],
      "source": [
        "# Map the intensity from IIDA intensity\n",
        "def map_tsunami_intensity(ts_mt_ii):\n",
        "    if pd.isna(ts_mt_ii):\n",
        "        return np.nan\n",
        "    elif ts_mt_ii < 1:\n",
        "        return 1\n",
        "    elif ts_mt_ii < 3:\n",
        "        return 2\n",
        "    elif ts_mt_ii < 4.5:\n",
        "        return 3\n",
        "    elif ts_mt_ii < 6:\n",
        "        return 4\n",
        "    else:\n",
        "        return 5\n",
        "\n",
        "tsun_sdf[\"intensity\"] = tsun_sdf[\"TS_MT_II\"].apply(map_tsunami_intensity)"
      ]
    },
    {
      "cell_type": "code",
      "execution_count": null,
      "metadata": {
        "id": "2fTRlEP9yose"
      },
      "outputs": [],
      "source": [
        "def fallback_from_runup(runup):\n",
        "    if pd.isna(runup):\n",
        "        return np.nan\n",
        "    elif runup < 1:\n",
        "        return 1\n",
        "    elif runup < 3:\n",
        "        return 2\n",
        "    elif runup < 6:\n",
        "        return 3\n",
        "    elif runup < 10:\n",
        "        return 4\n",
        "    else:\n",
        "        return 5\n",
        "\n",
        "tsun_sdf.loc[tsun_sdf[\"intensity\"].isna(), \"intensity\"] = tsun_sdf.loc[\n",
        "    tsun_sdf[\"intensity\"].isna(), \"MAX_EVENT_RUNUP\"].apply(fallback_from_runup)"
      ]
    },
    {
      "cell_type": "code",
      "execution_count": null,
      "metadata": {
        "id": "X79ZhTtEyose"
      },
      "outputs": [],
      "source": [
        "tsun_intensity_probs = [0.05, 0.15, 0.4, 0.25, 0.15]\n",
        "tsun_intensity_vals = [1, 2, 3, 4, 5]\n",
        "\n",
        "missing_mask = tsun_sdf[\"intensity\"].isna()\n",
        "tsun_sdf.loc[missing_mask, \"intensity\"] = np.random.choice(\n",
        "    tsun_intensity_vals,\n",
        "    size=missing_mask.sum(),\n",
        "    p=tsun_intensity_probs\n",
        ")"
      ]
    },
    {
      "cell_type": "code",
      "execution_count": null,
      "metadata": {
        "id": "ur1X1-ZRyosf"
      },
      "outputs": [],
      "source": [
        "def estimate_tsunami_duration(intensity):\n",
        "    if pd.isna(intensity):\n",
        "        return random.randint(60, 240)  # fallback 1–4 hours\n",
        "    ranges = {\n",
        "        1: (15, 30),\n",
        "        2: (30, 90),\n",
        "        3: (90, 180),\n",
        "        4: (180, 360),\n",
        "        5: (360, 720),\n",
        "    }\n",
        "    return random.randint(*ranges[intensity])\n",
        "\n",
        "tsun_sdf[\"duration_minutes\"] = tsun_sdf[\"intensity\"].apply(estimate_tsunami_duration)"
      ]
    },
    {
      "cell_type": "code",
      "execution_count": null,
      "metadata": {
        "id": "i3MKYUb4yosf"
      },
      "outputs": [],
      "source": [
        "# Description fallback map\n",
        "desc_map = {\n",
        "    \"Limited (<$1 million)\": 0.5,\n",
        "    \"Moderate (~$1 to $5 million)\": 3,\n",
        "    \"Severe (~>$5 to $24 million)\": 15,\n",
        "    \"Extreme (~$25 million or more)\": 50\n",
        "}\n",
        "\n",
        "tsun_sdf[\"damage_desc_est\"] = tsun_sdf[\"DAMAGE_TOTAL_DESCRIPTION\"].map(desc_map)\n",
        "\n",
        "# Primary economic value\n",
        "tsun_sdf[\"economic_loss_million\"] = tsun_sdf[\"DAMAGE_MILLIONS_DOLLARS_TOTAL\"]\n",
        "tsun_sdf[\"economic_loss_million\"] = tsun_sdf[\"economic_loss_million\"].fillna(tsun_sdf[\"damage_desc_est\"])"
      ]
    },
    {
      "cell_type": "code",
      "execution_count": null,
      "metadata": {
        "id": "mkCAzs5Kyosg"
      },
      "outputs": [],
      "source": [
        "def simulate_tsun_econ_loss(intensity, pop, fatalities=0, injuries=0):\n",
        "    base_ranges = {\n",
        "        1: (1, 5),\n",
        "        2: (5, 20),\n",
        "        3: (20, 100),\n",
        "        4: (100, 500),\n",
        "        5: (500, 2000)\n",
        "    }\n",
        "\n",
        "    # Fallbacks for missing inputs\n",
        "    if pd.isna(intensity):\n",
        "        intensity = 3\n",
        "    if pd.isna(pop) or pop <= 0:\n",
        "        pop = 1e6  # assume 1 million as fallback\n",
        "    if pd.isna(fatalities):\n",
        "        fatalities = 0\n",
        "    if pd.isna(injuries):\n",
        "        injuries = 0\n",
        "\n",
        "    low, high = base_ranges.get(int(intensity), (10, 100))\n",
        "    pop_factor = pop / 1e6\n",
        "    casualty_boost = (fatalities + 0.5 * injuries) * 0.1\n",
        "\n",
        "    return round(random.uniform(low, high) * pop_factor + casualty_boost, 2)"
      ]
    },
    {
      "cell_type": "code",
      "execution_count": null,
      "metadata": {
        "id": "z2bPD-U6yosg",
        "outputId": "66f21006-ec60-43dc-c25f-aa9ab6037166"
      },
      "outputs": [
        {
          "name": "stdout",
          "output_type": "stream",
          "text": [
            "<class 'geopandas.geodataframe.GeoDataFrame'>\n",
            "Index: 369 entries, 4 to 5932\n",
            "Data columns (total 7 columns):\n",
            " #   Column      Non-Null Count  Dtype   \n",
            "---  ------      --------------  -----   \n",
            " 0   HazardID    369 non-null    int64   \n",
            " 1   latitude    369 non-null    float64 \n",
            " 2   longitude   369 non-null    float64 \n",
            " 3   HazardType  369 non-null    int64   \n",
            " 4   distance    369 non-null    float64 \n",
            " 5   geometry    369 non-null    geometry\n",
            " 6   pop         369 non-null    float64 \n",
            "dtypes: float64(4), geometry(1), int64(2)\n",
            "memory usage: 23.1 KB\n"
          ]
        }
      ],
      "source": [
        "## Get into filtered main_db tsunami records\n",
        "tsunami_db = main_db[main_db[\"HazardType\"] == 3].copy()\n",
        "tsunami_db.info()"
      ]
    },
    {
      "cell_type": "code",
      "execution_count": null,
      "metadata": {
        "id": "eiqESWSLyosh"
      },
      "outputs": [],
      "source": [
        "tsun_sdf = tsun_sdf.rename(columns={\"ID\": \"HazardID\"})\n",
        "# Drop existing 'pop' in tsun_sdf if it exists\n",
        "if \"pop\" in tsun_sdf.columns:\n",
        "    tsun_sdf = tsun_sdf.drop(columns=[\"pop\"])\n",
        "\n",
        "# Then do the merge safely\n",
        "tsun_sdf = tsun_sdf.merge(\n",
        "    tsunami_db[[\"HazardID\", \"pop\", 'latitude', 'longitude', 'HazardType', 'distance']],\n",
        "    on=\"HazardID\", how=\"left\"\n",
        ")\n",
        "\n",
        "# Simulate remaining missing values\n",
        "tsun_sdf[\"economic_loss_million\"] = tsun_sdf.apply(\n",
        "    lambda r: simulate_tsun_econ_loss(\n",
        "        r[\"intensity\"],\n",
        "        r[\"pop\"],\n",
        "        r.get(\"DEATHS_TOTAL\", 0),\n",
        "        r.get(\"INJURIES_TOTAL\", 0)\n",
        "    ) if pd.isna(r[\"economic_loss_million\"]) else r[\"economic_loss_million\"],\n",
        "    axis=1\n",
        ")"
      ]
    },
    {
      "cell_type": "code",
      "execution_count": null,
      "metadata": {
        "id": "DXkS3PWzyosh",
        "outputId": "e24bf6ea-cf7d-4b64-bd18-eba5726a868f"
      },
      "outputs": [
        {
          "name": "stdout",
          "output_type": "stream",
          "text": [
            "<class 'geopandas.geodataframe.GeoDataFrame'>\n",
            "RangeIndex: 369 entries, 0 to 368\n",
            "Data columns (total 11 columns):\n",
            " #   Column                 Non-Null Count  Dtype   \n",
            "---  ------                 --------------  -----   \n",
            " 0   HazardID               369 non-null    int64   \n",
            " 1   latitude               369 non-null    float64 \n",
            " 2   longitude              369 non-null    float64 \n",
            " 3   HazardType             369 non-null    int64   \n",
            " 4   distance               369 non-null    float64 \n",
            " 5   geometry               369 non-null    geometry\n",
            " 6   pop                    369 non-null    float64 \n",
            " 7   UNIQUE_ID              369 non-null    Int64   \n",
            " 8   economic_loss_million  369 non-null    float64 \n",
            " 9   intensity              369 non-null    float64 \n",
            " 10  duration_minutes       369 non-null    int64   \n",
            "dtypes: Int64(1), float64(6), geometry(1), int64(3)\n",
            "memory usage: 32.2 KB\n"
          ]
        }
      ],
      "source": [
        "# Merge data to main tsunami in database\n",
        "# 1. Ensure keys match (rename 'ev_id' to 'HazardID' if needed)\n",
        "tsunami_df = tsun_sdf.rename(columns={\"ID\": \"HazardID\"})\n",
        "\n",
        "# 2. Select only the fields to bring over\n",
        "fields_to_merge = [\"HazardID\", \"UNIQUE_ID\",\"economic_loss_million\", \"intensity\", \"duration_minutes\"]\n",
        "\n",
        "# # 3. Merge into filtered main_db tsunami records\n",
        "tsunami_db = main_db[main_db[\"HazardType\"] == 3].copy()\n",
        "\n",
        "# 4. Merge attributes\n",
        "tsunami_db = tsunami_db.merge(\n",
        "    tsunami_df[fields_to_merge],\n",
        "    on=\"HazardID\",\n",
        "    how=\"left\"\n",
        ")\n",
        "tsunami_db.info()"
      ]
    },
    {
      "cell_type": "code",
      "execution_count": null,
      "metadata": {
        "id": "Ko6YQdNbyosh",
        "outputId": "f444131f-151e-4f59-bb1e-4f67c3149540"
      },
      "outputs": [
        {
          "name": "stdout",
          "output_type": "stream",
          "text": [
            "<class 'pandas.core.frame.DataFrame'>\n",
            "RangeIndex: 369 entries, 0 to 368\n",
            "Data columns (total 9 columns):\n",
            " #   Column                 Non-Null Count  Dtype  \n",
            "---  ------                 --------------  -----  \n",
            " 0   latitude               369 non-null    float64\n",
            " 1   longitude              369 non-null    float64\n",
            " 2   HazardType             369 non-null    int64  \n",
            " 3   distance               369 non-null    float64\n",
            " 4   pop                    369 non-null    float64\n",
            " 5   HazardID               369 non-null    Int64  \n",
            " 6   economic_loss_million  369 non-null    float64\n",
            " 7   intensity              369 non-null    float64\n",
            " 8   duration_minutes       369 non-null    int64  \n",
            "dtypes: Int64(1), float64(6), int64(2)\n",
            "memory usage: 26.4 KB\n"
          ]
        }
      ],
      "source": [
        "# Drop columns 12-14\n",
        "tsunami_db = tsunami_db.drop(['HazardID','geometry'], axis=1)\n",
        "tsunami_db = tsunami_db.rename(columns={\"UNIQUE_ID\": \"HazardID\"})\n",
        "tsunami_db.info()"
      ]
    },
    {
      "cell_type": "code",
      "execution_count": null,
      "metadata": {
        "id": "zQj34YXZyosi",
        "outputId": "b5071ee7-f3f6-4a7b-e5da-3f5fbe0a2c9e"
      },
      "outputs": [
        {
          "data": {
            "text/plain": [
              "array([3., 4., 2., 5., 1.])"
            ]
          },
          "execution_count": 185,
          "metadata": {},
          "output_type": "execute_result"
        }
      ],
      "source": [
        "tsunami_db.intensity.unique()"
      ]
    },
    {
      "cell_type": "code",
      "execution_count": null,
      "metadata": {
        "id": "Dp9qNuGayosi"
      },
      "outputs": [],
      "source": [
        "tsunami_db.to_csv(r\"D:\\NDIS_Database\\03_Tsunami\\tsunami_rf.csv\", index=False)"
      ]
    },
    {
      "cell_type": "markdown",
      "metadata": {
        "id": "Qm_biYAQyosj"
      },
      "source": [
        "## Earthquake"
      ]
    },
    {
      "cell_type": "code",
      "execution_count": null,
      "metadata": {
        "id": "mfro4GbXyosj",
        "outputId": "b5c19386-7c70-4e7e-cd96-dff80880fd36"
      },
      "outputs": [
        {
          "name": "stderr",
          "output_type": "stream",
          "text": [
            "C:/Users/Dell/AppData/Local/Temp/ArcGISProTemp15224/xpython_15224/26753801.py:1: DtypeWarning: Columns (11,12) have mixed types. Specify dtype option on import or set low_memory=False.\n",
            "  eq_df = pd.read_csv(r\"D:\\NDIS_Database\\02_Earthquake\\eq_database_complete.csv\") # Load earthquake data\n"
          ]
        },
        {
          "data": {
            "text/html": [
              "<div>\n",
              "<style scoped>\n",
              "    .dataframe tbody tr th:only-of-type {\n",
              "        vertical-align: middle;\n",
              "    }\n",
              "\n",
              "    .dataframe tbody tr th {\n",
              "        vertical-align: top;\n",
              "    }\n",
              "\n",
              "    .dataframe thead th {\n",
              "        text-align: right;\n",
              "    }\n",
              "</style>\n",
              "<table border=\"1\" class=\"dataframe\">\n",
              "  <thead>\n",
              "    <tr style=\"text-align: right;\">\n",
              "      <th></th>\n",
              "      <th>eventID</th>\n",
              "      <th>Agency</th>\n",
              "      <th>year</th>\n",
              "      <th>month</th>\n",
              "      <th>day</th>\n",
              "      <th>hour</th>\n",
              "      <th>minute</th>\n",
              "      <th>second</th>\n",
              "      <th>timeError</th>\n",
              "      <th>longitude</th>\n",
              "      <th>...</th>\n",
              "      <th>agency_conv</th>\n",
              "      <th>orig_mag</th>\n",
              "      <th>orig_MagType</th>\n",
              "      <th>cluster_index</th>\n",
              "      <th>cluster_flag</th>\n",
              "      <th>dtime</th>\n",
              "      <th>completeness</th>\n",
              "      <th>year_comp</th>\n",
              "      <th>CompZone</th>\n",
              "      <th>crust_sub</th>\n",
              "    </tr>\n",
              "  </thead>\n",
              "  <tbody>\n",
              "    <tr>\n",
              "      <th>0</th>\n",
              "      <td>210</td>\n",
              "      <td>AHEAD</td>\n",
              "      <td>1000</td>\n",
              "      <td>3</td>\n",
              "      <td>29</td>\n",
              "      <td>0</td>\n",
              "      <td>0</td>\n",
              "      <td>0.00</td>\n",
              "      <td>NaN</td>\n",
              "      <td>4.2370</td>\n",
              "      <td>...</td>\n",
              "      <td>Mw</td>\n",
              "      <td>3.7</td>\n",
              "      <td>Mw</td>\n",
              "      <td>0</td>\n",
              "      <td>0</td>\n",
              "      <td>1000.238356</td>\n",
              "      <td>0.0</td>\n",
              "      <td>NaN</td>\n",
              "      <td>FRAB</td>\n",
              "      <td>Crustal</td>\n",
              "    </tr>\n",
              "    <tr>\n",
              "      <th>1</th>\n",
              "      <td>360</td>\n",
              "      <td>AHEAD</td>\n",
              "      <td>1003</td>\n",
              "      <td>3</td>\n",
              "      <td>21</td>\n",
              "      <td>0</td>\n",
              "      <td>0</td>\n",
              "      <td>0.00</td>\n",
              "      <td>NaN</td>\n",
              "      <td>38.8000</td>\n",
              "      <td>...</td>\n",
              "      <td>Mw</td>\n",
              "      <td>6.2</td>\n",
              "      <td>Mw</td>\n",
              "      <td>0</td>\n",
              "      <td>0</td>\n",
              "      <td>1003.216438</td>\n",
              "      <td>0.0</td>\n",
              "      <td>NaN</td>\n",
              "      <td>ETUR</td>\n",
              "      <td>Crustal</td>\n",
              "    </tr>\n",
              "    <tr>\n",
              "      <th>2</th>\n",
              "      <td>600</td>\n",
              "      <td>AHEAD</td>\n",
              "      <td>1005</td>\n",
              "      <td>1</td>\n",
              "      <td>1</td>\n",
              "      <td>0</td>\n",
              "      <td>0</td>\n",
              "      <td>0.00</td>\n",
              "      <td>NaN</td>\n",
              "      <td>13.8310</td>\n",
              "      <td>...</td>\n",
              "      <td>Mw</td>\n",
              "      <td>5.2</td>\n",
              "      <td>Mw</td>\n",
              "      <td>0</td>\n",
              "      <td>0</td>\n",
              "      <td>1005.000000</td>\n",
              "      <td>0.0</td>\n",
              "      <td>NaN</td>\n",
              "      <td>MEDB</td>\n",
              "      <td>Crustal</td>\n",
              "    </tr>\n",
              "    <tr>\n",
              "      <th>3</th>\n",
              "      <td>500</td>\n",
              "      <td>AHEAD</td>\n",
              "      <td>1005</td>\n",
              "      <td>1</td>\n",
              "      <td>1</td>\n",
              "      <td>0</td>\n",
              "      <td>0</td>\n",
              "      <td>0.00</td>\n",
              "      <td>NaN</td>\n",
              "      <td>11.8790</td>\n",
              "      <td>...</td>\n",
              "      <td>Mw</td>\n",
              "      <td>5.2</td>\n",
              "      <td>Mw</td>\n",
              "      <td>0</td>\n",
              "      <td>0</td>\n",
              "      <td>1005.000000</td>\n",
              "      <td>0.0</td>\n",
              "      <td>NaN</td>\n",
              "      <td>CITA</td>\n",
              "      <td>Crustal</td>\n",
              "    </tr>\n",
              "    <tr>\n",
              "      <th>4</th>\n",
              "      <td>10080427180</td>\n",
              "      <td>AmbraseysandMelville</td>\n",
              "      <td>1008</td>\n",
              "      <td>4</td>\n",
              "      <td>27</td>\n",
              "      <td>18</td>\n",
              "      <td>0</td>\n",
              "      <td>0.00</td>\n",
              "      <td>NaN</td>\n",
              "      <td>47.4000</td>\n",
              "      <td>...</td>\n",
              "      <td>Ms_Mw</td>\n",
              "      <td>7.0</td>\n",
              "      <td>Ms</td>\n",
              "      <td>0</td>\n",
              "      <td>0</td>\n",
              "      <td>1008.321721</td>\n",
              "      <td>0.0</td>\n",
              "      <td>NaN</td>\n",
              "      <td>ZAGROS</td>\n",
              "      <td>Crustal</td>\n",
              "    </tr>\n",
              "    <tr>\n",
              "      <th>...</th>\n",
              "      <td>...</td>\n",
              "      <td>...</td>\n",
              "      <td>...</td>\n",
              "      <td>...</td>\n",
              "      <td>...</td>\n",
              "      <td>...</td>\n",
              "      <td>...</td>\n",
              "      <td>...</td>\n",
              "      <td>...</td>\n",
              "      <td>...</td>\n",
              "      <td>...</td>\n",
              "      <td>...</td>\n",
              "      <td>...</td>\n",
              "      <td>...</td>\n",
              "      <td>...</td>\n",
              "      <td>...</td>\n",
              "      <td>...</td>\n",
              "      <td>...</td>\n",
              "      <td>...</td>\n",
              "      <td>...</td>\n",
              "      <td>...</td>\n",
              "    </tr>\n",
              "    <tr>\n",
              "      <th>1719974</th>\n",
              "      <td>618589977</td>\n",
              "      <td>MDD_MDD</td>\n",
              "      <td>2020</td>\n",
              "      <td>6</td>\n",
              "      <td>25</td>\n",
              "      <td>3</td>\n",
              "      <td>51</td>\n",
              "      <td>12.70</td>\n",
              "      <td>NaN</td>\n",
              "      <td>-9.5980</td>\n",
              "      <td>...</td>\n",
              "      <td>Mb_MDD_Mw</td>\n",
              "      <td>3.1</td>\n",
              "      <td>Mb</td>\n",
              "      <td>0</td>\n",
              "      <td>0</td>\n",
              "      <td>2020.437904</td>\n",
              "      <td>1.0</td>\n",
              "      <td>1978.0</td>\n",
              "      <td>OFFP</td>\n",
              "      <td>Crustal</td>\n",
              "    </tr>\n",
              "    <tr>\n",
              "      <th>1719975</th>\n",
              "      <td>618589982</td>\n",
              "      <td>BUC_BUC</td>\n",
              "      <td>2020</td>\n",
              "      <td>6</td>\n",
              "      <td>25</td>\n",
              "      <td>5</td>\n",
              "      <td>42</td>\n",
              "      <td>41.89</td>\n",
              "      <td>NaN</td>\n",
              "      <td>23.1581</td>\n",
              "      <td>...</td>\n",
              "      <td>Ml_BUC_Mw</td>\n",
              "      <td>3.3</td>\n",
              "      <td>Ml_ROM_BUC</td>\n",
              "      <td>0</td>\n",
              "      <td>0</td>\n",
              "      <td>2020.437979</td>\n",
              "      <td>1.0</td>\n",
              "      <td>1977.0</td>\n",
              "      <td>SBAL</td>\n",
              "      <td>Crustal</td>\n",
              "    </tr>\n",
              "    <tr>\n",
              "      <th>1719976</th>\n",
              "      <td>618589983</td>\n",
              "      <td>MDD_MDD</td>\n",
              "      <td>2020</td>\n",
              "      <td>6</td>\n",
              "      <td>25</td>\n",
              "      <td>5</td>\n",
              "      <td>47</td>\n",
              "      <td>35.61</td>\n",
              "      <td>NaN</td>\n",
              "      <td>-4.6010</td>\n",
              "      <td>...</td>\n",
              "      <td>Mb_MDD_Mw</td>\n",
              "      <td>3.7</td>\n",
              "      <td>Mb</td>\n",
              "      <td>0</td>\n",
              "      <td>0</td>\n",
              "      <td>2020.438069</td>\n",
              "      <td>1.0</td>\n",
              "      <td>1973.0</td>\n",
              "      <td>BECA</td>\n",
              "      <td>Crustal</td>\n",
              "    </tr>\n",
              "    <tr>\n",
              "      <th>1719977</th>\n",
              "      <td>618589986</td>\n",
              "      <td>NEIC_NEIC</td>\n",
              "      <td>2020</td>\n",
              "      <td>6</td>\n",
              "      <td>25</td>\n",
              "      <td>6</td>\n",
              "      <td>8</td>\n",
              "      <td>12.00</td>\n",
              "      <td>NaN</td>\n",
              "      <td>-68.9540</td>\n",
              "      <td>...</td>\n",
              "      <td>M_NEIC_Mw</td>\n",
              "      <td>3.8</td>\n",
              "      <td>M</td>\n",
              "      <td>101991</td>\n",
              "      <td>0</td>\n",
              "      <td>2020.438157</td>\n",
              "      <td>1.0</td>\n",
              "      <td>1994.0</td>\n",
              "      <td>CARAB</td>\n",
              "      <td>DeepEvents</td>\n",
              "    </tr>\n",
              "    <tr>\n",
              "      <th>1719978</th>\n",
              "      <td>618590067</td>\n",
              "      <td>NEIC_NEIC</td>\n",
              "      <td>2020</td>\n",
              "      <td>6</td>\n",
              "      <td>25</td>\n",
              "      <td>11</td>\n",
              "      <td>31</td>\n",
              "      <td>16.00</td>\n",
              "      <td>NaN</td>\n",
              "      <td>153.6660</td>\n",
              "      <td>...</td>\n",
              "      <td>M_NEIC_Mw</td>\n",
              "      <td>4.8</td>\n",
              "      <td>M</td>\n",
              "      <td>0</td>\n",
              "      <td>0</td>\n",
              "      <td>2020.438254</td>\n",
              "      <td>1.0</td>\n",
              "      <td>1996.0</td>\n",
              "      <td>SOLOMON</td>\n",
              "      <td>DeepEvents</td>\n",
              "    </tr>\n",
              "  </tbody>\n",
              "</table>\n",
              "<p>1719979 rows × 32 columns</p>\n",
              "</div>"
            ],
            "text/plain": [
              "             eventID                Agency  year  month  day  hour  minute  \\\n",
              "0                210                 AHEAD  1000      3   29     0       0   \n",
              "1                360                 AHEAD  1003      3   21     0       0   \n",
              "2                600                 AHEAD  1005      1    1     0       0   \n",
              "3                500                 AHEAD  1005      1    1     0       0   \n",
              "4        10080427180  AmbraseysandMelville  1008      4   27    18       0   \n",
              "...              ...                   ...   ...    ...  ...   ...     ...   \n",
              "1719974    618589977               MDD_MDD  2020      6   25     3      51   \n",
              "1719975    618589982               BUC_BUC  2020      6   25     5      42   \n",
              "1719976    618589983               MDD_MDD  2020      6   25     5      47   \n",
              "1719977    618589986             NEIC_NEIC  2020      6   25     6       8   \n",
              "1719978    618590067             NEIC_NEIC  2020      6   25    11      31   \n",
              "\n",
              "         second  timeError  longitude  ...  agency_conv orig_mag orig_MagType  \\\n",
              "0          0.00        NaN     4.2370  ...           Mw      3.7           Mw   \n",
              "1          0.00        NaN    38.8000  ...           Mw      6.2           Mw   \n",
              "2          0.00        NaN    13.8310  ...           Mw      5.2           Mw   \n",
              "3          0.00        NaN    11.8790  ...           Mw      5.2           Mw   \n",
              "4          0.00        NaN    47.4000  ...        Ms_Mw      7.0           Ms   \n",
              "...         ...        ...        ...  ...          ...      ...          ...   \n",
              "1719974   12.70        NaN    -9.5980  ...    Mb_MDD_Mw      3.1           Mb   \n",
              "1719975   41.89        NaN    23.1581  ...    Ml_BUC_Mw      3.3   Ml_ROM_BUC   \n",
              "1719976   35.61        NaN    -4.6010  ...    Mb_MDD_Mw      3.7           Mb   \n",
              "1719977   12.00        NaN   -68.9540  ...    M_NEIC_Mw      3.8            M   \n",
              "1719978   16.00        NaN   153.6660  ...    M_NEIC_Mw      4.8            M   \n",
              "\n",
              "         cluster_index  cluster_flag        dtime completeness  year_comp  \\\n",
              "0                    0             0  1000.238356          0.0        NaN   \n",
              "1                    0             0  1003.216438          0.0        NaN   \n",
              "2                    0             0  1005.000000          0.0        NaN   \n",
              "3                    0             0  1005.000000          0.0        NaN   \n",
              "4                    0             0  1008.321721          0.0        NaN   \n",
              "...                ...           ...          ...          ...        ...   \n",
              "1719974              0             0  2020.437904          1.0     1978.0   \n",
              "1719975              0             0  2020.437979          1.0     1977.0   \n",
              "1719976              0             0  2020.438069          1.0     1973.0   \n",
              "1719977         101991             0  2020.438157          1.0     1994.0   \n",
              "1719978              0             0  2020.438254          1.0     1996.0   \n",
              "\n",
              "         CompZone   crust_sub  \n",
              "0            FRAB     Crustal  \n",
              "1            ETUR     Crustal  \n",
              "2            MEDB     Crustal  \n",
              "3            CITA     Crustal  \n",
              "4          ZAGROS     Crustal  \n",
              "...           ...         ...  \n",
              "1719974      OFFP     Crustal  \n",
              "1719975      SBAL     Crustal  \n",
              "1719976      BECA     Crustal  \n",
              "1719977     CARAB  DeepEvents  \n",
              "1719978   SOLOMON  DeepEvents  \n",
              "\n",
              "[1719979 rows x 32 columns]"
            ]
          },
          "execution_count": 187,
          "metadata": {},
          "output_type": "execute_result"
        }
      ],
      "source": [
        "eq_df = pd.read_csv(r\"D:\\NDIS_Database\\02_Earthquake\\eq_database_complete.csv\") # Load earthquake data\n",
        "eq_df"
      ]
    },
    {
      "cell_type": "code",
      "execution_count": null,
      "metadata": {
        "id": "pR3QxGHVyosk",
        "outputId": "15c56e5b-d98d-4dd3-a249-12c0b743dfd4"
      },
      "outputs": [
        {
          "name": "stdout",
          "output_type": "stream",
          "text": [
            "<class 'pandas.core.frame.DataFrame'>\n",
            "RangeIndex: 1719979 entries, 0 to 1719978\n",
            "Data columns (total 32 columns):\n",
            " #   Column          Dtype  \n",
            "---  ------          -----  \n",
            " 0   eventID         int64  \n",
            " 1   Agency          object \n",
            " 2   year            int64  \n",
            " 3   month           int64  \n",
            " 4   day             int64  \n",
            " 5   hour            int64  \n",
            " 6   minute          int64  \n",
            " 7   second          float64\n",
            " 8   timeError       float64\n",
            " 9   longitude       float64\n",
            " 10  latitude        float64\n",
            " 11  SemiMajor90     object \n",
            " 12  SemiMinor90     object \n",
            " 13  ErrorStrike     float64\n",
            " 14  depth           float64\n",
            " 15  depthError      float64\n",
            " 16  depthfix        object \n",
            " 17  magnitude       float64\n",
            " 18  sigmaMagnitude  float64\n",
            " 19  magnitudeType   object \n",
            " 20  catName         object \n",
            " 21  conv_method     object \n",
            " 22  agency_conv     object \n",
            " 23  orig_mag        float64\n",
            " 24  orig_MagType    object \n",
            " 25  cluster_index   int64  \n",
            " 26  cluster_flag    int64  \n",
            " 27  dtime           float64\n",
            " 28  completeness    float64\n",
            " 29  year_comp       float64\n",
            " 30  CompZone        object \n",
            " 31  crust_sub       object \n",
            "dtypes: float64(13), int64(8), object(11)\n",
            "memory usage: 419.9+ MB\n"
          ]
        }
      ],
      "source": [
        "eq_df.info()"
      ]
    },
    {
      "cell_type": "code",
      "execution_count": null,
      "metadata": {
        "id": "hdsiXquJyosk",
        "outputId": "b650802d-0e80-4f56-e8a0-113b1e3e1330"
      },
      "outputs": [
        {
          "name": "stdout",
          "output_type": "stream",
          "text": [
            "<class 'pandas.core.frame.DataFrame'>\n",
            "RangeIndex: 1719979 entries, 0 to 1719978\n",
            "Data columns (total 3 columns):\n",
            " #   Column     Dtype  \n",
            "---  ------     -----  \n",
            " 0   eventID    int64  \n",
            " 1   magnitude  float64\n",
            " 2   depth      float64\n",
            "dtypes: float64(2), int64(1)\n",
            "memory usage: 39.4 MB\n"
          ]
        }
      ],
      "source": [
        "# Select specific columns\n",
        "eq_df = eq_df[['eventID', 'magnitude','depth']].copy()\n",
        "eq_df.info()"
      ]
    },
    {
      "cell_type": "code",
      "execution_count": null,
      "metadata": {
        "id": "Xq6hxzo7yosl"
      },
      "outputs": [],
      "source": [
        "eq_df[\"intensity\"] = pd.cut(\n",
        "    eq_df[\"magnitude\"],\n",
        "    bins=[-float(\"inf\"), 3.5, 5.0, 6.0, 7.0, float(\"inf\")],\n",
        "    labels=[1, 2, 3, 4, 5],\n",
        "    include_lowest=True).astype(int)"
      ]
    },
    {
      "cell_type": "code",
      "execution_count": null,
      "metadata": {
        "id": "bJwndsyuyosl"
      },
      "outputs": [],
      "source": [
        "# Depth-based adjustment\n",
        "depth = eq_df[\"depth\"].fillna(70)  # default to midrange if missing\n",
        "\n",
        "depth_adj = np.select(\n",
        "    [\n",
        "        depth < 10,\n",
        "        (depth >= 10) & (depth < 70),\n",
        "        (depth >= 70) & (depth < 300),\n",
        "        depth >= 300\n",
        "    ],\n",
        "    [1, 0, -1, -2],\n",
        "    default=0\n",
        ")\n",
        "\n",
        "# Adjust intensity and clip to 1–5\n",
        "eq_df[\"intensity\"] = np.clip(eq_df[\"intensity\"] + depth_adj, 1, 5)"
      ]
    },
    {
      "cell_type": "code",
      "execution_count": null,
      "metadata": {
        "id": "3xRjzOXQyosm"
      },
      "outputs": [],
      "source": [
        "# Fix for nan RF input\n",
        "# eq_df[\"intensity\"] = pd.cut(eq_df[\"magnitude\"], bins=[0, 3.9, 5.9, 6.9, 10], labels=[1, 2, 3, 4])"
      ]
    },
    {
      "cell_type": "code",
      "execution_count": null,
      "metadata": {
        "id": "QcC76ksnyosm",
        "outputId": "745356c2-bde2-4f0a-fc96-ce4219cf9822"
      },
      "outputs": [
        {
          "data": {
            "text/plain": [
              "array([3, 5, 4, 2, 1])"
            ]
          },
          "execution_count": 244,
          "metadata": {},
          "output_type": "execute_result"
        }
      ],
      "source": [
        "eq_df[\"intensity\"].unique()"
      ]
    },
    {
      "cell_type": "code",
      "execution_count": null,
      "metadata": {
        "id": "jWmMb-6Lyosn"
      },
      "outputs": [],
      "source": [
        "# Predefine min/max for each intensity level\n",
        "dur_map = {\n",
        "    1: (0.2, 0.5),\n",
        "    2: (0.5, 1),\n",
        "    3: (1, 2),\n",
        "    4: (2, 4),\n",
        "    5: (4, 10),\n",
        "}\n",
        "\n",
        "# Map min and max duration arrays\n",
        "intensities = eq_df[\"intensity\"].to_numpy()\n",
        "min_dur = np.array([dur_map[i][0] for i in intensities])\n",
        "max_dur = np.array([dur_map[i][1] for i in intensities])\n",
        "\n",
        "# Vectorized random duration sampling\n",
        "rng = np.random.default_rng(seed=42)\n",
        "durations = rng.uniform(min_dur, max_dur)\n",
        "\n",
        "# Store duration in minutes\n",
        "eq_df[\"duration_minutes\"] = np.round(durations, 2)"
      ]
    },
    {
      "cell_type": "code",
      "execution_count": null,
      "metadata": {
        "id": "kgNXRy1Kyosn"
      },
      "outputs": [],
      "source": [
        "econ_ranges = {\n",
        "    1: (0.01, 0.1),\n",
        "    2: (0.1, 5),\n",
        "    3: (5, 50),\n",
        "    4: (50, 500),\n",
        "    5: (500, 5000)\n",
        "}\n",
        "\n",
        "# Vectorized econ loss using NumPy\n",
        "min_econ = np.array([econ_ranges[i][0] for i in intensities])\n",
        "max_econ = np.array([econ_ranges[i][1] for i in intensities])\n",
        "#pop_array = eq_df[\"pop\"].fillna(1e6).to_numpy()  # fallback if pop missing\n",
        "\n",
        "econ_loss = rng.uniform(min_econ, max_econ) * (pop / 1e6)\n",
        "eq_df[\"economic_loss_million\"] = np.round(econ_loss, 2)"
      ]
    },
    {
      "cell_type": "code",
      "execution_count": null,
      "metadata": {
        "id": "xqb5VsDWyoso",
        "outputId": "57d3ed71-fde5-4a3a-aa57-dd0008d9c89d"
      },
      "outputs": [
        {
          "name": "stdout",
          "output_type": "stream",
          "text": [
            "<class 'geopandas.geodataframe.GeoDataFrame'>\n",
            "RangeIndex: 1655703 entries, 0 to 1655702\n",
            "Data columns (total 12 columns):\n",
            " #   Column                 Non-Null Count    Dtype   \n",
            "---  ------                 --------------    -----   \n",
            " 0   HazardID               1655703 non-null  int64   \n",
            " 1   latitude               1655703 non-null  float64 \n",
            " 2   longitude              1655703 non-null  float64 \n",
            " 3   HazardType             1655703 non-null  int64   \n",
            " 4   distance               1655703 non-null  float64 \n",
            " 5   geometry               1655703 non-null  geometry\n",
            " 6   pop                    1655703 non-null  float64 \n",
            " 7   magnitude              1636279 non-null  float64 \n",
            " 8   depth                  1614980 non-null  float64 \n",
            " 9   intensity              1636279 non-null  float64 \n",
            " 10  duration_minutes       1636279 non-null  float64 \n",
            " 11  economic_loss_million  1636279 non-null  float64 \n",
            "dtypes: float64(9), geometry(1), int64(2)\n",
            "memory usage: 151.6 MB\n"
          ]
        }
      ],
      "source": [
        "# Merge data to main tsunami in database\n",
        "# 1. Ensure keys match (rename 'ev_id' to 'HazardID' if needed)\n",
        "#eq_df = eq_df.rename(columns={\"eventID\": \"HazardID\"})\n",
        "\n",
        "# 2. Select only the fields to bring over\n",
        "#fields_to_merge = [\"HazardID\", \"intensity\", \"duration_minutes\"]\n",
        "\n",
        "# # 3. Merge into filtered main_db tsunami records\n",
        "eq_db = main_db[main_db[\"HazardType\"] == 5].copy()\n",
        "\n",
        "# 4. Merge attributes\n",
        "eq_db = eq_db.merge(\n",
        "    eq_df,\n",
        "    on=\"HazardID\",\n",
        "    how=\"left\"\n",
        ")\n",
        "eq_db.info()"
      ]
    },
    {
      "cell_type": "code",
      "execution_count": null,
      "metadata": {
        "id": "JDZduQFFyoso"
      },
      "outputs": [],
      "source": [
        "eq_db.to_csv(r\"D:\\NDIS_Database\\02_Earthquake\\eq_rf.csv\", index=False)"
      ]
    },
    {
      "cell_type": "code",
      "execution_count": null,
      "metadata": {
        "id": "D1R2qDWyyosp",
        "outputId": "5b590498-78da-4d81-b2c6-ce9cdac5e2b2"
      },
      "outputs": [
        {
          "name": "stdout",
          "output_type": "stream",
          "text": [
            "<class 'geopandas.geodataframe.GeoDataFrame'>\n",
            "RangeIndex: 172823 entries, 0 to 172822\n",
            "Data columns (total 27 columns):\n",
            " #   Column      Non-Null Count   Dtype   \n",
            "---  ------      --------------   -----   \n",
            " 0   Id          172823 non-null  int64   \n",
            " 1   ORIG_FID    172823 non-null  int64   \n",
            " 2   average_di  79883 non-null   object  \n",
            " 3   average_ra  51397 non-null   object  \n",
            " 4   catalog_id  172823 non-null  object  \n",
            " 5   catalog_na  172823 non-null  object  \n",
            " 6   dip_dir     35041 non-null   object  \n",
            " 7   lower_seis  53437 non-null   object  \n",
            " 8   name        44202 non-null   object  \n",
            " 9   net_slip_r  110314 non-null  object  \n",
            " 10  slip_type   169593 non-null  object  \n",
            " 11  upper_seis  60927 non-null   object  \n",
            " 12  reference   25748 non-null   object  \n",
            " 13  epistemic_  72806 non-null   object  \n",
            " 14  accuracy    19508 non-null   object  \n",
            " 15  activity_c  69506 non-null   object  \n",
            " 16  fs_name     20954 non-null   object  \n",
            " 17  last_movem  8338 non-null    object  \n",
            " 18  downthrown  11368 non-null   object  \n",
            " 19  vert_sep_r  1434 non-null    object  \n",
            " 20  strike_sli  49459 non-null   object  \n",
            " 21  exposure_q  31349 non-null   object  \n",
            " 22  shortening  48621 non-null   object  \n",
            " 23  notes       5873 non-null    object  \n",
            " 24  downthro_1  5581 non-null    object  \n",
            " 25  fault_type  0 non-null       object  \n",
            " 26  geometry    172823 non-null  geometry\n",
            "dtypes: geometry(1), int64(2), object(24)\n",
            "memory usage: 35.6+ MB\n"
          ]
        }
      ],
      "source": [
        "# Read the shapefile from local disk\n",
        "fault_df = gpd.read_file(r\"D:/NDIS_Database/05_Fault/fault_points_wgs84.shp\")\n",
        "fault_df.info()"
      ]
    },
    {
      "cell_type": "code",
      "execution_count": null,
      "metadata": {
        "id": "8UndkfF7yosp"
      },
      "outputs": [],
      "source": [
        "# Round to 5–6 decimals to avoid micro mismatches\n",
        "fault_db[\"lat_rounded\"] = fault_db[\"latitude\"].round(6)\n",
        "fault_db[\"lon_rounded\"] = fault_db[\"longitude\"].round(6)\n",
        "\n",
        "fault_df[\"lat_rounded\"] = fault_df[\"latitude\"].round(6)\n",
        "fault_df[\"lon_rounded\"] = fault_df[\"longitude\"].round(6)"
      ]
    },
    {
      "cell_type": "code",
      "execution_count": null,
      "metadata": {
        "id": "-vciYCkYyosq",
        "outputId": "33ef7b5b-f432-4f1e-9d30-875e4cede6c8"
      },
      "outputs": [
        {
          "name": "stdout",
          "output_type": "stream",
          "text": [
            "<class 'geopandas.geodataframe.GeoDataFrame'>\n",
            "RangeIndex: 149669 entries, 0 to 149668\n",
            "Data columns (total 16 columns):\n",
            " #   Column       Non-Null Count   Dtype   \n",
            "---  ------       --------------   -----   \n",
            " 0   HazardID     149669 non-null  int64   \n",
            " 1   latitude     149669 non-null  float64 \n",
            " 2   longitude    149669 non-null  float64 \n",
            " 3   HazardType   149669 non-null  int64   \n",
            " 4   distance     149669 non-null  float64 \n",
            " 5   geometry     149669 non-null  geometry\n",
            " 6   pop          149669 non-null  float64 \n",
            " 7   lat_rounded  149669 non-null  float64 \n",
            " 8   lon_rounded  149669 non-null  float64 \n",
            " 9   average_di   80735 non-null   object  \n",
            " 10  net_slip_r   86912 non-null   object  \n",
            " 11  vert_sep_r   1434 non-null    object  \n",
            " 12  epistemic_   47460 non-null   object  \n",
            " 13  shortening   23123 non-null   object  \n",
            " 14  downthrown   11361 non-null   object  \n",
            " 15  dip_dir      35949 non-null   object  \n",
            "dtypes: float64(6), geometry(1), int64(2), object(7)\n",
            "memory usage: 18.3+ MB\n"
          ]
        }
      ],
      "source": [
        "fault_db = fault_db.merge(\n",
        "    fault_df[[\n",
        "        \"lat_rounded\", \"lon_rounded\",\n",
        "        \"average_di\", \"net_slip_r\", \"vert_sep_r\",\n",
        "        \"epistemic_\", \"shortening\", \"downthrown\", \"dip_dir\"\n",
        "    ]],\n",
        "    on=[\"lat_rounded\", \"lon_rounded\"],\n",
        "    how=\"left\"\n",
        ")\n",
        "fault_db.info()"
      ]
    },
    {
      "cell_type": "code",
      "execution_count": null,
      "metadata": {
        "id": "0JGxhfX_yosr",
        "outputId": "24016426-72f4-40e6-e90d-a5c9f0edb7aa"
      },
      "outputs": [
        {
          "name": "stdout",
          "output_type": "stream",
          "text": [
            "HazardID\n",
            "1773267385    5\n",
            "1772219305    5\n",
            "1777986587    5\n",
            "1773792193    5\n",
            "1775888805    5\n",
            "             ..\n",
            "1775650612    2\n",
            "1775650601    2\n",
            "1779728103    2\n",
            "1775370203    2\n",
            "1779773368    2\n",
            "Name: count, Length: 5444, dtype: int64\n"
          ]
        }
      ],
      "source": [
        "dupesf = fault_db[\"HazardID\"].value_counts()\n",
        "print(dupesf[dupesf > 1])"
      ]
    },
    {
      "cell_type": "markdown",
      "metadata": {
        "id": "81C5-lXUyosr"
      },
      "source": [
        "### Engineer Intensity, Urgency and Economic loss for fault"
      ]
    },
    {
      "cell_type": "code",
      "execution_count": null,
      "metadata": {
        "id": "TT0JnfJhyosr"
      },
      "outputs": [],
      "source": [
        "# Intensity: Fill missing inputs\n",
        "fault_db[\"average_di\"] = pd.to_numeric(fault_db[\"average_di\"], errors=\"coerce\").fillna(0)\n",
        "fault_db[\"net_slip_r\"] = pd.to_numeric(fault_db[\"net_slip_r\"], errors=\"coerce\").fillna(0)\n",
        "fault_db[\"vert_sep_r\"] = pd.to_numeric(fault_db[\"vert_sep_r\"], errors=\"coerce\").fillna(0)"
      ]
    },
    {
      "cell_type": "code",
      "execution_count": null,
      "metadata": {
        "id": "FyS-gAD-yoss"
      },
      "outputs": [],
      "source": [
        "fault_score = (\n",
        "    (fault_db[\"average_di\"] / 90.0) * 0.3 +\n",
        "    (fault_db[\"net_slip_r\"] / 100.0) * 0.4 +\n",
        "    (fault_db[\"vert_sep_r\"] / 50.0) * 0.3\n",
        ")\n",
        "\n",
        "# Scale to 1–5 range\n",
        "fault_db[\"intensity\"] = pd.cut(\n",
        "    fault_score,\n",
        "    bins=[-float(\"inf\"), 0.1, 0.3, 0.6, 0.9, float(\"inf\")],\n",
        "    labels=[1, 2, 3, 4, 5]\n",
        ").astype(\"Int64\")\n",
        "# Duration: Fill NaN intensity with a default before mapping\n",
        "intensity_vals = fault_db[\"intensity\"].fillna(3).to_numpy()"
      ]
    },
    {
      "cell_type": "code",
      "execution_count": null,
      "metadata": {
        "id": "DBJ5Hsmayoss"
      },
      "outputs": [],
      "source": [
        "# Fault Duration (in minutes)\n",
        "duration_map = {\n",
        "    1: (60, 180),\n",
        "    2: (180, 360),\n",
        "    3: (360, 720),\n",
        "    4: (720, 1440),\n",
        "    5: (1440, 2880)\n",
        "}\n",
        "\n",
        "intensity_vals = fault_db[\"intensity\"].fillna(3).to_numpy()\n",
        "rng = np.random.default_rng(seed=42)\n",
        "\n",
        "min_dur = np.array([duration_map[i][0] for i in intensity_vals])\n",
        "max_dur = np.array([duration_map[i][1] for i in intensity_vals])\n",
        "\n",
        "fault_db[\"duration_minutes\"] = np.round(rng.uniform(min_dur, max_dur), 2)"
      ]
    },
    {
      "cell_type": "code",
      "execution_count": null,
      "metadata": {
        "id": "PqXSu8V2yost"
      },
      "outputs": [],
      "source": [
        "# Simulated Economic Loss\n",
        "fault_db[\"pop\"] = fault_db[\"pop\"].fillna(1e6)\n",
        "\n",
        "econ_map = {\n",
        "    1: (0.1, 2),\n",
        "    2: (2, 10),\n",
        "    3: (10, 50),\n",
        "    4: (50, 200),\n",
        "    5: (200, 1000)\n",
        "}\n",
        "\n",
        "min_econ = np.array([econ_map[i][0] for i in intensity_vals])\n",
        "max_econ = np.array([econ_map[i][1] for i in intensity_vals])\n",
        "\n",
        "fault_db[\"economic_loss_million\"] = np.round(\n",
        "    rng.uniform(min_econ, max_econ) * (fault_db[\"pop\"] / 1e6), 2\n",
        ")\n"
      ]
    },
    {
      "cell_type": "code",
      "execution_count": null,
      "metadata": {
        "id": "HUTjNyiXyost"
      },
      "outputs": [],
      "source": [
        "# Economic Loss: Fallback for population, if pop is na\n",
        "# fault_db[\"pop\"] = fault_db[\"pop\"].fillna(1e6)"
      ]
    },
    {
      "cell_type": "code",
      "execution_count": null,
      "metadata": {
        "id": "cjjxMuYmyost"
      },
      "outputs": [],
      "source": [
        "# Keep only one row per HazardID (e.g., first)\n",
        "fault_db_dedup = fault_db.drop_duplicates(subset=\"HazardID\", keep=\"first\")"
      ]
    },
    {
      "cell_type": "code",
      "execution_count": null,
      "metadata": {
        "id": "8DSB7itMyost",
        "outputId": "6b577bc8-3efe-4513-feb8-2944a5e19088"
      },
      "outputs": [
        {
          "name": "stdout",
          "output_type": "stream",
          "text": [
            "<class 'pandas.core.frame.DataFrame'>\n",
            "Index: 143519 entries, 0 to 149668\n",
            "Data columns (total 9 columns):\n",
            " #   Column                 Non-Null Count   Dtype  \n",
            "---  ------                 --------------   -----  \n",
            " 0   HazardID               143519 non-null  int64  \n",
            " 1   latitude               143519 non-null  float64\n",
            " 2   longitude              143519 non-null  float64\n",
            " 3   HazardType             143519 non-null  int64  \n",
            " 4   distance               143519 non-null  float64\n",
            " 5   pop                    143519 non-null  float64\n",
            " 6   intensity              143519 non-null  Int64  \n",
            " 7   duration_minutes       143519 non-null  float64\n",
            " 8   economic_loss_million  143519 non-null  float64\n",
            "dtypes: Int64(1), float64(6), int64(2)\n",
            "memory usage: 11.1 MB\n"
          ]
        }
      ],
      "source": [
        "fault_features = fault_db_dedup[[\n",
        "    \"HazardID\", \"latitude\", \"longitude\", \"HazardType\", \"distance\",\n",
        "    \"pop\", \"intensity\", \"duration_minutes\", \"economic_loss_million\"\n",
        "]].copy()\n",
        "fault_features.info()"
      ]
    },
    {
      "cell_type": "code",
      "execution_count": null,
      "metadata": {
        "id": "kwOmNCXnyosu"
      },
      "outputs": [],
      "source": [
        "fault_features.to_csv(r\"D:\\NDIS_Database\\05_Fault\\fault_rf.csv\", index=False)"
      ]
    },
    {
      "cell_type": "markdown",
      "metadata": {
        "id": "LS-s8Dosyosu"
      },
      "source": [
        "# Stack datasets back into one DataFrame"
      ]
    },
    {
      "cell_type": "code",
      "execution_count": null,
      "metadata": {
        "id": "VLVPCbkByosu",
        "outputId": "738a7fe6-e880-4b92-9e96-600e4d8c80d1"
      },
      "outputs": [
        {
          "name": "stdout",
          "output_type": "stream",
          "text": [
            "<class 'pandas.core.frame.DataFrame'>\n",
            "RangeIndex: 1044 entries, 0 to 1043\n",
            "Data columns (total 13 columns):\n",
            " #   Column             Non-Null Count  Dtype  \n",
            "---  ------             --------------  -----  \n",
            " 0   HazardID           1044 non-null   Int64  \n",
            " 1   latitude           1044 non-null   float64\n",
            " 2   longitude          1044 non-null   float64\n",
            " 3   HazardType         1044 non-null   int64  \n",
            " 4   distance           1044 non-null   float64\n",
            " 5   pop                1044 non-null   float64\n",
            " 6   vei                1044 non-null   int64  \n",
            " 7   intensity          1044 non-null   int32  \n",
            " 8   min_duration       1044 non-null   int64  \n",
            " 9   max_duration       1044 non-null   int64  \n",
            " 10  avg_duration       1044 non-null   float64\n",
            " 11  eruption_count     1044 non-null   int64  \n",
            " 12  econ_loss_million  1044 non-null   float64\n",
            "dtypes: Int64(1), float64(6), int32(1), int64(5)\n",
            "memory usage: 103.1 KB\n"
          ]
        }
      ],
      "source": [
        "volcano_sc.info()"
      ]
    },
    {
      "cell_type": "code",
      "execution_count": null,
      "metadata": {
        "id": "g7lpmAcqyosv",
        "outputId": "d4cb47e2-bce4-4981-c4ff-76ad2b58ddf1"
      },
      "outputs": [
        {
          "name": "stdout",
          "output_type": "stream",
          "text": [
            "<class 'pandas.core.frame.DataFrame'>\n",
            "RangeIndex: 1044 entries, 0 to 1043\n",
            "Data columns (total 9 columns):\n",
            " #   Column                 Non-Null Count  Dtype  \n",
            "---  ------                 --------------  -----  \n",
            " 0   HazardID               1044 non-null   Int64  \n",
            " 1   latitude               1044 non-null   float64\n",
            " 2   longitude              1044 non-null   float64\n",
            " 3   HazardType             1044 non-null   int64  \n",
            " 4   distance               1044 non-null   float64\n",
            " 5   pop                    1044 non-null   float64\n",
            " 6   intensity              1044 non-null   int32  \n",
            " 7   duration_minutes       1044 non-null   float64\n",
            " 8   economic_loss_million  1044 non-null   float64\n",
            "dtypes: Int64(1), float64(6), int32(1), int64(1)\n",
            "memory usage: 70.5 KB\n"
          ]
        }
      ],
      "source": [
        "# Make a copy so we don't modify original\n",
        "volcano_trimmed = volcano_sc.rename(columns={\n",
        "    \"avg_duration\": \"duration_minutes\",\n",
        "    \"econ_loss_million\": \"economic_loss_million\"\n",
        "})[[\n",
        "    \"HazardID\", \"latitude\", \"longitude\", \"HazardType\", \"distance\",\n",
        "    \"pop\", \"intensity\", \"duration_minutes\", \"economic_loss_million\"\n",
        "]]\n",
        "volcano_trimmed.info()"
      ]
    },
    {
      "cell_type": "code",
      "execution_count": null,
      "metadata": {
        "id": "-tCr9L3Eyosv",
        "outputId": "7a675065-c4a6-4118-ab0a-ff23578a2766"
      },
      "outputs": [
        {
          "name": "stdout",
          "output_type": "stream",
          "text": [
            "<class 'pandas.core.frame.DataFrame'>\n",
            "RangeIndex: 1814699 entries, 0 to 1814698\n",
            "Data columns (total 9 columns):\n",
            " #   Column                 Dtype  \n",
            "---  ------                 -----  \n",
            " 0   HazardID               Int64  \n",
            " 1   latitude               float64\n",
            " 2   longitude              float64\n",
            " 3   HazardType             int64  \n",
            " 4   distance               float64\n",
            " 5   pop                    float64\n",
            " 6   intensity              Float64\n",
            " 7   duration_minutes       float64\n",
            " 8   economic_loss_million  float64\n",
            "dtypes: Float64(1), Int64(1), float64(6), int64(1)\n",
            "memory usage: 128.1 MB\n"
          ]
        }
      ],
      "source": [
        "all_hazards_df = pd.concat([\n",
        "    volcano_trimmed[[\n",
        "        \"HazardID\", \"latitude\", \"longitude\", \"HazardType\", \"distance\", \"pop\",\n",
        "        \"intensity\", \"duration_minutes\", \"economic_loss_million\"\n",
        "    ]],\n",
        "    landslide_db[[\n",
        "        \"HazardID\", \"latitude\", \"longitude\", \"HazardType\", \"distance\", \"pop\",\n",
        "        \"intensity\", \"duration_minutes\", \"economic_loss_million\"\n",
        "    ]],\n",
        "    tsunami_db[[\n",
        "        \"HazardID\", \"latitude\", \"longitude\", \"HazardType\", \"distance\", \"pop\",\n",
        "        \"intensity\", \"duration_minutes\", \"economic_loss_million\"\n",
        "    ]],\n",
        "    eq_db[[\n",
        "        \"HazardID\", \"latitude\", \"longitude\", \"HazardType\", \"distance\", \"pop\",\n",
        "        \"intensity\", \"duration_minutes\", \"economic_loss_million\"\n",
        "    ]],\n",
        "    fault_features[[\n",
        "        \"HazardID\", \"latitude\", \"longitude\", \"HazardType\", \"distance\", \"pop\",\n",
        "        \"intensity\", \"duration_minutes\", \"economic_loss_million\"\n",
        "    ]]\n",
        "], ignore_index=True)\n",
        "all_hazards_df.info()"
      ]
    },
    {
      "cell_type": "code",
      "execution_count": null,
      "metadata": {
        "id": "-KXNJfN1yosw"
      },
      "outputs": [],
      "source": [
        "all_hazards_df.to_csv(r\"D:\\NDIS_Database\\ghz_rf.csv\", index=False)"
      ]
    },
    {
      "cell_type": "markdown",
      "metadata": {
        "id": "EBKQHQqdyosw"
      },
      "source": [
        "# CPM Feature Engineering"
      ]
    },
    {
      "cell_type": "code",
      "execution_count": null,
      "metadata": {
        "id": "cEHTT_WCyosw",
        "outputId": "d960975f-23b9-415a-f946-2ed70ad88fe9"
      },
      "outputs": [
        {
          "name": "stdout",
          "output_type": "stream",
          "text": [
            "<class 'pandas.core.frame.DataFrame'>\n",
            "RangeIndex: 71 entries, 0 to 70\n",
            "Data columns (total 29 columns):\n",
            " #   Column              Non-Null Count  Dtype  \n",
            "---  ------              --------------  -----  \n",
            " 0   rpas_id             71 non-null     int64  \n",
            " 1   country             71 non-null     object \n",
            " 2   manufacturer        71 non-null     object \n",
            " 3   mfc_model           71 non-null     object \n",
            " 4   mtow                70 non-null     float64\n",
            " 5   length              65 non-null     float64\n",
            " 6   width               66 non-null     float64\n",
            " 7   height              60 non-null     float64\n",
            " 8   max_speed           69 non-null     float64\n",
            " 9   distance_range      71 non-null     int64  \n",
            " 10  flight_time         70 non-null     float64\n",
            " 11  max_payload_weight  70 non-null     float64\n",
            " 12  max_alt             47 non-null     float64\n",
            " 13  comm_range          62 non-null     float64\n",
            " 14  power_source        69 non-null     object \n",
            " 15  power               59 non-null     object \n",
            " 16  gps_accuracy        46 non-null     object \n",
            " 17  engine              62 non-null     object \n",
            " 18  configuration       71 non-null     object \n",
            " 19  flight_cont         53 non-null     object \n",
            " 20  materials           50 non-null     object \n",
            " 21  min_op_temp         56 non-null     float64\n",
            " 22  max_op_temp         55 non-null     float64\n",
            " 23  oas                 54 non-null     object \n",
            " 24  price               44 non-null     float64\n",
            " 25  reg                 63 non-null     object \n",
            " 26  def_payload         70 non-null     object \n",
            " 27  purpose             69 non-null     object \n",
            " 28  source              42 non-null     object \n",
            "dtypes: float64(12), int64(2), object(15)\n",
            "memory usage: 16.2+ KB\n",
            "<class 'pandas.core.frame.DataFrame'>\n",
            "RangeIndex: 12 entries, 0 to 11\n",
            "Data columns (total 5 columns):\n",
            " #   Column         Non-Null Count  Dtype \n",
            "---  ------         --------------  ----- \n",
            " 0   sensor_id      12 non-null     int64 \n",
            " 1   parameters     12 non-null     object\n",
            " 2   sensor_name    12 non-null     object\n",
            " 3   s_encoded      12 non-null     int64 \n",
            " 4   sensor_weight  12 non-null     int64 \n",
            "dtypes: int64(3), object(2)\n",
            "memory usage: 612.0+ bytes\n"
          ]
        }
      ],
      "source": [
        "# Load Drone and Sensor data\n",
        "drone_df = pd.read_csv(\"D:/NDIS_Database/rpas_nonan.csv\") # Shortlisted verison of RPAS gdb with no NaN data on distance\n",
        "sensor_df = pd.read_csv(\"D:/NDIS_Database/sensor.csv\") # Geophysical sensor list\n",
        "\n",
        "# Display the first few rows to verify\n",
        "drone_df.info()\n",
        "sensor_df.info()"
      ]
    },
    {
      "cell_type": "markdown",
      "metadata": {
        "id": "uFwKHfhUyosx"
      },
      "source": [
        "## Step 1: Sensor Selection (based on HazardType)"
      ]
    },
    {
      "cell_type": "code",
      "execution_count": null,
      "metadata": {
        "id": "sKgWr1CVyosx"
      },
      "outputs": [],
      "source": [
        "def select_sensor(hazard_type, distance):\n",
        "    # Exclude heavy sensors\n",
        "    excluded = [\"Radarpod\", \"BPR\"]\n",
        "\n",
        "    if hazard_type == 2:  # Landslide\n",
        "        if distance <= 100:\n",
        "            return \"GPR\"\n",
        "        else:\n",
        "            return \"Lidar\"\n",
        "    else:\n",
        "        return \"Seismic\""
      ]
    },
    {
      "cell_type": "code",
      "execution_count": null,
      "metadata": {
        "id": "FN2X7Jngyosx",
        "outputId": "687846d3-7036-4a15-cfa7-bd5e20b29867"
      },
      "outputs": [
        {
          "name": "stdout",
          "output_type": "stream",
          "text": [
            "<class 'pandas.core.frame.DataFrame'>\n",
            "RangeIndex: 1814699 entries, 0 to 1814698\n",
            "Data columns (total 9 columns):\n",
            " #   Column                 Dtype  \n",
            "---  ------                 -----  \n",
            " 0   HazardID               Int64  \n",
            " 1   latitude               float64\n",
            " 2   longitude              float64\n",
            " 3   HazardType             int64  \n",
            " 4   distance               float64\n",
            " 5   pop                    float64\n",
            " 6   intensity              Float64\n",
            " 7   duration_minutes       float64\n",
            " 8   economic_loss_million  float64\n",
            "dtypes: Float64(1), Int64(1), float64(6), int64(1)\n",
            "memory usage: 128.1 MB\n"
          ]
        }
      ],
      "source": [
        "geohazard_df = all_hazards_df.copy()\n",
        "geohazard_df.info()"
      ]
    },
    {
      "cell_type": "code",
      "execution_count": null,
      "metadata": {
        "id": "z7H2Ayl3yosy",
        "outputId": "dfeb0211-d7e6-4327-8fb7-776428397246"
      },
      "outputs": [
        {
          "name": "stdout",
          "output_type": "stream",
          "text": [
            "<class 'pandas.core.frame.DataFrame'>\n",
            "RangeIndex: 1814699 entries, 0 to 1814698\n",
            "Data columns (total 15 columns):\n",
            " #   Column                 Dtype  \n",
            "---  ------                 -----  \n",
            " 0   HazardID               Int64  \n",
            " 1   latitude               float64\n",
            " 2   longitude              float64\n",
            " 3   HazardType             int64  \n",
            " 4   distance               float64\n",
            " 5   pop                    float64\n",
            " 6   intensity              Float64\n",
            " 7   duration_minutes       float64\n",
            " 8   economic_loss_million  float64\n",
            " 9   selected_sensor        object \n",
            " 10  sensor_id              int64  \n",
            " 11  parameters             object \n",
            " 12  sensor_name            object \n",
            " 13  s_encoded              int64  \n",
            " 14  sensor_weight          int64  \n",
            "dtypes: Float64(1), Int64(1), float64(6), int64(4), object(3)\n",
            "memory usage: 211.1+ MB\n"
          ]
        }
      ],
      "source": [
        "# Step 1: Default all sensors to \"Seismic\"\n",
        "geohazard_df[\"selected_sensor\"] = \"Seismic\"\n",
        "\n",
        "# Step 2: Assign \"GPR\" to Landslides with distance ≤ 100m\n",
        "geohazard_df.loc[(geohazard_df[\"HazardType\"] == 2) & (geohazard_df[\"distance\"] <= 100), \"selected_sensor\"] = \"GPR\"\n",
        "\n",
        "# Step 3: Assign \"Lidar\" to Landslides with distance > 100m\n",
        "geohazard_df.loc[(geohazard_df[\"HazardType\"] == 2) & (geohazard_df[\"distance\"] > 100), \"selected_sensor\"] = \"Lidar\"\n",
        "\n",
        "# Step 4: Merge with Sensor Data to get sensor properties\n",
        "geohazard_df = geohazard_df.merge(sensor_df, left_on=\"selected_sensor\", right_on=\"sensor_name\", how=\"left\")\n",
        "\n",
        "geohazard_df.info()"
      ]
    },
    {
      "cell_type": "markdown",
      "metadata": {
        "id": "OGRStQ6Dyosy"
      },
      "source": [
        "## Step 2: Drone Matching (based on payload, range, fallback for small distances)"
      ]
    },
    {
      "cell_type": "code",
      "execution_count": null,
      "metadata": {
        "id": "T6oWhGGmyosz",
        "outputId": "d9d53b1f-f821-4db9-ef47-b915965b1ca6"
      },
      "outputs": [
        {
          "name": "stdout",
          "output_type": "stream",
          "text": [
            "<class 'pandas.core.frame.DataFrame'>\n",
            "RangeIndex: 1814699 entries, 0 to 1814698\n",
            "Data columns (total 16 columns):\n",
            " #   Column                 Dtype  \n",
            "---  ------                 -----  \n",
            " 0   HazardID               Int64  \n",
            " 1   latitude               float64\n",
            " 2   longitude              float64\n",
            " 3   HazardType             int64  \n",
            " 4   distance               float64\n",
            " 5   pop                    float64\n",
            " 6   intensity              Float64\n",
            " 7   duration_minutes       float64\n",
            " 8   economic_loss_million  float64\n",
            " 9   selected_sensor        object \n",
            " 10  sensor_id              int64  \n",
            " 11  parameters             object \n",
            " 12  sensor_name            object \n",
            " 13  s_encoded              int64  \n",
            " 14  sensor_weight          int64  \n",
            " 15  selected_drone         object \n",
            "dtypes: Float64(1), Int64(1), float64(6), int64(4), object(4)\n",
            "memory usage: 225.0+ MB\n"
          ]
        }
      ],
      "source": [
        "# Step 1: Precompute sorted drone dataset\n",
        "drone_df_sorted = drone_df.sort_values([\"distance_range\", \"max_payload_weight\"])\n",
        "\n",
        "# Step 2: Optimized drone selection function\n",
        "def fast_select_drone_v2(geohazard_df, drone_df):\n",
        "    geohazard_df = geohazard_df.copy()\n",
        "    geohazard_df[\"selected_drone\"] = None\n",
        "\n",
        "    for index, row in geohazard_df.iterrows():\n",
        "        hazard_distance = row[\"distance\"]\n",
        "        sensor_weight = sensor_df.loc[sensor_df[\"sensor_name\"] == row[\"selected_sensor\"], \"sensor_weight\"].values\n",
        "        sensor_weight = sensor_weight[0] if len(sensor_weight) > 0 else 0\n",
        "\n",
        "        # Step 1: Find the first drone that can handle short distances\n",
        "        if hazard_distance < drone_df_sorted[\"distance_range\"].min():\n",
        "            matching_drones = drone_df_sorted  # Allow all drones for very short distances\n",
        "        else:\n",
        "            # Step 2: Select drones with matching or closest higher distance\n",
        "            matching_drones = drone_df_sorted[drone_df_sorted[\"distance_range\"] >= hazard_distance]\n",
        "\n",
        "        # Step 3: Filter drones that can carry the sensor payload\n",
        "        feasible_drones = matching_drones[matching_drones[\"max_payload_weight\"] >= sensor_weight]\n",
        "\n",
        "        # Step 4: If no direct match, select the **next available drone that can carry the payload**\n",
        "        if feasible_drones.empty:\n",
        "            sorted_drones = drone_df_sorted[drone_df_sorted[\"max_payload_weight\"] >= sensor_weight]\n",
        "            if not sorted_drones.empty:\n",
        "                best_drone = sorted_drones.iloc[0]\n",
        "            else:\n",
        "                best_drone = None\n",
        "        else:\n",
        "            best_drone = feasible_drones.iloc[0]\n",
        "\n",
        "        # Assign the best drone found\n",
        "        geohazard_df.at[index, \"selected_drone\"] = best_drone[\"mfc_model\"] if best_drone is not None else \"No suitable drone found\"\n",
        "\n",
        "    return geohazard_df\n",
        "\n",
        "# Apply the optimized selection\n",
        "geohazard_df = fast_select_drone_v2(geohazard_df, drone_df)\n",
        "geohazard_df.info()"
      ]
    },
    {
      "cell_type": "code",
      "execution_count": null,
      "metadata": {
        "id": "udYaFOhcyos0",
        "outputId": "71ad4bc3-1ffb-43db-e30e-0ee43aa9d3d7"
      },
      "outputs": [
        {
          "name": "stdout",
          "output_type": "stream",
          "text": [
            "<class 'pandas.core.frame.DataFrame'>\n",
            "RangeIndex: 1814699 entries, 0 to 1814698\n",
            "Data columns (total 21 columns):\n",
            " #   Column                 Dtype  \n",
            "---  ------                 -----  \n",
            " 0   HazardID               int64  \n",
            " 1   latitude               float64\n",
            " 2   longitude              float64\n",
            " 3   HazardType             int64  \n",
            " 4   distance               float64\n",
            " 5   pop                    float64\n",
            " 6   intensity              float64\n",
            " 7   duration_minutes       float64\n",
            " 8   economic_loss_million  float64\n",
            " 9   selected_sensor        object \n",
            " 10  sensor_id              int64  \n",
            " 11  parameters             object \n",
            " 12  sensor_name            object \n",
            " 13  s_encoded              int64  \n",
            " 14  sensor_weight          int64  \n",
            " 15  selected_drone         object \n",
            " 16  drone_speed            float64\n",
            " 17  drone_flight_time      float64\n",
            " 18  travel_time            float64\n",
            " 19  monitor_time           float64\n",
            " 20  cpm_total_time         float64\n",
            "dtypes: float64(12), int64(5), object(4)\n",
            "memory usage: 290.7+ MB\n"
          ]
        }
      ],
      "source": [
        "# Step 1: Merge drone speed and flight_time from drone_df\n",
        "drone_info = drone_df[[\"mfc_model\", \"max_speed\", \"flight_time\"]].copy()\n",
        "drone_info = drone_info.rename(columns={\n",
        "    \"mfc_model\": \"selected_drone\",\n",
        "    \"max_speed\": \"drone_speed\",\n",
        "    \"flight_time\": \"drone_flight_time\"\n",
        "})\n",
        "\n",
        "# Merge into geohazard_df\n",
        "geohazard_df = geohazard_df.merge(drone_info, on=\"selected_drone\", how=\"left\")\n",
        "\n",
        "# Step 2: Handle missing speeds (fallback to median)\n",
        "geohazard_df[\"drone_speed\"] = geohazard_df[\"drone_speed\"].fillna(drone_df[\"max_speed\"].median())\n",
        "\n",
        "# Step 3: Calculate travel time and total CPM time\n",
        "geohazard_df[\"travel_time\"] = 2 * (geohazard_df[\"distance\"] / geohazard_df[\"drone_speed\"])\n",
        "geohazard_df[\"monitor_time\"] = geohazard_df[\"duration_minutes\"]  # Or scale based on sensor later if needed\n",
        "geohazard_df[\"cpm_total_time\"] = geohazard_df[\"travel_time\"] + geohazard_df[\"monitor_time\"]\n",
        "\n",
        "# Optional: Round time fields\n",
        "geohazard_df[\"travel_time\"] = geohazard_df[\"travel_time\"].round(2)\n",
        "geohazard_df[\"cpm_total_time\"] = geohazard_df[\"cpm_total_time\"].round(2)\n",
        "geohazard_df.info()"
      ]
    },
    {
      "cell_type": "code",
      "execution_count": null,
      "metadata": {
        "id": "oeEa4BPZyos0"
      },
      "outputs": [],
      "source": [
        "geohazard_df.to_csv(r\"D:\\NDIS_Database\\ghz_rf_cpm.csv\", index=False)"
      ]
    },
    {
      "cell_type": "code",
      "execution_count": null,
      "metadata": {
        "id": "-P29VL_Iyos0",
        "outputId": "c80eb85e-e7f3-4282-edc7-602aa2370736"
      },
      "outputs": [
        {
          "data": {
            "image/png": "[encoded data removed]",
            "text/plain": [
              "<Figure size 1000x500 with 1 Axes>"
            ]
          },
          "metadata": {},
          "output_type": "display_data"
        },
        {
          "data": {
            "image/png": "[encoded data removed]",
            "text/plain": [
              "<Figure size 1000x500 with 1 Axes>"
            ]
          },
          "metadata": {},
          "output_type": "display_data"
        },
        {
          "data": {
            "image/png": "[encoded data removed]",
            "text/plain": [
              "<Figure size 1000x500 with 1 Axes>"
            ]
          },
          "metadata": {},
          "output_type": "display_data"
        }
      ],
      "source": [
        "# Set seaborn style\n",
        "sns.set(style=\"whitegrid\")\n",
        "\n",
        "# Plot 1: Histogram of CPM Total Time\n",
        "plt.figure(figsize=(10, 5))\n",
        "sns.histplot(geohazard_df[\"cpm_total_time\"], bins=50, kde=True, color=\"skyblue\")\n",
        "plt.title(\"Distribution of CPM Total Time (minutes)\")\n",
        "plt.xlabel(\"CPM Total Time\")\n",
        "plt.ylabel(\"Frequency\")\n",
        "plt.tight_layout()\n",
        "plt.show()\n",
        "\n",
        "# Plot 2: Boxplot by Hazard Type\n",
        "plt.figure(figsize=(10, 5))\n",
        "sns.boxplot(x=\"HazardType\", y=\"cpm_total_time\", data=geohazard_df)\n",
        "plt.title(\"CPM Total Time by Hazard Type\")\n",
        "plt.xlabel(\"Hazard Type\")\n",
        "plt.ylabel(\"CPM Total Time (minutes)\")\n",
        "plt.tight_layout()\n",
        "plt.show()\n",
        "\n",
        "# Plot 3: Scatter (optional)\n",
        "plt.figure(figsize=(10, 5))\n",
        "sns.scatterplot(x=\"distance\", y=\"cpm_total_time\", hue=\"HazardType\", data=geohazard_df, alpha=0.5)\n",
        "plt.title(\"CPM Total Time vs. Distance\")\n",
        "plt.xlabel(\"Distance to Site (meters)\")\n",
        "plt.ylabel(\"CPM Total Time (minutes)\")\n",
        "plt.tight_layout()\n",
        "plt.show()"
      ]
    },
    {
      "cell_type": "markdown",
      "metadata": {
        "id": "NenbpPJ7yos1"
      },
      "source": [
        "# In case operation interrupted, START HERE!"
      ]
    },
    {
      "cell_type": "code",
      "execution_count": null,
      "metadata": {
        "id": "zyAWLOw2yos1",
        "outputId": "ce550bca-b4a6-433d-dc82-33c7313e3ff5"
      },
      "outputs": [
        {
          "name": "stdout",
          "output_type": "stream",
          "text": [
            "<class 'pandas.core.frame.DataFrame'>\n",
            "RangeIndex: 1814699 entries, 0 to 1814698\n",
            "Data columns (total 21 columns):\n",
            " #   Column                 Dtype  \n",
            "---  ------                 -----  \n",
            " 0   HazardID               int64  \n",
            " 1   latitude               float64\n",
            " 2   longitude              float64\n",
            " 3   HazardType             int64  \n",
            " 4   distance               float64\n",
            " 5   pop                    float64\n",
            " 6   intensity              float64\n",
            " 7   duration_minutes       float64\n",
            " 8   economic_loss_million  float64\n",
            " 9   selected_sensor        object \n",
            " 10  sensor_id              int64  \n",
            " 11  parameters             object \n",
            " 12  sensor_name            object \n",
            " 13  s_encoded              int64  \n",
            " 14  sensor_weight          int64  \n",
            " 15  selected_drone         object \n",
            " 16  drone_speed            float64\n",
            " 17  drone_flight_time      float64\n",
            " 18  travel_time            float64\n",
            " 19  monitor_time           float64\n",
            " 20  cpm_total_time         float64\n",
            "dtypes: float64(12), int64(5), object(4)\n",
            "memory usage: 290.7+ MB\n"
          ]
        }
      ],
      "source": [
        "geohazard_df = pd.read_csv(r\"D:\\NDIS_Database\\ghz_rf_cpm.csv\") # In case operation interrupted\n",
        "geohazard_df.info()"
      ]
    },
    {
      "cell_type": "code",
      "execution_count": null,
      "metadata": {
        "id": "LSsthMBxyos1",
        "outputId": "70ac2be4-6a87-4de2-f734-092c3e6f4d9e"
      },
      "outputs": [
        {
          "name": "stdout",
          "output_type": "stream",
          "text": [
            "Number of geohazards with no suitable drone: 0\n"
          ]
        }
      ],
      "source": [
        "# Count occurrences of \"No suitable drone found\"\n",
        "no_suitable_drones_count = (geohazard_df[\"selected_drone\"] == \"No suitable drone found\").sum()\n",
        "\n",
        "# Display the count\n",
        "print(f\"Number of geohazards with no suitable drone: {no_suitable_drones_count}\")"
      ]
    },
    {
      "cell_type": "code",
      "execution_count": null,
      "metadata": {
        "id": "vasJmnE2yos2",
        "outputId": "b60e84e3-ff8c-4c8e-e4c6-3a3bd315f254"
      },
      "outputs": [
        {
          "data": {
            "text/plain": [
              "array(['IDEAFLY Poseidon-480 Pro II', 'IDEAFLY Thor-850', 'EAMS E484MP',\n",
              "       'JTT Spider C85', 'Drone Volt Hercules 10', 'DJI Matrice100',\n",
              "       'ACSL PF2-AE Delivery/Disaster-Relief/Patrol/Inspection',\n",
              "       'DJI Matrice300RTK', 'Drone America Savant',\n",
              "       'Aerialtronics Altura Zenith ATX8', 'ACSL AirTruck',\n",
              "       'DJI Matrice200SeriesV2',\n",
              "       'Dragandfly Innovations Inc Heavy Lift Drone',\n",
              "       'Dragandfly Innovations Inc Starling X.2', 'DJI S900',\n",
              "       'Acecore Zetona 8', 'Freespace Operation Callisto 50 Multirotor',\n",
              "       'AeroSense Aerobo Wing (AS-VT01)', 'AEE Aviation Technology G10',\n",
              "       'MMC Griflion M8', 'Doosan Mobility Dj25',\n",
              "       'Garuda Robotics Cerana X8', 'Aerosonde Ltd AAI Aerosonde Mk 4.3',\n",
              "       'Drone America Ariel', 'Drone America Phoebus', 'DJI AgrasT20',\n",
              "       'Garuda Robotics Cerana ONE Pro'], dtype=object)"
            ]
          },
          "execution_count": 305,
          "metadata": {},
          "output_type": "execute_result"
        }
      ],
      "source": [
        "geohazard_df.selected_drone.unique()"
      ]
    },
    {
      "cell_type": "code",
      "execution_count": null,
      "metadata": {
        "id": "zXl5Kzmxyos2",
        "outputId": "c90bb6d1-2c76-4094-8290-828eb59eb26c"
      },
      "outputs": [
        {
          "data": {
            "text/html": [
              "<div>\n",
              "<style scoped>\n",
              "    .dataframe tbody tr th:only-of-type {\n",
              "        vertical-align: middle;\n",
              "    }\n",
              "\n",
              "    .dataframe tbody tr th {\n",
              "        vertical-align: top;\n",
              "    }\n",
              "\n",
              "    .dataframe thead th {\n",
              "        text-align: right;\n",
              "    }\n",
              "</style>\n",
              "<table border=\"1\" class=\"dataframe\">\n",
              "  <thead>\n",
              "    <tr style=\"text-align: right;\">\n",
              "      <th></th>\n",
              "      <th>HazardID</th>\n",
              "      <th>latitude</th>\n",
              "      <th>longitude</th>\n",
              "      <th>HazardType</th>\n",
              "      <th>distance</th>\n",
              "      <th>pop</th>\n",
              "      <th>intensity</th>\n",
              "      <th>duration_minutes</th>\n",
              "      <th>economic_loss_million</th>\n",
              "      <th>selected_sensor</th>\n",
              "      <th>...</th>\n",
              "      <th>parameters</th>\n",
              "      <th>sensor_name</th>\n",
              "      <th>s_encoded</th>\n",
              "      <th>sensor_weight</th>\n",
              "      <th>selected_drone</th>\n",
              "      <th>drone_speed</th>\n",
              "      <th>drone_flight_time</th>\n",
              "      <th>travel_time</th>\n",
              "      <th>monitor_time</th>\n",
              "      <th>cpm_total_time</th>\n",
              "    </tr>\n",
              "  </thead>\n",
              "  <tbody>\n",
              "    <tr>\n",
              "      <th>0</th>\n",
              "      <td>210010</td>\n",
              "      <td>50.170000</td>\n",
              "      <td>6.850000</td>\n",
              "      <td>1</td>\n",
              "      <td>34.462092</td>\n",
              "      <td>1.346558e+05</td>\n",
              "      <td>2.0</td>\n",
              "      <td>1510.00</td>\n",
              "      <td>2.82</td>\n",
              "      <td>Seismic</td>\n",
              "      <td>...</td>\n",
              "      <td>velocity</td>\n",
              "      <td>Seismic</td>\n",
              "      <td>1</td>\n",
              "      <td>1000</td>\n",
              "      <td>IDEAFLY Poseidon-480 Pro II</td>\n",
              "      <td>18.0</td>\n",
              "      <td>30.0</td>\n",
              "      <td>3.83</td>\n",
              "      <td>1510.00</td>\n",
              "      <td>1513.83</td>\n",
              "    </tr>\n",
              "    <tr>\n",
              "      <th>1</th>\n",
              "      <td>210020</td>\n",
              "      <td>45.775000</td>\n",
              "      <td>2.970000</td>\n",
              "      <td>1</td>\n",
              "      <td>1068.063073</td>\n",
              "      <td>4.145101e+05</td>\n",
              "      <td>3.0</td>\n",
              "      <td>9376.00</td>\n",
              "      <td>9.86</td>\n",
              "      <td>Seismic</td>\n",
              "      <td>...</td>\n",
              "      <td>velocity</td>\n",
              "      <td>Seismic</td>\n",
              "      <td>1</td>\n",
              "      <td>1000</td>\n",
              "      <td>IDEAFLY Thor-850</td>\n",
              "      <td>18.0</td>\n",
              "      <td>26.0</td>\n",
              "      <td>118.67</td>\n",
              "      <td>9376.00</td>\n",
              "      <td>9494.67</td>\n",
              "    </tr>\n",
              "    <tr>\n",
              "      <th>2</th>\n",
              "      <td>210030</td>\n",
              "      <td>42.170000</td>\n",
              "      <td>2.530000</td>\n",
              "      <td>1</td>\n",
              "      <td>1798.388196</td>\n",
              "      <td>1.461354e+05</td>\n",
              "      <td>1.0</td>\n",
              "      <td>33.00</td>\n",
              "      <td>0.51</td>\n",
              "      <td>Seismic</td>\n",
              "      <td>...</td>\n",
              "      <td>velocity</td>\n",
              "      <td>Seismic</td>\n",
              "      <td>1</td>\n",
              "      <td>1000</td>\n",
              "      <td>IDEAFLY Thor-850</td>\n",
              "      <td>18.0</td>\n",
              "      <td>26.0</td>\n",
              "      <td>199.82</td>\n",
              "      <td>33.00</td>\n",
              "      <td>232.82</td>\n",
              "    </tr>\n",
              "    <tr>\n",
              "      <th>3</th>\n",
              "      <td>210040</td>\n",
              "      <td>38.870000</td>\n",
              "      <td>-4.020000</td>\n",
              "      <td>1</td>\n",
              "      <td>547.012635</td>\n",
              "      <td>1.739199e+05</td>\n",
              "      <td>2.0</td>\n",
              "      <td>1672.00</td>\n",
              "      <td>2.62</td>\n",
              "      <td>Seismic</td>\n",
              "      <td>...</td>\n",
              "      <td>velocity</td>\n",
              "      <td>Seismic</td>\n",
              "      <td>1</td>\n",
              "      <td>1000</td>\n",
              "      <td>IDEAFLY Poseidon-480 Pro II</td>\n",
              "      <td>18.0</td>\n",
              "      <td>30.0</td>\n",
              "      <td>60.78</td>\n",
              "      <td>1672.00</td>\n",
              "      <td>1732.78</td>\n",
              "    </tr>\n",
              "    <tr>\n",
              "      <th>4</th>\n",
              "      <td>211004</td>\n",
              "      <td>41.730000</td>\n",
              "      <td>12.700000</td>\n",
              "      <td>1</td>\n",
              "      <td>183.805721</td>\n",
              "      <td>2.411999e+06</td>\n",
              "      <td>1.0</td>\n",
              "      <td>151.00</td>\n",
              "      <td>0.99</td>\n",
              "      <td>Seismic</td>\n",
              "      <td>...</td>\n",
              "      <td>velocity</td>\n",
              "      <td>Seismic</td>\n",
              "      <td>1</td>\n",
              "      <td>1000</td>\n",
              "      <td>IDEAFLY Poseidon-480 Pro II</td>\n",
              "      <td>18.0</td>\n",
              "      <td>30.0</td>\n",
              "      <td>20.42</td>\n",
              "      <td>151.00</td>\n",
              "      <td>171.42</td>\n",
              "    </tr>\n",
              "    <tr>\n",
              "      <th>...</th>\n",
              "      <td>...</td>\n",
              "      <td>...</td>\n",
              "      <td>...</td>\n",
              "      <td>...</td>\n",
              "      <td>...</td>\n",
              "      <td>...</td>\n",
              "      <td>...</td>\n",
              "      <td>...</td>\n",
              "      <td>...</td>\n",
              "      <td>...</td>\n",
              "      <td>...</td>\n",
              "      <td>...</td>\n",
              "      <td>...</td>\n",
              "      <td>...</td>\n",
              "      <td>...</td>\n",
              "      <td>...</td>\n",
              "      <td>...</td>\n",
              "      <td>...</td>\n",
              "      <td>...</td>\n",
              "      <td>...</td>\n",
              "      <td>...</td>\n",
              "    </tr>\n",
              "    <tr>\n",
              "      <th>1814694</th>\n",
              "      <td>1779999762</td>\n",
              "      <td>7.532258</td>\n",
              "      <td>-77.758715</td>\n",
              "      <td>4</td>\n",
              "      <td>55485.569192</td>\n",
              "      <td>7.768821e+03</td>\n",
              "      <td>1.0</td>\n",
              "      <td>90.05</td>\n",
              "      <td>0.01</td>\n",
              "      <td>Seismic</td>\n",
              "      <td>...</td>\n",
              "      <td>velocity</td>\n",
              "      <td>Seismic</td>\n",
              "      <td>1</td>\n",
              "      <td>1000</td>\n",
              "      <td>Drone America Savant</td>\n",
              "      <td>38.0</td>\n",
              "      <td>90.0</td>\n",
              "      <td>2920.29</td>\n",
              "      <td>90.05</td>\n",
              "      <td>3010.34</td>\n",
              "    </tr>\n",
              "    <tr>\n",
              "      <th>1814695</th>\n",
              "      <td>1779999849</td>\n",
              "      <td>6.942987</td>\n",
              "      <td>-77.639198</td>\n",
              "      <td>4</td>\n",
              "      <td>61702.289243</td>\n",
              "      <td>4.558220e+03</td>\n",
              "      <td>1.0</td>\n",
              "      <td>74.97</td>\n",
              "      <td>0.01</td>\n",
              "      <td>Seismic</td>\n",
              "      <td>...</td>\n",
              "      <td>velocity</td>\n",
              "      <td>Seismic</td>\n",
              "      <td>1</td>\n",
              "      <td>1000</td>\n",
              "      <td>Drone America Savant</td>\n",
              "      <td>38.0</td>\n",
              "      <td>90.0</td>\n",
              "      <td>3247.49</td>\n",
              "      <td>74.97</td>\n",
              "      <td>3322.46</td>\n",
              "    </tr>\n",
              "    <tr>\n",
              "      <th>1814696</th>\n",
              "      <td>1779999872</td>\n",
              "      <td>9.248675</td>\n",
              "      <td>-78.994425</td>\n",
              "      <td>4</td>\n",
              "      <td>1317.387302</td>\n",
              "      <td>5.720637e+04</td>\n",
              "      <td>1.0</td>\n",
              "      <td>70.05</td>\n",
              "      <td>0.02</td>\n",
              "      <td>Seismic</td>\n",
              "      <td>...</td>\n",
              "      <td>velocity</td>\n",
              "      <td>Seismic</td>\n",
              "      <td>1</td>\n",
              "      <td>1000</td>\n",
              "      <td>IDEAFLY Thor-850</td>\n",
              "      <td>18.0</td>\n",
              "      <td>26.0</td>\n",
              "      <td>146.38</td>\n",
              "      <td>70.05</td>\n",
              "      <td>216.43</td>\n",
              "    </tr>\n",
              "    <tr>\n",
              "      <th>1814697</th>\n",
              "      <td>1779999875</td>\n",
              "      <td>9.224729</td>\n",
              "      <td>-78.860133</td>\n",
              "      <td>4</td>\n",
              "      <td>692.425627</td>\n",
              "      <td>3.482288e+04</td>\n",
              "      <td>1.0</td>\n",
              "      <td>153.32</td>\n",
              "      <td>0.04</td>\n",
              "      <td>Seismic</td>\n",
              "      <td>...</td>\n",
              "      <td>velocity</td>\n",
              "      <td>Seismic</td>\n",
              "      <td>1</td>\n",
              "      <td>1000</td>\n",
              "      <td>IDEAFLY Poseidon-480 Pro II</td>\n",
              "      <td>18.0</td>\n",
              "      <td>30.0</td>\n",
              "      <td>76.94</td>\n",
              "      <td>153.32</td>\n",
              "      <td>230.26</td>\n",
              "    </tr>\n",
              "    <tr>\n",
              "      <th>1814698</th>\n",
              "      <td>1779999951</td>\n",
              "      <td>9.312969</td>\n",
              "      <td>-79.668615</td>\n",
              "      <td>4</td>\n",
              "      <td>939.278649</td>\n",
              "      <td>4.236983e+05</td>\n",
              "      <td>1.0</td>\n",
              "      <td>165.09</td>\n",
              "      <td>0.84</td>\n",
              "      <td>Seismic</td>\n",
              "      <td>...</td>\n",
              "      <td>velocity</td>\n",
              "      <td>Seismic</td>\n",
              "      <td>1</td>\n",
              "      <td>1000</td>\n",
              "      <td>IDEAFLY Poseidon-480 Pro II</td>\n",
              "      <td>18.0</td>\n",
              "      <td>30.0</td>\n",
              "      <td>104.36</td>\n",
              "      <td>165.09</td>\n",
              "      <td>269.45</td>\n",
              "    </tr>\n",
              "  </tbody>\n",
              "</table>\n",
              "<p>1814699 rows × 21 columns</p>\n",
              "</div>"
            ],
            "text/plain": [
              "           HazardID   latitude  longitude  HazardType      distance  \\\n",
              "0            210010  50.170000   6.850000           1     34.462092   \n",
              "1            210020  45.775000   2.970000           1   1068.063073   \n",
              "2            210030  42.170000   2.530000           1   1798.388196   \n",
              "3            210040  38.870000  -4.020000           1    547.012635   \n",
              "4            211004  41.730000  12.700000           1    183.805721   \n",
              "...             ...        ...        ...         ...           ...   \n",
              "1814694  1779999762   7.532258 -77.758715           4  55485.569192   \n",
              "1814695  1779999849   6.942987 -77.639198           4  61702.289243   \n",
              "1814696  1779999872   9.248675 -78.994425           4   1317.387302   \n",
              "1814697  1779999875   9.224729 -78.860133           4    692.425627   \n",
              "1814698  1779999951   9.312969 -79.668615           4    939.278649   \n",
              "\n",
              "                  pop  intensity  duration_minutes  economic_loss_million  \\\n",
              "0        1.346558e+05        2.0           1510.00                   2.82   \n",
              "1        4.145101e+05        3.0           9376.00                   9.86   \n",
              "2        1.461354e+05        1.0             33.00                   0.51   \n",
              "3        1.739199e+05        2.0           1672.00                   2.62   \n",
              "4        2.411999e+06        1.0            151.00                   0.99   \n",
              "...               ...        ...               ...                    ...   \n",
              "1814694  7.768821e+03        1.0             90.05                   0.01   \n",
              "1814695  4.558220e+03        1.0             74.97                   0.01   \n",
              "1814696  5.720637e+04        1.0             70.05                   0.02   \n",
              "1814697  3.482288e+04        1.0            153.32                   0.04   \n",
              "1814698  4.236983e+05        1.0            165.09                   0.84   \n",
              "\n",
              "        selected_sensor  ...  parameters sensor_name s_encoded  sensor_weight  \\\n",
              "0               Seismic  ...    velocity     Seismic         1           1000   \n",
              "1               Seismic  ...    velocity     Seismic         1           1000   \n",
              "2               Seismic  ...    velocity     Seismic         1           1000   \n",
              "3               Seismic  ...    velocity     Seismic         1           1000   \n",
              "4               Seismic  ...    velocity     Seismic         1           1000   \n",
              "...                 ...  ...         ...         ...       ...            ...   \n",
              "1814694         Seismic  ...    velocity     Seismic         1           1000   \n",
              "1814695         Seismic  ...    velocity     Seismic         1           1000   \n",
              "1814696         Seismic  ...    velocity     Seismic         1           1000   \n",
              "1814697         Seismic  ...    velocity     Seismic         1           1000   \n",
              "1814698         Seismic  ...    velocity     Seismic         1           1000   \n",
              "\n",
              "                      selected_drone drone_speed  drone_flight_time  \\\n",
              "0        IDEAFLY Poseidon-480 Pro II        18.0               30.0   \n",
              "1                   IDEAFLY Thor-850        18.0               26.0   \n",
              "2                   IDEAFLY Thor-850        18.0               26.0   \n",
              "3        IDEAFLY Poseidon-480 Pro II        18.0               30.0   \n",
              "4        IDEAFLY Poseidon-480 Pro II        18.0               30.0   \n",
              "...                              ...         ...                ...   \n",
              "1814694         Drone America Savant        38.0               90.0   \n",
              "1814695         Drone America Savant        38.0               90.0   \n",
              "1814696             IDEAFLY Thor-850        18.0               26.0   \n",
              "1814697  IDEAFLY Poseidon-480 Pro II        18.0               30.0   \n",
              "1814698  IDEAFLY Poseidon-480 Pro II        18.0               30.0   \n",
              "\n",
              "         travel_time  monitor_time  cpm_total_time  \n",
              "0               3.83       1510.00         1513.83  \n",
              "1             118.67       9376.00         9494.67  \n",
              "2             199.82         33.00          232.82  \n",
              "3              60.78       1672.00         1732.78  \n",
              "4              20.42        151.00          171.42  \n",
              "...              ...           ...             ...  \n",
              "1814694      2920.29         90.05         3010.34  \n",
              "1814695      3247.49         74.97         3322.46  \n",
              "1814696       146.38         70.05          216.43  \n",
              "1814697        76.94        153.32          230.26  \n",
              "1814698       104.36        165.09          269.45  \n",
              "\n",
              "[1814699 rows x 21 columns]"
            ]
          },
          "execution_count": 306,
          "metadata": {},
          "output_type": "execute_result"
        }
      ],
      "source": [
        "geohazard_df"
      ]
    },
    {
      "cell_type": "markdown",
      "metadata": {
        "id": "v-bp3pcqyos2"
      },
      "source": [
        "# Random Forest Process Starts Here"
      ]
    },
    {
      "cell_type": "code",
      "execution_count": null,
      "metadata": {
        "id": "y_FDV3Suyos3",
        "outputId": "b2d1a4aa-3931-4d3e-d25f-0d06328cb332"
      },
      "outputs": [
        {
          "name": "stdout",
          "output_type": "stream",
          "text": [
            "<class 'pandas.core.frame.DataFrame'>\n",
            "RangeIndex: 1814699 entries, 0 to 1814698\n",
            "Data columns (total 22 columns):\n",
            " #   Column                 Dtype  \n",
            "---  ------                 -----  \n",
            " 0   HazardID               int64  \n",
            " 1   latitude               float64\n",
            " 2   longitude              float64\n",
            " 3   HazardType             int64  \n",
            " 4   distance               float64\n",
            " 5   pop                    float64\n",
            " 6   intensity              float64\n",
            " 7   duration_minutes       float64\n",
            " 8   economic_loss_million  float64\n",
            " 9   selected_sensor        object \n",
            " 10  sensor_id              int64  \n",
            " 11  parameters             object \n",
            " 12  sensor_name            object \n",
            " 13  s_encoded              int64  \n",
            " 14  sensor_weight          int64  \n",
            " 15  selected_drone         object \n",
            " 16  drone_speed            float64\n",
            " 17  drone_flight_time      float64\n",
            " 18  travel_time            float64\n",
            " 19  monitor_time           float64\n",
            " 20  cpm_total_time         float64\n",
            " 21  drone_sensor_combo     object \n",
            "dtypes: float64(12), int64(5), object(5)\n",
            "memory usage: 304.6+ MB\n"
          ]
        }
      ],
      "source": [
        "geohazard_df.info()"
      ]
    },
    {
      "cell_type": "markdown",
      "metadata": {
        "id": "rWCKAXUWyos3"
      },
      "source": [
        "## RF Classification – Mission Recommendation"
      ]
    },
    {
      "cell_type": "code",
      "execution_count": null,
      "metadata": {
        "id": "s5lzVDagyos3"
      },
      "outputs": [],
      "source": [
        "geohazard_df[\"intensity\"].fillna(1, inplace=True)  # or median (~3)\n",
        "geohazard_df[\"duration_minutes\"].fillna(30, inplace=True)\n",
        "geohazard_df[\"economic_loss_million\"].fillna(0, inplace=True)"
      ]
    },
    {
      "cell_type": "code",
      "execution_count": null,
      "metadata": {
        "id": "-fufKrBayos3"
      },
      "outputs": [],
      "source": [
        "# ----------------------\n",
        "# Step 1: Feature selection\n",
        "# ----------------------\n",
        "features = [\n",
        "    \"HazardType\", \"distance\", \"pop\",\n",
        "    \"intensity\", \"duration_minutes\",\n",
        "    \"economic_loss_million\"\n",
        "]\n",
        "\n",
        "# ----------------------\n",
        "# Step 2: Generate target label\n",
        "# ----------------------\n",
        "geohazard_df[\"drone_sensor_combo\"] = (\n",
        "    geohazard_df[\"selected_drone\"].astype(str) + \" + \" + geohazard_df[\"selected_sensor\"].astype(str)\n",
        ")\n",
        "\n",
        "# ----------------------\n",
        "# Step 3: Drop NaNs and filter rare classes\n",
        "# ----------------------\n",
        "# Count label frequency\n",
        "label_counts = geohazard_df[\"drone_sensor_combo\"].value_counts()\n",
        "\n",
        "# Keep only labels with at least 2 instances\n",
        "# valid_labels = label_counts[label_counts >= 2].index\n",
        "\n",
        "# Filter dataset\n",
        "#rf_df = geohazard_df[\n",
        " #   geohazard_df[\"drone_sensor_combo\"].isin(valid_labels)\n",
        "#].dropna(subset=features + [\"drone_sensor_combo\"]).copy()\n",
        "min_samples = 30  # or 50\n",
        "valid_labels = geohazard_df[\"drone_sensor_combo\"].value_counts()\n",
        "valid_labels = valid_labels[valid_labels >= min_samples].index\n",
        "\n",
        "rf_df = geohazard_df[geohazard_df[\"drone_sensor_combo\"].isin(valid_labels)].copy()\n",
        "\n",
        "# ----------------------\n",
        "# Step 4: Encode target label\n",
        "# ----------------------\n",
        "label_encoder = LabelEncoder()\n",
        "rf_df[\"label_encoded\"] = label_encoder.fit_transform(rf_df[\"drone_sensor_combo\"])\n",
        "\n",
        "# ----------------------\n",
        "# Step 5: Split into training and testing\n",
        "# ----------------------\n",
        "X = rf_df[features]\n",
        "y = rf_df[\"label_encoded\"]\n",
        "\n",
        "X_train, X_test, y_train, y_test = train_test_split(\n",
        "    X, y, stratify=y, test_size=0.2, random_state=42\n",
        ")"
      ]
    },
    {
      "cell_type": "code",
      "execution_count": null,
      "metadata": {
        "id": "rad119uRyos4"
      },
      "outputs": [],
      "source": [
        "# ----------------------\n",
        "# Step 1: Feature selection\n",
        "# ----------------------\n",
        "#features = [\n",
        "#    \"HazardType\", \"distance\", \"pop\",\n",
        "#    \"intensity\", \"duration_minutes\",\n",
        "#    \"economic_loss_million\"\n",
        "#]\n",
        "\n",
        "# Save feature list\n",
        "features = [\n",
        "    \"HazardType\", \"distance\", \"pop\", \"intensity\",\n",
        "    \"duration_minutes\", \"economic_loss_million\",\n",
        "    \"sensor_weight\", \"drone_speed\", \"drone_flight_time\"\n",
        "]\n",
        "# ----------------------\n",
        "# Step 2: Generate target label\n",
        "# ----------------------\n",
        "geohazard_df[\"drone_sensor_combo\"] = (\n",
        "    geohazard_df[\"selected_drone\"].astype(str) + \" + \" + geohazard_df[\"selected_sensor\"].astype(str)\n",
        ")\n",
        "\n",
        "# ----------------------\n",
        "# Step 3: Drop NaNs and filter rare classes\n",
        "# ----------------------\n",
        "# Count label frequency\n",
        "label_counts = geohazard_df[\"drone_sensor_combo\"].value_counts()\n",
        "\n",
        "# Keep only labels with at least 2 instances\n",
        "# valid_labels = label_counts[label_counts >= 2].index\n",
        "\n",
        "# Filter dataset\n",
        "#rf_df = geohazard_df[\n",
        " #   geohazard_df[\"drone_sensor_combo\"].isin(valid_labels)\n",
        "#].dropna(subset=features + [\"drone_sensor_combo\"]).copy()\n",
        "min_samples = 30  # or 50\n",
        "valid_labels = geohazard_df[\"drone_sensor_combo\"].value_counts()\n",
        "valid_labels = valid_labels[valid_labels >= min_samples].index\n",
        "\n",
        "rf_df = geohazard_df[geohazard_df[\"drone_sensor_combo\"].isin(valid_labels)].copy()\n",
        "\n",
        "# ----------------------\n",
        "# Step 4: Encode target label\n",
        "# ----------------------\n",
        "label_encoder = LabelEncoder()\n",
        "rf_df[\"label_encoded\"] = label_encoder.fit_transform(rf_df[\"drone_sensor_combo\"])\n",
        "\n",
        "# ----------------------\n",
        "# Step 5: Split into training and testing\n",
        "# ----------------------\n",
        "X = rf_df[features]\n",
        "y = rf_df[\"label_encoded\"]\n",
        "\n",
        "X_train, X_test, y_train, y_test = train_test_split(\n",
        "    X, y, stratify=y, test_size=0.2, random_state=42\n",
        ")"
      ]
    },
    {
      "cell_type": "code",
      "execution_count": null,
      "metadata": {
        "id": "2wHHnmxhyos4",
        "outputId": "c9bbfbc3-d45c-4a12-cd0b-6c705f16faa9"
      },
      "outputs": [
        {
          "name": "stdout",
          "output_type": "stream",
          "text": [
            "HazardType                   0\n",
            "distance                     0\n",
            "pop                          0\n",
            "intensity                19424\n",
            "duration_minutes         19424\n",
            "economic_loss_million    19424\n",
            "dtype: int64\n"
          ]
        }
      ],
      "source": [
        "# Check how many NaNs per column\n",
        "print(rf_df[features].isna().sum())"
      ]
    },
    {
      "cell_type": "code",
      "execution_count": null,
      "metadata": {
        "id": "8TeSdn-Lyos4",
        "outputId": "e707b532-c5f0-49a5-be0b-b11c10b71239"
      },
      "outputs": [
        {
          "ename": "<class 'ValueError'>",
          "evalue": "Input X contains NaN.\nRandomForestClassifier does not accept missing values encoded as NaN natively. For supervised learning, you might want to consider sklearn.ensemble.HistGradientBoostingClassifier and Regressor which accept missing values encoded as NaNs natively. Alternatively, it is possible to preprocess the data, for instance by using an imputer transformer in a pipeline or drop samples with missing values. See https://scikit-learn.org/stable/modules/impute.html You can find a list of all estimators that handle NaN values at the following page: https://scikit-learn.org/stable/modules/impute.html#estimators-that-handle-nan-values",
          "output_type": "error",
          "traceback": [
            "\u001b[1;31m---------------------------------------------------------------------------\u001b[0m",
            "\u001b[1;31mValueError\u001b[0m                                Traceback (most recent call last)",
            "Cell \u001b[1;32mIn[10], line 21\u001b[0m\n\u001b[0;32m      5\u001b[0m \u001b[38;5;66;03m#rf_model = RandomForestClassifier(n_estimators=200, random_state=42, class_weight=\"balanced\")\u001b[39;00m\n\u001b[0;32m      6\u001b[0m \u001b[38;5;66;03m#rf_model.fit(X_train, y_train)\u001b[39;00m\n\u001b[0;32m      7\u001b[0m \n\u001b[1;32m   (...)\u001b[0m\n\u001b[0;32m     11\u001b[0m \u001b[38;5;66;03m#rf_model = RandomForestClassifier(n_estimators=100, n_jobs=n_cores, max_depth=12,\u001b[39;00m\n\u001b[0;32m     12\u001b[0m \u001b[38;5;66;03m#                                  class_weight=\"balanced\", random_state=42)\u001b[39;00m\n\u001b[0;32m     13\u001b[0m rf_model \u001b[38;5;241m=\u001b[39m RandomForestClassifier(\n\u001b[0;32m     14\u001b[0m     n_estimators\u001b[38;5;241m=\u001b[39m\u001b[38;5;241m100\u001b[39m,\n\u001b[0;32m     15\u001b[0m     max_depth\u001b[38;5;241m=\u001b[39m\u001b[38;5;241m12\u001b[39m,\n\u001b[1;32m   (...)\u001b[0m\n\u001b[0;32m     18\u001b[0m     random_state\u001b[38;5;241m=\u001b[39m\u001b[38;5;241m42\u001b[39m\n\u001b[0;32m     19\u001b[0m )\n\u001b[1;32m---> 21\u001b[0m rf_model\u001b[38;5;241m.\u001b[39mfit(X_train, y_train)\n\u001b[0;32m     23\u001b[0m elapsed \u001b[38;5;241m=\u001b[39m timeit\u001b[38;5;241m.\u001b[39mdefault_timer() \u001b[38;5;241m-\u001b[39m start_time\n\u001b[0;32m     24\u001b[0m \u001b[38;5;28mprint\u001b[39m(\u001b[38;5;124m\"\u001b[39m\u001b[38;5;130;01m\\u2705\u001b[39;00m\u001b[38;5;124m RF Training completed! Elapsed time: \u001b[39m\u001b[38;5;132;01m%s\u001b[39;00m\u001b[38;5;124m minutes\u001b[39m\u001b[38;5;124m\"\u001b[39m \u001b[38;5;241m%\u001b[39m \u001b[38;5;28mstr\u001b[39m(elapsed \u001b[38;5;241m/\u001b[39m \u001b[38;5;241m60\u001b[39m))\n",
            "File \u001b[1;32mC:\\Program Files\\ArcGIS\\Pro\\bin\\Python\\envs\\arcgisclone\\Lib\\site-packages\\sklearn\\base.py:1151\u001b[0m, in \u001b[0;36m_fit_context.<locals>.decorator.<locals>.wrapper\u001b[1;34m(estimator, *args, **kwargs)\u001b[0m\n\u001b[0;32m   1144\u001b[0m     estimator\u001b[38;5;241m.\u001b[39m_validate_params()\n\u001b[0;32m   1146\u001b[0m \u001b[38;5;28;01mwith\u001b[39;00m config_context(\n\u001b[0;32m   1147\u001b[0m     skip_parameter_validation\u001b[38;5;241m=\u001b[39m(\n\u001b[0;32m   1148\u001b[0m         prefer_skip_nested_validation \u001b[38;5;129;01mor\u001b[39;00m global_skip_validation\n\u001b[0;32m   1149\u001b[0m     )\n\u001b[0;32m   1150\u001b[0m ):\n\u001b[1;32m-> 1151\u001b[0m     \u001b[38;5;28;01mreturn\u001b[39;00m fit_method(estimator, \u001b[38;5;241m*\u001b[39margs, \u001b[38;5;241m*\u001b[39m\u001b[38;5;241m*\u001b[39mkwargs)\n",
            "File \u001b[1;32mC:\\Program Files\\ArcGIS\\Pro\\bin\\Python\\envs\\arcgisclone\\Lib\\site-packages\\sklearn\\ensemble\\_forest.py:348\u001b[0m, in \u001b[0;36mBaseForest.fit\u001b[1;34m(self, X, y, sample_weight)\u001b[0m\n\u001b[0;32m    346\u001b[0m \u001b[38;5;28;01mif\u001b[39;00m issparse(y):\n\u001b[0;32m    347\u001b[0m     \u001b[38;5;28;01mraise\u001b[39;00m \u001b[38;5;167;01mValueError\u001b[39;00m(\u001b[38;5;124m\"\u001b[39m\u001b[38;5;124msparse multilabel-indicator for y is not supported.\u001b[39m\u001b[38;5;124m\"\u001b[39m)\n\u001b[1;32m--> 348\u001b[0m X, y \u001b[38;5;241m=\u001b[39m \u001b[38;5;28mself\u001b[39m\u001b[38;5;241m.\u001b[39m_validate_data(\n\u001b[0;32m    349\u001b[0m     X, y, multi_output\u001b[38;5;241m=\u001b[39m\u001b[38;5;28;01mTrue\u001b[39;00m, accept_sparse\u001b[38;5;241m=\u001b[39m\u001b[38;5;124m\"\u001b[39m\u001b[38;5;124mcsc\u001b[39m\u001b[38;5;124m\"\u001b[39m, dtype\u001b[38;5;241m=\u001b[39mDTYPE\n\u001b[0;32m    350\u001b[0m )\n\u001b[0;32m    351\u001b[0m \u001b[38;5;28;01mif\u001b[39;00m sample_weight \u001b[38;5;129;01mis\u001b[39;00m \u001b[38;5;129;01mnot\u001b[39;00m \u001b[38;5;28;01mNone\u001b[39;00m:\n\u001b[0;32m    352\u001b[0m     sample_weight \u001b[38;5;241m=\u001b[39m _check_sample_weight(sample_weight, X)\n",
            "File \u001b[1;32mC:\\Program Files\\ArcGIS\\Pro\\bin\\Python\\envs\\arcgisclone\\Lib\\site-packages\\sklearn\\base.py:621\u001b[0m, in \u001b[0;36mBaseEstimator._validate_data\u001b[1;34m(self, X, y, reset, validate_separately, cast_to_ndarray, **check_params)\u001b[0m\n\u001b[0;32m    619\u001b[0m         y \u001b[38;5;241m=\u001b[39m check_array(y, input_name\u001b[38;5;241m=\u001b[39m\u001b[38;5;124m\"\u001b[39m\u001b[38;5;124my\u001b[39m\u001b[38;5;124m\"\u001b[39m, \u001b[38;5;241m*\u001b[39m\u001b[38;5;241m*\u001b[39mcheck_y_params)\n\u001b[0;32m    620\u001b[0m     \u001b[38;5;28;01melse\u001b[39;00m:\n\u001b[1;32m--> 621\u001b[0m         X, y \u001b[38;5;241m=\u001b[39m check_X_y(X, y, \u001b[38;5;241m*\u001b[39m\u001b[38;5;241m*\u001b[39mcheck_params)\n\u001b[0;32m    622\u001b[0m     out \u001b[38;5;241m=\u001b[39m X, y\n\u001b[0;32m    624\u001b[0m \u001b[38;5;28;01mif\u001b[39;00m \u001b[38;5;129;01mnot\u001b[39;00m no_val_X \u001b[38;5;129;01mand\u001b[39;00m check_params\u001b[38;5;241m.\u001b[39mget(\u001b[38;5;124m\"\u001b[39m\u001b[38;5;124mensure_2d\u001b[39m\u001b[38;5;124m\"\u001b[39m, \u001b[38;5;28;01mTrue\u001b[39;00m):\n",
            "File \u001b[1;32mC:\\Program Files\\ArcGIS\\Pro\\bin\\Python\\envs\\arcgisclone\\Lib\\site-packages\\sklearn\\utils\\validation.py:1147\u001b[0m, in \u001b[0;36mcheck_X_y\u001b[1;34m(X, y, accept_sparse, accept_large_sparse, dtype, order, copy, force_all_finite, ensure_2d, allow_nd, multi_output, ensure_min_samples, ensure_min_features, y_numeric, estimator)\u001b[0m\n\u001b[0;32m   1142\u001b[0m         estimator_name \u001b[38;5;241m=\u001b[39m _check_estimator_name(estimator)\n\u001b[0;32m   1143\u001b[0m     \u001b[38;5;28;01mraise\u001b[39;00m \u001b[38;5;167;01mValueError\u001b[39;00m(\n\u001b[0;32m   1144\u001b[0m         \u001b[38;5;124mf\u001b[39m\u001b[38;5;124m\"\u001b[39m\u001b[38;5;132;01m{\u001b[39;00mestimator_name\u001b[38;5;132;01m}\u001b[39;00m\u001b[38;5;124m requires y to be passed, but the target y is None\u001b[39m\u001b[38;5;124m\"\u001b[39m\n\u001b[0;32m   1145\u001b[0m     )\n\u001b[1;32m-> 1147\u001b[0m X \u001b[38;5;241m=\u001b[39m check_array(\n\u001b[0;32m   1148\u001b[0m     X,\n\u001b[0;32m   1149\u001b[0m     accept_sparse\u001b[38;5;241m=\u001b[39maccept_sparse,\n\u001b[0;32m   1150\u001b[0m     accept_large_sparse\u001b[38;5;241m=\u001b[39maccept_large_sparse,\n\u001b[0;32m   1151\u001b[0m     dtype\u001b[38;5;241m=\u001b[39mdtype,\n\u001b[0;32m   1152\u001b[0m     order\u001b[38;5;241m=\u001b[39morder,\n\u001b[0;32m   1153\u001b[0m     copy\u001b[38;5;241m=\u001b[39mcopy,\n\u001b[0;32m   1154\u001b[0m     force_all_finite\u001b[38;5;241m=\u001b[39mforce_all_finite,\n\u001b[0;32m   1155\u001b[0m     ensure_2d\u001b[38;5;241m=\u001b[39mensure_2d,\n\u001b[0;32m   1156\u001b[0m     allow_nd\u001b[38;5;241m=\u001b[39mallow_nd,\n\u001b[0;32m   1157\u001b[0m     ensure_min_samples\u001b[38;5;241m=\u001b[39mensure_min_samples,\n\u001b[0;32m   1158\u001b[0m     ensure_min_features\u001b[38;5;241m=\u001b[39mensure_min_features,\n\u001b[0;32m   1159\u001b[0m     estimator\u001b[38;5;241m=\u001b[39mestimator,\n\u001b[0;32m   1160\u001b[0m     input_name\u001b[38;5;241m=\u001b[39m\u001b[38;5;124m\"\u001b[39m\u001b[38;5;124mX\u001b[39m\u001b[38;5;124m\"\u001b[39m,\n\u001b[0;32m   1161\u001b[0m )\n\u001b[0;32m   1163\u001b[0m y \u001b[38;5;241m=\u001b[39m _check_y(y, multi_output\u001b[38;5;241m=\u001b[39mmulti_output, y_numeric\u001b[38;5;241m=\u001b[39my_numeric, estimator\u001b[38;5;241m=\u001b[39mestimator)\n\u001b[0;32m   1165\u001b[0m check_consistent_length(X, y)\n",
            "File \u001b[1;32mC:\\Program Files\\ArcGIS\\Pro\\bin\\Python\\envs\\arcgisclone\\Lib\\site-packages\\sklearn\\utils\\validation.py:959\u001b[0m, in \u001b[0;36mcheck_array\u001b[1;34m(array, accept_sparse, accept_large_sparse, dtype, order, copy, force_all_finite, ensure_2d, allow_nd, ensure_min_samples, ensure_min_features, estimator, input_name)\u001b[0m\n\u001b[0;32m    953\u001b[0m         \u001b[38;5;28;01mraise\u001b[39;00m \u001b[38;5;167;01mValueError\u001b[39;00m(\n\u001b[0;32m    954\u001b[0m             \u001b[38;5;124m\"\u001b[39m\u001b[38;5;124mFound array with dim \u001b[39m\u001b[38;5;132;01m%d\u001b[39;00m\u001b[38;5;124m. \u001b[39m\u001b[38;5;132;01m%s\u001b[39;00m\u001b[38;5;124m expected <= 2.\u001b[39m\u001b[38;5;124m\"\u001b[39m\n\u001b[0;32m    955\u001b[0m             \u001b[38;5;241m%\u001b[39m (array\u001b[38;5;241m.\u001b[39mndim, estimator_name)\n\u001b[0;32m    956\u001b[0m         )\n\u001b[0;32m    958\u001b[0m     \u001b[38;5;28;01mif\u001b[39;00m force_all_finite:\n\u001b[1;32m--> 959\u001b[0m         _assert_all_finite(\n\u001b[0;32m    960\u001b[0m             array,\n\u001b[0;32m    961\u001b[0m             input_name\u001b[38;5;241m=\u001b[39minput_name,\n\u001b[0;32m    962\u001b[0m             estimator_name\u001b[38;5;241m=\u001b[39mestimator_name,\n\u001b[0;32m    963\u001b[0m             allow_nan\u001b[38;5;241m=\u001b[39mforce_all_finite \u001b[38;5;241m==\u001b[39m \u001b[38;5;124m\"\u001b[39m\u001b[38;5;124mallow-nan\u001b[39m\u001b[38;5;124m\"\u001b[39m,\n\u001b[0;32m    964\u001b[0m         )\n\u001b[0;32m    966\u001b[0m \u001b[38;5;28;01mif\u001b[39;00m ensure_min_samples \u001b[38;5;241m>\u001b[39m \u001b[38;5;241m0\u001b[39m:\n\u001b[0;32m    967\u001b[0m     n_samples \u001b[38;5;241m=\u001b[39m _num_samples(array)\n",
            "File \u001b[1;32mC:\\Program Files\\ArcGIS\\Pro\\bin\\Python\\envs\\arcgisclone\\Lib\\site-packages\\sklearn\\utils\\validation.py:124\u001b[0m, in \u001b[0;36m_assert_all_finite\u001b[1;34m(X, allow_nan, msg_dtype, estimator_name, input_name)\u001b[0m\n\u001b[0;32m    121\u001b[0m \u001b[38;5;28;01mif\u001b[39;00m first_pass_isfinite:\n\u001b[0;32m    122\u001b[0m     \u001b[38;5;28;01mreturn\u001b[39;00m\n\u001b[1;32m--> 124\u001b[0m _assert_all_finite_element_wise(\n\u001b[0;32m    125\u001b[0m     X,\n\u001b[0;32m    126\u001b[0m     xp\u001b[38;5;241m=\u001b[39mxp,\n\u001b[0;32m    127\u001b[0m     allow_nan\u001b[38;5;241m=\u001b[39mallow_nan,\n\u001b[0;32m    128\u001b[0m     msg_dtype\u001b[38;5;241m=\u001b[39mmsg_dtype,\n\u001b[0;32m    129\u001b[0m     estimator_name\u001b[38;5;241m=\u001b[39mestimator_name,\n\u001b[0;32m    130\u001b[0m     input_name\u001b[38;5;241m=\u001b[39minput_name,\n\u001b[0;32m    131\u001b[0m )\n",
            "File \u001b[1;32mC:\\Program Files\\ArcGIS\\Pro\\bin\\Python\\envs\\arcgisclone\\Lib\\site-packages\\sklearn\\utils\\validation.py:173\u001b[0m, in \u001b[0;36m_assert_all_finite_element_wise\u001b[1;34m(X, xp, allow_nan, msg_dtype, estimator_name, input_name)\u001b[0m\n\u001b[0;32m    156\u001b[0m \u001b[38;5;28;01mif\u001b[39;00m estimator_name \u001b[38;5;129;01mand\u001b[39;00m input_name \u001b[38;5;241m==\u001b[39m \u001b[38;5;124m\"\u001b[39m\u001b[38;5;124mX\u001b[39m\u001b[38;5;124m\"\u001b[39m \u001b[38;5;129;01mand\u001b[39;00m has_nan_error:\n\u001b[0;32m    157\u001b[0m     \u001b[38;5;66;03m# Improve the error message on how to handle missing values in\u001b[39;00m\n\u001b[0;32m    158\u001b[0m     \u001b[38;5;66;03m# scikit-learn.\u001b[39;00m\n\u001b[0;32m    159\u001b[0m     msg_err \u001b[38;5;241m+\u001b[39m\u001b[38;5;241m=\u001b[39m (\n\u001b[0;32m    160\u001b[0m         \u001b[38;5;124mf\u001b[39m\u001b[38;5;124m\"\u001b[39m\u001b[38;5;130;01m\\n\u001b[39;00m\u001b[38;5;132;01m{\u001b[39;00mestimator_name\u001b[38;5;132;01m}\u001b[39;00m\u001b[38;5;124m does not accept missing values\u001b[39m\u001b[38;5;124m\"\u001b[39m\n\u001b[0;32m    161\u001b[0m         \u001b[38;5;124m\"\u001b[39m\u001b[38;5;124m encoded as NaN natively. For supervised learning, you might want\u001b[39m\u001b[38;5;124m\"\u001b[39m\n\u001b[1;32m   (...)\u001b[0m\n\u001b[0;32m    171\u001b[0m         \u001b[38;5;124m\"\u001b[39m\u001b[38;5;124m#estimators-that-handle-nan-values\u001b[39m\u001b[38;5;124m\"\u001b[39m\n\u001b[0;32m    172\u001b[0m     )\n\u001b[1;32m--> 173\u001b[0m \u001b[38;5;28;01mraise\u001b[39;00m \u001b[38;5;167;01mValueError\u001b[39;00m(msg_err)\n",
            "\u001b[1;31mValueError\u001b[0m: Input X contains NaN.\nRandomForestClassifier does not accept missing values encoded as NaN natively. For supervised learning, you might want to consider sklearn.ensemble.HistGradientBoostingClassifier and Regressor which accept missing values encoded as NaNs natively. Alternatively, it is possible to preprocess the data, for instance by using an imputer transformer in a pipeline or drop samples with missing values. See https://scikit-learn.org/stable/modules/impute.html You can find a list of all estimators that handle NaN values at the following page: https://scikit-learn.org/stable/modules/impute.html#estimators-that-handle-nan-values"
          ]
        }
      ],
      "source": [
        "# ----------------------\n",
        "# Step 6: Train Random Forest classifier\n",
        "# ----------------------\n",
        "start_time = timeit.default_timer()\n",
        "#rf_model = RandomForestClassifier(n_estimators=200, random_state=42, class_weight=\"balanced\")\n",
        "#rf_model.fit(X_train, y_train)\n",
        "\n",
        "# Uses Multiprocessing !BEWARE using all core might crash other running app and eventually TERMINATE this process\n",
        "#n_cores = max(1, multiprocessing.cpu_count() // 2)\n",
        "\n",
        "#rf_model = RandomForestClassifier(n_estimators=100, n_jobs=n_cores, max_depth=12,\n",
        "#                                  class_weight=\"balanced\", random_state=42)\n",
        "rf_model = RandomForestClassifier(\n",
        "    n_estimators=100,\n",
        "    max_depth=12,\n",
        "    max_features=\"sqrt\",\n",
        "    class_weight=\"balanced\",\n",
        "    random_state=42\n",
        ")\n",
        "\n",
        "rf_model.fit(X_train, y_train)\n",
        "\n",
        "elapsed = timeit.default_timer() - start_time\n",
        "print(\"\\u2705 RF Training completed! Elapsed time: %s minutes\" % str(elapsed / 60))"
      ]
    },
    {
      "cell_type": "code",
      "execution_count": null,
      "metadata": {
        "id": "n-kw6IFkyos5",
        "outputId": "8f4df136-cd8d-4fce-ca2f-045980d782ee"
      },
      "outputs": [
        {
          "name": "stdout",
          "output_type": "stream",
          "text": [
            "✅ All model assets saved.\n"
          ]
        }
      ],
      "source": [
        "# Save model\n",
        "joblib.dump(rf_model, r\"D:\\NDIS_Database\\rf_mission_model.joblib\")\n",
        "\n",
        "# Save label encoder\n",
        "joblib.dump(label_encoder, r\"D:\\NDIS_Database\\rf_label_encoder.joblib\")\n",
        "\n",
        "# Save feature list\n",
        "feature_list = [\n",
        "    \"HazardType\", \"distance\", \"pop\", \"intensity\",\n",
        "    \"duration_minutes\", \"economic_loss_million\",\n",
        "    \"sensor_weight\", \"drone_speed\", \"drone_flight_time\"\n",
        "]\n",
        "with open(r\"D:\\NDIS_Database\\rf_features.json\", \"w\") as f:\n",
        "    json.dump(feature_list, f)\n",
        "\n",
        "print(\"\\u2705 All model assets saved.\")"
      ]
    },
    {
      "cell_type": "code",
      "execution_count": null,
      "metadata": {
        "id": "p9aXbACoyos5"
      },
      "outputs": [],
      "source": [
        "# Load saved model and label encoder\n",
        "rf_model = joblib.load(r'D:\\NDIS_Database\\14_ExB_Dev\\ndis2\\rf_mission_model.joblib')         # Update with actual filename\n",
        "label_encoder = joblib.load(r'D:\\NDIS_Database\\14_ExB_Dev\\ndis2\\rf_label_encoder.joblib')     # Update with actual filename"
      ]
    },
    {
      "cell_type": "code",
      "execution_count": null,
      "metadata": {
        "id": "20xdh7M5yos5",
        "outputId": "49286c51-082b-4c34-dbd9-279039df4afe"
      },
      "outputs": [
        {
          "name": "stderr",
          "output_type": "stream",
          "text": [
            "\n",
            "KeyboardInterrupt\n",
            "\n"
          ]
        }
      ],
      "source": [
        "# Option B: Two-step pipeline (Sensor → Drone)\n",
        "\n",
        "\n",
        "# ---------------------------\n",
        "# Setup\n",
        "# ---------------------------\n",
        "context_features = [\n",
        "    \"HazardType\", \"distance\", \"pop\",\n",
        "    \"intensity\", \"duration_minutes\", \"economic_loss_million\"\n",
        "]\n",
        "\n",
        "# ---------------------------\n",
        "# Step 1: Predict Sensor\n",
        "# ---------------------------\n",
        "sensor_df = geohazard_df.dropna(subset=context_features + [\"selected_sensor\"]).copy()\n",
        "\n",
        "# Encode sensor labels\n",
        "sensor_encoder = LabelEncoder()\n",
        "sensor_df[\"sensor_label\"] = sensor_encoder.fit_transform(sensor_df[\"selected_sensor\"])\n",
        "\n",
        "X_sensor = sensor_df[context_features]\n",
        "y_sensor = sensor_df[\"sensor_label\"]\n",
        "\n",
        "X_train_s, X_test_s, y_train_s, y_test_s = train_test_split(\n",
        "    X_sensor, y_sensor, stratify=y_sensor, test_size=0.2, random_state=42\n",
        ")\n",
        "\n",
        "sensor_model = RandomForestClassifier(n_estimators=100, class_weight=\"balanced\", random_state=42)\n",
        "sensor_model.fit(X_train_s, y_train_s)\n",
        "\n",
        "# Evaluate\n",
        "print(\"Sensor Prediction Report:\")\n",
        "y_pred_s = sensor_model.predict(X_test_s)\n",
        "print(classification_report(y_test_s, y_pred_s, target_names=sensor_encoder.classes_))\n",
        "\n",
        "# ---------------------------\n",
        "# Step 2: Predict Drone\n",
        "# ---------------------------\n",
        "drone_df = geohazard_df.dropna(subset=context_features + [\"selected_sensor\", \"selected_drone\"]).copy()\n",
        "\n",
        "# Add encoded sensor as input feature\n",
        "sensor_map = dict(zip(sensor_df[\"HazardID\"], sensor_df[\"sensor_label\"]))\n",
        "drone_df[\"sensor_label\"] = drone_df[\"HazardID\"].map(sensor_map)\n",
        "\n",
        "# Drop if sensor couldn't be mapped\n",
        "drone_df = drone_df.dropna(subset=[\"sensor_label\"]).copy()\n",
        "drone_df[\"sensor_label\"] = drone_df[\"sensor_label\"].astype(int)\n",
        "\n",
        "# Encode drone labels\n",
        "drone_encoder = LabelEncoder()\n",
        "drone_df[\"drone_label\"] = drone_encoder.fit_transform(drone_df[\"selected_drone\"])\n",
        "\n",
        "X_drone = drone_df[context_features + [\"sensor_label\"]]\n",
        "y_drone = drone_df[\"drone_label\"]\n",
        "\n",
        "X_train_d, X_test_d, y_train_d, y_test_d = train_test_split(\n",
        "    X_drone, y_drone, stratify=y_drone, test_size=0.2, random_state=42\n",
        ")\n",
        "\n",
        "drone_model = RandomForestClassifier(n_estimators=100, class_weight=\"balanced\", random_state=42)\n",
        "drone_model.fit(X_train_d, y_train_d)\n",
        "\n",
        "# Evaluate\n",
        "print(\"\\nDrone Prediction Report:\")\n",
        "y_pred_d = drone_model.predict(X_test_d)\n",
        "print(classification_report(y_test_d, y_pred_d, target_names=drone_encoder.classes_))\n"
      ]
    },
    {
      "cell_type": "markdown",
      "metadata": {
        "id": "nPnZPVN5yos6"
      },
      "source": [
        "## RF Prediction and Evaluation"
      ]
    },
    {
      "cell_type": "code",
      "execution_count": null,
      "metadata": {
        "id": "7-m_DiWVyos6",
        "outputId": "7621bda9-4194-4514-8ace-50675e7e5b47"
      },
      "outputs": [
        {
          "name": "stdout",
          "output_type": "stream",
          "text": [
            "\n",
            "Classification Report:\n",
            "                                                                   precision    recall  f1-score   support\n",
            "\n",
            "                                         ACSL AirTruck + Seismic       0.90      1.00      0.95      4769\n",
            "  ACSL PF2-AE Delivery/Disaster-Relief/Patrol/Inspection + Lidar       0.96      1.00      0.98        67\n",
            "ACSL PF2-AE Delivery/Disaster-Relief/Patrol/Inspection + Seismic       1.00      1.00      1.00     18344\n",
            "                           AEE Aviation Technology G10 + Seismic       1.00      1.00      1.00     18907\n",
            "                                      Acecore Zetona 8 + Seismic       1.00      0.99      0.99      3029\n",
            "                        Aerialtronics Altura Zenith ATX8 + Lidar       1.00      1.00      1.00         7\n",
            "                      Aerialtronics Altura Zenith ATX8 + Seismic       1.00      0.99      1.00      5369\n",
            "                       AeroSense Aerobo Wing (AS-VT01) + Seismic       1.00      0.98      0.99      7541\n",
            "                    Aerosonde Ltd AAI Aerosonde Mk 4.3 + Seismic       1.00      1.00      1.00      6561\n",
            "                                              DJI AgrasT20 + GPR       1.00      1.00      1.00      1110\n",
            "                                          DJI Matrice100 + Lidar       0.94      0.98      0.96        65\n",
            "                                        DJI Matrice100 + Seismic       1.00      1.00      1.00      9085\n",
            "                                  DJI Matrice200SeriesV2 + Lidar       0.96      0.96      0.96        24\n",
            "                                DJI Matrice200SeriesV2 + Seismic       1.00      1.00      1.00      5857\n",
            "                                       DJI Matrice300RTK + Lidar       0.95      0.95      0.95        22\n",
            "                                     DJI Matrice300RTK + Seismic       1.00      0.99      0.99     10307\n",
            "                                              DJI S900 + Seismic       1.00      0.99      1.00      8227\n",
            "                                  Doosan Mobility Dj25 + Seismic       1.00      1.00      1.00     30006\n",
            "           Dragandfly Innovations Inc Heavy Lift Drone + Seismic       0.98      1.00      0.99      5418\n",
            "                 Dragandfly Innovations Inc Starling X.2 + Lidar       1.00      1.00      1.00         9\n",
            "               Dragandfly Innovations Inc Starling X.2 + Seismic       0.99      1.00      0.99     14305\n",
            "                                   Drone America Ariel + Seismic       1.00      1.00      1.00      8831\n",
            "                                 Drone America Phoebus + Seismic       1.00      1.00      1.00      3636\n",
            "                                    Drone America Savant + Lidar       0.89      1.00      0.94         8\n",
            "                                  Drone America Savant + Seismic       1.00      0.99      1.00     49973\n",
            "                                Drone Volt Hercules 10 + Seismic       1.00      0.99      0.99      3579\n",
            "                                             EAMS E484MP + Lidar       0.99      1.00      1.00       185\n",
            "                                           EAMS E484MP + Seismic       1.00      1.00      1.00     26797\n",
            "            Freespace Operation Callisto 50 Multirotor + Seismic       0.99      0.98      0.98      8311\n",
            "                        Garuda Robotics Cerana ONE Pro + Seismic       0.70      0.99      0.82       429\n",
            "                             Garuda Robotics Cerana X8 + Seismic       1.00      0.98      0.99      7975\n",
            "                             IDEAFLY Poseidon-480 Pro II + Lidar       1.00      1.00      1.00       986\n",
            "                           IDEAFLY Poseidon-480 Pro II + Seismic       1.00      1.00      1.00     53523\n",
            "                                        IDEAFLY Thor-850 + Lidar       1.00      1.00      1.00       217\n",
            "                                      IDEAFLY Thor-850 + Seismic       1.00      1.00      1.00     23493\n",
            "                                          JTT Spider C85 + Lidar       0.94      1.00      0.97        92\n",
            "                                        JTT Spider C85 + Seismic       1.00      1.00      1.00     14426\n",
            "                                       MMC Griflion M8 + Seismic       1.00      1.00      1.00     11430\n",
            "\n",
            "                                                        accuracy                           1.00    362920\n",
            "                                                       macro avg       0.98      0.99      0.99    362920\n",
            "                                                    weighted avg       1.00      1.00      1.00    362920\n",
            "\n"
          ]
        }
      ],
      "source": [
        "# ----------------------\n",
        "# Step 7: Predict and evaluate\n",
        "# ----------------------\n",
        "y_pred = rf_model.predict(X_test)\n",
        "\n",
        "# Only include labels present in y_test\n",
        "present_labels = sorted(set(y_test))\n",
        "\n",
        "print(\"\\nClassification Report:\\n\", classification_report(\n",
        "    y_test, y_pred,\n",
        "    labels=present_labels,\n",
        "    target_names=label_encoder.inverse_transform(present_labels)\n",
        "))\n",
        "\n",
        "\n",
        "# ----------------------\n",
        "# Step 8: Add predictions to full dataset\n",
        "# ----------------------\n",
        "rf_df[\"predicted_label\"] = label_encoder.inverse_transform(rf_model.predict(X))"
      ]
    },
    {
      "cell_type": "code",
      "execution_count": null,
      "metadata": {
        "id": "fhGtDqDbyos7",
        "outputId": "ed8603ad-26fb-4904-a91d-9a6bac8bdc95"
      },
      "outputs": [
        {
          "name": "stdout",
          "output_type": "stream",
          "text": [
            "Baseline (majority class) accuracy: 0.15\n"
          ]
        }
      ],
      "source": [
        "# Try random guessing baseline (predict most frequent class)\n",
        "most_common = rf_df[\"drone_sensor_combo\"].mode()[0]\n",
        "baseline_acc = (rf_df[\"drone_sensor_combo\"] == most_common).mean()\n",
        "print(f\"Baseline (majority class) accuracy: {baseline_acc:.2f}\")"
      ]
    },
    {
      "cell_type": "code",
      "execution_count": null,
      "metadata": {
        "id": "elZ8iD6cyos7",
        "outputId": "d886e74c-265e-4cfd-887a-9320cd778382"
      },
      "outputs": [
        {
          "name": "stdout",
          "output_type": "stream",
          "text": [
            "HazardType\n",
            "1    25\n",
            "2    12\n",
            "3    13\n",
            "4    26\n",
            "5    26\n",
            "Name: drone_sensor_combo, dtype: int64\n"
          ]
        }
      ],
      "source": [
        "print(rf_df.groupby(\"HazardType\")[\"drone_sensor_combo\"].nunique())"
      ]
    },
    {
      "cell_type": "code",
      "execution_count": null,
      "metadata": {
        "id": "fU0za5Ekyos8"
      },
      "outputs": [],
      "source": [
        "# Predict\n",
        "y_pred = rf_model.predict(X_test)\n",
        "\n",
        "# Create confusion matrix\n",
        "cm = confusion_matrix(y_test, y_pred)\n",
        "classes = label_encoder.inverse_transform(range(len(label_encoder.classes_)))\n",
        "\n",
        "# Create heatmap (optional: limit to top 10)\n",
        "cm_df = pd.DataFrame(cm, index=classes, columns=classes)\n",
        "top_classes = pd.Series(y_test).value_counts().nlargest(10).index\n",
        "top_class_labels = label_encoder.inverse_transform(top_classes)\n",
        "\n",
        "cm_df_small = cm_df.loc[top_class_labels, top_class_labels]\n",
        "\n",
        "plt.figure(figsize=(12, 10))\n",
        "sns.heatmap(cm_df_small, annot=True, fmt='g', cmap='Blues', cbar=True, square=True)\n",
        "plt.title('Confusion Matrix (Top 10 Drone+Sensor Labels)')\n",
        "plt.xlabel('Predicted Label')\n",
        "plt.ylabel('True Label')\n",
        "plt.xticks(rotation=45, ha='right')\n",
        "plt.yticks(rotation=0)\n",
        "plt.tight_layout()\n",
        "plt.show()"
      ]
    },
    {
      "cell_type": "code",
      "execution_count": null,
      "metadata": {
        "id": "tU-ZMYspyos8",
        "outputId": "0e6bb91d-251c-4187-c07b-3c00a3626d53"
      },
      "outputs": [
        {
          "data": {
            "image/png": "[encoded data removed]",
            "text/plain": [
              "<Figure size 640x480 with 2 Axes>"
            ]
          },
          "metadata": {},
          "output_type": "display_data"
        }
      ],
      "source": [
        "confusion_matrix = ConfusionMatrixDisplay.from_estimator(rf_model, X_test, y_test)\n",
        "cm_display = metrics.ConfusionMatrixDisplay(confusion_matrix = confusion_matrix, display_labels = [0, 1])\n",
        "\n",
        "cm_display.plot()\n",
        "plt.show()"
      ]
    },
    {
      "cell_type": "code",
      "execution_count": null,
      "metadata": {
        "id": "MQOgnx-Nyos9",
        "outputId": "97b24099-2a6b-4f1f-c344-c776a49f56df"
      },
      "outputs": [
        {
          "data": {
            "text/plain": [
              "label_encoded\n",
              "32    267616\n",
              "24    249865\n",
              "17    150030\n",
              "27    133986\n",
              "34    117466\n",
              "3      94532\n",
              "2      91717\n",
              "36     72130\n",
              "20     71522\n",
              "37     57152\n",
              "15     51536\n",
              "11     45424\n",
              "21     44153\n",
              "28     41556\n",
              "16     41133\n",
              "30     39874\n",
              "7      37706\n",
              "8      32806\n",
              "13     29283\n",
              "18     27091\n",
              "6      26847\n",
              "0      23847\n",
              "22     18181\n",
              "25     17893\n",
              "4      15146\n",
              "9       5551\n",
              "31      4929\n",
              "29      2143\n",
              "33      1085\n",
              "26       927\n",
              "35       461\n",
              "1        335\n",
              "10       327\n",
              "12       120\n",
              "14       108\n",
              "19        47\n",
              "23        38\n",
              "5         36\n",
              "Name: count, dtype: int64"
            ]
          },
          "execution_count": 47,
          "metadata": {},
          "output_type": "execute_result"
        }
      ],
      "source": [
        "y.value_counts()"
      ]
    },
    {
      "cell_type": "code",
      "execution_count": null,
      "metadata": {
        "id": "bI1IgZFXyos9"
      },
      "outputs": [],
      "source": [
        "# ----------------------\n",
        "# Step 9: Export result to CSV\n",
        "# ----------------------\n",
        "rf_df[[\n",
        "    \"HazardID\", \"predicted_label\", \"drone_sensor_combo\", *features, \"cpm_total_time\"\n",
        "]].to_csv(r\"D:\\NDIS_Database\\rf_mission_prediction.csv\", index=False)"
      ]
    },
    {
      "cell_type": "code",
      "execution_count": null,
      "metadata": {
        "id": "FhmslZZYyos9"
      },
      "outputs": [],
      "source": [
        "# Save model\n",
        "with open(\"rf_mission_model.pkl\", \"wb\") as f:\n",
        "    pickle.dump(rf_model, f)\n",
        "\n",
        "# Save label encoder\n",
        "with open(\"rf_label_encoder.pkl\", \"wb\") as f:\n",
        "    pickle.dump(label_encoder, f)\n",
        "\n",
        "# Save feature list (still use JSON here, it's lightweight and human-readable)\n",
        "feature_list = [\n",
        "    \"HazardType\", \"distance\", \"pop\", \"intensity\",\n",
        "    \"duration_minutes\", \"economic_loss_million\",\n",
        "    \"sensor_weight\", \"drone_speed\", \"drone_flight_time\"\n",
        "]\n",
        "with open(\"rf_features.json\", \"w\") as f:\n",
        "    json.dump(feature_list, f)\n",
        "\n",
        "print(\"✅ All model assets saved using pickle.\")"
      ]
    },
    {
      "cell_type": "code",
      "execution_count": null,
      "metadata": {
        "id": "cYG_q_xlyos-"
      },
      "outputs": [],
      "source": [
        "with open(\"rf_mission_model.pkl\", \"rb\") as f:\n",
        "    rf_model = pickle.load(f)\n",
        "\n",
        "with open(\"rf_label_encoder.pkl\", \"rb\") as f:\n",
        "    label_encoder = pickle.load(f)\n",
        "\n",
        "with open(\"rf_features.json\") as f:\n",
        "    feature_list = json.load(f)"
      ]
    },
    {
      "cell_type": "markdown",
      "metadata": {
        "id": "x34KI_n-yos-"
      },
      "source": [
        "---"
      ]
    },
    {
      "cell_type": "markdown",
      "metadata": {
        "id": "wv0QZwX7yos-"
      },
      "source": [
        "# Create a predict_mission() Function"
      ]
    },
    {
      "cell_type": "code",
      "execution_count": null,
      "metadata": {
        "id": "EhSOdju1yos_"
      },
      "outputs": [],
      "source": [
        "def predict_mission(input_dict):\n",
        "    # Load assets\n",
        "    model = joblib.load(\"rf_mission_model.joblib\")\n",
        "    encoder = joblib.load(\"rf_label_encoder.joblib\")\n",
        "    with open(\"rf_features.json\") as f:\n",
        "        features = json.load(f)\n",
        "\n",
        "    # Convert input to DataFrame\n",
        "    X_input = pd.DataFrame([input_dict])[features]\n",
        "\n",
        "    # Predict class\n",
        "    pred_class = model.predict(X_input)[0]\n",
        "    pred_label = encoder.inverse_transform([pred_class])[0]\n",
        "\n",
        "    return {\n",
        "        \"recommended_combo\": pred_label\n",
        "    }"
      ]
    },
    {
      "cell_type": "code",
      "execution_count": null,
      "metadata": {
        "id": "f4iXktpmyos_"
      },
      "outputs": [],
      "source": [
        "# Load saved model and label encoder\n",
        "rf_model = joblib.load(r'D:\\NDIS_Database\\14_ExB_Dev\\ndis2\\rf_mission_model.joblib')         # Update with actual filename\n",
        "label_encoder = joblib.load(r'D:\\NDIS_Database\\14_ExB_Dev\\ndis2\\rf_label_encoder.joblib')     # Update with actual filename\n",
        "\n",
        "# Full dataset\n",
        "df = geohazard_df\n",
        "\n",
        "X = df.drop('drone_sensor_combo', axis=1)\n",
        "y = label_encoder.transform(df['drone_sensor_combo'])  # encode using same encoder\n",
        "\n",
        "# Optionally split to simulate testing\n",
        "X_train, X_test, y_train, y_test = train_test_split(X, y, test_size=0.2, random_state=42)\n",
        "\n",
        "# Predict\n",
        "y_pred = rf_model.predict(X_test)\n",
        "\n",
        "# ----------------------\n",
        "# Step 4: Encode target label\n",
        "# ----------------------\n",
        "label_encoder = LabelEncoder()\n",
        "rf_df[\"label_encoded\"] = label_encoder.fit_transform(df[\"drone_sensor_combo\"])\n",
        "\n",
        "# ----------------------\n",
        "# Step 5: Split into training and testing\n",
        "# ----------------------\n",
        "X = rf_df[features]\n",
        "y = rf_df[\"label_encoded\"]\n",
        "\n",
        "# Create confusion matrix\n",
        "cm = confusion_matrix(y_test, y_pred)\n",
        "classes = label_encoder.inverse_transform(range(len(label_encoder.classes_)))\n",
        "\n",
        "# Create heatmap (optional: limit to top 10)\n",
        "cm_df = pd.DataFrame(cm, index=classes, columns=classes)\n",
        "top_classes = pd.Series(y_test).value_counts().nlargest(10).index\n",
        "top_class_labels = label_encoder.inverse_transform(top_classes)\n",
        "\n",
        "cm_df_small = cm_df.loc[top_class_labels, top_class_labels]\n",
        "\n",
        "plt.figure(figsize=(12, 10))\n",
        "sns.heatmap(cm_df_small, annot=True, fmt='g', cmap='Blues', cbar=True, square=True)\n",
        "plt.title('Confusion Matrix (Top 10 Drone+Sensor Labels)')\n",
        "plt.xlabel('Predicted Label')\n",
        "plt.ylabel('True Label')\n",
        "plt.xticks(rotation=45, ha='right')\n",
        "plt.yticks(rotation=0)\n",
        "plt.tight_layout()\n",
        "plt.show()"
      ]
    },
    {
      "cell_type": "markdown",
      "metadata": {
        "id": "xVbpSFqHyotA"
      },
      "source": [
        "---"
      ]
    },
    {
      "cell_type": "markdown",
      "metadata": {
        "id": "76aCNRgvyotA"
      },
      "source": [
        "# For Display Purpose"
      ]
    },
    {
      "cell_type": "code",
      "execution_count": null,
      "metadata": {
        "id": "5PPXx_NlyotA",
        "outputId": "dbdb094c-ed1c-4be6-c75c-100af152833c"
      },
      "outputs": [
        {
          "data": {
            "text/html": [
              "<div>\n",
              "<style scoped>\n",
              "    .dataframe tbody tr th:only-of-type {\n",
              "        vertical-align: middle;\n",
              "    }\n",
              "\n",
              "    .dataframe tbody tr th {\n",
              "        vertical-align: top;\n",
              "    }\n",
              "\n",
              "    .dataframe thead th {\n",
              "        text-align: right;\n",
              "    }\n",
              "</style>\n",
              "<table border=\"1\" class=\"dataframe\">\n",
              "  <thead>\n",
              "    <tr style=\"text-align: right;\">\n",
              "      <th></th>\n",
              "      <th>HazardID</th>\n",
              "      <th>latitude</th>\n",
              "      <th>longitude</th>\n",
              "      <th>HazardType</th>\n",
              "      <th>geometry</th>\n",
              "    </tr>\n",
              "  </thead>\n",
              "  <tbody>\n",
              "    <tr>\n",
              "      <th>0</th>\n",
              "      <td>2.100100e+05</td>\n",
              "      <td>50.170000</td>\n",
              "      <td>6.850000</td>\n",
              "      <td>1</td>\n",
              "      <td>POINT (6.85000 50.17000)</td>\n",
              "    </tr>\n",
              "    <tr>\n",
              "      <th>1</th>\n",
              "      <td>2.100200e+05</td>\n",
              "      <td>45.775000</td>\n",
              "      <td>2.970000</td>\n",
              "      <td>1</td>\n",
              "      <td>POINT (2.97000 45.77500)</td>\n",
              "    </tr>\n",
              "    <tr>\n",
              "      <th>2</th>\n",
              "      <td>2.100300e+05</td>\n",
              "      <td>42.170000</td>\n",
              "      <td>2.530000</td>\n",
              "      <td>1</td>\n",
              "      <td>POINT (2.53000 42.17000)</td>\n",
              "    </tr>\n",
              "    <tr>\n",
              "      <th>3</th>\n",
              "      <td>2.100400e+05</td>\n",
              "      <td>38.870000</td>\n",
              "      <td>-4.020000</td>\n",
              "      <td>1</td>\n",
              "      <td>POINT (-4.02000 38.87000)</td>\n",
              "    </tr>\n",
              "    <tr>\n",
              "      <th>4</th>\n",
              "      <td>2.110040e+05</td>\n",
              "      <td>41.730000</td>\n",
              "      <td>12.700000</td>\n",
              "      <td>1</td>\n",
              "      <td>POINT (12.70000 41.73000)</td>\n",
              "    </tr>\n",
              "    <tr>\n",
              "      <th>...</th>\n",
              "      <td>...</td>\n",
              "      <td>...</td>\n",
              "      <td>...</td>\n",
              "      <td>...</td>\n",
              "      <td>...</td>\n",
              "    </tr>\n",
              "    <tr>\n",
              "      <th>1933494</th>\n",
              "      <td>1.776288e+09</td>\n",
              "      <td>-14.438700</td>\n",
              "      <td>34.575740</td>\n",
              "      <td>4</td>\n",
              "      <td>POINT (34.57574 -14.43870)</td>\n",
              "    </tr>\n",
              "    <tr>\n",
              "      <th>1933495</th>\n",
              "      <td>1.771045e+09</td>\n",
              "      <td>-14.477742</td>\n",
              "      <td>34.599504</td>\n",
              "      <td>4</td>\n",
              "      <td>POINT (34.59950 -14.47774)</td>\n",
              "    </tr>\n",
              "    <tr>\n",
              "      <th>1933496</th>\n",
              "      <td>1.779958e+09</td>\n",
              "      <td>-14.516784</td>\n",
              "      <td>34.623267</td>\n",
              "      <td>4</td>\n",
              "      <td>POINT (34.62327 -14.51678)</td>\n",
              "    </tr>\n",
              "    <tr>\n",
              "      <th>1933497</th>\n",
              "      <td>1.778385e+09</td>\n",
              "      <td>-14.555826</td>\n",
              "      <td>34.647031</td>\n",
              "      <td>4</td>\n",
              "      <td>POINT (34.64703 -14.55583)</td>\n",
              "    </tr>\n",
              "    <tr>\n",
              "      <th>1933498</th>\n",
              "      <td>1.774715e+09</td>\n",
              "      <td>-14.581980</td>\n",
              "      <td>34.662950</td>\n",
              "      <td>4</td>\n",
              "      <td>POINT (34.66295 -14.58198)</td>\n",
              "    </tr>\n",
              "  </tbody>\n",
              "</table>\n",
              "<p>1933499 rows × 5 columns</p>\n",
              "</div>"
            ],
            "text/plain": [
              "             HazardID   latitude  longitude  HazardType  \\\n",
              "0        2.100100e+05  50.170000   6.850000           1   \n",
              "1        2.100200e+05  45.775000   2.970000           1   \n",
              "2        2.100300e+05  42.170000   2.530000           1   \n",
              "3        2.100400e+05  38.870000  -4.020000           1   \n",
              "4        2.110040e+05  41.730000  12.700000           1   \n",
              "...               ...        ...        ...         ...   \n",
              "1933494  1.776288e+09 -14.438700  34.575740           4   \n",
              "1933495  1.771045e+09 -14.477742  34.599504           4   \n",
              "1933496  1.779958e+09 -14.516784  34.623267           4   \n",
              "1933497  1.778385e+09 -14.555826  34.647031           4   \n",
              "1933498  1.774715e+09 -14.581980  34.662950           4   \n",
              "\n",
              "                           geometry  \n",
              "0          POINT (6.85000 50.17000)  \n",
              "1          POINT (2.97000 45.77500)  \n",
              "2          POINT (2.53000 42.17000)  \n",
              "3         POINT (-4.02000 38.87000)  \n",
              "4         POINT (12.70000 41.73000)  \n",
              "...                             ...  \n",
              "1933494  POINT (34.57574 -14.43870)  \n",
              "1933495  POINT (34.59950 -14.47774)  \n",
              "1933496  POINT (34.62327 -14.51678)  \n",
              "1933497  POINT (34.64703 -14.55583)  \n",
              "1933498  POINT (34.66295 -14.58198)  \n",
              "\n",
              "[1933499 rows x 5 columns]"
            ]
          },
          "execution_count": 5,
          "metadata": {},
          "output_type": "execute_result"
        }
      ],
      "source": [
        "ghz_gpkg = r\"D:\\NDIS_Database\\ghz84.gpkg\"\n",
        "# Load the GeoPackage\n",
        "ghz = gpd.read_file(ghz_gpkg, layer=\"ghz84\")\n",
        "ghz"
      ]
    },
    {
      "cell_type": "code",
      "execution_count": null,
      "metadata": {
        "id": "QZYMGvlOyotB",
        "outputId": "813a0050-7d5e-4162-9442-5ff7c3aebace"
      },
      "outputs": [
        {
          "name": "stdout",
          "output_type": "stream",
          "text": [
            "<class 'geopandas.geodataframe.GeoDataFrame'>\n",
            "RangeIndex: 1933499 entries, 0 to 1933498\n",
            "Data columns (total 5 columns):\n",
            " #   Column      Dtype   \n",
            "---  ------      -----   \n",
            " 0   HazardID    float64 \n",
            " 1   latitude    float64 \n",
            " 2   longitude   float64 \n",
            " 3   HazardType  int64   \n",
            " 4   geometry    geometry\n",
            "dtypes: float64(3), geometry(1), int64(1)\n",
            "memory usage: 73.8 MB\n"
          ]
        }
      ],
      "source": [
        "ghz.info()"
      ]
    },
    {
      "cell_type": "code",
      "execution_count": null,
      "metadata": {
        "id": "NexCTSKUyotB",
        "outputId": "2c2cdf94-963f-4116-bdec-eff972f5e19f"
      },
      "outputs": [
        {
          "name": "stdout",
          "output_type": "stream",
          "text": [
            "<class 'pandas.core.frame.DataFrame'>\n",
            "RangeIndex: 1814699 entries, 0 to 1814698\n",
            "Data columns (total 22 columns):\n",
            " #   Column                 Dtype  \n",
            "---  ------                 -----  \n",
            " 0   HazardID               int64  \n",
            " 1   latitude               float64\n",
            " 2   longitude              float64\n",
            " 3   HazardType             int64  \n",
            " 4   distance               float64\n",
            " 5   pop                    float64\n",
            " 6   intensity              float64\n",
            " 7   duration_minutes       float64\n",
            " 8   economic_loss_million  float64\n",
            " 9   selected_sensor        object \n",
            " 10  sensor_id              int64  \n",
            " 11  parameters             object \n",
            " 12  sensor_name            object \n",
            " 13  s_encoded              int64  \n",
            " 14  sensor_weight          int64  \n",
            " 15  selected_drone         object \n",
            " 16  drone_speed            float64\n",
            " 17  drone_flight_time      float64\n",
            " 18  travel_time            float64\n",
            " 19  monitor_time           float64\n",
            " 20  cpm_total_time         float64\n",
            " 21  coord                  object \n",
            "dtypes: float64(12), int64(5), object(5)\n",
            "memory usage: 304.6+ MB\n"
          ]
        }
      ],
      "source": [
        "geohazard_df.info()"
      ]
    },
    {
      "cell_type": "code",
      "execution_count": null,
      "metadata": {
        "id": "5glqxdkjyotC",
        "outputId": "b463feea-b0d2-43a3-adf6-ba65fe605ec9"
      },
      "outputs": [
        {
          "name": "stdout",
          "output_type": "stream",
          "text": [
            "Total input (ghz): 1933499\n",
            "Subset (geohazard_df): 1814699\n",
            "Filtered new rows: 118548\n",
            "Expected final count: 1933499\n",
            "Actual final count: 1933247\n",
            "<class 'pandas.core.frame.DataFrame'>\n",
            "RangeIndex: 1933247 entries, 0 to 1933246\n",
            "Data columns (total 22 columns):\n",
            " #   Column                 Dtype  \n",
            "---  ------                 -----  \n",
            " 0   HazardID               float64\n",
            " 1   latitude               float64\n",
            " 2   longitude              float64\n",
            " 3   HazardType             object \n",
            " 4   distance               float64\n",
            " 5   pop                    float64\n",
            " 6   intensity              float64\n",
            " 7   duration_minutes       float64\n",
            " 8   economic_loss_million  float64\n",
            " 9   selected_sensor        object \n",
            " 10  sensor_id              float64\n",
            " 11  parameters             object \n",
            " 12  sensor_name            object \n",
            " 13  s_encoded              float64\n",
            " 14  sensor_weight          float64\n",
            " 15  selected_drone         object \n",
            " 16  drone_speed            float64\n",
            " 17  drone_flight_time      float64\n",
            " 18  travel_time            float64\n",
            " 19  monitor_time           float64\n",
            " 20  cpm_total_time         float64\n",
            " 21  coord                  object \n",
            "dtypes: float64(16), object(6)\n",
            "memory usage: 324.5+ MB\n"
          ]
        }
      ],
      "source": [
        "# Step 1: Drop geometry from ghz if it's a GeoDataFrame\n",
        "ghz_df = pd.DataFrame(ghz.drop(columns='geometry'))\n",
        "\n",
        "# Round coordinates to avoid float mismatch\n",
        "geohazard_df['latitude'] = geohazard_df['latitude'].round(6)\n",
        "geohazard_df['longitude'] = geohazard_df['longitude'].round(6)\n",
        "ghz_df['latitude'] = ghz_df['latitude'].round(6)\n",
        "ghz_df['longitude'] = ghz_df['longitude'].round(6)\n",
        "\n",
        "# Step 2: Create a coordinate tuple in both DataFrames\n",
        "geohazard_df['coord'] = list(zip(geohazard_df['latitude'], geohazard_df['longitude'], geohazard_df['HazardType']))\n",
        "ghz_df['coord'] = list(zip(ghz_df['latitude'], ghz_df['longitude'], ghz_df['HazardType']))\n",
        "\n",
        "# Step 3: Filter only ghz rows with new coordinates\n",
        "existing_coords = set(geohazard_df['coord'])\n",
        "new_rows = ghz_df[~ghz_df['coord'].isin(existing_coords)]\n",
        "\n",
        "# Step 4: Reindex to match columns in geohazard_df\n",
        "new_rows_reindexed = new_rows.reindex(columns=geohazard_df.columns)\n",
        "\n",
        "print(f\"Total input (ghz): {len(ghz_df)}\")\n",
        "print(f\"Subset (geohazard_df): {len(geohazard_df)}\")\n",
        "print(f\"Filtered new rows: {len(new_rows)}\")\n",
        "print(f\"Expected final count: {len(ghz_df)}\")\n",
        "\n",
        "\n",
        "# Step 5: Concatenate\n",
        "combined_df = pd.concat([geohazard_df, new_rows_reindexed], ignore_index=True)\n",
        "\n",
        "print(f\"Actual final count: {len(combined_df)}\")\n",
        "\n",
        "# Map numeric HazardType to string labels\n",
        "hazard_type_map = {\n",
        "    1: 'Volcano',\n",
        "    2: 'Landslide',\n",
        "    3: 'Tsunami',\n",
        "    4: 'Fault',\n",
        "    5: 'Earthquake'\n",
        "}\n",
        "\n",
        "combined_df['HazardType'] = combined_df['HazardType'].map(hazard_type_map)\n",
        "\n",
        "combined_df.info()"
      ]
    },
    {
      "cell_type": "code",
      "execution_count": null,
      "metadata": {
        "id": "AWcfkLP_yotC",
        "outputId": "e7fa2912-3028-43f2-aa37-a138339c2543"
      },
      "outputs": [
        {
          "name": "stdout",
          "output_type": "stream",
          "text": [
            "Duplicate rows in ghz_df based on coordinates: 122570\n"
          ]
        }
      ],
      "source": [
        "# How many duplicate coordinate rows in ghz_df?\n",
        "ghz_df['coord'] = list(zip(ghz_df['latitude'], ghz_df['longitude']))\n",
        "dupe_coords = ghz_df.duplicated(subset='coord', keep=False)\n",
        "print(f\"Duplicate rows in ghz_df based on coordinates: {dupe_coords.sum()}\")"
      ]
    },
    {
      "cell_type": "code",
      "execution_count": null,
      "metadata": {
        "id": "5iDaNuUHyotD",
        "outputId": "5f049a73-99b0-41e0-a669-9f101f01b94c"
      },
      "outputs": [
        {
          "name": "stdout",
          "output_type": "stream",
          "text": [
            "Coords in geohazard_df that are NOT in ghz_df: 0\n"
          ]
        }
      ],
      "source": [
        "# Which geohazard_df coords are NOT in ghz_df?\n",
        "missing_coords = set(geohazard_df['coord']) - set(ghz_df['coord'])\n",
        "print(f\"Coords in geohazard_df that are NOT in ghz_df: {len(missing_coords)}\")"
      ]
    },
    {
      "cell_type": "code",
      "execution_count": null,
      "metadata": {
        "id": "IgyQ8WgmyotD",
        "outputId": "cf87539d-5437-41c4-f6c3-3d3409e4f1db"
      },
      "outputs": [
        {
          "name": "stdout",
          "output_type": "stream",
          "text": [
            "Total duplicate coord rows in ghz_df: 122570\n"
          ]
        }
      ],
      "source": [
        "# Check for duplicated coordinates in ghz_df\n",
        "ghz_df['coord'] = list(zip(ghz_df['latitude'], ghz_df['longitude']))\n",
        "dupes = ghz_df.duplicated(subset='coord', keep=False)\n",
        "\n",
        "print(f\"Total duplicate coord rows in ghz_df: {dupes.sum()}\")\n"
      ]
    },
    {
      "cell_type": "code",
      "execution_count": null,
      "metadata": {
        "id": "yFNRa6k5yotE",
        "outputId": "8284d07b-2dbb-4fcd-8eda-693c1723c486"
      },
      "outputs": [
        {
          "data": {
            "text/plain": [
              "1855570"
            ]
          },
          "execution_count": 18,
          "metadata": {},
          "output_type": "execute_result"
        }
      ],
      "source": [
        "# Drop duplicate coordinate rows before filtering\n",
        "ghz_df_unique = ghz_df.drop_duplicates(subset='coord')\n",
        "len(ghz_df_unique)"
      ]
    },
    {
      "cell_type": "code",
      "execution_count": null,
      "metadata": {
        "id": "rI0TeVOoyotF"
      },
      "outputs": [],
      "source": [
        "# Step 6: Recreate geometry\n",
        "from shapely.geometry import Point\n",
        "geometry = [Point(xy) for xy in zip(combined_df['longitude'], combined_df['latitude'])]\n",
        "combined_gdf = gpd.GeoDataFrame(combined_df.drop(columns='coord'), geometry=geometry, crs=\"EPSG:4326\")"
      ]
    },
    {
      "cell_type": "code",
      "execution_count": null,
      "metadata": {
        "id": "yhFuRkccyotF"
      },
      "outputs": [],
      "source": [
        "combined_gdf.to_file(r\"D:\\NDIS_Database\\13_NDIS_Display\\final_geohazard.gpkg\", layer=\"geohazards\", driver=\"GPKG\")"
      ]
    },
    {
      "cell_type": "code",
      "execution_count": null,
      "metadata": {
        "id": "dak__ly_yotF"
      },
      "outputs": [],
      "source": []
    }
  ],
  "metadata": {
    "kernelspec": {
      "display_name": "ArcGISPro",
      "language": "python",
      "name": "python3"
    },
    "language_info": {
      "file_extension": ".py",
      "mimetype": "text/x-python",
      "name": "python",
      "version": "3.11.10"
    },
    "colab": {
      "provenance": [],
      "toc_visible": true
    }
  },
  "nbformat": 4,
  "nbformat_minor": 0
}